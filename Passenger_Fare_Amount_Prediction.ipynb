{
  "nbformat": 4,
  "nbformat_minor": 0,
  "metadata": {
    "colab": {
      "provenance": [],
      "collapsed_sections": [],
      "authorship_tag": "ABX9TyPkMO50MutOrx1pbAZD/aDN",
      "include_colab_link": true
    },
    "kernelspec": {
      "name": "python3",
      "display_name": "Python 3"
    },
    "language_info": {
      "name": "python"
    }
  },
  "cells": [
    {
      "cell_type": "markdown",
      "metadata": {
        "id": "view-in-github",
        "colab_type": "text"
      },
      "source": [
        "<a href=\"https://colab.research.google.com/github/saahilahujaa/Passenger-Fare-Amount-Prediction/blob/main/Passenger_Fare_Amount_Prediction.ipynb\" target=\"_parent\"><img src=\"https://colab.research.google.com/assets/colab-badge.svg\" alt=\"Open In Colab\"/></a>"
      ]
    },
    {
      "cell_type": "markdown",
      "source": [
        "# **Passenger Fare Amount Prediction**"
      ],
      "metadata": {
        "id": "CJB1XasLpyun"
      }
    },
    {
      "cell_type": "markdown",
      "source": [
        "## **Objective** "
      ],
      "metadata": {
        "id": "Kuw9L-fup6Mc"
      }
    },
    {
      "cell_type": "markdown",
      "source": [
        "## **Importing Neccessary Libraries**\n",
        "Now in this section we'll import all the neccessary libraries and packages we'll require to develop the required model. Libraries like Pandas(and numpy), matplotlib(and seaborn) and sklearn are required for data manipulation, visualization and Machine Learning respectively."
      ],
      "metadata": {
        "id": "lrucKbEGp9EN"
      }
    },
    {
      "cell_type": "code",
      "execution_count": 1,
      "metadata": {
        "id": "jJeGkSBmpT0L"
      },
      "outputs": [],
      "source": [
        "# Importing data visualization libraries.\n",
        "import matplotlib.pyplot as plt\n",
        "%matplotlib inline\n",
        "import seaborn as sns\n",
        "\n",
        "# Importing data manipulation libraries.\n",
        "import pandas as pd\n",
        "import numpy as np\n",
        "\n",
        "# Datatime library for Date columns.\n",
        "from datetime import datetime\n",
        "import datetime as dt\n",
        "from operator import itemgetter\n",
        "\n",
        "# Importing preprocessing libraries. \n",
        "from sklearn.preprocessing import MinMaxScaler\n",
        "from sklearn.preprocessing import OneHotEncoder\n",
        "from sklearn.preprocessing import MultiLabelBinarizer\n",
        "\n",
        "# Importing various machine learning models.\n",
        "from sklearn.linear_model import LinearRegression\n",
        "from sklearn.linear_model import Lasso\n",
        "from sklearn.linear_model import Ridge\n",
        "from sklearn.linear_model import ElasticNet\n",
        "from sklearn.tree import DecisionTreeRegressor\n",
        "from sklearn.ensemble import RandomForestRegressor\n",
        "from sklearn.ensemble import GradientBoostingRegressor\n",
        "\n",
        "# Importing model selection libraries.\n",
        "from sklearn.model_selection import cross_validate\n",
        "from sklearn.model_selection import train_test_split\n",
        "from sklearn.model_selection import GridSearchCV\n",
        "from sklearn.model_selection import cross_val_score\n",
        "from sklearn.model_selection import RepeatedStratifiedKFold\n",
        "from sklearn.model_selection import RandomizedSearchCV\n",
        "\n",
        "# Importing from math library\n",
        "from math import radians, cos, sin, asin, sqrt\n",
        "\n",
        "# importing XGB regressor.\n",
        "from xgboost import XGBRegressor\n",
        "\n",
        "# Import metrics libraries for model evaluation.\n",
        "from sklearn import metrics\n",
        "from sklearn.metrics import r2_score\n",
        "from sklearn.metrics import mean_squared_error\n",
        "from sklearn.metrics import accuracy_score\n",
        "from sklearn.metrics import mean_absolute_error\n",
        "from sklearn.metrics import log_loss\n",
        "\n",
        "# Importing graphviz for visualizing decision trees.\n",
        "import graphviz\n",
        "import sklearn.tree as tree\n",
        "\n",
        "# Importing warnings library. The warnings module handles warnings in Python.\n",
        "import warnings\n",
        "warnings.filterwarnings('ignore')\n"
      ]
    },
    {
      "cell_type": "markdown",
      "source": [
        "## **Data Gathering and Discovery**\n",
        "Now in this section we'll import all the neccessary libraries and packages we'll require to develop the required model. Libraries like Pandas(and numpy), matplotlib(and seaborn) and sklearn are required for data manipulation, visualization and Machine Learning respectively."
      ],
      "metadata": {
        "id": "-JtOsuilptDf"
      }
    },
    {
      "cell_type": "code",
      "source": [
        "# Mounting the Google Drive to access data.\n",
        "from google.colab import drive\n",
        "drive.mount('/content/drive')"
      ],
      "metadata": {
        "colab": {
          "base_uri": "https://localhost:8080/"
        },
        "id": "ettQPzyQpf1v",
        "outputId": "314d13d5-6c20-4250-a170-caadc2a0f333"
      },
      "execution_count": 2,
      "outputs": [
        {
          "output_type": "stream",
          "name": "stdout",
          "text": [
            "Mounted at /content/drive\n"
          ]
        }
      ]
    },
    {
      "cell_type": "code",
      "source": [
        "# The variable Data_path contains the path of dataset stored in drive.\n",
        "data_path = \"/content/drive/MyDrive/Alma Better/Capstone Projects/Passenger Fare Amount Prediction/\"\n",
        "\n",
        "# Importing Cardiovascular risk Data File.\n",
        "trip_df = pd.read_csv(data_path + \"trip.csv\")\n",
        "\n",
        "# Show the dataframe.\n",
        "trip_df"
      ],
      "metadata": {
        "colab": {
          "base_uri": "https://localhost:8080/",
          "height": 641
        },
        "id": "1NwiPQ89pov3",
        "outputId": "400eb479-04b4-47a1-9670-871f944e09f1"
      },
      "execution_count": 3,
      "outputs": [
        {
          "output_type": "execute_result",
          "data": {
            "text/plain": [
              "           index                            key  fare_amount  \\\n",
              "0       24238194    2015-05-07 19:52:06.0000003          7.5   \n",
              "1       27835199    2009-07-17 20:04:56.0000002          7.7   \n",
              "2       44984355   2009-08-24 21:45:00.00000061         12.9   \n",
              "3       25894730    2009-06-26 08:22:21.0000001          5.3   \n",
              "4       17610152  2014-08-28 17:47:00.000000188         16.0   \n",
              "...          ...                            ...          ...   \n",
              "199995  42598914   2012-10-28 10:49:00.00000053          3.0   \n",
              "199996  16382965    2014-03-14 01:09:00.0000008          7.5   \n",
              "199997  27804658   2009-06-29 00:42:00.00000078         30.9   \n",
              "199998  20259894    2015-05-20 14:56:25.0000004         14.5   \n",
              "199999  11951496   2010-05-15 04:08:00.00000076         14.1   \n",
              "\n",
              "                pickup_datetime  pickup_longitude  pickup_latitude  \\\n",
              "0       2015-05-07 19:52:06 UTC        -73.999817        40.738354   \n",
              "1       2009-07-17 20:04:56 UTC        -73.994355        40.728225   \n",
              "2       2009-08-24 21:45:00 UTC        -74.005043        40.740770   \n",
              "3       2009-06-26 08:22:21 UTC        -73.976124        40.790844   \n",
              "4       2014-08-28 17:47:00 UTC        -73.925023        40.744085   \n",
              "...                         ...               ...              ...   \n",
              "199995  2012-10-28 10:49:00 UTC        -73.987042        40.739367   \n",
              "199996  2014-03-14 01:09:00 UTC        -73.984722        40.736837   \n",
              "199997  2009-06-29 00:42:00 UTC        -73.986017        40.756487   \n",
              "199998  2015-05-20 14:56:25 UTC        -73.997124        40.725452   \n",
              "199999  2010-05-15 04:08:00 UTC        -73.984395        40.720077   \n",
              "\n",
              "        dropoff_longitude  dropoff_latitude  passenger_count  \n",
              "0              -73.999512         40.723217                1  \n",
              "1              -73.994710         40.750325                1  \n",
              "2              -73.962565         40.772647                1  \n",
              "3              -73.965316         40.803349                3  \n",
              "4              -73.973082         40.761247                5  \n",
              "...                   ...               ...              ...  \n",
              "199995         -73.986525         40.740297                1  \n",
              "199996         -74.006672         40.739620                1  \n",
              "199997         -73.858957         40.692588                2  \n",
              "199998         -73.983215         40.695415                1  \n",
              "199999         -73.985508         40.768793                1  \n",
              "\n",
              "[200000 rows x 9 columns]"
            ],
            "text/html": [
              "\n",
              "  <div id=\"df-a2d0427e-4006-4b3a-a600-738530aeb9b0\">\n",
              "    <div class=\"colab-df-container\">\n",
              "      <div>\n",
              "<style scoped>\n",
              "    .dataframe tbody tr th:only-of-type {\n",
              "        vertical-align: middle;\n",
              "    }\n",
              "\n",
              "    .dataframe tbody tr th {\n",
              "        vertical-align: top;\n",
              "    }\n",
              "\n",
              "    .dataframe thead th {\n",
              "        text-align: right;\n",
              "    }\n",
              "</style>\n",
              "<table border=\"1\" class=\"dataframe\">\n",
              "  <thead>\n",
              "    <tr style=\"text-align: right;\">\n",
              "      <th></th>\n",
              "      <th>index</th>\n",
              "      <th>key</th>\n",
              "      <th>fare_amount</th>\n",
              "      <th>pickup_datetime</th>\n",
              "      <th>pickup_longitude</th>\n",
              "      <th>pickup_latitude</th>\n",
              "      <th>dropoff_longitude</th>\n",
              "      <th>dropoff_latitude</th>\n",
              "      <th>passenger_count</th>\n",
              "    </tr>\n",
              "  </thead>\n",
              "  <tbody>\n",
              "    <tr>\n",
              "      <th>0</th>\n",
              "      <td>24238194</td>\n",
              "      <td>2015-05-07 19:52:06.0000003</td>\n",
              "      <td>7.5</td>\n",
              "      <td>2015-05-07 19:52:06 UTC</td>\n",
              "      <td>-73.999817</td>\n",
              "      <td>40.738354</td>\n",
              "      <td>-73.999512</td>\n",
              "      <td>40.723217</td>\n",
              "      <td>1</td>\n",
              "    </tr>\n",
              "    <tr>\n",
              "      <th>1</th>\n",
              "      <td>27835199</td>\n",
              "      <td>2009-07-17 20:04:56.0000002</td>\n",
              "      <td>7.7</td>\n",
              "      <td>2009-07-17 20:04:56 UTC</td>\n",
              "      <td>-73.994355</td>\n",
              "      <td>40.728225</td>\n",
              "      <td>-73.994710</td>\n",
              "      <td>40.750325</td>\n",
              "      <td>1</td>\n",
              "    </tr>\n",
              "    <tr>\n",
              "      <th>2</th>\n",
              "      <td>44984355</td>\n",
              "      <td>2009-08-24 21:45:00.00000061</td>\n",
              "      <td>12.9</td>\n",
              "      <td>2009-08-24 21:45:00 UTC</td>\n",
              "      <td>-74.005043</td>\n",
              "      <td>40.740770</td>\n",
              "      <td>-73.962565</td>\n",
              "      <td>40.772647</td>\n",
              "      <td>1</td>\n",
              "    </tr>\n",
              "    <tr>\n",
              "      <th>3</th>\n",
              "      <td>25894730</td>\n",
              "      <td>2009-06-26 08:22:21.0000001</td>\n",
              "      <td>5.3</td>\n",
              "      <td>2009-06-26 08:22:21 UTC</td>\n",
              "      <td>-73.976124</td>\n",
              "      <td>40.790844</td>\n",
              "      <td>-73.965316</td>\n",
              "      <td>40.803349</td>\n",
              "      <td>3</td>\n",
              "    </tr>\n",
              "    <tr>\n",
              "      <th>4</th>\n",
              "      <td>17610152</td>\n",
              "      <td>2014-08-28 17:47:00.000000188</td>\n",
              "      <td>16.0</td>\n",
              "      <td>2014-08-28 17:47:00 UTC</td>\n",
              "      <td>-73.925023</td>\n",
              "      <td>40.744085</td>\n",
              "      <td>-73.973082</td>\n",
              "      <td>40.761247</td>\n",
              "      <td>5</td>\n",
              "    </tr>\n",
              "    <tr>\n",
              "      <th>...</th>\n",
              "      <td>...</td>\n",
              "      <td>...</td>\n",
              "      <td>...</td>\n",
              "      <td>...</td>\n",
              "      <td>...</td>\n",
              "      <td>...</td>\n",
              "      <td>...</td>\n",
              "      <td>...</td>\n",
              "      <td>...</td>\n",
              "    </tr>\n",
              "    <tr>\n",
              "      <th>199995</th>\n",
              "      <td>42598914</td>\n",
              "      <td>2012-10-28 10:49:00.00000053</td>\n",
              "      <td>3.0</td>\n",
              "      <td>2012-10-28 10:49:00 UTC</td>\n",
              "      <td>-73.987042</td>\n",
              "      <td>40.739367</td>\n",
              "      <td>-73.986525</td>\n",
              "      <td>40.740297</td>\n",
              "      <td>1</td>\n",
              "    </tr>\n",
              "    <tr>\n",
              "      <th>199996</th>\n",
              "      <td>16382965</td>\n",
              "      <td>2014-03-14 01:09:00.0000008</td>\n",
              "      <td>7.5</td>\n",
              "      <td>2014-03-14 01:09:00 UTC</td>\n",
              "      <td>-73.984722</td>\n",
              "      <td>40.736837</td>\n",
              "      <td>-74.006672</td>\n",
              "      <td>40.739620</td>\n",
              "      <td>1</td>\n",
              "    </tr>\n",
              "    <tr>\n",
              "      <th>199997</th>\n",
              "      <td>27804658</td>\n",
              "      <td>2009-06-29 00:42:00.00000078</td>\n",
              "      <td>30.9</td>\n",
              "      <td>2009-06-29 00:42:00 UTC</td>\n",
              "      <td>-73.986017</td>\n",
              "      <td>40.756487</td>\n",
              "      <td>-73.858957</td>\n",
              "      <td>40.692588</td>\n",
              "      <td>2</td>\n",
              "    </tr>\n",
              "    <tr>\n",
              "      <th>199998</th>\n",
              "      <td>20259894</td>\n",
              "      <td>2015-05-20 14:56:25.0000004</td>\n",
              "      <td>14.5</td>\n",
              "      <td>2015-05-20 14:56:25 UTC</td>\n",
              "      <td>-73.997124</td>\n",
              "      <td>40.725452</td>\n",
              "      <td>-73.983215</td>\n",
              "      <td>40.695415</td>\n",
              "      <td>1</td>\n",
              "    </tr>\n",
              "    <tr>\n",
              "      <th>199999</th>\n",
              "      <td>11951496</td>\n",
              "      <td>2010-05-15 04:08:00.00000076</td>\n",
              "      <td>14.1</td>\n",
              "      <td>2010-05-15 04:08:00 UTC</td>\n",
              "      <td>-73.984395</td>\n",
              "      <td>40.720077</td>\n",
              "      <td>-73.985508</td>\n",
              "      <td>40.768793</td>\n",
              "      <td>1</td>\n",
              "    </tr>\n",
              "  </tbody>\n",
              "</table>\n",
              "<p>200000 rows × 9 columns</p>\n",
              "</div>\n",
              "      <button class=\"colab-df-convert\" onclick=\"convertToInteractive('df-a2d0427e-4006-4b3a-a600-738530aeb9b0')\"\n",
              "              title=\"Convert this dataframe to an interactive table.\"\n",
              "              style=\"display:none;\">\n",
              "        \n",
              "  <svg xmlns=\"http://www.w3.org/2000/svg\" height=\"24px\"viewBox=\"0 0 24 24\"\n",
              "       width=\"24px\">\n",
              "    <path d=\"M0 0h24v24H0V0z\" fill=\"none\"/>\n",
              "    <path d=\"M18.56 5.44l.94 2.06.94-2.06 2.06-.94-2.06-.94-.94-2.06-.94 2.06-2.06.94zm-11 1L8.5 8.5l.94-2.06 2.06-.94-2.06-.94L8.5 2.5l-.94 2.06-2.06.94zm10 10l.94 2.06.94-2.06 2.06-.94-2.06-.94-.94-2.06-.94 2.06-2.06.94z\"/><path d=\"M17.41 7.96l-1.37-1.37c-.4-.4-.92-.59-1.43-.59-.52 0-1.04.2-1.43.59L10.3 9.45l-7.72 7.72c-.78.78-.78 2.05 0 2.83L4 21.41c.39.39.9.59 1.41.59.51 0 1.02-.2 1.41-.59l7.78-7.78 2.81-2.81c.8-.78.8-2.07 0-2.86zM5.41 20L4 18.59l7.72-7.72 1.47 1.35L5.41 20z\"/>\n",
              "  </svg>\n",
              "      </button>\n",
              "      \n",
              "  <style>\n",
              "    .colab-df-container {\n",
              "      display:flex;\n",
              "      flex-wrap:wrap;\n",
              "      gap: 12px;\n",
              "    }\n",
              "\n",
              "    .colab-df-convert {\n",
              "      background-color: #E8F0FE;\n",
              "      border: none;\n",
              "      border-radius: 50%;\n",
              "      cursor: pointer;\n",
              "      display: none;\n",
              "      fill: #1967D2;\n",
              "      height: 32px;\n",
              "      padding: 0 0 0 0;\n",
              "      width: 32px;\n",
              "    }\n",
              "\n",
              "    .colab-df-convert:hover {\n",
              "      background-color: #E2EBFA;\n",
              "      box-shadow: 0px 1px 2px rgba(60, 64, 67, 0.3), 0px 1px 3px 1px rgba(60, 64, 67, 0.15);\n",
              "      fill: #174EA6;\n",
              "    }\n",
              "\n",
              "    [theme=dark] .colab-df-convert {\n",
              "      background-color: #3B4455;\n",
              "      fill: #D2E3FC;\n",
              "    }\n",
              "\n",
              "    [theme=dark] .colab-df-convert:hover {\n",
              "      background-color: #434B5C;\n",
              "      box-shadow: 0px 1px 3px 1px rgba(0, 0, 0, 0.15);\n",
              "      filter: drop-shadow(0px 1px 2px rgba(0, 0, 0, 0.3));\n",
              "      fill: #FFFFFF;\n",
              "    }\n",
              "  </style>\n",
              "\n",
              "      <script>\n",
              "        const buttonEl =\n",
              "          document.querySelector('#df-a2d0427e-4006-4b3a-a600-738530aeb9b0 button.colab-df-convert');\n",
              "        buttonEl.style.display =\n",
              "          google.colab.kernel.accessAllowed ? 'block' : 'none';\n",
              "\n",
              "        async function convertToInteractive(key) {\n",
              "          const element = document.querySelector('#df-a2d0427e-4006-4b3a-a600-738530aeb9b0');\n",
              "          const dataTable =\n",
              "            await google.colab.kernel.invokeFunction('convertToInteractive',\n",
              "                                                     [key], {});\n",
              "          if (!dataTable) return;\n",
              "\n",
              "          const docLinkHtml = 'Like what you see? Visit the ' +\n",
              "            '<a target=\"_blank\" href=https://colab.research.google.com/notebooks/data_table.ipynb>data table notebook</a>'\n",
              "            + ' to learn more about interactive tables.';\n",
              "          element.innerHTML = '';\n",
              "          dataTable['output_type'] = 'display_data';\n",
              "          await google.colab.output.renderOutput(dataTable, element);\n",
              "          const docLink = document.createElement('div');\n",
              "          docLink.innerHTML = docLinkHtml;\n",
              "          element.appendChild(docLink);\n",
              "        }\n",
              "      </script>\n",
              "    </div>\n",
              "  </div>\n",
              "  "
            ]
          },
          "metadata": {},
          "execution_count": 3
        }
      ]
    },
    {
      "cell_type": "markdown",
      "source": [
        "Now lets see the first few rows to the dataset to understand the data and see what all attributes are present in the data file."
      ],
      "metadata": {
        "id": "8HZqHLCzqhJv"
      }
    },
    {
      "cell_type": "code",
      "source": [
        "# First 5 rows of dataset.\n",
        "trip_df.head()"
      ],
      "metadata": {
        "colab": {
          "base_uri": "https://localhost:8080/",
          "height": 337
        },
        "id": "K5d1DwNhqcbx",
        "outputId": "9bb299e0-5b61-4e46-f619-dca9b7fdfe3b"
      },
      "execution_count": 4,
      "outputs": [
        {
          "output_type": "execute_result",
          "data": {
            "text/plain": [
              "      index                            key  fare_amount  \\\n",
              "0  24238194    2015-05-07 19:52:06.0000003          7.5   \n",
              "1  27835199    2009-07-17 20:04:56.0000002          7.7   \n",
              "2  44984355   2009-08-24 21:45:00.00000061         12.9   \n",
              "3  25894730    2009-06-26 08:22:21.0000001          5.3   \n",
              "4  17610152  2014-08-28 17:47:00.000000188         16.0   \n",
              "\n",
              "           pickup_datetime  pickup_longitude  pickup_latitude  \\\n",
              "0  2015-05-07 19:52:06 UTC        -73.999817        40.738354   \n",
              "1  2009-07-17 20:04:56 UTC        -73.994355        40.728225   \n",
              "2  2009-08-24 21:45:00 UTC        -74.005043        40.740770   \n",
              "3  2009-06-26 08:22:21 UTC        -73.976124        40.790844   \n",
              "4  2014-08-28 17:47:00 UTC        -73.925023        40.744085   \n",
              "\n",
              "   dropoff_longitude  dropoff_latitude  passenger_count  \n",
              "0         -73.999512         40.723217                1  \n",
              "1         -73.994710         40.750325                1  \n",
              "2         -73.962565         40.772647                1  \n",
              "3         -73.965316         40.803349                3  \n",
              "4         -73.973082         40.761247                5  "
            ],
            "text/html": [
              "\n",
              "  <div id=\"df-e17aaad4-1d07-4ee6-8b3a-3e00b4a1cd3b\">\n",
              "    <div class=\"colab-df-container\">\n",
              "      <div>\n",
              "<style scoped>\n",
              "    .dataframe tbody tr th:only-of-type {\n",
              "        vertical-align: middle;\n",
              "    }\n",
              "\n",
              "    .dataframe tbody tr th {\n",
              "        vertical-align: top;\n",
              "    }\n",
              "\n",
              "    .dataframe thead th {\n",
              "        text-align: right;\n",
              "    }\n",
              "</style>\n",
              "<table border=\"1\" class=\"dataframe\">\n",
              "  <thead>\n",
              "    <tr style=\"text-align: right;\">\n",
              "      <th></th>\n",
              "      <th>index</th>\n",
              "      <th>key</th>\n",
              "      <th>fare_amount</th>\n",
              "      <th>pickup_datetime</th>\n",
              "      <th>pickup_longitude</th>\n",
              "      <th>pickup_latitude</th>\n",
              "      <th>dropoff_longitude</th>\n",
              "      <th>dropoff_latitude</th>\n",
              "      <th>passenger_count</th>\n",
              "    </tr>\n",
              "  </thead>\n",
              "  <tbody>\n",
              "    <tr>\n",
              "      <th>0</th>\n",
              "      <td>24238194</td>\n",
              "      <td>2015-05-07 19:52:06.0000003</td>\n",
              "      <td>7.5</td>\n",
              "      <td>2015-05-07 19:52:06 UTC</td>\n",
              "      <td>-73.999817</td>\n",
              "      <td>40.738354</td>\n",
              "      <td>-73.999512</td>\n",
              "      <td>40.723217</td>\n",
              "      <td>1</td>\n",
              "    </tr>\n",
              "    <tr>\n",
              "      <th>1</th>\n",
              "      <td>27835199</td>\n",
              "      <td>2009-07-17 20:04:56.0000002</td>\n",
              "      <td>7.7</td>\n",
              "      <td>2009-07-17 20:04:56 UTC</td>\n",
              "      <td>-73.994355</td>\n",
              "      <td>40.728225</td>\n",
              "      <td>-73.994710</td>\n",
              "      <td>40.750325</td>\n",
              "      <td>1</td>\n",
              "    </tr>\n",
              "    <tr>\n",
              "      <th>2</th>\n",
              "      <td>44984355</td>\n",
              "      <td>2009-08-24 21:45:00.00000061</td>\n",
              "      <td>12.9</td>\n",
              "      <td>2009-08-24 21:45:00 UTC</td>\n",
              "      <td>-74.005043</td>\n",
              "      <td>40.740770</td>\n",
              "      <td>-73.962565</td>\n",
              "      <td>40.772647</td>\n",
              "      <td>1</td>\n",
              "    </tr>\n",
              "    <tr>\n",
              "      <th>3</th>\n",
              "      <td>25894730</td>\n",
              "      <td>2009-06-26 08:22:21.0000001</td>\n",
              "      <td>5.3</td>\n",
              "      <td>2009-06-26 08:22:21 UTC</td>\n",
              "      <td>-73.976124</td>\n",
              "      <td>40.790844</td>\n",
              "      <td>-73.965316</td>\n",
              "      <td>40.803349</td>\n",
              "      <td>3</td>\n",
              "    </tr>\n",
              "    <tr>\n",
              "      <th>4</th>\n",
              "      <td>17610152</td>\n",
              "      <td>2014-08-28 17:47:00.000000188</td>\n",
              "      <td>16.0</td>\n",
              "      <td>2014-08-28 17:47:00 UTC</td>\n",
              "      <td>-73.925023</td>\n",
              "      <td>40.744085</td>\n",
              "      <td>-73.973082</td>\n",
              "      <td>40.761247</td>\n",
              "      <td>5</td>\n",
              "    </tr>\n",
              "  </tbody>\n",
              "</table>\n",
              "</div>\n",
              "      <button class=\"colab-df-convert\" onclick=\"convertToInteractive('df-e17aaad4-1d07-4ee6-8b3a-3e00b4a1cd3b')\"\n",
              "              title=\"Convert this dataframe to an interactive table.\"\n",
              "              style=\"display:none;\">\n",
              "        \n",
              "  <svg xmlns=\"http://www.w3.org/2000/svg\" height=\"24px\"viewBox=\"0 0 24 24\"\n",
              "       width=\"24px\">\n",
              "    <path d=\"M0 0h24v24H0V0z\" fill=\"none\"/>\n",
              "    <path d=\"M18.56 5.44l.94 2.06.94-2.06 2.06-.94-2.06-.94-.94-2.06-.94 2.06-2.06.94zm-11 1L8.5 8.5l.94-2.06 2.06-.94-2.06-.94L8.5 2.5l-.94 2.06-2.06.94zm10 10l.94 2.06.94-2.06 2.06-.94-2.06-.94-.94-2.06-.94 2.06-2.06.94z\"/><path d=\"M17.41 7.96l-1.37-1.37c-.4-.4-.92-.59-1.43-.59-.52 0-1.04.2-1.43.59L10.3 9.45l-7.72 7.72c-.78.78-.78 2.05 0 2.83L4 21.41c.39.39.9.59 1.41.59.51 0 1.02-.2 1.41-.59l7.78-7.78 2.81-2.81c.8-.78.8-2.07 0-2.86zM5.41 20L4 18.59l7.72-7.72 1.47 1.35L5.41 20z\"/>\n",
              "  </svg>\n",
              "      </button>\n",
              "      \n",
              "  <style>\n",
              "    .colab-df-container {\n",
              "      display:flex;\n",
              "      flex-wrap:wrap;\n",
              "      gap: 12px;\n",
              "    }\n",
              "\n",
              "    .colab-df-convert {\n",
              "      background-color: #E8F0FE;\n",
              "      border: none;\n",
              "      border-radius: 50%;\n",
              "      cursor: pointer;\n",
              "      display: none;\n",
              "      fill: #1967D2;\n",
              "      height: 32px;\n",
              "      padding: 0 0 0 0;\n",
              "      width: 32px;\n",
              "    }\n",
              "\n",
              "    .colab-df-convert:hover {\n",
              "      background-color: #E2EBFA;\n",
              "      box-shadow: 0px 1px 2px rgba(60, 64, 67, 0.3), 0px 1px 3px 1px rgba(60, 64, 67, 0.15);\n",
              "      fill: #174EA6;\n",
              "    }\n",
              "\n",
              "    [theme=dark] .colab-df-convert {\n",
              "      background-color: #3B4455;\n",
              "      fill: #D2E3FC;\n",
              "    }\n",
              "\n",
              "    [theme=dark] .colab-df-convert:hover {\n",
              "      background-color: #434B5C;\n",
              "      box-shadow: 0px 1px 3px 1px rgba(0, 0, 0, 0.15);\n",
              "      filter: drop-shadow(0px 1px 2px rgba(0, 0, 0, 0.3));\n",
              "      fill: #FFFFFF;\n",
              "    }\n",
              "  </style>\n",
              "\n",
              "      <script>\n",
              "        const buttonEl =\n",
              "          document.querySelector('#df-e17aaad4-1d07-4ee6-8b3a-3e00b4a1cd3b button.colab-df-convert');\n",
              "        buttonEl.style.display =\n",
              "          google.colab.kernel.accessAllowed ? 'block' : 'none';\n",
              "\n",
              "        async function convertToInteractive(key) {\n",
              "          const element = document.querySelector('#df-e17aaad4-1d07-4ee6-8b3a-3e00b4a1cd3b');\n",
              "          const dataTable =\n",
              "            await google.colab.kernel.invokeFunction('convertToInteractive',\n",
              "                                                     [key], {});\n",
              "          if (!dataTable) return;\n",
              "\n",
              "          const docLinkHtml = 'Like what you see? Visit the ' +\n",
              "            '<a target=\"_blank\" href=https://colab.research.google.com/notebooks/data_table.ipynb>data table notebook</a>'\n",
              "            + ' to learn more about interactive tables.';\n",
              "          element.innerHTML = '';\n",
              "          dataTable['output_type'] = 'display_data';\n",
              "          await google.colab.output.renderOutput(dataTable, element);\n",
              "          const docLink = document.createElement('div');\n",
              "          docLink.innerHTML = docLinkHtml;\n",
              "          element.appendChild(docLink);\n",
              "        }\n",
              "      </script>\n",
              "    </div>\n",
              "  </div>\n",
              "  "
            ]
          },
          "metadata": {},
          "execution_count": 4
        }
      ]
    },
    {
      "cell_type": "code",
      "source": [
        "# Shape of the data file (rows, columns).\n",
        "trip_df.shape"
      ],
      "metadata": {
        "colab": {
          "base_uri": "https://localhost:8080/"
        },
        "id": "c4_TSQyJqjlI",
        "outputId": "2fc826a1-935a-4c6f-a3da-496dd9d7e208"
      },
      "execution_count": 5,
      "outputs": [
        {
          "output_type": "execute_result",
          "data": {
            "text/plain": [
              "(200000, 9)"
            ]
          },
          "metadata": {},
          "execution_count": 5
        }
      ]
    },
    {
      "cell_type": "markdown",
      "source": [
        "The dataset contains the details of various trips when customers booked the taxi to reach their respective destination. It includes 2,00,000 records and 9 attributes."
      ],
      "metadata": {
        "id": "1aBci85mq0Hh"
      }
    },
    {
      "cell_type": "markdown",
      "source": [
        "**Data Description and Attributes:-**\n",
        "\n",
        "*   index - a unique identifier for each trip.\n",
        "\n",
        "*   key - timestamp when the meter was engaged.\n",
        "\n",
        "*   pickup_datetime - date and time when the meter was engaged.\n",
        "\n",
        "*   passenger_count - the number of passengers in the vehicle (driver entered value).\n",
        "\n",
        "*   pickup_longitude - the longitude where the meter was engaged.\n",
        "\n",
        "*   pickup_latitude - the latitude where the meter was engaged.\n",
        "\n",
        "*   dropoff_longitude - the longitude where the meter was disengaged.\n",
        "\n",
        "*   dropoff_latitude - the latitude where the meter was disengaged.\n",
        "\n",
        "**Dependent Variable:-**\n",
        "\n",
        "*   ***fare_amount - the cost of each trip in USD.***"
      ],
      "metadata": {
        "id": "UgqDmZiwrKex"
      }
    },
    {
      "cell_type": "code",
      "source": [
        "# Description of all columns in the dataset.\n",
        "trip_df.describe(include = 'all').T"
      ],
      "metadata": {
        "colab": {
          "base_uri": "https://localhost:8080/",
          "height": 376
        },
        "id": "mIAdE8sVqwGg",
        "outputId": "d023d031-6f20-4a20-8591-99a4e0c50f30"
      },
      "execution_count": 6,
      "outputs": [
        {
          "output_type": "execute_result",
          "data": {
            "text/plain": [
              "                      count  unique                          top freq  \\\n",
              "index              200000.0     NaN                          NaN  NaN   \n",
              "key                  200000  200000  2015-05-07 19:52:06.0000003    1   \n",
              "fare_amount        200000.0     NaN                          NaN  NaN   \n",
              "pickup_datetime      200000  196629      2014-04-13 18:19:00 UTC    4   \n",
              "pickup_longitude   200000.0     NaN                          NaN  NaN   \n",
              "pickup_latitude    200000.0     NaN                          NaN  NaN   \n",
              "dropoff_longitude  199999.0     NaN                          NaN  NaN   \n",
              "dropoff_latitude   199999.0     NaN                          NaN  NaN   \n",
              "passenger_count    200000.0     NaN                          NaN  NaN   \n",
              "\n",
              "                             mean              std         min          25%  \\\n",
              "index              27712503.68235  16013822.212829         1.0  13825346.25   \n",
              "key                           NaN              NaN         NaN          NaN   \n",
              "fare_amount             11.359955         9.901776       -52.0          6.0   \n",
              "pickup_datetime               NaN              NaN         NaN          NaN   \n",
              "pickup_longitude       -72.527638        11.437787 -1340.64841   -73.992065   \n",
              "pickup_latitude         39.935885         7.720539  -74.015515    40.734796   \n",
              "dropoff_longitude      -72.525292        13.117408  -3356.6663   -73.991407   \n",
              "dropoff_latitude         39.92389         6.794829 -881.985513    40.733823   \n",
              "passenger_count          1.684535         1.385997         0.0          1.0   \n",
              "\n",
              "                          50%          75%          max  \n",
              "index              27745495.0  41555300.75   55423567.0  \n",
              "key                       NaN          NaN          NaN  \n",
              "fare_amount               8.5         12.5        499.0  \n",
              "pickup_datetime           NaN          NaN          NaN  \n",
              "pickup_longitude   -73.981823   -73.967154    57.418457  \n",
              "pickup_latitude     40.752592    40.767158  1644.421482  \n",
              "dropoff_longitude  -73.980093   -73.963658  1153.572603  \n",
              "dropoff_latitude    40.753042    40.768001   872.697628  \n",
              "passenger_count           1.0          2.0        208.0  "
            ],
            "text/html": [
              "\n",
              "  <div id=\"df-8e30f979-1eea-4250-bc04-d9a9f822ac29\">\n",
              "    <div class=\"colab-df-container\">\n",
              "      <div>\n",
              "<style scoped>\n",
              "    .dataframe tbody tr th:only-of-type {\n",
              "        vertical-align: middle;\n",
              "    }\n",
              "\n",
              "    .dataframe tbody tr th {\n",
              "        vertical-align: top;\n",
              "    }\n",
              "\n",
              "    .dataframe thead th {\n",
              "        text-align: right;\n",
              "    }\n",
              "</style>\n",
              "<table border=\"1\" class=\"dataframe\">\n",
              "  <thead>\n",
              "    <tr style=\"text-align: right;\">\n",
              "      <th></th>\n",
              "      <th>count</th>\n",
              "      <th>unique</th>\n",
              "      <th>top</th>\n",
              "      <th>freq</th>\n",
              "      <th>mean</th>\n",
              "      <th>std</th>\n",
              "      <th>min</th>\n",
              "      <th>25%</th>\n",
              "      <th>50%</th>\n",
              "      <th>75%</th>\n",
              "      <th>max</th>\n",
              "    </tr>\n",
              "  </thead>\n",
              "  <tbody>\n",
              "    <tr>\n",
              "      <th>index</th>\n",
              "      <td>200000.0</td>\n",
              "      <td>NaN</td>\n",
              "      <td>NaN</td>\n",
              "      <td>NaN</td>\n",
              "      <td>27712503.68235</td>\n",
              "      <td>16013822.212829</td>\n",
              "      <td>1.0</td>\n",
              "      <td>13825346.25</td>\n",
              "      <td>27745495.0</td>\n",
              "      <td>41555300.75</td>\n",
              "      <td>55423567.0</td>\n",
              "    </tr>\n",
              "    <tr>\n",
              "      <th>key</th>\n",
              "      <td>200000</td>\n",
              "      <td>200000</td>\n",
              "      <td>2015-05-07 19:52:06.0000003</td>\n",
              "      <td>1</td>\n",
              "      <td>NaN</td>\n",
              "      <td>NaN</td>\n",
              "      <td>NaN</td>\n",
              "      <td>NaN</td>\n",
              "      <td>NaN</td>\n",
              "      <td>NaN</td>\n",
              "      <td>NaN</td>\n",
              "    </tr>\n",
              "    <tr>\n",
              "      <th>fare_amount</th>\n",
              "      <td>200000.0</td>\n",
              "      <td>NaN</td>\n",
              "      <td>NaN</td>\n",
              "      <td>NaN</td>\n",
              "      <td>11.359955</td>\n",
              "      <td>9.901776</td>\n",
              "      <td>-52.0</td>\n",
              "      <td>6.0</td>\n",
              "      <td>8.5</td>\n",
              "      <td>12.5</td>\n",
              "      <td>499.0</td>\n",
              "    </tr>\n",
              "    <tr>\n",
              "      <th>pickup_datetime</th>\n",
              "      <td>200000</td>\n",
              "      <td>196629</td>\n",
              "      <td>2014-04-13 18:19:00 UTC</td>\n",
              "      <td>4</td>\n",
              "      <td>NaN</td>\n",
              "      <td>NaN</td>\n",
              "      <td>NaN</td>\n",
              "      <td>NaN</td>\n",
              "      <td>NaN</td>\n",
              "      <td>NaN</td>\n",
              "      <td>NaN</td>\n",
              "    </tr>\n",
              "    <tr>\n",
              "      <th>pickup_longitude</th>\n",
              "      <td>200000.0</td>\n",
              "      <td>NaN</td>\n",
              "      <td>NaN</td>\n",
              "      <td>NaN</td>\n",
              "      <td>-72.527638</td>\n",
              "      <td>11.437787</td>\n",
              "      <td>-1340.64841</td>\n",
              "      <td>-73.992065</td>\n",
              "      <td>-73.981823</td>\n",
              "      <td>-73.967154</td>\n",
              "      <td>57.418457</td>\n",
              "    </tr>\n",
              "    <tr>\n",
              "      <th>pickup_latitude</th>\n",
              "      <td>200000.0</td>\n",
              "      <td>NaN</td>\n",
              "      <td>NaN</td>\n",
              "      <td>NaN</td>\n",
              "      <td>39.935885</td>\n",
              "      <td>7.720539</td>\n",
              "      <td>-74.015515</td>\n",
              "      <td>40.734796</td>\n",
              "      <td>40.752592</td>\n",
              "      <td>40.767158</td>\n",
              "      <td>1644.421482</td>\n",
              "    </tr>\n",
              "    <tr>\n",
              "      <th>dropoff_longitude</th>\n",
              "      <td>199999.0</td>\n",
              "      <td>NaN</td>\n",
              "      <td>NaN</td>\n",
              "      <td>NaN</td>\n",
              "      <td>-72.525292</td>\n",
              "      <td>13.117408</td>\n",
              "      <td>-3356.6663</td>\n",
              "      <td>-73.991407</td>\n",
              "      <td>-73.980093</td>\n",
              "      <td>-73.963658</td>\n",
              "      <td>1153.572603</td>\n",
              "    </tr>\n",
              "    <tr>\n",
              "      <th>dropoff_latitude</th>\n",
              "      <td>199999.0</td>\n",
              "      <td>NaN</td>\n",
              "      <td>NaN</td>\n",
              "      <td>NaN</td>\n",
              "      <td>39.92389</td>\n",
              "      <td>6.794829</td>\n",
              "      <td>-881.985513</td>\n",
              "      <td>40.733823</td>\n",
              "      <td>40.753042</td>\n",
              "      <td>40.768001</td>\n",
              "      <td>872.697628</td>\n",
              "    </tr>\n",
              "    <tr>\n",
              "      <th>passenger_count</th>\n",
              "      <td>200000.0</td>\n",
              "      <td>NaN</td>\n",
              "      <td>NaN</td>\n",
              "      <td>NaN</td>\n",
              "      <td>1.684535</td>\n",
              "      <td>1.385997</td>\n",
              "      <td>0.0</td>\n",
              "      <td>1.0</td>\n",
              "      <td>1.0</td>\n",
              "      <td>2.0</td>\n",
              "      <td>208.0</td>\n",
              "    </tr>\n",
              "  </tbody>\n",
              "</table>\n",
              "</div>\n",
              "      <button class=\"colab-df-convert\" onclick=\"convertToInteractive('df-8e30f979-1eea-4250-bc04-d9a9f822ac29')\"\n",
              "              title=\"Convert this dataframe to an interactive table.\"\n",
              "              style=\"display:none;\">\n",
              "        \n",
              "  <svg xmlns=\"http://www.w3.org/2000/svg\" height=\"24px\"viewBox=\"0 0 24 24\"\n",
              "       width=\"24px\">\n",
              "    <path d=\"M0 0h24v24H0V0z\" fill=\"none\"/>\n",
              "    <path d=\"M18.56 5.44l.94 2.06.94-2.06 2.06-.94-2.06-.94-.94-2.06-.94 2.06-2.06.94zm-11 1L8.5 8.5l.94-2.06 2.06-.94-2.06-.94L8.5 2.5l-.94 2.06-2.06.94zm10 10l.94 2.06.94-2.06 2.06-.94-2.06-.94-.94-2.06-.94 2.06-2.06.94z\"/><path d=\"M17.41 7.96l-1.37-1.37c-.4-.4-.92-.59-1.43-.59-.52 0-1.04.2-1.43.59L10.3 9.45l-7.72 7.72c-.78.78-.78 2.05 0 2.83L4 21.41c.39.39.9.59 1.41.59.51 0 1.02-.2 1.41-.59l7.78-7.78 2.81-2.81c.8-.78.8-2.07 0-2.86zM5.41 20L4 18.59l7.72-7.72 1.47 1.35L5.41 20z\"/>\n",
              "  </svg>\n",
              "      </button>\n",
              "      \n",
              "  <style>\n",
              "    .colab-df-container {\n",
              "      display:flex;\n",
              "      flex-wrap:wrap;\n",
              "      gap: 12px;\n",
              "    }\n",
              "\n",
              "    .colab-df-convert {\n",
              "      background-color: #E8F0FE;\n",
              "      border: none;\n",
              "      border-radius: 50%;\n",
              "      cursor: pointer;\n",
              "      display: none;\n",
              "      fill: #1967D2;\n",
              "      height: 32px;\n",
              "      padding: 0 0 0 0;\n",
              "      width: 32px;\n",
              "    }\n",
              "\n",
              "    .colab-df-convert:hover {\n",
              "      background-color: #E2EBFA;\n",
              "      box-shadow: 0px 1px 2px rgba(60, 64, 67, 0.3), 0px 1px 3px 1px rgba(60, 64, 67, 0.15);\n",
              "      fill: #174EA6;\n",
              "    }\n",
              "\n",
              "    [theme=dark] .colab-df-convert {\n",
              "      background-color: #3B4455;\n",
              "      fill: #D2E3FC;\n",
              "    }\n",
              "\n",
              "    [theme=dark] .colab-df-convert:hover {\n",
              "      background-color: #434B5C;\n",
              "      box-shadow: 0px 1px 3px 1px rgba(0, 0, 0, 0.15);\n",
              "      filter: drop-shadow(0px 1px 2px rgba(0, 0, 0, 0.3));\n",
              "      fill: #FFFFFF;\n",
              "    }\n",
              "  </style>\n",
              "\n",
              "      <script>\n",
              "        const buttonEl =\n",
              "          document.querySelector('#df-8e30f979-1eea-4250-bc04-d9a9f822ac29 button.colab-df-convert');\n",
              "        buttonEl.style.display =\n",
              "          google.colab.kernel.accessAllowed ? 'block' : 'none';\n",
              "\n",
              "        async function convertToInteractive(key) {\n",
              "          const element = document.querySelector('#df-8e30f979-1eea-4250-bc04-d9a9f822ac29');\n",
              "          const dataTable =\n",
              "            await google.colab.kernel.invokeFunction('convertToInteractive',\n",
              "                                                     [key], {});\n",
              "          if (!dataTable) return;\n",
              "\n",
              "          const docLinkHtml = 'Like what you see? Visit the ' +\n",
              "            '<a target=\"_blank\" href=https://colab.research.google.com/notebooks/data_table.ipynb>data table notebook</a>'\n",
              "            + ' to learn more about interactive tables.';\n",
              "          element.innerHTML = '';\n",
              "          dataTable['output_type'] = 'display_data';\n",
              "          await google.colab.output.renderOutput(dataTable, element);\n",
              "          const docLink = document.createElement('div');\n",
              "          docLink.innerHTML = docLinkHtml;\n",
              "          element.appendChild(docLink);\n",
              "        }\n",
              "      </script>\n",
              "    </div>\n",
              "  </div>\n",
              "  "
            ]
          },
          "metadata": {},
          "execution_count": 6
        }
      ]
    },
    {
      "cell_type": "code",
      "source": [
        "# Brief information about the datatype of attributes and their null counts. \n",
        "trip_df.info()"
      ],
      "metadata": {
        "colab": {
          "base_uri": "https://localhost:8080/"
        },
        "id": "MPigjTDMsZWs",
        "outputId": "c6fc1e82-dbdd-48f5-da08-ff69f5539324"
      },
      "execution_count": 7,
      "outputs": [
        {
          "output_type": "stream",
          "name": "stdout",
          "text": [
            "<class 'pandas.core.frame.DataFrame'>\n",
            "RangeIndex: 200000 entries, 0 to 199999\n",
            "Data columns (total 9 columns):\n",
            " #   Column             Non-Null Count   Dtype  \n",
            "---  ------             --------------   -----  \n",
            " 0   index              200000 non-null  int64  \n",
            " 1   key                200000 non-null  object \n",
            " 2   fare_amount        200000 non-null  float64\n",
            " 3   pickup_datetime    200000 non-null  object \n",
            " 4   pickup_longitude   200000 non-null  float64\n",
            " 5   pickup_latitude    200000 non-null  float64\n",
            " 6   dropoff_longitude  199999 non-null  float64\n",
            " 7   dropoff_latitude   199999 non-null  float64\n",
            " 8   passenger_count    200000 non-null  int64  \n",
            "dtypes: float64(5), int64(2), object(2)\n",
            "memory usage: 13.7+ MB\n"
          ]
        }
      ]
    },
    {
      "cell_type": "markdown",
      "source": [
        "We can see that the data is very clean with just 1 null value in dropoff_longitude and dropoff_latitude."
      ],
      "metadata": {
        "id": "QVLXQvvQskf3"
      }
    },
    {
      "cell_type": "code",
      "source": [
        "  # Looking for duplicate data points\n",
        "  duplicates = trip_df[trip_df.duplicated()]\n",
        "  duplicates"
      ],
      "metadata": {
        "colab": {
          "base_uri": "https://localhost:8080/",
          "height": 49
        },
        "id": "m3tAKHKZsfsk",
        "outputId": "36c1a4bf-c158-491c-dd21-b2e4c4b8589a"
      },
      "execution_count": 8,
      "outputs": [
        {
          "output_type": "execute_result",
          "data": {
            "text/plain": [
              "Empty DataFrame\n",
              "Columns: [index, key, fare_amount, pickup_datetime, pickup_longitude, pickup_latitude, dropoff_longitude, dropoff_latitude, passenger_count]\n",
              "Index: []"
            ],
            "text/html": [
              "\n",
              "  <div id=\"df-de0b51ca-1351-4d6f-be3e-832bc7e3e5a4\">\n",
              "    <div class=\"colab-df-container\">\n",
              "      <div>\n",
              "<style scoped>\n",
              "    .dataframe tbody tr th:only-of-type {\n",
              "        vertical-align: middle;\n",
              "    }\n",
              "\n",
              "    .dataframe tbody tr th {\n",
              "        vertical-align: top;\n",
              "    }\n",
              "\n",
              "    .dataframe thead th {\n",
              "        text-align: right;\n",
              "    }\n",
              "</style>\n",
              "<table border=\"1\" class=\"dataframe\">\n",
              "  <thead>\n",
              "    <tr style=\"text-align: right;\">\n",
              "      <th></th>\n",
              "      <th>index</th>\n",
              "      <th>key</th>\n",
              "      <th>fare_amount</th>\n",
              "      <th>pickup_datetime</th>\n",
              "      <th>pickup_longitude</th>\n",
              "      <th>pickup_latitude</th>\n",
              "      <th>dropoff_longitude</th>\n",
              "      <th>dropoff_latitude</th>\n",
              "      <th>passenger_count</th>\n",
              "    </tr>\n",
              "  </thead>\n",
              "  <tbody>\n",
              "  </tbody>\n",
              "</table>\n",
              "</div>\n",
              "      <button class=\"colab-df-convert\" onclick=\"convertToInteractive('df-de0b51ca-1351-4d6f-be3e-832bc7e3e5a4')\"\n",
              "              title=\"Convert this dataframe to an interactive table.\"\n",
              "              style=\"display:none;\">\n",
              "        \n",
              "  <svg xmlns=\"http://www.w3.org/2000/svg\" height=\"24px\"viewBox=\"0 0 24 24\"\n",
              "       width=\"24px\">\n",
              "    <path d=\"M0 0h24v24H0V0z\" fill=\"none\"/>\n",
              "    <path d=\"M18.56 5.44l.94 2.06.94-2.06 2.06-.94-2.06-.94-.94-2.06-.94 2.06-2.06.94zm-11 1L8.5 8.5l.94-2.06 2.06-.94-2.06-.94L8.5 2.5l-.94 2.06-2.06.94zm10 10l.94 2.06.94-2.06 2.06-.94-2.06-.94-.94-2.06-.94 2.06-2.06.94z\"/><path d=\"M17.41 7.96l-1.37-1.37c-.4-.4-.92-.59-1.43-.59-.52 0-1.04.2-1.43.59L10.3 9.45l-7.72 7.72c-.78.78-.78 2.05 0 2.83L4 21.41c.39.39.9.59 1.41.59.51 0 1.02-.2 1.41-.59l7.78-7.78 2.81-2.81c.8-.78.8-2.07 0-2.86zM5.41 20L4 18.59l7.72-7.72 1.47 1.35L5.41 20z\"/>\n",
              "  </svg>\n",
              "      </button>\n",
              "      \n",
              "  <style>\n",
              "    .colab-df-container {\n",
              "      display:flex;\n",
              "      flex-wrap:wrap;\n",
              "      gap: 12px;\n",
              "    }\n",
              "\n",
              "    .colab-df-convert {\n",
              "      background-color: #E8F0FE;\n",
              "      border: none;\n",
              "      border-radius: 50%;\n",
              "      cursor: pointer;\n",
              "      display: none;\n",
              "      fill: #1967D2;\n",
              "      height: 32px;\n",
              "      padding: 0 0 0 0;\n",
              "      width: 32px;\n",
              "    }\n",
              "\n",
              "    .colab-df-convert:hover {\n",
              "      background-color: #E2EBFA;\n",
              "      box-shadow: 0px 1px 2px rgba(60, 64, 67, 0.3), 0px 1px 3px 1px rgba(60, 64, 67, 0.15);\n",
              "      fill: #174EA6;\n",
              "    }\n",
              "\n",
              "    [theme=dark] .colab-df-convert {\n",
              "      background-color: #3B4455;\n",
              "      fill: #D2E3FC;\n",
              "    }\n",
              "\n",
              "    [theme=dark] .colab-df-convert:hover {\n",
              "      background-color: #434B5C;\n",
              "      box-shadow: 0px 1px 3px 1px rgba(0, 0, 0, 0.15);\n",
              "      filter: drop-shadow(0px 1px 2px rgba(0, 0, 0, 0.3));\n",
              "      fill: #FFFFFF;\n",
              "    }\n",
              "  </style>\n",
              "\n",
              "      <script>\n",
              "        const buttonEl =\n",
              "          document.querySelector('#df-de0b51ca-1351-4d6f-be3e-832bc7e3e5a4 button.colab-df-convert');\n",
              "        buttonEl.style.display =\n",
              "          google.colab.kernel.accessAllowed ? 'block' : 'none';\n",
              "\n",
              "        async function convertToInteractive(key) {\n",
              "          const element = document.querySelector('#df-de0b51ca-1351-4d6f-be3e-832bc7e3e5a4');\n",
              "          const dataTable =\n",
              "            await google.colab.kernel.invokeFunction('convertToInteractive',\n",
              "                                                     [key], {});\n",
              "          if (!dataTable) return;\n",
              "\n",
              "          const docLinkHtml = 'Like what you see? Visit the ' +\n",
              "            '<a target=\"_blank\" href=https://colab.research.google.com/notebooks/data_table.ipynb>data table notebook</a>'\n",
              "            + ' to learn more about interactive tables.';\n",
              "          element.innerHTML = '';\n",
              "          dataTable['output_type'] = 'display_data';\n",
              "          await google.colab.output.renderOutput(dataTable, element);\n",
              "          const docLink = document.createElement('div');\n",
              "          docLink.innerHTML = docLinkHtml;\n",
              "          element.appendChild(docLink);\n",
              "        }\n",
              "      </script>\n",
              "    </div>\n",
              "  </div>\n",
              "  "
            ]
          },
          "metadata": {},
          "execution_count": 8
        }
      ]
    },
    {
      "cell_type": "markdown",
      "source": [
        "We can see that there are no duplicate records.\n"
      ],
      "metadata": {
        "id": "C8p9yHUEtbiI"
      }
    },
    {
      "cell_type": "markdown",
      "source": [
        "## **EDA and Feature Engineering**\n",
        "\n",
        "Exploratory data analysis or commonly known as EDA helps to explore data, and possibly formulate hypotheses that might cause new data collection and experiments. EDA build a robust understanding of the data, issues associated with either the info or process. It’s a scientific approach to get the story of the data.\n",
        "\n",
        "It focuses more narrowly on checking assumptions required for model fitting and hypothesis testing. It also helps while handling missing values and making transformations of variables as needed. Also we'd deal with outliers in this section. Furthermore, we'll try to extract or convert some of the attributes using some feature engineering.\n",
        "\n",
        "All machine learning algorithms use some input data to create outputs. This input data comprise features, which are usually in the form of structured columns. Algorithms require features with some specific characteristics to work properly. Here, the need for feature engineering arises. Feature engineering mainly have two goals:\n",
        "\n",
        "* Preparing the proper input dataset, compatible with the machine learning algorithm requirements.\n",
        "* Improving the performance of machine learning models.\n",
        "\n",
        "*Lets just start by removing all null values from the data.*"
      ],
      "metadata": {
        "id": "HJSU1L3GuT5s"
      }
    },
    {
      "cell_type": "code",
      "source": [
        "# Removing the row(s) having null values\n",
        "df = trip_df.dropna()\n",
        "df"
      ],
      "metadata": {
        "colab": {
          "base_uri": "https://localhost:8080/",
          "height": 641
        },
        "id": "_lp_cPlGs9CP",
        "outputId": "8f6feac2-72fd-4b87-ea98-5213df518983"
      },
      "execution_count": 9,
      "outputs": [
        {
          "output_type": "execute_result",
          "data": {
            "text/plain": [
              "           index                            key  fare_amount  \\\n",
              "0       24238194    2015-05-07 19:52:06.0000003          7.5   \n",
              "1       27835199    2009-07-17 20:04:56.0000002          7.7   \n",
              "2       44984355   2009-08-24 21:45:00.00000061         12.9   \n",
              "3       25894730    2009-06-26 08:22:21.0000001          5.3   \n",
              "4       17610152  2014-08-28 17:47:00.000000188         16.0   \n",
              "...          ...                            ...          ...   \n",
              "199995  42598914   2012-10-28 10:49:00.00000053          3.0   \n",
              "199996  16382965    2014-03-14 01:09:00.0000008          7.5   \n",
              "199997  27804658   2009-06-29 00:42:00.00000078         30.9   \n",
              "199998  20259894    2015-05-20 14:56:25.0000004         14.5   \n",
              "199999  11951496   2010-05-15 04:08:00.00000076         14.1   \n",
              "\n",
              "                pickup_datetime  pickup_longitude  pickup_latitude  \\\n",
              "0       2015-05-07 19:52:06 UTC        -73.999817        40.738354   \n",
              "1       2009-07-17 20:04:56 UTC        -73.994355        40.728225   \n",
              "2       2009-08-24 21:45:00 UTC        -74.005043        40.740770   \n",
              "3       2009-06-26 08:22:21 UTC        -73.976124        40.790844   \n",
              "4       2014-08-28 17:47:00 UTC        -73.925023        40.744085   \n",
              "...                         ...               ...              ...   \n",
              "199995  2012-10-28 10:49:00 UTC        -73.987042        40.739367   \n",
              "199996  2014-03-14 01:09:00 UTC        -73.984722        40.736837   \n",
              "199997  2009-06-29 00:42:00 UTC        -73.986017        40.756487   \n",
              "199998  2015-05-20 14:56:25 UTC        -73.997124        40.725452   \n",
              "199999  2010-05-15 04:08:00 UTC        -73.984395        40.720077   \n",
              "\n",
              "        dropoff_longitude  dropoff_latitude  passenger_count  \n",
              "0              -73.999512         40.723217                1  \n",
              "1              -73.994710         40.750325                1  \n",
              "2              -73.962565         40.772647                1  \n",
              "3              -73.965316         40.803349                3  \n",
              "4              -73.973082         40.761247                5  \n",
              "...                   ...               ...              ...  \n",
              "199995         -73.986525         40.740297                1  \n",
              "199996         -74.006672         40.739620                1  \n",
              "199997         -73.858957         40.692588                2  \n",
              "199998         -73.983215         40.695415                1  \n",
              "199999         -73.985508         40.768793                1  \n",
              "\n",
              "[199999 rows x 9 columns]"
            ],
            "text/html": [
              "\n",
              "  <div id=\"df-8b403bba-79db-4878-a281-8372cb9221a6\">\n",
              "    <div class=\"colab-df-container\">\n",
              "      <div>\n",
              "<style scoped>\n",
              "    .dataframe tbody tr th:only-of-type {\n",
              "        vertical-align: middle;\n",
              "    }\n",
              "\n",
              "    .dataframe tbody tr th {\n",
              "        vertical-align: top;\n",
              "    }\n",
              "\n",
              "    .dataframe thead th {\n",
              "        text-align: right;\n",
              "    }\n",
              "</style>\n",
              "<table border=\"1\" class=\"dataframe\">\n",
              "  <thead>\n",
              "    <tr style=\"text-align: right;\">\n",
              "      <th></th>\n",
              "      <th>index</th>\n",
              "      <th>key</th>\n",
              "      <th>fare_amount</th>\n",
              "      <th>pickup_datetime</th>\n",
              "      <th>pickup_longitude</th>\n",
              "      <th>pickup_latitude</th>\n",
              "      <th>dropoff_longitude</th>\n",
              "      <th>dropoff_latitude</th>\n",
              "      <th>passenger_count</th>\n",
              "    </tr>\n",
              "  </thead>\n",
              "  <tbody>\n",
              "    <tr>\n",
              "      <th>0</th>\n",
              "      <td>24238194</td>\n",
              "      <td>2015-05-07 19:52:06.0000003</td>\n",
              "      <td>7.5</td>\n",
              "      <td>2015-05-07 19:52:06 UTC</td>\n",
              "      <td>-73.999817</td>\n",
              "      <td>40.738354</td>\n",
              "      <td>-73.999512</td>\n",
              "      <td>40.723217</td>\n",
              "      <td>1</td>\n",
              "    </tr>\n",
              "    <tr>\n",
              "      <th>1</th>\n",
              "      <td>27835199</td>\n",
              "      <td>2009-07-17 20:04:56.0000002</td>\n",
              "      <td>7.7</td>\n",
              "      <td>2009-07-17 20:04:56 UTC</td>\n",
              "      <td>-73.994355</td>\n",
              "      <td>40.728225</td>\n",
              "      <td>-73.994710</td>\n",
              "      <td>40.750325</td>\n",
              "      <td>1</td>\n",
              "    </tr>\n",
              "    <tr>\n",
              "      <th>2</th>\n",
              "      <td>44984355</td>\n",
              "      <td>2009-08-24 21:45:00.00000061</td>\n",
              "      <td>12.9</td>\n",
              "      <td>2009-08-24 21:45:00 UTC</td>\n",
              "      <td>-74.005043</td>\n",
              "      <td>40.740770</td>\n",
              "      <td>-73.962565</td>\n",
              "      <td>40.772647</td>\n",
              "      <td>1</td>\n",
              "    </tr>\n",
              "    <tr>\n",
              "      <th>3</th>\n",
              "      <td>25894730</td>\n",
              "      <td>2009-06-26 08:22:21.0000001</td>\n",
              "      <td>5.3</td>\n",
              "      <td>2009-06-26 08:22:21 UTC</td>\n",
              "      <td>-73.976124</td>\n",
              "      <td>40.790844</td>\n",
              "      <td>-73.965316</td>\n",
              "      <td>40.803349</td>\n",
              "      <td>3</td>\n",
              "    </tr>\n",
              "    <tr>\n",
              "      <th>4</th>\n",
              "      <td>17610152</td>\n",
              "      <td>2014-08-28 17:47:00.000000188</td>\n",
              "      <td>16.0</td>\n",
              "      <td>2014-08-28 17:47:00 UTC</td>\n",
              "      <td>-73.925023</td>\n",
              "      <td>40.744085</td>\n",
              "      <td>-73.973082</td>\n",
              "      <td>40.761247</td>\n",
              "      <td>5</td>\n",
              "    </tr>\n",
              "    <tr>\n",
              "      <th>...</th>\n",
              "      <td>...</td>\n",
              "      <td>...</td>\n",
              "      <td>...</td>\n",
              "      <td>...</td>\n",
              "      <td>...</td>\n",
              "      <td>...</td>\n",
              "      <td>...</td>\n",
              "      <td>...</td>\n",
              "      <td>...</td>\n",
              "    </tr>\n",
              "    <tr>\n",
              "      <th>199995</th>\n",
              "      <td>42598914</td>\n",
              "      <td>2012-10-28 10:49:00.00000053</td>\n",
              "      <td>3.0</td>\n",
              "      <td>2012-10-28 10:49:00 UTC</td>\n",
              "      <td>-73.987042</td>\n",
              "      <td>40.739367</td>\n",
              "      <td>-73.986525</td>\n",
              "      <td>40.740297</td>\n",
              "      <td>1</td>\n",
              "    </tr>\n",
              "    <tr>\n",
              "      <th>199996</th>\n",
              "      <td>16382965</td>\n",
              "      <td>2014-03-14 01:09:00.0000008</td>\n",
              "      <td>7.5</td>\n",
              "      <td>2014-03-14 01:09:00 UTC</td>\n",
              "      <td>-73.984722</td>\n",
              "      <td>40.736837</td>\n",
              "      <td>-74.006672</td>\n",
              "      <td>40.739620</td>\n",
              "      <td>1</td>\n",
              "    </tr>\n",
              "    <tr>\n",
              "      <th>199997</th>\n",
              "      <td>27804658</td>\n",
              "      <td>2009-06-29 00:42:00.00000078</td>\n",
              "      <td>30.9</td>\n",
              "      <td>2009-06-29 00:42:00 UTC</td>\n",
              "      <td>-73.986017</td>\n",
              "      <td>40.756487</td>\n",
              "      <td>-73.858957</td>\n",
              "      <td>40.692588</td>\n",
              "      <td>2</td>\n",
              "    </tr>\n",
              "    <tr>\n",
              "      <th>199998</th>\n",
              "      <td>20259894</td>\n",
              "      <td>2015-05-20 14:56:25.0000004</td>\n",
              "      <td>14.5</td>\n",
              "      <td>2015-05-20 14:56:25 UTC</td>\n",
              "      <td>-73.997124</td>\n",
              "      <td>40.725452</td>\n",
              "      <td>-73.983215</td>\n",
              "      <td>40.695415</td>\n",
              "      <td>1</td>\n",
              "    </tr>\n",
              "    <tr>\n",
              "      <th>199999</th>\n",
              "      <td>11951496</td>\n",
              "      <td>2010-05-15 04:08:00.00000076</td>\n",
              "      <td>14.1</td>\n",
              "      <td>2010-05-15 04:08:00 UTC</td>\n",
              "      <td>-73.984395</td>\n",
              "      <td>40.720077</td>\n",
              "      <td>-73.985508</td>\n",
              "      <td>40.768793</td>\n",
              "      <td>1</td>\n",
              "    </tr>\n",
              "  </tbody>\n",
              "</table>\n",
              "<p>199999 rows × 9 columns</p>\n",
              "</div>\n",
              "      <button class=\"colab-df-convert\" onclick=\"convertToInteractive('df-8b403bba-79db-4878-a281-8372cb9221a6')\"\n",
              "              title=\"Convert this dataframe to an interactive table.\"\n",
              "              style=\"display:none;\">\n",
              "        \n",
              "  <svg xmlns=\"http://www.w3.org/2000/svg\" height=\"24px\"viewBox=\"0 0 24 24\"\n",
              "       width=\"24px\">\n",
              "    <path d=\"M0 0h24v24H0V0z\" fill=\"none\"/>\n",
              "    <path d=\"M18.56 5.44l.94 2.06.94-2.06 2.06-.94-2.06-.94-.94-2.06-.94 2.06-2.06.94zm-11 1L8.5 8.5l.94-2.06 2.06-.94-2.06-.94L8.5 2.5l-.94 2.06-2.06.94zm10 10l.94 2.06.94-2.06 2.06-.94-2.06-.94-.94-2.06-.94 2.06-2.06.94z\"/><path d=\"M17.41 7.96l-1.37-1.37c-.4-.4-.92-.59-1.43-.59-.52 0-1.04.2-1.43.59L10.3 9.45l-7.72 7.72c-.78.78-.78 2.05 0 2.83L4 21.41c.39.39.9.59 1.41.59.51 0 1.02-.2 1.41-.59l7.78-7.78 2.81-2.81c.8-.78.8-2.07 0-2.86zM5.41 20L4 18.59l7.72-7.72 1.47 1.35L5.41 20z\"/>\n",
              "  </svg>\n",
              "      </button>\n",
              "      \n",
              "  <style>\n",
              "    .colab-df-container {\n",
              "      display:flex;\n",
              "      flex-wrap:wrap;\n",
              "      gap: 12px;\n",
              "    }\n",
              "\n",
              "    .colab-df-convert {\n",
              "      background-color: #E8F0FE;\n",
              "      border: none;\n",
              "      border-radius: 50%;\n",
              "      cursor: pointer;\n",
              "      display: none;\n",
              "      fill: #1967D2;\n",
              "      height: 32px;\n",
              "      padding: 0 0 0 0;\n",
              "      width: 32px;\n",
              "    }\n",
              "\n",
              "    .colab-df-convert:hover {\n",
              "      background-color: #E2EBFA;\n",
              "      box-shadow: 0px 1px 2px rgba(60, 64, 67, 0.3), 0px 1px 3px 1px rgba(60, 64, 67, 0.15);\n",
              "      fill: #174EA6;\n",
              "    }\n",
              "\n",
              "    [theme=dark] .colab-df-convert {\n",
              "      background-color: #3B4455;\n",
              "      fill: #D2E3FC;\n",
              "    }\n",
              "\n",
              "    [theme=dark] .colab-df-convert:hover {\n",
              "      background-color: #434B5C;\n",
              "      box-shadow: 0px 1px 3px 1px rgba(0, 0, 0, 0.15);\n",
              "      filter: drop-shadow(0px 1px 2px rgba(0, 0, 0, 0.3));\n",
              "      fill: #FFFFFF;\n",
              "    }\n",
              "  </style>\n",
              "\n",
              "      <script>\n",
              "        const buttonEl =\n",
              "          document.querySelector('#df-8b403bba-79db-4878-a281-8372cb9221a6 button.colab-df-convert');\n",
              "        buttonEl.style.display =\n",
              "          google.colab.kernel.accessAllowed ? 'block' : 'none';\n",
              "\n",
              "        async function convertToInteractive(key) {\n",
              "          const element = document.querySelector('#df-8b403bba-79db-4878-a281-8372cb9221a6');\n",
              "          const dataTable =\n",
              "            await google.colab.kernel.invokeFunction('convertToInteractive',\n",
              "                                                     [key], {});\n",
              "          if (!dataTable) return;\n",
              "\n",
              "          const docLinkHtml = 'Like what you see? Visit the ' +\n",
              "            '<a target=\"_blank\" href=https://colab.research.google.com/notebooks/data_table.ipynb>data table notebook</a>'\n",
              "            + ' to learn more about interactive tables.';\n",
              "          element.innerHTML = '';\n",
              "          dataTable['output_type'] = 'display_data';\n",
              "          await google.colab.output.renderOutput(dataTable, element);\n",
              "          const docLink = document.createElement('div');\n",
              "          docLink.innerHTML = docLinkHtml;\n",
              "          element.appendChild(docLink);\n",
              "        }\n",
              "      </script>\n",
              "    </div>\n",
              "  </div>\n",
              "  "
            ]
          },
          "metadata": {},
          "execution_count": 9
        }
      ]
    },
    {
      "cell_type": "markdown",
      "source": [
        "The index and key don't contribute much as we already have the pickup_datetime and it would'nt be of much help to the model either. Hence, we can drop these columns too."
      ],
      "metadata": {
        "id": "bRWjy6L-uexu"
      }
    },
    {
      "cell_type": "code",
      "source": [
        "# Dropping the \"id\" column.\n",
        "df = df.drop(columns=['index', 'key'])"
      ],
      "metadata": {
        "id": "7V_A57lYt1ZT"
      },
      "execution_count": 10,
      "outputs": []
    },
    {
      "cell_type": "markdown",
      "source": [
        "Now lets have a look at the remaining columns."
      ],
      "metadata": {
        "id": "3YLNLxA2vC_Z"
      }
    },
    {
      "cell_type": "code",
      "source": [
        "# Print all columns.\n",
        "df.columns"
      ],
      "metadata": {
        "colab": {
          "base_uri": "https://localhost:8080/"
        },
        "id": "ZQhGSObUu6CL",
        "outputId": "8ed83171-f760-4291-e433-53b3dcc30213"
      },
      "execution_count": 11,
      "outputs": [
        {
          "output_type": "execute_result",
          "data": {
            "text/plain": [
              "Index(['fare_amount', 'pickup_datetime', 'pickup_longitude', 'pickup_latitude',\n",
              "       'dropoff_longitude', 'dropoff_latitude', 'passenger_count'],\n",
              "      dtype='object')"
            ]
          },
          "metadata": {},
          "execution_count": 11
        }
      ]
    },
    {
      "cell_type": "code",
      "source": [
        "# Here pickup_datetime variable is in object so we need to change its data type to datetime\n",
        "df['pickup_datetime'] =  pd.to_datetime(df['pickup_datetime'], format='%Y-%m-%d %H:%M:%S UTC')"
      ],
      "metadata": {
        "id": "Du5WBqCk39gp"
      },
      "execution_count": 12,
      "outputs": []
    },
    {
      "cell_type": "code",
      "source": [
        "# We will separate the Pickup_datetime column into separate field like year, month, day of the week, etc\n",
        "\n",
        "df['year'] = df['pickup_datetime'].dt.year\n",
        "df['Month'] = df['pickup_datetime'].dt.month\n",
        "df['Date'] = df['pickup_datetime'].dt.day\n",
        "df['Day'] = df['pickup_datetime'].dt.dayofweek\n",
        "df['Hour'] = df['pickup_datetime'].dt.hour\n",
        "df['Minute'] = df['pickup_datetime'].dt.minute"
      ],
      "metadata": {
        "id": "BWNd-oFW4DhG"
      },
      "execution_count": 13,
      "outputs": []
    },
    {
      "cell_type": "markdown",
      "source": [
        "### Passenger Count"
      ],
      "metadata": {
        "id": "M8T0FBJDv3FM"
      }
    },
    {
      "cell_type": "code",
      "source": [
        "# Looking at the number of passengers travellers book a taxi for\n",
        "df['passenger_count'].value_counts()"
      ],
      "metadata": {
        "colab": {
          "base_uri": "https://localhost:8080/"
        },
        "id": "vhvkApBVHG07",
        "outputId": "c3dd9932-f5af-43cc-ead9-14f4bd30f280"
      },
      "execution_count": 14,
      "outputs": [
        {
          "output_type": "execute_result",
          "data": {
            "text/plain": [
              "1      138425\n",
              "2       29428\n",
              "5       14009\n",
              "3        8881\n",
              "4        4276\n",
              "6        4271\n",
              "0         708\n",
              "208         1\n",
              "Name: passenger_count, dtype: int64"
            ]
          },
          "metadata": {},
          "execution_count": 14
        }
      ]
    },
    {
      "cell_type": "markdown",
      "source": [
        "Here we can see that the majority of the taxis which were booked had only a single passenger travelling.\n",
        "\n",
        "Also a few of the taxis which were booked had 0 passengers. This might be the case when the passenger is using the taxi for delivering something on an urgent basis. We can't just simply assume a lot of data points like this to be wrong.\n",
        "\n",
        "Also we can see that there were 208 passengers in a single trip which is not possible. So we can remove that as it acts as an anomally for our models and might affect its performance. Even if we consider SUV, there couldn't be more than 6 passengers."
      ],
      "metadata": {
        "id": "c8EIl1u4wFRP"
      }
    },
    {
      "cell_type": "code",
      "source": [
        "df = df.drop((df[df['passenger_count']>6]).index, axis=0)"
      ],
      "metadata": {
        "id": "L5IeDHY6P07a"
      },
      "execution_count": 36,
      "outputs": []
    },
    {
      "cell_type": "code",
      "source": [
        "# Looking at the target variable 'fare_amount'\n",
        "df['fare_amount'].describe()"
      ],
      "metadata": {
        "colab": {
          "base_uri": "https://localhost:8080/"
        },
        "id": "MJZlTuwi1oML",
        "outputId": "eda0ec15-e245-4dd7-9140-8ffbec8ebbcf"
      },
      "execution_count": 15,
      "outputs": [
        {
          "output_type": "execute_result",
          "data": {
            "text/plain": [
              "count    199999.000000\n",
              "mean         11.359892\n",
              "std           9.901760\n",
              "min         -52.000000\n",
              "25%           6.000000\n",
              "50%           8.500000\n",
              "75%          12.500000\n",
              "max         499.000000\n",
              "Name: fare_amount, dtype: float64"
            ]
          },
          "metadata": {},
          "execution_count": 15
        }
      ]
    },
    {
      "cell_type": "markdown",
      "source": [
        "As observed, the minimum fare is a negative amount which means we might have data points having negative fare amount. We'll remove such points."
      ],
      "metadata": {
        "id": "xdnOXqLR2DwT"
      }
    },
    {
      "cell_type": "code",
      "source": [
        "# Dropping rows with value of fare_amount less than or equal to 0\n",
        "df = df.drop(df[df[\"fare_amount\"] <= 0].index, axis=0)"
      ],
      "metadata": {
        "id": "ff7myWLQ2WiJ"
      },
      "execution_count": 16,
      "outputs": []
    },
    {
      "cell_type": "code",
      "source": [
        "df.shape"
      ],
      "metadata": {
        "colab": {
          "base_uri": "https://localhost:8080/"
        },
        "id": "_2o-7mUi2uor",
        "outputId": "5427a1b2-3b53-443e-cb63-67372e731ef2"
      },
      "execution_count": 17,
      "outputs": [
        {
          "output_type": "execute_result",
          "data": {
            "text/plain": [
              "(199977, 13)"
            ]
          },
          "metadata": {},
          "execution_count": 17
        }
      ]
    },
    {
      "cell_type": "markdown",
      "source": [
        "Now let's check the pickup latiotude and longitude."
      ],
      "metadata": {
        "id": "ZpiUMhb62_HR"
      }
    },
    {
      "cell_type": "code",
      "source": [
        "#Lattitude----(-90 to 90)\n",
        "#Longitude----(-180 to 180)\n",
        "\n",
        "# We need to drop the rows having  pickup lattitute and longitute out the range mentioned above\n",
        "\n",
        "#train = train.drop(train[train['pickup_latitude']<-90])\n",
        "df[df['pickup_latitude']<-90]\n",
        "df[df['pickup_latitude']>90]"
      ],
      "metadata": {
        "colab": {
          "base_uri": "https://localhost:8080/",
          "height": 288
        },
        "id": "oK1NdHqK3DkJ",
        "outputId": "cabfe981-3210-4c10-a194-ca0ecf91b66a"
      },
      "execution_count": 18,
      "outputs": [
        {
          "output_type": "execute_result",
          "data": {
            "text/plain": [
              "       fare_amount     pickup_datetime  pickup_longitude  pickup_latitude  \\\n",
              "56617          8.1 2012-03-11 07:24:00        -73.960828       404.433332   \n",
              "61793          8.5 2012-06-13 05:45:00        -73.951385       401.066667   \n",
              "75851         15.7 2011-11-05 00:22:00      -1340.648410      1644.421482   \n",
              "91422         16.1 2011-05-18 13:24:00         57.418457      1292.016128   \n",
              "\n",
              "       dropoff_longitude  dropoff_latitude  passenger_count  year  Month  \\\n",
              "56617         -73.988357         40.769037                1  2012      3   \n",
              "61793         -73.982110         40.754117                1  2012      6   \n",
              "75851       -3356.666300        872.697628                1  2011     11   \n",
              "91422        1153.572603       -881.985513                1  2011      5   \n",
              "\n",
              "       Date  Day  Hour  Minute  \n",
              "56617    11    6     7      24  \n",
              "61793    13    2     5      45  \n",
              "75851     5    5     0      22  \n",
              "91422    18    2    13      24  "
            ],
            "text/html": [
              "\n",
              "  <div id=\"df-8d940550-3d6c-42d2-b1d3-7b55598ac546\">\n",
              "    <div class=\"colab-df-container\">\n",
              "      <div>\n",
              "<style scoped>\n",
              "    .dataframe tbody tr th:only-of-type {\n",
              "        vertical-align: middle;\n",
              "    }\n",
              "\n",
              "    .dataframe tbody tr th {\n",
              "        vertical-align: top;\n",
              "    }\n",
              "\n",
              "    .dataframe thead th {\n",
              "        text-align: right;\n",
              "    }\n",
              "</style>\n",
              "<table border=\"1\" class=\"dataframe\">\n",
              "  <thead>\n",
              "    <tr style=\"text-align: right;\">\n",
              "      <th></th>\n",
              "      <th>fare_amount</th>\n",
              "      <th>pickup_datetime</th>\n",
              "      <th>pickup_longitude</th>\n",
              "      <th>pickup_latitude</th>\n",
              "      <th>dropoff_longitude</th>\n",
              "      <th>dropoff_latitude</th>\n",
              "      <th>passenger_count</th>\n",
              "      <th>year</th>\n",
              "      <th>Month</th>\n",
              "      <th>Date</th>\n",
              "      <th>Day</th>\n",
              "      <th>Hour</th>\n",
              "      <th>Minute</th>\n",
              "    </tr>\n",
              "  </thead>\n",
              "  <tbody>\n",
              "    <tr>\n",
              "      <th>56617</th>\n",
              "      <td>8.1</td>\n",
              "      <td>2012-03-11 07:24:00</td>\n",
              "      <td>-73.960828</td>\n",
              "      <td>404.433332</td>\n",
              "      <td>-73.988357</td>\n",
              "      <td>40.769037</td>\n",
              "      <td>1</td>\n",
              "      <td>2012</td>\n",
              "      <td>3</td>\n",
              "      <td>11</td>\n",
              "      <td>6</td>\n",
              "      <td>7</td>\n",
              "      <td>24</td>\n",
              "    </tr>\n",
              "    <tr>\n",
              "      <th>61793</th>\n",
              "      <td>8.5</td>\n",
              "      <td>2012-06-13 05:45:00</td>\n",
              "      <td>-73.951385</td>\n",
              "      <td>401.066667</td>\n",
              "      <td>-73.982110</td>\n",
              "      <td>40.754117</td>\n",
              "      <td>1</td>\n",
              "      <td>2012</td>\n",
              "      <td>6</td>\n",
              "      <td>13</td>\n",
              "      <td>2</td>\n",
              "      <td>5</td>\n",
              "      <td>45</td>\n",
              "    </tr>\n",
              "    <tr>\n",
              "      <th>75851</th>\n",
              "      <td>15.7</td>\n",
              "      <td>2011-11-05 00:22:00</td>\n",
              "      <td>-1340.648410</td>\n",
              "      <td>1644.421482</td>\n",
              "      <td>-3356.666300</td>\n",
              "      <td>872.697628</td>\n",
              "      <td>1</td>\n",
              "      <td>2011</td>\n",
              "      <td>11</td>\n",
              "      <td>5</td>\n",
              "      <td>5</td>\n",
              "      <td>0</td>\n",
              "      <td>22</td>\n",
              "    </tr>\n",
              "    <tr>\n",
              "      <th>91422</th>\n",
              "      <td>16.1</td>\n",
              "      <td>2011-05-18 13:24:00</td>\n",
              "      <td>57.418457</td>\n",
              "      <td>1292.016128</td>\n",
              "      <td>1153.572603</td>\n",
              "      <td>-881.985513</td>\n",
              "      <td>1</td>\n",
              "      <td>2011</td>\n",
              "      <td>5</td>\n",
              "      <td>18</td>\n",
              "      <td>2</td>\n",
              "      <td>13</td>\n",
              "      <td>24</td>\n",
              "    </tr>\n",
              "  </tbody>\n",
              "</table>\n",
              "</div>\n",
              "      <button class=\"colab-df-convert\" onclick=\"convertToInteractive('df-8d940550-3d6c-42d2-b1d3-7b55598ac546')\"\n",
              "              title=\"Convert this dataframe to an interactive table.\"\n",
              "              style=\"display:none;\">\n",
              "        \n",
              "  <svg xmlns=\"http://www.w3.org/2000/svg\" height=\"24px\"viewBox=\"0 0 24 24\"\n",
              "       width=\"24px\">\n",
              "    <path d=\"M0 0h24v24H0V0z\" fill=\"none\"/>\n",
              "    <path d=\"M18.56 5.44l.94 2.06.94-2.06 2.06-.94-2.06-.94-.94-2.06-.94 2.06-2.06.94zm-11 1L8.5 8.5l.94-2.06 2.06-.94-2.06-.94L8.5 2.5l-.94 2.06-2.06.94zm10 10l.94 2.06.94-2.06 2.06-.94-2.06-.94-.94-2.06-.94 2.06-2.06.94z\"/><path d=\"M17.41 7.96l-1.37-1.37c-.4-.4-.92-.59-1.43-.59-.52 0-1.04.2-1.43.59L10.3 9.45l-7.72 7.72c-.78.78-.78 2.05 0 2.83L4 21.41c.39.39.9.59 1.41.59.51 0 1.02-.2 1.41-.59l7.78-7.78 2.81-2.81c.8-.78.8-2.07 0-2.86zM5.41 20L4 18.59l7.72-7.72 1.47 1.35L5.41 20z\"/>\n",
              "  </svg>\n",
              "      </button>\n",
              "      \n",
              "  <style>\n",
              "    .colab-df-container {\n",
              "      display:flex;\n",
              "      flex-wrap:wrap;\n",
              "      gap: 12px;\n",
              "    }\n",
              "\n",
              "    .colab-df-convert {\n",
              "      background-color: #E8F0FE;\n",
              "      border: none;\n",
              "      border-radius: 50%;\n",
              "      cursor: pointer;\n",
              "      display: none;\n",
              "      fill: #1967D2;\n",
              "      height: 32px;\n",
              "      padding: 0 0 0 0;\n",
              "      width: 32px;\n",
              "    }\n",
              "\n",
              "    .colab-df-convert:hover {\n",
              "      background-color: #E2EBFA;\n",
              "      box-shadow: 0px 1px 2px rgba(60, 64, 67, 0.3), 0px 1px 3px 1px rgba(60, 64, 67, 0.15);\n",
              "      fill: #174EA6;\n",
              "    }\n",
              "\n",
              "    [theme=dark] .colab-df-convert {\n",
              "      background-color: #3B4455;\n",
              "      fill: #D2E3FC;\n",
              "    }\n",
              "\n",
              "    [theme=dark] .colab-df-convert:hover {\n",
              "      background-color: #434B5C;\n",
              "      box-shadow: 0px 1px 3px 1px rgba(0, 0, 0, 0.15);\n",
              "      filter: drop-shadow(0px 1px 2px rgba(0, 0, 0, 0.3));\n",
              "      fill: #FFFFFF;\n",
              "    }\n",
              "  </style>\n",
              "\n",
              "      <script>\n",
              "        const buttonEl =\n",
              "          document.querySelector('#df-8d940550-3d6c-42d2-b1d3-7b55598ac546 button.colab-df-convert');\n",
              "        buttonEl.style.display =\n",
              "          google.colab.kernel.accessAllowed ? 'block' : 'none';\n",
              "\n",
              "        async function convertToInteractive(key) {\n",
              "          const element = document.querySelector('#df-8d940550-3d6c-42d2-b1d3-7b55598ac546');\n",
              "          const dataTable =\n",
              "            await google.colab.kernel.invokeFunction('convertToInteractive',\n",
              "                                                     [key], {});\n",
              "          if (!dataTable) return;\n",
              "\n",
              "          const docLinkHtml = 'Like what you see? Visit the ' +\n",
              "            '<a target=\"_blank\" href=https://colab.research.google.com/notebooks/data_table.ipynb>data table notebook</a>'\n",
              "            + ' to learn more about interactive tables.';\n",
              "          element.innerHTML = '';\n",
              "          dataTable['output_type'] = 'display_data';\n",
              "          await google.colab.output.renderOutput(dataTable, element);\n",
              "          const docLink = document.createElement('div');\n",
              "          docLink.innerHTML = docLinkHtml;\n",
              "          element.appendChild(docLink);\n",
              "        }\n",
              "      </script>\n",
              "    </div>\n",
              "  </div>\n",
              "  "
            ]
          },
          "metadata": {},
          "execution_count": 18
        }
      ]
    },
    {
      "cell_type": "code",
      "source": [
        "# Hence dropping values for such cases\n",
        "df = df.drop((df[df['pickup_latitude']<-90]).index, axis=0)\n",
        "df = df.drop((df[df['pickup_latitude']>90]).index, axis=0)"
      ],
      "metadata": {
        "id": "dBdzQU0EzV1Z"
      },
      "execution_count": 19,
      "outputs": []
    },
    {
      "cell_type": "code",
      "source": [
        "# Removing all such cases if there in our dataset\n",
        "df = df.drop((df[df['pickup_longitude']<-90]).index, axis=0)\n",
        "df = df.drop((df[df['pickup_longitude']>90]).index, axis=0)\n",
        "df = df.drop((df[df['dropoff_latitude']<-90]).index, axis=0)\n",
        "df = df.drop((df[df['dropoff_latitude']>90]).index, axis=0)\n",
        "df = df.drop((df[df['dropoff_longitude']<-90]).index, axis=0)\n",
        "df = df.drop((df[df['dropoff_longitude']>90]).index, axis=0)\n"
      ],
      "metadata": {
        "id": "Amv72Nzwzk0w"
      },
      "execution_count": 28,
      "outputs": []
    },
    {
      "cell_type": "code",
      "source": [
        "df.shape"
      ],
      "metadata": {
        "colab": {
          "base_uri": "https://localhost:8080/"
        },
        "id": "TdRsP2ZAz7R4",
        "outputId": "13d927d1-e11d-4fa7-cac2-f4f7196a820a"
      },
      "execution_count": 21,
      "outputs": [
        {
          "output_type": "execute_result",
          "data": {
            "text/plain": [
              "(199973, 13)"
            ]
          },
          "metadata": {},
          "execution_count": 21
        }
      ]
    },
    {
      "cell_type": "markdown",
      "source": [
        "***Now we have successfully cleared our dataset. Thus proceeding for further operations:***"
      ],
      "metadata": {
        "id": "a70EiQSz0FN4"
      }
    },
    {
      "cell_type": "markdown",
      "source": [
        "### Calculating Distance\n",
        "\n",
        "*Now the next very important task is to calculate the distance btetween the pickup and the drop locations using the latitudes and longitudes.*"
      ],
      "metadata": {
        "id": "AHljHJg80yEu"
      }
    },
    {
      "cell_type": "code",
      "source": [
        "# As we know that we have been given the pickup longitute and latitude values and same for the dropoff. \n",
        "# So we need to calculate the distance using the haversine formula and we will create a new variable called distance\n",
        "def haversine(a):\n",
        "    lon1=a[0]\n",
        "    lat1=a[1]\n",
        "    lon2=a[2]\n",
        "    lat2=a[3]\n",
        "    \"\"\"\n",
        "    Calculate the great circle distance between two points \n",
        "    on the earth (specified in decimal degrees)\n",
        "    \"\"\"\n",
        "    # convert decimal degrees to radians \n",
        "    lon1, lat1, lon2, lat2 = map(radians, [lon1, lat1, lon2, lat2])\n",
        "    \n",
        "    # haversine formula \n",
        "    dlon = lon2 - lon1 \n",
        "    dlat = lat2 - lat1 \n",
        "    a = sin(dlat/2)**2 + cos(lat1) * cos(lat2) * sin(dlon/2)**2\n",
        "    c =  2 * asin(sqrt(a))\n",
        "    # Radius of earth in kilometers is 6371\n",
        "    km = 6371* c\n",
        "    return km"
      ],
      "metadata": {
        "id": "iqXtZ5lL0PcI"
      },
      "execution_count": 22,
      "outputs": []
    },
    {
      "cell_type": "code",
      "source": [
        "# Making a new column distance where we'll apply the haversine function created above.\n",
        "df['distance'] = df[['pickup_longitude','pickup_latitude','dropoff_longitude','dropoff_latitude']].apply(haversine,axis=1)"
      ],
      "metadata": {
        "id": "dPZ-OlPn08HW"
      },
      "execution_count": 23,
      "outputs": []
    },
    {
      "cell_type": "code",
      "source": [
        "df.head()"
      ],
      "metadata": {
        "id": "OiZBrPmz18Y7",
        "colab": {
          "base_uri": "https://localhost:8080/",
          "height": 206
        },
        "outputId": "dcfac1c2-df13-4601-a4bf-120f34247b43"
      },
      "execution_count": 38,
      "outputs": [
        {
          "output_type": "execute_result",
          "data": {
            "text/plain": [
              "   fare_amount  passenger_count  year  Month  Date  Day  Hour  distance\n",
              "0          7.5                1  2015      5     7    3    19  1.683323\n",
              "1          7.7                1  2009      7    17    4    20  2.457590\n",
              "2         12.9                1  2009      8    24    0    21  5.036377\n",
              "3          5.3                3  2009      6    26    4     8  1.661683\n",
              "4         16.0                5  2014      8    28    3    17  4.475450"
            ],
            "text/html": [
              "\n",
              "  <div id=\"df-f1b86b26-d1fe-4082-9c8c-0093d585c562\">\n",
              "    <div class=\"colab-df-container\">\n",
              "      <div>\n",
              "<style scoped>\n",
              "    .dataframe tbody tr th:only-of-type {\n",
              "        vertical-align: middle;\n",
              "    }\n",
              "\n",
              "    .dataframe tbody tr th {\n",
              "        vertical-align: top;\n",
              "    }\n",
              "\n",
              "    .dataframe thead th {\n",
              "        text-align: right;\n",
              "    }\n",
              "</style>\n",
              "<table border=\"1\" class=\"dataframe\">\n",
              "  <thead>\n",
              "    <tr style=\"text-align: right;\">\n",
              "      <th></th>\n",
              "      <th>fare_amount</th>\n",
              "      <th>passenger_count</th>\n",
              "      <th>year</th>\n",
              "      <th>Month</th>\n",
              "      <th>Date</th>\n",
              "      <th>Day</th>\n",
              "      <th>Hour</th>\n",
              "      <th>distance</th>\n",
              "    </tr>\n",
              "  </thead>\n",
              "  <tbody>\n",
              "    <tr>\n",
              "      <th>0</th>\n",
              "      <td>7.5</td>\n",
              "      <td>1</td>\n",
              "      <td>2015</td>\n",
              "      <td>5</td>\n",
              "      <td>7</td>\n",
              "      <td>3</td>\n",
              "      <td>19</td>\n",
              "      <td>1.683323</td>\n",
              "    </tr>\n",
              "    <tr>\n",
              "      <th>1</th>\n",
              "      <td>7.7</td>\n",
              "      <td>1</td>\n",
              "      <td>2009</td>\n",
              "      <td>7</td>\n",
              "      <td>17</td>\n",
              "      <td>4</td>\n",
              "      <td>20</td>\n",
              "      <td>2.457590</td>\n",
              "    </tr>\n",
              "    <tr>\n",
              "      <th>2</th>\n",
              "      <td>12.9</td>\n",
              "      <td>1</td>\n",
              "      <td>2009</td>\n",
              "      <td>8</td>\n",
              "      <td>24</td>\n",
              "      <td>0</td>\n",
              "      <td>21</td>\n",
              "      <td>5.036377</td>\n",
              "    </tr>\n",
              "    <tr>\n",
              "      <th>3</th>\n",
              "      <td>5.3</td>\n",
              "      <td>3</td>\n",
              "      <td>2009</td>\n",
              "      <td>6</td>\n",
              "      <td>26</td>\n",
              "      <td>4</td>\n",
              "      <td>8</td>\n",
              "      <td>1.661683</td>\n",
              "    </tr>\n",
              "    <tr>\n",
              "      <th>4</th>\n",
              "      <td>16.0</td>\n",
              "      <td>5</td>\n",
              "      <td>2014</td>\n",
              "      <td>8</td>\n",
              "      <td>28</td>\n",
              "      <td>3</td>\n",
              "      <td>17</td>\n",
              "      <td>4.475450</td>\n",
              "    </tr>\n",
              "  </tbody>\n",
              "</table>\n",
              "</div>\n",
              "      <button class=\"colab-df-convert\" onclick=\"convertToInteractive('df-f1b86b26-d1fe-4082-9c8c-0093d585c562')\"\n",
              "              title=\"Convert this dataframe to an interactive table.\"\n",
              "              style=\"display:none;\">\n",
              "        \n",
              "  <svg xmlns=\"http://www.w3.org/2000/svg\" height=\"24px\"viewBox=\"0 0 24 24\"\n",
              "       width=\"24px\">\n",
              "    <path d=\"M0 0h24v24H0V0z\" fill=\"none\"/>\n",
              "    <path d=\"M18.56 5.44l.94 2.06.94-2.06 2.06-.94-2.06-.94-.94-2.06-.94 2.06-2.06.94zm-11 1L8.5 8.5l.94-2.06 2.06-.94-2.06-.94L8.5 2.5l-.94 2.06-2.06.94zm10 10l.94 2.06.94-2.06 2.06-.94-2.06-.94-.94-2.06-.94 2.06-2.06.94z\"/><path d=\"M17.41 7.96l-1.37-1.37c-.4-.4-.92-.59-1.43-.59-.52 0-1.04.2-1.43.59L10.3 9.45l-7.72 7.72c-.78.78-.78 2.05 0 2.83L4 21.41c.39.39.9.59 1.41.59.51 0 1.02-.2 1.41-.59l7.78-7.78 2.81-2.81c.8-.78.8-2.07 0-2.86zM5.41 20L4 18.59l7.72-7.72 1.47 1.35L5.41 20z\"/>\n",
              "  </svg>\n",
              "      </button>\n",
              "      \n",
              "  <style>\n",
              "    .colab-df-container {\n",
              "      display:flex;\n",
              "      flex-wrap:wrap;\n",
              "      gap: 12px;\n",
              "    }\n",
              "\n",
              "    .colab-df-convert {\n",
              "      background-color: #E8F0FE;\n",
              "      border: none;\n",
              "      border-radius: 50%;\n",
              "      cursor: pointer;\n",
              "      display: none;\n",
              "      fill: #1967D2;\n",
              "      height: 32px;\n",
              "      padding: 0 0 0 0;\n",
              "      width: 32px;\n",
              "    }\n",
              "\n",
              "    .colab-df-convert:hover {\n",
              "      background-color: #E2EBFA;\n",
              "      box-shadow: 0px 1px 2px rgba(60, 64, 67, 0.3), 0px 1px 3px 1px rgba(60, 64, 67, 0.15);\n",
              "      fill: #174EA6;\n",
              "    }\n",
              "\n",
              "    [theme=dark] .colab-df-convert {\n",
              "      background-color: #3B4455;\n",
              "      fill: #D2E3FC;\n",
              "    }\n",
              "\n",
              "    [theme=dark] .colab-df-convert:hover {\n",
              "      background-color: #434B5C;\n",
              "      box-shadow: 0px 1px 3px 1px rgba(0, 0, 0, 0.15);\n",
              "      filter: drop-shadow(0px 1px 2px rgba(0, 0, 0, 0.3));\n",
              "      fill: #FFFFFF;\n",
              "    }\n",
              "  </style>\n",
              "\n",
              "      <script>\n",
              "        const buttonEl =\n",
              "          document.querySelector('#df-f1b86b26-d1fe-4082-9c8c-0093d585c562 button.colab-df-convert');\n",
              "        buttonEl.style.display =\n",
              "          google.colab.kernel.accessAllowed ? 'block' : 'none';\n",
              "\n",
              "        async function convertToInteractive(key) {\n",
              "          const element = document.querySelector('#df-f1b86b26-d1fe-4082-9c8c-0093d585c562');\n",
              "          const dataTable =\n",
              "            await google.colab.kernel.invokeFunction('convertToInteractive',\n",
              "                                                     [key], {});\n",
              "          if (!dataTable) return;\n",
              "\n",
              "          const docLinkHtml = 'Like what you see? Visit the ' +\n",
              "            '<a target=\"_blank\" href=https://colab.research.google.com/notebooks/data_table.ipynb>data table notebook</a>'\n",
              "            + ' to learn more about interactive tables.';\n",
              "          element.innerHTML = '';\n",
              "          dataTable['output_type'] = 'display_data';\n",
              "          await google.colab.output.renderOutput(dataTable, element);\n",
              "          const docLink = document.createElement('div');\n",
              "          docLink.innerHTML = docLinkHtml;\n",
              "          element.appendChild(docLink);\n",
              "        }\n",
              "      </script>\n",
              "    </div>\n",
              "  </div>\n",
              "  "
            ]
          },
          "metadata": {},
          "execution_count": 38
        }
      ]
    },
    {
      "cell_type": "code",
      "source": [
        "df['distance'].describe()"
      ],
      "metadata": {
        "colab": {
          "base_uri": "https://localhost:8080/"
        },
        "id": "iagvjw8x1abJ",
        "outputId": "32b2f523-056b-40be-8a8a-41eab77b1233"
      },
      "execution_count": 25,
      "outputs": [
        {
          "output_type": "execute_result",
          "data": {
            "text/plain": [
              "count    199973.000000\n",
              "mean         20.675628\n",
              "std         380.216775\n",
              "min           0.000000\n",
              "25%           1.215364\n",
              "50%           2.121053\n",
              "75%           3.875077\n",
              "max       10321.507661\n",
              "Name: distance, dtype: float64"
            ]
          },
          "metadata": {},
          "execution_count": 25
        }
      ]
    },
    {
      "cell_type": "markdown",
      "source": [
        "We can observe that the minimum distance is 0 so we need to remove such data points."
      ],
      "metadata": {
        "id": "BJ9-JarG9mNW"
      }
    },
    {
      "cell_type": "code",
      "source": [
        "# Removing the cases where distance is equal to 0\n",
        "df = df.drop((df[df['distance'] == 0]).index, axis=0)\n"
      ],
      "metadata": {
        "id": "KyNpVOBH9P7T"
      },
      "execution_count": 30,
      "outputs": []
    },
    {
      "cell_type": "markdown",
      "source": [
        "Now we have splitted the pickup date time variable into different varaibles like month, year, day etc so now we dont need to have that pickup_Date variable now. Hence we can drop that, Also we have created distance using pickup and drop longitudes and latitudes so we will also drop pickup and drop longitudes and latitudes variables."
      ],
      "metadata": {
        "id": "D-JSLET_3EGK"
      }
    },
    {
      "cell_type": "code",
      "source": [
        "df.shape"
      ],
      "metadata": {
        "colab": {
          "base_uri": "https://localhost:8080/"
        },
        "id": "DGpNR0XOPJW8",
        "outputId": "1b814836-1540-4684-e95a-a577feeabf95"
      },
      "execution_count": 39,
      "outputs": [
        {
          "output_type": "execute_result",
          "data": {
            "text/plain": [
              "(194333, 8)"
            ]
          },
          "metadata": {},
          "execution_count": 39
        }
      ]
    },
    {
      "cell_type": "code",
      "source": [
        "drop = ['pickup_datetime', 'pickup_longitude', 'pickup_latitude','dropoff_longitude', 'dropoff_latitude', 'Minute']\n",
        "df = df.drop(drop, axis = 1)"
      ],
      "metadata": {
        "id": "jeUhtM-l3E4X"
      },
      "execution_count": null,
      "outputs": []
    },
    {
      "cell_type": "code",
      "source": [
        "df.head()"
      ],
      "metadata": {
        "colab": {
          "base_uri": "https://localhost:8080/",
          "height": 206
        },
        "id": "Ap_uyRIV3LFC",
        "outputId": "766c0a4e-fbf7-4878-ebf7-7e257e961e3e"
      },
      "execution_count": 33,
      "outputs": [
        {
          "output_type": "execute_result",
          "data": {
            "text/plain": [
              "   fare_amount  passenger_count  year  Month  Date  Day  Hour  distance\n",
              "0          7.5                1  2015      5     7    3    19  1.683323\n",
              "1          7.7                1  2009      7    17    4    20  2.457590\n",
              "2         12.9                1  2009      8    24    0    21  5.036377\n",
              "3          5.3                3  2009      6    26    4     8  1.661683\n",
              "4         16.0                5  2014      8    28    3    17  4.475450"
            ],
            "text/html": [
              "\n",
              "  <div id=\"df-fc7ca6ad-9c06-483a-a112-c464a3d5dd01\">\n",
              "    <div class=\"colab-df-container\">\n",
              "      <div>\n",
              "<style scoped>\n",
              "    .dataframe tbody tr th:only-of-type {\n",
              "        vertical-align: middle;\n",
              "    }\n",
              "\n",
              "    .dataframe tbody tr th {\n",
              "        vertical-align: top;\n",
              "    }\n",
              "\n",
              "    .dataframe thead th {\n",
              "        text-align: right;\n",
              "    }\n",
              "</style>\n",
              "<table border=\"1\" class=\"dataframe\">\n",
              "  <thead>\n",
              "    <tr style=\"text-align: right;\">\n",
              "      <th></th>\n",
              "      <th>fare_amount</th>\n",
              "      <th>passenger_count</th>\n",
              "      <th>year</th>\n",
              "      <th>Month</th>\n",
              "      <th>Date</th>\n",
              "      <th>Day</th>\n",
              "      <th>Hour</th>\n",
              "      <th>distance</th>\n",
              "    </tr>\n",
              "  </thead>\n",
              "  <tbody>\n",
              "    <tr>\n",
              "      <th>0</th>\n",
              "      <td>7.5</td>\n",
              "      <td>1</td>\n",
              "      <td>2015</td>\n",
              "      <td>5</td>\n",
              "      <td>7</td>\n",
              "      <td>3</td>\n",
              "      <td>19</td>\n",
              "      <td>1.683323</td>\n",
              "    </tr>\n",
              "    <tr>\n",
              "      <th>1</th>\n",
              "      <td>7.7</td>\n",
              "      <td>1</td>\n",
              "      <td>2009</td>\n",
              "      <td>7</td>\n",
              "      <td>17</td>\n",
              "      <td>4</td>\n",
              "      <td>20</td>\n",
              "      <td>2.457590</td>\n",
              "    </tr>\n",
              "    <tr>\n",
              "      <th>2</th>\n",
              "      <td>12.9</td>\n",
              "      <td>1</td>\n",
              "      <td>2009</td>\n",
              "      <td>8</td>\n",
              "      <td>24</td>\n",
              "      <td>0</td>\n",
              "      <td>21</td>\n",
              "      <td>5.036377</td>\n",
              "    </tr>\n",
              "    <tr>\n",
              "      <th>3</th>\n",
              "      <td>5.3</td>\n",
              "      <td>3</td>\n",
              "      <td>2009</td>\n",
              "      <td>6</td>\n",
              "      <td>26</td>\n",
              "      <td>4</td>\n",
              "      <td>8</td>\n",
              "      <td>1.661683</td>\n",
              "    </tr>\n",
              "    <tr>\n",
              "      <th>4</th>\n",
              "      <td>16.0</td>\n",
              "      <td>5</td>\n",
              "      <td>2014</td>\n",
              "      <td>8</td>\n",
              "      <td>28</td>\n",
              "      <td>3</td>\n",
              "      <td>17</td>\n",
              "      <td>4.475450</td>\n",
              "    </tr>\n",
              "  </tbody>\n",
              "</table>\n",
              "</div>\n",
              "      <button class=\"colab-df-convert\" onclick=\"convertToInteractive('df-fc7ca6ad-9c06-483a-a112-c464a3d5dd01')\"\n",
              "              title=\"Convert this dataframe to an interactive table.\"\n",
              "              style=\"display:none;\">\n",
              "        \n",
              "  <svg xmlns=\"http://www.w3.org/2000/svg\" height=\"24px\"viewBox=\"0 0 24 24\"\n",
              "       width=\"24px\">\n",
              "    <path d=\"M0 0h24v24H0V0z\" fill=\"none\"/>\n",
              "    <path d=\"M18.56 5.44l.94 2.06.94-2.06 2.06-.94-2.06-.94-.94-2.06-.94 2.06-2.06.94zm-11 1L8.5 8.5l.94-2.06 2.06-.94-2.06-.94L8.5 2.5l-.94 2.06-2.06.94zm10 10l.94 2.06.94-2.06 2.06-.94-2.06-.94-.94-2.06-.94 2.06-2.06.94z\"/><path d=\"M17.41 7.96l-1.37-1.37c-.4-.4-.92-.59-1.43-.59-.52 0-1.04.2-1.43.59L10.3 9.45l-7.72 7.72c-.78.78-.78 2.05 0 2.83L4 21.41c.39.39.9.59 1.41.59.51 0 1.02-.2 1.41-.59l7.78-7.78 2.81-2.81c.8-.78.8-2.07 0-2.86zM5.41 20L4 18.59l7.72-7.72 1.47 1.35L5.41 20z\"/>\n",
              "  </svg>\n",
              "      </button>\n",
              "      \n",
              "  <style>\n",
              "    .colab-df-container {\n",
              "      display:flex;\n",
              "      flex-wrap:wrap;\n",
              "      gap: 12px;\n",
              "    }\n",
              "\n",
              "    .colab-df-convert {\n",
              "      background-color: #E8F0FE;\n",
              "      border: none;\n",
              "      border-radius: 50%;\n",
              "      cursor: pointer;\n",
              "      display: none;\n",
              "      fill: #1967D2;\n",
              "      height: 32px;\n",
              "      padding: 0 0 0 0;\n",
              "      width: 32px;\n",
              "    }\n",
              "\n",
              "    .colab-df-convert:hover {\n",
              "      background-color: #E2EBFA;\n",
              "      box-shadow: 0px 1px 2px rgba(60, 64, 67, 0.3), 0px 1px 3px 1px rgba(60, 64, 67, 0.15);\n",
              "      fill: #174EA6;\n",
              "    }\n",
              "\n",
              "    [theme=dark] .colab-df-convert {\n",
              "      background-color: #3B4455;\n",
              "      fill: #D2E3FC;\n",
              "    }\n",
              "\n",
              "    [theme=dark] .colab-df-convert:hover {\n",
              "      background-color: #434B5C;\n",
              "      box-shadow: 0px 1px 3px 1px rgba(0, 0, 0, 0.15);\n",
              "      filter: drop-shadow(0px 1px 2px rgba(0, 0, 0, 0.3));\n",
              "      fill: #FFFFFF;\n",
              "    }\n",
              "  </style>\n",
              "\n",
              "      <script>\n",
              "        const buttonEl =\n",
              "          document.querySelector('#df-fc7ca6ad-9c06-483a-a112-c464a3d5dd01 button.colab-df-convert');\n",
              "        buttonEl.style.display =\n",
              "          google.colab.kernel.accessAllowed ? 'block' : 'none';\n",
              "\n",
              "        async function convertToInteractive(key) {\n",
              "          const element = document.querySelector('#df-fc7ca6ad-9c06-483a-a112-c464a3d5dd01');\n",
              "          const dataTable =\n",
              "            await google.colab.kernel.invokeFunction('convertToInteractive',\n",
              "                                                     [key], {});\n",
              "          if (!dataTable) return;\n",
              "\n",
              "          const docLinkHtml = 'Like what you see? Visit the ' +\n",
              "            '<a target=\"_blank\" href=https://colab.research.google.com/notebooks/data_table.ipynb>data table notebook</a>'\n",
              "            + ' to learn more about interactive tables.';\n",
              "          element.innerHTML = '';\n",
              "          dataTable['output_type'] = 'display_data';\n",
              "          await google.colab.output.renderOutput(dataTable, element);\n",
              "          const docLink = document.createElement('div');\n",
              "          docLink.innerHTML = docLinkHtml;\n",
              "          element.appendChild(docLink);\n",
              "        }\n",
              "      </script>\n",
              "    </div>\n",
              "  </div>\n",
              "  "
            ]
          },
          "metadata": {},
          "execution_count": 33
        }
      ]
    },
    {
      "cell_type": "markdown",
      "source": [
        "### **Data Visualization**"
      ],
      "metadata": {
        "id": "WNctDwrD3Y3p"
      }
    },
    {
      "cell_type": "code",
      "source": [
        "# Count plot on passenger count\n",
        "plt.figure(figsize=(15,7))\n",
        "sns.countplot(x = \"passenger_count\", data=df)"
      ],
      "metadata": {
        "colab": {
          "base_uri": "https://localhost:8080/",
          "height": 461
        },
        "id": "_Xmkl7a23pHi",
        "outputId": "37795fc0-0bd6-4d29-c86d-778c1e6e04cf"
      },
      "execution_count": 41,
      "outputs": [
        {
          "output_type": "execute_result",
          "data": {
            "text/plain": [
              "<matplotlib.axes._subplots.AxesSubplot at 0x7f59b1ebc250>"
            ]
          },
          "metadata": {},
          "execution_count": 41
        },
        {
          "output_type": "display_data",
          "data": {
            "text/plain": [
              "<Figure size 1080x504 with 1 Axes>"
            ],
            "image/png": "[encoded data removed]"
          },
          "metadata": {
            "needs_background": "light"
          }
        }
      ]
    },
    {
      "cell_type": "code",
      "source": [
        "#Relationship beetween number of passengers and Fare\n",
        "plt.figure(figsize=(15,7))\n",
        "plt.scatter(x = df['passenger_count'], y = df['fare_amount'], s=10)\n",
        "plt.xlabel('No. of Passengers')\n",
        "plt.ylabel('Fare')\n",
        "plt.show()"
      ],
      "metadata": {
        "colab": {
          "base_uri": "https://localhost:8080/",
          "height": 442
        },
        "id": "yYozbhRM3pFP",
        "outputId": "d4c3259f-bbd9-4e4f-edd5-185f7f070cd4"
      },
      "execution_count": 42,
      "outputs": [
        {
          "output_type": "display_data",
          "data": {
            "text/plain": [
              "<Figure size 1080x504 with 1 Axes>"
            ],
            "image/png": "[encoded data removed]"
          },
          "metadata": {
            "needs_background": "light"
          }
        }
      ]
    },
    {
      "cell_type": "markdown",
      "source": [
        "***Observations:***\n",
        "\n",
        "1.   Single travelling passengers are most frequent travellers.\n",
        "2.   At the sametime we can also conclude that highest Fare are coming from single & double travelling passengers.\n",
        "\n"
      ],
      "metadata": {
        "id": "6YT9J0f04Apx"
      }
    },
    {
      "cell_type": "code",
      "source": [
        "#Relationship between date and Fare\n",
        "plt.figure(figsize=(15,7))\n",
        "plt.scatter(x = df['Date'], y = df['fare_amount'], s=10)\n",
        "plt.xlabel('Date')\n",
        "plt.ylabel('Fare')\n",
        "plt.show()"
      ],
      "metadata": {
        "colab": {
          "base_uri": "https://localhost:8080/",
          "height": 442
        },
        "id": "9OxVjkvX3pDk",
        "outputId": "e0df211a-3683-4e38-dd91-4e6aeb80147a"
      },
      "execution_count": 43,
      "outputs": [
        {
          "output_type": "display_data",
          "data": {
            "text/plain": [
              "<Figure size 1080x504 with 1 Axes>"
            ],
            "image/png": "[encoded data removed]"
          },
          "metadata": {
            "needs_background": "light"
          }
        }
      ]
    },
    {
      "cell_type": "code",
      "source": [
        "#Relationship between hour and Fare\n",
        "plt.figure(figsize=(15,7))\n",
        "plt.scatter(x = df['Hour'], y = df['fare_amount'], s=10)\n",
        "plt.xlabel('Date')\n",
        "plt.ylabel('Fare')\n",
        "plt.show()"
      ],
      "metadata": {
        "colab": {
          "base_uri": "https://localhost:8080/",
          "height": 442
        },
        "id": "ekrw7X9g3pBr",
        "outputId": "d195e268-f51e-4bd3-adbe-c7575c288f21"
      },
      "execution_count": 44,
      "outputs": [
        {
          "output_type": "display_data",
          "data": {
            "text/plain": [
              "<Figure size 1080x504 with 1 Axes>"
            ],
            "image/png": "[encoded data removed]"
          },
          "metadata": {
            "needs_background": "light"
          }
        }
      ]
    },
    {
      "cell_type": "markdown",
      "source": [
        "*From the above plot we can observe that the cabs taken at 12 am, 8 am and 8 pm are the costliest. Hence we can assume that cabs taken early in morning and late at night are costliest* "
      ],
      "metadata": {
        "id": "fm2Lujy75LKQ"
      }
    },
    {
      "cell_type": "code",
      "source": [
        "#Relationship between month and Fare\n",
        "plt.figure(figsize=(15,7))\n",
        "plt.scatter(x = df['Month'], y = df['fare_amount'], s=10)\n",
        "plt.xlabel('Date')\n",
        "plt.ylabel('Fare')\n",
        "plt.show()"
      ],
      "metadata": {
        "colab": {
          "base_uri": "https://localhost:8080/",
          "height": 442
        },
        "id": "t50GT55L3o_W",
        "outputId": "4c17626e-2bad-4c07-9241-54cb3fe31db7"
      },
      "execution_count": 45,
      "outputs": [
        {
          "output_type": "display_data",
          "data": {
            "text/plain": [
              "<Figure size 1080x504 with 1 Axes>"
            ],
            "image/png": "[encoded data removed]"
          },
          "metadata": {
            "needs_background": "light"
          }
        }
      ]
    },
    {
      "cell_type": "code",
      "source": [
        "plt.figure(figsize=(15,7))\n",
        "df.groupby(df[\"Hour\"])['Hour'].count().plot(kind=\"bar\")\n",
        "plt.show()"
      ],
      "metadata": {
        "colab": {
          "base_uri": "https://localhost:8080/",
          "height": 445
        },
        "id": "Ego8wHDI3o9a",
        "outputId": "346d0510-3e25-4313-f6a4-aff8996f390c"
      },
      "execution_count": 46,
      "outputs": [
        {
          "output_type": "display_data",
          "data": {
            "text/plain": [
              "<Figure size 1080x504 with 1 Axes>"
            ],
            "image/png": "[encoded data removed]"
          },
          "metadata": {
            "needs_background": "light"
          }
        }
      ]
    },
    {
      "cell_type": "markdown",
      "source": [
        "*Lowest cabs at 5 AM and highest at and around 7 PM i.e the office rush hours* "
      ],
      "metadata": {
        "id": "3xS4hmq943ZB"
      }
    },
    {
      "cell_type": "code",
      "source": [
        "#impact of Day on the number of cab rides\n",
        "plt.figure(figsize=(15,7))\n",
        "sns.countplot(x=\"Day\", data=df)"
      ],
      "metadata": {
        "colab": {
          "base_uri": "https://localhost:8080/",
          "height": 459
        },
        "id": "gr7aMqeq3o7T",
        "outputId": "1f016804-3a30-417a-f0f1-0dcbc8c0f440"
      },
      "execution_count": 47,
      "outputs": [
        {
          "output_type": "execute_result",
          "data": {
            "text/plain": [
              "<matplotlib.axes._subplots.AxesSubplot at 0x7f59b12cf7d0>"
            ]
          },
          "metadata": {},
          "execution_count": 47
        },
        {
          "output_type": "display_data",
          "data": {
            "text/plain": [
              "<Figure size 1080x504 with 1 Axes>"
            ],
            "image/png": "[encoded data removed]"
          },
          "metadata": {
            "needs_background": "light"
          }
        }
      ]
    },
    {
      "cell_type": "markdown",
      "source": [
        "*The day of the week does not seem to have much influence on the number of cabs rides*"
      ],
      "metadata": {
        "id": "NgbV6jaS6IAN"
      }
    },
    {
      "cell_type": "code",
      "source": [
        "#Relationships between day and Fare\n",
        "plt.figure(figsize=(15,7))\n",
        "plt.scatter(x = df['Day'], y = df['fare_amount'], s=10)\n",
        "plt.xlabel('Day')\n",
        "plt.ylabel('Fare')\n",
        "plt.show()"
      ],
      "metadata": {
        "colab": {
          "base_uri": "https://localhost:8080/",
          "height": 442
        },
        "id": "wch2q-2p6PBe",
        "outputId": "3c9d09e3-2a8e-4bb8-d10b-70e115e92daf"
      },
      "execution_count": 48,
      "outputs": [
        {
          "output_type": "display_data",
          "data": {
            "text/plain": [
              "<Figure size 1080x504 with 1 Axes>"
            ],
            "image/png": "[encoded data removed]"
          },
          "metadata": {
            "needs_background": "light"
          }
        }
      ]
    },
    {
      "cell_type": "markdown",
      "source": [
        "No such conclusions can be made based on the day of the week."
      ],
      "metadata": {
        "id": "43nOPLPQ78M-"
      }
    },
    {
      "cell_type": "code",
      "source": [
        "# Define a figure.\n",
        "plt.figure(figsize=(14,12))\n",
        "\n",
        "# Box plot distribution\n",
        "sns.boxplot(df['distance'])\n",
        "plt.title('Distance', weight='bold')\n",
        "plt.tight_layout()"
      ],
      "metadata": {
        "colab": {
          "base_uri": "https://localhost:8080/",
          "height": 873
        },
        "id": "4IQj9Ice8R_3",
        "outputId": "6831e23c-afad-4055-f8e3-4ad645db6b96"
      },
      "execution_count": 49,
      "outputs": [
        {
          "output_type": "display_data",
          "data": {
            "text/plain": [
              "<Figure size 1008x864 with 1 Axes>"
            ],
            "image/png": "[encoded data removed]"
          },
          "metadata": {
            "needs_background": "light"
          }
        }
      ]
    },
    {
      "cell_type": "markdown",
      "source": [
        "We can observe that for a few data points have a large distance value. This might be the case when someone plans to go on a long road trip via taxi."
      ],
      "metadata": {
        "id": "EjCDSlkuIJ_I"
      }
    },
    {
      "cell_type": "code",
      "source": [
        "#Relationship between distance and fare \n",
        "plt.figure(figsize=(15,7))\n",
        "plt.scatter(x = df['distance'],y = df['fare_amount'],c = \"g\")\n",
        "plt.xlabel('Distance')\n",
        "plt.ylabel('Fare')\n",
        "plt.show()"
      ],
      "metadata": {
        "colab": {
          "base_uri": "https://localhost:8080/",
          "height": 442
        },
        "id": "_T6IXF7X3o5J",
        "outputId": "edfb7a93-d0b8-4c2e-e6da-2c319ef058a0"
      },
      "execution_count": 50,
      "outputs": [
        {
          "output_type": "display_data",
          "data": {
            "text/plain": [
              "<Figure size 1080x504 with 1 Axes>"
            ],
            "image/png": "[encoded data removed]"
          },
          "metadata": {
            "needs_background": "light"
          }
        }
      ]
    },
    {
      "cell_type": "markdown",
      "source": [
        "It is quite obvious that distance will effect the amount of fare"
      ],
      "metadata": {
        "id": "WLkA7Ao2I-nY"
      }
    },
    {
      "cell_type": "markdown",
      "source": [
        "## **Feature Scaling**"
      ],
      "metadata": {
        "id": "1lzlftIMI_fq"
      }
    },
    {
      "cell_type": "code",
      "source": [
        "#Normality check if data is uniformly distributed or not-\n",
        "sns.distplot(df['distance'])"
      ],
      "metadata": {
        "colab": {
          "base_uri": "https://localhost:8080/",
          "height": 296
        },
        "id": "_FjUSqbVI-8D",
        "outputId": "f39ea427-985f-401d-9ac3-e4870ebab7b6"
      },
      "execution_count": 51,
      "outputs": [
        {
          "output_type": "execute_result",
          "data": {
            "text/plain": [
              "<matplotlib.axes._subplots.AxesSubplot at 0x7f59b20efdd0>"
            ]
          },
          "metadata": {},
          "execution_count": 51
        },
        {
          "output_type": "display_data",
          "data": {
            "text/plain": [
              "<Figure size 432x288 with 1 Axes>"
            ],
            "image/png": "[encoded data removed]"
          },
          "metadata": {
            "needs_background": "light"
          }
        }
      ]
    },
    {
      "cell_type": "code",
      "source": [
        "# Since skewness of distance variable is high, apply log transform to reduce the skewness-\n",
        "df['distance'] = np.log1p(df['distance'])\n",
        "sns.distplot(df['distance'])"
      ],
      "metadata": {
        "colab": {
          "base_uri": "https://localhost:8080/",
          "height": 296
        },
        "id": "9bUdr9rjJIni",
        "outputId": "00a87aa3-2d85-4bbb-bba8-765db5317f71"
      },
      "execution_count": 52,
      "outputs": [
        {
          "output_type": "execute_result",
          "data": {
            "text/plain": [
              "<matplotlib.axes._subplots.AxesSubplot at 0x7f59b15e33d0>"
            ]
          },
          "metadata": {},
          "execution_count": 52
        },
        {
          "output_type": "display_data",
          "data": {
            "text/plain": [
              "<Figure size 432x288 with 1 Axes>"
            ],
            "image/png": "[encoded data removed]"
          },
          "metadata": {
            "needs_background": "light"
          }
        }
      ]
    },
    {
      "cell_type": "markdown",
      "source": [
        "## **Splitting the Dataframe into train and test sets**.\n",
        "***\n",
        "Now that the Dataset is cleaned and we have added all the neccessary features along with some conversions of categorical features. Its time to split the data into training and testing sets.\n",
        "\n",
        "Note:- These training and testing data are going to be same for all the model we'll build such that all of the models are evaluated on a same set of parameters."
      ],
      "metadata": {
        "id": "4ROVhXR0KsTT"
      }
    },
    {
      "cell_type": "code",
      "source": [
        "# Lets have a look at the data before going futther with splitting.\n",
        "df"
      ],
      "metadata": {
        "colab": {
          "base_uri": "https://localhost:8080/",
          "height": 424
        },
        "id": "HksAwaLSKW8o",
        "outputId": "af23660d-818b-4220-ec5b-699786ded104"
      },
      "execution_count": 53,
      "outputs": [
        {
          "output_type": "execute_result",
          "data": {
            "text/plain": [
              "        fare_amount  passenger_count  year  Month  Date  Day  Hour  distance\n",
              "0               7.5                1  2015      5     7    3    19  0.987056\n",
              "1               7.7                1  2009      7    17    4    20  1.240572\n",
              "2              12.9                1  2009      8    24    0    21  1.797804\n",
              "3               5.3                3  2009      6    26    4     8  0.978959\n",
              "4              16.0                5  2014      8    28    3    17  1.700274\n",
              "...             ...              ...   ...    ...   ...  ...   ...       ...\n",
              "199995          3.0                1  2012     10    28    6    10  0.106349\n",
              "199996          7.5                1  2014      3    14    4     1  1.056070\n",
              "199997         30.9                2  2009      6    29    0     0  2.628308\n",
              "199998         14.5                1  2015      5    20    2    14  1.512864\n",
              "199999         14.1                1  2010      5    15    5     4  1.859073\n",
              "\n",
              "[194333 rows x 8 columns]"
            ],
            "text/html": [
              "\n",
              "  <div id=\"df-e0b364e0-efbe-466d-86ce-db379cd87b87\">\n",
              "    <div class=\"colab-df-container\">\n",
              "      <div>\n",
              "<style scoped>\n",
              "    .dataframe tbody tr th:only-of-type {\n",
              "        vertical-align: middle;\n",
              "    }\n",
              "\n",
              "    .dataframe tbody tr th {\n",
              "        vertical-align: top;\n",
              "    }\n",
              "\n",
              "    .dataframe thead th {\n",
              "        text-align: right;\n",
              "    }\n",
              "</style>\n",
              "<table border=\"1\" class=\"dataframe\">\n",
              "  <thead>\n",
              "    <tr style=\"text-align: right;\">\n",
              "      <th></th>\n",
              "      <th>fare_amount</th>\n",
              "      <th>passenger_count</th>\n",
              "      <th>year</th>\n",
              "      <th>Month</th>\n",
              "      <th>Date</th>\n",
              "      <th>Day</th>\n",
              "      <th>Hour</th>\n",
              "      <th>distance</th>\n",
              "    </tr>\n",
              "  </thead>\n",
              "  <tbody>\n",
              "    <tr>\n",
              "      <th>0</th>\n",
              "      <td>7.5</td>\n",
              "      <td>1</td>\n",
              "      <td>2015</td>\n",
              "      <td>5</td>\n",
              "      <td>7</td>\n",
              "      <td>3</td>\n",
              "      <td>19</td>\n",
              "      <td>0.987056</td>\n",
              "    </tr>\n",
              "    <tr>\n",
              "      <th>1</th>\n",
              "      <td>7.7</td>\n",
              "      <td>1</td>\n",
              "      <td>2009</td>\n",
              "      <td>7</td>\n",
              "      <td>17</td>\n",
              "      <td>4</td>\n",
              "      <td>20</td>\n",
              "      <td>1.240572</td>\n",
              "    </tr>\n",
              "    <tr>\n",
              "      <th>2</th>\n",
              "      <td>12.9</td>\n",
              "      <td>1</td>\n",
              "      <td>2009</td>\n",
              "      <td>8</td>\n",
              "      <td>24</td>\n",
              "      <td>0</td>\n",
              "      <td>21</td>\n",
              "      <td>1.797804</td>\n",
              "    </tr>\n",
              "    <tr>\n",
              "      <th>3</th>\n",
              "      <td>5.3</td>\n",
              "      <td>3</td>\n",
              "      <td>2009</td>\n",
              "      <td>6</td>\n",
              "      <td>26</td>\n",
              "      <td>4</td>\n",
              "      <td>8</td>\n",
              "      <td>0.978959</td>\n",
              "    </tr>\n",
              "    <tr>\n",
              "      <th>4</th>\n",
              "      <td>16.0</td>\n",
              "      <td>5</td>\n",
              "      <td>2014</td>\n",
              "      <td>8</td>\n",
              "      <td>28</td>\n",
              "      <td>3</td>\n",
              "      <td>17</td>\n",
              "      <td>1.700274</td>\n",
              "    </tr>\n",
              "    <tr>\n",
              "      <th>...</th>\n",
              "      <td>...</td>\n",
              "      <td>...</td>\n",
              "      <td>...</td>\n",
              "      <td>...</td>\n",
              "      <td>...</td>\n",
              "      <td>...</td>\n",
              "      <td>...</td>\n",
              "      <td>...</td>\n",
              "    </tr>\n",
              "    <tr>\n",
              "      <th>199995</th>\n",
              "      <td>3.0</td>\n",
              "      <td>1</td>\n",
              "      <td>2012</td>\n",
              "      <td>10</td>\n",
              "      <td>28</td>\n",
              "      <td>6</td>\n",
              "      <td>10</td>\n",
              "      <td>0.106349</td>\n",
              "    </tr>\n",
              "    <tr>\n",
              "      <th>199996</th>\n",
              "      <td>7.5</td>\n",
              "      <td>1</td>\n",
              "      <td>2014</td>\n",
              "      <td>3</td>\n",
              "      <td>14</td>\n",
              "      <td>4</td>\n",
              "      <td>1</td>\n",
              "      <td>1.056070</td>\n",
              "    </tr>\n",
              "    <tr>\n",
              "      <th>199997</th>\n",
              "      <td>30.9</td>\n",
              "      <td>2</td>\n",
              "      <td>2009</td>\n",
              "      <td>6</td>\n",
              "      <td>29</td>\n",
              "      <td>0</td>\n",
              "      <td>0</td>\n",
              "      <td>2.628308</td>\n",
              "    </tr>\n",
              "    <tr>\n",
              "      <th>199998</th>\n",
              "      <td>14.5</td>\n",
              "      <td>1</td>\n",
              "      <td>2015</td>\n",
              "      <td>5</td>\n",
              "      <td>20</td>\n",
              "      <td>2</td>\n",
              "      <td>14</td>\n",
              "      <td>1.512864</td>\n",
              "    </tr>\n",
              "    <tr>\n",
              "      <th>199999</th>\n",
              "      <td>14.1</td>\n",
              "      <td>1</td>\n",
              "      <td>2010</td>\n",
              "      <td>5</td>\n",
              "      <td>15</td>\n",
              "      <td>5</td>\n",
              "      <td>4</td>\n",
              "      <td>1.859073</td>\n",
              "    </tr>\n",
              "  </tbody>\n",
              "</table>\n",
              "<p>194333 rows × 8 columns</p>\n",
              "</div>\n",
              "      <button class=\"colab-df-convert\" onclick=\"convertToInteractive('df-e0b364e0-efbe-466d-86ce-db379cd87b87')\"\n",
              "              title=\"Convert this dataframe to an interactive table.\"\n",
              "              style=\"display:none;\">\n",
              "        \n",
              "  <svg xmlns=\"http://www.w3.org/2000/svg\" height=\"24px\"viewBox=\"0 0 24 24\"\n",
              "       width=\"24px\">\n",
              "    <path d=\"M0 0h24v24H0V0z\" fill=\"none\"/>\n",
              "    <path d=\"M18.56 5.44l.94 2.06.94-2.06 2.06-.94-2.06-.94-.94-2.06-.94 2.06-2.06.94zm-11 1L8.5 8.5l.94-2.06 2.06-.94-2.06-.94L8.5 2.5l-.94 2.06-2.06.94zm10 10l.94 2.06.94-2.06 2.06-.94-2.06-.94-.94-2.06-.94 2.06-2.06.94z\"/><path d=\"M17.41 7.96l-1.37-1.37c-.4-.4-.92-.59-1.43-.59-.52 0-1.04.2-1.43.59L10.3 9.45l-7.72 7.72c-.78.78-.78 2.05 0 2.83L4 21.41c.39.39.9.59 1.41.59.51 0 1.02-.2 1.41-.59l7.78-7.78 2.81-2.81c.8-.78.8-2.07 0-2.86zM5.41 20L4 18.59l7.72-7.72 1.47 1.35L5.41 20z\"/>\n",
              "  </svg>\n",
              "      </button>\n",
              "      \n",
              "  <style>\n",
              "    .colab-df-container {\n",
              "      display:flex;\n",
              "      flex-wrap:wrap;\n",
              "      gap: 12px;\n",
              "    }\n",
              "\n",
              "    .colab-df-convert {\n",
              "      background-color: #E8F0FE;\n",
              "      border: none;\n",
              "      border-radius: 50%;\n",
              "      cursor: pointer;\n",
              "      display: none;\n",
              "      fill: #1967D2;\n",
              "      height: 32px;\n",
              "      padding: 0 0 0 0;\n",
              "      width: 32px;\n",
              "    }\n",
              "\n",
              "    .colab-df-convert:hover {\n",
              "      background-color: #E2EBFA;\n",
              "      box-shadow: 0px 1px 2px rgba(60, 64, 67, 0.3), 0px 1px 3px 1px rgba(60, 64, 67, 0.15);\n",
              "      fill: #174EA6;\n",
              "    }\n",
              "\n",
              "    [theme=dark] .colab-df-convert {\n",
              "      background-color: #3B4455;\n",
              "      fill: #D2E3FC;\n",
              "    }\n",
              "\n",
              "    [theme=dark] .colab-df-convert:hover {\n",
              "      background-color: #434B5C;\n",
              "      box-shadow: 0px 1px 3px 1px rgba(0, 0, 0, 0.15);\n",
              "      filter: drop-shadow(0px 1px 2px rgba(0, 0, 0, 0.3));\n",
              "      fill: #FFFFFF;\n",
              "    }\n",
              "  </style>\n",
              "\n",
              "      <script>\n",
              "        const buttonEl =\n",
              "          document.querySelector('#df-e0b364e0-efbe-466d-86ce-db379cd87b87 button.colab-df-convert');\n",
              "        buttonEl.style.display =\n",
              "          google.colab.kernel.accessAllowed ? 'block' : 'none';\n",
              "\n",
              "        async function convertToInteractive(key) {\n",
              "          const element = document.querySelector('#df-e0b364e0-efbe-466d-86ce-db379cd87b87');\n",
              "          const dataTable =\n",
              "            await google.colab.kernel.invokeFunction('convertToInteractive',\n",
              "                                                     [key], {});\n",
              "          if (!dataTable) return;\n",
              "\n",
              "          const docLinkHtml = 'Like what you see? Visit the ' +\n",
              "            '<a target=\"_blank\" href=https://colab.research.google.com/notebooks/data_table.ipynb>data table notebook</a>'\n",
              "            + ' to learn more about interactive tables.';\n",
              "          element.innerHTML = '';\n",
              "          dataTable['output_type'] = 'display_data';\n",
              "          await google.colab.output.renderOutput(dataTable, element);\n",
              "          const docLink = document.createElement('div');\n",
              "          docLink.innerHTML = docLinkHtml;\n",
              "          element.appendChild(docLink);\n",
              "        }\n",
              "      </script>\n",
              "    </div>\n",
              "  </div>\n",
              "  "
            ]
          },
          "metadata": {},
          "execution_count": 53
        }
      ]
    },
    {
      "cell_type": "code",
      "source": [
        "# independent variables\n",
        "X = df[list(df.columns)[1:]]\n",
        "\n",
        "# dependent variable\n",
        "y = df[\"fare_amount\"]"
      ],
      "metadata": {
        "id": "gJ4QrQjLK7OQ"
      },
      "execution_count": 54,
      "outputs": []
    },
    {
      "cell_type": "code",
      "source": [
        "# display independent variables dataframe\n",
        "X"
      ],
      "metadata": {
        "colab": {
          "base_uri": "https://localhost:8080/",
          "height": 424
        },
        "id": "J5cdsV87K_0f",
        "outputId": "6f67c113-d163-4869-be78-22ee71e73c49"
      },
      "execution_count": 55,
      "outputs": [
        {
          "output_type": "execute_result",
          "data": {
            "text/plain": [
              "        passenger_count  year  Month  Date  Day  Hour  distance\n",
              "0                     1  2015      5     7    3    19  0.987056\n",
              "1                     1  2009      7    17    4    20  1.240572\n",
              "2                     1  2009      8    24    0    21  1.797804\n",
              "3                     3  2009      6    26    4     8  0.978959\n",
              "4                     5  2014      8    28    3    17  1.700274\n",
              "...                 ...   ...    ...   ...  ...   ...       ...\n",
              "199995                1  2012     10    28    6    10  0.106349\n",
              "199996                1  2014      3    14    4     1  1.056070\n",
              "199997                2  2009      6    29    0     0  2.628308\n",
              "199998                1  2015      5    20    2    14  1.512864\n",
              "199999                1  2010      5    15    5     4  1.859073\n",
              "\n",
              "[194333 rows x 7 columns]"
            ],
            "text/html": [
              "\n",
              "  <div id=\"df-575782ef-636e-46cc-baa4-5f349435a866\">\n",
              "    <div class=\"colab-df-container\">\n",
              "      <div>\n",
              "<style scoped>\n",
              "    .dataframe tbody tr th:only-of-type {\n",
              "        vertical-align: middle;\n",
              "    }\n",
              "\n",
              "    .dataframe tbody tr th {\n",
              "        vertical-align: top;\n",
              "    }\n",
              "\n",
              "    .dataframe thead th {\n",
              "        text-align: right;\n",
              "    }\n",
              "</style>\n",
              "<table border=\"1\" class=\"dataframe\">\n",
              "  <thead>\n",
              "    <tr style=\"text-align: right;\">\n",
              "      <th></th>\n",
              "      <th>passenger_count</th>\n",
              "      <th>year</th>\n",
              "      <th>Month</th>\n",
              "      <th>Date</th>\n",
              "      <th>Day</th>\n",
              "      <th>Hour</th>\n",
              "      <th>distance</th>\n",
              "    </tr>\n",
              "  </thead>\n",
              "  <tbody>\n",
              "    <tr>\n",
              "      <th>0</th>\n",
              "      <td>1</td>\n",
              "      <td>2015</td>\n",
              "      <td>5</td>\n",
              "      <td>7</td>\n",
              "      <td>3</td>\n",
              "      <td>19</td>\n",
              "      <td>0.987056</td>\n",
              "    </tr>\n",
              "    <tr>\n",
              "      <th>1</th>\n",
              "      <td>1</td>\n",
              "      <td>2009</td>\n",
              "      <td>7</td>\n",
              "      <td>17</td>\n",
              "      <td>4</td>\n",
              "      <td>20</td>\n",
              "      <td>1.240572</td>\n",
              "    </tr>\n",
              "    <tr>\n",
              "      <th>2</th>\n",
              "      <td>1</td>\n",
              "      <td>2009</td>\n",
              "      <td>8</td>\n",
              "      <td>24</td>\n",
              "      <td>0</td>\n",
              "      <td>21</td>\n",
              "      <td>1.797804</td>\n",
              "    </tr>\n",
              "    <tr>\n",
              "      <th>3</th>\n",
              "      <td>3</td>\n",
              "      <td>2009</td>\n",
              "      <td>6</td>\n",
              "      <td>26</td>\n",
              "      <td>4</td>\n",
              "      <td>8</td>\n",
              "      <td>0.978959</td>\n",
              "    </tr>\n",
              "    <tr>\n",
              "      <th>4</th>\n",
              "      <td>5</td>\n",
              "      <td>2014</td>\n",
              "      <td>8</td>\n",
              "      <td>28</td>\n",
              "      <td>3</td>\n",
              "      <td>17</td>\n",
              "      <td>1.700274</td>\n",
              "    </tr>\n",
              "    <tr>\n",
              "      <th>...</th>\n",
              "      <td>...</td>\n",
              "      <td>...</td>\n",
              "      <td>...</td>\n",
              "      <td>...</td>\n",
              "      <td>...</td>\n",
              "      <td>...</td>\n",
              "      <td>...</td>\n",
              "    </tr>\n",
              "    <tr>\n",
              "      <th>199995</th>\n",
              "      <td>1</td>\n",
              "      <td>2012</td>\n",
              "      <td>10</td>\n",
              "      <td>28</td>\n",
              "      <td>6</td>\n",
              "      <td>10</td>\n",
              "      <td>0.106349</td>\n",
              "    </tr>\n",
              "    <tr>\n",
              "      <th>199996</th>\n",
              "      <td>1</td>\n",
              "      <td>2014</td>\n",
              "      <td>3</td>\n",
              "      <td>14</td>\n",
              "      <td>4</td>\n",
              "      <td>1</td>\n",
              "      <td>1.056070</td>\n",
              "    </tr>\n",
              "    <tr>\n",
              "      <th>199997</th>\n",
              "      <td>2</td>\n",
              "      <td>2009</td>\n",
              "      <td>6</td>\n",
              "      <td>29</td>\n",
              "      <td>0</td>\n",
              "      <td>0</td>\n",
              "      <td>2.628308</td>\n",
              "    </tr>\n",
              "    <tr>\n",
              "      <th>199998</th>\n",
              "      <td>1</td>\n",
              "      <td>2015</td>\n",
              "      <td>5</td>\n",
              "      <td>20</td>\n",
              "      <td>2</td>\n",
              "      <td>14</td>\n",
              "      <td>1.512864</td>\n",
              "    </tr>\n",
              "    <tr>\n",
              "      <th>199999</th>\n",
              "      <td>1</td>\n",
              "      <td>2010</td>\n",
              "      <td>5</td>\n",
              "      <td>15</td>\n",
              "      <td>5</td>\n",
              "      <td>4</td>\n",
              "      <td>1.859073</td>\n",
              "    </tr>\n",
              "  </tbody>\n",
              "</table>\n",
              "<p>194333 rows × 7 columns</p>\n",
              "</div>\n",
              "      <button class=\"colab-df-convert\" onclick=\"convertToInteractive('df-575782ef-636e-46cc-baa4-5f349435a866')\"\n",
              "              title=\"Convert this dataframe to an interactive table.\"\n",
              "              style=\"display:none;\">\n",
              "        \n",
              "  <svg xmlns=\"http://www.w3.org/2000/svg\" height=\"24px\"viewBox=\"0 0 24 24\"\n",
              "       width=\"24px\">\n",
              "    <path d=\"M0 0h24v24H0V0z\" fill=\"none\"/>\n",
              "    <path d=\"M18.56 5.44l.94 2.06.94-2.06 2.06-.94-2.06-.94-.94-2.06-.94 2.06-2.06.94zm-11 1L8.5 8.5l.94-2.06 2.06-.94-2.06-.94L8.5 2.5l-.94 2.06-2.06.94zm10 10l.94 2.06.94-2.06 2.06-.94-2.06-.94-.94-2.06-.94 2.06-2.06.94z\"/><path d=\"M17.41 7.96l-1.37-1.37c-.4-.4-.92-.59-1.43-.59-.52 0-1.04.2-1.43.59L10.3 9.45l-7.72 7.72c-.78.78-.78 2.05 0 2.83L4 21.41c.39.39.9.59 1.41.59.51 0 1.02-.2 1.41-.59l7.78-7.78 2.81-2.81c.8-.78.8-2.07 0-2.86zM5.41 20L4 18.59l7.72-7.72 1.47 1.35L5.41 20z\"/>\n",
              "  </svg>\n",
              "      </button>\n",
              "      \n",
              "  <style>\n",
              "    .colab-df-container {\n",
              "      display:flex;\n",
              "      flex-wrap:wrap;\n",
              "      gap: 12px;\n",
              "    }\n",
              "\n",
              "    .colab-df-convert {\n",
              "      background-color: #E8F0FE;\n",
              "      border: none;\n",
              "      border-radius: 50%;\n",
              "      cursor: pointer;\n",
              "      display: none;\n",
              "      fill: #1967D2;\n",
              "      height: 32px;\n",
              "      padding: 0 0 0 0;\n",
              "      width: 32px;\n",
              "    }\n",
              "\n",
              "    .colab-df-convert:hover {\n",
              "      background-color: #E2EBFA;\n",
              "      box-shadow: 0px 1px 2px rgba(60, 64, 67, 0.3), 0px 1px 3px 1px rgba(60, 64, 67, 0.15);\n",
              "      fill: #174EA6;\n",
              "    }\n",
              "\n",
              "    [theme=dark] .colab-df-convert {\n",
              "      background-color: #3B4455;\n",
              "      fill: #D2E3FC;\n",
              "    }\n",
              "\n",
              "    [theme=dark] .colab-df-convert:hover {\n",
              "      background-color: #434B5C;\n",
              "      box-shadow: 0px 1px 3px 1px rgba(0, 0, 0, 0.15);\n",
              "      filter: drop-shadow(0px 1px 2px rgba(0, 0, 0, 0.3));\n",
              "      fill: #FFFFFF;\n",
              "    }\n",
              "  </style>\n",
              "\n",
              "      <script>\n",
              "        const buttonEl =\n",
              "          document.querySelector('#df-575782ef-636e-46cc-baa4-5f349435a866 button.colab-df-convert');\n",
              "        buttonEl.style.display =\n",
              "          google.colab.kernel.accessAllowed ? 'block' : 'none';\n",
              "\n",
              "        async function convertToInteractive(key) {\n",
              "          const element = document.querySelector('#df-575782ef-636e-46cc-baa4-5f349435a866');\n",
              "          const dataTable =\n",
              "            await google.colab.kernel.invokeFunction('convertToInteractive',\n",
              "                                                     [key], {});\n",
              "          if (!dataTable) return;\n",
              "\n",
              "          const docLinkHtml = 'Like what you see? Visit the ' +\n",
              "            '<a target=\"_blank\" href=https://colab.research.google.com/notebooks/data_table.ipynb>data table notebook</a>'\n",
              "            + ' to learn more about interactive tables.';\n",
              "          element.innerHTML = '';\n",
              "          dataTable['output_type'] = 'display_data';\n",
              "          await google.colab.output.renderOutput(dataTable, element);\n",
              "          const docLink = document.createElement('div');\n",
              "          docLink.innerHTML = docLinkHtml;\n",
              "          element.appendChild(docLink);\n",
              "        }\n",
              "      </script>\n",
              "    </div>\n",
              "  </div>\n",
              "  "
            ]
          },
          "metadata": {},
          "execution_count": 55
        }
      ]
    },
    {
      "cell_type": "code",
      "source": [
        "# display dependent variable dataframe\n",
        "y"
      ],
      "metadata": {
        "colab": {
          "base_uri": "https://localhost:8080/"
        },
        "id": "BjdreFzKOmTh",
        "outputId": "f07144c8-d2df-4728-c2cb-991da3ead3f8"
      },
      "execution_count": 56,
      "outputs": [
        {
          "output_type": "execute_result",
          "data": {
            "text/plain": [
              "0          7.5\n",
              "1          7.7\n",
              "2         12.9\n",
              "3          5.3\n",
              "4         16.0\n",
              "          ... \n",
              "199995     3.0\n",
              "199996     7.5\n",
              "199997    30.9\n",
              "199998    14.5\n",
              "199999    14.1\n",
              "Name: fare_amount, Length: 194333, dtype: float64"
            ]
          },
          "metadata": {},
          "execution_count": 56
        }
      ]
    },
    {
      "cell_type": "code",
      "source": [
        "# calling train_test_split() to get the training and testing data.\n",
        "X_train, X_test, y_train, y_test = train_test_split(X,y, test_size=0.25, random_state=0)\n",
        "\n",
        "# split sizes\n",
        "print(X_train.shape)\n",
        "print(X_test.shape)"
      ],
      "metadata": {
        "colab": {
          "base_uri": "https://localhost:8080/"
        },
        "id": "H0OX2TulOx9f",
        "outputId": "2d1d1867-0692-4366-8583-602fcca23b15"
      },
      "execution_count": 57,
      "outputs": [
        {
          "output_type": "stream",
          "name": "stdout",
          "text": [
            "(145749, 7)\n",
            "(48584, 7)\n"
          ]
        }
      ]
    },
    {
      "cell_type": "markdown",
      "source": [
        "##**Models**\n",
        "***\n",
        "Now its time to implement the Machine Learning models and check the accuracy of each model to point out the best one out of all. In this project we are implementing 7 machine learning algorithms to predict the target variable and then we'll apply optimization techniques on the one that gives best resulting accuracy out of all.\n",
        "\n",
        "Following algorithms have been used for predictions:-\n",
        "\n",
        "* Linear Regression \n",
        "* Lasso Regression\n",
        "* Ridge Regression\n",
        "* Elastic Net Regression\n",
        "* Decision Tree\n",
        "* Random Forest Regression\n",
        "* XGB Regression"
      ],
      "metadata": {
        "id": "92ik-JmjO8WD"
      }
    },
    {
      "cell_type": "markdown",
      "source": [
        "### **Linear Regression**\n",
        "\n",
        "Linear Regression is a supervised machine learning algorithm where the predicted output is continuous and has a constant slope. It’s used to predict values within a continuous range, rather than trying to classify them into categories. There are two main types:\n",
        "\n",
        "**Simple regression**:\n",
        "\n",
        "Simple linear regression uses traditional slope-intercept form, where m and b are the variables our algorithm will try to “learn” to produce the most accurate predictions. x represents our input data and y represents our prediction.\n",
        "\n",
        "**y=mx+b**\n",
        "\n",
        "**Multivariable regression**:\n",
        "\n",
        "A more complex, multi-variable linear equation might look like this, where w represents the coefficients, or weights, our model will try to learn.\n",
        "\n",
        "**f(x,y,z)=w1x+w2y+w3z**"
      ],
      "metadata": {
        "id": "l_fud1fOPAgX"
      }
    },
    {
      "cell_type": "code",
      "source": [
        "# building the model and fitting training data\n",
        "reg= LinearRegression().fit(X_train, y_train)"
      ],
      "metadata": {
        "id": "PeiVDjcGO_QA"
      },
      "execution_count": 58,
      "outputs": []
    },
    {
      "cell_type": "code",
      "source": [
        "# checking the score\n",
        "reg.score(X_train, y_train)"
      ],
      "metadata": {
        "colab": {
          "base_uri": "https://localhost:8080/"
        },
        "id": "EobsXIPLPC3_",
        "outputId": "b1e0dd38-81a2-4ed5-864c-9b6edde754c0"
      },
      "execution_count": 59,
      "outputs": [
        {
          "output_type": "execute_result",
          "data": {
            "text/plain": [
              "0.46804849449226626"
            ]
          },
          "metadata": {},
          "execution_count": 59
        }
      ]
    },
    {
      "cell_type": "code",
      "source": [
        "# check the coefficeints\n",
        "reg.coef_"
      ],
      "metadata": {
        "colab": {
          "base_uri": "https://localhost:8080/"
        },
        "id": "hIW8-E5xPEU-",
        "outputId": "95734538-0dbe-4a5b-9630-cc465143f25b"
      },
      "execution_count": 60,
      "outputs": [
        {
          "output_type": "execute_result",
          "data": {
            "text/plain": [
              "array([ 6.30132857e-02,  5.35153086e-01,  7.99952751e-02,  8.61638071e-04,\n",
              "       -4.52603772e-02, -5.04798675e-03,  9.30639308e+00])"
            ]
          },
          "metadata": {},
          "execution_count": 60
        }
      ]
    },
    {
      "cell_type": "code",
      "source": [
        "# predict for train data\n",
        "y_pred_train = reg.predict(X_train)\n",
        "\n",
        "# predict for test data\n",
        "y_pred_test = reg.predict(X_test)"
      ],
      "metadata": {
        "id": "8-T3FoqgPG5a"
      },
      "execution_count": 61,
      "outputs": []
    },
    {
      "cell_type": "code",
      "source": [
        "# calculating MSE\n",
        "MSE_lr= mean_squared_error((y_train), (y_pred_train))\n",
        "print(\"MSE :\",MSE_lr)\n",
        "\n",
        "# calculating RMSE\n",
        "RMSE_lr=np.sqrt(MSE_lr)\n",
        "print(\"RMSE :\",RMSE_lr)\n",
        "\n",
        "\n",
        "# calculating MAE\n",
        "MAE_lr= mean_absolute_error(y_train, y_pred_train)\n",
        "print(\"MAE :\",MAE_lr)\n",
        "\n",
        "\n",
        "# calculating r2 and adjusted r2\n",
        "r2_lr= r2_score(y_train, y_pred_train)\n",
        "print(\"R2 :\",r2_lr)\n",
        "Adjusted_R2_lr = (1-(1-r2_score(y_train, y_pred_train))*((X_test.shape[0]-1)/(X_test.shape[0]-X_test.shape[1]-1)) )\n",
        "print(\"Adjusted R2 :\", Adjusted_R2_lr )"
      ],
      "metadata": {
        "colab": {
          "base_uri": "https://localhost:8080/"
        },
        "id": "0HaiFDREPJhw",
        "outputId": "2a68c4d1-a4f3-40d7-a5a6-666b41e8f0c5"
      },
      "execution_count": 62,
      "outputs": [
        {
          "output_type": "stream",
          "name": "stdout",
          "text": [
            "MSE : 49.92810131601441\n",
            "RMSE : 7.065981978183529\n",
            "MAE : 3.340393274644683\n",
            "R2 : 0.46804849449226626\n",
            "Adjusted R2 : 0.46797183810766163\n"
          ]
        }
      ]
    },
    {
      "cell_type": "code",
      "source": [
        "# storing the test set metrics value in the train evaluation dataframe.\n",
        "dict1={'Model':'Linear regression ',\n",
        "       'MAE':round((MAE_lr),3),\n",
        "       'MSE':round((MSE_lr),3),\n",
        "       'RMSE':round((RMSE_lr),3),\n",
        "       'R2_score':round((r2_lr),3),\n",
        "       'Adjusted R2':round((Adjusted_R2_lr ),2)\n",
        "       }\n",
        "training_df=pd.DataFrame(dict1,index=[1])"
      ],
      "metadata": {
        "id": "yoxjL9KtPPSZ"
      },
      "execution_count": 63,
      "outputs": []
    },
    {
      "cell_type": "code",
      "source": [
        "# calculating MSE\n",
        "MSE_lr= mean_squared_error(y_test, y_pred_test)\n",
        "print(\"MSE :\",MSE_lr)\n",
        "\n",
        "# calculating RMSE\n",
        "RMSE_lr=np.sqrt(MSE_lr)\n",
        "print(\"RMSE :\",RMSE_lr)\n",
        "\n",
        "\n",
        "# calculating MAE\n",
        "MAE_lr= mean_absolute_error(y_test, y_pred_test)\n",
        "print(\"MAE :\",MAE_lr)\n",
        "\n",
        "# calculating r2 and adjusted r2\n",
        "r2_lr= r2_score((y_test), (y_pred_test))\n",
        "print(\"R2 :\",r2_lr)\n",
        "Adjusted_R2_lr = (1-(1-r2_score((y_test), (y_pred_test)))*((X_test.shape[0]-1)/(X_test.shape[0]-X_test.shape[1]-1)))\n",
        "print(\"Adjusted R2 :\",Adjusted_R2_lr )\n"
      ],
      "metadata": {
        "colab": {
          "base_uri": "https://localhost:8080/"
        },
        "id": "ioo1sOlhQenN",
        "outputId": "a23e1a30-c2eb-470a-836a-e2677faec303"
      },
      "execution_count": 64,
      "outputs": [
        {
          "output_type": "stream",
          "name": "stdout",
          "text": [
            "MSE : 56.636513075232266\n",
            "RMSE : 7.5257234253746175\n",
            "MAE : 3.3785816442535137\n",
            "R2 : 0.4253689134336962\n",
            "Adjusted R2 : 0.42528610674714384\n"
          ]
        }
      ]
    },
    {
      "cell_type": "code",
      "source": [
        "# storing the test set metrics value in test evaluation dataframe.\n",
        "dict2={'Model':'Linear regression ',\n",
        "       'MAE':round((MAE_lr),3),\n",
        "       'MSE':round((MSE_lr),3),\n",
        "       'RMSE':round((RMSE_lr),3),\n",
        "       'R2_score':round((r2_lr),3),\n",
        "       'Adjusted R2':round((Adjusted_R2_lr ),2)\n",
        "       }\n",
        "test_df=pd.DataFrame(dict2,index=[1])"
      ],
      "metadata": {
        "id": "K182SyDKPeo9"
      },
      "execution_count": 65,
      "outputs": []
    },
    {
      "cell_type": "code",
      "source": [
        "# Plot the figure\n",
        "plt.figure(figsize=(16,8))\n",
        "plt.plot(y_pred_test)\n",
        "plt.plot(np.array(y_test))\n",
        "plt.legend([\"Predicted\",\"Actual\"])\n",
        "plt.xlabel('No of Test Data')\n",
        "plt.show()"
      ],
      "metadata": {
        "colab": {
          "base_uri": "https://localhost:8080/",
          "height": 497
        },
        "id": "g9_St2jVPnSW",
        "outputId": "bb5e35bd-1b39-4e01-b607-ebf20d4e4917"
      },
      "execution_count": 66,
      "outputs": [
        {
          "output_type": "display_data",
          "data": {
            "text/plain": [
              "<Figure size 1152x576 with 1 Axes>"
            ],
            "image/png": "[encoded data removed]"
          },
          "metadata": {
            "needs_background": "light"
          }
        }
      ]
    },
    {
      "cell_type": "markdown",
      "source": [
        "### **Lasso Regression**\n",
        "\n",
        "Lasso regression stands for Least Absolute Shrinkage and Selection Operator. It adds penalty term to the cost function. This term is the absolute sum of the coefficients. As the value of coefficients increases from 0 this term penalizes, cause model, to decrease the value of coefficients in order to reduce loss. The difference between ridge and lasso regression is that it tends to make coefficients to absolute zero as compared to Ridge which never sets the value of coefficient to absolute zero.\n",
        "\n",
        "**Limitation of Lasso Regression**:\n",
        "Lasso sometimes struggles with some types of data. If the number of predictors (p) is greater than the number of observations (n), Lasso will pick at most n predictors as non-zero, even if all predictors are relevant (or may be used in the test set).\n",
        "If there are two or more highly collinear variables then LASSO regression select one of them randomly which is not good for the interpretation of data"
      ],
      "metadata": {
        "id": "L7xwuqaQPs_7"
      }
    },
    {
      "cell_type": "code",
      "source": [
        "# Creating an instance of Lasso Regression implementation\n",
        "lasso = Lasso(alpha=1.0, max_iter=3000)\n",
        "\n",
        "# Fitting the Lasso model\n",
        "lasso.fit(X_train, y_train)\n",
        "\n",
        "# Model Score\n",
        "print(lasso.score(X_test, y_test), lasso.score(X_train, y_train))"
      ],
      "metadata": {
        "colab": {
          "base_uri": "https://localhost:8080/"
        },
        "id": "Jof182VEPoiH",
        "outputId": "2eb415dd-b16f-4c5f-b22d-9bd8e4cd7f10"
      },
      "execution_count": 67,
      "outputs": [
        {
          "output_type": "stream",
          "name": "stdout",
          "text": [
            "0.40534034285903353 0.4427716897813241\n"
          ]
        }
      ]
    },
    {
      "cell_type": "code",
      "source": [
        "# Predict for training data\n",
        "y_pred_train_lasso=lasso.predict(X_train)\n",
        "\n",
        "# Predict for testing data\n",
        "y_pred_test_lasso=lasso.predict(X_test)"
      ],
      "metadata": {
        "id": "a29b_4-4P08u"
      },
      "execution_count": 68,
      "outputs": []
    },
    {
      "cell_type": "code",
      "source": [
        "# calculating MSE\n",
        "MSE_l= mean_squared_error((y_train), (y_pred_train_lasso))\n",
        "print(\"MSE :\",MSE_l)\n",
        "\n",
        "# calculating RMSE\n",
        "RMSE_l=np.sqrt(MSE_l)\n",
        "print(\"RMSE :\",RMSE_l)\n",
        "\n",
        "\n",
        "# calculating MAE\n",
        "MAE_l= mean_absolute_error(y_train, y_pred_train_lasso)\n",
        "print(\"MAE :\",MAE_l)\n",
        "\n",
        "\n",
        "# calculating r2 and adjusted r2\n",
        "r2_l= r2_score(y_train, y_pred_train_lasso)\n",
        "print(\"R2 :\",r2_l)\n",
        "Adjusted_R2_l = (1-(1-r2_score(y_train, y_pred_train_lasso))*((X_test.shape[0]-1)/(X_test.shape[0]-X_test.shape[1]-1)) )\n",
        "print(\"Adjusted R2 :\", Adjusted_R2_l )\n"
      ],
      "metadata": {
        "colab": {
          "base_uri": "https://localhost:8080/"
        },
        "id": "JfBQGi11P2Y9",
        "outputId": "cbaab8d8-e322-4df7-dc69-1092821d0ac6"
      },
      "execution_count": 69,
      "outputs": [
        {
          "output_type": "stream",
          "name": "stdout",
          "text": [
            "MSE : 52.3005410092689\n",
            "RMSE : 7.2319112971101145\n",
            "MAE : 3.615989325321636\n",
            "R2 : 0.4427716897813241\n",
            "Adjusted R2 : 0.442691390905922\n"
          ]
        }
      ]
    },
    {
      "cell_type": "code",
      "source": [
        "# storing the train set metrics value in the train evaluation dataframe\n",
        "dict1={'Model':'Lasso regression ',\n",
        "       'MAE':round((MAE_l),3),\n",
        "       'MSE':round((MSE_l),3),\n",
        "       'RMSE':round((RMSE_l),3),\n",
        "       'R2_score':round((r2_l),3),\n",
        "       'Adjusted R2':round((Adjusted_R2_l ),2)\n",
        "       }\n",
        "training_df = training_df.append(dict1,ignore_index=True)"
      ],
      "metadata": {
        "id": "MsvzM_oiP3dN"
      },
      "execution_count": 70,
      "outputs": []
    },
    {
      "cell_type": "code",
      "source": [
        "# calculating MSE\n",
        "MSE_l= mean_squared_error(y_test, y_pred_test_lasso)\n",
        "print(\"MSE :\",MSE_l)\n",
        "\n",
        "# calculating RMSE\n",
        "RMSE_l=np.sqrt(MSE_l)\n",
        "print(\"RMSE :\",RMSE_l)\n",
        "\n",
        "\n",
        "# calculating MAE\n",
        "MAE_l= mean_absolute_error(y_test, y_pred_test_lasso)\n",
        "print(\"MAE :\",MAE_l)\n",
        "\n",
        "\n",
        "# calculating r2 and adjusted r2\n",
        "r2_l= r2_score((y_test), (y_pred_test_lasso))\n",
        "print(\"R2 :\",r2_l)\n",
        "Adjusted_R2_l=(1-(1-r2_score((y_test), (y_pred_test_lasso)))*((X_test.shape[0]-1)/(X_test.shape[0]-X_test.shape[1]-1)) )\n",
        "print(\"Adjusted R2 :\", Adjusted_R2_l )"
      ],
      "metadata": {
        "colab": {
          "base_uri": "https://localhost:8080/"
        },
        "id": "p_YxJSApP5Et",
        "outputId": "5f42273e-f1be-4aae-d2e5-dbd9a6ee75da"
      },
      "execution_count": 71,
      "outputs": [
        {
          "output_type": "stream",
          "name": "stdout",
          "text": [
            "MSE : 58.6105594255757\n",
            "RMSE : 7.655753354541648\n",
            "MAE : 3.6466018760884156\n",
            "R2 : 0.40534034285903353\n",
            "Adjusted R2 : 0.40525464997365823\n"
          ]
        }
      ]
    },
    {
      "cell_type": "code",
      "source": [
        "# storing the test set metrics value in the test evaluation dataframe\n",
        "dict2={'Model':'Lasso regression ',\n",
        "       'MAE':round((MAE_l),3),\n",
        "       'MSE':round((MSE_l),3),\n",
        "       'RMSE':round((RMSE_l),3),\n",
        "       'R2_score':round((r2_l),3),\n",
        "       'Adjusted R2':round((Adjusted_R2_l ),2),\n",
        "       }\n",
        "test_df=test_df.append(dict2,ignore_index=True)"
      ],
      "metadata": {
        "id": "RRpPzqlrP6SM"
      },
      "execution_count": 72,
      "outputs": []
    },
    {
      "cell_type": "code",
      "source": [
        "#Plot the actual vs predicted graph.\n",
        "plt.figure(figsize=(15,10))\n",
        "plt.plot(np.array(y_pred_test_lasso))\n",
        "plt.plot(np.array((y_test)))\n",
        "plt.legend([\"Predicted\",\"Actual\"])\n",
        "plt.show()"
      ],
      "metadata": {
        "colab": {
          "base_uri": "https://localhost:8080/",
          "height": 592
        },
        "id": "KOupJbhFP75l",
        "outputId": "4710a954-f300-4978-c370-a086458f1dfb"
      },
      "execution_count": 73,
      "outputs": [
        {
          "output_type": "display_data",
          "data": {
            "text/plain": [
              "<Figure size 1080x720 with 1 Axes>"
            ],
            "image/png": "[encoded data removed]"
          },
          "metadata": {
            "needs_background": "light"
          }
        }
      ]
    },
    {
      "cell_type": "markdown",
      "source": [
        "### **Ridge Regression**\n",
        "\n",
        "In Ridge regression, we add a penalty term which is equal to the square of the coefficient. The L2 term is equal to the square of the magnitude of the coefficients. We also add a coefficient  lambda  to control that penalty term. In this case if  lambda  is zero then the equation is the basic OLS else if  lambda  >  0 then it will add a constraint to the coefficient. As we increase the value of lambda this constraint causes the value of the coefficient to tend towards zero. This leads to tradeoff of higher bias (dependencies on certain coefficients tend to be 0 and on certain coefficients tend to be very large, making the model less flexible) for lower variance.\n",
        "\n",
        "**Limitation of Ridge Regression**: Ridge regression decreases the complexity of a model but does not reduce the number of variables since it never leads to a coefficient been zero rather only minimizes it. Hence, this model is not good for feature reduction."
      ],
      "metadata": {
        "id": "YpnPVwXLQEK-"
      }
    },
    {
      "cell_type": "code",
      "source": [
        "# Creating the model object\n",
        "ridge= Ridge(alpha=0.1)"
      ],
      "metadata": {
        "id": "hLaJ-7lPP9AU"
      },
      "execution_count": 74,
      "outputs": []
    },
    {
      "cell_type": "code",
      "source": [
        "# FITTING THE MODEL\n",
        "ridge.fit(X_train,y_train)"
      ],
      "metadata": {
        "colab": {
          "base_uri": "https://localhost:8080/"
        },
        "id": "rXCbdEnTQGsI",
        "outputId": "515ce3a4-79f8-4f81-fbbf-2036b8defad3"
      },
      "execution_count": 75,
      "outputs": [
        {
          "output_type": "execute_result",
          "data": {
            "text/plain": [
              "Ridge(alpha=0.1)"
            ]
          },
          "metadata": {},
          "execution_count": 75
        }
      ]
    },
    {
      "cell_type": "code",
      "source": [
        "# checking the score\n",
        "ridge.score(X_train, y_train)"
      ],
      "metadata": {
        "colab": {
          "base_uri": "https://localhost:8080/"
        },
        "id": "v4FHHeeGQJsB",
        "outputId": "ae0f22bb-a734-426f-c883-4eff1d8566c6"
      },
      "execution_count": 76,
      "outputs": [
        {
          "output_type": "execute_result",
          "data": {
            "text/plain": [
              "0.4680484944913793"
            ]
          },
          "metadata": {},
          "execution_count": 76
        }
      ]
    },
    {
      "cell_type": "code",
      "source": [
        "# predict for train data\n",
        "y_pred_train_ridge=ridge.predict(X_train)\n",
        "\n",
        "# predict for test data\n",
        "y_pred_test_ridge=ridge.predict(X_test)"
      ],
      "metadata": {
        "id": "Lcj5W8NUQK9o"
      },
      "execution_count": 77,
      "outputs": []
    },
    {
      "cell_type": "code",
      "source": [
        "# calculating MSE\n",
        "MSE_r= mean_squared_error((y_train), (y_pred_train_ridge))\n",
        "print(\"MSE :\",MSE_r)\n",
        "\n",
        "# calculating RMSE\n",
        "RMSE_r=np.sqrt(MSE_r)\n",
        "print(\"RMSE :\",RMSE_r)\n",
        "\n",
        "\n",
        "# calculating MAE\n",
        "MAE_r= mean_absolute_error(y_train, y_pred_train_ridge)\n",
        "print(\"MAE :\",MAE_r)\n",
        "\n",
        "\n",
        "# calculating r2 and adjusted r2\n",
        "r2_r= r2_score(y_train, y_pred_train_ridge)\n",
        "print(\"R2 :\",r2_r)\n",
        "Adjusted_R2_r=(1-(1-r2_score(y_train, y_pred_train_ridge))*((X_test.shape[0]-1)/(X_test.shape[0]-X_test.shape[1]-1)) )\n",
        "print(\"Adjusted R2 :\", Adjusted_R2_r)"
      ],
      "metadata": {
        "colab": {
          "base_uri": "https://localhost:8080/"
        },
        "id": "-W8_7KNoQReG",
        "outputId": "12d393b2-5331-4f65-c318-b24544d57a56"
      },
      "execution_count": 78,
      "outputs": [
        {
          "output_type": "stream",
          "name": "stdout",
          "text": [
            "MSE : 49.92810131609767\n",
            "RMSE : 7.06598197818942\n",
            "MAE : 3.3403938527364545\n",
            "R2 : 0.4680484944913793\n",
            "Adjusted R2 : 0.46797183810677456\n"
          ]
        }
      ]
    },
    {
      "cell_type": "code",
      "source": [
        "# storing the train set metrics value in the train evaluation dataframe \n",
        "dict1={'Model':'Ridge regression ',\n",
        "       'MAE':round((MAE_r),3),\n",
        "       'MSE':round((MSE_r),3),\n",
        "       'RMSE':round((RMSE_r),3),\n",
        "       'R2_score':round((r2_r),3),\n",
        "       'Adjusted R2':round((Adjusted_R2_r ),2)}\n",
        "training_df=training_df.append(dict1,ignore_index=True)"
      ],
      "metadata": {
        "id": "sgnzZcEkQUUl"
      },
      "execution_count": 79,
      "outputs": []
    },
    {
      "cell_type": "code",
      "source": [
        "# calculating MSE\n",
        "MSE_r= mean_squared_error(y_test, y_pred_test_ridge)\n",
        "print(\"MSE :\",MSE_r)\n",
        "\n",
        "# calculating RMSE\n",
        "RMSE_r=np.sqrt(MSE_r)\n",
        "print(\"RMSE :\",RMSE_r)\n",
        "\n",
        "\n",
        "# calculating MAE\n",
        "MAE_r= mean_absolute_error(y_test, y_pred_test_ridge)\n",
        "print(\"MAE :\",MAE_r)\n",
        "\n",
        "\n",
        "# calculating r2 and adjusted r2\n",
        "r2_r= r2_score((y_test), (y_pred_test_ridge))\n",
        "print(\"R2 :\",r2_r)\n",
        "Adjusted_R2_r=(1-(1-r2_score((y_test), (y_pred_test_ridge)))*((X_test.shape[0]-1)/(X_test.shape[0]-X_test.shape[1]-1)) )\n",
        "print(\"Adjusted R2 :\", Adjusted_R2_r)"
      ],
      "metadata": {
        "colab": {
          "base_uri": "https://localhost:8080/"
        },
        "id": "K08awAWSQZGN",
        "outputId": "b13fb100-c947-4ddf-cfcd-3f6e9040ea6e"
      },
      "execution_count": 80,
      "outputs": [
        {
          "output_type": "stream",
          "name": "stdout",
          "text": [
            "MSE : 56.636510218481725\n",
            "RMSE : 7.52572323557555\n",
            "MAE : 3.3785822045729086\n",
            "R2 : 0.42536894241813705\n",
            "Adjusted R2 : 0.42528613573576146\n"
          ]
        }
      ]
    },
    {
      "cell_type": "code",
      "source": [
        "# storing the test set metrics value in the test evaluation dataframe\n",
        "dict2={'Model':'Ridge regression ',\n",
        "       'MAE':round((MAE_r),3),\n",
        "       'MSE':round((MSE_r),3),\n",
        "       'RMSE':round((RMSE_r),3),\n",
        "       'R2_score':round((r2_r),3),\n",
        "       'Adjusted R2':round((Adjusted_R2_r ),2)}\n",
        "test_df=test_df.append(dict2,ignore_index=True)"
      ],
      "metadata": {
        "id": "fg16Q3lyQbI9"
      },
      "execution_count": 81,
      "outputs": []
    },
    {
      "cell_type": "code",
      "source": [
        "#Plotting the figure\n",
        "plt.figure(figsize=(15,10))\n",
        "plt.plot((y_pred_test_ridge))\n",
        "plt.plot((np.array(y_test)))\n",
        "plt.legend([\"Predicted\",\"Actual\"])\n",
        "plt.show()"
      ],
      "metadata": {
        "id": "Vtacxj5sQcrM",
        "outputId": "20358ece-d0a8-4e1c-8f80-cacc0dab4266",
        "colab": {
          "base_uri": "https://localhost:8080/",
          "height": 592
        }
      },
      "execution_count": 82,
      "outputs": [
        {
          "output_type": "display_data",
          "data": {
            "text/plain": [
              "<Figure size 1080x720 with 1 Axes>"
            ],
            "image/png": "[encoded data removed]"
          },
          "metadata": {
            "needs_background": "light"
          }
        }
      ]
    },
    {
      "cell_type": "markdown",
      "source": [
        "### **Elastic Net Regression**\n",
        "\n",
        "Sometimes, the lasso regression can cause a small bias in the model where the prediction is too dependent upon a particular variable. In these cases, elastic Net is proved to better it combines the regularization of both lasso and Ridge. The advantage of that it does not easily eliminate the high collinearity coefficient."
      ],
      "metadata": {
        "id": "Tj8sZWqAS1cF"
      }
    },
    {
      "cell_type": "code",
      "source": [
        "# creating a model object.\n",
        "elasticnet = ElasticNet(alpha=0.1, l1_ratio=0.5)"
      ],
      "metadata": {
        "id": "eBUS1VObQebU"
      },
      "execution_count": 83,
      "outputs": []
    },
    {
      "cell_type": "code",
      "source": [
        "# FIT THE MODEL\n",
        "elasticnet.fit(X_train,y_train)"
      ],
      "metadata": {
        "colab": {
          "base_uri": "https://localhost:8080/"
        },
        "id": "CX3yeEzHS2t6",
        "outputId": "652b7e96-584c-4677-98de-2d4de52679a7"
      },
      "execution_count": 84,
      "outputs": [
        {
          "output_type": "execute_result",
          "data": {
            "text/plain": [
              "ElasticNet(alpha=0.1)"
            ]
          },
          "metadata": {},
          "execution_count": 84
        }
      ]
    },
    {
      "cell_type": "code",
      "source": [
        "# check the score\n",
        "elasticnet.score(X_train, y_train)"
      ],
      "metadata": {
        "colab": {
          "base_uri": "https://localhost:8080/"
        },
        "id": "95NIGtsuS30S",
        "outputId": "0ff6e43c-fe20-4820-d07a-6424c40cf16a"
      },
      "execution_count": 85,
      "outputs": [
        {
          "output_type": "execute_result",
          "data": {
            "text/plain": [
              "0.46326049807320735"
            ]
          },
          "metadata": {},
          "execution_count": 85
        }
      ]
    },
    {
      "cell_type": "code",
      "source": [
        "# predict on train data\n",
        "y_pred_train_en=elasticnet.predict(X_train)\n",
        "\n",
        "# predict on test data\n",
        "y_pred_test_en=elasticnet.predict(X_test)"
      ],
      "metadata": {
        "id": "d3ImzBTES5Hj"
      },
      "execution_count": 86,
      "outputs": []
    },
    {
      "cell_type": "code",
      "source": [
        "# calculating MSE\n",
        "MSE_e= mean_squared_error((y_train), (y_pred_train_en))\n",
        "print(\"MSE :\",MSE_e)\n",
        "\n",
        "# calculating RMSE\n",
        "RMSE_e=np.sqrt(MSE_e)\n",
        "print(\"RMSE :\",RMSE_e)\n",
        "\n",
        "\n",
        "# calculating MAE\n",
        "MAE_e= mean_absolute_error(y_train, y_pred_train_en)\n",
        "print(\"MAE :\",MAE_e)\n",
        "\n",
        "\n",
        "# calculating r2 and adjusted r2\n",
        "r2_e= r2_score(y_train, y_pred_train_en)\n",
        "print(\"R2 :\",r2_e)\n",
        "Adjusted_R2_e = (1-(1-r2_score(y_train, y_pred_train_en))*((X_test.shape[0]-1)/(X_test.shape[0]-X_test.shape[1]-1)) )\n",
        "print(\"Adjusted R2 :\", Adjusted_R2_e)"
      ],
      "metadata": {
        "colab": {
          "base_uri": "https://localhost:8080/"
        },
        "id": "XSySxJjyS6qz",
        "outputId": "eb9f683b-947e-4e1c-f5e8-d2357fbc3e78"
      },
      "execution_count": 87,
      "outputs": [
        {
          "output_type": "stream",
          "name": "stdout",
          "text": [
            "MSE : 50.377494856283306\n",
            "RMSE : 7.097710536242183\n",
            "MAE : 3.41731156135584\n",
            "R2 : 0.46326049807320735\n",
            "Adjusted R2 : 0.463183151718763\n"
          ]
        }
      ]
    },
    {
      "cell_type": "code",
      "source": [
        "# storing the train set metrics value into the train evaluation dataframe\n",
        "dict1={'Model':'Elastic net regression ',\n",
        "       'MAE':round((MAE_e),3),\n",
        "       'MSE':round((MSE_e),3),\n",
        "       'RMSE':round((RMSE_e),3),\n",
        "       'R2_score':round((r2_e),3),\n",
        "       'Adjusted R2':round((Adjusted_R2_e ),2)}\n",
        "training_df=training_df.append(dict1,ignore_index=True)"
      ],
      "metadata": {
        "id": "HeGcgr29S9VE"
      },
      "execution_count": 88,
      "outputs": []
    },
    {
      "cell_type": "code",
      "source": [
        "# calculating MSE\n",
        "MSE_e= mean_squared_error(y_test, y_pred_test_en)\n",
        "print(\"MSE :\",MSE_e)\n",
        "\n",
        "# calculating RMSE\n",
        "RMSE_e=np.sqrt(MSE_e)\n",
        "print(\"RMSE :\",RMSE_e)\n",
        "\n",
        "\n",
        "# calculating MAE\n",
        "MAE_e= mean_absolute_error(y_test, y_pred_test_en)\n",
        "print(\"MAE :\",MAE_e)\n",
        "\n",
        "\n",
        "# calculating r2 and adjusted r2\n",
        "r2_e= r2_score((y_test), (y_pred_test_en))\n",
        "print(\"R2 :\",r2_e)\n",
        "\n",
        "Adjusted_R2_e=(1-(1-r2_score((y_test), (y_pred_test_en)))*((X_test.shape[0]-1)/(X_test.shape[0]-X_test.shape[1]-1)) )\n",
        "print(\"Adjusted R2 :\", Adjusted_R2_e)"
      ],
      "metadata": {
        "colab": {
          "base_uri": "https://localhost:8080/"
        },
        "id": "IokVCr07S-4X",
        "outputId": "3f2a260c-fd20-4207-8cd5-a10b70657d2f"
      },
      "execution_count": 89,
      "outputs": [
        {
          "output_type": "stream",
          "name": "stdout",
          "text": [
            "MSE : 56.87561524906582\n",
            "RMSE : 7.541592355004732\n",
            "MAE : 3.4527975236905917\n",
            "R2 : 0.42294299533792934\n",
            "Adjusted R2 : 0.42285983906667124\n"
          ]
        }
      ]
    },
    {
      "cell_type": "code",
      "source": [
        "# storing the test set metrics value into the test evaluation dataframe\n",
        "dict2={'Model':'Elastic net regression Test',\n",
        "       'MAE':round((MAE_e),3),\n",
        "       'MSE':round((MSE_e),3),\n",
        "       'RMSE':round((RMSE_e),3),\n",
        "       'R2_score':round((r2_e),3),\n",
        "       'Adjusted R2':round((Adjusted_R2_e ),2)}\n",
        "test_df=test_df.append(dict2,ignore_index=True)"
      ],
      "metadata": {
        "id": "S5B7U4ZhS_9w"
      },
      "execution_count": 90,
      "outputs": []
    },
    {
      "cell_type": "code",
      "source": [
        "# Plot the figure\n",
        "plt.figure(figsize=(15,10))\n",
        "plt.plot(np.array(y_pred_test_en))\n",
        "plt.plot((np.array(y_test)))\n",
        "plt.legend([\"Predicted\",\"Actual\"])\n",
        "plt.show()"
      ],
      "metadata": {
        "colab": {
          "base_uri": "https://localhost:8080/",
          "height": 592
        },
        "id": "KuKtPVeBTBmm",
        "outputId": "680ab263-25f3-482e-a0d4-64635ce697ab"
      },
      "execution_count": 91,
      "outputs": [
        {
          "output_type": "display_data",
          "data": {
            "text/plain": [
              "<Figure size 1080x720 with 1 Axes>"
            ],
            "image/png": "[encoded data removed]"
          },
          "metadata": {
            "needs_background": "light"
          }
        }
      ]
    },
    {
      "cell_type": "code",
      "source": [
        "# display test evaluation dataframe\n",
        "test_df"
      ],
      "metadata": {
        "colab": {
          "base_uri": "https://localhost:8080/",
          "height": 175
        },
        "id": "pQRry-_XTDH2",
        "outputId": "282d6c1e-f606-44cc-8dae-b58b95cf1c26"
      },
      "execution_count": 92,
      "outputs": [
        {
          "output_type": "execute_result",
          "data": {
            "text/plain": [
              "                         Model    MAE     MSE   RMSE  R2_score  Adjusted R2\n",
              "0           Linear regression   3.379  56.637  7.526     0.425         0.43\n",
              "1            Lasso regression   3.647  58.611  7.656     0.405         0.41\n",
              "2            Ridge regression   3.379  56.637  7.526     0.425         0.43\n",
              "3  Elastic net regression Test  3.453  56.876  7.542     0.423         0.42"
            ],
            "text/html": [
              "\n",
              "  <div id=\"df-e3f5ede2-aacc-4b82-97ea-63c2dca3c08f\">\n",
              "    <div class=\"colab-df-container\">\n",
              "      <div>\n",
              "<style scoped>\n",
              "    .dataframe tbody tr th:only-of-type {\n",
              "        vertical-align: middle;\n",
              "    }\n",
              "\n",
              "    .dataframe tbody tr th {\n",
              "        vertical-align: top;\n",
              "    }\n",
              "\n",
              "    .dataframe thead th {\n",
              "        text-align: right;\n",
              "    }\n",
              "</style>\n",
              "<table border=\"1\" class=\"dataframe\">\n",
              "  <thead>\n",
              "    <tr style=\"text-align: right;\">\n",
              "      <th></th>\n",
              "      <th>Model</th>\n",
              "      <th>MAE</th>\n",
              "      <th>MSE</th>\n",
              "      <th>RMSE</th>\n",
              "      <th>R2_score</th>\n",
              "      <th>Adjusted R2</th>\n",
              "    </tr>\n",
              "  </thead>\n",
              "  <tbody>\n",
              "    <tr>\n",
              "      <th>0</th>\n",
              "      <td>Linear regression</td>\n",
              "      <td>3.379</td>\n",
              "      <td>56.637</td>\n",
              "      <td>7.526</td>\n",
              "      <td>0.425</td>\n",
              "      <td>0.43</td>\n",
              "    </tr>\n",
              "    <tr>\n",
              "      <th>1</th>\n",
              "      <td>Lasso regression</td>\n",
              "      <td>3.647</td>\n",
              "      <td>58.611</td>\n",
              "      <td>7.656</td>\n",
              "      <td>0.405</td>\n",
              "      <td>0.41</td>\n",
              "    </tr>\n",
              "    <tr>\n",
              "      <th>2</th>\n",
              "      <td>Ridge regression</td>\n",
              "      <td>3.379</td>\n",
              "      <td>56.637</td>\n",
              "      <td>7.526</td>\n",
              "      <td>0.425</td>\n",
              "      <td>0.43</td>\n",
              "    </tr>\n",
              "    <tr>\n",
              "      <th>3</th>\n",
              "      <td>Elastic net regression Test</td>\n",
              "      <td>3.453</td>\n",
              "      <td>56.876</td>\n",
              "      <td>7.542</td>\n",
              "      <td>0.423</td>\n",
              "      <td>0.42</td>\n",
              "    </tr>\n",
              "  </tbody>\n",
              "</table>\n",
              "</div>\n",
              "      <button class=\"colab-df-convert\" onclick=\"convertToInteractive('df-e3f5ede2-aacc-4b82-97ea-63c2dca3c08f')\"\n",
              "              title=\"Convert this dataframe to an interactive table.\"\n",
              "              style=\"display:none;\">\n",
              "        \n",
              "  <svg xmlns=\"http://www.w3.org/2000/svg\" height=\"24px\"viewBox=\"0 0 24 24\"\n",
              "       width=\"24px\">\n",
              "    <path d=\"M0 0h24v24H0V0z\" fill=\"none\"/>\n",
              "    <path d=\"M18.56 5.44l.94 2.06.94-2.06 2.06-.94-2.06-.94-.94-2.06-.94 2.06-2.06.94zm-11 1L8.5 8.5l.94-2.06 2.06-.94-2.06-.94L8.5 2.5l-.94 2.06-2.06.94zm10 10l.94 2.06.94-2.06 2.06-.94-2.06-.94-.94-2.06-.94 2.06-2.06.94z\"/><path d=\"M17.41 7.96l-1.37-1.37c-.4-.4-.92-.59-1.43-.59-.52 0-1.04.2-1.43.59L10.3 9.45l-7.72 7.72c-.78.78-.78 2.05 0 2.83L4 21.41c.39.39.9.59 1.41.59.51 0 1.02-.2 1.41-.59l7.78-7.78 2.81-2.81c.8-.78.8-2.07 0-2.86zM5.41 20L4 18.59l7.72-7.72 1.47 1.35L5.41 20z\"/>\n",
              "  </svg>\n",
              "      </button>\n",
              "      \n",
              "  <style>\n",
              "    .colab-df-container {\n",
              "      display:flex;\n",
              "      flex-wrap:wrap;\n",
              "      gap: 12px;\n",
              "    }\n",
              "\n",
              "    .colab-df-convert {\n",
              "      background-color: #E8F0FE;\n",
              "      border: none;\n",
              "      border-radius: 50%;\n",
              "      cursor: pointer;\n",
              "      display: none;\n",
              "      fill: #1967D2;\n",
              "      height: 32px;\n",
              "      padding: 0 0 0 0;\n",
              "      width: 32px;\n",
              "    }\n",
              "\n",
              "    .colab-df-convert:hover {\n",
              "      background-color: #E2EBFA;\n",
              "      box-shadow: 0px 1px 2px rgba(60, 64, 67, 0.3), 0px 1px 3px 1px rgba(60, 64, 67, 0.15);\n",
              "      fill: #174EA6;\n",
              "    }\n",
              "\n",
              "    [theme=dark] .colab-df-convert {\n",
              "      background-color: #3B4455;\n",
              "      fill: #D2E3FC;\n",
              "    }\n",
              "\n",
              "    [theme=dark] .colab-df-convert:hover {\n",
              "      background-color: #434B5C;\n",
              "      box-shadow: 0px 1px 3px 1px rgba(0, 0, 0, 0.15);\n",
              "      filter: drop-shadow(0px 1px 2px rgba(0, 0, 0, 0.3));\n",
              "      fill: #FFFFFF;\n",
              "    }\n",
              "  </style>\n",
              "\n",
              "      <script>\n",
              "        const buttonEl =\n",
              "          document.querySelector('#df-e3f5ede2-aacc-4b82-97ea-63c2dca3c08f button.colab-df-convert');\n",
              "        buttonEl.style.display =\n",
              "          google.colab.kernel.accessAllowed ? 'block' : 'none';\n",
              "\n",
              "        async function convertToInteractive(key) {\n",
              "          const element = document.querySelector('#df-e3f5ede2-aacc-4b82-97ea-63c2dca3c08f');\n",
              "          const dataTable =\n",
              "            await google.colab.kernel.invokeFunction('convertToInteractive',\n",
              "                                                     [key], {});\n",
              "          if (!dataTable) return;\n",
              "\n",
              "          const docLinkHtml = 'Like what you see? Visit the ' +\n",
              "            '<a target=\"_blank\" href=https://colab.research.google.com/notebooks/data_table.ipynb>data table notebook</a>'\n",
              "            + ' to learn more about interactive tables.';\n",
              "          element.innerHTML = '';\n",
              "          dataTable['output_type'] = 'display_data';\n",
              "          await google.colab.output.renderOutput(dataTable, element);\n",
              "          const docLink = document.createElement('div');\n",
              "          docLink.innerHTML = docLinkHtml;\n",
              "          element.appendChild(docLink);\n",
              "        }\n",
              "      </script>\n",
              "    </div>\n",
              "  </div>\n",
              "  "
            ]
          },
          "metadata": {},
          "execution_count": 92
        }
      ]
    },
    {
      "cell_type": "markdown",
      "source": [
        "###**Decision Tree**\n",
        "\n",
        "Decision trees can be used for classification as well as regression problems. The name itself suggests that it uses a flowchart like a tree structure to show the predictions that result from a series of feature-based splits. It starts with a root node and ends with a decision made by leaves.\n",
        "\n",
        "Decision trees are upside down which means the root is at the top and then this root is split into various several nodes. Decision trees are nothing but a bunch of if-else statements in layman terms. It checks if the condition is true and if it is then it goes to the next node attached to that decision.\n",
        "\n",
        "In a Decision Tree diagram, we have:\n",
        "\n",
        "**Root Node**: The first split which decides the entire population or sample data should further get divided into two or more homogeneous sets. In our case, the Outlook node.\n",
        "\n",
        "**Splitting**: It is a process of dividing a node into two or more sub-nodes.\n",
        "\n",
        "**Decision Node**: This node decides whether/when a sub-node splits into further sub-nodes or not. Here we have, Outlook node, Humidity node, and Windy node.\n",
        "\n",
        "**Leaf**: Terminal Node that predicts the outcome (categorical or continuous value). The coloured nodes, i.e., Yes and No nodes, are the leaves."
      ],
      "metadata": {
        "id": "ILRWRm9GTMJN"
      }
    },
    {
      "cell_type": "code",
      "source": [
        "# building the model\n",
        "decision_regressor = DecisionTreeRegressor(criterion='mse', max_depth=8,\n",
        "                      max_features=7, max_leaf_nodes=100)\n",
        "# fitting training data to the model\n",
        "decision_regressor.fit(X_train, y_train)"
      ],
      "metadata": {
        "colab": {
          "base_uri": "https://localhost:8080/"
        },
        "id": "K9p5MWSHTEmS",
        "outputId": "1e8b25ca-0d9f-4a80-d506-abec354c9a55"
      },
      "execution_count": 95,
      "outputs": [
        {
          "output_type": "execute_result",
          "data": {
            "text/plain": [
              "DecisionTreeRegressor(criterion='mse', max_depth=8, max_features=7,\n",
              "                      max_leaf_nodes=100)"
            ]
          },
          "metadata": {},
          "execution_count": 95
        }
      ]
    },
    {
      "cell_type": "code",
      "source": [
        "# predict for train data\n",
        "y_pred_train_d = decision_regressor.predict(X_train)\n",
        "\n",
        "# predict for test data\n",
        "y_pred_test_d = decision_regressor.predict(X_test)"
      ],
      "metadata": {
        "id": "k-cnXjjlTPvW"
      },
      "execution_count": 96,
      "outputs": []
    },
    {
      "cell_type": "code",
      "source": [
        "# calculating model score\n",
        "print(\"Model Score:\",decision_regressor.score(X_train,y_train))\n",
        "\n",
        "# calculating MSE\n",
        "MSE_d= mean_squared_error(y_train, y_pred_train_d)\n",
        "print(\"MSE :\",MSE_d)\n",
        "\n",
        "# calculating RMSE\n",
        "RMSE_d=np.sqrt(MSE_d)\n",
        "print(\"RMSE :\",RMSE_d)\n",
        "\n",
        "\n",
        "# calculating MAE\n",
        "MAE_d= mean_absolute_error(y_train, y_pred_train_d)\n",
        "print(\"MAE :\",MAE_d)\n",
        "\n",
        "# calculating r2 and adjusted r2\n",
        "r2_d= r2_score(y_train, y_pred_train_d)\n",
        "print(\"R2 :\",r2_d)\n",
        "Adjusted_R2_d=(1-(1-r2_score(y_train, y_pred_train_d))*((X_test.shape[0]-1)/(X_test.shape[0]-X_test.shape[1]-1)) )\n",
        "print(\"Adjusted R2 :\", Adjusted_R2_d)\n"
      ],
      "metadata": {
        "colab": {
          "base_uri": "https://localhost:8080/"
        },
        "id": "YLevP_8zTiAF",
        "outputId": "b765ae7d-5006-4d43-ee49-0be2b6c5eb20"
      },
      "execution_count": 97,
      "outputs": [
        {
          "output_type": "stream",
          "name": "stdout",
          "text": [
            "Model Score: 0.8166713384956934\n",
            "MSE : 17.206929374097342\n",
            "RMSE : 4.148123596772081\n",
            "MAE : 2.1213774207315943\n",
            "R2 : 0.8166713384956934\n",
            "Adjusted R2 : 0.8166449200867975\n"
          ]
        }
      ]
    },
    {
      "cell_type": "code",
      "source": [
        "# storing the train set metrics value into the train evaluation dataframe\n",
        "dict1={'Model':'Decision tree regression ',\n",
        "       'MAE':round((MAE_d),3),\n",
        "       'MSE':round((MSE_d),3),\n",
        "       'RMSE':round((RMSE_d),3),\n",
        "       'R2_score':round((r2_d),3),\n",
        "       'Adjusted R2':round((Adjusted_R2_d),2)\n",
        "      }\n",
        "training_df=training_df.append(dict1,ignore_index=True)"
      ],
      "metadata": {
        "id": "l1dRTKcUTjF2"
      },
      "execution_count": 98,
      "outputs": []
    },
    {
      "cell_type": "code",
      "source": [
        "\n",
        "# calculating MSE\n",
        "MSE_d= mean_squared_error(y_test, y_pred_test_d)\n",
        "print(\"MSE :\",MSE_d)\n",
        "\n",
        "# calculating RMSE\n",
        "RMSE_d=np.sqrt(MSE_d)\n",
        "print(\"RMSE :\",RMSE_d)\n",
        "\n",
        "\n",
        "# calculating MAE\n",
        "MAE_d= mean_absolute_error(y_test, y_pred_test_d)\n",
        "print(\"MAE :\",MAE_d)\n",
        "\n",
        "\n",
        "# calculating r2 and adjusted r2\n",
        "r2_d= r2_score((y_test), (y_pred_test_d))\n",
        "print(\"R2 :\",r2_d)\n",
        "Adjusted_R2_d=(1-(1-r2_score((y_test), (y_pred_test_d)))*((X_test.shape[0]-1)/(X_test.shape[0]-X_test.shape[1]-1)) )\n",
        "print(\"Adjusted R2 :\", Adjusted_R2_d)\n"
      ],
      "metadata": {
        "colab": {
          "base_uri": "https://localhost:8080/"
        },
        "id": "m27NPvPDTr71",
        "outputId": "25b95018-c26d-4aba-cbc7-c68dad6e1139"
      },
      "execution_count": 99,
      "outputs": [
        {
          "output_type": "stream",
          "name": "stdout",
          "text": [
            "MSE : 24.705506656026206\n",
            "RMSE : 4.970463424674424\n",
            "MAE : 2.187087101375564\n",
            "R2 : 0.7493392272390496\n",
            "Adjusted R2 : 0.7493031059979155\n"
          ]
        }
      ]
    },
    {
      "cell_type": "code",
      "source": [
        "# storing the test set metrics value into the test evaluation dataframe\n",
        "dict2={'Model':'Decision tree regression ',\n",
        "       'MAE':round((MAE_d),3),\n",
        "       'MSE':round((MSE_d),3),\n",
        "       'RMSE':round((RMSE_d),3),\n",
        "       'R2_score':round((r2_d),3),\n",
        "       'Adjusted R2':round((Adjusted_R2_d),2)\n",
        "      }\n",
        "test_df=test_df.append(dict2,ignore_index=True)"
      ],
      "metadata": {
        "id": "EsJvbOrsTs9R"
      },
      "execution_count": 100,
      "outputs": []
    },
    {
      "cell_type": "code",
      "source": [
        "# display train evaluation dataframe.\n",
        "training_df"
      ],
      "metadata": {
        "colab": {
          "base_uri": "https://localhost:8080/",
          "height": 206
        },
        "id": "TFiBjMbmTwS4",
        "outputId": "7605b77d-18ec-4344-d30d-9d5e71d70aef"
      },
      "execution_count": 101,
      "outputs": [
        {
          "output_type": "execute_result",
          "data": {
            "text/plain": [
              "                       Model    MAE     MSE   RMSE  R2_score  Adjusted R2\n",
              "0         Linear regression   3.340  49.928  7.066     0.468         0.47\n",
              "1          Lasso regression   3.616  52.301  7.232     0.443         0.44\n",
              "2          Ridge regression   3.340  49.928  7.066     0.468         0.47\n",
              "3    Elastic net regression   3.417  50.377  7.098     0.463         0.46\n",
              "4  Decision tree regression   2.121  17.207  4.148     0.817         0.82"
            ],
            "text/html": [
              "\n",
              "  <div id=\"df-d0cf7d7e-bbb6-4d0d-96af-f19357807546\">\n",
              "    <div class=\"colab-df-container\">\n",
              "      <div>\n",
              "<style scoped>\n",
              "    .dataframe tbody tr th:only-of-type {\n",
              "        vertical-align: middle;\n",
              "    }\n",
              "\n",
              "    .dataframe tbody tr th {\n",
              "        vertical-align: top;\n",
              "    }\n",
              "\n",
              "    .dataframe thead th {\n",
              "        text-align: right;\n",
              "    }\n",
              "</style>\n",
              "<table border=\"1\" class=\"dataframe\">\n",
              "  <thead>\n",
              "    <tr style=\"text-align: right;\">\n",
              "      <th></th>\n",
              "      <th>Model</th>\n",
              "      <th>MAE</th>\n",
              "      <th>MSE</th>\n",
              "      <th>RMSE</th>\n",
              "      <th>R2_score</th>\n",
              "      <th>Adjusted R2</th>\n",
              "    </tr>\n",
              "  </thead>\n",
              "  <tbody>\n",
              "    <tr>\n",
              "      <th>0</th>\n",
              "      <td>Linear regression</td>\n",
              "      <td>3.340</td>\n",
              "      <td>49.928</td>\n",
              "      <td>7.066</td>\n",
              "      <td>0.468</td>\n",
              "      <td>0.47</td>\n",
              "    </tr>\n",
              "    <tr>\n",
              "      <th>1</th>\n",
              "      <td>Lasso regression</td>\n",
              "      <td>3.616</td>\n",
              "      <td>52.301</td>\n",
              "      <td>7.232</td>\n",
              "      <td>0.443</td>\n",
              "      <td>0.44</td>\n",
              "    </tr>\n",
              "    <tr>\n",
              "      <th>2</th>\n",
              "      <td>Ridge regression</td>\n",
              "      <td>3.340</td>\n",
              "      <td>49.928</td>\n",
              "      <td>7.066</td>\n",
              "      <td>0.468</td>\n",
              "      <td>0.47</td>\n",
              "    </tr>\n",
              "    <tr>\n",
              "      <th>3</th>\n",
              "      <td>Elastic net regression</td>\n",
              "      <td>3.417</td>\n",
              "      <td>50.377</td>\n",
              "      <td>7.098</td>\n",
              "      <td>0.463</td>\n",
              "      <td>0.46</td>\n",
              "    </tr>\n",
              "    <tr>\n",
              "      <th>4</th>\n",
              "      <td>Decision tree regression</td>\n",
              "      <td>2.121</td>\n",
              "      <td>17.207</td>\n",
              "      <td>4.148</td>\n",
              "      <td>0.817</td>\n",
              "      <td>0.82</td>\n",
              "    </tr>\n",
              "  </tbody>\n",
              "</table>\n",
              "</div>\n",
              "      <button class=\"colab-df-convert\" onclick=\"convertToInteractive('df-d0cf7d7e-bbb6-4d0d-96af-f19357807546')\"\n",
              "              title=\"Convert this dataframe to an interactive table.\"\n",
              "              style=\"display:none;\">\n",
              "        \n",
              "  <svg xmlns=\"http://www.w3.org/2000/svg\" height=\"24px\"viewBox=\"0 0 24 24\"\n",
              "       width=\"24px\">\n",
              "    <path d=\"M0 0h24v24H0V0z\" fill=\"none\"/>\n",
              "    <path d=\"M18.56 5.44l.94 2.06.94-2.06 2.06-.94-2.06-.94-.94-2.06-.94 2.06-2.06.94zm-11 1L8.5 8.5l.94-2.06 2.06-.94-2.06-.94L8.5 2.5l-.94 2.06-2.06.94zm10 10l.94 2.06.94-2.06 2.06-.94-2.06-.94-.94-2.06-.94 2.06-2.06.94z\"/><path d=\"M17.41 7.96l-1.37-1.37c-.4-.4-.92-.59-1.43-.59-.52 0-1.04.2-1.43.59L10.3 9.45l-7.72 7.72c-.78.78-.78 2.05 0 2.83L4 21.41c.39.39.9.59 1.41.59.51 0 1.02-.2 1.41-.59l7.78-7.78 2.81-2.81c.8-.78.8-2.07 0-2.86zM5.41 20L4 18.59l7.72-7.72 1.47 1.35L5.41 20z\"/>\n",
              "  </svg>\n",
              "      </button>\n",
              "      \n",
              "  <style>\n",
              "    .colab-df-container {\n",
              "      display:flex;\n",
              "      flex-wrap:wrap;\n",
              "      gap: 12px;\n",
              "    }\n",
              "\n",
              "    .colab-df-convert {\n",
              "      background-color: #E8F0FE;\n",
              "      border: none;\n",
              "      border-radius: 50%;\n",
              "      cursor: pointer;\n",
              "      display: none;\n",
              "      fill: #1967D2;\n",
              "      height: 32px;\n",
              "      padding: 0 0 0 0;\n",
              "      width: 32px;\n",
              "    }\n",
              "\n",
              "    .colab-df-convert:hover {\n",
              "      background-color: #E2EBFA;\n",
              "      box-shadow: 0px 1px 2px rgba(60, 64, 67, 0.3), 0px 1px 3px 1px rgba(60, 64, 67, 0.15);\n",
              "      fill: #174EA6;\n",
              "    }\n",
              "\n",
              "    [theme=dark] .colab-df-convert {\n",
              "      background-color: #3B4455;\n",
              "      fill: #D2E3FC;\n",
              "    }\n",
              "\n",
              "    [theme=dark] .colab-df-convert:hover {\n",
              "      background-color: #434B5C;\n",
              "      box-shadow: 0px 1px 3px 1px rgba(0, 0, 0, 0.15);\n",
              "      filter: drop-shadow(0px 1px 2px rgba(0, 0, 0, 0.3));\n",
              "      fill: #FFFFFF;\n",
              "    }\n",
              "  </style>\n",
              "\n",
              "      <script>\n",
              "        const buttonEl =\n",
              "          document.querySelector('#df-d0cf7d7e-bbb6-4d0d-96af-f19357807546 button.colab-df-convert');\n",
              "        buttonEl.style.display =\n",
              "          google.colab.kernel.accessAllowed ? 'block' : 'none';\n",
              "\n",
              "        async function convertToInteractive(key) {\n",
              "          const element = document.querySelector('#df-d0cf7d7e-bbb6-4d0d-96af-f19357807546');\n",
              "          const dataTable =\n",
              "            await google.colab.kernel.invokeFunction('convertToInteractive',\n",
              "                                                     [key], {});\n",
              "          if (!dataTable) return;\n",
              "\n",
              "          const docLinkHtml = 'Like what you see? Visit the ' +\n",
              "            '<a target=\"_blank\" href=https://colab.research.google.com/notebooks/data_table.ipynb>data table notebook</a>'\n",
              "            + ' to learn more about interactive tables.';\n",
              "          element.innerHTML = '';\n",
              "          dataTable['output_type'] = 'display_data';\n",
              "          await google.colab.output.renderOutput(dataTable, element);\n",
              "          const docLink = document.createElement('div');\n",
              "          docLink.innerHTML = docLinkHtml;\n",
              "          element.appendChild(docLink);\n",
              "        }\n",
              "      </script>\n",
              "    </div>\n",
              "  </div>\n",
              "  "
            ]
          },
          "metadata": {},
          "execution_count": 101
        }
      ]
    },
    {
      "cell_type": "code",
      "source": [
        "# display test evaluation dataframe.\n",
        "test_df"
      ],
      "metadata": {
        "colab": {
          "base_uri": "https://localhost:8080/",
          "height": 206
        },
        "id": "YsW69eYWTxkB",
        "outputId": "506b6001-66ef-438d-86f5-3dba9523cde3"
      },
      "execution_count": 102,
      "outputs": [
        {
          "output_type": "execute_result",
          "data": {
            "text/plain": [
              "                         Model    MAE     MSE   RMSE  R2_score  Adjusted R2\n",
              "0           Linear regression   3.379  56.637  7.526     0.425         0.43\n",
              "1            Lasso regression   3.647  58.611  7.656     0.405         0.41\n",
              "2            Ridge regression   3.379  56.637  7.526     0.425         0.43\n",
              "3  Elastic net regression Test  3.453  56.876  7.542     0.423         0.42\n",
              "4    Decision tree regression   2.187  24.706  4.970     0.749         0.75"
            ],
            "text/html": [
              "\n",
              "  <div id=\"df-f1b6e07e-4979-4f0b-91aa-7bbbaea6d6b4\">\n",
              "    <div class=\"colab-df-container\">\n",
              "      <div>\n",
              "<style scoped>\n",
              "    .dataframe tbody tr th:only-of-type {\n",
              "        vertical-align: middle;\n",
              "    }\n",
              "\n",
              "    .dataframe tbody tr th {\n",
              "        vertical-align: top;\n",
              "    }\n",
              "\n",
              "    .dataframe thead th {\n",
              "        text-align: right;\n",
              "    }\n",
              "</style>\n",
              "<table border=\"1\" class=\"dataframe\">\n",
              "  <thead>\n",
              "    <tr style=\"text-align: right;\">\n",
              "      <th></th>\n",
              "      <th>Model</th>\n",
              "      <th>MAE</th>\n",
              "      <th>MSE</th>\n",
              "      <th>RMSE</th>\n",
              "      <th>R2_score</th>\n",
              "      <th>Adjusted R2</th>\n",
              "    </tr>\n",
              "  </thead>\n",
              "  <tbody>\n",
              "    <tr>\n",
              "      <th>0</th>\n",
              "      <td>Linear regression</td>\n",
              "      <td>3.379</td>\n",
              "      <td>56.637</td>\n",
              "      <td>7.526</td>\n",
              "      <td>0.425</td>\n",
              "      <td>0.43</td>\n",
              "    </tr>\n",
              "    <tr>\n",
              "      <th>1</th>\n",
              "      <td>Lasso regression</td>\n",
              "      <td>3.647</td>\n",
              "      <td>58.611</td>\n",
              "      <td>7.656</td>\n",
              "      <td>0.405</td>\n",
              "      <td>0.41</td>\n",
              "    </tr>\n",
              "    <tr>\n",
              "      <th>2</th>\n",
              "      <td>Ridge regression</td>\n",
              "      <td>3.379</td>\n",
              "      <td>56.637</td>\n",
              "      <td>7.526</td>\n",
              "      <td>0.425</td>\n",
              "      <td>0.43</td>\n",
              "    </tr>\n",
              "    <tr>\n",
              "      <th>3</th>\n",
              "      <td>Elastic net regression Test</td>\n",
              "      <td>3.453</td>\n",
              "      <td>56.876</td>\n",
              "      <td>7.542</td>\n",
              "      <td>0.423</td>\n",
              "      <td>0.42</td>\n",
              "    </tr>\n",
              "    <tr>\n",
              "      <th>4</th>\n",
              "      <td>Decision tree regression</td>\n",
              "      <td>2.187</td>\n",
              "      <td>24.706</td>\n",
              "      <td>4.970</td>\n",
              "      <td>0.749</td>\n",
              "      <td>0.75</td>\n",
              "    </tr>\n",
              "  </tbody>\n",
              "</table>\n",
              "</div>\n",
              "      <button class=\"colab-df-convert\" onclick=\"convertToInteractive('df-f1b6e07e-4979-4f0b-91aa-7bbbaea6d6b4')\"\n",
              "              title=\"Convert this dataframe to an interactive table.\"\n",
              "              style=\"display:none;\">\n",
              "        \n",
              "  <svg xmlns=\"http://www.w3.org/2000/svg\" height=\"24px\"viewBox=\"0 0 24 24\"\n",
              "       width=\"24px\">\n",
              "    <path d=\"M0 0h24v24H0V0z\" fill=\"none\"/>\n",
              "    <path d=\"M18.56 5.44l.94 2.06.94-2.06 2.06-.94-2.06-.94-.94-2.06-.94 2.06-2.06.94zm-11 1L8.5 8.5l.94-2.06 2.06-.94-2.06-.94L8.5 2.5l-.94 2.06-2.06.94zm10 10l.94 2.06.94-2.06 2.06-.94-2.06-.94-.94-2.06-.94 2.06-2.06.94z\"/><path d=\"M17.41 7.96l-1.37-1.37c-.4-.4-.92-.59-1.43-.59-.52 0-1.04.2-1.43.59L10.3 9.45l-7.72 7.72c-.78.78-.78 2.05 0 2.83L4 21.41c.39.39.9.59 1.41.59.51 0 1.02-.2 1.41-.59l7.78-7.78 2.81-2.81c.8-.78.8-2.07 0-2.86zM5.41 20L4 18.59l7.72-7.72 1.47 1.35L5.41 20z\"/>\n",
              "  </svg>\n",
              "      </button>\n",
              "      \n",
              "  <style>\n",
              "    .colab-df-container {\n",
              "      display:flex;\n",
              "      flex-wrap:wrap;\n",
              "      gap: 12px;\n",
              "    }\n",
              "\n",
              "    .colab-df-convert {\n",
              "      background-color: #E8F0FE;\n",
              "      border: none;\n",
              "      border-radius: 50%;\n",
              "      cursor: pointer;\n",
              "      display: none;\n",
              "      fill: #1967D2;\n",
              "      height: 32px;\n",
              "      padding: 0 0 0 0;\n",
              "      width: 32px;\n",
              "    }\n",
              "\n",
              "    .colab-df-convert:hover {\n",
              "      background-color: #E2EBFA;\n",
              "      box-shadow: 0px 1px 2px rgba(60, 64, 67, 0.3), 0px 1px 3px 1px rgba(60, 64, 67, 0.15);\n",
              "      fill: #174EA6;\n",
              "    }\n",
              "\n",
              "    [theme=dark] .colab-df-convert {\n",
              "      background-color: #3B4455;\n",
              "      fill: #D2E3FC;\n",
              "    }\n",
              "\n",
              "    [theme=dark] .colab-df-convert:hover {\n",
              "      background-color: #434B5C;\n",
              "      box-shadow: 0px 1px 3px 1px rgba(0, 0, 0, 0.15);\n",
              "      filter: drop-shadow(0px 1px 2px rgba(0, 0, 0, 0.3));\n",
              "      fill: #FFFFFF;\n",
              "    }\n",
              "  </style>\n",
              "\n",
              "      <script>\n",
              "        const buttonEl =\n",
              "          document.querySelector('#df-f1b6e07e-4979-4f0b-91aa-7bbbaea6d6b4 button.colab-df-convert');\n",
              "        buttonEl.style.display =\n",
              "          google.colab.kernel.accessAllowed ? 'block' : 'none';\n",
              "\n",
              "        async function convertToInteractive(key) {\n",
              "          const element = document.querySelector('#df-f1b6e07e-4979-4f0b-91aa-7bbbaea6d6b4');\n",
              "          const dataTable =\n",
              "            await google.colab.kernel.invokeFunction('convertToInteractive',\n",
              "                                                     [key], {});\n",
              "          if (!dataTable) return;\n",
              "\n",
              "          const docLinkHtml = 'Like what you see? Visit the ' +\n",
              "            '<a target=\"_blank\" href=https://colab.research.google.com/notebooks/data_table.ipynb>data table notebook</a>'\n",
              "            + ' to learn more about interactive tables.';\n",
              "          element.innerHTML = '';\n",
              "          dataTable['output_type'] = 'display_data';\n",
              "          await google.colab.output.renderOutput(dataTable, element);\n",
              "          const docLink = document.createElement('div');\n",
              "          docLink.innerHTML = docLinkHtml;\n",
              "          element.appendChild(docLink);\n",
              "        }\n",
              "      </script>\n",
              "    </div>\n",
              "  </div>\n",
              "  "
            ]
          },
          "metadata": {},
          "execution_count": 102
        }
      ]
    },
    {
      "cell_type": "code",
      "source": [
        "\n",
        "# DOT data\n",
        "dot_data = tree.export_graphviz(decision_regressor, out_file=None, \n",
        "                                feature_names=X_train.columns,  \n",
        "                                class_names='views',\n",
        "                                filled=True)\n",
        "\n",
        "# Draw graph\n",
        "graph = graphviz.Source(dot_data, format=\"png\")\n",
        "graph.render\n",
        "\n",
        "# Display graph\n",
        "graph"
      ],
      "metadata": {
        "colab": {
          "base_uri": "https://localhost:8080/",
          "height": 1000
        },
        "id": "AiBlCGPiTzGr",
        "outputId": "edf588a8-aa22-4ff4-b0f0-f3995ea5ea1c"
      },
      "execution_count": 103,
      "outputs": [
        {
          "output_type": "execute_result",
          "data": {
            "text/plain": [
              "<graphviz.files.Source at 0x7f59ae754850>"
            ],
            "image/svg+xml": "<?xml version=\"1.0\" encoding=\"UTF-8\" standalone=\"no\"?>\n<!DOCTYPE svg PUBLIC \"-//W3C//DTD SVG 1.1//EN\"\n \"http://www.w3.org/Graphics/SVG/1.1/DTD/svg11.dtd\">\n<!-- Generated by graphviz version 2.40.1 (20161225.0304)\n -->\n<!-- Title: Tree Pages: 1 -->\n<svg width=\"9539pt\" height=\"893pt\"\n viewBox=\"0.00 0.00 9538.50 893.00\" xmlns=\"http://www.w3.org/2000/svg\" xmlns:xlink=\"http://www.w3.org/1999/xlink\">\n<g id=\"graph0\" class=\"graph\" transform=\"scale(1 1) rotate(0) translate(4 889)\">\n<title>Tree</title>\n<polygon fill=\"#ffffff\" stroke=\"transparent\" points=\"-4,4 -4,-889 9534.5,-889 9534.5,4 -4,4\"/>\n<!-- 0 -->\n<g id=\"node1\" class=\"node\">\n<title>0</title>\n<polygon fill=\"#fefbf9\" stroke=\"#000000\" points=\"5416,-885 5279,-885 5279,-817 5416,-817 5416,-885\"/>\n<text text-anchor=\"middle\" x=\"5347.5\" y=\"-869.8\" font-family=\"Helvetica,sans-Serif\" font-size=\"14.00\" fill=\"#000000\">distance &lt;= 2.191</text>\n<text text-anchor=\"middle\" x=\"5347.5\" y=\"-854.8\" font-family=\"Helvetica,sans-Serif\" font-size=\"14.00\" fill=\"#000000\">mse = 93.858</text>\n<text text-anchor=\"middle\" x=\"5347.5\" y=\"-839.8\" font-family=\"Helvetica,sans-Serif\" font-size=\"14.00\" fill=\"#000000\">samples = 145749</text>\n<text text-anchor=\"middle\" x=\"5347.5\" y=\"-824.8\" font-family=\"Helvetica,sans-Serif\" font-size=\"14.00\" fill=\"#000000\">value = 11.354</text>\n</g>\n<!-- 1 -->\n<g id=\"node2\" class=\"node\">\n<title>1</title>\n<polygon fill=\"#fefcfb\" stroke=\"#000000\" points=\"4256,-781 4119,-781 4119,-713 4256,-713 4256,-781\"/>\n<text text-anchor=\"middle\" x=\"4187.5\" y=\"-765.8\" font-family=\"Helvetica,sans-Serif\" font-size=\"14.00\" fill=\"#000000\">distance &lt;= 1.453</text>\n<text text-anchor=\"middle\" x=\"4187.5\" y=\"-750.8\" font-family=\"Helvetica,sans-Serif\" font-size=\"14.00\" fill=\"#000000\">mse = 28.202</text>\n<text text-anchor=\"middle\" x=\"4187.5\" y=\"-735.8\" font-family=\"Helvetica,sans-Serif\" font-size=\"14.00\" fill=\"#000000\">samples = 133309</text>\n<text text-anchor=\"middle\" x=\"4187.5\" y=\"-720.8\" font-family=\"Helvetica,sans-Serif\" font-size=\"14.00\" fill=\"#000000\">value = 9.218</text>\n</g>\n<!-- 0&#45;&gt;1 -->\n<g id=\"edge1\" class=\"edge\">\n<title>0&#45;&gt;1</title>\n<path fill=\"none\" stroke=\"#000000\" d=\"M5278.8396,-844.8442C5076.2827,-826.684 4481.934,-773.3975 4266.5745,-754.0894\"/>\n<polygon fill=\"#000000\" stroke=\"#000000\" points=\"4266.5745,-750.5755 4256.3019,-753.1684 4265.9494,-757.5475 4266.5745,-750.5755\"/>\n<text text-anchor=\"middle\" x=\"4272.3304\" y=\"-768.6541\" font-family=\"Helvetica,sans-Serif\" font-size=\"14.00\" fill=\"#000000\">True</text>\n</g>\n<!-- 2 -->\n<g id=\"node95\" class=\"node\">\n<title>2</title>\n<polygon fill=\"#fbece1\" stroke=\"#000000\" points=\"5815.5,-781 5683.5,-781 5683.5,-713 5815.5,-713 5815.5,-781\"/>\n<text text-anchor=\"middle\" x=\"5749.5\" y=\"-765.8\" font-family=\"Helvetica,sans-Serif\" font-size=\"14.00\" fill=\"#000000\">distance &lt;= 2.792</text>\n<text text-anchor=\"middle\" x=\"5749.5\" y=\"-750.8\" font-family=\"Helvetica,sans-Serif\" font-size=\"14.00\" fill=\"#000000\">mse = 224.498</text>\n<text text-anchor=\"middle\" x=\"5749.5\" y=\"-735.8\" font-family=\"Helvetica,sans-Serif\" font-size=\"14.00\" fill=\"#000000\">samples = 12440</text>\n<text text-anchor=\"middle\" x=\"5749.5\" y=\"-720.8\" font-family=\"Helvetica,sans-Serif\" font-size=\"14.00\" fill=\"#000000\">value = 34.246</text>\n</g>\n<!-- 0&#45;&gt;2 -->\n<g id=\"edge94\" class=\"edge\">\n<title>0&#45;&gt;2</title>\n<path fill=\"none\" stroke=\"#000000\" d=\"M5416.1495,-833.2399C5487.7233,-814.7233 5599.6023,-785.7795 5673.722,-766.6043\"/>\n<polygon fill=\"#000000\" stroke=\"#000000\" points=\"5674.6655,-769.9755 5683.4701,-764.0824 5672.9122,-763.1986 5674.6655,-769.9755\"/>\n<text text-anchor=\"middle\" x=\"5670.7834\" y=\"-781.9242\" font-family=\"Helvetica,sans-Serif\" font-size=\"14.00\" fill=\"#000000\">False</text>\n</g>\n<!-- 3 -->\n<g id=\"node3\" class=\"node\">\n<title>3</title>\n<polygon fill=\"#fffdfd\" stroke=\"#000000\" points=\"2925.5,-677 2793.5,-677 2793.5,-609 2925.5,-609 2925.5,-677\"/>\n<text text-anchor=\"middle\" x=\"2859.5\" y=\"-661.8\" font-family=\"Helvetica,sans-Serif\" font-size=\"14.00\" fill=\"#000000\">distance &lt;= 1.037</text>\n<text text-anchor=\"middle\" x=\"2859.5\" y=\"-646.8\" font-family=\"Helvetica,sans-Serif\" font-size=\"14.00\" fill=\"#000000\">mse = 16.303</text>\n<text text-anchor=\"middle\" x=\"2859.5\" y=\"-631.8\" font-family=\"Helvetica,sans-Serif\" font-size=\"14.00\" fill=\"#000000\">samples = 99418</text>\n<text text-anchor=\"middle\" x=\"2859.5\" y=\"-616.8\" font-family=\"Helvetica,sans-Serif\" font-size=\"14.00\" fill=\"#000000\">value = 7.436</text>\n</g>\n<!-- 1&#45;&gt;3 -->\n<g id=\"edge2\" class=\"edge\">\n<title>1&#45;&gt;3</title>\n<path fill=\"none\" stroke=\"#000000\" d=\"M4118.8974,-741.6275C3892.9422,-723.9322 3172.9827,-667.5499 2935.9662,-648.9883\"/>\n<polygon fill=\"#000000\" stroke=\"#000000\" points=\"2935.9618,-645.4773 2925.719,-648.1858 2935.4152,-652.456 2935.9618,-645.4773\"/>\n</g>\n<!-- 4 -->\n<g id=\"node62\" class=\"node\">\n<title>4</title>\n<polygon fill=\"#fef9f5\" stroke=\"#000000\" points=\"4253.5,-677 4121.5,-677 4121.5,-609 4253.5,-609 4253.5,-677\"/>\n<text text-anchor=\"middle\" x=\"4187.5\" y=\"-661.8\" font-family=\"Helvetica,sans-Serif\" font-size=\"14.00\" fill=\"#000000\">distance &lt;= 1.838</text>\n<text text-anchor=\"middle\" x=\"4187.5\" y=\"-646.8\" font-family=\"Helvetica,sans-Serif\" font-size=\"14.00\" fill=\"#000000\">mse = 26.469</text>\n<text text-anchor=\"middle\" x=\"4187.5\" y=\"-631.8\" font-family=\"Helvetica,sans-Serif\" font-size=\"14.00\" fill=\"#000000\">samples = 33891</text>\n<text text-anchor=\"middle\" x=\"4187.5\" y=\"-616.8\" font-family=\"Helvetica,sans-Serif\" font-size=\"14.00\" fill=\"#000000\">value = 14.445</text>\n</g>\n<!-- 1&#45;&gt;4 -->\n<g id=\"edge61\" class=\"edge\">\n<title>1&#45;&gt;4</title>\n<path fill=\"none\" stroke=\"#000000\" d=\"M4187.5,-712.9465C4187.5,-704.776 4187.5,-695.9318 4187.5,-687.3697\"/>\n<polygon fill=\"#000000\" stroke=\"#000000\" points=\"4191.0001,-687.13 4187.5,-677.13 4184.0001,-687.13 4191.0001,-687.13\"/>\n</g>\n<!-- 9 -->\n<g id=\"node4\" class=\"node\">\n<title>9</title>\n<polygon fill=\"#fffefe\" stroke=\"#000000\" points=\"2161.5,-573 2029.5,-573 2029.5,-505 2161.5,-505 2161.5,-573\"/>\n<text text-anchor=\"middle\" x=\"2095.5\" y=\"-557.8\" font-family=\"Helvetica,sans-Serif\" font-size=\"14.00\" fill=\"#000000\">distance &lt;= 0.011</text>\n<text text-anchor=\"middle\" x=\"2095.5\" y=\"-542.8\" font-family=\"Helvetica,sans-Serif\" font-size=\"14.00\" fill=\"#000000\">mse = 18.079</text>\n<text text-anchor=\"middle\" x=\"2095.5\" y=\"-527.8\" font-family=\"Helvetica,sans-Serif\" font-size=\"14.00\" fill=\"#000000\">samples = 59839</text>\n<text text-anchor=\"middle\" x=\"2095.5\" y=\"-512.8\" font-family=\"Helvetica,sans-Serif\" font-size=\"14.00\" fill=\"#000000\">value = 6.296</text>\n</g>\n<!-- 3&#45;&gt;9 -->\n<g id=\"edge3\" class=\"edge\">\n<title>3&#45;&gt;9</title>\n<path fill=\"none\" stroke=\"#000000\" d=\"M2793.3689,-633.9979C2652.0701,-614.7635 2321.4313,-569.755 2171.6446,-549.3652\"/>\n<polygon fill=\"#000000\" stroke=\"#000000\" points=\"2171.9913,-545.8802 2161.6105,-547.9993 2171.047,-552.8163 2171.9913,-545.8802\"/>\n</g>\n<!-- 10 -->\n<g id=\"node49\" class=\"node\">\n<title>10</title>\n<polygon fill=\"#fefcfb\" stroke=\"#000000\" points=\"2923.5,-573 2795.5,-573 2795.5,-505 2923.5,-505 2923.5,-573\"/>\n<text text-anchor=\"middle\" x=\"2859.5\" y=\"-557.8\" font-family=\"Helvetica,sans-Serif\" font-size=\"14.00\" fill=\"#000000\">year &lt;= 2012.5</text>\n<text text-anchor=\"middle\" x=\"2859.5\" y=\"-542.8\" font-family=\"Helvetica,sans-Serif\" font-size=\"14.00\" fill=\"#000000\">mse = 8.68</text>\n<text text-anchor=\"middle\" x=\"2859.5\" y=\"-527.8\" font-family=\"Helvetica,sans-Serif\" font-size=\"14.00\" fill=\"#000000\">samples = 39579</text>\n<text text-anchor=\"middle\" x=\"2859.5\" y=\"-512.8\" font-family=\"Helvetica,sans-Serif\" font-size=\"14.00\" fill=\"#000000\">value = 9.159</text>\n</g>\n<!-- 3&#45;&gt;10 -->\n<g id=\"edge48\" class=\"edge\">\n<title>3&#45;&gt;10</title>\n<path fill=\"none\" stroke=\"#000000\" d=\"M2859.5,-608.9465C2859.5,-600.776 2859.5,-591.9318 2859.5,-583.3697\"/>\n<polygon fill=\"#000000\" stroke=\"#000000\" points=\"2863.0001,-583.13 2859.5,-573.13 2856.0001,-583.13 2863.0001,-583.13\"/>\n</g>\n<!-- 15 -->\n<g id=\"node5\" class=\"node\">\n<title>15</title>\n<polygon fill=\"#fdf4ed\" stroke=\"#000000\" points=\"1407.5,-469 1275.5,-469 1275.5,-401 1407.5,-401 1407.5,-469\"/>\n<text text-anchor=\"middle\" x=\"1341.5\" y=\"-453.8\" font-family=\"Helvetica,sans-Serif\" font-size=\"14.00\" fill=\"#000000\">distance &lt;= 0.005</text>\n<text text-anchor=\"middle\" x=\"1341.5\" y=\"-438.8\" font-family=\"Helvetica,sans-Serif\" font-size=\"14.00\" fill=\"#000000\">mse = 888.99</text>\n<text text-anchor=\"middle\" x=\"1341.5\" y=\"-423.8\" font-family=\"Helvetica,sans-Serif\" font-size=\"14.00\" fill=\"#000000\">samples = 363</text>\n<text text-anchor=\"middle\" x=\"1341.5\" y=\"-408.8\" font-family=\"Helvetica,sans-Serif\" font-size=\"14.00\" fill=\"#000000\">value = 22.257</text>\n</g>\n<!-- 9&#45;&gt;15 -->\n<g id=\"edge4\" class=\"edge\">\n<title>9&#45;&gt;15</title>\n<path fill=\"none\" stroke=\"#000000\" d=\"M2029.2484,-529.8618C1889.5252,-510.5897 1565.3921,-465.8817 1417.5114,-445.4843\"/>\n<polygon fill=\"#000000\" stroke=\"#000000\" points=\"1417.9858,-442.0167 1407.6013,-444.1174 1417.0293,-448.9511 1417.9858,-442.0167\"/>\n</g>\n<!-- 16 -->\n<g id=\"node30\" class=\"node\">\n<title>16</title>\n<polygon fill=\"#fffefe\" stroke=\"#000000\" points=\"2161.5,-469 2029.5,-469 2029.5,-401 2161.5,-401 2161.5,-469\"/>\n<text text-anchor=\"middle\" x=\"2095.5\" y=\"-453.8\" font-family=\"Helvetica,sans-Serif\" font-size=\"14.00\" fill=\"#000000\">distance &lt;= 0.789</text>\n<text text-anchor=\"middle\" x=\"2095.5\" y=\"-438.8\" font-family=\"Helvetica,sans-Serif\" font-size=\"14.00\" fill=\"#000000\">mse = 11.2</text>\n<text text-anchor=\"middle\" x=\"2095.5\" y=\"-423.8\" font-family=\"Helvetica,sans-Serif\" font-size=\"14.00\" fill=\"#000000\">samples = 59476</text>\n<text text-anchor=\"middle\" x=\"2095.5\" y=\"-408.8\" font-family=\"Helvetica,sans-Serif\" font-size=\"14.00\" fill=\"#000000\">value = 6.198</text>\n</g>\n<!-- 9&#45;&gt;16 -->\n<g id=\"edge29\" class=\"edge\">\n<title>9&#45;&gt;16</title>\n<path fill=\"none\" stroke=\"#000000\" d=\"M2095.5,-504.9465C2095.5,-496.776 2095.5,-487.9318 2095.5,-479.3697\"/>\n<polygon fill=\"#000000\" stroke=\"#000000\" points=\"2099.0001,-479.13 2095.5,-469.13 2092.0001,-479.13 2099.0001,-479.13\"/>\n</g>\n<!-- 65 -->\n<g id=\"node6\" class=\"node\">\n<title>65</title>\n<polygon fill=\"#fcf2ea\" stroke=\"#000000\" points=\"828.5,-365 696.5,-365 696.5,-297 828.5,-297 828.5,-365\"/>\n<text text-anchor=\"middle\" x=\"762.5\" y=\"-349.8\" font-family=\"Helvetica,sans-Serif\" font-size=\"14.00\" fill=\"#000000\">distance &lt;= 0.004</text>\n<text text-anchor=\"middle\" x=\"762.5\" y=\"-334.8\" font-family=\"Helvetica,sans-Serif\" font-size=\"14.00\" fill=\"#000000\">mse = 1040.675</text>\n<text text-anchor=\"middle\" x=\"762.5\" y=\"-319.8\" font-family=\"Helvetica,sans-Serif\" font-size=\"14.00\" fill=\"#000000\">samples = 253</text>\n<text text-anchor=\"middle\" x=\"762.5\" y=\"-304.8\" font-family=\"Helvetica,sans-Serif\" font-size=\"14.00\" fill=\"#000000\">value = 25.071</text>\n</g>\n<!-- 15&#45;&gt;65 -->\n<g id=\"edge5\" class=\"edge\">\n<title>15&#45;&gt;65</title>\n<path fill=\"none\" stroke=\"#000000\" d=\"M1275.3634,-423.1205C1167.2095,-403.6939 953.1189,-365.239 838.7413,-344.6945\"/>\n<polygon fill=\"#000000\" stroke=\"#000000\" points=\"839.1245,-341.2074 828.6633,-342.8842 837.887,-348.0971 839.1245,-341.2074\"/>\n</g>\n<!-- 66 -->\n<g id=\"node21\" class=\"node\">\n<title>66</title>\n<polygon fill=\"#fef8f4\" stroke=\"#000000\" points=\"1407.5,-365 1275.5,-365 1275.5,-297 1407.5,-297 1407.5,-365\"/>\n<text text-anchor=\"middle\" x=\"1341.5\" y=\"-349.8\" font-family=\"Helvetica,sans-Serif\" font-size=\"14.00\" fill=\"#000000\">distance &lt;= 0.011</text>\n<text text-anchor=\"middle\" x=\"1341.5\" y=\"-334.8\" font-family=\"Helvetica,sans-Serif\" font-size=\"14.00\" fill=\"#000000\">mse = 479.997</text>\n<text text-anchor=\"middle\" x=\"1341.5\" y=\"-319.8\" font-family=\"Helvetica,sans-Serif\" font-size=\"14.00\" fill=\"#000000\">samples = 110</text>\n<text text-anchor=\"middle\" x=\"1341.5\" y=\"-304.8\" font-family=\"Helvetica,sans-Serif\" font-size=\"14.00\" fill=\"#000000\">value = 15.784</text>\n</g>\n<!-- 15&#45;&gt;66 -->\n<g id=\"edge20\" class=\"edge\">\n<title>15&#45;&gt;66</title>\n<path fill=\"none\" stroke=\"#000000\" d=\"M1341.5,-400.9465C1341.5,-392.776 1341.5,-383.9318 1341.5,-375.3697\"/>\n<polygon fill=\"#000000\" stroke=\"#000000\" points=\"1345.0001,-375.13 1341.5,-365.13 1338.0001,-375.13 1345.0001,-375.13\"/>\n</g>\n<!-- 67 -->\n<g id=\"node7\" class=\"node\">\n<title>67</title>\n<polygon fill=\"#fdf4ed\" stroke=\"#000000\" points=\"451,-261 338,-261 338,-193 451,-193 451,-261\"/>\n<text text-anchor=\"middle\" x=\"394.5\" y=\"-245.8\" font-family=\"Helvetica,sans-Serif\" font-size=\"14.00\" fill=\"#000000\">Hour &lt;= 0.5</text>\n<text text-anchor=\"middle\" x=\"394.5\" y=\"-230.8\" font-family=\"Helvetica,sans-Serif\" font-size=\"14.00\" fill=\"#000000\">mse = 862.979</text>\n<text text-anchor=\"middle\" x=\"394.5\" y=\"-215.8\" font-family=\"Helvetica,sans-Serif\" font-size=\"14.00\" fill=\"#000000\">samples = 225</text>\n<text text-anchor=\"middle\" x=\"394.5\" y=\"-200.8\" font-family=\"Helvetica,sans-Serif\" font-size=\"14.00\" fill=\"#000000\">value = 22.464</text>\n</g>\n<!-- 65&#45;&gt;67 -->\n<g id=\"edge6\" class=\"edge\">\n<title>65&#45;&gt;67</title>\n<path fill=\"none\" stroke=\"#000000\" d=\"M696.284,-312.2868C629.7559,-293.4854 527.7875,-264.6682 461.1174,-245.8267\"/>\n<polygon fill=\"#000000\" stroke=\"#000000\" points=\"461.7135,-242.3581 451.1385,-243.0065 459.8098,-249.0943 461.7135,-242.3581\"/>\n</g>\n<!-- 68 -->\n<g id=\"node14\" class=\"node\">\n<title>68</title>\n<polygon fill=\"#f9e4d5\" stroke=\"#000000\" points=\"828.5,-261 696.5,-261 696.5,-193 828.5,-193 828.5,-261\"/>\n<text text-anchor=\"middle\" x=\"762.5\" y=\"-245.8\" font-family=\"Helvetica,sans-Serif\" font-size=\"14.00\" fill=\"#000000\">distance &lt;= 0.004</text>\n<text text-anchor=\"middle\" x=\"762.5\" y=\"-230.8\" font-family=\"Helvetica,sans-Serif\" font-size=\"14.00\" fill=\"#000000\">mse = 1975.098</text>\n<text text-anchor=\"middle\" x=\"762.5\" y=\"-215.8\" font-family=\"Helvetica,sans-Serif\" font-size=\"14.00\" fill=\"#000000\">samples = 28</text>\n<text text-anchor=\"middle\" x=\"762.5\" y=\"-200.8\" font-family=\"Helvetica,sans-Serif\" font-size=\"14.00\" fill=\"#000000\">value = 46.021</text>\n</g>\n<!-- 65&#45;&gt;68 -->\n<g id=\"edge13\" class=\"edge\">\n<title>65&#45;&gt;68</title>\n<path fill=\"none\" stroke=\"#000000\" d=\"M762.5,-296.9465C762.5,-288.776 762.5,-279.9318 762.5,-271.3697\"/>\n<polygon fill=\"#000000\" stroke=\"#000000\" points=\"766.0001,-271.13 762.5,-261.13 759.0001,-271.13 766.0001,-271.13\"/>\n</g>\n<!-- 73 -->\n<g id=\"node8\" class=\"node\">\n<title>73</title>\n<polygon fill=\"#f9e3d3\" stroke=\"#000000\" points=\"256.5,-157 134.5,-157 134.5,-89 256.5,-89 256.5,-157\"/>\n<text text-anchor=\"middle\" x=\"195.5\" y=\"-141.8\" font-family=\"Helvetica,sans-Serif\" font-size=\"14.00\" fill=\"#000000\">distance &lt;= 0.0</text>\n<text text-anchor=\"middle\" x=\"195.5\" y=\"-126.8\" font-family=\"Helvetica,sans-Serif\" font-size=\"14.00\" fill=\"#000000\">mse = 1465.292</text>\n<text text-anchor=\"middle\" x=\"195.5\" y=\"-111.8\" font-family=\"Helvetica,sans-Serif\" font-size=\"14.00\" fill=\"#000000\">samples = 11</text>\n<text text-anchor=\"middle\" x=\"195.5\" y=\"-96.8\" font-family=\"Helvetica,sans-Serif\" font-size=\"14.00\" fill=\"#000000\">value = 47.309</text>\n</g>\n<!-- 67&#45;&gt;73 -->\n<g id=\"edge7\" class=\"edge\">\n<title>67&#45;&gt;73</title>\n<path fill=\"none\" stroke=\"#000000\" d=\"M337.7409,-197.337C315.2283,-185.5716 289.1115,-171.9226 265.4475,-159.5555\"/>\n<polygon fill=\"#000000\" stroke=\"#000000\" points=\"266.9946,-156.4149 256.5107,-154.885 263.7523,-162.6188 266.9946,-156.4149\"/>\n</g>\n<!-- 74 -->\n<g id=\"node11\" class=\"node\">\n<title>74</title>\n<polygon fill=\"#fdf4ee\" stroke=\"#000000\" points=\"451,-157 338,-157 338,-89 451,-89 451,-157\"/>\n<text text-anchor=\"middle\" x=\"394.5\" y=\"-141.8\" font-family=\"Helvetica,sans-Serif\" font-size=\"14.00\" fill=\"#000000\">Month &lt;= 2.5</text>\n<text text-anchor=\"middle\" x=\"394.5\" y=\"-126.8\" font-family=\"Helvetica,sans-Serif\" font-size=\"14.00\" fill=\"#000000\">mse = 798.66</text>\n<text text-anchor=\"middle\" x=\"394.5\" y=\"-111.8\" font-family=\"Helvetica,sans-Serif\" font-size=\"14.00\" fill=\"#000000\">samples = 214</text>\n<text text-anchor=\"middle\" x=\"394.5\" y=\"-96.8\" font-family=\"Helvetica,sans-Serif\" font-size=\"14.00\" fill=\"#000000\">value = 21.187</text>\n</g>\n<!-- 67&#45;&gt;74 -->\n<g id=\"edge10\" class=\"edge\">\n<title>67&#45;&gt;74</title>\n<path fill=\"none\" stroke=\"#000000\" d=\"M394.5,-192.9465C394.5,-184.776 394.5,-175.9318 394.5,-167.3697\"/>\n<polygon fill=\"#000000\" stroke=\"#000000\" points=\"398.0001,-167.13 394.5,-157.13 391.0001,-167.13 398.0001,-167.13\"/>\n</g>\n<!-- 75 -->\n<g id=\"node9\" class=\"node\">\n<title>75</title>\n<polygon fill=\"#f0b58b\" stroke=\"#000000\" points=\"121,-53 0,-53 0,0 121,0 121,-53\"/>\n<text text-anchor=\"middle\" x=\"60.5\" y=\"-37.8\" font-family=\"Helvetica,sans-Serif\" font-size=\"14.00\" fill=\"#000000\">mse = 150.921</text>\n<text text-anchor=\"middle\" x=\"60.5\" y=\"-22.8\" font-family=\"Helvetica,sans-Serif\" font-size=\"14.00\" fill=\"#000000\">samples = 2</text>\n<text text-anchor=\"middle\" x=\"60.5\" y=\"-7.8\" font-family=\"Helvetica,sans-Serif\" font-size=\"14.00\" fill=\"#000000\">value = 117.285</text>\n</g>\n<!-- 73&#45;&gt;75 -->\n<g id=\"edge8\" class=\"edge\">\n<title>73&#45;&gt;75</title>\n<path fill=\"none\" stroke=\"#000000\" d=\"M147.9041,-88.9777C134.3252,-79.2713 119.5661,-68.7213 106.1088,-59.1018\"/>\n<polygon fill=\"#000000\" stroke=\"#000000\" points=\"108.0908,-56.2164 97.9202,-53.2485 104.0201,-61.9111 108.0908,-56.2164\"/>\n</g>\n<!-- 76 -->\n<g id=\"node10\" class=\"node\">\n<title>76</title>\n<polygon fill=\"#fbede3\" stroke=\"#000000\" points=\"252,-53 139,-53 139,0 252,0 252,-53\"/>\n<text text-anchor=\"middle\" x=\"195.5\" y=\"-37.8\" font-family=\"Helvetica,sans-Serif\" font-size=\"14.00\" fill=\"#000000\">mse = 427.426</text>\n<text text-anchor=\"middle\" x=\"195.5\" y=\"-22.8\" font-family=\"Helvetica,sans-Serif\" font-size=\"14.00\" fill=\"#000000\">samples = 9</text>\n<text text-anchor=\"middle\" x=\"195.5\" y=\"-7.8\" font-family=\"Helvetica,sans-Serif\" font-size=\"14.00\" fill=\"#000000\">value = 31.759</text>\n</g>\n<!-- 73&#45;&gt;76 -->\n<g id=\"edge9\" class=\"edge\">\n<title>73&#45;&gt;76</title>\n<path fill=\"none\" stroke=\"#000000\" d=\"M195.5,-88.9777C195.5,-80.7364 195.5,-71.887 195.5,-63.5153\"/>\n<polygon fill=\"#000000\" stroke=\"#000000\" points=\"199.0001,-63.2484 195.5,-53.2485 192.0001,-63.2485 199.0001,-63.2484\"/>\n</g>\n<!-- 133 -->\n<g id=\"node12\" class=\"node\">\n<title>133</title>\n<polygon fill=\"#fefaf7\" stroke=\"#000000\" points=\"383,-53 270,-53 270,0 383,0 383,-53\"/>\n<text text-anchor=\"middle\" x=\"326.5\" y=\"-37.8\" font-family=\"Helvetica,sans-Serif\" font-size=\"14.00\" fill=\"#000000\">mse = 300.247</text>\n<text text-anchor=\"middle\" x=\"326.5\" y=\"-22.8\" font-family=\"Helvetica,sans-Serif\" font-size=\"14.00\" fill=\"#000000\">samples = 30</text>\n<text text-anchor=\"middle\" x=\"326.5\" y=\"-7.8\" font-family=\"Helvetica,sans-Serif\" font-size=\"14.00\" fill=\"#000000\">value = 12.482</text>\n</g>\n<!-- 74&#45;&gt;133 -->\n<g id=\"edge11\" class=\"edge\">\n<title>74&#45;&gt;133</title>\n<path fill=\"none\" stroke=\"#000000\" d=\"M370.5257,-88.9777C364.2667,-80.0954 357.5099,-70.5067 351.2133,-61.5711\"/>\n<polygon fill=\"#000000\" stroke=\"#000000\" points=\"353.9699,-59.4068 345.3487,-53.2485 348.2479,-63.4389 353.9699,-59.4068\"/>\n</g>\n<!-- 134 -->\n<g id=\"node13\" class=\"node\">\n<title>134</title>\n<polygon fill=\"#fdf3ed\" stroke=\"#000000\" points=\"514,-53 401,-53 401,0 514,0 514,-53\"/>\n<text text-anchor=\"middle\" x=\"457.5\" y=\"-37.8\" font-family=\"Helvetica,sans-Serif\" font-size=\"14.00\" fill=\"#000000\">mse = 865.554</text>\n<text text-anchor=\"middle\" x=\"457.5\" y=\"-22.8\" font-family=\"Helvetica,sans-Serif\" font-size=\"14.00\" fill=\"#000000\">samples = 184</text>\n<text text-anchor=\"middle\" x=\"457.5\" y=\"-7.8\" font-family=\"Helvetica,sans-Serif\" font-size=\"14.00\" fill=\"#000000\">value = 22.607</text>\n</g>\n<!-- 74&#45;&gt;134 -->\n<g id=\"edge12\" class=\"edge\">\n<title>74&#45;&gt;134</title>\n<path fill=\"none\" stroke=\"#000000\" d=\"M416.7114,-88.9777C422.4504,-80.187 428.6412,-70.7044 434.4233,-61.8477\"/>\n<polygon fill=\"#000000\" stroke=\"#000000\" points=\"437.5013,-63.5354 440.0373,-53.2485 431.6398,-59.7087 437.5013,-63.5354\"/>\n</g>\n<!-- 69 -->\n<g id=\"node15\" class=\"node\">\n<title>69</title>\n<polygon fill=\"#efb286\" stroke=\"#000000\" points=\"753.5,-157 631.5,-157 631.5,-89 753.5,-89 753.5,-157\"/>\n<text text-anchor=\"middle\" x=\"692.5\" y=\"-141.8\" font-family=\"Helvetica,sans-Serif\" font-size=\"14.00\" fill=\"#000000\">year &lt;= 2012.0</text>\n<text text-anchor=\"middle\" x=\"692.5\" y=\"-126.8\" font-family=\"Helvetica,sans-Serif\" font-size=\"14.00\" fill=\"#000000\">mse = 3230.889</text>\n<text text-anchor=\"middle\" x=\"692.5\" y=\"-111.8\" font-family=\"Helvetica,sans-Serif\" font-size=\"14.00\" fill=\"#000000\">samples = 3</text>\n<text text-anchor=\"middle\" x=\"692.5\" y=\"-96.8\" font-family=\"Helvetica,sans-Serif\" font-size=\"14.00\" fill=\"#000000\">value = 122.333</text>\n</g>\n<!-- 68&#45;&gt;69 -->\n<g id=\"edge14\" class=\"edge\">\n<title>68&#45;&gt;69</title>\n<path fill=\"none\" stroke=\"#000000\" d=\"M739.5794,-192.9465C733.7174,-184.2373 727.3402,-174.7626 721.227,-165.6801\"/>\n<polygon fill=\"#000000\" stroke=\"#000000\" points=\"723.9595,-163.4716 715.4721,-157.13 718.1524,-167.3802 723.9595,-163.4716\"/>\n</g>\n<!-- 70 -->\n<g id=\"node18\" class=\"node\">\n<title>70</title>\n<polygon fill=\"#fbeade\" stroke=\"#000000\" points=\"893.5,-157 771.5,-157 771.5,-89 893.5,-89 893.5,-157\"/>\n<text text-anchor=\"middle\" x=\"832.5\" y=\"-141.8\" font-family=\"Helvetica,sans-Serif\" font-size=\"14.00\" fill=\"#000000\">Hour &lt;= 21.5</text>\n<text text-anchor=\"middle\" x=\"832.5\" y=\"-126.8\" font-family=\"Helvetica,sans-Serif\" font-size=\"14.00\" fill=\"#000000\">mse = 1041.709</text>\n<text text-anchor=\"middle\" x=\"832.5\" y=\"-111.8\" font-family=\"Helvetica,sans-Serif\" font-size=\"14.00\" fill=\"#000000\">samples = 25</text>\n<text text-anchor=\"middle\" x=\"832.5\" y=\"-96.8\" font-family=\"Helvetica,sans-Serif\" font-size=\"14.00\" fill=\"#000000\">value = 36.863</text>\n</g>\n<!-- 68&#45;&gt;70 -->\n<g id=\"edge17\" class=\"edge\">\n<title>68&#45;&gt;70</title>\n<path fill=\"none\" stroke=\"#000000\" d=\"M785.4206,-192.9465C791.2826,-184.2373 797.6598,-174.7626 803.773,-165.6801\"/>\n<polygon fill=\"#000000\" stroke=\"#000000\" points=\"806.8476,-167.3802 809.5279,-157.13 801.0405,-163.4716 806.8476,-167.3802\"/>\n</g>\n<!-- 71 -->\n<g id=\"node16\" class=\"node\">\n<title>71</title>\n<polygon fill=\"#fae5d6\" stroke=\"#000000\" points=\"628.5,-53 532.5,-53 532.5,0 628.5,0 628.5,-53\"/>\n<text text-anchor=\"middle\" x=\"580.5\" y=\"-37.8\" font-family=\"Helvetica,sans-Serif\" font-size=\"14.00\" fill=\"#000000\">mse = 0.0</text>\n<text text-anchor=\"middle\" x=\"580.5\" y=\"-22.8\" font-family=\"Helvetica,sans-Serif\" font-size=\"14.00\" fill=\"#000000\">samples = 1</text>\n<text text-anchor=\"middle\" x=\"580.5\" y=\"-7.8\" font-family=\"Helvetica,sans-Serif\" font-size=\"14.00\" fill=\"#000000\">value = 45.0</text>\n</g>\n<!-- 69&#45;&gt;71 -->\n<g id=\"edge15\" class=\"edge\">\n<title>69&#45;&gt;71</title>\n<path fill=\"none\" stroke=\"#000000\" d=\"M653.013,-88.9777C642.0664,-79.546 630.1953,-69.3178 619.2889,-59.9208\"/>\n<polygon fill=\"#000000\" stroke=\"#000000\" points=\"621.4053,-57.1244 611.5449,-53.2485 616.8361,-62.4274 621.4053,-57.1244\"/>\n</g>\n<!-- 72 -->\n<g id=\"node17\" class=\"node\">\n<title>72</title>\n<polygon fill=\"#ea985e\" stroke=\"#000000\" points=\"750.5,-53 646.5,-53 646.5,0 750.5,0 750.5,-53\"/>\n<text text-anchor=\"middle\" x=\"698.5\" y=\"-37.8\" font-family=\"Helvetica,sans-Serif\" font-size=\"14.00\" fill=\"#000000\">mse = 361.0</text>\n<text text-anchor=\"middle\" x=\"698.5\" y=\"-22.8\" font-family=\"Helvetica,sans-Serif\" font-size=\"14.00\" fill=\"#000000\">samples = 2</text>\n<text text-anchor=\"middle\" x=\"698.5\" y=\"-7.8\" font-family=\"Helvetica,sans-Serif\" font-size=\"14.00\" fill=\"#000000\">value = 161.0</text>\n</g>\n<!-- 69&#45;&gt;72 -->\n<g id=\"edge16\" class=\"edge\">\n<title>69&#45;&gt;72</title>\n<path fill=\"none\" stroke=\"#000000\" d=\"M694.6154,-88.9777C695.1335,-80.6449 695.6902,-71.6903 696.2159,-63.2364\"/>\n<polygon fill=\"#000000\" stroke=\"#000000\" points=\"699.7095,-63.4464 696.8369,-53.2485 692.723,-63.012 699.7095,-63.4464\"/>\n</g>\n<!-- 77 -->\n<g id=\"node19\" class=\"node\">\n<title>77</title>\n<polygon fill=\"#fbede3\" stroke=\"#000000\" points=\"882,-53 769,-53 769,0 882,0 882,-53\"/>\n<text text-anchor=\"middle\" x=\"825.5\" y=\"-37.8\" font-family=\"Helvetica,sans-Serif\" font-size=\"14.00\" fill=\"#000000\">mse = 689.296</text>\n<text text-anchor=\"middle\" x=\"825.5\" y=\"-22.8\" font-family=\"Helvetica,sans-Serif\" font-size=\"14.00\" fill=\"#000000\">samples = 23</text>\n<text text-anchor=\"middle\" x=\"825.5\" y=\"-7.8\" font-family=\"Helvetica,sans-Serif\" font-size=\"14.00\" fill=\"#000000\">value = 32.065</text>\n</g>\n<!-- 70&#45;&gt;77 -->\n<g id=\"edge18\" class=\"edge\">\n<title>70&#45;&gt;77</title>\n<path fill=\"none\" stroke=\"#000000\" d=\"M830.0321,-88.9777C829.4276,-80.6449 828.778,-71.6903 828.1648,-63.2364\"/>\n<polygon fill=\"#000000\" stroke=\"#000000\" points=\"831.6547,-62.969 827.4403,-53.2485 824.6731,-63.4755 831.6547,-62.969\"/>\n</g>\n<!-- 78 -->\n<g id=\"node20\" class=\"node\">\n<title>78</title>\n<polygon fill=\"#f3c6a5\" stroke=\"#000000\" points=\"1013,-53 900,-53 900,0 1013,0 1013,-53\"/>\n<text text-anchor=\"middle\" x=\"956.5\" y=\"-37.8\" font-family=\"Helvetica,sans-Serif\" font-size=\"14.00\" fill=\"#000000\">mse = 1784.64</text>\n<text text-anchor=\"middle\" x=\"956.5\" y=\"-22.8\" font-family=\"Helvetica,sans-Serif\" font-size=\"14.00\" fill=\"#000000\">samples = 2</text>\n<text text-anchor=\"middle\" x=\"956.5\" y=\"-7.8\" font-family=\"Helvetica,sans-Serif\" font-size=\"14.00\" fill=\"#000000\">value = 92.045</text>\n</g>\n<!-- 70&#45;&gt;78 -->\n<g id=\"edge19\" class=\"edge\">\n<title>70&#45;&gt;78</title>\n<path fill=\"none\" stroke=\"#000000\" d=\"M876.2178,-88.9777C888.4549,-79.4545 901.7355,-69.1191 913.9066,-59.6473\"/>\n<polygon fill=\"#000000\" stroke=\"#000000\" points=\"916.3866,-62.1523 922.1289,-53.2485 912.0875,-56.628 916.3866,-62.1523\"/>\n</g>\n<!-- 107 -->\n<g id=\"node22\" class=\"node\">\n<title>107</title>\n<polygon fill=\"#fef8f4\" stroke=\"#000000\" points=\"1336.5,-261 1222.5,-261 1222.5,-193 1336.5,-193 1336.5,-261\"/>\n<text text-anchor=\"middle\" x=\"1279.5\" y=\"-245.8\" font-family=\"Helvetica,sans-Serif\" font-size=\"14.00\" fill=\"#000000\">year &lt;= 2011.5</text>\n<text text-anchor=\"middle\" x=\"1279.5\" y=\"-230.8\" font-family=\"Helvetica,sans-Serif\" font-size=\"14.00\" fill=\"#000000\">mse = 451.935</text>\n<text text-anchor=\"middle\" x=\"1279.5\" y=\"-215.8\" font-family=\"Helvetica,sans-Serif\" font-size=\"14.00\" fill=\"#000000\">samples = 109</text>\n<text text-anchor=\"middle\" x=\"1279.5\" y=\"-200.8\" font-family=\"Helvetica,sans-Serif\" font-size=\"14.00\" fill=\"#000000\">value = 15.241</text>\n</g>\n<!-- 66&#45;&gt;107 -->\n<g id=\"edge21\" class=\"edge\">\n<title>66&#45;&gt;107</title>\n<path fill=\"none\" stroke=\"#000000\" d=\"M1321.1989,-296.9465C1316.0604,-288.3271 1310.4749,-278.9579 1305.1114,-269.9611\"/>\n<polygon fill=\"#000000\" stroke=\"#000000\" points=\"1307.9737,-267.9272 1299.8467,-261.13 1301.9611,-271.5117 1307.9737,-267.9272\"/>\n</g>\n<!-- 108 -->\n<g id=\"node29\" class=\"node\">\n<title>108</title>\n<polygon fill=\"#f5d1b7\" stroke=\"#000000\" points=\"1450.5,-253.5 1354.5,-253.5 1354.5,-200.5 1450.5,-200.5 1450.5,-253.5\"/>\n<text text-anchor=\"middle\" x=\"1402.5\" y=\"-238.3\" font-family=\"Helvetica,sans-Serif\" font-size=\"14.00\" fill=\"#000000\">mse = 0.0</text>\n<text text-anchor=\"middle\" x=\"1402.5\" y=\"-223.3\" font-family=\"Helvetica,sans-Serif\" font-size=\"14.00\" fill=\"#000000\">samples = 1</text>\n<text text-anchor=\"middle\" x=\"1402.5\" y=\"-208.3\" font-family=\"Helvetica,sans-Serif\" font-size=\"14.00\" fill=\"#000000\">value = 75.0</text>\n</g>\n<!-- 66&#45;&gt;108 -->\n<g id=\"edge28\" class=\"edge\">\n<title>66&#45;&gt;108</title>\n<path fill=\"none\" stroke=\"#000000\" d=\"M1361.4737,-296.9465C1367.999,-285.8215 1375.2569,-273.4473 1381.8322,-262.237\"/>\n<polygon fill=\"#000000\" stroke=\"#000000\" points=\"1384.8916,-263.9387 1386.932,-253.5422 1378.8536,-260.3971 1384.8916,-263.9387\"/>\n</g>\n<!-- 109 -->\n<g id=\"node23\" class=\"node\">\n<title>109</title>\n<polygon fill=\"#fdf5ef\" stroke=\"#000000\" points=\"1271,-157 1158,-157 1158,-89 1271,-89 1271,-157\"/>\n<text text-anchor=\"middle\" x=\"1214.5\" y=\"-141.8\" font-family=\"Helvetica,sans-Serif\" font-size=\"14.00\" fill=\"#000000\">Date &lt;= 15.5</text>\n<text text-anchor=\"middle\" x=\"1214.5\" y=\"-126.8\" font-family=\"Helvetica,sans-Serif\" font-size=\"14.00\" fill=\"#000000\">mse = 601.448</text>\n<text text-anchor=\"middle\" x=\"1214.5\" y=\"-111.8\" font-family=\"Helvetica,sans-Serif\" font-size=\"14.00\" fill=\"#000000\">samples = 61</text>\n<text text-anchor=\"middle\" x=\"1214.5\" y=\"-96.8\" font-family=\"Helvetica,sans-Serif\" font-size=\"14.00\" fill=\"#000000\">value = 20.771</text>\n</g>\n<!-- 107&#45;&gt;109 -->\n<g id=\"edge22\" class=\"edge\">\n<title>107&#45;&gt;109</title>\n<path fill=\"none\" stroke=\"#000000\" d=\"M1258.2166,-192.9465C1252.7733,-184.2373 1246.8516,-174.7626 1241.175,-165.6801\"/>\n<polygon fill=\"#000000\" stroke=\"#000000\" points=\"1244.0993,-163.755 1235.8312,-157.13 1238.1633,-167.465 1244.0993,-163.755\"/>\n</g>\n<!-- 110 -->\n<g id=\"node26\" class=\"node\">\n<title>110</title>\n<polygon fill=\"#fffdfc\" stroke=\"#000000\" points=\"1402,-157 1289,-157 1289,-89 1402,-89 1402,-157\"/>\n<text text-anchor=\"middle\" x=\"1345.5\" y=\"-141.8\" font-family=\"Helvetica,sans-Serif\" font-size=\"14.00\" fill=\"#000000\">Date &lt;= 2.5</text>\n<text text-anchor=\"middle\" x=\"1345.5\" y=\"-126.8\" font-family=\"Helvetica,sans-Serif\" font-size=\"14.00\" fill=\"#000000\">mse = 173.662</text>\n<text text-anchor=\"middle\" x=\"1345.5\" y=\"-111.8\" font-family=\"Helvetica,sans-Serif\" font-size=\"14.00\" fill=\"#000000\">samples = 48</text>\n<text text-anchor=\"middle\" x=\"1345.5\" y=\"-96.8\" font-family=\"Helvetica,sans-Serif\" font-size=\"14.00\" fill=\"#000000\">value = 8.212</text>\n</g>\n<!-- 107&#45;&gt;110 -->\n<g id=\"edge25\" class=\"edge\">\n<title>107&#45;&gt;110</title>\n<path fill=\"none\" stroke=\"#000000\" d=\"M1301.1109,-192.9465C1306.6378,-184.2373 1312.6506,-174.7626 1318.4146,-165.6801\"/>\n<polygon fill=\"#000000\" stroke=\"#000000\" points=\"1321.4374,-167.4487 1323.8406,-157.13 1315.5271,-163.6979 1321.4374,-167.4487\"/>\n</g>\n<!-- 111 -->\n<g id=\"node24\" class=\"node\">\n<title>111</title>\n<polygon fill=\"#fefaf7\" stroke=\"#000000\" points=\"1144,-53 1031,-53 1031,0 1144,0 1144,-53\"/>\n<text text-anchor=\"middle\" x=\"1087.5\" y=\"-37.8\" font-family=\"Helvetica,sans-Serif\" font-size=\"14.00\" fill=\"#000000\">mse = 293.709</text>\n<text text-anchor=\"middle\" x=\"1087.5\" y=\"-22.8\" font-family=\"Helvetica,sans-Serif\" font-size=\"14.00\" fill=\"#000000\">samples = 31</text>\n<text text-anchor=\"middle\" x=\"1087.5\" y=\"-7.8\" font-family=\"Helvetica,sans-Serif\" font-size=\"14.00\" fill=\"#000000\">value = 12.918</text>\n</g>\n<!-- 109&#45;&gt;111 -->\n<g id=\"edge23\" class=\"edge\">\n<title>109&#45;&gt;111</title>\n<path fill=\"none\" stroke=\"#000000\" d=\"M1169.7246,-88.9777C1157.0708,-79.3629 1143.3277,-68.9203 1130.7647,-59.3743\"/>\n<polygon fill=\"#000000\" stroke=\"#000000\" points=\"1132.7824,-56.5118 1122.7027,-53.2485 1128.5474,-62.0853 1132.7824,-56.5118\"/>\n</g>\n<!-- 112 -->\n<g id=\"node25\" class=\"node\">\n<title>112</title>\n<polygon fill=\"#fcefe6\" stroke=\"#000000\" points=\"1275,-53 1162,-53 1162,0 1275,0 1275,-53\"/>\n<text text-anchor=\"middle\" x=\"1218.5\" y=\"-37.8\" font-family=\"Helvetica,sans-Serif\" font-size=\"14.00\" fill=\"#000000\">mse = 789.872</text>\n<text text-anchor=\"middle\" x=\"1218.5\" y=\"-22.8\" font-family=\"Helvetica,sans-Serif\" font-size=\"14.00\" fill=\"#000000\">samples = 30</text>\n<text text-anchor=\"middle\" x=\"1218.5\" y=\"-7.8\" font-family=\"Helvetica,sans-Serif\" font-size=\"14.00\" fill=\"#000000\">value = 28.886</text>\n</g>\n<!-- 109&#45;&gt;112 -->\n<g id=\"edge24\" class=\"edge\">\n<title>109&#45;&gt;112</title>\n<path fill=\"none\" stroke=\"#000000\" d=\"M1215.9103,-88.9777C1216.2519,-80.7364 1216.6187,-71.887 1216.9657,-63.5153\"/>\n<polygon fill=\"#000000\" stroke=\"#000000\" points=\"1220.474,-63.3849 1217.3913,-53.2485 1213.48,-63.0949 1220.474,-63.3849\"/>\n</g>\n<!-- 177 -->\n<g id=\"node27\" class=\"node\">\n<title>177</title>\n<polygon fill=\"#f9e2d1\" stroke=\"#000000\" points=\"1389.5,-53 1293.5,-53 1293.5,0 1389.5,0 1389.5,-53\"/>\n<text text-anchor=\"middle\" x=\"1341.5\" y=\"-37.8\" font-family=\"Helvetica,sans-Serif\" font-size=\"14.00\" fill=\"#000000\">mse = 0.0</text>\n<text text-anchor=\"middle\" x=\"1341.5\" y=\"-22.8\" font-family=\"Helvetica,sans-Serif\" font-size=\"14.00\" fill=\"#000000\">samples = 1</text>\n<text text-anchor=\"middle\" x=\"1341.5\" y=\"-7.8\" font-family=\"Helvetica,sans-Serif\" font-size=\"14.00\" fill=\"#000000\">value = 49.5</text>\n</g>\n<!-- 110&#45;&gt;177 -->\n<g id=\"edge26\" class=\"edge\">\n<title>110&#45;&gt;177</title>\n<path fill=\"none\" stroke=\"#000000\" d=\"M1344.0897,-88.9777C1343.7481,-80.7364 1343.3813,-71.887 1343.0343,-63.5153\"/>\n<polygon fill=\"#000000\" stroke=\"#000000\" points=\"1346.52,-63.0949 1342.6087,-53.2485 1339.526,-63.3849 1346.52,-63.0949\"/>\n</g>\n<!-- 178 -->\n<g id=\"node28\" class=\"node\">\n<title>178</title>\n<polygon fill=\"#fffefd\" stroke=\"#000000\" points=\"1521,-53 1408,-53 1408,0 1521,0 1521,-53\"/>\n<text text-anchor=\"middle\" x=\"1464.5\" y=\"-37.8\" font-family=\"Helvetica,sans-Serif\" font-size=\"14.00\" fill=\"#000000\">mse = 140.316</text>\n<text text-anchor=\"middle\" x=\"1464.5\" y=\"-22.8\" font-family=\"Helvetica,sans-Serif\" font-size=\"14.00\" fill=\"#000000\">samples = 47</text>\n<text text-anchor=\"middle\" x=\"1464.5\" y=\"-7.8\" font-family=\"Helvetica,sans-Serif\" font-size=\"14.00\" fill=\"#000000\">value = 7.334</text>\n</g>\n<!-- 110&#45;&gt;178 -->\n<g id=\"edge27\" class=\"edge\">\n<title>110&#45;&gt;178</title>\n<path fill=\"none\" stroke=\"#000000\" d=\"M1387.4549,-88.9777C1399.1986,-79.4545 1411.9438,-69.1191 1423.624,-59.6473\"/>\n<polygon fill=\"#000000\" stroke=\"#000000\" points=\"1425.9522,-62.2656 1431.5148,-53.2485 1421.5432,-56.8286 1425.9522,-62.2656\"/>\n</g>\n<!-- 27 -->\n<g id=\"node31\" class=\"node\">\n<title>27</title>\n<polygon fill=\"#ffffff\" stroke=\"#000000\" points=\"2023.5,-365 1895.5,-365 1895.5,-297 2023.5,-297 2023.5,-365\"/>\n<text text-anchor=\"middle\" x=\"1959.5\" y=\"-349.8\" font-family=\"Helvetica,sans-Serif\" font-size=\"14.00\" fill=\"#000000\">distance &lt;= 0.17</text>\n<text text-anchor=\"middle\" x=\"1959.5\" y=\"-334.8\" font-family=\"Helvetica,sans-Serif\" font-size=\"14.00\" fill=\"#000000\">mse = 15.665</text>\n<text text-anchor=\"middle\" x=\"1959.5\" y=\"-319.8\" font-family=\"Helvetica,sans-Serif\" font-size=\"14.00\" fill=\"#000000\">samples = 32338</text>\n<text text-anchor=\"middle\" x=\"1959.5\" y=\"-304.8\" font-family=\"Helvetica,sans-Serif\" font-size=\"14.00\" fill=\"#000000\">value = 5.566</text>\n</g>\n<!-- 16&#45;&gt;27 -->\n<g id=\"edge30\" class=\"edge\">\n<title>16&#45;&gt;27</title>\n<path fill=\"none\" stroke=\"#000000\" d=\"M2050.9685,-400.9465C2038.6403,-391.519 2025.1391,-381.1946 2012.385,-371.4415\"/>\n<polygon fill=\"#000000\" stroke=\"#000000\" points=\"2014.2012,-368.4243 2004.1315,-365.13 2009.949,-373.9848 2014.2012,-368.4243\"/>\n</g>\n<!-- 28 -->\n<g id=\"node42\" class=\"node\">\n<title>28</title>\n<polygon fill=\"#fffefd\" stroke=\"#000000\" points=\"2233.5,-365 2105.5,-365 2105.5,-297 2233.5,-297 2233.5,-365\"/>\n<text text-anchor=\"middle\" x=\"2169.5\" y=\"-349.8\" font-family=\"Helvetica,sans-Serif\" font-size=\"14.00\" fill=\"#000000\">year &lt;= 2012.5</text>\n<text text-anchor=\"middle\" x=\"2169.5\" y=\"-334.8\" font-family=\"Helvetica,sans-Serif\" font-size=\"14.00\" fill=\"#000000\">mse = 4.836</text>\n<text text-anchor=\"middle\" x=\"2169.5\" y=\"-319.8\" font-family=\"Helvetica,sans-Serif\" font-size=\"14.00\" fill=\"#000000\">samples = 27138</text>\n<text text-anchor=\"middle\" x=\"2169.5\" y=\"-304.8\" font-family=\"Helvetica,sans-Serif\" font-size=\"14.00\" fill=\"#000000\">value = 6.951</text>\n</g>\n<!-- 16&#45;&gt;28 -->\n<g id=\"edge41\" class=\"edge\">\n<title>16&#45;&gt;28</title>\n<path fill=\"none\" stroke=\"#000000\" d=\"M2119.7304,-400.9465C2125.9912,-392.1475 2132.808,-382.5672 2139.3313,-373.3993\"/>\n<polygon fill=\"#000000\" stroke=\"#000000\" points=\"2142.2694,-375.3071 2145.2152,-365.13 2136.5658,-371.2488 2142.2694,-375.3071\"/>\n</g>\n<!-- 37 -->\n<g id=\"node32\" class=\"node\">\n<title>37</title>\n<polygon fill=\"#fefcfa\" stroke=\"#000000\" points=\"1780.5,-261 1656.5,-261 1656.5,-193 1780.5,-193 1780.5,-261\"/>\n<text text-anchor=\"middle\" x=\"1718.5\" y=\"-245.8\" font-family=\"Helvetica,sans-Serif\" font-size=\"14.00\" fill=\"#000000\">distance &lt;= 0.17</text>\n<text text-anchor=\"middle\" x=\"1718.5\" y=\"-230.8\" font-family=\"Helvetica,sans-Serif\" font-size=\"14.00\" fill=\"#000000\">mse = 216.394</text>\n<text text-anchor=\"middle\" x=\"1718.5\" y=\"-215.8\" font-family=\"Helvetica,sans-Serif\" font-size=\"14.00\" fill=\"#000000\">samples = 876</text>\n<text text-anchor=\"middle\" x=\"1718.5\" y=\"-200.8\" font-family=\"Helvetica,sans-Serif\" font-size=\"14.00\" fill=\"#000000\">value = 9.681</text>\n</g>\n<!-- 27&#45;&gt;37 -->\n<g id=\"edge31\" class=\"edge\">\n<title>27&#45;&gt;37</title>\n<path fill=\"none\" stroke=\"#000000\" d=\"M1895.233,-303.2665C1862.7318,-289.2411 1823.1949,-272.1795 1789.7642,-257.753\"/>\n<polygon fill=\"#000000\" stroke=\"#000000\" points=\"1791.0762,-254.5072 1780.5078,-253.7586 1788.3026,-260.9343 1791.0762,-254.5072\"/>\n</g>\n<!-- 38 -->\n<g id=\"node37\" class=\"node\">\n<title>38</title>\n<polygon fill=\"#ffffff\" stroke=\"#000000\" points=\"2025.5,-261 1893.5,-261 1893.5,-193 2025.5,-193 2025.5,-261\"/>\n<text text-anchor=\"middle\" x=\"1959.5\" y=\"-245.8\" font-family=\"Helvetica,sans-Serif\" font-size=\"14.00\" fill=\"#000000\">distance &lt;= 0.643</text>\n<text text-anchor=\"middle\" x=\"1959.5\" y=\"-230.8\" font-family=\"Helvetica,sans-Serif\" font-size=\"14.00\" fill=\"#000000\">mse = 9.591</text>\n<text text-anchor=\"middle\" x=\"1959.5\" y=\"-215.8\" font-family=\"Helvetica,sans-Serif\" font-size=\"14.00\" fill=\"#000000\">samples = 31462</text>\n<text text-anchor=\"middle\" x=\"1959.5\" y=\"-200.8\" font-family=\"Helvetica,sans-Serif\" font-size=\"14.00\" fill=\"#000000\">value = 5.452</text>\n</g>\n<!-- 27&#45;&gt;38 -->\n<g id=\"edge36\" class=\"edge\">\n<title>27&#45;&gt;38</title>\n<path fill=\"none\" stroke=\"#000000\" d=\"M1959.5,-296.9465C1959.5,-288.776 1959.5,-279.9318 1959.5,-271.3697\"/>\n<polygon fill=\"#000000\" stroke=\"#000000\" points=\"1963.0001,-271.13 1959.5,-261.13 1956.0001,-271.13 1963.0001,-271.13\"/>\n</g>\n<!-- 103 -->\n<g id=\"node33\" class=\"node\">\n<title>103</title>\n<polygon fill=\"#fefcfa\" stroke=\"#000000\" points=\"1651.5,-157 1539.5,-157 1539.5,-89 1651.5,-89 1651.5,-157\"/>\n<text text-anchor=\"middle\" x=\"1595.5\" y=\"-141.8\" font-family=\"Helvetica,sans-Serif\" font-size=\"14.00\" fill=\"#000000\">Date &lt;= 18.5</text>\n<text text-anchor=\"middle\" x=\"1595.5\" y=\"-126.8\" font-family=\"Helvetica,sans-Serif\" font-size=\"14.00\" fill=\"#000000\">mse = 211.95</text>\n<text text-anchor=\"middle\" x=\"1595.5\" y=\"-111.8\" font-family=\"Helvetica,sans-Serif\" font-size=\"14.00\" fill=\"#000000\">samples = 874</text>\n<text text-anchor=\"middle\" x=\"1595.5\" y=\"-96.8\" font-family=\"Helvetica,sans-Serif\" font-size=\"14.00\" fill=\"#000000\">value = 9.578</text>\n</g>\n<!-- 37&#45;&gt;103 -->\n<g id=\"edge32\" class=\"edge\">\n<title>37&#45;&gt;103</title>\n<path fill=\"none\" stroke=\"#000000\" d=\"M1678.2252,-192.9465C1667.1816,-183.6088 1655.0972,-173.3911 1643.6596,-163.7203\"/>\n<polygon fill=\"#000000\" stroke=\"#000000\" points=\"1645.7614,-160.914 1635.8653,-157.13 1641.2417,-166.2594 1645.7614,-160.914\"/>\n</g>\n<!-- 104 -->\n<g id=\"node36\" class=\"node\">\n<title>104</title>\n<polygon fill=\"#f8decb\" stroke=\"#000000\" points=\"1767,-149.5 1670,-149.5 1670,-96.5 1767,-96.5 1767,-149.5\"/>\n<text text-anchor=\"middle\" x=\"1718.5\" y=\"-134.3\" font-family=\"Helvetica,sans-Serif\" font-size=\"14.00\" fill=\"#000000\">mse = 100.0</text>\n<text text-anchor=\"middle\" x=\"1718.5\" y=\"-119.3\" font-family=\"Helvetica,sans-Serif\" font-size=\"14.00\" fill=\"#000000\">samples = 2</text>\n<text text-anchor=\"middle\" x=\"1718.5\" y=\"-104.3\" font-family=\"Helvetica,sans-Serif\" font-size=\"14.00\" fill=\"#000000\">value = 55.0</text>\n</g>\n<!-- 37&#45;&gt;104 -->\n<g id=\"edge35\" class=\"edge\">\n<title>37&#45;&gt;104</title>\n<path fill=\"none\" stroke=\"#000000\" d=\"M1718.5,-192.9465C1718.5,-182.2621 1718.5,-170.4254 1718.5,-159.5742\"/>\n<polygon fill=\"#000000\" stroke=\"#000000\" points=\"1722.0001,-159.5421 1718.5,-149.5422 1715.0001,-159.5422 1722.0001,-159.5421\"/>\n</g>\n<!-- 183 -->\n<g id=\"node34\" class=\"node\">\n<title>183</title>\n<polygon fill=\"#fffdfc\" stroke=\"#000000\" points=\"1652,-53 1539,-53 1539,0 1652,0 1652,-53\"/>\n<text text-anchor=\"middle\" x=\"1595.5\" y=\"-37.8\" font-family=\"Helvetica,sans-Serif\" font-size=\"14.00\" fill=\"#000000\">mse = 148.727</text>\n<text text-anchor=\"middle\" x=\"1595.5\" y=\"-22.8\" font-family=\"Helvetica,sans-Serif\" font-size=\"14.00\" fill=\"#000000\">samples = 529</text>\n<text text-anchor=\"middle\" x=\"1595.5\" y=\"-7.8\" font-family=\"Helvetica,sans-Serif\" font-size=\"14.00\" fill=\"#000000\">value = 8.469</text>\n</g>\n<!-- 103&#45;&gt;183 -->\n<g id=\"edge33\" class=\"edge\">\n<title>103&#45;&gt;183</title>\n<path fill=\"none\" stroke=\"#000000\" d=\"M1595.5,-88.9777C1595.5,-80.7364 1595.5,-71.887 1595.5,-63.5153\"/>\n<polygon fill=\"#000000\" stroke=\"#000000\" points=\"1599.0001,-63.2484 1595.5,-53.2485 1592.0001,-63.2485 1599.0001,-63.2484\"/>\n</g>\n<!-- 184 -->\n<g id=\"node35\" class=\"node\">\n<title>184</title>\n<polygon fill=\"#fefbf9\" stroke=\"#000000\" points=\"1783,-53 1670,-53 1670,0 1783,0 1783,-53\"/>\n<text text-anchor=\"middle\" x=\"1726.5\" y=\"-37.8\" font-family=\"Helvetica,sans-Serif\" font-size=\"14.00\" fill=\"#000000\">mse = 304.116</text>\n<text text-anchor=\"middle\" x=\"1726.5\" y=\"-22.8\" font-family=\"Helvetica,sans-Serif\" font-size=\"14.00\" fill=\"#000000\">samples = 345</text>\n<text text-anchor=\"middle\" x=\"1726.5\" y=\"-7.8\" font-family=\"Helvetica,sans-Serif\" font-size=\"14.00\" fill=\"#000000\">value = 11.278</text>\n</g>\n<!-- 103&#45;&gt;184 -->\n<g id=\"edge34\" class=\"edge\">\n<title>103&#45;&gt;184</title>\n<path fill=\"none\" stroke=\"#000000\" d=\"M1641.6857,-88.9777C1654.7379,-79.3629 1668.9139,-68.9203 1681.8727,-59.3743\"/>\n<polygon fill=\"#000000\" stroke=\"#000000\" points=\"1684.2131,-61.9974 1690.1886,-53.2485 1680.0614,-56.3615 1684.2131,-61.9974\"/>\n</g>\n<!-- 91 -->\n<g id=\"node38\" class=\"node\">\n<title>91</title>\n<polygon fill=\"#ffffff\" stroke=\"#000000\" points=\"1913.5,-149.5 1785.5,-149.5 1785.5,-96.5 1913.5,-96.5 1913.5,-149.5\"/>\n<text text-anchor=\"middle\" x=\"1849.5\" y=\"-134.3\" font-family=\"Helvetica,sans-Serif\" font-size=\"14.00\" fill=\"#000000\">mse = 12.961</text>\n<text text-anchor=\"middle\" x=\"1849.5\" y=\"-119.3\" font-family=\"Helvetica,sans-Serif\" font-size=\"14.00\" fill=\"#000000\">samples = 17068</text>\n<text text-anchor=\"middle\" x=\"1849.5\" y=\"-104.3\" font-family=\"Helvetica,sans-Serif\" font-size=\"14.00\" fill=\"#000000\">value = 5.092</text>\n</g>\n<!-- 38&#45;&gt;91 -->\n<g id=\"edge37\" class=\"edge\">\n<title>38&#45;&gt;91</title>\n<path fill=\"none\" stroke=\"#000000\" d=\"M1923.4819,-192.9465C1911.1325,-181.2707 1897.3278,-168.219 1885.0183,-156.5809\"/>\n<polygon fill=\"#000000\" stroke=\"#000000\" points=\"1887.2445,-153.869 1877.5734,-149.5422 1882.4354,-158.9556 1887.2445,-153.869\"/>\n</g>\n<!-- 92 -->\n<g id=\"node39\" class=\"node\">\n<title>92</title>\n<polygon fill=\"#fffefe\" stroke=\"#000000\" points=\"2059.5,-157 1931.5,-157 1931.5,-89 2059.5,-89 2059.5,-157\"/>\n<text text-anchor=\"middle\" x=\"1995.5\" y=\"-141.8\" font-family=\"Helvetica,sans-Serif\" font-size=\"14.00\" fill=\"#000000\">year &lt;= 2012.5</text>\n<text text-anchor=\"middle\" x=\"1995.5\" y=\"-126.8\" font-family=\"Helvetica,sans-Serif\" font-size=\"14.00\" fill=\"#000000\">mse = 5.26</text>\n<text text-anchor=\"middle\" x=\"1995.5\" y=\"-111.8\" font-family=\"Helvetica,sans-Serif\" font-size=\"14.00\" fill=\"#000000\">samples = 14394</text>\n<text text-anchor=\"middle\" x=\"1995.5\" y=\"-96.8\" font-family=\"Helvetica,sans-Serif\" font-size=\"14.00\" fill=\"#000000\">value = 5.878</text>\n</g>\n<!-- 38&#45;&gt;92 -->\n<g id=\"edge38\" class=\"edge\">\n<title>38&#45;&gt;92</title>\n<path fill=\"none\" stroke=\"#000000\" d=\"M1971.2877,-192.9465C1974.1781,-184.5965 1977.3121,-175.5427 1980.3365,-166.8056\"/>\n<polygon fill=\"#000000\" stroke=\"#000000\" points=\"1983.7221,-167.7248 1983.6858,-157.13 1977.1071,-165.435 1983.7221,-167.7248\"/>\n</g>\n<!-- 155 -->\n<g id=\"node40\" class=\"node\">\n<title>155</title>\n<polygon fill=\"#ffffff\" stroke=\"#000000\" points=\"1988.5,-53 1868.5,-53 1868.5,0 1988.5,0 1988.5,-53\"/>\n<text text-anchor=\"middle\" x=\"1928.5\" y=\"-37.8\" font-family=\"Helvetica,sans-Serif\" font-size=\"14.00\" fill=\"#000000\">mse = 4.988</text>\n<text text-anchor=\"middle\" x=\"1928.5\" y=\"-22.8\" font-family=\"Helvetica,sans-Serif\" font-size=\"14.00\" fill=\"#000000\">samples = 8936</text>\n<text text-anchor=\"middle\" x=\"1928.5\" y=\"-7.8\" font-family=\"Helvetica,sans-Serif\" font-size=\"14.00\" fill=\"#000000\">value = 5.574</text>\n</g>\n<!-- 92&#45;&gt;155 -->\n<g id=\"edge39\" class=\"edge\">\n<title>92&#45;&gt;155</title>\n<path fill=\"none\" stroke=\"#000000\" d=\"M1971.8783,-88.9777C1965.7113,-80.0954 1959.0539,-70.5067 1952.8499,-61.5711\"/>\n<polygon fill=\"#000000\" stroke=\"#000000\" points=\"1955.6497,-59.4666 1947.0715,-53.2485 1949.8997,-63.4589 1955.6497,-59.4666\"/>\n</g>\n<!-- 156 -->\n<g id=\"node41\" class=\"node\">\n<title>156</title>\n<polygon fill=\"#fffefe\" stroke=\"#000000\" points=\"2126.5,-53 2006.5,-53 2006.5,0 2126.5,0 2126.5,-53\"/>\n<text text-anchor=\"middle\" x=\"2066.5\" y=\"-37.8\" font-family=\"Helvetica,sans-Serif\" font-size=\"14.00\" fill=\"#000000\">mse = 5.307</text>\n<text text-anchor=\"middle\" x=\"2066.5\" y=\"-22.8\" font-family=\"Helvetica,sans-Serif\" font-size=\"14.00\" fill=\"#000000\">samples = 5458</text>\n<text text-anchor=\"middle\" x=\"2066.5\" y=\"-7.8\" font-family=\"Helvetica,sans-Serif\" font-size=\"14.00\" fill=\"#000000\">value = 6.374</text>\n</g>\n<!-- 92&#45;&gt;156 -->\n<g id=\"edge40\" class=\"edge\">\n<title>92&#45;&gt;156</title>\n<path fill=\"none\" stroke=\"#000000\" d=\"M2020.5319,-88.9777C2027.0671,-80.0954 2034.122,-70.5067 2040.6964,-61.5711\"/>\n<polygon fill=\"#000000\" stroke=\"#000000\" points=\"2043.7126,-63.3775 2046.8198,-53.2485 2038.0743,-59.229 2043.7126,-63.3775\"/>\n</g>\n<!-- 63 -->\n<g id=\"node43\" class=\"node\">\n<title>63</title>\n<polygon fill=\"#fffefd\" stroke=\"#000000\" points=\"2233.5,-261 2105.5,-261 2105.5,-193 2233.5,-193 2233.5,-261\"/>\n<text text-anchor=\"middle\" x=\"2169.5\" y=\"-245.8\" font-family=\"Helvetica,sans-Serif\" font-size=\"14.00\" fill=\"#000000\">distance &lt;= 0.91</text>\n<text text-anchor=\"middle\" x=\"2169.5\" y=\"-230.8\" font-family=\"Helvetica,sans-Serif\" font-size=\"14.00\" fill=\"#000000\">mse = 4.122</text>\n<text text-anchor=\"middle\" x=\"2169.5\" y=\"-215.8\" font-family=\"Helvetica,sans-Serif\" font-size=\"14.00\" fill=\"#000000\">samples = 16964</text>\n<text text-anchor=\"middle\" x=\"2169.5\" y=\"-200.8\" font-family=\"Helvetica,sans-Serif\" font-size=\"14.00\" fill=\"#000000\">value = 6.549</text>\n</g>\n<!-- 28&#45;&gt;63 -->\n<g id=\"edge42\" class=\"edge\">\n<title>28&#45;&gt;63</title>\n<path fill=\"none\" stroke=\"#000000\" d=\"M2169.5,-296.9465C2169.5,-288.776 2169.5,-279.9318 2169.5,-271.3697\"/>\n<polygon fill=\"#000000\" stroke=\"#000000\" points=\"2173.0001,-271.13 2169.5,-261.13 2166.0001,-271.13 2173.0001,-271.13\"/>\n</g>\n<!-- 64 -->\n<g id=\"node46\" class=\"node\">\n<title>64</title>\n<polygon fill=\"#fffdfc\" stroke=\"#000000\" points=\"2447.5,-261 2315.5,-261 2315.5,-193 2447.5,-193 2447.5,-261\"/>\n<text text-anchor=\"middle\" x=\"2381.5\" y=\"-245.8\" font-family=\"Helvetica,sans-Serif\" font-size=\"14.00\" fill=\"#000000\">distance &lt;= 0.906</text>\n<text text-anchor=\"middle\" x=\"2381.5\" y=\"-230.8\" font-family=\"Helvetica,sans-Serif\" font-size=\"14.00\" fill=\"#000000\">mse = 5.306</text>\n<text text-anchor=\"middle\" x=\"2381.5\" y=\"-215.8\" font-family=\"Helvetica,sans-Serif\" font-size=\"14.00\" fill=\"#000000\">samples = 10174</text>\n<text text-anchor=\"middle\" x=\"2381.5\" y=\"-200.8\" font-family=\"Helvetica,sans-Serif\" font-size=\"14.00\" fill=\"#000000\">value = 7.622</text>\n</g>\n<!-- 28&#45;&gt;64 -->\n<g id=\"edge45\" class=\"edge\">\n<title>28&#45;&gt;64</title>\n<path fill=\"none\" stroke=\"#000000\" d=\"M2233.6823,-299.5143C2256.5918,-288.2757 2282.605,-275.5145 2306.3545,-263.8638\"/>\n<polygon fill=\"#000000\" stroke=\"#000000\" points=\"2307.8983,-267.005 2315.3347,-259.4584 2304.8153,-260.7205 2307.8983,-267.005\"/>\n</g>\n<!-- 157 -->\n<g id=\"node44\" class=\"node\">\n<title>157</title>\n<polygon fill=\"#fffefe\" stroke=\"#000000\" points=\"2197.5,-149.5 2077.5,-149.5 2077.5,-96.5 2197.5,-96.5 2197.5,-149.5\"/>\n<text text-anchor=\"middle\" x=\"2137.5\" y=\"-134.3\" font-family=\"Helvetica,sans-Serif\" font-size=\"14.00\" fill=\"#000000\">mse = 3.608</text>\n<text text-anchor=\"middle\" x=\"2137.5\" y=\"-119.3\" font-family=\"Helvetica,sans-Serif\" font-size=\"14.00\" fill=\"#000000\">samples = 8222</text>\n<text text-anchor=\"middle\" x=\"2137.5\" y=\"-104.3\" font-family=\"Helvetica,sans-Serif\" font-size=\"14.00\" fill=\"#000000\">value = 6.182</text>\n</g>\n<!-- 63&#45;&gt;157 -->\n<g id=\"edge43\" class=\"edge\">\n<title>63&#45;&gt;157</title>\n<path fill=\"none\" stroke=\"#000000\" d=\"M2159.022,-192.9465C2155.7006,-182.1519 2152.0173,-170.1813 2148.6504,-159.2389\"/>\n<polygon fill=\"#000000\" stroke=\"#000000\" points=\"2151.953,-158.0706 2145.6668,-149.5422 2145.2625,-160.1293 2151.953,-158.0706\"/>\n</g>\n<!-- 158 -->\n<g id=\"node45\" class=\"node\">\n<title>158</title>\n<polygon fill=\"#fffefd\" stroke=\"#000000\" points=\"2335.5,-149.5 2215.5,-149.5 2215.5,-96.5 2335.5,-96.5 2335.5,-149.5\"/>\n<text text-anchor=\"middle\" x=\"2275.5\" y=\"-134.3\" font-family=\"Helvetica,sans-Serif\" font-size=\"14.00\" fill=\"#000000\">mse = 4.36</text>\n<text text-anchor=\"middle\" x=\"2275.5\" y=\"-119.3\" font-family=\"Helvetica,sans-Serif\" font-size=\"14.00\" fill=\"#000000\">samples = 8742</text>\n<text text-anchor=\"middle\" x=\"2275.5\" y=\"-104.3\" font-family=\"Helvetica,sans-Serif\" font-size=\"14.00\" fill=\"#000000\">value = 6.893</text>\n</g>\n<!-- 63&#45;&gt;158 -->\n<g id=\"edge44\" class=\"edge\">\n<title>63&#45;&gt;158</title>\n<path fill=\"none\" stroke=\"#000000\" d=\"M2204.2084,-192.9465C2216.1087,-181.2707 2229.4114,-168.219 2241.2733,-156.5809\"/>\n<polygon fill=\"#000000\" stroke=\"#000000\" points=\"2243.7605,-159.0439 2248.4474,-149.5422 2238.8581,-154.0473 2243.7605,-159.0439\"/>\n</g>\n<!-- 165 -->\n<g id=\"node47\" class=\"node\">\n<title>165</title>\n<polygon fill=\"#fffefd\" stroke=\"#000000\" points=\"2473.5,-149.5 2353.5,-149.5 2353.5,-96.5 2473.5,-96.5 2473.5,-149.5\"/>\n<text text-anchor=\"middle\" x=\"2413.5\" y=\"-134.3\" font-family=\"Helvetica,sans-Serif\" font-size=\"14.00\" fill=\"#000000\">mse = 4.812</text>\n<text text-anchor=\"middle\" x=\"2413.5\" y=\"-119.3\" font-family=\"Helvetica,sans-Serif\" font-size=\"14.00\" fill=\"#000000\">samples = 4730</text>\n<text text-anchor=\"middle\" x=\"2413.5\" y=\"-104.3\" font-family=\"Helvetica,sans-Serif\" font-size=\"14.00\" fill=\"#000000\">value = 7.151</text>\n</g>\n<!-- 64&#45;&gt;165 -->\n<g id=\"edge46\" class=\"edge\">\n<title>64&#45;&gt;165</title>\n<path fill=\"none\" stroke=\"#000000\" d=\"M2391.978,-192.9465C2395.2994,-182.1519 2398.9827,-170.1813 2402.3496,-159.2389\"/>\n<polygon fill=\"#000000\" stroke=\"#000000\" points=\"2405.7375,-160.1293 2405.3332,-149.5422 2399.047,-158.0706 2405.7375,-160.1293\"/>\n</g>\n<!-- 166 -->\n<g id=\"node48\" class=\"node\">\n<title>166</title>\n<polygon fill=\"#fffdfc\" stroke=\"#000000\" points=\"2611.5,-149.5 2491.5,-149.5 2491.5,-96.5 2611.5,-96.5 2611.5,-149.5\"/>\n<text text-anchor=\"middle\" x=\"2551.5\" y=\"-134.3\" font-family=\"Helvetica,sans-Serif\" font-size=\"14.00\" fill=\"#000000\">mse = 5.374</text>\n<text text-anchor=\"middle\" x=\"2551.5\" y=\"-119.3\" font-family=\"Helvetica,sans-Serif\" font-size=\"14.00\" fill=\"#000000\">samples = 5444</text>\n<text text-anchor=\"middle\" x=\"2551.5\" y=\"-104.3\" font-family=\"Helvetica,sans-Serif\" font-size=\"14.00\" fill=\"#000000\">value = 8.032</text>\n</g>\n<!-- 64&#45;&gt;166 -->\n<g id=\"edge47\" class=\"edge\">\n<title>64&#45;&gt;166</title>\n<path fill=\"none\" stroke=\"#000000\" d=\"M2437.1644,-192.9465C2457.2401,-180.6649 2479.8043,-166.8609 2499.5501,-154.7811\"/>\n<polygon fill=\"#000000\" stroke=\"#000000\" points=\"2501.4099,-157.7464 2508.1138,-149.5422 2497.7569,-151.7751 2501.4099,-157.7464\"/>\n</g>\n<!-- 31 -->\n<g id=\"node50\" class=\"node\">\n<title>31</title>\n<polygon fill=\"#fffdfb\" stroke=\"#000000\" points=\"2850.5,-469 2718.5,-469 2718.5,-401 2850.5,-401 2850.5,-469\"/>\n<text text-anchor=\"middle\" x=\"2784.5\" y=\"-453.8\" font-family=\"Helvetica,sans-Serif\" font-size=\"14.00\" fill=\"#000000\">distance &lt;= 1.257</text>\n<text text-anchor=\"middle\" x=\"2784.5\" y=\"-438.8\" font-family=\"Helvetica,sans-Serif\" font-size=\"14.00\" fill=\"#000000\">mse = 6.442</text>\n<text text-anchor=\"middle\" x=\"2784.5\" y=\"-423.8\" font-family=\"Helvetica,sans-Serif\" font-size=\"14.00\" fill=\"#000000\">samples = 24983</text>\n<text text-anchor=\"middle\" x=\"2784.5\" y=\"-408.8\" font-family=\"Helvetica,sans-Serif\" font-size=\"14.00\" fill=\"#000000\">value = 8.531</text>\n</g>\n<!-- 10&#45;&gt;31 -->\n<g id=\"edge49\" class=\"edge\">\n<title>10&#45;&gt;31</title>\n<path fill=\"none\" stroke=\"#000000\" d=\"M2834.9422,-504.9465C2828.5968,-496.1475 2821.6879,-486.5672 2815.0764,-477.3993\"/>\n<polygon fill=\"#000000\" stroke=\"#000000\" points=\"2817.8011,-475.1937 2809.113,-469.13 2812.1234,-479.2882 2817.8011,-475.1937\"/>\n</g>\n<!-- 32 -->\n<g id=\"node55\" class=\"node\">\n<title>32</title>\n<polygon fill=\"#fefcfa\" stroke=\"#000000\" points=\"3000.5,-469 2868.5,-469 2868.5,-401 3000.5,-401 3000.5,-469\"/>\n<text text-anchor=\"middle\" x=\"2934.5\" y=\"-453.8\" font-family=\"Helvetica,sans-Serif\" font-size=\"14.00\" fill=\"#000000\">distance &lt;= 1.242</text>\n<text text-anchor=\"middle\" x=\"2934.5\" y=\"-438.8\" font-family=\"Helvetica,sans-Serif\" font-size=\"14.00\" fill=\"#000000\">mse = 10.677</text>\n<text text-anchor=\"middle\" x=\"2934.5\" y=\"-423.8\" font-family=\"Helvetica,sans-Serif\" font-size=\"14.00\" fill=\"#000000\">samples = 14596</text>\n<text text-anchor=\"middle\" x=\"2934.5\" y=\"-408.8\" font-family=\"Helvetica,sans-Serif\" font-size=\"14.00\" fill=\"#000000\">value = 10.235</text>\n</g>\n<!-- 10&#45;&gt;32 -->\n<g id=\"edge54\" class=\"edge\">\n<title>10&#45;&gt;32</title>\n<path fill=\"none\" stroke=\"#000000\" d=\"M2884.0578,-504.9465C2890.4032,-496.1475 2897.3121,-486.5672 2903.9236,-477.3993\"/>\n<polygon fill=\"#000000\" stroke=\"#000000\" points=\"2906.8766,-479.2882 2909.887,-469.13 2901.1989,-475.1937 2906.8766,-479.2882\"/>\n</g>\n<!-- 45 -->\n<g id=\"node51\" class=\"node\">\n<title>45</title>\n<polygon fill=\"#fffdfc\" stroke=\"#000000\" points=\"2703.5,-365 2571.5,-365 2571.5,-297 2703.5,-297 2703.5,-365\"/>\n<text text-anchor=\"middle\" x=\"2637.5\" y=\"-349.8\" font-family=\"Helvetica,sans-Serif\" font-size=\"14.00\" fill=\"#000000\">distance &lt;= 1.169</text>\n<text text-anchor=\"middle\" x=\"2637.5\" y=\"-334.8\" font-family=\"Helvetica,sans-Serif\" font-size=\"14.00\" fill=\"#000000\">mse = 5.161</text>\n<text text-anchor=\"middle\" x=\"2637.5\" y=\"-319.8\" font-family=\"Helvetica,sans-Serif\" font-size=\"14.00\" fill=\"#000000\">samples = 14545</text>\n<text text-anchor=\"middle\" x=\"2637.5\" y=\"-304.8\" font-family=\"Helvetica,sans-Serif\" font-size=\"14.00\" fill=\"#000000\">value = 7.928</text>\n</g>\n<!-- 31&#45;&gt;45 -->\n<g id=\"edge50\" class=\"edge\">\n<title>31&#45;&gt;45</title>\n<path fill=\"none\" stroke=\"#000000\" d=\"M2736.3667,-400.9465C2722.9144,-391.4293 2708.17,-380.9978 2694.2688,-371.163\"/>\n<polygon fill=\"#000000\" stroke=\"#000000\" points=\"2695.9264,-368.0483 2685.7414,-365.13 2691.8835,-373.7628 2695.9264,-368.0483\"/>\n</g>\n<!-- 46 -->\n<g id=\"node54\" class=\"node\">\n<title>46</title>\n<polygon fill=\"#fefcfb\" stroke=\"#000000\" points=\"2849.5,-357.5 2721.5,-357.5 2721.5,-304.5 2849.5,-304.5 2849.5,-357.5\"/>\n<text text-anchor=\"middle\" x=\"2785.5\" y=\"-342.3\" font-family=\"Helvetica,sans-Serif\" font-size=\"14.00\" fill=\"#000000\">mse = 7.016</text>\n<text text-anchor=\"middle\" x=\"2785.5\" y=\"-327.3\" font-family=\"Helvetica,sans-Serif\" font-size=\"14.00\" fill=\"#000000\">samples = 10438</text>\n<text text-anchor=\"middle\" x=\"2785.5\" y=\"-312.3\" font-family=\"Helvetica,sans-Serif\" font-size=\"14.00\" fill=\"#000000\">value = 9.371</text>\n</g>\n<!-- 31&#45;&gt;46 -->\n<g id=\"edge53\" class=\"edge\">\n<title>31&#45;&gt;46</title>\n<path fill=\"none\" stroke=\"#000000\" d=\"M2784.8274,-400.9465C2784.9302,-390.2621 2785.044,-378.4254 2785.1483,-367.5742\"/>\n<polygon fill=\"#000000\" stroke=\"#000000\" points=\"2788.6484,-367.5754 2785.2448,-357.5422 2781.6487,-367.508 2788.6484,-367.5754\"/>\n</g>\n<!-- 167 -->\n<g id=\"node52\" class=\"node\">\n<title>167</title>\n<polygon fill=\"#fffdfc\" stroke=\"#000000\" points=\"2585.5,-253.5 2465.5,-253.5 2465.5,-200.5 2585.5,-200.5 2585.5,-253.5\"/>\n<text text-anchor=\"middle\" x=\"2525.5\" y=\"-238.3\" font-family=\"Helvetica,sans-Serif\" font-size=\"14.00\" fill=\"#000000\">mse = 4.137</text>\n<text text-anchor=\"middle\" x=\"2525.5\" y=\"-223.3\" font-family=\"Helvetica,sans-Serif\" font-size=\"14.00\" fill=\"#000000\">samples = 9003</text>\n<text text-anchor=\"middle\" x=\"2525.5\" y=\"-208.3\" font-family=\"Helvetica,sans-Serif\" font-size=\"14.00\" fill=\"#000000\">value = 7.643</text>\n</g>\n<!-- 45&#45;&gt;167 -->\n<g id=\"edge51\" class=\"edge\">\n<title>45&#45;&gt;167</title>\n<path fill=\"none\" stroke=\"#000000\" d=\"M2600.827,-296.9465C2588.2531,-285.2707 2574.1974,-272.219 2561.6641,-260.5809\"/>\n<polygon fill=\"#000000\" stroke=\"#000000\" points=\"2563.7934,-257.7819 2554.0839,-253.5422 2559.0302,-262.9115 2563.7934,-257.7819\"/>\n</g>\n<!-- 168 -->\n<g id=\"node53\" class=\"node\">\n<title>168</title>\n<polygon fill=\"#fffdfc\" stroke=\"#000000\" points=\"2723.5,-253.5 2603.5,-253.5 2603.5,-200.5 2723.5,-200.5 2723.5,-253.5\"/>\n<text text-anchor=\"middle\" x=\"2663.5\" y=\"-238.3\" font-family=\"Helvetica,sans-Serif\" font-size=\"14.00\" fill=\"#000000\">mse = 6.477</text>\n<text text-anchor=\"middle\" x=\"2663.5\" y=\"-223.3\" font-family=\"Helvetica,sans-Serif\" font-size=\"14.00\" fill=\"#000000\">samples = 5542</text>\n<text text-anchor=\"middle\" x=\"2663.5\" y=\"-208.3\" font-family=\"Helvetica,sans-Serif\" font-size=\"14.00\" fill=\"#000000\">value = 8.393</text>\n</g>\n<!-- 45&#45;&gt;168 -->\n<g id=\"edge52\" class=\"edge\">\n<title>45&#45;&gt;168</title>\n<path fill=\"none\" stroke=\"#000000\" d=\"M2646.0134,-296.9465C2648.6845,-286.2621 2651.6436,-274.4254 2654.3564,-263.5742\"/>\n<polygon fill=\"#000000\" stroke=\"#000000\" points=\"2657.8345,-264.0925 2656.8645,-253.5422 2651.0435,-262.3947 2657.8345,-264.0925\"/>\n</g>\n<!-- 49 -->\n<g id=\"node56\" class=\"node\">\n<title>49</title>\n<polygon fill=\"#fefcfb\" stroke=\"#000000\" points=\"2999.5,-365 2867.5,-365 2867.5,-297 2999.5,-297 2999.5,-365\"/>\n<text text-anchor=\"middle\" x=\"2933.5\" y=\"-349.8\" font-family=\"Helvetica,sans-Serif\" font-size=\"14.00\" fill=\"#000000\">distance &lt;= 1.158</text>\n<text text-anchor=\"middle\" x=\"2933.5\" y=\"-334.8\" font-family=\"Helvetica,sans-Serif\" font-size=\"14.00\" fill=\"#000000\">mse = 8.488</text>\n<text text-anchor=\"middle\" x=\"2933.5\" y=\"-319.8\" font-family=\"Helvetica,sans-Serif\" font-size=\"14.00\" fill=\"#000000\">samples = 7937</text>\n<text text-anchor=\"middle\" x=\"2933.5\" y=\"-304.8\" font-family=\"Helvetica,sans-Serif\" font-size=\"14.00\" fill=\"#000000\">value = 9.4</text>\n</g>\n<!-- 32&#45;&gt;49 -->\n<g id=\"edge55\" class=\"edge\">\n<title>32&#45;&gt;49</title>\n<path fill=\"none\" stroke=\"#000000\" d=\"M2934.1726,-400.9465C2934.094,-392.776 2934.009,-383.9318 2933.9266,-375.3697\"/>\n<polygon fill=\"#000000\" stroke=\"#000000\" points=\"2937.4243,-375.0958 2933.8282,-365.13 2930.4246,-375.1632 2937.4243,-375.0958\"/>\n</g>\n<!-- 50 -->\n<g id=\"node59\" class=\"node\">\n<title>50</title>\n<polygon fill=\"#fefbf9\" stroke=\"#000000\" points=\"3149.5,-365 3017.5,-365 3017.5,-297 3149.5,-297 3149.5,-365\"/>\n<text text-anchor=\"middle\" x=\"3083.5\" y=\"-349.8\" font-family=\"Helvetica,sans-Serif\" font-size=\"14.00\" fill=\"#000000\">distance &lt;= 1.359</text>\n<text text-anchor=\"middle\" x=\"3083.5\" y=\"-334.8\" font-family=\"Helvetica,sans-Serif\" font-size=\"14.00\" fill=\"#000000\">mse = 11.467</text>\n<text text-anchor=\"middle\" x=\"3083.5\" y=\"-319.8\" font-family=\"Helvetica,sans-Serif\" font-size=\"14.00\" fill=\"#000000\">samples = 6659</text>\n<text text-anchor=\"middle\" x=\"3083.5\" y=\"-304.8\" font-family=\"Helvetica,sans-Serif\" font-size=\"14.00\" fill=\"#000000\">value = 11.229</text>\n</g>\n<!-- 32&#45;&gt;50 -->\n<g id=\"edge58\" class=\"edge\">\n<title>32&#45;&gt;50</title>\n<path fill=\"none\" stroke=\"#000000\" d=\"M2983.2882,-400.9465C2997.0521,-391.3395 3012.1506,-380.8009 3026.3574,-370.8848\"/>\n<polygon fill=\"#000000\" stroke=\"#000000\" points=\"3028.4054,-373.7236 3034.6022,-365.13 3024.3989,-367.9835 3028.4054,-373.7236\"/>\n</g>\n<!-- 181 -->\n<g id=\"node57\" class=\"node\">\n<title>181</title>\n<polygon fill=\"#fefcfb\" stroke=\"#000000\" points=\"2861.5,-253.5 2741.5,-253.5 2741.5,-200.5 2861.5,-200.5 2861.5,-253.5\"/>\n<text text-anchor=\"middle\" x=\"2801.5\" y=\"-238.3\" font-family=\"Helvetica,sans-Serif\" font-size=\"14.00\" fill=\"#000000\">mse = 7.824</text>\n<text text-anchor=\"middle\" x=\"2801.5\" y=\"-223.3\" font-family=\"Helvetica,sans-Serif\" font-size=\"14.00\" fill=\"#000000\">samples = 4903</text>\n<text text-anchor=\"middle\" x=\"2801.5\" y=\"-208.3\" font-family=\"Helvetica,sans-Serif\" font-size=\"14.00\" fill=\"#000000\">value = 9.035</text>\n</g>\n<!-- 49&#45;&gt;181 -->\n<g id=\"edge56\" class=\"edge\">\n<title>49&#45;&gt;181</title>\n<path fill=\"none\" stroke=\"#000000\" d=\"M2890.2783,-296.9465C2875.1794,-285.0504 2858.2676,-271.726 2843.2878,-259.9237\"/>\n<polygon fill=\"#000000\" stroke=\"#000000\" points=\"2845.2091,-256.9817 2835.1881,-253.5422 2840.877,-262.4802 2845.2091,-256.9817\"/>\n</g>\n<!-- 182 -->\n<g id=\"node58\" class=\"node\">\n<title>182</title>\n<polygon fill=\"#fefcfa\" stroke=\"#000000\" points=\"2999.5,-253.5 2879.5,-253.5 2879.5,-200.5 2999.5,-200.5 2999.5,-253.5\"/>\n<text text-anchor=\"middle\" x=\"2939.5\" y=\"-238.3\" font-family=\"Helvetica,sans-Serif\" font-size=\"14.00\" fill=\"#000000\">mse = 8.997</text>\n<text text-anchor=\"middle\" x=\"2939.5\" y=\"-223.3\" font-family=\"Helvetica,sans-Serif\" font-size=\"14.00\" fill=\"#000000\">samples = 3034</text>\n<text text-anchor=\"middle\" x=\"2939.5\" y=\"-208.3\" font-family=\"Helvetica,sans-Serif\" font-size=\"14.00\" fill=\"#000000\">value = 9.99</text>\n</g>\n<!-- 49&#45;&gt;182 -->\n<g id=\"edge57\" class=\"edge\">\n<title>49&#45;&gt;182</title>\n<path fill=\"none\" stroke=\"#000000\" d=\"M2935.4646,-296.9465C2936.081,-286.2621 2936.7639,-274.4254 2937.3899,-263.5742\"/>\n<polygon fill=\"#000000\" stroke=\"#000000\" points=\"2940.8869,-263.7272 2937.9687,-253.5422 2933.8985,-263.3239 2940.8869,-263.7272\"/>\n</g>\n<!-- 161 -->\n<g id=\"node60\" class=\"node\">\n<title>161</title>\n<polygon fill=\"#fefbf9\" stroke=\"#000000\" points=\"3137.5,-253.5 3017.5,-253.5 3017.5,-200.5 3137.5,-200.5 3137.5,-253.5\"/>\n<text text-anchor=\"middle\" x=\"3077.5\" y=\"-238.3\" font-family=\"Helvetica,sans-Serif\" font-size=\"14.00\" fill=\"#000000\">mse = 10.544</text>\n<text text-anchor=\"middle\" x=\"3077.5\" y=\"-223.3\" font-family=\"Helvetica,sans-Serif\" font-size=\"14.00\" fill=\"#000000\">samples = 3916</text>\n<text text-anchor=\"middle\" x=\"3077.5\" y=\"-208.3\" font-family=\"Helvetica,sans-Serif\" font-size=\"14.00\" fill=\"#000000\">value = 10.77</text>\n</g>\n<!-- 50&#45;&gt;161 -->\n<g id=\"edge59\" class=\"edge\">\n<title>50&#45;&gt;161</title>\n<path fill=\"none\" stroke=\"#000000\" d=\"M3081.5354,-296.9465C3080.919,-286.2621 3080.2361,-274.4254 3079.6101,-263.5742\"/>\n<polygon fill=\"#000000\" stroke=\"#000000\" points=\"3083.1015,-263.3239 3079.0313,-253.5422 3076.1131,-263.7272 3083.1015,-263.3239\"/>\n</g>\n<!-- 162 -->\n<g id=\"node61\" class=\"node\">\n<title>162</title>\n<polygon fill=\"#fefbf8\" stroke=\"#000000\" points=\"3275.5,-253.5 3155.5,-253.5 3155.5,-200.5 3275.5,-200.5 3275.5,-253.5\"/>\n<text text-anchor=\"middle\" x=\"3215.5\" y=\"-238.3\" font-family=\"Helvetica,sans-Serif\" font-size=\"14.00\" fill=\"#000000\">mse = 12.053</text>\n<text text-anchor=\"middle\" x=\"3215.5\" y=\"-223.3\" font-family=\"Helvetica,sans-Serif\" font-size=\"14.00\" fill=\"#000000\">samples = 2743</text>\n<text text-anchor=\"middle\" x=\"3215.5\" y=\"-208.3\" font-family=\"Helvetica,sans-Serif\" font-size=\"14.00\" fill=\"#000000\">value = 11.886</text>\n</g>\n<!-- 50&#45;&gt;162 -->\n<g id=\"edge60\" class=\"edge\">\n<title>50&#45;&gt;162</title>\n<path fill=\"none\" stroke=\"#000000\" d=\"M3126.7217,-296.9465C3141.8206,-285.0504 3158.7324,-271.726 3173.7122,-259.9237\"/>\n<polygon fill=\"#000000\" stroke=\"#000000\" points=\"3176.123,-262.4802 3181.8119,-253.5422 3171.7909,-256.9817 3176.123,-262.4802\"/>\n</g>\n<!-- 11 -->\n<g id=\"node63\" class=\"node\">\n<title>11</title>\n<polygon fill=\"#fefaf7\" stroke=\"#000000\" points=\"3900.5,-573 3772.5,-573 3772.5,-505 3900.5,-505 3900.5,-573\"/>\n<text text-anchor=\"middle\" x=\"3836.5\" y=\"-557.8\" font-family=\"Helvetica,sans-Serif\" font-size=\"14.00\" fill=\"#000000\">year &lt;= 2012.5</text>\n<text text-anchor=\"middle\" x=\"3836.5\" y=\"-542.8\" font-family=\"Helvetica,sans-Serif\" font-size=\"14.00\" fill=\"#000000\">mse = 17.295</text>\n<text text-anchor=\"middle\" x=\"3836.5\" y=\"-527.8\" font-family=\"Helvetica,sans-Serif\" font-size=\"14.00\" fill=\"#000000\">samples = 22358</text>\n<text text-anchor=\"middle\" x=\"3836.5\" y=\"-512.8\" font-family=\"Helvetica,sans-Serif\" font-size=\"14.00\" fill=\"#000000\">value = 12.792</text>\n</g>\n<!-- 4&#45;&gt;11 -->\n<g id=\"edge62\" class=\"edge\">\n<title>4&#45;&gt;11</title>\n<path fill=\"none\" stroke=\"#000000\" d=\"M4121.4796,-623.4384C4061.4418,-605.6494 3972.9432,-579.4276 3910.5281,-560.9343\"/>\n<polygon fill=\"#000000\" stroke=\"#000000\" points=\"3911.3255,-557.5202 3900.7432,-558.035 3909.3368,-564.2318 3911.3255,-557.5202\"/>\n</g>\n<!-- 12 -->\n<g id=\"node76\" class=\"node\">\n<title>12</title>\n<polygon fill=\"#fdf7f2\" stroke=\"#000000\" points=\"4452.5,-573 4324.5,-573 4324.5,-505 4452.5,-505 4452.5,-573\"/>\n<text text-anchor=\"middle\" x=\"4388.5\" y=\"-557.8\" font-family=\"Helvetica,sans-Serif\" font-size=\"14.00\" fill=\"#000000\">year &lt;= 2012.5</text>\n<text text-anchor=\"middle\" x=\"4388.5\" y=\"-542.8\" font-family=\"Helvetica,sans-Serif\" font-size=\"14.00\" fill=\"#000000\">mse = 28.691</text>\n<text text-anchor=\"middle\" x=\"4388.5\" y=\"-527.8\" font-family=\"Helvetica,sans-Serif\" font-size=\"14.00\" fill=\"#000000\">samples = 11533</text>\n<text text-anchor=\"middle\" x=\"4388.5\" y=\"-512.8\" font-family=\"Helvetica,sans-Serif\" font-size=\"14.00\" fill=\"#000000\">value = 17.649</text>\n</g>\n<!-- 4&#45;&gt;12 -->\n<g id=\"edge75\" class=\"edge\">\n<title>4&#45;&gt;12</title>\n<path fill=\"none\" stroke=\"#000000\" d=\"M4253.3149,-608.9465C4273.1619,-598.6774 4295.0659,-587.344 4315.359,-576.8441\"/>\n<polygon fill=\"#000000\" stroke=\"#000000\" points=\"4316.9771,-579.9477 4324.2503,-572.2436 4313.7603,-573.7306 4316.9771,-579.9477\"/>\n</g>\n<!-- 23 -->\n<g id=\"node64\" class=\"node\">\n<title>23</title>\n<polygon fill=\"#fefbf8\" stroke=\"#000000\" points=\"3557.5,-469 3425.5,-469 3425.5,-401 3557.5,-401 3557.5,-469\"/>\n<text text-anchor=\"middle\" x=\"3491.5\" y=\"-453.8\" font-family=\"Helvetica,sans-Serif\" font-size=\"14.00\" fill=\"#000000\">distance &lt;= 1.655</text>\n<text text-anchor=\"middle\" x=\"3491.5\" y=\"-438.8\" font-family=\"Helvetica,sans-Serif\" font-size=\"14.00\" fill=\"#000000\">mse = 13.033</text>\n<text text-anchor=\"middle\" x=\"3491.5\" y=\"-423.8\" font-family=\"Helvetica,sans-Serif\" font-size=\"14.00\" fill=\"#000000\">samples = 13924</text>\n<text text-anchor=\"middle\" x=\"3491.5\" y=\"-408.8\" font-family=\"Helvetica,sans-Serif\" font-size=\"14.00\" fill=\"#000000\">value = 11.796</text>\n</g>\n<!-- 11&#45;&gt;23 -->\n<g id=\"edge63\" class=\"edge\">\n<title>11&#45;&gt;23</title>\n<path fill=\"none\" stroke=\"#000000\" d=\"M3772.4167,-519.6821C3714.3359,-502.1737 3628.6789,-476.3525 3567.2346,-457.8301\"/>\n<polygon fill=\"#000000\" stroke=\"#000000\" points=\"3568.1736,-454.4577 3557.589,-454.9225 3566.1532,-461.1598 3568.1736,-454.4577\"/>\n</g>\n<!-- 24 -->\n<g id=\"node69\" class=\"node\">\n<title>24</title>\n<polygon fill=\"#fef9f5\" stroke=\"#000000\" points=\"3902.5,-469 3770.5,-469 3770.5,-401 3902.5,-401 3902.5,-469\"/>\n<text text-anchor=\"middle\" x=\"3836.5\" y=\"-453.8\" font-family=\"Helvetica,sans-Serif\" font-size=\"14.00\" fill=\"#000000\">distance &lt;= 1.649</text>\n<text text-anchor=\"middle\" x=\"3836.5\" y=\"-438.8\" font-family=\"Helvetica,sans-Serif\" font-size=\"14.00\" fill=\"#000000\">mse = 19.991</text>\n<text text-anchor=\"middle\" x=\"3836.5\" y=\"-423.8\" font-family=\"Helvetica,sans-Serif\" font-size=\"14.00\" fill=\"#000000\">samples = 8434</text>\n<text text-anchor=\"middle\" x=\"3836.5\" y=\"-408.8\" font-family=\"Helvetica,sans-Serif\" font-size=\"14.00\" fill=\"#000000\">value = 14.436</text>\n</g>\n<!-- 11&#45;&gt;24 -->\n<g id=\"edge68\" class=\"edge\">\n<title>11&#45;&gt;24</title>\n<path fill=\"none\" stroke=\"#000000\" d=\"M3836.5,-504.9465C3836.5,-496.776 3836.5,-487.9318 3836.5,-479.3697\"/>\n<polygon fill=\"#000000\" stroke=\"#000000\" points=\"3840.0001,-479.13 3836.5,-469.13 3833.0001,-479.13 3840.0001,-479.13\"/>\n</g>\n<!-- 53 -->\n<g id=\"node65\" class=\"node\">\n<title>53</title>\n<polygon fill=\"#fefbf9\" stroke=\"#000000\" points=\"3407.5,-357.5 3287.5,-357.5 3287.5,-304.5 3407.5,-304.5 3407.5,-357.5\"/>\n<text text-anchor=\"middle\" x=\"3347.5\" y=\"-342.3\" font-family=\"Helvetica,sans-Serif\" font-size=\"14.00\" fill=\"#000000\">mse = 11.598</text>\n<text text-anchor=\"middle\" x=\"3347.5\" y=\"-327.3\" font-family=\"Helvetica,sans-Serif\" font-size=\"14.00\" fill=\"#000000\">samples = 8180</text>\n<text text-anchor=\"middle\" x=\"3347.5\" y=\"-312.3\" font-family=\"Helvetica,sans-Serif\" font-size=\"14.00\" fill=\"#000000\">value = 11.021</text>\n</g>\n<!-- 23&#45;&gt;53 -->\n<g id=\"edge64\" class=\"edge\">\n<title>23&#45;&gt;53</title>\n<path fill=\"none\" stroke=\"#000000\" d=\"M3444.349,-400.9465C3427.725,-388.9403 3409.0865,-375.4791 3392.6333,-363.5962\"/>\n<polygon fill=\"#000000\" stroke=\"#000000\" points=\"3394.4067,-360.5597 3384.2507,-357.5422 3390.3083,-366.2345 3394.4067,-360.5597\"/>\n</g>\n<!-- 54 -->\n<g id=\"node66\" class=\"node\">\n<title>54</title>\n<polygon fill=\"#fefaf7\" stroke=\"#000000\" points=\"3557.5,-365 3425.5,-365 3425.5,-297 3557.5,-297 3557.5,-365\"/>\n<text text-anchor=\"middle\" x=\"3491.5\" y=\"-349.8\" font-family=\"Helvetica,sans-Serif\" font-size=\"14.00\" fill=\"#000000\">distance &lt;= 1.742</text>\n<text text-anchor=\"middle\" x=\"3491.5\" y=\"-334.8\" font-family=\"Helvetica,sans-Serif\" font-size=\"14.00\" fill=\"#000000\">mse = 13.003</text>\n<text text-anchor=\"middle\" x=\"3491.5\" y=\"-319.8\" font-family=\"Helvetica,sans-Serif\" font-size=\"14.00\" fill=\"#000000\">samples = 5744</text>\n<text text-anchor=\"middle\" x=\"3491.5\" y=\"-304.8\" font-family=\"Helvetica,sans-Serif\" font-size=\"14.00\" fill=\"#000000\">value = 12.9</text>\n</g>\n<!-- 23&#45;&gt;54 -->\n<g id=\"edge65\" class=\"edge\">\n<title>23&#45;&gt;54</title>\n<path fill=\"none\" stroke=\"#000000\" d=\"M3491.5,-400.9465C3491.5,-392.776 3491.5,-383.9318 3491.5,-375.3697\"/>\n<polygon fill=\"#000000\" stroke=\"#000000\" points=\"3495.0001,-375.13 3491.5,-365.13 3488.0001,-375.13 3495.0001,-375.13\"/>\n</g>\n<!-- 169 -->\n<g id=\"node67\" class=\"node\">\n<title>169</title>\n<polygon fill=\"#fefaf8\" stroke=\"#000000\" points=\"3413.5,-253.5 3293.5,-253.5 3293.5,-200.5 3413.5,-200.5 3413.5,-253.5\"/>\n<text text-anchor=\"middle\" x=\"3353.5\" y=\"-238.3\" font-family=\"Helvetica,sans-Serif\" font-size=\"14.00\" fill=\"#000000\">mse = 10.213</text>\n<text text-anchor=\"middle\" x=\"3353.5\" y=\"-223.3\" font-family=\"Helvetica,sans-Serif\" font-size=\"14.00\" fill=\"#000000\">samples = 2915</text>\n<text text-anchor=\"middle\" x=\"3353.5\" y=\"-208.3\" font-family=\"Helvetica,sans-Serif\" font-size=\"14.00\" fill=\"#000000\">value = 12.332</text>\n</g>\n<!-- 54&#45;&gt;169 -->\n<g id=\"edge66\" class=\"edge\">\n<title>54&#45;&gt;169</title>\n<path fill=\"none\" stroke=\"#000000\" d=\"M3446.3136,-296.9465C3430.3823,-284.9403 3412.5204,-271.4791 3396.7527,-259.5962\"/>\n<polygon fill=\"#000000\" stroke=\"#000000\" points=\"3398.812,-256.7656 3388.7194,-253.5422 3394.599,-262.3558 3398.812,-256.7656\"/>\n</g>\n<!-- 170 -->\n<g id=\"node68\" class=\"node\">\n<title>170</title>\n<polygon fill=\"#fef9f6\" stroke=\"#000000\" points=\"3551.5,-253.5 3431.5,-253.5 3431.5,-200.5 3551.5,-200.5 3551.5,-253.5\"/>\n<text text-anchor=\"middle\" x=\"3491.5\" y=\"-238.3\" font-family=\"Helvetica,sans-Serif\" font-size=\"14.00\" fill=\"#000000\">mse = 15.201</text>\n<text text-anchor=\"middle\" x=\"3491.5\" y=\"-223.3\" font-family=\"Helvetica,sans-Serif\" font-size=\"14.00\" fill=\"#000000\">samples = 2829</text>\n<text text-anchor=\"middle\" x=\"3491.5\" y=\"-208.3\" font-family=\"Helvetica,sans-Serif\" font-size=\"14.00\" fill=\"#000000\">value = 13.486</text>\n</g>\n<!-- 54&#45;&gt;170 -->\n<g id=\"edge67\" class=\"edge\">\n<title>54&#45;&gt;170</title>\n<path fill=\"none\" stroke=\"#000000\" d=\"M3491.5,-296.9465C3491.5,-286.2621 3491.5,-274.4254 3491.5,-263.5742\"/>\n<polygon fill=\"#000000\" stroke=\"#000000\" points=\"3495.0001,-263.5421 3491.5,-253.5422 3488.0001,-263.5422 3495.0001,-263.5421\"/>\n</g>\n<!-- 47 -->\n<g id=\"node70\" class=\"node\">\n<title>47</title>\n<polygon fill=\"#fefaf6\" stroke=\"#000000\" points=\"3827.5,-365 3695.5,-365 3695.5,-297 3827.5,-297 3827.5,-365\"/>\n<text text-anchor=\"middle\" x=\"3761.5\" y=\"-349.8\" font-family=\"Helvetica,sans-Serif\" font-size=\"14.00\" fill=\"#000000\">distance &lt;= 1.526</text>\n<text text-anchor=\"middle\" x=\"3761.5\" y=\"-334.8\" font-family=\"Helvetica,sans-Serif\" font-size=\"14.00\" fill=\"#000000\">mse = 17.663</text>\n<text text-anchor=\"middle\" x=\"3761.5\" y=\"-319.8\" font-family=\"Helvetica,sans-Serif\" font-size=\"14.00\" fill=\"#000000\">samples = 4760</text>\n<text text-anchor=\"middle\" x=\"3761.5\" y=\"-304.8\" font-family=\"Helvetica,sans-Serif\" font-size=\"14.00\" fill=\"#000000\">value = 13.365</text>\n</g>\n<!-- 24&#45;&gt;47 -->\n<g id=\"edge69\" class=\"edge\">\n<title>24&#45;&gt;47</title>\n<path fill=\"none\" stroke=\"#000000\" d=\"M3811.9422,-400.9465C3805.5968,-392.1475 3798.6879,-382.5672 3792.0764,-373.3993\"/>\n<polygon fill=\"#000000\" stroke=\"#000000\" points=\"3794.8011,-371.1937 3786.113,-365.13 3789.1234,-375.2882 3794.8011,-371.1937\"/>\n</g>\n<!-- 48 -->\n<g id=\"node73\" class=\"node\">\n<title>48</title>\n<polygon fill=\"#fef8f4\" stroke=\"#000000\" points=\"3977.5,-365 3845.5,-365 3845.5,-297 3977.5,-297 3977.5,-365\"/>\n<text text-anchor=\"middle\" x=\"3911.5\" y=\"-349.8\" font-family=\"Helvetica,sans-Serif\" font-size=\"14.00\" fill=\"#000000\">distance &lt;= 1.741</text>\n<text text-anchor=\"middle\" x=\"3911.5\" y=\"-334.8\" font-family=\"Helvetica,sans-Serif\" font-size=\"14.00\" fill=\"#000000\">mse = 19.594</text>\n<text text-anchor=\"middle\" x=\"3911.5\" y=\"-319.8\" font-family=\"Helvetica,sans-Serif\" font-size=\"14.00\" fill=\"#000000\">samples = 3674</text>\n<text text-anchor=\"middle\" x=\"3911.5\" y=\"-304.8\" font-family=\"Helvetica,sans-Serif\" font-size=\"14.00\" fill=\"#000000\">value = 15.824</text>\n</g>\n<!-- 24&#45;&gt;48 -->\n<g id=\"edge72\" class=\"edge\">\n<title>24&#45;&gt;48</title>\n<path fill=\"none\" stroke=\"#000000\" d=\"M3861.0578,-400.9465C3867.4032,-392.1475 3874.3121,-382.5672 3880.9236,-373.3993\"/>\n<polygon fill=\"#000000\" stroke=\"#000000\" points=\"3883.8766,-375.2882 3886.887,-365.13 3878.1989,-371.1937 3883.8766,-375.2882\"/>\n</g>\n<!-- 197 -->\n<g id=\"node71\" class=\"node\">\n<title>197</title>\n<polygon fill=\"#fefaf7\" stroke=\"#000000\" points=\"3689.5,-253.5 3569.5,-253.5 3569.5,-200.5 3689.5,-200.5 3689.5,-253.5\"/>\n<text text-anchor=\"middle\" x=\"3629.5\" y=\"-238.3\" font-family=\"Helvetica,sans-Serif\" font-size=\"14.00\" fill=\"#000000\">mse = 14.799</text>\n<text text-anchor=\"middle\" x=\"3629.5\" y=\"-223.3\" font-family=\"Helvetica,sans-Serif\" font-size=\"14.00\" fill=\"#000000\">samples = 1869</text>\n<text text-anchor=\"middle\" x=\"3629.5\" y=\"-208.3\" font-family=\"Helvetica,sans-Serif\" font-size=\"14.00\" fill=\"#000000\">value = 12.666</text>\n</g>\n<!-- 47&#45;&gt;197 -->\n<g id=\"edge70\" class=\"edge\">\n<title>47&#45;&gt;197</title>\n<path fill=\"none\" stroke=\"#000000\" d=\"M3718.2783,-296.9465C3703.1794,-285.0504 3686.2676,-271.726 3671.2878,-259.9237\"/>\n<polygon fill=\"#000000\" stroke=\"#000000\" points=\"3673.2091,-256.9817 3663.1881,-253.5422 3668.877,-262.4802 3673.2091,-256.9817\"/>\n</g>\n<!-- 198 -->\n<g id=\"node72\" class=\"node\">\n<title>198</title>\n<polygon fill=\"#fef9f6\" stroke=\"#000000\" points=\"3827.5,-253.5 3707.5,-253.5 3707.5,-200.5 3827.5,-200.5 3827.5,-253.5\"/>\n<text text-anchor=\"middle\" x=\"3767.5\" y=\"-238.3\" font-family=\"Helvetica,sans-Serif\" font-size=\"14.00\" fill=\"#000000\">mse = 18.995</text>\n<text text-anchor=\"middle\" x=\"3767.5\" y=\"-223.3\" font-family=\"Helvetica,sans-Serif\" font-size=\"14.00\" fill=\"#000000\">samples = 2891</text>\n<text text-anchor=\"middle\" x=\"3767.5\" y=\"-208.3\" font-family=\"Helvetica,sans-Serif\" font-size=\"14.00\" fill=\"#000000\">value = 13.816</text>\n</g>\n<!-- 47&#45;&gt;198 -->\n<g id=\"edge71\" class=\"edge\">\n<title>47&#45;&gt;198</title>\n<path fill=\"none\" stroke=\"#000000\" d=\"M3763.4646,-296.9465C3764.081,-286.2621 3764.7639,-274.4254 3765.3899,-263.5742\"/>\n<polygon fill=\"#000000\" stroke=\"#000000\" points=\"3768.8869,-263.7272 3765.9687,-253.5422 3761.8985,-263.3239 3768.8869,-263.7272\"/>\n</g>\n<!-- 151 -->\n<g id=\"node74\" class=\"node\">\n<title>151</title>\n<polygon fill=\"#fef8f5\" stroke=\"#000000\" points=\"3965.5,-253.5 3845.5,-253.5 3845.5,-200.5 3965.5,-200.5 3965.5,-253.5\"/>\n<text text-anchor=\"middle\" x=\"3905.5\" y=\"-238.3\" font-family=\"Helvetica,sans-Serif\" font-size=\"14.00\" fill=\"#000000\">mse = 17.361</text>\n<text text-anchor=\"middle\" x=\"3905.5\" y=\"-223.3\" font-family=\"Helvetica,sans-Serif\" font-size=\"14.00\" fill=\"#000000\">samples = 1937</text>\n<text text-anchor=\"middle\" x=\"3905.5\" y=\"-208.3\" font-family=\"Helvetica,sans-Serif\" font-size=\"14.00\" fill=\"#000000\">value = 15.094</text>\n</g>\n<!-- 48&#45;&gt;151 -->\n<g id=\"edge73\" class=\"edge\">\n<title>48&#45;&gt;151</title>\n<path fill=\"none\" stroke=\"#000000\" d=\"M3909.5354,-296.9465C3908.919,-286.2621 3908.2361,-274.4254 3907.6101,-263.5742\"/>\n<polygon fill=\"#000000\" stroke=\"#000000\" points=\"3911.1015,-263.3239 3907.0313,-253.5422 3904.1131,-263.7272 3911.1015,-263.3239\"/>\n</g>\n<!-- 152 -->\n<g id=\"node75\" class=\"node\">\n<title>152</title>\n<polygon fill=\"#fdf7f3\" stroke=\"#000000\" points=\"4103.5,-253.5 3983.5,-253.5 3983.5,-200.5 4103.5,-200.5 4103.5,-253.5\"/>\n<text text-anchor=\"middle\" x=\"4043.5\" y=\"-238.3\" font-family=\"Helvetica,sans-Serif\" font-size=\"14.00\" fill=\"#000000\">mse = 20.83</text>\n<text text-anchor=\"middle\" x=\"4043.5\" y=\"-223.3\" font-family=\"Helvetica,sans-Serif\" font-size=\"14.00\" fill=\"#000000\">samples = 1737</text>\n<text text-anchor=\"middle\" x=\"4043.5\" y=\"-208.3\" font-family=\"Helvetica,sans-Serif\" font-size=\"14.00\" fill=\"#000000\">value = 16.637</text>\n</g>\n<!-- 48&#45;&gt;152 -->\n<g id=\"edge74\" class=\"edge\">\n<title>48&#45;&gt;152</title>\n<path fill=\"none\" stroke=\"#000000\" d=\"M3954.7217,-296.9465C3969.8206,-285.0504 3986.7324,-271.726 4001.7122,-259.9237\"/>\n<polygon fill=\"#000000\" stroke=\"#000000\" points=\"4004.123,-262.4802 4009.8119,-253.5422 3999.7909,-256.9817 4004.123,-262.4802\"/>\n</g>\n<!-- 25 -->\n<g id=\"node77\" class=\"node\">\n<title>25</title>\n<polygon fill=\"#fdf8f3\" stroke=\"#000000\" points=\"4454.5,-469 4322.5,-469 4322.5,-401 4454.5,-401 4454.5,-469\"/>\n<text text-anchor=\"middle\" x=\"4388.5\" y=\"-453.8\" font-family=\"Helvetica,sans-Serif\" font-size=\"14.00\" fill=\"#000000\">distance &lt;= 2.039</text>\n<text text-anchor=\"middle\" x=\"4388.5\" y=\"-438.8\" font-family=\"Helvetica,sans-Serif\" font-size=\"14.00\" fill=\"#000000\">mse = 22.504</text>\n<text text-anchor=\"middle\" x=\"4388.5\" y=\"-423.8\" font-family=\"Helvetica,sans-Serif\" font-size=\"14.00\" fill=\"#000000\">samples = 7263</text>\n<text text-anchor=\"middle\" x=\"4388.5\" y=\"-408.8\" font-family=\"Helvetica,sans-Serif\" font-size=\"14.00\" fill=\"#000000\">value = 16.305</text>\n</g>\n<!-- 12&#45;&gt;25 -->\n<g id=\"edge76\" class=\"edge\">\n<title>12&#45;&gt;25</title>\n<path fill=\"none\" stroke=\"#000000\" d=\"M4388.5,-504.9465C4388.5,-496.776 4388.5,-487.9318 4388.5,-479.3697\"/>\n<polygon fill=\"#000000\" stroke=\"#000000\" points=\"4392.0001,-479.13 4388.5,-469.13 4385.0001,-479.13 4392.0001,-479.13\"/>\n</g>\n<!-- 26 -->\n<g id=\"node84\" class=\"node\">\n<title>26</title>\n<polygon fill=\"#fdf5f0\" stroke=\"#000000\" points=\"4861.5,-469 4729.5,-469 4729.5,-401 4861.5,-401 4861.5,-469\"/>\n<text text-anchor=\"middle\" x=\"4795.5\" y=\"-453.8\" font-family=\"Helvetica,sans-Serif\" font-size=\"14.00\" fill=\"#000000\">distance &lt;= 2.057</text>\n<text text-anchor=\"middle\" x=\"4795.5\" y=\"-438.8\" font-family=\"Helvetica,sans-Serif\" font-size=\"14.00\" fill=\"#000000\">mse = 30.915</text>\n<text text-anchor=\"middle\" x=\"4795.5\" y=\"-423.8\" font-family=\"Helvetica,sans-Serif\" font-size=\"14.00\" fill=\"#000000\">samples = 4270</text>\n<text text-anchor=\"middle\" x=\"4795.5\" y=\"-408.8\" font-family=\"Helvetica,sans-Serif\" font-size=\"14.00\" fill=\"#000000\">value = 19.935</text>\n</g>\n<!-- 12&#45;&gt;26 -->\n<g id=\"edge83\" class=\"edge\">\n<title>12&#45;&gt;26</title>\n<path fill=\"none\" stroke=\"#000000\" d=\"M4452.5415,-522.6356C4524.8481,-504.1592 4642.4149,-474.1176 4719.36,-454.4559\"/>\n<polygon fill=\"#000000\" stroke=\"#000000\" points=\"4720.6485,-457.7392 4729.4707,-451.8724 4718.9154,-450.9571 4720.6485,-457.7392\"/>\n</g>\n<!-- 39 -->\n<g id=\"node78\" class=\"node\">\n<title>39</title>\n<polygon fill=\"#fef8f4\" stroke=\"#000000\" points=\"4379.5,-365 4247.5,-365 4247.5,-297 4379.5,-297 4379.5,-365\"/>\n<text text-anchor=\"middle\" x=\"4313.5\" y=\"-349.8\" font-family=\"Helvetica,sans-Serif\" font-size=\"14.00\" fill=\"#000000\">distance &lt;= 1.934</text>\n<text text-anchor=\"middle\" x=\"4313.5\" y=\"-334.8\" font-family=\"Helvetica,sans-Serif\" font-size=\"14.00\" fill=\"#000000\">mse = 19.539</text>\n<text text-anchor=\"middle\" x=\"4313.5\" y=\"-319.8\" font-family=\"Helvetica,sans-Serif\" font-size=\"14.00\" fill=\"#000000\">samples = 4732</text>\n<text text-anchor=\"middle\" x=\"4313.5\" y=\"-304.8\" font-family=\"Helvetica,sans-Serif\" font-size=\"14.00\" fill=\"#000000\">value = 15.251</text>\n</g>\n<!-- 25&#45;&gt;39 -->\n<g id=\"edge77\" class=\"edge\">\n<title>25&#45;&gt;39</title>\n<path fill=\"none\" stroke=\"#000000\" d=\"M4363.9422,-400.9465C4357.5968,-392.1475 4350.6879,-382.5672 4344.0764,-373.3993\"/>\n<polygon fill=\"#000000\" stroke=\"#000000\" points=\"4346.8011,-371.1937 4338.113,-365.13 4341.1234,-375.2882 4346.8011,-371.1937\"/>\n</g>\n<!-- 40 -->\n<g id=\"node81\" class=\"node\">\n<title>40</title>\n<polygon fill=\"#fdf6f1\" stroke=\"#000000\" points=\"4529.5,-365 4397.5,-365 4397.5,-297 4529.5,-297 4529.5,-365\"/>\n<text text-anchor=\"middle\" x=\"4463.5\" y=\"-349.8\" font-family=\"Helvetica,sans-Serif\" font-size=\"14.00\" fill=\"#000000\">distance &lt;= 2.105</text>\n<text text-anchor=\"middle\" x=\"4463.5\" y=\"-334.8\" font-family=\"Helvetica,sans-Serif\" font-size=\"14.00\" fill=\"#000000\">mse = 22.083</text>\n<text text-anchor=\"middle\" x=\"4463.5\" y=\"-319.8\" font-family=\"Helvetica,sans-Serif\" font-size=\"14.00\" fill=\"#000000\">samples = 2531</text>\n<text text-anchor=\"middle\" x=\"4463.5\" y=\"-304.8\" font-family=\"Helvetica,sans-Serif\" font-size=\"14.00\" fill=\"#000000\">value = 18.276</text>\n</g>\n<!-- 25&#45;&gt;40 -->\n<g id=\"edge80\" class=\"edge\">\n<title>25&#45;&gt;40</title>\n<path fill=\"none\" stroke=\"#000000\" d=\"M4413.0578,-400.9465C4419.4032,-392.1475 4426.3121,-382.5672 4432.9236,-373.3993\"/>\n<polygon fill=\"#000000\" stroke=\"#000000\" points=\"4435.8766,-375.2882 4438.887,-365.13 4430.1989,-371.1937 4435.8766,-375.2882\"/>\n</g>\n<!-- 129 -->\n<g id=\"node79\" class=\"node\">\n<title>129</title>\n<polygon fill=\"#fef9f5\" stroke=\"#000000\" points=\"4241.5,-253.5 4121.5,-253.5 4121.5,-200.5 4241.5,-200.5 4241.5,-253.5\"/>\n<text text-anchor=\"middle\" x=\"4181.5\" y=\"-238.3\" font-family=\"Helvetica,sans-Serif\" font-size=\"14.00\" fill=\"#000000\">mse = 12.304</text>\n<text text-anchor=\"middle\" x=\"4181.5\" y=\"-223.3\" font-family=\"Helvetica,sans-Serif\" font-size=\"14.00\" fill=\"#000000\">samples = 2451</text>\n<text text-anchor=\"middle\" x=\"4181.5\" y=\"-208.3\" font-family=\"Helvetica,sans-Serif\" font-size=\"14.00\" fill=\"#000000\">value = 14.514</text>\n</g>\n<!-- 39&#45;&gt;129 -->\n<g id=\"edge78\" class=\"edge\">\n<title>39&#45;&gt;129</title>\n<path fill=\"none\" stroke=\"#000000\" d=\"M4270.2783,-296.9465C4255.1794,-285.0504 4238.2676,-271.726 4223.2878,-259.9237\"/>\n<polygon fill=\"#000000\" stroke=\"#000000\" points=\"4225.2091,-256.9817 4215.1881,-253.5422 4220.877,-262.4802 4225.2091,-256.9817\"/>\n</g>\n<!-- 130 -->\n<g id=\"node80\" class=\"node\">\n<title>130</title>\n<polygon fill=\"#fef8f4\" stroke=\"#000000\" points=\"4379.5,-253.5 4259.5,-253.5 4259.5,-200.5 4379.5,-200.5 4379.5,-253.5\"/>\n<text text-anchor=\"middle\" x=\"4319.5\" y=\"-238.3\" font-family=\"Helvetica,sans-Serif\" font-size=\"14.00\" fill=\"#000000\">mse = 26.104</text>\n<text text-anchor=\"middle\" x=\"4319.5\" y=\"-223.3\" font-family=\"Helvetica,sans-Serif\" font-size=\"14.00\" fill=\"#000000\">samples = 2281</text>\n<text text-anchor=\"middle\" x=\"4319.5\" y=\"-208.3\" font-family=\"Helvetica,sans-Serif\" font-size=\"14.00\" fill=\"#000000\">value = 16.042</text>\n</g>\n<!-- 39&#45;&gt;130 -->\n<g id=\"edge79\" class=\"edge\">\n<title>39&#45;&gt;130</title>\n<path fill=\"none\" stroke=\"#000000\" d=\"M4315.4646,-296.9465C4316.081,-286.2621 4316.7639,-274.4254 4317.3899,-263.5742\"/>\n<polygon fill=\"#000000\" stroke=\"#000000\" points=\"4320.8869,-263.7272 4317.9687,-253.5422 4313.8985,-263.3239 4320.8869,-263.7272\"/>\n</g>\n<!-- 185 -->\n<g id=\"node82\" class=\"node\">\n<title>185</title>\n<polygon fill=\"#fdf7f2\" stroke=\"#000000\" points=\"4517.5,-253.5 4397.5,-253.5 4397.5,-200.5 4517.5,-200.5 4517.5,-253.5\"/>\n<text text-anchor=\"middle\" x=\"4457.5\" y=\"-238.3\" font-family=\"Helvetica,sans-Serif\" font-size=\"14.00\" fill=\"#000000\">mse = 19.192</text>\n<text text-anchor=\"middle\" x=\"4457.5\" y=\"-223.3\" font-family=\"Helvetica,sans-Serif\" font-size=\"14.00\" fill=\"#000000\">samples = 1219</text>\n<text text-anchor=\"middle\" x=\"4457.5\" y=\"-208.3\" font-family=\"Helvetica,sans-Serif\" font-size=\"14.00\" fill=\"#000000\">value = 17.448</text>\n</g>\n<!-- 40&#45;&gt;185 -->\n<g id=\"edge81\" class=\"edge\">\n<title>40&#45;&gt;185</title>\n<path fill=\"none\" stroke=\"#000000\" d=\"M4461.5354,-296.9465C4460.919,-286.2621 4460.2361,-274.4254 4459.6101,-263.5742\"/>\n<polygon fill=\"#000000\" stroke=\"#000000\" points=\"4463.1015,-263.3239 4459.0313,-253.5422 4456.1131,-263.7272 4463.1015,-263.3239\"/>\n</g>\n<!-- 186 -->\n<g id=\"node83\" class=\"node\">\n<title>186</title>\n<polygon fill=\"#fdf6f1\" stroke=\"#000000\" points=\"4655.5,-253.5 4535.5,-253.5 4535.5,-200.5 4655.5,-200.5 4655.5,-253.5\"/>\n<text text-anchor=\"middle\" x=\"4595.5\" y=\"-238.3\" font-family=\"Helvetica,sans-Serif\" font-size=\"14.00\" fill=\"#000000\">mse = 23.54</text>\n<text text-anchor=\"middle\" x=\"4595.5\" y=\"-223.3\" font-family=\"Helvetica,sans-Serif\" font-size=\"14.00\" fill=\"#000000\">samples = 1312</text>\n<text text-anchor=\"middle\" x=\"4595.5\" y=\"-208.3\" font-family=\"Helvetica,sans-Serif\" font-size=\"14.00\" fill=\"#000000\">value = 19.045</text>\n</g>\n<!-- 40&#45;&gt;186 -->\n<g id=\"edge82\" class=\"edge\">\n<title>40&#45;&gt;186</title>\n<path fill=\"none\" stroke=\"#000000\" d=\"M4506.7217,-296.9465C4521.8206,-285.0504 4538.7324,-271.726 4553.7122,-259.9237\"/>\n<polygon fill=\"#000000\" stroke=\"#000000\" points=\"4556.123,-262.4802 4561.8119,-253.5422 4551.7909,-256.9817 4556.123,-262.4802\"/>\n</g>\n<!-- 41 -->\n<g id=\"node85\" class=\"node\">\n<title>41</title>\n<polygon fill=\"#fdf6f1\" stroke=\"#000000\" points=\"4855.5,-365 4735.5,-365 4735.5,-297 4855.5,-297 4855.5,-365\"/>\n<text text-anchor=\"middle\" x=\"4795.5\" y=\"-349.8\" font-family=\"Helvetica,sans-Serif\" font-size=\"14.00\" fill=\"#000000\">Hour &lt;= 7.5</text>\n<text text-anchor=\"middle\" x=\"4795.5\" y=\"-334.8\" font-family=\"Helvetica,sans-Serif\" font-size=\"14.00\" fill=\"#000000\">mse = 25.675</text>\n<text text-anchor=\"middle\" x=\"4795.5\" y=\"-319.8\" font-family=\"Helvetica,sans-Serif\" font-size=\"14.00\" fill=\"#000000\">samples = 3081</text>\n<text text-anchor=\"middle\" x=\"4795.5\" y=\"-304.8\" font-family=\"Helvetica,sans-Serif\" font-size=\"14.00\" fill=\"#000000\">value = 18.862</text>\n</g>\n<!-- 26&#45;&gt;41 -->\n<g id=\"edge84\" class=\"edge\">\n<title>26&#45;&gt;41</title>\n<path fill=\"none\" stroke=\"#000000\" d=\"M4795.5,-400.9465C4795.5,-392.776 4795.5,-383.9318 4795.5,-375.3697\"/>\n<polygon fill=\"#000000\" stroke=\"#000000\" points=\"4799.0001,-375.13 4795.5,-365.13 4792.0001,-375.13 4799.0001,-375.13\"/>\n</g>\n<!-- 42 -->\n<g id=\"node90\" class=\"node\">\n<title>42</title>\n<polygon fill=\"#fdf3ed\" stroke=\"#000000\" points=\"5059.5,-365 4939.5,-365 4939.5,-297 5059.5,-297 5059.5,-365\"/>\n<text text-anchor=\"middle\" x=\"4999.5\" y=\"-349.8\" font-family=\"Helvetica,sans-Serif\" font-size=\"14.00\" fill=\"#000000\">Hour &lt;= 6.5</text>\n<text text-anchor=\"middle\" x=\"4999.5\" y=\"-334.8\" font-family=\"Helvetica,sans-Serif\" font-size=\"14.00\" fill=\"#000000\">mse = 33.781</text>\n<text text-anchor=\"middle\" x=\"4999.5\" y=\"-319.8\" font-family=\"Helvetica,sans-Serif\" font-size=\"14.00\" fill=\"#000000\">samples = 1189</text>\n<text text-anchor=\"middle\" x=\"4999.5\" y=\"-304.8\" font-family=\"Helvetica,sans-Serif\" font-size=\"14.00\" fill=\"#000000\">value = 22.715</text>\n</g>\n<!-- 26&#45;&gt;42 -->\n<g id=\"edge89\" class=\"edge\">\n<title>26&#45;&gt;42</title>\n<path fill=\"none\" stroke=\"#000000\" d=\"M4861.733,-401.2342C4883.7173,-390.0265 4908.2399,-377.5248 4930.4325,-366.2109\"/>\n<polygon fill=\"#000000\" stroke=\"#000000\" points=\"4932.1407,-369.2687 4939.4601,-361.6086 4928.9613,-363.0324 4932.1407,-369.2687\"/>\n</g>\n<!-- 171 -->\n<g id=\"node86\" class=\"node\">\n<title>171</title>\n<polygon fill=\"#fdf7f2\" stroke=\"#000000\" points=\"4787,-253.5 4674,-253.5 4674,-200.5 4787,-200.5 4787,-253.5\"/>\n<text text-anchor=\"middle\" x=\"4730.5\" y=\"-238.3\" font-family=\"Helvetica,sans-Serif\" font-size=\"14.00\" fill=\"#000000\">mse = 23.0</text>\n<text text-anchor=\"middle\" x=\"4730.5\" y=\"-223.3\" font-family=\"Helvetica,sans-Serif\" font-size=\"14.00\" fill=\"#000000\">samples = 803</text>\n<text text-anchor=\"middle\" x=\"4730.5\" y=\"-208.3\" font-family=\"Helvetica,sans-Serif\" font-size=\"14.00\" fill=\"#000000\">value = 17.537</text>\n</g>\n<!-- 41&#45;&gt;171 -->\n<g id=\"edge85\" class=\"edge\">\n<title>41&#45;&gt;171</title>\n<path fill=\"none\" stroke=\"#000000\" d=\"M4774.2166,-296.9465C4767.2634,-285.8215 4759.5295,-273.4473 4752.5231,-262.237\"/>\n<polygon fill=\"#000000\" stroke=\"#000000\" points=\"4755.3569,-260.1671 4747.0889,-253.5422 4749.4209,-263.8772 4755.3569,-260.1671\"/>\n</g>\n<!-- 172 -->\n<g id=\"node87\" class=\"node\">\n<title>172</title>\n<polygon fill=\"#fdf6f0\" stroke=\"#000000\" points=\"4925.5,-261 4805.5,-261 4805.5,-193 4925.5,-193 4925.5,-261\"/>\n<text text-anchor=\"middle\" x=\"4865.5\" y=\"-245.8\" font-family=\"Helvetica,sans-Serif\" font-size=\"14.00\" fill=\"#000000\">Hour &lt;= 17.5</text>\n<text text-anchor=\"middle\" x=\"4865.5\" y=\"-230.8\" font-family=\"Helvetica,sans-Serif\" font-size=\"14.00\" fill=\"#000000\">mse = 25.78</text>\n<text text-anchor=\"middle\" x=\"4865.5\" y=\"-215.8\" font-family=\"Helvetica,sans-Serif\" font-size=\"14.00\" fill=\"#000000\">samples = 2278</text>\n<text text-anchor=\"middle\" x=\"4865.5\" y=\"-200.8\" font-family=\"Helvetica,sans-Serif\" font-size=\"14.00\" fill=\"#000000\">value = 19.33</text>\n</g>\n<!-- 41&#45;&gt;172 -->\n<g id=\"edge86\" class=\"edge\">\n<title>41&#45;&gt;172</title>\n<path fill=\"none\" stroke=\"#000000\" d=\"M4818.4206,-296.9465C4824.2826,-288.2373 4830.6598,-278.7626 4836.773,-269.6801\"/>\n<polygon fill=\"#000000\" stroke=\"#000000\" points=\"4839.8476,-271.3802 4842.5279,-261.13 4834.0405,-267.4716 4839.8476,-271.3802\"/>\n</g>\n<!-- 179 -->\n<g id=\"node88\" class=\"node\">\n<title>179</title>\n<polygon fill=\"#fdf5ef\" stroke=\"#000000\" points=\"4788.5,-149.5 4668.5,-149.5 4668.5,-96.5 4788.5,-96.5 4788.5,-149.5\"/>\n<text text-anchor=\"middle\" x=\"4728.5\" y=\"-134.3\" font-family=\"Helvetica,sans-Serif\" font-size=\"14.00\" fill=\"#000000\">mse = 25.421</text>\n<text text-anchor=\"middle\" x=\"4728.5\" y=\"-119.3\" font-family=\"Helvetica,sans-Serif\" font-size=\"14.00\" fill=\"#000000\">samples = 1134</text>\n<text text-anchor=\"middle\" x=\"4728.5\" y=\"-104.3\" font-family=\"Helvetica,sans-Serif\" font-size=\"14.00\" fill=\"#000000\">value = 20.206</text>\n</g>\n<!-- 172&#45;&gt;179 -->\n<g id=\"edge87\" class=\"edge\">\n<title>172&#45;&gt;179</title>\n<path fill=\"none\" stroke=\"#000000\" d=\"M4820.6411,-192.9465C4804.8252,-180.9403 4787.0927,-167.4791 4771.4393,-155.5962\"/>\n<polygon fill=\"#000000\" stroke=\"#000000\" points=\"4773.5455,-152.8009 4763.4642,-149.5422 4769.3129,-158.3764 4773.5455,-152.8009\"/>\n</g>\n<!-- 180 -->\n<g id=\"node89\" class=\"node\">\n<title>180</title>\n<polygon fill=\"#fdf6f1\" stroke=\"#000000\" points=\"4926.5,-149.5 4806.5,-149.5 4806.5,-96.5 4926.5,-96.5 4926.5,-149.5\"/>\n<text text-anchor=\"middle\" x=\"4866.5\" y=\"-134.3\" font-family=\"Helvetica,sans-Serif\" font-size=\"14.00\" fill=\"#000000\">mse = 24.622</text>\n<text text-anchor=\"middle\" x=\"4866.5\" y=\"-119.3\" font-family=\"Helvetica,sans-Serif\" font-size=\"14.00\" fill=\"#000000\">samples = 1144</text>\n<text text-anchor=\"middle\" x=\"4866.5\" y=\"-104.3\" font-family=\"Helvetica,sans-Serif\" font-size=\"14.00\" fill=\"#000000\">value = 18.461</text>\n</g>\n<!-- 172&#45;&gt;180 -->\n<g id=\"edge88\" class=\"edge\">\n<title>172&#45;&gt;180</title>\n<path fill=\"none\" stroke=\"#000000\" d=\"M4865.8274,-192.9465C4865.9302,-182.2621 4866.044,-170.4254 4866.1483,-159.5742\"/>\n<polygon fill=\"#000000\" stroke=\"#000000\" points=\"4869.6484,-159.5754 4866.2448,-149.5422 4862.6487,-159.508 4869.6484,-159.5754\"/>\n</g>\n<!-- 173 -->\n<g id=\"node91\" class=\"node\">\n<title>173</title>\n<polygon fill=\"#fdf5ef\" stroke=\"#000000\" points=\"5055.5,-253.5 4943.5,-253.5 4943.5,-200.5 5055.5,-200.5 5055.5,-253.5\"/>\n<text text-anchor=\"middle\" x=\"4999.5\" y=\"-238.3\" font-family=\"Helvetica,sans-Serif\" font-size=\"14.00\" fill=\"#000000\">mse = 18.106</text>\n<text text-anchor=\"middle\" x=\"4999.5\" y=\"-223.3\" font-family=\"Helvetica,sans-Serif\" font-size=\"14.00\" fill=\"#000000\">samples = 315</text>\n<text text-anchor=\"middle\" x=\"4999.5\" y=\"-208.3\" font-family=\"Helvetica,sans-Serif\" font-size=\"14.00\" fill=\"#000000\">value = 20.67</text>\n</g>\n<!-- 42&#45;&gt;173 -->\n<g id=\"edge90\" class=\"edge\">\n<title>42&#45;&gt;173</title>\n<path fill=\"none\" stroke=\"#000000\" d=\"M4999.5,-296.9465C4999.5,-286.2621 4999.5,-274.4254 4999.5,-263.5742\"/>\n<polygon fill=\"#000000\" stroke=\"#000000\" points=\"5003.0001,-263.5421 4999.5,-253.5422 4996.0001,-263.5422 5003.0001,-263.5421\"/>\n</g>\n<!-- 174 -->\n<g id=\"node92\" class=\"node\">\n<title>174</title>\n<polygon fill=\"#fdf3ec\" stroke=\"#000000\" points=\"5187,-261 5074,-261 5074,-193 5187,-193 5187,-261\"/>\n<text text-anchor=\"middle\" x=\"5130.5\" y=\"-245.8\" font-family=\"Helvetica,sans-Serif\" font-size=\"14.00\" fill=\"#000000\">Hour &lt;= 17.5</text>\n<text text-anchor=\"middle\" x=\"5130.5\" y=\"-230.8\" font-family=\"Helvetica,sans-Serif\" font-size=\"14.00\" fill=\"#000000\">mse = 37.38</text>\n<text text-anchor=\"middle\" x=\"5130.5\" y=\"-215.8\" font-family=\"Helvetica,sans-Serif\" font-size=\"14.00\" fill=\"#000000\">samples = 874</text>\n<text text-anchor=\"middle\" x=\"5130.5\" y=\"-200.8\" font-family=\"Helvetica,sans-Serif\" font-size=\"14.00\" fill=\"#000000\">value = 23.452</text>\n</g>\n<!-- 42&#45;&gt;174 -->\n<g id=\"edge91\" class=\"edge\">\n<title>42&#45;&gt;174</title>\n<path fill=\"none\" stroke=\"#000000\" d=\"M5042.3943,-296.9465C5054.2693,-287.519 5067.2741,-277.1946 5079.5593,-267.4415\"/>\n<polygon fill=\"#000000\" stroke=\"#000000\" points=\"5081.8536,-270.089 5087.5093,-261.13 5077.5011,-264.6066 5081.8536,-270.089\"/>\n</g>\n<!-- 175 -->\n<g id=\"node93\" class=\"node\">\n<title>175</title>\n<polygon fill=\"#fcf2ea\" stroke=\"#000000\" points=\"5059,-149.5 4946,-149.5 4946,-96.5 5059,-96.5 5059,-149.5\"/>\n<text text-anchor=\"middle\" x=\"5002.5\" y=\"-134.3\" font-family=\"Helvetica,sans-Serif\" font-size=\"14.00\" fill=\"#000000\">mse = 48.323</text>\n<text text-anchor=\"middle\" x=\"5002.5\" y=\"-119.3\" font-family=\"Helvetica,sans-Serif\" font-size=\"14.00\" fill=\"#000000\">samples = 457</text>\n<text text-anchor=\"middle\" x=\"5002.5\" y=\"-104.3\" font-family=\"Helvetica,sans-Serif\" font-size=\"14.00\" fill=\"#000000\">value = 24.961</text>\n</g>\n<!-- 174&#45;&gt;175 -->\n<g id=\"edge92\" class=\"edge\">\n<title>174&#45;&gt;175</title>\n<path fill=\"none\" stroke=\"#000000\" d=\"M5088.588,-192.9465C5073.9467,-181.0504 5057.5474,-167.726 5043.0215,-155.9237\"/>\n<polygon fill=\"#000000\" stroke=\"#000000\" points=\"5045.1355,-153.1317 5035.1673,-149.5422 5040.7214,-158.5645 5045.1355,-153.1317\"/>\n</g>\n<!-- 176 -->\n<g id=\"node94\" class=\"node\">\n<title>176</title>\n<polygon fill=\"#fdf4ee\" stroke=\"#000000\" points=\"5190,-149.5 5077,-149.5 5077,-96.5 5190,-96.5 5190,-149.5\"/>\n<text text-anchor=\"middle\" x=\"5133.5\" y=\"-134.3\" font-family=\"Helvetica,sans-Serif\" font-size=\"14.00\" fill=\"#000000\">mse = 20.157</text>\n<text text-anchor=\"middle\" x=\"5133.5\" y=\"-119.3\" font-family=\"Helvetica,sans-Serif\" font-size=\"14.00\" fill=\"#000000\">samples = 417</text>\n<text text-anchor=\"middle\" x=\"5133.5\" y=\"-104.3\" font-family=\"Helvetica,sans-Serif\" font-size=\"14.00\" fill=\"#000000\">value = 21.799</text>\n</g>\n<!-- 174&#45;&gt;176 -->\n<g id=\"edge93\" class=\"edge\">\n<title>174&#45;&gt;176</title>\n<path fill=\"none\" stroke=\"#000000\" d=\"M5131.4823,-192.9465C5131.7905,-182.2621 5132.132,-170.4254 5132.445,-159.5742\"/>\n<polygon fill=\"#000000\" stroke=\"#000000\" points=\"5135.9445,-159.639 5132.7344,-149.5422 5128.9474,-159.4371 5135.9445,-159.639\"/>\n</g>\n<!-- 5 -->\n<g id=\"node96\" class=\"node\">\n<title>5</title>\n<polygon fill=\"#fcf0e7\" stroke=\"#000000\" points=\"5815.5,-677 5683.5,-677 5683.5,-609 5815.5,-609 5815.5,-677\"/>\n<text text-anchor=\"middle\" x=\"5749.5\" y=\"-661.8\" font-family=\"Helvetica,sans-Serif\" font-size=\"14.00\" fill=\"#000000\">distance &lt;= 2.336</text>\n<text text-anchor=\"middle\" x=\"5749.5\" y=\"-646.8\" font-family=\"Helvetica,sans-Serif\" font-size=\"14.00\" fill=\"#000000\">mse = 73.617</text>\n<text text-anchor=\"middle\" x=\"5749.5\" y=\"-631.8\" font-family=\"Helvetica,sans-Serif\" font-size=\"14.00\" fill=\"#000000\">samples = 8647</text>\n<text text-anchor=\"middle\" x=\"5749.5\" y=\"-616.8\" font-family=\"Helvetica,sans-Serif\" font-size=\"14.00\" fill=\"#000000\">value = 28.467</text>\n</g>\n<!-- 2&#45;&gt;5 -->\n<g id=\"edge95\" class=\"edge\">\n<title>2&#45;&gt;5</title>\n<path fill=\"none\" stroke=\"#000000\" d=\"M5749.5,-712.9465C5749.5,-704.776 5749.5,-695.9318 5749.5,-687.3697\"/>\n<polygon fill=\"#000000\" stroke=\"#000000\" points=\"5753.0001,-687.13 5749.5,-677.13 5746.0001,-687.13 5753.0001,-687.13\"/>\n</g>\n<!-- 6 -->\n<g id=\"node137\" class=\"node\">\n<title>6</title>\n<polygon fill=\"#f9e3d3\" stroke=\"#000000\" points=\"8279.5,-677 8147.5,-677 8147.5,-609 8279.5,-609 8279.5,-677\"/>\n<text text-anchor=\"middle\" x=\"8213.5\" y=\"-661.8\" font-family=\"Helvetica,sans-Serif\" font-size=\"14.00\" fill=\"#000000\">distance &lt;= 4.328</text>\n<text text-anchor=\"middle\" x=\"8213.5\" y=\"-646.8\" font-family=\"Helvetica,sans-Serif\" font-size=\"14.00\" fill=\"#000000\">mse = 318.751</text>\n<text text-anchor=\"middle\" x=\"8213.5\" y=\"-631.8\" font-family=\"Helvetica,sans-Serif\" font-size=\"14.00\" fill=\"#000000\">samples = 3793</text>\n<text text-anchor=\"middle\" x=\"8213.5\" y=\"-616.8\" font-family=\"Helvetica,sans-Serif\" font-size=\"14.00\" fill=\"#000000\">value = 47.421</text>\n</g>\n<!-- 2&#45;&gt;6 -->\n<g id=\"edge136\" class=\"edge\">\n<title>2&#45;&gt;6</title>\n<path fill=\"none\" stroke=\"#000000\" d=\"M5815.7245,-744.2048C6162.5308,-729.5669 7767.5646,-661.8219 8137.363,-646.2136\"/>\n<polygon fill=\"#000000\" stroke=\"#000000\" points=\"8137.5811,-649.7076 8147.4246,-645.7889 8137.2858,-642.7138 8137.5811,-649.7076\"/>\n</g>\n<!-- 17 -->\n<g id=\"node97\" class=\"node\">\n<title>17</title>\n<polygon fill=\"#fcf2eb\" stroke=\"#000000\" points=\"5675.5,-573 5555.5,-573 5555.5,-505 5675.5,-505 5675.5,-573\"/>\n<text text-anchor=\"middle\" x=\"5615.5\" y=\"-557.8\" font-family=\"Helvetica,sans-Serif\" font-size=\"14.00\" fill=\"#000000\">year &lt;= 2012.5</text>\n<text text-anchor=\"middle\" x=\"5615.5\" y=\"-542.8\" font-family=\"Helvetica,sans-Serif\" font-size=\"14.00\" fill=\"#000000\">mse = 50.402</text>\n<text text-anchor=\"middle\" x=\"5615.5\" y=\"-527.8\" font-family=\"Helvetica,sans-Serif\" font-size=\"14.00\" fill=\"#000000\">samples = 3299</text>\n<text text-anchor=\"middle\" x=\"5615.5\" y=\"-512.8\" font-family=\"Helvetica,sans-Serif\" font-size=\"14.00\" fill=\"#000000\">value = 24.687</text>\n</g>\n<!-- 5&#45;&gt;17 -->\n<g id=\"edge96\" class=\"edge\">\n<title>5&#45;&gt;17</title>\n<path fill=\"none\" stroke=\"#000000\" d=\"M5705.6234,-608.9465C5693.4765,-599.519 5680.1738,-589.1946 5667.6073,-579.4415\"/>\n<polygon fill=\"#000000\" stroke=\"#000000\" points=\"5669.521,-576.4963 5659.4752,-573.13 5665.2291,-582.0262 5669.521,-576.4963\"/>\n</g>\n<!-- 18 -->\n<g id=\"node112\" class=\"node\">\n<title>18</title>\n<polygon fill=\"#fceee4\" stroke=\"#000000\" points=\"6068.5,-573 5948.5,-573 5948.5,-505 6068.5,-505 6068.5,-573\"/>\n<text text-anchor=\"middle\" x=\"6008.5\" y=\"-557.8\" font-family=\"Helvetica,sans-Serif\" font-size=\"14.00\" fill=\"#000000\">year &lt;= 2012.5</text>\n<text text-anchor=\"middle\" x=\"6008.5\" y=\"-542.8\" font-family=\"Helvetica,sans-Serif\" font-size=\"14.00\" fill=\"#000000\">mse = 73.69</text>\n<text text-anchor=\"middle\" x=\"6008.5\" y=\"-527.8\" font-family=\"Helvetica,sans-Serif\" font-size=\"14.00\" fill=\"#000000\">samples = 5348</text>\n<text text-anchor=\"middle\" x=\"6008.5\" y=\"-512.8\" font-family=\"Helvetica,sans-Serif\" font-size=\"14.00\" fill=\"#000000\">value = 30.798</text>\n</g>\n<!-- 5&#45;&gt;18 -->\n<g id=\"edge111\" class=\"edge\">\n<title>5&#45;&gt;18</title>\n<path fill=\"none\" stroke=\"#000000\" d=\"M5815.5268,-616.4873C5853.2457,-601.3415 5900.5092,-582.3631 5938.8206,-566.9794\"/>\n<polygon fill=\"#000000\" stroke=\"#000000\" points=\"5940.381,-570.1245 5948.3566,-563.1502 5937.7726,-563.6286 5940.381,-570.1245\"/>\n</g>\n<!-- 33 -->\n<g id=\"node98\" class=\"node\">\n<title>33</title>\n<polygon fill=\"#fdf3ed\" stroke=\"#000000\" points=\"5478.5,-469 5346.5,-469 5346.5,-401 5478.5,-401 5478.5,-469\"/>\n<text text-anchor=\"middle\" x=\"5412.5\" y=\"-453.8\" font-family=\"Helvetica,sans-Serif\" font-size=\"14.00\" fill=\"#000000\">distance &lt;= 2.286</text>\n<text text-anchor=\"middle\" x=\"5412.5\" y=\"-438.8\" font-family=\"Helvetica,sans-Serif\" font-size=\"14.00\" fill=\"#000000\">mse = 38.039</text>\n<text text-anchor=\"middle\" x=\"5412.5\" y=\"-423.8\" font-family=\"Helvetica,sans-Serif\" font-size=\"14.00\" fill=\"#000000\">samples = 1981</text>\n<text text-anchor=\"middle\" x=\"5412.5\" y=\"-408.8\" font-family=\"Helvetica,sans-Serif\" font-size=\"14.00\" fill=\"#000000\">value = 22.635</text>\n</g>\n<!-- 17&#45;&gt;33 -->\n<g id=\"edge97\" class=\"edge\">\n<title>17&#45;&gt;33</title>\n<path fill=\"none\" stroke=\"#000000\" d=\"M5555.4173,-508.2187C5534.2495,-497.3741 5510.1809,-485.0434 5487.91,-473.6337\"/>\n<polygon fill=\"#000000\" stroke=\"#000000\" points=\"5489.3153,-470.4211 5478.8194,-468.9765 5486.1236,-476.6511 5489.3153,-470.4211\"/>\n</g>\n<!-- 34 -->\n<g id=\"node105\" class=\"node\">\n<title>34</title>\n<polygon fill=\"#fcf0e8\" stroke=\"#000000\" points=\"5675.5,-469 5555.5,-469 5555.5,-401 5675.5,-401 5675.5,-469\"/>\n<text text-anchor=\"middle\" x=\"5615.5\" y=\"-453.8\" font-family=\"Helvetica,sans-Serif\" font-size=\"14.00\" fill=\"#000000\">Hour &lt;= 6.5</text>\n<text text-anchor=\"middle\" x=\"5615.5\" y=\"-438.8\" font-family=\"Helvetica,sans-Serif\" font-size=\"14.00\" fill=\"#000000\">mse = 53.146</text>\n<text text-anchor=\"middle\" x=\"5615.5\" y=\"-423.8\" font-family=\"Helvetica,sans-Serif\" font-size=\"14.00\" fill=\"#000000\">samples = 1318</text>\n<text text-anchor=\"middle\" x=\"5615.5\" y=\"-408.8\" font-family=\"Helvetica,sans-Serif\" font-size=\"14.00\" fill=\"#000000\">value = 27.771</text>\n</g>\n<!-- 17&#45;&gt;34 -->\n<g id=\"edge104\" class=\"edge\">\n<title>17&#45;&gt;34</title>\n<path fill=\"none\" stroke=\"#000000\" d=\"M5615.5,-504.9465C5615.5,-496.776 5615.5,-487.9318 5615.5,-479.3697\"/>\n<polygon fill=\"#000000\" stroke=\"#000000\" points=\"5619.0001,-479.13 5615.5,-469.13 5612.0001,-479.13 5619.0001,-479.13\"/>\n</g>\n<!-- 101 -->\n<g id=\"node99\" class=\"node\">\n<title>101</title>\n<polygon fill=\"#fdf4ee\" stroke=\"#000000\" points=\"5337.5,-365 5217.5,-365 5217.5,-297 5337.5,-297 5337.5,-365\"/>\n<text text-anchor=\"middle\" x=\"5277.5\" y=\"-349.8\" font-family=\"Helvetica,sans-Serif\" font-size=\"14.00\" fill=\"#000000\">Hour &lt;= 8.5</text>\n<text text-anchor=\"middle\" x=\"5277.5\" y=\"-334.8\" font-family=\"Helvetica,sans-Serif\" font-size=\"14.00\" fill=\"#000000\">mse = 32.262</text>\n<text text-anchor=\"middle\" x=\"5277.5\" y=\"-319.8\" font-family=\"Helvetica,sans-Serif\" font-size=\"14.00\" fill=\"#000000\">samples = 1274</text>\n<text text-anchor=\"middle\" x=\"5277.5\" y=\"-304.8\" font-family=\"Helvetica,sans-Serif\" font-size=\"14.00\" fill=\"#000000\">value = 21.556</text>\n</g>\n<!-- 33&#45;&gt;101 -->\n<g id=\"edge98\" class=\"edge\">\n<title>33&#45;&gt;101</title>\n<path fill=\"none\" stroke=\"#000000\" d=\"M5368.296,-400.9465C5356.0584,-391.519 5342.6564,-381.1946 5329.9962,-371.4415\"/>\n<polygon fill=\"#000000\" stroke=\"#000000\" points=\"5331.8612,-368.4601 5321.8034,-365.13 5327.5893,-374.0055 5331.8612,-368.4601\"/>\n</g>\n<!-- 102 -->\n<g id=\"node104\" class=\"node\">\n<title>102</title>\n<polygon fill=\"#fcf2eb\" stroke=\"#000000\" points=\"5469,-357.5 5356,-357.5 5356,-304.5 5469,-304.5 5469,-357.5\"/>\n<text text-anchor=\"middle\" x=\"5412.5\" y=\"-342.3\" font-family=\"Helvetica,sans-Serif\" font-size=\"14.00\" fill=\"#000000\">mse = 42.565</text>\n<text text-anchor=\"middle\" x=\"5412.5\" y=\"-327.3\" font-family=\"Helvetica,sans-Serif\" font-size=\"14.00\" fill=\"#000000\">samples = 707</text>\n<text text-anchor=\"middle\" x=\"5412.5\" y=\"-312.3\" font-family=\"Helvetica,sans-Serif\" font-size=\"14.00\" fill=\"#000000\">value = 24.581</text>\n</g>\n<!-- 33&#45;&gt;102 -->\n<g id=\"edge103\" class=\"edge\">\n<title>33&#45;&gt;102</title>\n<path fill=\"none\" stroke=\"#000000\" d=\"M5412.5,-400.9465C5412.5,-390.2621 5412.5,-378.4254 5412.5,-367.5742\"/>\n<polygon fill=\"#000000\" stroke=\"#000000\" points=\"5416.0001,-367.5421 5412.5,-357.5422 5409.0001,-367.5422 5416.0001,-367.5421\"/>\n</g>\n<!-- 143 -->\n<g id=\"node100\" class=\"node\">\n<title>143</title>\n<polygon fill=\"#fdf5f0\" stroke=\"#000000\" points=\"5318,-253.5 5205,-253.5 5205,-200.5 5318,-200.5 5318,-253.5\"/>\n<text text-anchor=\"middle\" x=\"5261.5\" y=\"-238.3\" font-family=\"Helvetica,sans-Serif\" font-size=\"14.00\" fill=\"#000000\">mse = 18.756</text>\n<text text-anchor=\"middle\" x=\"5261.5\" y=\"-223.3\" font-family=\"Helvetica,sans-Serif\" font-size=\"14.00\" fill=\"#000000\">samples = 439</text>\n<text text-anchor=\"middle\" x=\"5261.5\" y=\"-208.3\" font-family=\"Helvetica,sans-Serif\" font-size=\"14.00\" fill=\"#000000\">value = 19.677</text>\n</g>\n<!-- 101&#45;&gt;143 -->\n<g id=\"edge99\" class=\"edge\">\n<title>101&#45;&gt;143</title>\n<path fill=\"none\" stroke=\"#000000\" d=\"M5272.261,-296.9465C5270.6172,-286.2621 5268.7962,-274.4254 5267.1268,-263.5742\"/>\n<polygon fill=\"#000000\" stroke=\"#000000\" points=\"5270.5634,-262.8937 5265.5834,-253.5422 5263.6448,-263.9581 5270.5634,-262.8937\"/>\n</g>\n<!-- 144 -->\n<g id=\"node101\" class=\"node\">\n<title>144</title>\n<polygon fill=\"#fdf4ed\" stroke=\"#000000\" points=\"5449,-261 5336,-261 5336,-193 5449,-193 5449,-261\"/>\n<text text-anchor=\"middle\" x=\"5392.5\" y=\"-245.8\" font-family=\"Helvetica,sans-Serif\" font-size=\"14.00\" fill=\"#000000\">Hour &lt;= 18.5</text>\n<text text-anchor=\"middle\" x=\"5392.5\" y=\"-230.8\" font-family=\"Helvetica,sans-Serif\" font-size=\"14.00\" fill=\"#000000\">mse = 36.532</text>\n<text text-anchor=\"middle\" x=\"5392.5\" y=\"-215.8\" font-family=\"Helvetica,sans-Serif\" font-size=\"14.00\" fill=\"#000000\">samples = 835</text>\n<text text-anchor=\"middle\" x=\"5392.5\" y=\"-200.8\" font-family=\"Helvetica,sans-Serif\" font-size=\"14.00\" fill=\"#000000\">value = 22.543</text>\n</g>\n<!-- 101&#45;&gt;144 -->\n<g id=\"edge100\" class=\"edge\">\n<title>101&#45;&gt;144</title>\n<path fill=\"none\" stroke=\"#000000\" d=\"M5315.1553,-296.9465C5325.3813,-287.6986 5336.5618,-277.5876 5347.1641,-267.9994\"/>\n<polygon fill=\"#000000\" stroke=\"#000000\" points=\"5349.6908,-270.4334 5354.7601,-261.13 5344.9956,-265.2416 5349.6908,-270.4334\"/>\n</g>\n<!-- 145 -->\n<g id=\"node102\" class=\"node\">\n<title>145</title>\n<polygon fill=\"#fcf2eb\" stroke=\"#000000\" points=\"5323,-149.5 5210,-149.5 5210,-96.5 5323,-96.5 5323,-149.5\"/>\n<text text-anchor=\"middle\" x=\"5266.5\" y=\"-134.3\" font-family=\"Helvetica,sans-Serif\" font-size=\"14.00\" fill=\"#000000\">mse = 42.469</text>\n<text text-anchor=\"middle\" x=\"5266.5\" y=\"-119.3\" font-family=\"Helvetica,sans-Serif\" font-size=\"14.00\" fill=\"#000000\">samples = 457</text>\n<text text-anchor=\"middle\" x=\"5266.5\" y=\"-104.3\" font-family=\"Helvetica,sans-Serif\" font-size=\"14.00\" fill=\"#000000\">value = 24.258</text>\n</g>\n<!-- 144&#45;&gt;145 -->\n<g id=\"edge101\" class=\"edge\">\n<title>144&#45;&gt;145</title>\n<path fill=\"none\" stroke=\"#000000\" d=\"M5351.2429,-192.9465C5336.8303,-181.0504 5320.6873,-167.726 5306.3883,-155.9237\"/>\n<polygon fill=\"#000000\" stroke=\"#000000\" points=\"5308.5971,-153.2086 5298.6569,-149.5422 5304.1411,-158.6071 5308.5971,-153.2086\"/>\n</g>\n<!-- 146 -->\n<g id=\"node103\" class=\"node\">\n<title>146</title>\n<polygon fill=\"#fdf5ef\" stroke=\"#000000\" points=\"5454,-149.5 5341,-149.5 5341,-96.5 5454,-96.5 5454,-149.5\"/>\n<text text-anchor=\"middle\" x=\"5397.5\" y=\"-134.3\" font-family=\"Helvetica,sans-Serif\" font-size=\"14.00\" fill=\"#000000\">mse = 21.507</text>\n<text text-anchor=\"middle\" x=\"5397.5\" y=\"-119.3\" font-family=\"Helvetica,sans-Serif\" font-size=\"14.00\" fill=\"#000000\">samples = 378</text>\n<text text-anchor=\"middle\" x=\"5397.5\" y=\"-104.3\" font-family=\"Helvetica,sans-Serif\" font-size=\"14.00\" fill=\"#000000\">value = 20.471</text>\n</g>\n<!-- 144&#45;&gt;146 -->\n<g id=\"edge102\" class=\"edge\">\n<title>144&#45;&gt;146</title>\n<path fill=\"none\" stroke=\"#000000\" d=\"M5394.1372,-192.9465C5394.6509,-182.2621 5395.2199,-170.4254 5395.7416,-159.5742\"/>\n<polygon fill=\"#000000\" stroke=\"#000000\" points=\"5399.2396,-159.6987 5396.2239,-149.5422 5392.2477,-159.3625 5399.2396,-159.6987\"/>\n</g>\n<!-- 93 -->\n<g id=\"node106\" class=\"node\">\n<title>93</title>\n<polygon fill=\"#fcf2eb\" stroke=\"#000000\" points=\"5600,-357.5 5487,-357.5 5487,-304.5 5600,-304.5 5600,-357.5\"/>\n<text text-anchor=\"middle\" x=\"5543.5\" y=\"-342.3\" font-family=\"Helvetica,sans-Serif\" font-size=\"14.00\" fill=\"#000000\">mse = 31.429</text>\n<text text-anchor=\"middle\" x=\"5543.5\" y=\"-327.3\" font-family=\"Helvetica,sans-Serif\" font-size=\"14.00\" fill=\"#000000\">samples = 343</text>\n<text text-anchor=\"middle\" x=\"5543.5\" y=\"-312.3\" font-family=\"Helvetica,sans-Serif\" font-size=\"14.00\" fill=\"#000000\">value = 24.576</text>\n</g>\n<!-- 34&#45;&gt;93 -->\n<g id=\"edge105\" class=\"edge\">\n<title>34&#45;&gt;93</title>\n<path fill=\"none\" stroke=\"#000000\" d=\"M5591.9245,-400.9465C5584.1463,-389.7113 5575.4861,-377.2021 5567.6645,-365.9043\"/>\n<polygon fill=\"#000000\" stroke=\"#000000\" points=\"5570.4452,-363.7719 5561.8753,-357.5422 5564.6898,-367.7564 5570.4452,-363.7719\"/>\n</g>\n<!-- 94 -->\n<g id=\"node107\" class=\"node\">\n<title>94</title>\n<polygon fill=\"#fcefe6\" stroke=\"#000000\" points=\"5731,-365 5618,-365 5618,-297 5731,-297 5731,-365\"/>\n<text text-anchor=\"middle\" x=\"5674.5\" y=\"-349.8\" font-family=\"Helvetica,sans-Serif\" font-size=\"14.00\" fill=\"#000000\">Hour &lt;= 18.5</text>\n<text text-anchor=\"middle\" x=\"5674.5\" y=\"-334.8\" font-family=\"Helvetica,sans-Serif\" font-size=\"14.00\" fill=\"#000000\">mse = 55.932</text>\n<text text-anchor=\"middle\" x=\"5674.5\" y=\"-319.8\" font-family=\"Helvetica,sans-Serif\" font-size=\"14.00\" fill=\"#000000\">samples = 975</text>\n<text text-anchor=\"middle\" x=\"5674.5\" y=\"-304.8\" font-family=\"Helvetica,sans-Serif\" font-size=\"14.00\" fill=\"#000000\">value = 28.895</text>\n</g>\n<!-- 34&#45;&gt;94 -->\n<g id=\"edge106\" class=\"edge\">\n<title>34&#45;&gt;94</title>\n<path fill=\"none\" stroke=\"#000000\" d=\"M5634.8188,-400.9465C5639.7087,-392.3271 5645.0239,-382.9579 5650.1278,-373.9611\"/>\n<polygon fill=\"#000000\" stroke=\"#000000\" points=\"5653.2476,-375.5549 5655.1378,-365.13 5647.1592,-372.1008 5653.2476,-375.5549\"/>\n</g>\n<!-- 95 -->\n<g id=\"node108\" class=\"node\">\n<title>95</title>\n<polygon fill=\"#fbeee4\" stroke=\"#000000\" points=\"5599.5,-261 5467.5,-261 5467.5,-193 5599.5,-193 5599.5,-261\"/>\n<text text-anchor=\"middle\" x=\"5533.5\" y=\"-245.8\" font-family=\"Helvetica,sans-Serif\" font-size=\"14.00\" fill=\"#000000\">distance &lt;= 2.288</text>\n<text text-anchor=\"middle\" x=\"5533.5\" y=\"-230.8\" font-family=\"Helvetica,sans-Serif\" font-size=\"14.00\" fill=\"#000000\">mse = 61.599</text>\n<text text-anchor=\"middle\" x=\"5533.5\" y=\"-215.8\" font-family=\"Helvetica,sans-Serif\" font-size=\"14.00\" fill=\"#000000\">samples = 605</text>\n<text text-anchor=\"middle\" x=\"5533.5\" y=\"-200.8\" font-family=\"Helvetica,sans-Serif\" font-size=\"14.00\" fill=\"#000000\">value = 30.857</text>\n</g>\n<!-- 94&#45;&gt;95 -->\n<g id=\"edge107\" class=\"edge\">\n<title>94&#45;&gt;95</title>\n<path fill=\"none\" stroke=\"#000000\" d=\"M5628.3313,-296.9465C5615.4281,-287.4293 5601.2855,-276.9978 5587.9517,-267.163\"/>\n<polygon fill=\"#000000\" stroke=\"#000000\" points=\"5589.8977,-264.2492 5579.7724,-261.13 5585.7425,-269.8826 5589.8977,-264.2492\"/>\n</g>\n<!-- 96 -->\n<g id=\"node111\" class=\"node\">\n<title>96</title>\n<polygon fill=\"#fcf1ea\" stroke=\"#000000\" points=\"5731,-253.5 5618,-253.5 5618,-200.5 5731,-200.5 5731,-253.5\"/>\n<text text-anchor=\"middle\" x=\"5674.5\" y=\"-238.3\" font-family=\"Helvetica,sans-Serif\" font-size=\"14.00\" fill=\"#000000\">mse = 30.074</text>\n<text text-anchor=\"middle\" x=\"5674.5\" y=\"-223.3\" font-family=\"Helvetica,sans-Serif\" font-size=\"14.00\" fill=\"#000000\">samples = 370</text>\n<text text-anchor=\"middle\" x=\"5674.5\" y=\"-208.3\" font-family=\"Helvetica,sans-Serif\" font-size=\"14.00\" fill=\"#000000\">value = 25.686</text>\n</g>\n<!-- 94&#45;&gt;96 -->\n<g id=\"edge110\" class=\"edge\">\n<title>94&#45;&gt;96</title>\n<path fill=\"none\" stroke=\"#000000\" d=\"M5674.5,-296.9465C5674.5,-286.2621 5674.5,-274.4254 5674.5,-263.5742\"/>\n<polygon fill=\"#000000\" stroke=\"#000000\" points=\"5678.0001,-263.5421 5674.5,-253.5422 5671.0001,-263.5422 5678.0001,-263.5421\"/>\n</g>\n<!-- 119 -->\n<g id=\"node109\" class=\"node\">\n<title>119</title>\n<polygon fill=\"#fcefe6\" stroke=\"#000000\" points=\"5586,-149.5 5473,-149.5 5473,-96.5 5586,-96.5 5586,-149.5\"/>\n<text text-anchor=\"middle\" x=\"5529.5\" y=\"-134.3\" font-family=\"Helvetica,sans-Serif\" font-size=\"14.00\" fill=\"#000000\">mse = 55.793</text>\n<text text-anchor=\"middle\" x=\"5529.5\" y=\"-119.3\" font-family=\"Helvetica,sans-Serif\" font-size=\"14.00\" fill=\"#000000\">samples = 377</text>\n<text text-anchor=\"middle\" x=\"5529.5\" y=\"-104.3\" font-family=\"Helvetica,sans-Serif\" font-size=\"14.00\" fill=\"#000000\">value = 29.125</text>\n</g>\n<!-- 95&#45;&gt;119 -->\n<g id=\"edge108\" class=\"edge\">\n<title>95&#45;&gt;119</title>\n<path fill=\"none\" stroke=\"#000000\" d=\"M5532.1903,-192.9465C5531.7793,-182.2621 5531.3241,-170.4254 5530.9067,-159.5742\"/>\n<polygon fill=\"#000000\" stroke=\"#000000\" points=\"5534.4027,-159.4002 5530.5209,-149.5422 5527.4079,-159.6693 5534.4027,-159.4002\"/>\n</g>\n<!-- 120 -->\n<g id=\"node110\" class=\"node\">\n<title>120</title>\n<polygon fill=\"#fbece1\" stroke=\"#000000\" points=\"5717,-149.5 5604,-149.5 5604,-96.5 5717,-96.5 5717,-149.5\"/>\n<text text-anchor=\"middle\" x=\"5660.5\" y=\"-134.3\" font-family=\"Helvetica,sans-Serif\" font-size=\"14.00\" fill=\"#000000\">mse = 58.023</text>\n<text text-anchor=\"middle\" x=\"5660.5\" y=\"-119.3\" font-family=\"Helvetica,sans-Serif\" font-size=\"14.00\" fill=\"#000000\">samples = 228</text>\n<text text-anchor=\"middle\" x=\"5660.5\" y=\"-104.3\" font-family=\"Helvetica,sans-Serif\" font-size=\"14.00\" fill=\"#000000\">value = 33.723</text>\n</g>\n<!-- 95&#45;&gt;120 -->\n<g id=\"edge109\" class=\"edge\">\n<title>95&#45;&gt;120</title>\n<path fill=\"none\" stroke=\"#000000\" d=\"M5575.0845,-192.9465C5589.6115,-181.0504 5605.8827,-167.726 5620.2951,-155.9237\"/>\n<polygon fill=\"#000000\" stroke=\"#000000\" points=\"5622.5686,-158.5858 5628.0879,-149.5422 5618.1335,-153.17 5622.5686,-158.5858\"/>\n</g>\n<!-- 21 -->\n<g id=\"node113\" class=\"node\">\n<title>21</title>\n<polygon fill=\"#fcf0e7\" stroke=\"#000000\" points=\"6074.5,-469 5942.5,-469 5942.5,-401 6074.5,-401 6074.5,-469\"/>\n<text text-anchor=\"middle\" x=\"6008.5\" y=\"-453.8\" font-family=\"Helvetica,sans-Serif\" font-size=\"14.00\" fill=\"#000000\">distance &lt;= 2.649</text>\n<text text-anchor=\"middle\" x=\"6008.5\" y=\"-438.8\" font-family=\"Helvetica,sans-Serif\" font-size=\"14.00\" fill=\"#000000\">mse = 53.957</text>\n<text text-anchor=\"middle\" x=\"6008.5\" y=\"-423.8\" font-family=\"Helvetica,sans-Serif\" font-size=\"14.00\" fill=\"#000000\">samples = 3181</text>\n<text text-anchor=\"middle\" x=\"6008.5\" y=\"-408.8\" font-family=\"Helvetica,sans-Serif\" font-size=\"14.00\" fill=\"#000000\">value = 28.159</text>\n</g>\n<!-- 18&#45;&gt;21 -->\n<g id=\"edge112\" class=\"edge\">\n<title>18&#45;&gt;21</title>\n<path fill=\"none\" stroke=\"#000000\" d=\"M6008.5,-504.9465C6008.5,-496.776 6008.5,-487.9318 6008.5,-479.3697\"/>\n<polygon fill=\"#000000\" stroke=\"#000000\" points=\"6012.0001,-479.13 6008.5,-469.13 6005.0001,-479.13 6012.0001,-479.13\"/>\n</g>\n<!-- 22 -->\n<g id=\"node124\" class=\"node\">\n<title>22</title>\n<polygon fill=\"#fbece0\" stroke=\"#000000\" points=\"6485.5,-469 6353.5,-469 6353.5,-401 6485.5,-401 6485.5,-469\"/>\n<text text-anchor=\"middle\" x=\"6419.5\" y=\"-453.8\" font-family=\"Helvetica,sans-Serif\" font-size=\"14.00\" fill=\"#000000\">distance &lt;= 2.675</text>\n<text text-anchor=\"middle\" x=\"6419.5\" y=\"-438.8\" font-family=\"Helvetica,sans-Serif\" font-size=\"14.00\" fill=\"#000000\">mse = 77.42</text>\n<text text-anchor=\"middle\" x=\"6419.5\" y=\"-423.8\" font-family=\"Helvetica,sans-Serif\" font-size=\"14.00\" fill=\"#000000\">samples = 2167</text>\n<text text-anchor=\"middle\" x=\"6419.5\" y=\"-408.8\" font-family=\"Helvetica,sans-Serif\" font-size=\"14.00\" fill=\"#000000\">value = 34.673</text>\n</g>\n<!-- 18&#45;&gt;22 -->\n<g id=\"edge123\" class=\"edge\">\n<title>18&#45;&gt;22</title>\n<path fill=\"none\" stroke=\"#000000\" d=\"M6068.7031,-523.7661C6141.5095,-505.3431 6264.1329,-474.3143 6343.4172,-454.2521\"/>\n<polygon fill=\"#000000\" stroke=\"#000000\" points=\"6344.5091,-457.5862 6353.345,-451.74 6342.7919,-450.8001 6344.5091,-457.5862\"/>\n</g>\n<!-- 51 -->\n<g id=\"node114\" class=\"node\">\n<title>51</title>\n<polygon fill=\"#fcf0e8\" stroke=\"#000000\" points=\"6000.5,-365 5880.5,-365 5880.5,-297 6000.5,-297 6000.5,-365\"/>\n<text text-anchor=\"middle\" x=\"5940.5\" y=\"-349.8\" font-family=\"Helvetica,sans-Serif\" font-size=\"14.00\" fill=\"#000000\">Hour &lt;= 6.5</text>\n<text text-anchor=\"middle\" x=\"5940.5\" y=\"-334.8\" font-family=\"Helvetica,sans-Serif\" font-size=\"14.00\" fill=\"#000000\">mse = 46.319</text>\n<text text-anchor=\"middle\" x=\"5940.5\" y=\"-319.8\" font-family=\"Helvetica,sans-Serif\" font-size=\"14.00\" fill=\"#000000\">samples = 2610</text>\n<text text-anchor=\"middle\" x=\"5940.5\" y=\"-304.8\" font-family=\"Helvetica,sans-Serif\" font-size=\"14.00\" fill=\"#000000\">value = 27.249</text>\n</g>\n<!-- 21&#45;&gt;51 -->\n<g id=\"edge113\" class=\"edge\">\n<title>21&#45;&gt;51</title>\n<path fill=\"none\" stroke=\"#000000\" d=\"M5986.2343,-400.9465C5980.5398,-392.2373 5974.3448,-382.7626 5968.4062,-373.6801\"/>\n<polygon fill=\"#000000\" stroke=\"#000000\" points=\"5971.2177,-371.5843 5962.8158,-365.13 5965.3589,-375.4151 5971.2177,-371.5843\"/>\n</g>\n<!-- 52 -->\n<g id=\"node121\" class=\"node\">\n<title>52</title>\n<polygon fill=\"#fbede3\" stroke=\"#000000\" points=\"6132.5,-365 6018.5,-365 6018.5,-297 6132.5,-297 6132.5,-365\"/>\n<text text-anchor=\"middle\" x=\"6075.5\" y=\"-349.8\" font-family=\"Helvetica,sans-Serif\" font-size=\"14.00\" fill=\"#000000\">year &lt;= 2011.5</text>\n<text text-anchor=\"middle\" x=\"6075.5\" y=\"-334.8\" font-family=\"Helvetica,sans-Serif\" font-size=\"14.00\" fill=\"#000000\">mse = 67.818</text>\n<text text-anchor=\"middle\" x=\"6075.5\" y=\"-319.8\" font-family=\"Helvetica,sans-Serif\" font-size=\"14.00\" fill=\"#000000\">samples = 571</text>\n<text text-anchor=\"middle\" x=\"6075.5\" y=\"-304.8\" font-family=\"Helvetica,sans-Serif\" font-size=\"14.00\" fill=\"#000000\">value = 32.315</text>\n</g>\n<!-- 21&#45;&gt;52 -->\n<g id=\"edge120\" class=\"edge\">\n<title>21&#45;&gt;52</title>\n<path fill=\"none\" stroke=\"#000000\" d=\"M6030.4383,-400.9465C6036.049,-392.2373 6042.1529,-382.7626 6048.0042,-373.6801\"/>\n<polygon fill=\"#000000\" stroke=\"#000000\" points=\"6051.0389,-375.4321 6053.5124,-365.13 6045.1543,-371.641 6051.0389,-375.4321\"/>\n</g>\n<!-- 85 -->\n<g id=\"node115\" class=\"node\">\n<title>85</title>\n<polygon fill=\"#fcf2eb\" stroke=\"#000000\" points=\"5862,-253.5 5749,-253.5 5749,-200.5 5862,-200.5 5862,-253.5\"/>\n<text text-anchor=\"middle\" x=\"5805.5\" y=\"-238.3\" font-family=\"Helvetica,sans-Serif\" font-size=\"14.00\" fill=\"#000000\">mse = 30.884</text>\n<text text-anchor=\"middle\" x=\"5805.5\" y=\"-223.3\" font-family=\"Helvetica,sans-Serif\" font-size=\"14.00\" fill=\"#000000\">samples = 593</text>\n<text text-anchor=\"middle\" x=\"5805.5\" y=\"-208.3\" font-family=\"Helvetica,sans-Serif\" font-size=\"14.00\" fill=\"#000000\">value = 24.499</text>\n</g>\n<!-- 51&#45;&gt;85 -->\n<g id=\"edge114\" class=\"edge\">\n<title>51&#45;&gt;85</title>\n<path fill=\"none\" stroke=\"#000000\" d=\"M5896.296,-296.9465C5880.8539,-285.0504 5863.5578,-271.726 5848.2375,-259.9237\"/>\n<polygon fill=\"#000000\" stroke=\"#000000\" points=\"5850.0117,-256.8723 5839.9538,-253.5422 5845.7397,-262.4176 5850.0117,-256.8723\"/>\n</g>\n<!-- 86 -->\n<g id=\"node116\" class=\"node\">\n<title>86</title>\n<polygon fill=\"#fcf0e7\" stroke=\"#000000\" points=\"6000.5,-261 5880.5,-261 5880.5,-193 6000.5,-193 6000.5,-261\"/>\n<text text-anchor=\"middle\" x=\"5940.5\" y=\"-245.8\" font-family=\"Helvetica,sans-Serif\" font-size=\"14.00\" fill=\"#000000\">Hour &lt;= 18.5</text>\n<text text-anchor=\"middle\" x=\"5940.5\" y=\"-230.8\" font-family=\"Helvetica,sans-Serif\" font-size=\"14.00\" fill=\"#000000\">mse = 47.978</text>\n<text text-anchor=\"middle\" x=\"5940.5\" y=\"-215.8\" font-family=\"Helvetica,sans-Serif\" font-size=\"14.00\" fill=\"#000000\">samples = 2017</text>\n<text text-anchor=\"middle\" x=\"5940.5\" y=\"-200.8\" font-family=\"Helvetica,sans-Serif\" font-size=\"14.00\" fill=\"#000000\">value = 28.058</text>\n</g>\n<!-- 51&#45;&gt;86 -->\n<g id=\"edge115\" class=\"edge\">\n<title>51&#45;&gt;86</title>\n<path fill=\"none\" stroke=\"#000000\" d=\"M5940.5,-296.9465C5940.5,-288.776 5940.5,-279.9318 5940.5,-271.3697\"/>\n<polygon fill=\"#000000\" stroke=\"#000000\" points=\"5944.0001,-271.13 5940.5,-261.13 5937.0001,-271.13 5944.0001,-271.13\"/>\n</g>\n<!-- 87 -->\n<g id=\"node117\" class=\"node\">\n<title>87</title>\n<polygon fill=\"#fcefe6\" stroke=\"#000000\" points=\"5932.5,-157 5812.5,-157 5812.5,-89 5932.5,-89 5932.5,-157\"/>\n<text text-anchor=\"middle\" x=\"5872.5\" y=\"-141.8\" font-family=\"Helvetica,sans-Serif\" font-size=\"14.00\" fill=\"#000000\">year &lt;= 2011.5</text>\n<text text-anchor=\"middle\" x=\"5872.5\" y=\"-126.8\" font-family=\"Helvetica,sans-Serif\" font-size=\"14.00\" fill=\"#000000\">mse = 51.473</text>\n<text text-anchor=\"middle\" x=\"5872.5\" y=\"-111.8\" font-family=\"Helvetica,sans-Serif\" font-size=\"14.00\" fill=\"#000000\">samples = 1358</text>\n<text text-anchor=\"middle\" x=\"5872.5\" y=\"-96.8\" font-family=\"Helvetica,sans-Serif\" font-size=\"14.00\" fill=\"#000000\">value = 29.345</text>\n</g>\n<!-- 86&#45;&gt;87 -->\n<g id=\"edge116\" class=\"edge\">\n<title>86&#45;&gt;87</title>\n<path fill=\"none\" stroke=\"#000000\" d=\"M5918.2343,-192.9465C5912.5398,-184.2373 5906.3448,-174.7626 5900.4062,-165.6801\"/>\n<polygon fill=\"#000000\" stroke=\"#000000\" points=\"5903.2177,-163.5843 5894.8158,-157.13 5897.3589,-167.4151 5903.2177,-163.5843\"/>\n</g>\n<!-- 88 -->\n<g id=\"node120\" class=\"node\">\n<title>88</title>\n<polygon fill=\"#fcf2ea\" stroke=\"#000000\" points=\"6064,-149.5 5951,-149.5 5951,-96.5 6064,-96.5 6064,-149.5\"/>\n<text text-anchor=\"middle\" x=\"6007.5\" y=\"-134.3\" font-family=\"Helvetica,sans-Serif\" font-size=\"14.00\" fill=\"#000000\">mse = 30.331</text>\n<text text-anchor=\"middle\" x=\"6007.5\" y=\"-119.3\" font-family=\"Helvetica,sans-Serif\" font-size=\"14.00\" fill=\"#000000\">samples = 659</text>\n<text text-anchor=\"middle\" x=\"6007.5\" y=\"-104.3\" font-family=\"Helvetica,sans-Serif\" font-size=\"14.00\" fill=\"#000000\">value = 25.407</text>\n</g>\n<!-- 86&#45;&gt;88 -->\n<g id=\"edge119\" class=\"edge\">\n<title>86&#45;&gt;88</title>\n<path fill=\"none\" stroke=\"#000000\" d=\"M5962.4383,-192.9465C5969.6054,-181.8215 5977.5773,-169.4473 5984.7993,-158.237\"/>\n<polygon fill=\"#000000\" stroke=\"#000000\" points=\"5987.9272,-159.8442 5990.4007,-149.5422 5982.0426,-156.0532 5987.9272,-159.8442\"/>\n</g>\n<!-- 149 -->\n<g id=\"node118\" class=\"node\">\n<title>149</title>\n<polygon fill=\"#fcf0e7\" stroke=\"#000000\" points=\"5863,-53 5750,-53 5750,0 5863,0 5863,-53\"/>\n<text text-anchor=\"middle\" x=\"5806.5\" y=\"-37.8\" font-family=\"Helvetica,sans-Serif\" font-size=\"14.00\" fill=\"#000000\">mse = 47.675</text>\n<text text-anchor=\"middle\" x=\"5806.5\" y=\"-22.8\" font-family=\"Helvetica,sans-Serif\" font-size=\"14.00\" fill=\"#000000\">samples = 970</text>\n<text text-anchor=\"middle\" x=\"5806.5\" y=\"-7.8\" font-family=\"Helvetica,sans-Serif\" font-size=\"14.00\" fill=\"#000000\">value = 28.536</text>\n</g>\n<!-- 87&#45;&gt;149 -->\n<g id=\"edge117\" class=\"edge\">\n<title>87&#45;&gt;149</title>\n<path fill=\"none\" stroke=\"#000000\" d=\"M5849.2309,-88.9777C5843.156,-80.0954 5836.5979,-70.5067 5830.4865,-61.5711\"/>\n<polygon fill=\"#000000\" stroke=\"#000000\" points=\"5833.3286,-59.5267 5824.7943,-53.2485 5827.5507,-63.4785 5833.3286,-59.5267\"/>\n</g>\n<!-- 150 -->\n<g id=\"node119\" class=\"node\">\n<title>150</title>\n<polygon fill=\"#fbeee4\" stroke=\"#000000\" points=\"5994,-53 5881,-53 5881,0 5994,0 5994,-53\"/>\n<text text-anchor=\"middle\" x=\"5937.5\" y=\"-37.8\" font-family=\"Helvetica,sans-Serif\" font-size=\"14.00\" fill=\"#000000\">mse = 55.24</text>\n<text text-anchor=\"middle\" x=\"5937.5\" y=\"-22.8\" font-family=\"Helvetica,sans-Serif\" font-size=\"14.00\" fill=\"#000000\">samples = 388</text>\n<text text-anchor=\"middle\" x=\"5937.5\" y=\"-7.8\" font-family=\"Helvetica,sans-Serif\" font-size=\"14.00\" fill=\"#000000\">value = 31.368</text>\n</g>\n<!-- 87&#45;&gt;150 -->\n<g id=\"edge118\" class=\"edge\">\n<title>87&#45;&gt;150</title>\n<path fill=\"none\" stroke=\"#000000\" d=\"M5895.4166,-88.9777C5901.3994,-80.0954 5907.8582,-70.5067 5913.877,-61.5711\"/>\n<polygon fill=\"#000000\" stroke=\"#000000\" points=\"5916.7991,-63.4978 5919.4829,-53.2485 5910.9933,-59.5871 5916.7991,-63.4978\"/>\n</g>\n<!-- 193 -->\n<g id=\"node122\" class=\"node\">\n<title>193</title>\n<polygon fill=\"#fbeee4\" stroke=\"#000000\" points=\"6132,-253.5 6019,-253.5 6019,-200.5 6132,-200.5 6132,-253.5\"/>\n<text text-anchor=\"middle\" x=\"6075.5\" y=\"-238.3\" font-family=\"Helvetica,sans-Serif\" font-size=\"14.00\" fill=\"#000000\">mse = 57.15</text>\n<text text-anchor=\"middle\" x=\"6075.5\" y=\"-223.3\" font-family=\"Helvetica,sans-Serif\" font-size=\"14.00\" fill=\"#000000\">samples = 409</text>\n<text text-anchor=\"middle\" x=\"6075.5\" y=\"-208.3\" font-family=\"Helvetica,sans-Serif\" font-size=\"14.00\" fill=\"#000000\">value = 31.283</text>\n</g>\n<!-- 52&#45;&gt;193 -->\n<g id=\"edge121\" class=\"edge\">\n<title>52&#45;&gt;193</title>\n<path fill=\"none\" stroke=\"#000000\" d=\"M6075.5,-296.9465C6075.5,-286.2621 6075.5,-274.4254 6075.5,-263.5742\"/>\n<polygon fill=\"#000000\" stroke=\"#000000\" points=\"6079.0001,-263.5421 6075.5,-253.5422 6072.0001,-263.5422 6079.0001,-263.5421\"/>\n</g>\n<!-- 194 -->\n<g id=\"node123\" class=\"node\">\n<title>194</title>\n<polygon fill=\"#fbebe0\" stroke=\"#000000\" points=\"6263,-253.5 6150,-253.5 6150,-200.5 6263,-200.5 6263,-253.5\"/>\n<text text-anchor=\"middle\" x=\"6206.5\" y=\"-238.3\" font-family=\"Helvetica,sans-Serif\" font-size=\"14.00\" fill=\"#000000\">mse = 85.267</text>\n<text text-anchor=\"middle\" x=\"6206.5\" y=\"-223.3\" font-family=\"Helvetica,sans-Serif\" font-size=\"14.00\" fill=\"#000000\">samples = 162</text>\n<text text-anchor=\"middle\" x=\"6206.5\" y=\"-208.3\" font-family=\"Helvetica,sans-Serif\" font-size=\"14.00\" fill=\"#000000\">value = 34.922</text>\n</g>\n<!-- 52&#45;&gt;194 -->\n<g id=\"edge122\" class=\"edge\">\n<title>52&#45;&gt;194</title>\n<path fill=\"none\" stroke=\"#000000\" d=\"M6118.3943,-296.9465C6133.3788,-285.0504 6150.1624,-271.726 6165.0288,-259.9237\"/>\n<polygon fill=\"#000000\" stroke=\"#000000\" points=\"6167.4113,-262.5011 6173.0671,-253.5422 6163.0589,-257.0187 6167.4113,-262.5011\"/>\n</g>\n<!-- 43 -->\n<g id=\"node125\" class=\"node\">\n<title>43</title>\n<polygon fill=\"#fbece1\" stroke=\"#000000\" points=\"6479.5,-365 6359.5,-365 6359.5,-297 6479.5,-297 6479.5,-365\"/>\n<text text-anchor=\"middle\" x=\"6419.5\" y=\"-349.8\" font-family=\"Helvetica,sans-Serif\" font-size=\"14.00\" fill=\"#000000\">Hour &lt;= 4.5</text>\n<text text-anchor=\"middle\" x=\"6419.5\" y=\"-334.8\" font-family=\"Helvetica,sans-Serif\" font-size=\"14.00\" fill=\"#000000\">mse = 67.119</text>\n<text text-anchor=\"middle\" x=\"6419.5\" y=\"-319.8\" font-family=\"Helvetica,sans-Serif\" font-size=\"14.00\" fill=\"#000000\">samples = 1846</text>\n<text text-anchor=\"middle\" x=\"6419.5\" y=\"-304.8\" font-family=\"Helvetica,sans-Serif\" font-size=\"14.00\" fill=\"#000000\">value = 33.664</text>\n</g>\n<!-- 22&#45;&gt;43 -->\n<g id=\"edge124\" class=\"edge\">\n<title>22&#45;&gt;43</title>\n<path fill=\"none\" stroke=\"#000000\" d=\"M6419.5,-400.9465C6419.5,-392.776 6419.5,-383.9318 6419.5,-375.3697\"/>\n<polygon fill=\"#000000\" stroke=\"#000000\" points=\"6423.0001,-375.13 6419.5,-365.13 6416.0001,-375.13 6423.0001,-375.13\"/>\n</g>\n<!-- 44 -->\n<g id=\"node134\" class=\"node\">\n<title>44</title>\n<polygon fill=\"#fae8da\" stroke=\"#000000\" points=\"6682.5,-365 6570.5,-365 6570.5,-297 6682.5,-297 6682.5,-365\"/>\n<text text-anchor=\"middle\" x=\"6626.5\" y=\"-349.8\" font-family=\"Helvetica,sans-Serif\" font-size=\"14.00\" fill=\"#000000\">Hour &lt;= 2.5</text>\n<text text-anchor=\"middle\" x=\"6626.5\" y=\"-334.8\" font-family=\"Helvetica,sans-Serif\" font-size=\"14.00\" fill=\"#000000\">mse = 97.197</text>\n<text text-anchor=\"middle\" x=\"6626.5\" y=\"-319.8\" font-family=\"Helvetica,sans-Serif\" font-size=\"14.00\" fill=\"#000000\">samples = 321</text>\n<text text-anchor=\"middle\" x=\"6626.5\" y=\"-304.8\" font-family=\"Helvetica,sans-Serif\" font-size=\"14.00\" fill=\"#000000\">value = 40.47</text>\n</g>\n<!-- 22&#45;&gt;44 -->\n<g id=\"edge133\" class=\"edge\">\n<title>22&#45;&gt;44</title>\n<path fill=\"none\" stroke=\"#000000\" d=\"M6485.5652,-401.8078C6509.801,-389.6314 6537.2017,-375.8648 6561.3561,-363.7293\"/>\n<polygon fill=\"#000000\" stroke=\"#000000\" points=\"6563.0769,-366.7817 6570.4412,-359.1648 6559.9343,-360.5268 6563.0769,-366.7817\"/>\n</g>\n<!-- 79 -->\n<g id=\"node126\" class=\"node\">\n<title>79</title>\n<polygon fill=\"#fcefe6\" stroke=\"#000000\" points=\"6413.5,-261 6281.5,-261 6281.5,-193 6413.5,-193 6413.5,-261\"/>\n<text text-anchor=\"middle\" x=\"6347.5\" y=\"-245.8\" font-family=\"Helvetica,sans-Serif\" font-size=\"14.00\" fill=\"#000000\">distance &lt;= 2.573</text>\n<text text-anchor=\"middle\" x=\"6347.5\" y=\"-230.8\" font-family=\"Helvetica,sans-Serif\" font-size=\"14.00\" fill=\"#000000\">mse = 62.601</text>\n<text text-anchor=\"middle\" x=\"6347.5\" y=\"-215.8\" font-family=\"Helvetica,sans-Serif\" font-size=\"14.00\" fill=\"#000000\">samples = 289</text>\n<text text-anchor=\"middle\" x=\"6347.5\" y=\"-200.8\" font-family=\"Helvetica,sans-Serif\" font-size=\"14.00\" fill=\"#000000\">value = 29.411</text>\n</g>\n<!-- 43&#45;&gt;79 -->\n<g id=\"edge125\" class=\"edge\">\n<title>43&#45;&gt;79</title>\n<path fill=\"none\" stroke=\"#000000\" d=\"M6395.9245,-296.9465C6389.8329,-288.1475 6383.2004,-278.5672 6376.8534,-269.3993\"/>\n<polygon fill=\"#000000\" stroke=\"#000000\" points=\"6379.6983,-267.3597 6371.1285,-261.13 6373.9429,-271.3442 6379.6983,-267.3597\"/>\n</g>\n<!-- 80 -->\n<g id=\"node129\" class=\"node\">\n<title>80</title>\n<polygon fill=\"#fbece1\" stroke=\"#000000\" points=\"6551.5,-261 6431.5,-261 6431.5,-193 6551.5,-193 6551.5,-261\"/>\n<text text-anchor=\"middle\" x=\"6491.5\" y=\"-245.8\" font-family=\"Helvetica,sans-Serif\" font-size=\"14.00\" fill=\"#000000\">Hour &lt;= 18.5</text>\n<text text-anchor=\"middle\" x=\"6491.5\" y=\"-230.8\" font-family=\"Helvetica,sans-Serif\" font-size=\"14.00\" fill=\"#000000\">mse = 63.977</text>\n<text text-anchor=\"middle\" x=\"6491.5\" y=\"-215.8\" font-family=\"Helvetica,sans-Serif\" font-size=\"14.00\" fill=\"#000000\">samples = 1557</text>\n<text text-anchor=\"middle\" x=\"6491.5\" y=\"-200.8\" font-family=\"Helvetica,sans-Serif\" font-size=\"14.00\" fill=\"#000000\">value = 34.454</text>\n</g>\n<!-- 43&#45;&gt;80 -->\n<g id=\"edge128\" class=\"edge\">\n<title>43&#45;&gt;80</title>\n<path fill=\"none\" stroke=\"#000000\" d=\"M6443.0755,-296.9465C6449.1671,-288.1475 6455.7996,-278.5672 6462.1466,-269.3993\"/>\n<polygon fill=\"#000000\" stroke=\"#000000\" points=\"6465.0571,-271.3442 6467.8715,-261.13 6459.3017,-267.3597 6465.0571,-271.3442\"/>\n</g>\n<!-- 163 -->\n<g id=\"node127\" class=\"node\">\n<title>163</title>\n<polygon fill=\"#fcf0e7\" stroke=\"#000000\" points=\"6274,-149.5 6161,-149.5 6161,-96.5 6274,-96.5 6274,-149.5\"/>\n<text text-anchor=\"middle\" x=\"6217.5\" y=\"-134.3\" font-family=\"Helvetica,sans-Serif\" font-size=\"14.00\" fill=\"#000000\">mse = 33.864</text>\n<text text-anchor=\"middle\" x=\"6217.5\" y=\"-119.3\" font-family=\"Helvetica,sans-Serif\" font-size=\"14.00\" fill=\"#000000\">samples = 220</text>\n<text text-anchor=\"middle\" x=\"6217.5\" y=\"-104.3\" font-family=\"Helvetica,sans-Serif\" font-size=\"14.00\" fill=\"#000000\">value = 27.936</text>\n</g>\n<!-- 79&#45;&gt;163 -->\n<g id=\"edge126\" class=\"edge\">\n<title>79&#45;&gt;163</title>\n<path fill=\"none\" stroke=\"#000000\" d=\"M6304.9331,-192.9465C6290.063,-181.0504 6273.4075,-167.726 6258.6546,-155.9237\"/>\n<polygon fill=\"#000000\" stroke=\"#000000\" points=\"6260.6729,-153.0561 6250.6777,-149.5422 6256.3,-158.5222 6260.6729,-153.0561\"/>\n</g>\n<!-- 164 -->\n<g id=\"node128\" class=\"node\">\n<title>164</title>\n<polygon fill=\"#fbece1\" stroke=\"#000000\" points=\"6405,-149.5 6292,-149.5 6292,-96.5 6405,-96.5 6405,-149.5\"/>\n<text text-anchor=\"middle\" x=\"6348.5\" y=\"-134.3\" font-family=\"Helvetica,sans-Serif\" font-size=\"14.00\" fill=\"#000000\">mse = 125.164</text>\n<text text-anchor=\"middle\" x=\"6348.5\" y=\"-119.3\" font-family=\"Helvetica,sans-Serif\" font-size=\"14.00\" fill=\"#000000\">samples = 69</text>\n<text text-anchor=\"middle\" x=\"6348.5\" y=\"-104.3\" font-family=\"Helvetica,sans-Serif\" font-size=\"14.00\" fill=\"#000000\">value = 34.114</text>\n</g>\n<!-- 79&#45;&gt;164 -->\n<g id=\"edge127\" class=\"edge\">\n<title>79&#45;&gt;164</title>\n<path fill=\"none\" stroke=\"#000000\" d=\"M6347.8274,-192.9465C6347.9302,-182.2621 6348.044,-170.4254 6348.1483,-159.5742\"/>\n<polygon fill=\"#000000\" stroke=\"#000000\" points=\"6351.6484,-159.5754 6348.2448,-149.5422 6344.6487,-159.508 6351.6484,-159.5754\"/>\n</g>\n<!-- 81 -->\n<g id=\"node130\" class=\"node\">\n<title>81</title>\n<polygon fill=\"#fbebdf\" stroke=\"#000000\" points=\"6547.5,-157 6427.5,-157 6427.5,-89 6547.5,-89 6547.5,-157\"/>\n<text text-anchor=\"middle\" x=\"6487.5\" y=\"-141.8\" font-family=\"Helvetica,sans-Serif\" font-size=\"14.00\" fill=\"#000000\">Hour &lt;= 7.5</text>\n<text text-anchor=\"middle\" x=\"6487.5\" y=\"-126.8\" font-family=\"Helvetica,sans-Serif\" font-size=\"14.00\" fill=\"#000000\">mse = 65.504</text>\n<text text-anchor=\"middle\" x=\"6487.5\" y=\"-111.8\" font-family=\"Helvetica,sans-Serif\" font-size=\"14.00\" fill=\"#000000\">samples = 1062</text>\n<text text-anchor=\"middle\" x=\"6487.5\" y=\"-96.8\" font-family=\"Helvetica,sans-Serif\" font-size=\"14.00\" fill=\"#000000\">value = 35.825</text>\n</g>\n<!-- 80&#45;&gt;81 -->\n<g id=\"edge129\" class=\"edge\">\n<title>80&#45;&gt;81</title>\n<path fill=\"none\" stroke=\"#000000\" d=\"M6490.1903,-192.9465C6489.876,-184.776 6489.5358,-175.9318 6489.2065,-167.3697\"/>\n<polygon fill=\"#000000\" stroke=\"#000000\" points=\"6492.6945,-166.9881 6488.8127,-157.13 6485.6997,-167.2572 6492.6945,-166.9881\"/>\n</g>\n<!-- 82 -->\n<g id=\"node133\" class=\"node\">\n<title>82</title>\n<polygon fill=\"#fbeee4\" stroke=\"#000000\" points=\"6679,-149.5 6566,-149.5 6566,-96.5 6679,-96.5 6679,-149.5\"/>\n<text text-anchor=\"middle\" x=\"6622.5\" y=\"-134.3\" font-family=\"Helvetica,sans-Serif\" font-size=\"14.00\" fill=\"#000000\">mse = 48.004</text>\n<text text-anchor=\"middle\" x=\"6622.5\" y=\"-119.3\" font-family=\"Helvetica,sans-Serif\" font-size=\"14.00\" fill=\"#000000\">samples = 495</text>\n<text text-anchor=\"middle\" x=\"6622.5\" y=\"-104.3\" font-family=\"Helvetica,sans-Serif\" font-size=\"14.00\" fill=\"#000000\">value = 31.511</text>\n</g>\n<!-- 80&#45;&gt;82 -->\n<g id=\"edge132\" class=\"edge\">\n<title>80&#45;&gt;82</title>\n<path fill=\"none\" stroke=\"#000000\" d=\"M6534.3943,-192.9465C6549.3788,-181.0504 6566.1624,-167.726 6581.0288,-155.9237\"/>\n<polygon fill=\"#000000\" stroke=\"#000000\" points=\"6583.4113,-158.5011 6589.0671,-149.5422 6579.0589,-153.0187 6583.4113,-158.5011\"/>\n</g>\n<!-- 159 -->\n<g id=\"node131\" class=\"node\">\n<title>159</title>\n<polygon fill=\"#fbede3\" stroke=\"#000000\" points=\"6451,-53 6338,-53 6338,0 6451,0 6451,-53\"/>\n<text text-anchor=\"middle\" x=\"6394.5\" y=\"-37.8\" font-family=\"Helvetica,sans-Serif\" font-size=\"14.00\" fill=\"#000000\">mse = 107.193</text>\n<text text-anchor=\"middle\" x=\"6394.5\" y=\"-22.8\" font-family=\"Helvetica,sans-Serif\" font-size=\"14.00\" fill=\"#000000\">samples = 162</text>\n<text text-anchor=\"middle\" x=\"6394.5\" y=\"-7.8\" font-family=\"Helvetica,sans-Serif\" font-size=\"14.00\" fill=\"#000000\">value = 32.492</text>\n</g>\n<!-- 81&#45;&gt;159 -->\n<g id=\"edge130\" class=\"edge\">\n<title>81&#45;&gt;159</title>\n<path fill=\"none\" stroke=\"#000000\" d=\"M6454.7117,-88.9777C6445.7986,-79.7292 6436.1473,-69.7147 6427.2371,-60.4691\"/>\n<polygon fill=\"#000000\" stroke=\"#000000\" points=\"6429.7378,-58.0202 6420.2783,-53.2485 6424.6975,-62.8777 6429.7378,-58.0202\"/>\n</g>\n<!-- 160 -->\n<g id=\"node132\" class=\"node\">\n<title>160</title>\n<polygon fill=\"#fbeadf\" stroke=\"#000000\" points=\"6582,-53 6469,-53 6469,0 6582,0 6582,-53\"/>\n<text text-anchor=\"middle\" x=\"6525.5\" y=\"-37.8\" font-family=\"Helvetica,sans-Serif\" font-size=\"14.00\" fill=\"#000000\">mse = 55.64</text>\n<text text-anchor=\"middle\" x=\"6525.5\" y=\"-22.8\" font-family=\"Helvetica,sans-Serif\" font-size=\"14.00\" fill=\"#000000\">samples = 900</text>\n<text text-anchor=\"middle\" x=\"6525.5\" y=\"-7.8\" font-family=\"Helvetica,sans-Serif\" font-size=\"14.00\" fill=\"#000000\">value = 36.425</text>\n</g>\n<!-- 81&#45;&gt;160 -->\n<g id=\"edge131\" class=\"edge\">\n<title>81&#45;&gt;160</title>\n<path fill=\"none\" stroke=\"#000000\" d=\"M6500.8974,-88.9777C6504.2508,-80.4617 6507.86,-71.2963 6511.253,-62.6798\"/>\n<polygon fill=\"#000000\" stroke=\"#000000\" points=\"6514.5595,-63.8355 6514.9669,-53.2485 6508.0463,-61.2707 6514.5595,-63.8355\"/>\n</g>\n<!-- 153 -->\n<g id=\"node135\" class=\"node\">\n<title>153</title>\n<polygon fill=\"#fbece1\" stroke=\"#000000\" points=\"6683,-253.5 6570,-253.5 6570,-200.5 6683,-200.5 6683,-253.5\"/>\n<text text-anchor=\"middle\" x=\"6626.5\" y=\"-238.3\" font-family=\"Helvetica,sans-Serif\" font-size=\"14.00\" fill=\"#000000\">mse = 25.213</text>\n<text text-anchor=\"middle\" x=\"6626.5\" y=\"-223.3\" font-family=\"Helvetica,sans-Serif\" font-size=\"14.00\" fill=\"#000000\">samples = 49</text>\n<text text-anchor=\"middle\" x=\"6626.5\" y=\"-208.3\" font-family=\"Helvetica,sans-Serif\" font-size=\"14.00\" fill=\"#000000\">value = 34.334</text>\n</g>\n<!-- 44&#45;&gt;153 -->\n<g id=\"edge134\" class=\"edge\">\n<title>44&#45;&gt;153</title>\n<path fill=\"none\" stroke=\"#000000\" d=\"M6626.5,-296.9465C6626.5,-286.2621 6626.5,-274.4254 6626.5,-263.5742\"/>\n<polygon fill=\"#000000\" stroke=\"#000000\" points=\"6630.0001,-263.5421 6626.5,-253.5422 6623.0001,-263.5422 6630.0001,-263.5421\"/>\n</g>\n<!-- 154 -->\n<g id=\"node136\" class=\"node\">\n<title>154</title>\n<polygon fill=\"#fae7d9\" stroke=\"#000000\" points=\"6814,-253.5 6701,-253.5 6701,-200.5 6814,-200.5 6814,-253.5\"/>\n<text text-anchor=\"middle\" x=\"6757.5\" y=\"-238.3\" font-family=\"Helvetica,sans-Serif\" font-size=\"14.00\" fill=\"#000000\">mse = 102.16</text>\n<text text-anchor=\"middle\" x=\"6757.5\" y=\"-223.3\" font-family=\"Helvetica,sans-Serif\" font-size=\"14.00\" fill=\"#000000\">samples = 272</text>\n<text text-anchor=\"middle\" x=\"6757.5\" y=\"-208.3\" font-family=\"Helvetica,sans-Serif\" font-size=\"14.00\" fill=\"#000000\">value = 41.576</text>\n</g>\n<!-- 44&#45;&gt;154 -->\n<g id=\"edge135\" class=\"edge\">\n<title>44&#45;&gt;154</title>\n<path fill=\"none\" stroke=\"#000000\" d=\"M6669.3943,-296.9465C6684.3788,-285.0504 6701.1624,-271.726 6716.0288,-259.9237\"/>\n<polygon fill=\"#000000\" stroke=\"#000000\" points=\"6718.4113,-262.5011 6724.0671,-253.5422 6714.0589,-257.0187 6718.4113,-262.5011\"/>\n</g>\n<!-- 7 -->\n<g id=\"node138\" class=\"node\">\n<title>7</title>\n<polygon fill=\"#f9e1d0\" stroke=\"#000000\" points=\"8279.5,-573 8147.5,-573 8147.5,-505 8279.5,-505 8279.5,-573\"/>\n<text text-anchor=\"middle\" x=\"8213.5\" y=\"-557.8\" font-family=\"Helvetica,sans-Serif\" font-size=\"14.00\" fill=\"#000000\">distance &lt;= 3.483</text>\n<text text-anchor=\"middle\" x=\"8213.5\" y=\"-542.8\" font-family=\"Helvetica,sans-Serif\" font-size=\"14.00\" fill=\"#000000\">mse = 211.618</text>\n<text text-anchor=\"middle\" x=\"8213.5\" y=\"-527.8\" font-family=\"Helvetica,sans-Serif\" font-size=\"14.00\" fill=\"#000000\">samples = 3433</text>\n<text text-anchor=\"middle\" x=\"8213.5\" y=\"-512.8\" font-family=\"Helvetica,sans-Serif\" font-size=\"14.00\" fill=\"#000000\">value = 50.746</text>\n</g>\n<!-- 6&#45;&gt;7 -->\n<g id=\"edge137\" class=\"edge\">\n<title>6&#45;&gt;7</title>\n<path fill=\"none\" stroke=\"#000000\" d=\"M8213.5,-608.9465C8213.5,-600.776 8213.5,-591.9318 8213.5,-583.3697\"/>\n<polygon fill=\"#000000\" stroke=\"#000000\" points=\"8217.0001,-583.13 8213.5,-573.13 8210.0001,-583.13 8217.0001,-583.13\"/>\n</g>\n<!-- 8 -->\n<g id=\"node183\" class=\"node\">\n<title>8</title>\n<polygon fill=\"#fef8f4\" stroke=\"#000000\" points=\"9146.5,-573 9014.5,-573 9014.5,-505 9146.5,-505 9146.5,-573\"/>\n<text text-anchor=\"middle\" x=\"9080.5\" y=\"-557.8\" font-family=\"Helvetica,sans-Serif\" font-size=\"14.00\" fill=\"#000000\">distance &lt;= 9.067</text>\n<text text-anchor=\"middle\" x=\"9080.5\" y=\"-542.8\" font-family=\"Helvetica,sans-Serif\" font-size=\"14.00\" fill=\"#000000\">mse = 229.169</text>\n<text text-anchor=\"middle\" x=\"9080.5\" y=\"-527.8\" font-family=\"Helvetica,sans-Serif\" font-size=\"14.00\" fill=\"#000000\">samples = 360</text>\n<text text-anchor=\"middle\" x=\"9080.5\" y=\"-512.8\" font-family=\"Helvetica,sans-Serif\" font-size=\"14.00\" fill=\"#000000\">value = 15.707</text>\n</g>\n<!-- 6&#45;&gt;8 -->\n<g id=\"edge182\" class=\"edge\">\n<title>6&#45;&gt;8</title>\n<path fill=\"none\" stroke=\"#000000\" d=\"M8279.7346,-635.0549C8437.9099,-616.0812 8836.9312,-568.217 9004.5219,-548.1139\"/>\n<polygon fill=\"#000000\" stroke=\"#000000\" points=\"9004.987,-551.5833 9014.499,-546.9171 9004.1533,-544.6331 9004.987,-551.5833\"/>\n</g>\n<!-- 13 -->\n<g id=\"node139\" class=\"node\">\n<title>13</title>\n<polygon fill=\"#f9e1d0\" stroke=\"#000000\" points=\"7879.5,-469 7759.5,-469 7759.5,-401 7879.5,-401 7879.5,-469\"/>\n<text text-anchor=\"middle\" x=\"7819.5\" y=\"-453.8\" font-family=\"Helvetica,sans-Serif\" font-size=\"14.00\" fill=\"#000000\">year &lt;= 2012.5</text>\n<text text-anchor=\"middle\" x=\"7819.5\" y=\"-438.8\" font-family=\"Helvetica,sans-Serif\" font-size=\"14.00\" fill=\"#000000\">mse = 148.141</text>\n<text text-anchor=\"middle\" x=\"7819.5\" y=\"-423.8\" font-family=\"Helvetica,sans-Serif\" font-size=\"14.00\" fill=\"#000000\">samples = 3405</text>\n<text text-anchor=\"middle\" x=\"7819.5\" y=\"-408.8\" font-family=\"Helvetica,sans-Serif\" font-size=\"14.00\" fill=\"#000000\">value = 50.106</text>\n</g>\n<!-- 7&#45;&gt;13 -->\n<g id=\"edge138\" class=\"edge\">\n<title>7&#45;&gt;13</title>\n<path fill=\"none\" stroke=\"#000000\" d=\"M8147.1088,-521.4754C8075.6834,-502.622 7962.5681,-472.7642 7889.7006,-453.5301\"/>\n<polygon fill=\"#000000\" stroke=\"#000000\" points=\"7890.2565,-450.057 7879.6944,-450.8889 7888.4699,-456.8252 7890.2565,-450.057\"/>\n</g>\n<!-- 14 -->\n<g id=\"node166\" class=\"node\">\n<title>14</title>\n<polygon fill=\"#eeae7f\" stroke=\"#000000\" points=\"8604.5,-469 8480.5,-469 8480.5,-401 8604.5,-401 8604.5,-469\"/>\n<text text-anchor=\"middle\" x=\"8542.5\" y=\"-453.8\" font-family=\"Helvetica,sans-Serif\" font-size=\"14.00\" fill=\"#000000\">distance &lt;= 3.63</text>\n<text text-anchor=\"middle\" x=\"8542.5\" y=\"-438.8\" font-family=\"Helvetica,sans-Serif\" font-size=\"14.00\" fill=\"#000000\">mse = 1821.621</text>\n<text text-anchor=\"middle\" x=\"8542.5\" y=\"-423.8\" font-family=\"Helvetica,sans-Serif\" font-size=\"14.00\" fill=\"#000000\">samples = 28</text>\n<text text-anchor=\"middle\" x=\"8542.5\" y=\"-408.8\" font-family=\"Helvetica,sans-Serif\" font-size=\"14.00\" fill=\"#000000\">value = 128.588</text>\n</g>\n<!-- 7&#45;&gt;14 -->\n<g id=\"edge165\" class=\"edge\">\n<title>7&#45;&gt;14</title>\n<path fill=\"none\" stroke=\"#000000\" d=\"M8279.6823,-518.0792C8335.0254,-500.5847 8413.8194,-475.6772 8470.6819,-457.7024\"/>\n<polygon fill=\"#000000\" stroke=\"#000000\" points=\"8471.8416,-461.0066 8480.3216,-454.6552 8469.7317,-454.3321 8471.8416,-461.0066\"/>\n</g>\n<!-- 19 -->\n<g id=\"node140\" class=\"node\">\n<title>19</title>\n<polygon fill=\"#f9e4d4\" stroke=\"#000000\" points=\"7225.5,-365 7093.5,-365 7093.5,-297 7225.5,-297 7225.5,-365\"/>\n<text text-anchor=\"middle\" x=\"7159.5\" y=\"-349.8\" font-family=\"Helvetica,sans-Serif\" font-size=\"14.00\" fill=\"#000000\">distance &lt;= 2.927</text>\n<text text-anchor=\"middle\" x=\"7159.5\" y=\"-334.8\" font-family=\"Helvetica,sans-Serif\" font-size=\"14.00\" fill=\"#000000\">mse = 120.307</text>\n<text text-anchor=\"middle\" x=\"7159.5\" y=\"-319.8\" font-family=\"Helvetica,sans-Serif\" font-size=\"14.00\" fill=\"#000000\">samples = 1938</text>\n<text text-anchor=\"middle\" x=\"7159.5\" y=\"-304.8\" font-family=\"Helvetica,sans-Serif\" font-size=\"14.00\" fill=\"#000000\">value = 46.252</text>\n</g>\n<!-- 13&#45;&gt;19 -->\n<g id=\"edge139\" class=\"edge\">\n<title>13&#45;&gt;19</title>\n<path fill=\"none\" stroke=\"#000000\" d=\"M7759.4729,-425.5412C7639.1545,-406.5819 7368.6709,-363.9603 7235.9247,-343.0427\"/>\n<polygon fill=\"#000000\" stroke=\"#000000\" points=\"7236.2582,-339.5521 7225.8353,-341.4528 7235.1686,-346.4668 7236.2582,-339.5521\"/>\n</g>\n<!-- 20 -->\n<g id=\"node153\" class=\"node\">\n<title>20</title>\n<polygon fill=\"#f8decb\" stroke=\"#000000\" points=\"7885.5,-365 7753.5,-365 7753.5,-297 7885.5,-297 7885.5,-365\"/>\n<text text-anchor=\"middle\" x=\"7819.5\" y=\"-349.8\" font-family=\"Helvetica,sans-Serif\" font-size=\"14.00\" fill=\"#000000\">distance &lt;= 2.916</text>\n<text text-anchor=\"middle\" x=\"7819.5\" y=\"-334.8\" font-family=\"Helvetica,sans-Serif\" font-size=\"14.00\" fill=\"#000000\">mse = 139.361</text>\n<text text-anchor=\"middle\" x=\"7819.5\" y=\"-319.8\" font-family=\"Helvetica,sans-Serif\" font-size=\"14.00\" fill=\"#000000\">samples = 1467</text>\n<text text-anchor=\"middle\" x=\"7819.5\" y=\"-304.8\" font-family=\"Helvetica,sans-Serif\" font-size=\"14.00\" fill=\"#000000\">value = 55.198</text>\n</g>\n<!-- 13&#45;&gt;20 -->\n<g id=\"edge152\" class=\"edge\">\n<title>13&#45;&gt;20</title>\n<path fill=\"none\" stroke=\"#000000\" d=\"M7819.5,-400.9465C7819.5,-392.776 7819.5,-383.9318 7819.5,-375.3697\"/>\n<polygon fill=\"#000000\" stroke=\"#000000\" points=\"7823.0001,-375.13 7819.5,-365.13 7816.0001,-375.13 7823.0001,-375.13\"/>\n</g>\n<!-- 29 -->\n<g id=\"node141\" class=\"node\">\n<title>29</title>\n<polygon fill=\"#fae9dc\" stroke=\"#000000\" points=\"6945,-261 6832,-261 6832,-193 6945,-193 6945,-261\"/>\n<text text-anchor=\"middle\" x=\"6888.5\" y=\"-245.8\" font-family=\"Helvetica,sans-Serif\" font-size=\"14.00\" fill=\"#000000\">Hour &lt;= 3.5</text>\n<text text-anchor=\"middle\" x=\"6888.5\" y=\"-230.8\" font-family=\"Helvetica,sans-Serif\" font-size=\"14.00\" fill=\"#000000\">mse = 151.163</text>\n<text text-anchor=\"middle\" x=\"6888.5\" y=\"-215.8\" font-family=\"Helvetica,sans-Serif\" font-size=\"14.00\" fill=\"#000000\">samples = 399</text>\n<text text-anchor=\"middle\" x=\"6888.5\" y=\"-200.8\" font-family=\"Helvetica,sans-Serif\" font-size=\"14.00\" fill=\"#000000\">value = 38.859</text>\n</g>\n<!-- 19&#45;&gt;29 -->\n<g id=\"edge140\" class=\"edge\">\n<title>19&#45;&gt;29</title>\n<path fill=\"none\" stroke=\"#000000\" d=\"M7093.2059,-305.5587C7051.1929,-289.4357 6997.0462,-268.6561 6954.9947,-252.5182\"/>\n<polygon fill=\"#000000\" stroke=\"#000000\" points=\"6955.9896,-249.1513 6945.3995,-248.836 6953.4816,-255.6865 6955.9896,-249.1513\"/>\n</g>\n<!-- 30 -->\n<g id=\"node146\" class=\"node\">\n<title>30</title>\n<polygon fill=\"#f9e3d2\" stroke=\"#000000\" points=\"7219.5,-261 7099.5,-261 7099.5,-193 7219.5,-193 7219.5,-261\"/>\n<text text-anchor=\"middle\" x=\"7159.5\" y=\"-245.8\" font-family=\"Helvetica,sans-Serif\" font-size=\"14.00\" fill=\"#000000\">Hour &lt;= 3.5</text>\n<text text-anchor=\"middle\" x=\"7159.5\" y=\"-230.8\" font-family=\"Helvetica,sans-Serif\" font-size=\"14.00\" fill=\"#000000\">mse = 94.466</text>\n<text text-anchor=\"middle\" x=\"7159.5\" y=\"-215.8\" font-family=\"Helvetica,sans-Serif\" font-size=\"14.00\" fill=\"#000000\">samples = 1539</text>\n<text text-anchor=\"middle\" x=\"7159.5\" y=\"-200.8\" font-family=\"Helvetica,sans-Serif\" font-size=\"14.00\" fill=\"#000000\">value = 48.168</text>\n</g>\n<!-- 19&#45;&gt;30 -->\n<g id=\"edge145\" class=\"edge\">\n<title>19&#45;&gt;30</title>\n<path fill=\"none\" stroke=\"#000000\" d=\"M7159.5,-296.9465C7159.5,-288.776 7159.5,-279.9318 7159.5,-271.3697\"/>\n<polygon fill=\"#000000\" stroke=\"#000000\" points=\"7163.0001,-271.13 7159.5,-261.13 7156.0001,-271.13 7163.0001,-271.13\"/>\n</g>\n<!-- 189 -->\n<g id=\"node142\" class=\"node\">\n<title>189</title>\n<polygon fill=\"#fbece1\" stroke=\"#000000\" points=\"6812,-149.5 6699,-149.5 6699,-96.5 6812,-96.5 6812,-149.5\"/>\n<text text-anchor=\"middle\" x=\"6755.5\" y=\"-134.3\" font-family=\"Helvetica,sans-Serif\" font-size=\"14.00\" fill=\"#000000\">mse = 100.716</text>\n<text text-anchor=\"middle\" x=\"6755.5\" y=\"-119.3\" font-family=\"Helvetica,sans-Serif\" font-size=\"14.00\" fill=\"#000000\">samples = 64</text>\n<text text-anchor=\"middle\" x=\"6755.5\" y=\"-104.3\" font-family=\"Helvetica,sans-Serif\" font-size=\"14.00\" fill=\"#000000\">value = 34.347</text>\n</g>\n<!-- 29&#45;&gt;189 -->\n<g id=\"edge141\" class=\"edge\">\n<title>29&#45;&gt;189</title>\n<path fill=\"none\" stroke=\"#000000\" d=\"M6844.9508,-192.9465C6829.7375,-181.0504 6812.6977,-167.726 6797.6043,-155.9237\"/>\n<polygon fill=\"#000000\" stroke=\"#000000\" points=\"6799.4769,-152.9449 6789.4433,-149.5422 6795.1649,-158.4592 6799.4769,-152.9449\"/>\n</g>\n<!-- 190 -->\n<g id=\"node143\" class=\"node\">\n<title>190</title>\n<polygon fill=\"#fae8db\" stroke=\"#000000\" points=\"6943,-157 6830,-157 6830,-89 6943,-89 6943,-157\"/>\n<text text-anchor=\"middle\" x=\"6886.5\" y=\"-141.8\" font-family=\"Helvetica,sans-Serif\" font-size=\"14.00\" fill=\"#000000\">Hour &lt;= 20.5</text>\n<text text-anchor=\"middle\" x=\"6886.5\" y=\"-126.8\" font-family=\"Helvetica,sans-Serif\" font-size=\"14.00\" fill=\"#000000\">mse = 156.167</text>\n<text text-anchor=\"middle\" x=\"6886.5\" y=\"-111.8\" font-family=\"Helvetica,sans-Serif\" font-size=\"14.00\" fill=\"#000000\">samples = 335</text>\n<text text-anchor=\"middle\" x=\"6886.5\" y=\"-96.8\" font-family=\"Helvetica,sans-Serif\" font-size=\"14.00\" fill=\"#000000\">value = 39.721</text>\n</g>\n<!-- 29&#45;&gt;190 -->\n<g id=\"edge142\" class=\"edge\">\n<title>29&#45;&gt;190</title>\n<path fill=\"none\" stroke=\"#000000\" d=\"M6887.8451,-192.9465C6887.688,-184.776 6887.5179,-175.9318 6887.3533,-167.3697\"/>\n<polygon fill=\"#000000\" stroke=\"#000000\" points=\"6890.8481,-167.0608 6887.1563,-157.13 6883.8494,-167.1955 6890.8481,-167.0608\"/>\n</g>\n<!-- 191 -->\n<g id=\"node144\" class=\"node\">\n<title>191</title>\n<polygon fill=\"#fae7da\" stroke=\"#000000\" points=\"6755,-53 6642,-53 6642,0 6755,0 6755,-53\"/>\n<text text-anchor=\"middle\" x=\"6698.5\" y=\"-37.8\" font-family=\"Helvetica,sans-Serif\" font-size=\"14.00\" fill=\"#000000\">mse = 175.384</text>\n<text text-anchor=\"middle\" x=\"6698.5\" y=\"-22.8\" font-family=\"Helvetica,sans-Serif\" font-size=\"14.00\" fill=\"#000000\">samples = 242</text>\n<text text-anchor=\"middle\" x=\"6698.5\" y=\"-7.8\" font-family=\"Helvetica,sans-Serif\" font-size=\"14.00\" fill=\"#000000\">value = 41.287</text>\n</g>\n<!-- 190&#45;&gt;191 -->\n<g id=\"edge143\" class=\"edge\">\n<title>190&#45;&gt;191</title>\n<path fill=\"none\" stroke=\"#000000\" d=\"M6829.9787,-93.8723C6826.7723,-92.2233 6823.5955,-90.5903 6820.5,-89 6800.6725,-78.8142 6779.0219,-67.7151 6759.5366,-57.7346\"/>\n<polygon fill=\"#000000\" stroke=\"#000000\" points=\"6760.9538,-54.5281 6750.4577,-53.085 6757.7629,-60.7586 6760.9538,-54.5281\"/>\n</g>\n<!-- 192 -->\n<g id=\"node145\" class=\"node\">\n<title>192</title>\n<polygon fill=\"#fbebdf\" stroke=\"#000000\" points=\"6886,-53 6773,-53 6773,0 6886,0 6886,-53\"/>\n<text text-anchor=\"middle\" x=\"6829.5\" y=\"-37.8\" font-family=\"Helvetica,sans-Serif\" font-size=\"14.00\" fill=\"#000000\">mse = 83.179</text>\n<text text-anchor=\"middle\" x=\"6829.5\" y=\"-22.8\" font-family=\"Helvetica,sans-Serif\" font-size=\"14.00\" fill=\"#000000\">samples = 93</text>\n<text text-anchor=\"middle\" x=\"6829.5\" y=\"-7.8\" font-family=\"Helvetica,sans-Serif\" font-size=\"14.00\" fill=\"#000000\">value = 35.647</text>\n</g>\n<!-- 190&#45;&gt;192 -->\n<g id=\"edge144\" class=\"edge\">\n<title>190&#45;&gt;192</title>\n<path fill=\"none\" stroke=\"#000000\" d=\"M6866.4039,-88.9777C6861.2656,-80.2786 6855.727,-70.9018 6850.5425,-62.1247\"/>\n<polygon fill=\"#000000\" stroke=\"#000000\" points=\"6853.399,-60.0786 6845.2996,-53.2485 6847.3719,-63.6387 6853.399,-60.0786\"/>\n</g>\n<!-- 113 -->\n<g id=\"node147\" class=\"node\">\n<title>113</title>\n<polygon fill=\"#fae7d9\" stroke=\"#000000\" points=\"7153.5,-157 7021.5,-157 7021.5,-89 7153.5,-89 7153.5,-157\"/>\n<text text-anchor=\"middle\" x=\"7087.5\" y=\"-141.8\" font-family=\"Helvetica,sans-Serif\" font-size=\"14.00\" fill=\"#000000\">distance &lt;= 3.006</text>\n<text text-anchor=\"middle\" x=\"7087.5\" y=\"-126.8\" font-family=\"Helvetica,sans-Serif\" font-size=\"14.00\" fill=\"#000000\">mse = 139.436</text>\n<text text-anchor=\"middle\" x=\"7087.5\" y=\"-111.8\" font-family=\"Helvetica,sans-Serif\" font-size=\"14.00\" fill=\"#000000\">samples = 83</text>\n<text text-anchor=\"middle\" x=\"7087.5\" y=\"-96.8\" font-family=\"Helvetica,sans-Serif\" font-size=\"14.00\" fill=\"#000000\">value = 42.14</text>\n</g>\n<!-- 30&#45;&gt;113 -->\n<g id=\"edge146\" class=\"edge\">\n<title>30&#45;&gt;113</title>\n<path fill=\"none\" stroke=\"#000000\" d=\"M7135.9245,-192.9465C7129.8329,-184.1475 7123.2004,-174.5672 7116.8534,-165.3993\"/>\n<polygon fill=\"#000000\" stroke=\"#000000\" points=\"7119.6983,-163.3597 7111.1285,-157.13 7113.9429,-167.3442 7119.6983,-163.3597\"/>\n</g>\n<!-- 114 -->\n<g id=\"node150\" class=\"node\">\n<title>114</title>\n<polygon fill=\"#f9e2d2\" stroke=\"#000000\" points=\"7291.5,-157 7171.5,-157 7171.5,-89 7291.5,-89 7291.5,-157\"/>\n<text text-anchor=\"middle\" x=\"7231.5\" y=\"-141.8\" font-family=\"Helvetica,sans-Serif\" font-size=\"14.00\" fill=\"#000000\">year &lt;= 2011.5</text>\n<text text-anchor=\"middle\" x=\"7231.5\" y=\"-126.8\" font-family=\"Helvetica,sans-Serif\" font-size=\"14.00\" fill=\"#000000\">mse = 89.713</text>\n<text text-anchor=\"middle\" x=\"7231.5\" y=\"-111.8\" font-family=\"Helvetica,sans-Serif\" font-size=\"14.00\" fill=\"#000000\">samples = 1456</text>\n<text text-anchor=\"middle\" x=\"7231.5\" y=\"-96.8\" font-family=\"Helvetica,sans-Serif\" font-size=\"14.00\" fill=\"#000000\">value = 48.512</text>\n</g>\n<!-- 30&#45;&gt;114 -->\n<g id=\"edge149\" class=\"edge\">\n<title>30&#45;&gt;114</title>\n<path fill=\"none\" stroke=\"#000000\" d=\"M7183.0755,-192.9465C7189.1671,-184.1475 7195.7996,-174.5672 7202.1466,-165.3993\"/>\n<polygon fill=\"#000000\" stroke=\"#000000\" points=\"7205.0571,-167.3442 7207.8715,-157.13 7199.3017,-163.3597 7205.0571,-167.3442\"/>\n</g>\n<!-- 121 -->\n<g id=\"node148\" class=\"node\">\n<title>121</title>\n<polygon fill=\"#fbede3\" stroke=\"#000000\" points=\"7017,-53 6904,-53 6904,0 7017,0 7017,-53\"/>\n<text text-anchor=\"middle\" x=\"6960.5\" y=\"-37.8\" font-family=\"Helvetica,sans-Serif\" font-size=\"14.00\" fill=\"#000000\">mse = 109.04</text>\n<text text-anchor=\"middle\" x=\"6960.5\" y=\"-22.8\" font-family=\"Helvetica,sans-Serif\" font-size=\"14.00\" fill=\"#000000\">samples = 23</text>\n<text text-anchor=\"middle\" x=\"6960.5\" y=\"-7.8\" font-family=\"Helvetica,sans-Serif\" font-size=\"14.00\" fill=\"#000000\">value = 32.573</text>\n</g>\n<!-- 113&#45;&gt;121 -->\n<g id=\"edge147\" class=\"edge\">\n<title>113&#45;&gt;121</title>\n<path fill=\"none\" stroke=\"#000000\" d=\"M7042.7246,-88.9777C7030.0708,-79.3629 7016.3277,-68.9203 7003.7647,-59.3743\"/>\n<polygon fill=\"#000000\" stroke=\"#000000\" points=\"7005.7824,-56.5118 6995.7027,-53.2485 7001.5474,-62.0853 7005.7824,-56.5118\"/>\n</g>\n<!-- 122 -->\n<g id=\"node149\" class=\"node\">\n<title>122</title>\n<polygon fill=\"#f9e4d5\" stroke=\"#000000\" points=\"7148,-53 7035,-53 7035,0 7148,0 7148,-53\"/>\n<text text-anchor=\"middle\" x=\"7091.5\" y=\"-37.8\" font-family=\"Helvetica,sans-Serif\" font-size=\"14.00\" fill=\"#000000\">mse = 102.555</text>\n<text text-anchor=\"middle\" x=\"7091.5\" y=\"-22.8\" font-family=\"Helvetica,sans-Serif\" font-size=\"14.00\" fill=\"#000000\">samples = 60</text>\n<text text-anchor=\"middle\" x=\"7091.5\" y=\"-7.8\" font-family=\"Helvetica,sans-Serif\" font-size=\"14.00\" fill=\"#000000\">value = 45.808</text>\n</g>\n<!-- 113&#45;&gt;122 -->\n<g id=\"edge148\" class=\"edge\">\n<title>113&#45;&gt;122</title>\n<path fill=\"none\" stroke=\"#000000\" d=\"M7088.9103,-88.9777C7089.2519,-80.7364 7089.6187,-71.887 7089.9657,-63.5153\"/>\n<polygon fill=\"#000000\" stroke=\"#000000\" points=\"7093.474,-63.3849 7090.3913,-53.2485 7086.48,-63.0949 7093.474,-63.3849\"/>\n</g>\n<!-- 131 -->\n<g id=\"node151\" class=\"node\">\n<title>131</title>\n<polygon fill=\"#f9e3d3\" stroke=\"#000000\" points=\"7286.5,-53 7166.5,-53 7166.5,0 7286.5,0 7286.5,-53\"/>\n<text text-anchor=\"middle\" x=\"7226.5\" y=\"-37.8\" font-family=\"Helvetica,sans-Serif\" font-size=\"14.00\" fill=\"#000000\">mse = 79.924</text>\n<text text-anchor=\"middle\" x=\"7226.5\" y=\"-22.8\" font-family=\"Helvetica,sans-Serif\" font-size=\"14.00\" fill=\"#000000\">samples = 1032</text>\n<text text-anchor=\"middle\" x=\"7226.5\" y=\"-7.8\" font-family=\"Helvetica,sans-Serif\" font-size=\"14.00\" fill=\"#000000\">value = 47.647</text>\n</g>\n<!-- 114&#45;&gt;131 -->\n<g id=\"edge150\" class=\"edge\">\n<title>114&#45;&gt;131</title>\n<path fill=\"none\" stroke=\"#000000\" d=\"M7229.7372,-88.9777C7229.3054,-80.6449 7228.8415,-71.6903 7228.4034,-63.2364\"/>\n<polygon fill=\"#000000\" stroke=\"#000000\" points=\"7231.8988,-63.0539 7227.8859,-53.2485 7224.9082,-63.4162 7231.8988,-63.0539\"/>\n</g>\n<!-- 132 -->\n<g id=\"node152\" class=\"node\">\n<title>132</title>\n<polygon fill=\"#f9e1d0\" stroke=\"#000000\" points=\"7418,-53 7305,-53 7305,0 7418,0 7418,-53\"/>\n<text text-anchor=\"middle\" x=\"7361.5\" y=\"-37.8\" font-family=\"Helvetica,sans-Serif\" font-size=\"14.00\" fill=\"#000000\">mse = 107.289</text>\n<text text-anchor=\"middle\" x=\"7361.5\" y=\"-22.8\" font-family=\"Helvetica,sans-Serif\" font-size=\"14.00\" fill=\"#000000\">samples = 424</text>\n<text text-anchor=\"middle\" x=\"7361.5\" y=\"-7.8\" font-family=\"Helvetica,sans-Serif\" font-size=\"14.00\" fill=\"#000000\">value = 50.617</text>\n</g>\n<!-- 114&#45;&gt;132 -->\n<g id=\"edge151\" class=\"edge\">\n<title>114&#45;&gt;132</title>\n<path fill=\"none\" stroke=\"#000000\" d=\"M7277.3331,-88.9777C7290.2857,-79.3629 7304.3535,-68.9203 7317.2133,-59.3743\"/>\n<polygon fill=\"#000000\" stroke=\"#000000\" points=\"7319.5224,-62.0193 7325.4658,-53.2485 7315.3501,-56.3986 7319.5224,-62.0193\"/>\n</g>\n<!-- 35 -->\n<g id=\"node154\" class=\"node\">\n<title>35</title>\n<polygon fill=\"#f9e3d3\" stroke=\"#000000\" points=\"7806,-261 7693,-261 7693,-193 7806,-193 7806,-261\"/>\n<text text-anchor=\"middle\" x=\"7749.5\" y=\"-245.8\" font-family=\"Helvetica,sans-Serif\" font-size=\"14.00\" fill=\"#000000\">Hour &lt;= 15.5</text>\n<text text-anchor=\"middle\" x=\"7749.5\" y=\"-230.8\" font-family=\"Helvetica,sans-Serif\" font-size=\"14.00\" fill=\"#000000\">mse = 185.26</text>\n<text text-anchor=\"middle\" x=\"7749.5\" y=\"-215.8\" font-family=\"Helvetica,sans-Serif\" font-size=\"14.00\" fill=\"#000000\">samples = 256</text>\n<text text-anchor=\"middle\" x=\"7749.5\" y=\"-200.8\" font-family=\"Helvetica,sans-Serif\" font-size=\"14.00\" fill=\"#000000\">value = 47.565</text>\n</g>\n<!-- 20&#45;&gt;35 -->\n<g id=\"edge153\" class=\"edge\">\n<title>20&#45;&gt;35</title>\n<path fill=\"none\" stroke=\"#000000\" d=\"M7796.5794,-296.9465C7790.7174,-288.2373 7784.3402,-278.7626 7778.227,-269.6801\"/>\n<polygon fill=\"#000000\" stroke=\"#000000\" points=\"7780.9595,-267.4716 7772.4721,-261.13 7775.1524,-271.3802 7780.9595,-267.4716\"/>\n</g>\n<!-- 36 -->\n<g id=\"node159\" class=\"node\">\n<title>36</title>\n<polygon fill=\"#f8ddc9\" stroke=\"#000000\" points=\"7956.5,-261 7824.5,-261 7824.5,-193 7956.5,-193 7956.5,-261\"/>\n<text text-anchor=\"middle\" x=\"7890.5\" y=\"-245.8\" font-family=\"Helvetica,sans-Serif\" font-size=\"14.00\" fill=\"#000000\">distance &lt;= 3.248</text>\n<text text-anchor=\"middle\" x=\"7890.5\" y=\"-230.8\" font-family=\"Helvetica,sans-Serif\" font-size=\"14.00\" fill=\"#000000\">mse = 114.737</text>\n<text text-anchor=\"middle\" x=\"7890.5\" y=\"-215.8\" font-family=\"Helvetica,sans-Serif\" font-size=\"14.00\" fill=\"#000000\">samples = 1211</text>\n<text text-anchor=\"middle\" x=\"7890.5\" y=\"-200.8\" font-family=\"Helvetica,sans-Serif\" font-size=\"14.00\" fill=\"#000000\">value = 56.812</text>\n</g>\n<!-- 20&#45;&gt;36 -->\n<g id=\"edge158\" class=\"edge\">\n<title>20&#45;&gt;36</title>\n<path fill=\"none\" stroke=\"#000000\" d=\"M7842.7481,-296.9465C7848.755,-288.1475 7855.2955,-278.5672 7861.5543,-269.3993\"/>\n<polygon fill=\"#000000\" stroke=\"#000000\" points=\"7864.452,-271.3623 7867.1997,-261.13 7858.6707,-267.4155 7864.452,-271.3623\"/>\n</g>\n<!-- 135 -->\n<g id=\"node155\" class=\"node\">\n<title>135</title>\n<polygon fill=\"#f9e1d0\" stroke=\"#000000\" points=\"7677,-157 7564,-157 7564,-89 7677,-89 7677,-157\"/>\n<text text-anchor=\"middle\" x=\"7620.5\" y=\"-141.8\" font-family=\"Helvetica,sans-Serif\" font-size=\"14.00\" fill=\"#000000\">Hour &lt;= 3.5</text>\n<text text-anchor=\"middle\" x=\"7620.5\" y=\"-126.8\" font-family=\"Helvetica,sans-Serif\" font-size=\"14.00\" fill=\"#000000\">mse = 204.377</text>\n<text text-anchor=\"middle\" x=\"7620.5\" y=\"-111.8\" font-family=\"Helvetica,sans-Serif\" font-size=\"14.00\" fill=\"#000000\">samples = 148</text>\n<text text-anchor=\"middle\" x=\"7620.5\" y=\"-96.8\" font-family=\"Helvetica,sans-Serif\" font-size=\"14.00\" fill=\"#000000\">value = 50.262</text>\n</g>\n<!-- 35&#45;&gt;135 -->\n<g id=\"edge154\" class=\"edge\">\n<title>35&#45;&gt;135</title>\n<path fill=\"none\" stroke=\"#000000\" d=\"M7707.2606,-192.9465C7695.5669,-183.519 7682.7606,-173.1946 7670.663,-163.4415\"/>\n<polygon fill=\"#000000\" stroke=\"#000000\" points=\"7672.8162,-160.6816 7662.8343,-157.13 7668.4227,-166.1312 7672.8162,-160.6816\"/>\n</g>\n<!-- 136 -->\n<g id=\"node158\" class=\"node\">\n<title>136</title>\n<polygon fill=\"#fae5d7\" stroke=\"#000000\" points=\"7808,-149.5 7695,-149.5 7695,-96.5 7808,-96.5 7808,-149.5\"/>\n<text text-anchor=\"middle\" x=\"7751.5\" y=\"-134.3\" font-family=\"Helvetica,sans-Serif\" font-size=\"14.00\" fill=\"#000000\">mse = 135.423</text>\n<text text-anchor=\"middle\" x=\"7751.5\" y=\"-119.3\" font-family=\"Helvetica,sans-Serif\" font-size=\"14.00\" fill=\"#000000\">samples = 108</text>\n<text text-anchor=\"middle\" x=\"7751.5\" y=\"-104.3\" font-family=\"Helvetica,sans-Serif\" font-size=\"14.00\" fill=\"#000000\">value = 43.868</text>\n</g>\n<!-- 35&#45;&gt;136 -->\n<g id=\"edge157\" class=\"edge\">\n<title>35&#45;&gt;136</title>\n<path fill=\"none\" stroke=\"#000000\" d=\"M7750.1549,-192.9465C7750.3603,-182.2621 7750.588,-170.4254 7750.7966,-159.5742\"/>\n<polygon fill=\"#000000\" stroke=\"#000000\" points=\"7754.2966,-159.6076 7750.9896,-149.5422 7747.2979,-159.473 7754.2966,-159.6076\"/>\n</g>\n<!-- 147 -->\n<g id=\"node156\" class=\"node\">\n<title>147</title>\n<polygon fill=\"#fae6d8\" stroke=\"#000000\" points=\"7549,-53 7436,-53 7436,0 7549,0 7549,-53\"/>\n<text text-anchor=\"middle\" x=\"7492.5\" y=\"-37.8\" font-family=\"Helvetica,sans-Serif\" font-size=\"14.00\" fill=\"#000000\">mse = 82.045</text>\n<text text-anchor=\"middle\" x=\"7492.5\" y=\"-22.8\" font-family=\"Helvetica,sans-Serif\" font-size=\"14.00\" fill=\"#000000\">samples = 35</text>\n<text text-anchor=\"middle\" x=\"7492.5\" y=\"-7.8\" font-family=\"Helvetica,sans-Serif\" font-size=\"14.00\" fill=\"#000000\">value = 43.089</text>\n</g>\n<!-- 135&#45;&gt;147 -->\n<g id=\"edge155\" class=\"edge\">\n<title>135&#45;&gt;147</title>\n<path fill=\"none\" stroke=\"#000000\" d=\"M7575.372,-88.9777C7562.6187,-79.3629 7548.7673,-68.9203 7536.1053,-59.3743\"/>\n<polygon fill=\"#000000\" stroke=\"#000000\" points=\"7538.0719,-56.4737 7527.9798,-53.2485 7533.8579,-62.0632 7538.0719,-56.4737\"/>\n</g>\n<!-- 148 -->\n<g id=\"node157\" class=\"node\">\n<title>148</title>\n<polygon fill=\"#f9e0ce\" stroke=\"#000000\" points=\"7680,-53 7567,-53 7567,0 7680,0 7680,-53\"/>\n<text text-anchor=\"middle\" x=\"7623.5\" y=\"-37.8\" font-family=\"Helvetica,sans-Serif\" font-size=\"14.00\" fill=\"#000000\">mse = 221.393</text>\n<text text-anchor=\"middle\" x=\"7623.5\" y=\"-22.8\" font-family=\"Helvetica,sans-Serif\" font-size=\"14.00\" fill=\"#000000\">samples = 113</text>\n<text text-anchor=\"middle\" x=\"7623.5\" y=\"-7.8\" font-family=\"Helvetica,sans-Serif\" font-size=\"14.00\" fill=\"#000000\">value = 52.484</text>\n</g>\n<!-- 135&#45;&gt;148 -->\n<g id=\"edge156\" class=\"edge\">\n<title>135&#45;&gt;148</title>\n<path fill=\"none\" stroke=\"#000000\" d=\"M7621.5577,-88.9777C7621.8139,-80.7364 7622.089,-71.887 7622.3493,-63.5153\"/>\n<polygon fill=\"#000000\" stroke=\"#000000\" points=\"7625.8559,-63.3524 7622.6684,-53.2485 7618.8593,-63.1349 7625.8559,-63.3524\"/>\n</g>\n<!-- 59 -->\n<g id=\"node160\" class=\"node\">\n<title>59</title>\n<polygon fill=\"#f8ddca\" stroke=\"#000000\" points=\"7949.5,-157 7829.5,-157 7829.5,-89 7949.5,-89 7949.5,-157\"/>\n<text text-anchor=\"middle\" x=\"7889.5\" y=\"-141.8\" font-family=\"Helvetica,sans-Serif\" font-size=\"14.00\" fill=\"#000000\">Hour &lt;= 3.5</text>\n<text text-anchor=\"middle\" x=\"7889.5\" y=\"-126.8\" font-family=\"Helvetica,sans-Serif\" font-size=\"14.00\" fill=\"#000000\">mse = 95.155</text>\n<text text-anchor=\"middle\" x=\"7889.5\" y=\"-111.8\" font-family=\"Helvetica,sans-Serif\" font-size=\"14.00\" fill=\"#000000\">samples = 1178</text>\n<text text-anchor=\"middle\" x=\"7889.5\" y=\"-96.8\" font-family=\"Helvetica,sans-Serif\" font-size=\"14.00\" fill=\"#000000\">value = 56.327</text>\n</g>\n<!-- 36&#45;&gt;59 -->\n<g id=\"edge159\" class=\"edge\">\n<title>36&#45;&gt;59</title>\n<path fill=\"none\" stroke=\"#000000\" d=\"M7890.1726,-192.9465C7890.094,-184.776 7890.009,-175.9318 7889.9266,-167.3697\"/>\n<polygon fill=\"#000000\" stroke=\"#000000\" points=\"7893.4243,-167.0958 7889.8282,-157.13 7886.4246,-167.1632 7893.4243,-167.0958\"/>\n</g>\n<!-- 60 -->\n<g id=\"node163\" class=\"node\">\n<title>60</title>\n<polygon fill=\"#f6d2b8\" stroke=\"#000000\" points=\"8081,-157 7968,-157 7968,-89 8081,-89 8081,-157\"/>\n<text text-anchor=\"middle\" x=\"8024.5\" y=\"-141.8\" font-family=\"Helvetica,sans-Serif\" font-size=\"14.00\" fill=\"#000000\">Date &lt;= 3.0</text>\n<text text-anchor=\"middle\" x=\"8024.5\" y=\"-126.8\" font-family=\"Helvetica,sans-Serif\" font-size=\"14.00\" fill=\"#000000\">mse = 506.37</text>\n<text text-anchor=\"middle\" x=\"8024.5\" y=\"-111.8\" font-family=\"Helvetica,sans-Serif\" font-size=\"14.00\" fill=\"#000000\">samples = 33</text>\n<text text-anchor=\"middle\" x=\"8024.5\" y=\"-96.8\" font-family=\"Helvetica,sans-Serif\" font-size=\"14.00\" fill=\"#000000\">value = 74.103</text>\n</g>\n<!-- 36&#45;&gt;60 -->\n<g id=\"edge162\" class=\"edge\">\n<title>36&#45;&gt;60</title>\n<path fill=\"none\" stroke=\"#000000\" d=\"M7934.3766,-192.9465C7946.5235,-183.519 7959.8262,-173.1946 7972.3927,-163.4415\"/>\n<polygon fill=\"#000000\" stroke=\"#000000\" points=\"7974.7709,-166.0262 7980.5248,-157.13 7970.479,-160.4963 7974.7709,-166.0262\"/>\n</g>\n<!-- 195 -->\n<g id=\"node161\" class=\"node\">\n<title>195</title>\n<polygon fill=\"#f9e0ce\" stroke=\"#000000\" points=\"7811,-53 7698,-53 7698,0 7811,0 7811,-53\"/>\n<text text-anchor=\"middle\" x=\"7754.5\" y=\"-37.8\" font-family=\"Helvetica,sans-Serif\" font-size=\"14.00\" fill=\"#000000\">mse = 62.248</text>\n<text text-anchor=\"middle\" x=\"7754.5\" y=\"-22.8\" font-family=\"Helvetica,sans-Serif\" font-size=\"14.00\" fill=\"#000000\">samples = 77</text>\n<text text-anchor=\"middle\" x=\"7754.5\" y=\"-7.8\" font-family=\"Helvetica,sans-Serif\" font-size=\"14.00\" fill=\"#000000\">value = 52.041</text>\n</g>\n<!-- 59&#45;&gt;195 -->\n<g id=\"edge160\" class=\"edge\">\n<title>59&#45;&gt;195</title>\n<path fill=\"none\" stroke=\"#000000\" d=\"M7841.9041,-88.9777C7828.3252,-79.2713 7813.5661,-68.7213 7800.1088,-59.1018\"/>\n<polygon fill=\"#000000\" stroke=\"#000000\" points=\"7802.0908,-56.2164 7791.9202,-53.2485 7798.0201,-61.9111 7802.0908,-56.2164\"/>\n</g>\n<!-- 196 -->\n<g id=\"node162\" class=\"node\">\n<title>196</title>\n<polygon fill=\"#f8ddca\" stroke=\"#000000\" points=\"7949.5,-53 7829.5,-53 7829.5,0 7949.5,0 7949.5,-53\"/>\n<text text-anchor=\"middle\" x=\"7889.5\" y=\"-37.8\" font-family=\"Helvetica,sans-Serif\" font-size=\"14.00\" fill=\"#000000\">mse = 96.082</text>\n<text text-anchor=\"middle\" x=\"7889.5\" y=\"-22.8\" font-family=\"Helvetica,sans-Serif\" font-size=\"14.00\" fill=\"#000000\">samples = 1101</text>\n<text text-anchor=\"middle\" x=\"7889.5\" y=\"-7.8\" font-family=\"Helvetica,sans-Serif\" font-size=\"14.00\" fill=\"#000000\">value = 56.627</text>\n</g>\n<!-- 59&#45;&gt;196 -->\n<g id=\"edge161\" class=\"edge\">\n<title>59&#45;&gt;196</title>\n<path fill=\"none\" stroke=\"#000000\" d=\"M7889.5,-88.9777C7889.5,-80.7364 7889.5,-71.887 7889.5,-63.5153\"/>\n<polygon fill=\"#000000\" stroke=\"#000000\" points=\"7893.0001,-63.2484 7889.5,-53.2485 7886.0001,-63.2485 7893.0001,-63.2484\"/>\n</g>\n<!-- 99 -->\n<g id=\"node164\" class=\"node\">\n<title>99</title>\n<polygon fill=\"#f2c29f\" stroke=\"#000000\" points=\"8081,-53 7968,-53 7968,0 8081,0 8081,-53\"/>\n<text text-anchor=\"middle\" x=\"8024.5\" y=\"-37.8\" font-family=\"Helvetica,sans-Serif\" font-size=\"14.00\" fill=\"#000000\">mse = 841.603</text>\n<text text-anchor=\"middle\" x=\"8024.5\" y=\"-22.8\" font-family=\"Helvetica,sans-Serif\" font-size=\"14.00\" fill=\"#000000\">samples = 6</text>\n<text text-anchor=\"middle\" x=\"8024.5\" y=\"-7.8\" font-family=\"Helvetica,sans-Serif\" font-size=\"14.00\" fill=\"#000000\">value = 98.177</text>\n</g>\n<!-- 60&#45;&gt;99 -->\n<g id=\"edge163\" class=\"edge\">\n<title>60&#45;&gt;99</title>\n<path fill=\"none\" stroke=\"#000000\" d=\"M8024.5,-88.9777C8024.5,-80.7364 8024.5,-71.887 8024.5,-63.5153\"/>\n<polygon fill=\"#000000\" stroke=\"#000000\" points=\"8028.0001,-63.2484 8024.5,-53.2485 8021.0001,-63.2485 8028.0001,-63.2484\"/>\n</g>\n<!-- 100 -->\n<g id=\"node165\" class=\"node\">\n<title>100</title>\n<polygon fill=\"#f6d5bd\" stroke=\"#000000\" points=\"8212,-53 8099,-53 8099,0 8212,0 8212,-53\"/>\n<text text-anchor=\"middle\" x=\"8155.5\" y=\"-37.8\" font-family=\"Helvetica,sans-Serif\" font-size=\"14.00\" fill=\"#000000\">mse = 274.468</text>\n<text text-anchor=\"middle\" x=\"8155.5\" y=\"-22.8\" font-family=\"Helvetica,sans-Serif\" font-size=\"14.00\" fill=\"#000000\">samples = 27</text>\n<text text-anchor=\"middle\" x=\"8155.5\" y=\"-7.8\" font-family=\"Helvetica,sans-Serif\" font-size=\"14.00\" fill=\"#000000\">value = 68.753</text>\n</g>\n<!-- 60&#45;&gt;100 -->\n<g id=\"edge164\" class=\"edge\">\n<title>60&#45;&gt;100</title>\n<path fill=\"none\" stroke=\"#000000\" d=\"M8070.6857,-88.9777C8083.7379,-79.3629 8097.9139,-68.9203 8110.8727,-59.3743\"/>\n<polygon fill=\"#000000\" stroke=\"#000000\" points=\"8113.2131,-61.9974 8119.1886,-53.2485 8109.0614,-56.3615 8113.2131,-61.9974\"/>\n</g>\n<!-- 55 -->\n<g id=\"node167\" class=\"node\">\n<title>55</title>\n<polygon fill=\"#f1ba92\" stroke=\"#000000\" points=\"8603.5,-365 8481.5,-365 8481.5,-297 8603.5,-297 8603.5,-365\"/>\n<text text-anchor=\"middle\" x=\"8542.5\" y=\"-349.8\" font-family=\"Helvetica,sans-Serif\" font-size=\"14.00\" fill=\"#000000\">Hour &lt;= 14.5</text>\n<text text-anchor=\"middle\" x=\"8542.5\" y=\"-334.8\" font-family=\"Helvetica,sans-Serif\" font-size=\"14.00\" fill=\"#000000\">mse = 1094.932</text>\n<text text-anchor=\"middle\" x=\"8542.5\" y=\"-319.8\" font-family=\"Helvetica,sans-Serif\" font-size=\"14.00\" fill=\"#000000\">samples = 15</text>\n<text text-anchor=\"middle\" x=\"8542.5\" y=\"-304.8\" font-family=\"Helvetica,sans-Serif\" font-size=\"14.00\" fill=\"#000000\">value = 110.121</text>\n</g>\n<!-- 14&#45;&gt;55 -->\n<g id=\"edge166\" class=\"edge\">\n<title>14&#45;&gt;55</title>\n<path fill=\"none\" stroke=\"#000000\" d=\"M8542.5,-400.9465C8542.5,-392.776 8542.5,-383.9318 8542.5,-375.3697\"/>\n<polygon fill=\"#000000\" stroke=\"#000000\" points=\"8546.0001,-375.13 8542.5,-365.13 8539.0001,-375.13 8546.0001,-375.13\"/>\n</g>\n<!-- 56 -->\n<g id=\"node176\" class=\"node\">\n<title>56</title>\n<polygon fill=\"#eba069\" stroke=\"#000000\" points=\"8816.5,-365 8684.5,-365 8684.5,-297 8816.5,-297 8816.5,-365\"/>\n<text text-anchor=\"middle\" x=\"8750.5\" y=\"-349.8\" font-family=\"Helvetica,sans-Serif\" font-size=\"14.00\" fill=\"#000000\">distance &lt;= 4.134</text>\n<text text-anchor=\"middle\" x=\"8750.5\" y=\"-334.8\" font-family=\"Helvetica,sans-Serif\" font-size=\"14.00\" fill=\"#000000\">mse = 1812.589</text>\n<text text-anchor=\"middle\" x=\"8750.5\" y=\"-319.8\" font-family=\"Helvetica,sans-Serif\" font-size=\"14.00\" fill=\"#000000\">samples = 13</text>\n<text text-anchor=\"middle\" x=\"8750.5\" y=\"-304.8\" font-family=\"Helvetica,sans-Serif\" font-size=\"14.00\" fill=\"#000000\">value = 149.896</text>\n</g>\n<!-- 14&#45;&gt;56 -->\n<g id=\"edge175\" class=\"edge\">\n<title>14&#45;&gt;56</title>\n<path fill=\"none\" stroke=\"#000000\" d=\"M8604.6251,-403.9374C8626.8179,-392.8411 8652.0647,-380.2177 8675.2442,-368.6279\"/>\n<polygon fill=\"#000000\" stroke=\"#000000\" points=\"8676.9747,-371.6759 8684.3537,-364.0732 8673.8441,-365.4149 8676.9747,-371.6759\"/>\n</g>\n<!-- 83 -->\n<g id=\"node168\" class=\"node\">\n<title>83</title>\n<polygon fill=\"#efb184\" stroke=\"#000000\" points=\"8504.5,-261 8382.5,-261 8382.5,-193 8504.5,-193 8504.5,-261\"/>\n<text text-anchor=\"middle\" x=\"8443.5\" y=\"-245.8\" font-family=\"Helvetica,sans-Serif\" font-size=\"14.00\" fill=\"#000000\">Hour &lt;= 2.5</text>\n<text text-anchor=\"middle\" x=\"8443.5\" y=\"-230.8\" font-family=\"Helvetica,sans-Serif\" font-size=\"14.00\" fill=\"#000000\">mse = 1022.439</text>\n<text text-anchor=\"middle\" x=\"8443.5\" y=\"-215.8\" font-family=\"Helvetica,sans-Serif\" font-size=\"14.00\" fill=\"#000000\">samples = 10</text>\n<text text-anchor=\"middle\" x=\"8443.5\" y=\"-200.8\" font-family=\"Helvetica,sans-Serif\" font-size=\"14.00\" fill=\"#000000\">value = 124.226</text>\n</g>\n<!-- 55&#45;&gt;83 -->\n<g id=\"edge167\" class=\"edge\">\n<title>55&#45;&gt;83</title>\n<path fill=\"none\" stroke=\"#000000\" d=\"M8510.0837,-296.9465C8501.4514,-287.8782 8492.0289,-277.9799 8483.0605,-268.5585\"/>\n<polygon fill=\"#000000\" stroke=\"#000000\" points=\"8485.419,-265.9599 8475.9891,-261.13 8480.3489,-270.7863 8485.419,-265.9599\"/>\n</g>\n<!-- 84 -->\n<g id=\"node175\" class=\"node\">\n<title>84</title>\n<polygon fill=\"#f5ccaf\" stroke=\"#000000\" points=\"8636,-253.5 8523,-253.5 8523,-200.5 8636,-200.5 8636,-253.5\"/>\n<text text-anchor=\"middle\" x=\"8579.5\" y=\"-238.3\" font-family=\"Helvetica,sans-Serif\" font-size=\"14.00\" fill=\"#000000\">mse = 46.267</text>\n<text text-anchor=\"middle\" x=\"8579.5\" y=\"-223.3\" font-family=\"Helvetica,sans-Serif\" font-size=\"14.00\" fill=\"#000000\">samples = 5</text>\n<text text-anchor=\"middle\" x=\"8579.5\" y=\"-208.3\" font-family=\"Helvetica,sans-Serif\" font-size=\"14.00\" fill=\"#000000\">value = 81.912</text>\n</g>\n<!-- 55&#45;&gt;84 -->\n<g id=\"edge174\" class=\"edge\">\n<title>55&#45;&gt;84</title>\n<path fill=\"none\" stroke=\"#000000\" d=\"M8554.6152,-296.9465C8558.4556,-286.1519 8562.7144,-274.1813 8566.6073,-263.2389\"/>\n<polygon fill=\"#000000\" stroke=\"#000000\" points=\"8570.0027,-264.1369 8570.0571,-253.5422 8563.4076,-261.7905 8570.0027,-264.1369\"/>\n</g>\n<!-- 115 -->\n<g id=\"node169\" class=\"node\">\n<title>115</title>\n<polygon fill=\"#f2bf9a\" stroke=\"#000000\" points=\"8463.5,-157 8341.5,-157 8341.5,-89 8463.5,-89 8463.5,-157\"/>\n<text text-anchor=\"middle\" x=\"8402.5\" y=\"-141.8\" font-family=\"Helvetica,sans-Serif\" font-size=\"14.00\" fill=\"#000000\">Month &lt;= 3.5</text>\n<text text-anchor=\"middle\" x=\"8402.5\" y=\"-126.8\" font-family=\"Helvetica,sans-Serif\" font-size=\"14.00\" fill=\"#000000\">mse = 1154.234</text>\n<text text-anchor=\"middle\" x=\"8402.5\" y=\"-111.8\" font-family=\"Helvetica,sans-Serif\" font-size=\"14.00\" fill=\"#000000\">samples = 4</text>\n<text text-anchor=\"middle\" x=\"8402.5\" y=\"-96.8\" font-family=\"Helvetica,sans-Serif\" font-size=\"14.00\" fill=\"#000000\">value = 102.82</text>\n</g>\n<!-- 83&#45;&gt;115 -->\n<g id=\"edge168\" class=\"edge\">\n<title>83&#45;&gt;115</title>\n<path fill=\"none\" stroke=\"#000000\" d=\"M8430.0751,-192.9465C8426.7478,-184.5067 8423.1372,-175.3479 8419.6584,-166.5239\"/>\n<polygon fill=\"#000000\" stroke=\"#000000\" points=\"8422.8789,-165.1495 8415.9551,-157.13 8416.3666,-167.7168 8422.8789,-165.1495\"/>\n</g>\n<!-- 116 -->\n<g id=\"node172\" class=\"node\">\n<title>116</title>\n<polygon fill=\"#eda775\" stroke=\"#000000\" points=\"8603,-157 8482,-157 8482,-89 8603,-89 8603,-157\"/>\n<text text-anchor=\"middle\" x=\"8542.5\" y=\"-141.8\" font-family=\"Helvetica,sans-Serif\" font-size=\"14.00\" fill=\"#000000\">year &lt;= 2012.5</text>\n<text text-anchor=\"middle\" x=\"8542.5\" y=\"-126.8\" font-family=\"Helvetica,sans-Serif\" font-size=\"14.00\" fill=\"#000000\">mse = 425.445</text>\n<text text-anchor=\"middle\" x=\"8542.5\" y=\"-111.8\" font-family=\"Helvetica,sans-Serif\" font-size=\"14.00\" fill=\"#000000\">samples = 6</text>\n<text text-anchor=\"middle\" x=\"8542.5\" y=\"-96.8\" font-family=\"Helvetica,sans-Serif\" font-size=\"14.00\" fill=\"#000000\">value = 138.497</text>\n</g>\n<!-- 83&#45;&gt;116 -->\n<g id=\"edge171\" class=\"edge\">\n<title>83&#45;&gt;116</title>\n<path fill=\"none\" stroke=\"#000000\" d=\"M8475.9163,-192.9465C8484.5486,-183.8782 8493.9711,-173.9799 8502.9395,-164.5585\"/>\n<polygon fill=\"#000000\" stroke=\"#000000\" points=\"8505.6511,-166.7863 8510.0109,-157.13 8500.581,-161.9599 8505.6511,-166.7863\"/>\n</g>\n<!-- 117 -->\n<g id=\"node170\" class=\"node\">\n<title>117</title>\n<polygon fill=\"#eda978\" stroke=\"#000000\" points=\"8343,-53 8230,-53 8230,0 8343,0 8343,-53\"/>\n<text text-anchor=\"middle\" x=\"8286.5\" y=\"-37.8\" font-family=\"Helvetica,sans-Serif\" font-size=\"14.00\" fill=\"#000000\">mse = 223.802</text>\n<text text-anchor=\"middle\" x=\"8286.5\" y=\"-22.8\" font-family=\"Helvetica,sans-Serif\" font-size=\"14.00\" fill=\"#000000\">samples = 2</text>\n<text text-anchor=\"middle\" x=\"8286.5\" y=\"-7.8\" font-family=\"Helvetica,sans-Serif\" font-size=\"14.00\" fill=\"#000000\">value = 135.04</text>\n</g>\n<!-- 115&#45;&gt;117 -->\n<g id=\"edge169\" class=\"edge\">\n<title>115&#45;&gt;117</title>\n<path fill=\"none\" stroke=\"#000000\" d=\"M8361.6027,-88.9777C8350.1551,-79.4545 8337.7313,-69.1191 8326.3455,-59.6473\"/>\n<polygon fill=\"#000000\" stroke=\"#000000\" points=\"8328.5797,-56.9532 8318.6536,-53.2485 8324.1029,-62.3345 8328.5797,-56.9532\"/>\n</g>\n<!-- 118 -->\n<g id=\"node171\" class=\"node\">\n<title>118</title>\n<polygon fill=\"#f6d4bb\" stroke=\"#000000\" points=\"8457.5,-53 8361.5,-53 8361.5,0 8457.5,0 8457.5,-53\"/>\n<text text-anchor=\"middle\" x=\"8409.5\" y=\"-37.8\" font-family=\"Helvetica,sans-Serif\" font-size=\"14.00\" fill=\"#000000\">mse = 8.41</text>\n<text text-anchor=\"middle\" x=\"8409.5\" y=\"-22.8\" font-family=\"Helvetica,sans-Serif\" font-size=\"14.00\" fill=\"#000000\">samples = 2</text>\n<text text-anchor=\"middle\" x=\"8409.5\" y=\"-7.8\" font-family=\"Helvetica,sans-Serif\" font-size=\"14.00\" fill=\"#000000\">value = 70.6</text>\n</g>\n<!-- 115&#45;&gt;118 -->\n<g id=\"edge170\" class=\"edge\">\n<title>115&#45;&gt;118</title>\n<path fill=\"none\" stroke=\"#000000\" d=\"M8404.9679,-88.9777C8405.5724,-80.6449 8406.222,-71.6903 8406.8352,-63.2364\"/>\n<polygon fill=\"#000000\" stroke=\"#000000\" points=\"8410.3269,-63.4755 8407.5597,-53.2485 8403.3453,-62.969 8410.3269,-63.4755\"/>\n</g>\n<!-- 187 -->\n<g id=\"node173\" class=\"node\">\n<title>187</title>\n<polygon fill=\"#f0b68d\" stroke=\"#000000\" points=\"8597,-53 8476,-53 8476,0 8597,0 8597,-53\"/>\n<text text-anchor=\"middle\" x=\"8536.5\" y=\"-37.8\" font-family=\"Helvetica,sans-Serif\" font-size=\"14.00\" fill=\"#000000\">mse = 11.731</text>\n<text text-anchor=\"middle\" x=\"8536.5\" y=\"-22.8\" font-family=\"Helvetica,sans-Serif\" font-size=\"14.00\" fill=\"#000000\">samples = 2</text>\n<text text-anchor=\"middle\" x=\"8536.5\" y=\"-7.8\" font-family=\"Helvetica,sans-Serif\" font-size=\"14.00\" fill=\"#000000\">value = 115.575</text>\n</g>\n<!-- 116&#45;&gt;187 -->\n<g id=\"edge172\" class=\"edge\">\n<title>116&#45;&gt;187</title>\n<path fill=\"none\" stroke=\"#000000\" d=\"M8540.3846,-88.9777C8539.8665,-80.6449 8539.3098,-71.6903 8538.7841,-63.2364\"/>\n<polygon fill=\"#000000\" stroke=\"#000000\" points=\"8542.277,-63.012 8538.1631,-53.2485 8535.2905,-63.4464 8542.277,-63.012\"/>\n</g>\n<!-- 188 -->\n<g id=\"node174\" class=\"node\">\n<title>188</title>\n<polygon fill=\"#eba069\" stroke=\"#000000\" points=\"8736,-53 8615,-53 8615,0 8736,0 8736,-53\"/>\n<text text-anchor=\"middle\" x=\"8675.5\" y=\"-37.8\" font-family=\"Helvetica,sans-Serif\" font-size=\"14.00\" fill=\"#000000\">mse = 238.25</text>\n<text text-anchor=\"middle\" x=\"8675.5\" y=\"-22.8\" font-family=\"Helvetica,sans-Serif\" font-size=\"14.00\" fill=\"#000000\">samples = 4</text>\n<text text-anchor=\"middle\" x=\"8675.5\" y=\"-7.8\" font-family=\"Helvetica,sans-Serif\" font-size=\"14.00\" fill=\"#000000\">value = 149.958</text>\n</g>\n<!-- 116&#45;&gt;188 -->\n<g id=\"edge173\" class=\"edge\">\n<title>116&#45;&gt;188</title>\n<path fill=\"none\" stroke=\"#000000\" d=\"M8589.3908,-88.9777C8602.6423,-79.3629 8617.0347,-68.9203 8630.1913,-59.3743\"/>\n<polygon fill=\"#000000\" stroke=\"#000000\" points=\"8632.5957,-61.9541 8638.6342,-53.2485 8628.4848,-56.2883 8632.5957,-61.9541\"/>\n</g>\n<!-- 57 -->\n<g id=\"node177\" class=\"node\">\n<title>57</title>\n<polygon fill=\"#ea9a60\" stroke=\"#000000\" points=\"8811,-261 8690,-261 8690,-193 8811,-193 8811,-261\"/>\n<text text-anchor=\"middle\" x=\"8750.5\" y=\"-245.8\" font-family=\"Helvetica,sans-Serif\" font-size=\"14.00\" fill=\"#000000\">Hour &lt;= 20.0</text>\n<text text-anchor=\"middle\" x=\"8750.5\" y=\"-230.8\" font-family=\"Helvetica,sans-Serif\" font-size=\"14.00\" fill=\"#000000\">mse = 970.293</text>\n<text text-anchor=\"middle\" x=\"8750.5\" y=\"-215.8\" font-family=\"Helvetica,sans-Serif\" font-size=\"14.00\" fill=\"#000000\">samples = 12</text>\n<text text-anchor=\"middle\" x=\"8750.5\" y=\"-200.8\" font-family=\"Helvetica,sans-Serif\" font-size=\"14.00\" fill=\"#000000\">value = 158.638</text>\n</g>\n<!-- 56&#45;&gt;57 -->\n<g id=\"edge176\" class=\"edge\">\n<title>56&#45;&gt;57</title>\n<path fill=\"none\" stroke=\"#000000\" d=\"M8750.5,-296.9465C8750.5,-288.776 8750.5,-279.9318 8750.5,-271.3697\"/>\n<polygon fill=\"#000000\" stroke=\"#000000\" points=\"8754.0001,-271.13 8750.5,-261.13 8747.0001,-271.13 8754.0001,-271.13\"/>\n</g>\n<!-- 58 -->\n<g id=\"node182\" class=\"node\">\n<title>58</title>\n<polygon fill=\"#fae5d6\" stroke=\"#000000\" points=\"8925.5,-253.5 8829.5,-253.5 8829.5,-200.5 8925.5,-200.5 8925.5,-253.5\"/>\n<text text-anchor=\"middle\" x=\"8877.5\" y=\"-238.3\" font-family=\"Helvetica,sans-Serif\" font-size=\"14.00\" fill=\"#000000\">mse = &#45;0.0</text>\n<text text-anchor=\"middle\" x=\"8877.5\" y=\"-223.3\" font-family=\"Helvetica,sans-Serif\" font-size=\"14.00\" fill=\"#000000\">samples = 1</text>\n<text text-anchor=\"middle\" x=\"8877.5\" y=\"-208.3\" font-family=\"Helvetica,sans-Serif\" font-size=\"14.00\" fill=\"#000000\">value = 45.0</text>\n</g>\n<!-- 56&#45;&gt;58 -->\n<g id=\"edge181\" class=\"edge\">\n<title>56&#45;&gt;58</title>\n<path fill=\"none\" stroke=\"#000000\" d=\"M8792.0845,-296.9465C8806.6115,-285.0504 8822.8827,-271.726 8837.2951,-259.9237\"/>\n<polygon fill=\"#000000\" stroke=\"#000000\" points=\"8839.5686,-262.5858 8845.0879,-253.5422 8835.1335,-257.17 8839.5686,-262.5858\"/>\n</g>\n<!-- 89 -->\n<g id=\"node178\" class=\"node\">\n<title>89</title>\n<polygon fill=\"#eca26d\" stroke=\"#000000\" points=\"8816.5,-157 8684.5,-157 8684.5,-89 8816.5,-89 8816.5,-157\"/>\n<text text-anchor=\"middle\" x=\"8750.5\" y=\"-141.8\" font-family=\"Helvetica,sans-Serif\" font-size=\"14.00\" fill=\"#000000\">distance &lt;= 3.939</text>\n<text text-anchor=\"middle\" x=\"8750.5\" y=\"-126.8\" font-family=\"Helvetica,sans-Serif\" font-size=\"14.00\" fill=\"#000000\">mse = 645.204</text>\n<text text-anchor=\"middle\" x=\"8750.5\" y=\"-111.8\" font-family=\"Helvetica,sans-Serif\" font-size=\"14.00\" fill=\"#000000\">samples = 9</text>\n<text text-anchor=\"middle\" x=\"8750.5\" y=\"-96.8\" font-family=\"Helvetica,sans-Serif\" font-size=\"14.00\" fill=\"#000000\">value = 146.071</text>\n</g>\n<!-- 57&#45;&gt;89 -->\n<g id=\"edge177\" class=\"edge\">\n<title>57&#45;&gt;89</title>\n<path fill=\"none\" stroke=\"#000000\" d=\"M8750.5,-192.9465C8750.5,-184.776 8750.5,-175.9318 8750.5,-167.3697\"/>\n<polygon fill=\"#000000\" stroke=\"#000000\" points=\"8754.0001,-167.13 8750.5,-157.13 8747.0001,-167.13 8754.0001,-167.13\"/>\n</g>\n<!-- 90 -->\n<g id=\"node181\" class=\"node\">\n<title>90</title>\n<polygon fill=\"#e58139\" stroke=\"#000000\" points=\"8956,-149.5 8835,-149.5 8835,-96.5 8956,-96.5 8956,-149.5\"/>\n<text text-anchor=\"middle\" x=\"8895.5\" y=\"-134.3\" font-family=\"Helvetica,sans-Serif\" font-size=\"14.00\" fill=\"#000000\">mse = 50.591</text>\n<text text-anchor=\"middle\" x=\"8895.5\" y=\"-119.3\" font-family=\"Helvetica,sans-Serif\" font-size=\"14.00\" fill=\"#000000\">samples = 3</text>\n<text text-anchor=\"middle\" x=\"8895.5\" y=\"-104.3\" font-family=\"Helvetica,sans-Serif\" font-size=\"14.00\" fill=\"#000000\">value = 196.337</text>\n</g>\n<!-- 57&#45;&gt;90 -->\n<g id=\"edge180\" class=\"edge\">\n<title>57&#45;&gt;90</title>\n<path fill=\"none\" stroke=\"#000000\" d=\"M8797.9784,-192.9465C8814.7179,-180.9403 8833.4858,-167.4791 8850.0533,-155.5962\"/>\n<polygon fill=\"#000000\" stroke=\"#000000\" points=\"8852.408,-158.2146 8858.4941,-149.5422 8848.3282,-152.5264 8852.408,-158.2146\"/>\n</g>\n<!-- 139 -->\n<g id=\"node179\" class=\"node\">\n<title>139</title>\n<polygon fill=\"#edaa79\" stroke=\"#000000\" points=\"8875,-53 8754,-53 8754,0 8875,0 8875,-53\"/>\n<text text-anchor=\"middle\" x=\"8814.5\" y=\"-37.8\" font-family=\"Helvetica,sans-Serif\" font-size=\"14.00\" fill=\"#000000\">mse = 413.333</text>\n<text text-anchor=\"middle\" x=\"8814.5\" y=\"-22.8\" font-family=\"Helvetica,sans-Serif\" font-size=\"14.00\" fill=\"#000000\">samples = 6</text>\n<text text-anchor=\"middle\" x=\"8814.5\" y=\"-7.8\" font-family=\"Helvetica,sans-Serif\" font-size=\"14.00\" fill=\"#000000\">value = 134.385</text>\n</g>\n<!-- 89&#45;&gt;139 -->\n<g id=\"edge178\" class=\"edge\">\n<title>89&#45;&gt;139</title>\n<path fill=\"none\" stroke=\"#000000\" d=\"M8773.064,-88.9777C8778.8941,-80.187 8785.1831,-70.7044 8791.057,-61.8477\"/>\n<polygon fill=\"#000000\" stroke=\"#000000\" points=\"8794.1498,-63.5167 8796.7601,-53.2485 8788.3162,-59.6478 8794.1498,-63.5167\"/>\n</g>\n<!-- 140 -->\n<g id=\"node180\" class=\"node\">\n<title>140</title>\n<polygon fill=\"#e99355\" stroke=\"#000000\" points=\"9014,-53 8893,-53 8893,0 9014,0 9014,-53\"/>\n<text text-anchor=\"middle\" x=\"8953.5\" y=\"-37.8\" font-family=\"Helvetica,sans-Serif\" font-size=\"14.00\" fill=\"#000000\">mse = 289.553</text>\n<text text-anchor=\"middle\" x=\"8953.5\" y=\"-22.8\" font-family=\"Helvetica,sans-Serif\" font-size=\"14.00\" fill=\"#000000\">samples = 3</text>\n<text text-anchor=\"middle\" x=\"8953.5\" y=\"-7.8\" font-family=\"Helvetica,sans-Serif\" font-size=\"14.00\" fill=\"#000000\">value = 169.443</text>\n</g>\n<!-- 89&#45;&gt;140 -->\n<g id=\"edge179\" class=\"edge\">\n<title>89&#45;&gt;140</title>\n<path fill=\"none\" stroke=\"#000000\" d=\"M8816.6889,-91.5358C8839.6711,-80.6108 8865.4125,-68.3741 8888.3131,-57.4879\"/>\n<polygon fill=\"#000000\" stroke=\"#000000\" points=\"8890.0735,-60.5264 8897.6023,-53.0721 8887.0681,-54.2044 8890.0735,-60.5264\"/>\n</g>\n<!-- 61 -->\n<g id=\"node184\" class=\"node\">\n<title>61</title>\n<polygon fill=\"#fef9f5\" stroke=\"#000000\" points=\"9146.5,-469 9014.5,-469 9014.5,-401 9146.5,-401 9146.5,-469\"/>\n<text text-anchor=\"middle\" x=\"9080.5\" y=\"-453.8\" font-family=\"Helvetica,sans-Serif\" font-size=\"14.00\" fill=\"#000000\">distance &lt;= 9.067</text>\n<text text-anchor=\"middle\" x=\"9080.5\" y=\"-438.8\" font-family=\"Helvetica,sans-Serif\" font-size=\"14.00\" fill=\"#000000\">mse = 175.371</text>\n<text text-anchor=\"middle\" x=\"9080.5\" y=\"-423.8\" font-family=\"Helvetica,sans-Serif\" font-size=\"14.00\" fill=\"#000000\">samples = 334</text>\n<text text-anchor=\"middle\" x=\"9080.5\" y=\"-408.8\" font-family=\"Helvetica,sans-Serif\" font-size=\"14.00\" fill=\"#000000\">value = 14.399</text>\n</g>\n<!-- 8&#45;&gt;61 -->\n<g id=\"edge183\" class=\"edge\">\n<title>8&#45;&gt;61</title>\n<path fill=\"none\" stroke=\"#000000\" d=\"M9080.5,-504.9465C9080.5,-496.776 9080.5,-487.9318 9080.5,-479.3697\"/>\n<polygon fill=\"#000000\" stroke=\"#000000\" points=\"9084.0001,-479.13 9080.5,-469.13 9077.0001,-479.13 9084.0001,-479.13\"/>\n</g>\n<!-- 62 -->\n<g id=\"node191\" class=\"node\">\n<title>62</title>\n<polygon fill=\"#fbede3\" stroke=\"#000000\" points=\"9349,-469 9236,-469 9236,-401 9349,-401 9349,-469\"/>\n<text text-anchor=\"middle\" x=\"9292.5\" y=\"-453.8\" font-family=\"Helvetica,sans-Serif\" font-size=\"14.00\" fill=\"#000000\">Date &lt;= 21.0</text>\n<text text-anchor=\"middle\" x=\"9292.5\" y=\"-438.8\" font-family=\"Helvetica,sans-Serif\" font-size=\"14.00\" fill=\"#000000\">mse = 615.859</text>\n<text text-anchor=\"middle\" x=\"9292.5\" y=\"-423.8\" font-family=\"Helvetica,sans-Serif\" font-size=\"14.00\" fill=\"#000000\">samples = 26</text>\n<text text-anchor=\"middle\" x=\"9292.5\" y=\"-408.8\" font-family=\"Helvetica,sans-Serif\" font-size=\"14.00\" fill=\"#000000\">value = 32.512</text>\n</g>\n<!-- 8&#45;&gt;62 -->\n<g id=\"edge190\" class=\"edge\">\n<title>8&#45;&gt;62</title>\n<path fill=\"none\" stroke=\"#000000\" d=\"M9146.7061,-506.5215C9172.1337,-494.0476 9201.1352,-479.8204 9226.5397,-467.3579\"/>\n<polygon fill=\"#000000\" stroke=\"#000000\" points=\"9228.2869,-470.3993 9235.7233,-462.8527 9225.2039,-464.1148 9228.2869,-470.3993\"/>\n</g>\n<!-- 123 -->\n<g id=\"node185\" class=\"node\">\n<title>123</title>\n<polygon fill=\"#fdf7f2\" stroke=\"#000000\" points=\"9076.5,-365 8944.5,-365 8944.5,-297 9076.5,-297 9076.5,-365\"/>\n<text text-anchor=\"middle\" x=\"9010.5\" y=\"-349.8\" font-family=\"Helvetica,sans-Serif\" font-size=\"14.00\" fill=\"#000000\">distance &lt;= 9.065</text>\n<text text-anchor=\"middle\" x=\"9010.5\" y=\"-334.8\" font-family=\"Helvetica,sans-Serif\" font-size=\"14.00\" fill=\"#000000\">mse = 219.957</text>\n<text text-anchor=\"middle\" x=\"9010.5\" y=\"-319.8\" font-family=\"Helvetica,sans-Serif\" font-size=\"14.00\" fill=\"#000000\">samples = 160</text>\n<text text-anchor=\"middle\" x=\"9010.5\" y=\"-304.8\" font-family=\"Helvetica,sans-Serif\" font-size=\"14.00\" fill=\"#000000\">value = 17.445</text>\n</g>\n<!-- 61&#45;&gt;123 -->\n<g id=\"edge184\" class=\"edge\">\n<title>61&#45;&gt;123</title>\n<path fill=\"none\" stroke=\"#000000\" d=\"M9057.5794,-400.9465C9051.7174,-392.2373 9045.3402,-382.7626 9039.227,-373.6801\"/>\n<polygon fill=\"#000000\" stroke=\"#000000\" points=\"9041.9595,-371.4716 9033.4721,-365.13 9036.1524,-375.3802 9041.9595,-371.4716\"/>\n</g>\n<!-- 124 -->\n<g id=\"node190\" class=\"node\">\n<title>124</title>\n<polygon fill=\"#fefbf8\" stroke=\"#000000\" points=\"9208,-357.5 9095,-357.5 9095,-304.5 9208,-304.5 9208,-357.5\"/>\n<text text-anchor=\"middle\" x=\"9151.5\" y=\"-342.3\" font-family=\"Helvetica,sans-Serif\" font-size=\"14.00\" fill=\"#000000\">mse = 117.999</text>\n<text text-anchor=\"middle\" x=\"9151.5\" y=\"-327.3\" font-family=\"Helvetica,sans-Serif\" font-size=\"14.00\" fill=\"#000000\">samples = 174</text>\n<text text-anchor=\"middle\" x=\"9151.5\" y=\"-312.3\" font-family=\"Helvetica,sans-Serif\" font-size=\"14.00\" fill=\"#000000\">value = 11.598</text>\n</g>\n<!-- 61&#45;&gt;124 -->\n<g id=\"edge189\" class=\"edge\">\n<title>61&#45;&gt;124</title>\n<path fill=\"none\" stroke=\"#000000\" d=\"M9103.7481,-400.9465C9111.4182,-389.7113 9119.9582,-377.2021 9127.6711,-365.9043\"/>\n<polygon fill=\"#000000\" stroke=\"#000000\" points=\"9130.6322,-367.7745 9133.3799,-357.5422 9124.8509,-363.8277 9130.6322,-367.7745\"/>\n</g>\n<!-- 125 -->\n<g id=\"node186\" class=\"node\">\n<title>125</title>\n<polygon fill=\"#fef9f6\" stroke=\"#000000\" points=\"9058,-253.5 8945,-253.5 8945,-200.5 9058,-200.5 9058,-253.5\"/>\n<text text-anchor=\"middle\" x=\"9001.5\" y=\"-238.3\" font-family=\"Helvetica,sans-Serif\" font-size=\"14.00\" fill=\"#000000\">mse = 134.478</text>\n<text text-anchor=\"middle\" x=\"9001.5\" y=\"-223.3\" font-family=\"Helvetica,sans-Serif\" font-size=\"14.00\" fill=\"#000000\">samples = 93</text>\n<text text-anchor=\"middle\" x=\"9001.5\" y=\"-208.3\" font-family=\"Helvetica,sans-Serif\" font-size=\"14.00\" fill=\"#000000\">value = 13.722</text>\n</g>\n<!-- 123&#45;&gt;125 -->\n<g id=\"edge185\" class=\"edge\">\n<title>123&#45;&gt;125</title>\n<path fill=\"none\" stroke=\"#000000\" d=\"M9007.5531,-296.9465C9006.6284,-286.2621 9005.6041,-274.4254 9004.6651,-263.5742\"/>\n<polygon fill=\"#000000\" stroke=\"#000000\" points=\"9008.1461,-263.2031 9003.7969,-253.5422 9001.1722,-263.8067 9008.1461,-263.2031\"/>\n</g>\n<!-- 126 -->\n<g id=\"node187\" class=\"node\">\n<title>126</title>\n<polygon fill=\"#fdf3ed\" stroke=\"#000000\" points=\"9208.5,-261 9076.5,-261 9076.5,-193 9208.5,-193 9208.5,-261\"/>\n<text text-anchor=\"middle\" x=\"9142.5\" y=\"-245.8\" font-family=\"Helvetica,sans-Serif\" font-size=\"14.00\" fill=\"#000000\">distance &lt;= 9.065</text>\n<text text-anchor=\"middle\" x=\"9142.5\" y=\"-230.8\" font-family=\"Helvetica,sans-Serif\" font-size=\"14.00\" fill=\"#000000\">mse = 292.683</text>\n<text text-anchor=\"middle\" x=\"9142.5\" y=\"-215.8\" font-family=\"Helvetica,sans-Serif\" font-size=\"14.00\" fill=\"#000000\">samples = 67</text>\n<text text-anchor=\"middle\" x=\"9142.5\" y=\"-200.8\" font-family=\"Helvetica,sans-Serif\" font-size=\"14.00\" fill=\"#000000\">value = 22.611</text>\n</g>\n<!-- 123&#45;&gt;126 -->\n<g id=\"edge186\" class=\"edge\">\n<title>123&#45;&gt;126</title>\n<path fill=\"none\" stroke=\"#000000\" d=\"M9053.7217,-296.9465C9065.6874,-287.519 9078.7915,-277.1946 9091.1704,-267.4415\"/>\n<polygon fill=\"#000000\" stroke=\"#000000\" points=\"9093.4923,-270.068 9099.1812,-261.13 9089.1602,-264.5695 9093.4923,-270.068\"/>\n</g>\n<!-- 127 -->\n<g id=\"node188\" class=\"node\">\n<title>127</title>\n<polygon fill=\"#fae4d5\" stroke=\"#000000\" points=\"9087,-149.5 8974,-149.5 8974,-96.5 9087,-96.5 9087,-149.5\"/>\n<text text-anchor=\"middle\" x=\"9030.5\" y=\"-134.3\" font-family=\"Helvetica,sans-Serif\" font-size=\"14.00\" fill=\"#000000\">mse = 278.506</text>\n<text text-anchor=\"middle\" x=\"9030.5\" y=\"-119.3\" font-family=\"Helvetica,sans-Serif\" font-size=\"14.00\" fill=\"#000000\">samples = 9</text>\n<text text-anchor=\"middle\" x=\"9030.5\" y=\"-104.3\" font-family=\"Helvetica,sans-Serif\" font-size=\"14.00\" fill=\"#000000\">value = 45.454</text>\n</g>\n<!-- 126&#45;&gt;127 -->\n<g id=\"edge187\" class=\"edge\">\n<title>126&#45;&gt;127</title>\n<path fill=\"none\" stroke=\"#000000\" d=\"M9105.827,-192.9465C9093.2531,-181.2707 9079.1974,-168.219 9066.6641,-156.5809\"/>\n<polygon fill=\"#000000\" stroke=\"#000000\" points=\"9068.7934,-153.7819 9059.0839,-149.5422 9064.0302,-158.9115 9068.7934,-153.7819\"/>\n</g>\n<!-- 128 -->\n<g id=\"node189\" class=\"node\">\n<title>128</title>\n<polygon fill=\"#fdf6f1\" stroke=\"#000000\" points=\"9218,-149.5 9105,-149.5 9105,-96.5 9218,-96.5 9218,-149.5\"/>\n<text text-anchor=\"middle\" x=\"9161.5\" y=\"-134.3\" font-family=\"Helvetica,sans-Serif\" font-size=\"14.00\" fill=\"#000000\">mse = 201.347</text>\n<text text-anchor=\"middle\" x=\"9161.5\" y=\"-119.3\" font-family=\"Helvetica,sans-Serif\" font-size=\"14.00\" fill=\"#000000\">samples = 58</text>\n<text text-anchor=\"middle\" x=\"9161.5\" y=\"-104.3\" font-family=\"Helvetica,sans-Serif\" font-size=\"14.00\" fill=\"#000000\">value = 19.067</text>\n</g>\n<!-- 126&#45;&gt;128 -->\n<g id=\"edge188\" class=\"edge\">\n<title>126&#45;&gt;128</title>\n<path fill=\"none\" stroke=\"#000000\" d=\"M9148.7213,-192.9465C9150.6733,-182.2621 9152.8357,-170.4254 9154.8182,-159.5742\"/>\n<polygon fill=\"#000000\" stroke=\"#000000\" points=\"9158.2967,-160.0084 9156.651,-149.5422 9151.4107,-158.7503 9158.2967,-160.0084\"/>\n</g>\n<!-- 97 -->\n<g id=\"node192\" class=\"node\">\n<title>97</title>\n<polygon fill=\"#fdf3ec\" stroke=\"#000000\" points=\"9349,-365 9236,-365 9236,-297 9349,-297 9349,-365\"/>\n<text text-anchor=\"middle\" x=\"9292.5\" y=\"-349.8\" font-family=\"Helvetica,sans-Serif\" font-size=\"14.00\" fill=\"#000000\">Hour &lt;= 22.0</text>\n<text text-anchor=\"middle\" x=\"9292.5\" y=\"-334.8\" font-family=\"Helvetica,sans-Serif\" font-size=\"14.00\" fill=\"#000000\">mse = 551.684</text>\n<text text-anchor=\"middle\" x=\"9292.5\" y=\"-319.8\" font-family=\"Helvetica,sans-Serif\" font-size=\"14.00\" fill=\"#000000\">samples = 17</text>\n<text text-anchor=\"middle\" x=\"9292.5\" y=\"-304.8\" font-family=\"Helvetica,sans-Serif\" font-size=\"14.00\" fill=\"#000000\">value = 23.001</text>\n</g>\n<!-- 62&#45;&gt;97 -->\n<g id=\"edge191\" class=\"edge\">\n<title>62&#45;&gt;97</title>\n<path fill=\"none\" stroke=\"#000000\" d=\"M9292.5,-400.9465C9292.5,-392.776 9292.5,-383.9318 9292.5,-375.3697\"/>\n<polygon fill=\"#000000\" stroke=\"#000000\" points=\"9296.0001,-375.13 9292.5,-365.13 9289.0001,-375.13 9296.0001,-375.13\"/>\n</g>\n<!-- 98 -->\n<g id=\"node199\" class=\"node\">\n<title>98</title>\n<polygon fill=\"#f9e1d0\" stroke=\"#000000\" points=\"9480,-357.5 9367,-357.5 9367,-304.5 9480,-304.5 9480,-357.5\"/>\n<text text-anchor=\"middle\" x=\"9423.5\" y=\"-342.3\" font-family=\"Helvetica,sans-Serif\" font-size=\"14.00\" fill=\"#000000\">mse = 243.448</text>\n<text text-anchor=\"middle\" x=\"9423.5\" y=\"-327.3\" font-family=\"Helvetica,sans-Serif\" font-size=\"14.00\" fill=\"#000000\">samples = 9</text>\n<text text-anchor=\"middle\" x=\"9423.5\" y=\"-312.3\" font-family=\"Helvetica,sans-Serif\" font-size=\"14.00\" fill=\"#000000\">value = 50.478</text>\n</g>\n<!-- 62&#45;&gt;98 -->\n<g id=\"edge198\" class=\"edge\">\n<title>62&#45;&gt;98</title>\n<path fill=\"none\" stroke=\"#000000\" d=\"M9335.3943,-400.9465C9350.3788,-389.0504 9367.1624,-375.726 9382.0288,-363.9237\"/>\n<polygon fill=\"#000000\" stroke=\"#000000\" points=\"9384.4113,-366.5011 9390.0671,-357.5422 9380.0589,-361.0187 9384.4113,-366.5011\"/>\n</g>\n<!-- 105 -->\n<g id=\"node193\" class=\"node\">\n<title>105</title>\n<polygon fill=\"#fdf6f0\" stroke=\"#000000\" points=\"9358.5,-261 9226.5,-261 9226.5,-193 9358.5,-193 9358.5,-261\"/>\n<text text-anchor=\"middle\" x=\"9292.5\" y=\"-245.8\" font-family=\"Helvetica,sans-Serif\" font-size=\"14.00\" fill=\"#000000\">distance &lt;= 9.067</text>\n<text text-anchor=\"middle\" x=\"9292.5\" y=\"-230.8\" font-family=\"Helvetica,sans-Serif\" font-size=\"14.00\" fill=\"#000000\">mse = 345.115</text>\n<text text-anchor=\"middle\" x=\"9292.5\" y=\"-215.8\" font-family=\"Helvetica,sans-Serif\" font-size=\"14.00\" fill=\"#000000\">samples = 16</text>\n<text text-anchor=\"middle\" x=\"9292.5\" y=\"-200.8\" font-family=\"Helvetica,sans-Serif\" font-size=\"14.00\" fill=\"#000000\">value = 19.236</text>\n</g>\n<!-- 97&#45;&gt;105 -->\n<g id=\"edge192\" class=\"edge\">\n<title>97&#45;&gt;105</title>\n<path fill=\"none\" stroke=\"#000000\" d=\"M9292.5,-296.9465C9292.5,-288.776 9292.5,-279.9318 9292.5,-271.3697\"/>\n<polygon fill=\"#000000\" stroke=\"#000000\" points=\"9296.0001,-271.13 9292.5,-261.13 9289.0001,-271.13 9296.0001,-271.13\"/>\n</g>\n<!-- 106 -->\n<g id=\"node198\" class=\"node\">\n<title>106</title>\n<polygon fill=\"#f4ccae\" stroke=\"#000000\" points=\"9480.5,-253.5 9376.5,-253.5 9376.5,-200.5 9480.5,-200.5 9480.5,-253.5\"/>\n<text text-anchor=\"middle\" x=\"9428.5\" y=\"-238.3\" font-family=\"Helvetica,sans-Serif\" font-size=\"14.00\" fill=\"#000000\">mse = 0.0</text>\n<text text-anchor=\"middle\" x=\"9428.5\" y=\"-223.3\" font-family=\"Helvetica,sans-Serif\" font-size=\"14.00\" fill=\"#000000\">samples = 1</text>\n<text text-anchor=\"middle\" x=\"9428.5\" y=\"-208.3\" font-family=\"Helvetica,sans-Serif\" font-size=\"14.00\" fill=\"#000000\">value = 83.25</text>\n</g>\n<!-- 97&#45;&gt;106 -->\n<g id=\"edge197\" class=\"edge\">\n<title>97&#45;&gt;106</title>\n<path fill=\"none\" stroke=\"#000000\" d=\"M9337.0315,-296.9465C9352.5879,-285.0504 9370.0121,-271.726 9385.4459,-259.9237\"/>\n<polygon fill=\"#000000\" stroke=\"#000000\" points=\"9387.9735,-262.397 9393.791,-253.5422 9383.7213,-256.8364 9387.9735,-262.397\"/>\n</g>\n<!-- 137 -->\n<g id=\"node194\" class=\"node\">\n<title>137</title>\n<polygon fill=\"#fae4d5\" stroke=\"#000000\" points=\"9349,-149.5 9236,-149.5 9236,-96.5 9349,-96.5 9349,-149.5\"/>\n<text text-anchor=\"middle\" x=\"9292.5\" y=\"-134.3\" font-family=\"Helvetica,sans-Serif\" font-size=\"14.00\" fill=\"#000000\">mse = 93.798</text>\n<text text-anchor=\"middle\" x=\"9292.5\" y=\"-119.3\" font-family=\"Helvetica,sans-Serif\" font-size=\"14.00\" fill=\"#000000\">samples = 3</text>\n<text text-anchor=\"middle\" x=\"9292.5\" y=\"-104.3\" font-family=\"Helvetica,sans-Serif\" font-size=\"14.00\" fill=\"#000000\">value = 45.457</text>\n</g>\n<!-- 105&#45;&gt;137 -->\n<g id=\"edge193\" class=\"edge\">\n<title>105&#45;&gt;137</title>\n<path fill=\"none\" stroke=\"#000000\" d=\"M9292.5,-192.9465C9292.5,-182.2621 9292.5,-170.4254 9292.5,-159.5742\"/>\n<polygon fill=\"#000000\" stroke=\"#000000\" points=\"9296.0001,-159.5421 9292.5,-149.5422 9289.0001,-159.5422 9296.0001,-159.5421\"/>\n</g>\n<!-- 138 -->\n<g id=\"node195\" class=\"node\">\n<title>138</title>\n<polygon fill=\"#fefaf7\" stroke=\"#000000\" points=\"9480,-157 9367,-157 9367,-89 9480,-89 9480,-157\"/>\n<text text-anchor=\"middle\" x=\"9423.5\" y=\"-141.8\" font-family=\"Helvetica,sans-Serif\" font-size=\"14.00\" fill=\"#000000\">Month &lt;= 11.5</text>\n<text text-anchor=\"middle\" x=\"9423.5\" y=\"-126.8\" font-family=\"Helvetica,sans-Serif\" font-size=\"14.00\" fill=\"#000000\">mse = 207.832</text>\n<text text-anchor=\"middle\" x=\"9423.5\" y=\"-111.8\" font-family=\"Helvetica,sans-Serif\" font-size=\"14.00\" fill=\"#000000\">samples = 13</text>\n<text text-anchor=\"middle\" x=\"9423.5\" y=\"-96.8\" font-family=\"Helvetica,sans-Serif\" font-size=\"14.00\" fill=\"#000000\">value = 13.185</text>\n</g>\n<!-- 105&#45;&gt;138 -->\n<g id=\"edge194\" class=\"edge\">\n<title>105&#45;&gt;138</title>\n<path fill=\"none\" stroke=\"#000000\" d=\"M9335.3943,-192.9465C9347.2693,-183.519 9360.2741,-173.1946 9372.5593,-163.4415\"/>\n<polygon fill=\"#000000\" stroke=\"#000000\" points=\"9374.8536,-166.089 9380.5093,-157.13 9370.5011,-160.6066 9374.8536,-166.089\"/>\n</g>\n<!-- 141 -->\n<g id=\"node196\" class=\"node\">\n<title>141</title>\n<polygon fill=\"#fefcfb\" stroke=\"#000000\" points=\"9416,-53 9311,-53 9311,0 9416,0 9416,-53\"/>\n<text text-anchor=\"middle\" x=\"9363.5\" y=\"-37.8\" font-family=\"Helvetica,sans-Serif\" font-size=\"14.00\" fill=\"#000000\">mse = 27.291</text>\n<text text-anchor=\"middle\" x=\"9363.5\" y=\"-22.8\" font-family=\"Helvetica,sans-Serif\" font-size=\"14.00\" fill=\"#000000\">samples = 12</text>\n<text text-anchor=\"middle\" x=\"9363.5\" y=\"-7.8\" font-family=\"Helvetica,sans-Serif\" font-size=\"14.00\" fill=\"#000000\">value = 9.283</text>\n</g>\n<!-- 138&#45;&gt;141 -->\n<g id=\"edge195\" class=\"edge\">\n<title>138&#45;&gt;141</title>\n<path fill=\"none\" stroke=\"#000000\" d=\"M9402.3462,-88.9777C9396.8805,-80.187 9390.9846,-70.7044 9385.4778,-61.8477\"/>\n<polygon fill=\"#000000\" stroke=\"#000000\" points=\"9388.3837,-59.8927 9380.1312,-53.2485 9382.4391,-63.5889 9388.3837,-59.8927\"/>\n</g>\n<!-- 142 -->\n<g id=\"node197\" class=\"node\">\n<title>142</title>\n<polygon fill=\"#f8dbc6\" stroke=\"#000000\" points=\"9530.5,-53 9434.5,-53 9434.5,0 9530.5,0 9530.5,-53\"/>\n<text text-anchor=\"middle\" x=\"9482.5\" y=\"-37.8\" font-family=\"Helvetica,sans-Serif\" font-size=\"14.00\" fill=\"#000000\">mse = 0.0</text>\n<text text-anchor=\"middle\" x=\"9482.5\" y=\"-22.8\" font-family=\"Helvetica,sans-Serif\" font-size=\"14.00\" fill=\"#000000\">samples = 1</text>\n<text text-anchor=\"middle\" x=\"9482.5\" y=\"-7.8\" font-family=\"Helvetica,sans-Serif\" font-size=\"14.00\" fill=\"#000000\">value = 60.0</text>\n</g>\n<!-- 138&#45;&gt;142 -->\n<g id=\"edge196\" class=\"edge\">\n<title>138&#45;&gt;142</title>\n<path fill=\"none\" stroke=\"#000000\" d=\"M9444.3012,-88.9777C9449.6758,-80.187 9455.4735,-70.7044 9460.8885,-61.8477\"/>\n<polygon fill=\"#000000\" stroke=\"#000000\" points=\"9463.9158,-63.6059 9466.146,-53.2485 9457.9436,-59.9545 9463.9158,-63.6059\"/>\n</g>\n</g>\n</svg>\n"
          },
          "metadata": {},
          "execution_count": 103
        }
      ]
    },
    {
      "cell_type": "markdown",
      "source": [
        "### **Random Forest**\n",
        "\n",
        "Random Forest is a technique that uses ensemble learning, that combines many weak classifiers to provide solutions to complex problems.\n",
        "\n",
        "As the name suggests random forest consists of many decision trees. Rather than depending on one tree it takes the prediction from each tree and based on the majority votes of predictions, predicts the final output.\n",
        "\n",
        "Random forests use the bagging method. It creates a subset of the original dataset, and the final output is based on majority ranking and hence the problem of overfitting is taken care of."
      ],
      "metadata": {
        "id": "C7NQNhcqT8dJ"
      }
    },
    {
      "cell_type": "code",
      "source": [
        "# Create an instance of the RandomForestRegressor.\n",
        "rf_model = RandomForestRegressor(n_estimators = 10, max_depth = 10)\n",
        "\n",
        "# fitting the train data in model.\n",
        "rf_model.fit(X_train, y_train)"
      ],
      "metadata": {
        "colab": {
          "base_uri": "https://localhost:8080/"
        },
        "id": "I5Ym3rUUT7rY",
        "outputId": "eb7bbc7f-e8f9-48cb-c5e5-186ae1569f71"
      },
      "execution_count": 105,
      "outputs": [
        {
          "output_type": "execute_result",
          "data": {
            "text/plain": [
              "RandomForestRegressor(max_depth=10, n_estimators=10)"
            ]
          },
          "metadata": {},
          "execution_count": 105
        }
      ]
    },
    {
      "cell_type": "code",
      "source": [
        "# predict for train data.\n",
        "y_pred_train_r = rf_model.predict(X_train)\n",
        "\n",
        "# predict for test data.\n",
        "y_pred_test_r = rf_model.predict(X_test)\n"
      ],
      "metadata": {
        "id": "lgCMeg2ZT-nq"
      },
      "execution_count": 106,
      "outputs": []
    },
    {
      "cell_type": "code",
      "source": [
        "# calculating model score.\n",
        "print(\"Model Score:\",rf_model.score(X_train,y_train))\n",
        "\n",
        "# calculating MSE\n",
        "MSE_rf= mean_squared_error(y_train, y_pred_train_r)\n",
        "print(\"MSE :\",MSE_rf)\n",
        "\n",
        "# calculating RMSE\n",
        "RMSE_rf=np.sqrt(MSE_rf)\n",
        "print(\"RMSE :\",RMSE_rf)\n",
        "\n",
        "\n",
        "# calculating MAE\n",
        "MAE_rf= mean_absolute_error(y_train, y_pred_train_r)\n",
        "print(\"MAE :\",MAE_rf)\n",
        "\n",
        "\n",
        "# calculating r2 and adjusted r2\n",
        "r2_rf= r2_score(y_train, y_pred_train_r)\n",
        "print(\"R2 :\",r2_rf)\n",
        "Adjusted_R2_rf=(1-(1-r2_score(y_train, y_pred_train_r))*((X_test.shape[0]-1)/(X_test.shape[0]-X_test.shape[1]-1)) )\n",
        "print(\"Adjusted R2 :\",Adjusted_R2_rf )\n"
      ],
      "metadata": {
        "colab": {
          "base_uri": "https://localhost:8080/"
        },
        "id": "ux1e5mXsT_md",
        "outputId": "cc7be7fc-8392-4f8d-c4c8-69e4d2469c81"
      },
      "execution_count": 107,
      "outputs": [
        {
          "output_type": "stream",
          "name": "stdout",
          "text": [
            "Model Score: 0.8510624446449448\n",
            "MSE : 13.979036202612246\n",
            "RMSE : 3.7388549320095645\n",
            "MAE : 1.9498900084810808\n",
            "R2 : 0.8510624446449448\n",
            "Adjusted R2 : 0.8510409821349093\n"
          ]
        }
      ]
    },
    {
      "cell_type": "code",
      "source": [
        "# storing the train set metrics value into the train evaluation dataframe\n",
        "dict1={'Model':'Random forest regression ',\n",
        "       'MAE':round((MAE_rf),3),\n",
        "       'MSE':round((MSE_rf),3),\n",
        "       'RMSE':round((RMSE_rf),3),\n",
        "       'R2_score':round((r2_rf),3),\n",
        "       'Adjusted R2':round((Adjusted_R2_rf ),2)}\n",
        "training_df=training_df.append(dict1,ignore_index=True)"
      ],
      "metadata": {
        "id": "M8-h5XKuUA5e"
      },
      "execution_count": 108,
      "outputs": []
    },
    {
      "cell_type": "code",
      "source": [
        "# calculating MSE\n",
        "MSE_rf= mean_squared_error(y_test, y_pred_test_r)\n",
        "print(\"MSE :\",MSE_rf)\n",
        "\n",
        "# calculating RMSE\n",
        "RMSE_rf=np.sqrt(MSE_rf)\n",
        "print(\"RMSE :\",RMSE_rf)\n",
        "\n",
        "\n",
        "# calculating MAE\n",
        "MAE_rf= mean_absolute_error(y_test, y_pred_test_r)\n",
        "print(\"MAE :\",MAE_rf)\n",
        "\n",
        "\n",
        "# calculating r2\n",
        "r2_rf= r2_score((y_test), (y_pred_test_r))\n",
        "print(\"R2 :\",r2_rf)\n",
        "\n",
        "# Calculating adjusted r2\n",
        "Adjusted_R2_rf=(1-(1-r2_score((y_test), (y_pred_test_r)))*((X_test.shape[0]-1)/(X_test.shape[0]-X_test.shape[1]-1)) )\n",
        "print(\"Adjusted R2 :\", Adjusted_R2_rf )\n"
      ],
      "metadata": {
        "colab": {
          "base_uri": "https://localhost:8080/"
        },
        "id": "yz0PHcBEUGst",
        "outputId": "867dde48-9954-42fb-949d-f35c26d90ee2"
      },
      "execution_count": 109,
      "outputs": [
        {
          "output_type": "stream",
          "name": "stdout",
          "text": [
            "MSE : 23.38389593548243\n",
            "RMSE : 4.8356898096840775\n",
            "MAE : 2.087106436840555\n",
            "R2 : 0.7627482201859663\n",
            "Adjusted R2 : 0.7627140312354825\n"
          ]
        }
      ]
    },
    {
      "cell_type": "code",
      "source": [
        "# storing the test set metrics value in the test evaluation dataframe.\n",
        "dict2={'Model':'Random forest regression ',\n",
        "       'MAE':round((MAE_rf),3),\n",
        "       'MSE':round((MSE_rf),3),\n",
        "       'RMSE':round((RMSE_rf),3),\n",
        "       'R2_score':round((r2_rf),3),\n",
        "       'Adjusted R2':round((Adjusted_R2_rf ),2)}\n",
        "test_df=test_df.append(dict2,ignore_index=True)"
      ],
      "metadata": {
        "id": "RE-BTgdaUH8v"
      },
      "execution_count": 110,
      "outputs": []
    },
    {
      "cell_type": "code",
      "source": [
        "# feature importances for random forest model\n",
        "rf_model.feature_importances_"
      ],
      "metadata": {
        "colab": {
          "base_uri": "https://localhost:8080/"
        },
        "id": "PP2yV4y7UOOL",
        "outputId": "b3eca124-d2f8-448a-aed7-1fa2cb952d45"
      },
      "execution_count": 111,
      "outputs": [
        {
          "output_type": "execute_result",
          "data": {
            "text/plain": [
              "array([0.00121078, 0.02829672, 0.00818697, 0.00893192, 0.00592277,\n",
              "       0.01617419, 0.93127663])"
            ]
          },
          "metadata": {},
          "execution_count": 111
        }
      ]
    },
    {
      "cell_type": "code",
      "source": [
        "# storing feature importances in a dataframe.\n",
        "importances = rf_model.feature_importances_\n",
        "importance_dict = {'Feature' : list(X_train.columns),\n",
        "                   'Feature Importance' : importances}\n",
        "importance_df = pd.DataFrame(importance_dict)"
      ],
      "metadata": {
        "id": "mekt4Y_RU27X"
      },
      "execution_count": 112,
      "outputs": []
    },
    {
      "cell_type": "code",
      "source": [
        "# rounding off the values.\n",
        "importance_df['Feature Importance'] = round(importance_df['Feature Importance'],2)"
      ],
      "metadata": {
        "id": "o3OEMmO1U4BP"
      },
      "execution_count": 113,
      "outputs": []
    },
    {
      "cell_type": "code",
      "source": [
        "# sort features according to their importance.\n",
        "importance_df.sort_values(by=['Feature Importance'],ascending=False)"
      ],
      "metadata": {
        "colab": {
          "base_uri": "https://localhost:8080/",
          "height": 269
        },
        "id": "j4EFrH7FU5_s",
        "outputId": "af05818b-4c1f-447b-8c1b-8e259d521288"
      },
      "execution_count": 114,
      "outputs": [
        {
          "output_type": "execute_result",
          "data": {
            "text/plain": [
              "           Feature  Feature Importance\n",
              "6         distance                0.93\n",
              "1             year                0.03\n",
              "5             Hour                0.02\n",
              "2            Month                0.01\n",
              "3             Date                0.01\n",
              "4              Day                0.01\n",
              "0  passenger_count                0.00"
            ],
            "text/html": [
              "\n",
              "  <div id=\"df-67035b95-e365-4d5f-a57e-23835a57db30\">\n",
              "    <div class=\"colab-df-container\">\n",
              "      <div>\n",
              "<style scoped>\n",
              "    .dataframe tbody tr th:only-of-type {\n",
              "        vertical-align: middle;\n",
              "    }\n",
              "\n",
              "    .dataframe tbody tr th {\n",
              "        vertical-align: top;\n",
              "    }\n",
              "\n",
              "    .dataframe thead th {\n",
              "        text-align: right;\n",
              "    }\n",
              "</style>\n",
              "<table border=\"1\" class=\"dataframe\">\n",
              "  <thead>\n",
              "    <tr style=\"text-align: right;\">\n",
              "      <th></th>\n",
              "      <th>Feature</th>\n",
              "      <th>Feature Importance</th>\n",
              "    </tr>\n",
              "  </thead>\n",
              "  <tbody>\n",
              "    <tr>\n",
              "      <th>6</th>\n",
              "      <td>distance</td>\n",
              "      <td>0.93</td>\n",
              "    </tr>\n",
              "    <tr>\n",
              "      <th>1</th>\n",
              "      <td>year</td>\n",
              "      <td>0.03</td>\n",
              "    </tr>\n",
              "    <tr>\n",
              "      <th>5</th>\n",
              "      <td>Hour</td>\n",
              "      <td>0.02</td>\n",
              "    </tr>\n",
              "    <tr>\n",
              "      <th>2</th>\n",
              "      <td>Month</td>\n",
              "      <td>0.01</td>\n",
              "    </tr>\n",
              "    <tr>\n",
              "      <th>3</th>\n",
              "      <td>Date</td>\n",
              "      <td>0.01</td>\n",
              "    </tr>\n",
              "    <tr>\n",
              "      <th>4</th>\n",
              "      <td>Day</td>\n",
              "      <td>0.01</td>\n",
              "    </tr>\n",
              "    <tr>\n",
              "      <th>0</th>\n",
              "      <td>passenger_count</td>\n",
              "      <td>0.00</td>\n",
              "    </tr>\n",
              "  </tbody>\n",
              "</table>\n",
              "</div>\n",
              "      <button class=\"colab-df-convert\" onclick=\"convertToInteractive('df-67035b95-e365-4d5f-a57e-23835a57db30')\"\n",
              "              title=\"Convert this dataframe to an interactive table.\"\n",
              "              style=\"display:none;\">\n",
              "        \n",
              "  <svg xmlns=\"http://www.w3.org/2000/svg\" height=\"24px\"viewBox=\"0 0 24 24\"\n",
              "       width=\"24px\">\n",
              "    <path d=\"M0 0h24v24H0V0z\" fill=\"none\"/>\n",
              "    <path d=\"M18.56 5.44l.94 2.06.94-2.06 2.06-.94-2.06-.94-.94-2.06-.94 2.06-2.06.94zm-11 1L8.5 8.5l.94-2.06 2.06-.94-2.06-.94L8.5 2.5l-.94 2.06-2.06.94zm10 10l.94 2.06.94-2.06 2.06-.94-2.06-.94-.94-2.06-.94 2.06-2.06.94z\"/><path d=\"M17.41 7.96l-1.37-1.37c-.4-.4-.92-.59-1.43-.59-.52 0-1.04.2-1.43.59L10.3 9.45l-7.72 7.72c-.78.78-.78 2.05 0 2.83L4 21.41c.39.39.9.59 1.41.59.51 0 1.02-.2 1.41-.59l7.78-7.78 2.81-2.81c.8-.78.8-2.07 0-2.86zM5.41 20L4 18.59l7.72-7.72 1.47 1.35L5.41 20z\"/>\n",
              "  </svg>\n",
              "      </button>\n",
              "      \n",
              "  <style>\n",
              "    .colab-df-container {\n",
              "      display:flex;\n",
              "      flex-wrap:wrap;\n",
              "      gap: 12px;\n",
              "    }\n",
              "\n",
              "    .colab-df-convert {\n",
              "      background-color: #E8F0FE;\n",
              "      border: none;\n",
              "      border-radius: 50%;\n",
              "      cursor: pointer;\n",
              "      display: none;\n",
              "      fill: #1967D2;\n",
              "      height: 32px;\n",
              "      padding: 0 0 0 0;\n",
              "      width: 32px;\n",
              "    }\n",
              "\n",
              "    .colab-df-convert:hover {\n",
              "      background-color: #E2EBFA;\n",
              "      box-shadow: 0px 1px 2px rgba(60, 64, 67, 0.3), 0px 1px 3px 1px rgba(60, 64, 67, 0.15);\n",
              "      fill: #174EA6;\n",
              "    }\n",
              "\n",
              "    [theme=dark] .colab-df-convert {\n",
              "      background-color: #3B4455;\n",
              "      fill: #D2E3FC;\n",
              "    }\n",
              "\n",
              "    [theme=dark] .colab-df-convert:hover {\n",
              "      background-color: #434B5C;\n",
              "      box-shadow: 0px 1px 3px 1px rgba(0, 0, 0, 0.15);\n",
              "      filter: drop-shadow(0px 1px 2px rgba(0, 0, 0, 0.3));\n",
              "      fill: #FFFFFF;\n",
              "    }\n",
              "  </style>\n",
              "\n",
              "      <script>\n",
              "        const buttonEl =\n",
              "          document.querySelector('#df-67035b95-e365-4d5f-a57e-23835a57db30 button.colab-df-convert');\n",
              "        buttonEl.style.display =\n",
              "          google.colab.kernel.accessAllowed ? 'block' : 'none';\n",
              "\n",
              "        async function convertToInteractive(key) {\n",
              "          const element = document.querySelector('#df-67035b95-e365-4d5f-a57e-23835a57db30');\n",
              "          const dataTable =\n",
              "            await google.colab.kernel.invokeFunction('convertToInteractive',\n",
              "                                                     [key], {});\n",
              "          if (!dataTable) return;\n",
              "\n",
              "          const docLinkHtml = 'Like what you see? Visit the ' +\n",
              "            '<a target=\"_blank\" href=https://colab.research.google.com/notebooks/data_table.ipynb>data table notebook</a>'\n",
              "            + ' to learn more about interactive tables.';\n",
              "          element.innerHTML = '';\n",
              "          dataTable['output_type'] = 'display_data';\n",
              "          await google.colab.output.renderOutput(dataTable, element);\n",
              "          const docLink = document.createElement('div');\n",
              "          docLink.innerHTML = docLinkHtml;\n",
              "          element.appendChild(docLink);\n",
              "        }\n",
              "      </script>\n",
              "    </div>\n",
              "  </div>\n",
              "  "
            ]
          },
          "metadata": {},
          "execution_count": 114
        }
      ]
    },
    {
      "cell_type": "code",
      "source": [
        "# display test evaluation dataframe.\n",
        "test_df"
      ],
      "metadata": {
        "colab": {
          "base_uri": "https://localhost:8080/",
          "height": 238
        },
        "id": "Z4wFhvBSU662",
        "outputId": "ea2780a3-5ba8-4aca-f12b-d2136d5f00ae"
      },
      "execution_count": 115,
      "outputs": [
        {
          "output_type": "execute_result",
          "data": {
            "text/plain": [
              "                         Model    MAE     MSE   RMSE  R2_score  Adjusted R2\n",
              "0           Linear regression   3.379  56.637  7.526     0.425         0.43\n",
              "1            Lasso regression   3.647  58.611  7.656     0.405         0.41\n",
              "2            Ridge regression   3.379  56.637  7.526     0.425         0.43\n",
              "3  Elastic net regression Test  3.453  56.876  7.542     0.423         0.42\n",
              "4    Decision tree regression   2.187  24.706  4.970     0.749         0.75\n",
              "5    Random forest regression   2.087  23.384  4.836     0.763         0.76"
            ],
            "text/html": [
              "\n",
              "  <div id=\"df-68c184c2-ce7c-47cb-94de-ae4897569e4b\">\n",
              "    <div class=\"colab-df-container\">\n",
              "      <div>\n",
              "<style scoped>\n",
              "    .dataframe tbody tr th:only-of-type {\n",
              "        vertical-align: middle;\n",
              "    }\n",
              "\n",
              "    .dataframe tbody tr th {\n",
              "        vertical-align: top;\n",
              "    }\n",
              "\n",
              "    .dataframe thead th {\n",
              "        text-align: right;\n",
              "    }\n",
              "</style>\n",
              "<table border=\"1\" class=\"dataframe\">\n",
              "  <thead>\n",
              "    <tr style=\"text-align: right;\">\n",
              "      <th></th>\n",
              "      <th>Model</th>\n",
              "      <th>MAE</th>\n",
              "      <th>MSE</th>\n",
              "      <th>RMSE</th>\n",
              "      <th>R2_score</th>\n",
              "      <th>Adjusted R2</th>\n",
              "    </tr>\n",
              "  </thead>\n",
              "  <tbody>\n",
              "    <tr>\n",
              "      <th>0</th>\n",
              "      <td>Linear regression</td>\n",
              "      <td>3.379</td>\n",
              "      <td>56.637</td>\n",
              "      <td>7.526</td>\n",
              "      <td>0.425</td>\n",
              "      <td>0.43</td>\n",
              "    </tr>\n",
              "    <tr>\n",
              "      <th>1</th>\n",
              "      <td>Lasso regression</td>\n",
              "      <td>3.647</td>\n",
              "      <td>58.611</td>\n",
              "      <td>7.656</td>\n",
              "      <td>0.405</td>\n",
              "      <td>0.41</td>\n",
              "    </tr>\n",
              "    <tr>\n",
              "      <th>2</th>\n",
              "      <td>Ridge regression</td>\n",
              "      <td>3.379</td>\n",
              "      <td>56.637</td>\n",
              "      <td>7.526</td>\n",
              "      <td>0.425</td>\n",
              "      <td>0.43</td>\n",
              "    </tr>\n",
              "    <tr>\n",
              "      <th>3</th>\n",
              "      <td>Elastic net regression Test</td>\n",
              "      <td>3.453</td>\n",
              "      <td>56.876</td>\n",
              "      <td>7.542</td>\n",
              "      <td>0.423</td>\n",
              "      <td>0.42</td>\n",
              "    </tr>\n",
              "    <tr>\n",
              "      <th>4</th>\n",
              "      <td>Decision tree regression</td>\n",
              "      <td>2.187</td>\n",
              "      <td>24.706</td>\n",
              "      <td>4.970</td>\n",
              "      <td>0.749</td>\n",
              "      <td>0.75</td>\n",
              "    </tr>\n",
              "    <tr>\n",
              "      <th>5</th>\n",
              "      <td>Random forest regression</td>\n",
              "      <td>2.087</td>\n",
              "      <td>23.384</td>\n",
              "      <td>4.836</td>\n",
              "      <td>0.763</td>\n",
              "      <td>0.76</td>\n",
              "    </tr>\n",
              "  </tbody>\n",
              "</table>\n",
              "</div>\n",
              "      <button class=\"colab-df-convert\" onclick=\"convertToInteractive('df-68c184c2-ce7c-47cb-94de-ae4897569e4b')\"\n",
              "              title=\"Convert this dataframe to an interactive table.\"\n",
              "              style=\"display:none;\">\n",
              "        \n",
              "  <svg xmlns=\"http://www.w3.org/2000/svg\" height=\"24px\"viewBox=\"0 0 24 24\"\n",
              "       width=\"24px\">\n",
              "    <path d=\"M0 0h24v24H0V0z\" fill=\"none\"/>\n",
              "    <path d=\"M18.56 5.44l.94 2.06.94-2.06 2.06-.94-2.06-.94-.94-2.06-.94 2.06-2.06.94zm-11 1L8.5 8.5l.94-2.06 2.06-.94-2.06-.94L8.5 2.5l-.94 2.06-2.06.94zm10 10l.94 2.06.94-2.06 2.06-.94-2.06-.94-.94-2.06-.94 2.06-2.06.94z\"/><path d=\"M17.41 7.96l-1.37-1.37c-.4-.4-.92-.59-1.43-.59-.52 0-1.04.2-1.43.59L10.3 9.45l-7.72 7.72c-.78.78-.78 2.05 0 2.83L4 21.41c.39.39.9.59 1.41.59.51 0 1.02-.2 1.41-.59l7.78-7.78 2.81-2.81c.8-.78.8-2.07 0-2.86zM5.41 20L4 18.59l7.72-7.72 1.47 1.35L5.41 20z\"/>\n",
              "  </svg>\n",
              "      </button>\n",
              "      \n",
              "  <style>\n",
              "    .colab-df-container {\n",
              "      display:flex;\n",
              "      flex-wrap:wrap;\n",
              "      gap: 12px;\n",
              "    }\n",
              "\n",
              "    .colab-df-convert {\n",
              "      background-color: #E8F0FE;\n",
              "      border: none;\n",
              "      border-radius: 50%;\n",
              "      cursor: pointer;\n",
              "      display: none;\n",
              "      fill: #1967D2;\n",
              "      height: 32px;\n",
              "      padding: 0 0 0 0;\n",
              "      width: 32px;\n",
              "    }\n",
              "\n",
              "    .colab-df-convert:hover {\n",
              "      background-color: #E2EBFA;\n",
              "      box-shadow: 0px 1px 2px rgba(60, 64, 67, 0.3), 0px 1px 3px 1px rgba(60, 64, 67, 0.15);\n",
              "      fill: #174EA6;\n",
              "    }\n",
              "\n",
              "    [theme=dark] .colab-df-convert {\n",
              "      background-color: #3B4455;\n",
              "      fill: #D2E3FC;\n",
              "    }\n",
              "\n",
              "    [theme=dark] .colab-df-convert:hover {\n",
              "      background-color: #434B5C;\n",
              "      box-shadow: 0px 1px 3px 1px rgba(0, 0, 0, 0.15);\n",
              "      filter: drop-shadow(0px 1px 2px rgba(0, 0, 0, 0.3));\n",
              "      fill: #FFFFFF;\n",
              "    }\n",
              "  </style>\n",
              "\n",
              "      <script>\n",
              "        const buttonEl =\n",
              "          document.querySelector('#df-68c184c2-ce7c-47cb-94de-ae4897569e4b button.colab-df-convert');\n",
              "        buttonEl.style.display =\n",
              "          google.colab.kernel.accessAllowed ? 'block' : 'none';\n",
              "\n",
              "        async function convertToInteractive(key) {\n",
              "          const element = document.querySelector('#df-68c184c2-ce7c-47cb-94de-ae4897569e4b');\n",
              "          const dataTable =\n",
              "            await google.colab.kernel.invokeFunction('convertToInteractive',\n",
              "                                                     [key], {});\n",
              "          if (!dataTable) return;\n",
              "\n",
              "          const docLinkHtml = 'Like what you see? Visit the ' +\n",
              "            '<a target=\"_blank\" href=https://colab.research.google.com/notebooks/data_table.ipynb>data table notebook</a>'\n",
              "            + ' to learn more about interactive tables.';\n",
              "          element.innerHTML = '';\n",
              "          dataTable['output_type'] = 'display_data';\n",
              "          await google.colab.output.renderOutput(dataTable, element);\n",
              "          const docLink = document.createElement('div');\n",
              "          docLink.innerHTML = docLinkHtml;\n",
              "          element.appendChild(docLink);\n",
              "        }\n",
              "      </script>\n",
              "    </div>\n",
              "  </div>\n",
              "  "
            ]
          },
          "metadata": {},
          "execution_count": 115
        }
      ]
    },
    {
      "cell_type": "markdown",
      "source": [
        "###**XGB Regressor**\n",
        "\n",
        "XGBoost is a powerful approach for building supervised regression models. The validity of this statement can be inferred by knowing about its (XGBoost) objective function and base learners. The objective function contains loss function and a regularization term. It tells about the difference between actual values and predicted values, i.e how far the model results are from the real values. The most common loss functions in XGBoost for regression problems is reg:linear, and that for binary classification is reg:logistics. Ensemble learning involves training and combining individual models (known as base learners) to get a single prediction, and XGBoost is one of the ensemble learning methods. XGBoost expects to have the base learners which are uniformly bad at the remainder so that when all the predictions are combined, bad predictions cancels out and better one sums up to form final good predictions."
      ],
      "metadata": {
        "id": "ARl00yB2VIm_"
      }
    },
    {
      "cell_type": "code",
      "source": [
        "# making a model object of XGB regressor.\n",
        "model = XGBRegressor(n_estimators=11, max_depth=8)\n",
        "\n",
        "# fitting train data in XGB model. \n",
        "model.fit(X_train, y_train)"
      ],
      "metadata": {
        "colab": {
          "base_uri": "https://localhost:8080/"
        },
        "id": "PdlB0m-gVFJj",
        "outputId": "f583a459-0202-4e26-f3ba-fe631a82ab62"
      },
      "execution_count": 116,
      "outputs": [
        {
          "output_type": "stream",
          "name": "stdout",
          "text": [
            "[16:29:52] WARNING: /workspace/src/objective/regression_obj.cu:152: reg:linear is now deprecated in favor of reg:squarederror.\n"
          ]
        },
        {
          "output_type": "execute_result",
          "data": {
            "text/plain": [
              "XGBRegressor(max_depth=8, n_estimators=11)"
            ]
          },
          "metadata": {},
          "execution_count": 116
        }
      ]
    },
    {
      "cell_type": "code",
      "source": [
        "# predict on train data.\n",
        "y_pred_train_xgb = model.predict(X_train)\n",
        "\n",
        "# predict on test data.\n",
        "y_pred_test_xgb = model.predict(X_test)"
      ],
      "metadata": {
        "id": "UYLdXjHpVKjA"
      },
      "execution_count": 117,
      "outputs": []
    },
    {
      "cell_type": "code",
      "source": [
        "# calculating model score on train data.\n",
        "print(\"Model Score:\", model.score(X_train,y_train))\n",
        "\n",
        "# calculating MSE\n",
        "MSE_d= mean_squared_error(y_train, y_pred_train_xgb)\n",
        "print(\"MSE :\", MSE_d)\n",
        "\n",
        "# calculating RMSE\n",
        "RMSE_d=np.sqrt(MSE_d)\n",
        "print(\"RMSE :\", RMSE_d)\n",
        "\n",
        "\n",
        "# calculating MAE\n",
        "MAE_d= mean_absolute_error(y_train, y_pred_train_xgb)\n",
        "print(\"MAE :\", MAE_d)\n",
        "\n",
        "# calculating r2\n",
        "r2_d= r2_score(y_train, y_pred_train_xgb)\n",
        "print(\"R2 :\", r2_d)\n",
        "\n",
        "# calculating adjusted r2\n",
        "Adjusted_R2_d=(1-(1-r2_score(y_train, y_pred_train_xgb))*((X_test.shape[0]-1)/(X_test.shape[0] - X_test.shape[1]-1)) )\n",
        "print(\"Adjusted R2 :\", Adjusted_R2_d )\n"
      ],
      "metadata": {
        "colab": {
          "base_uri": "https://localhost:8080/"
        },
        "id": "WZ82i3v6VL3h",
        "outputId": "26dbda9c-850e-43e8-ef89-b5187f3de685"
      },
      "execution_count": 118,
      "outputs": [
        {
          "output_type": "stream",
          "name": "stdout",
          "text": [
            "Model Score: 0.6187754365470772\n",
            "MSE : 35.781116194160624\n",
            "RMSE : 5.981731872473107\n",
            "MAE : 3.5756489957927973\n",
            "R2 : 0.6187754365470772\n",
            "Adjusted R2 : 0.6187205005304399\n"
          ]
        }
      ]
    },
    {
      "cell_type": "code",
      "source": [
        "# storing the train matrics in the train evaluation dataframe\n",
        "dict1={'Model':'XGBoost Regression ',\n",
        "       'MAE':round((MAE_d),3),\n",
        "       'MSE':round((MSE_d),3),\n",
        "       'RMSE':round((RMSE_d),3),\n",
        "       'R2_score':round((r2_d),3),\n",
        "       'Adjusted R2':round((Adjusted_R2_d),2)\n",
        "      }\n",
        "training_df=training_df.append(dict1,ignore_index=True)"
      ],
      "metadata": {
        "id": "MYIJZfJOVM7C"
      },
      "execution_count": 119,
      "outputs": []
    },
    {
      "cell_type": "code",
      "source": [
        "# calculating MSE\n",
        "MSE_d= mean_squared_error(y_test, y_pred_test_xgb)\n",
        "print(\"MSE :\",MSE_d)\n",
        "\n",
        "# calculating RMSE\n",
        "RMSE_d=np.sqrt(MSE_d)\n",
        "print(\"RMSE :\",RMSE_d)\n",
        "\n",
        "\n",
        "# calculating MAE\n",
        "MAE_d= mean_absolute_error(y_test, y_pred_test_xgb)\n",
        "print(\"MAE :\",MAE_d)\n",
        "\n",
        "# calculating r2\n",
        "r2_d= r2_score((y_test), (y_pred_test_xgb))\n",
        "print(\"R2 :\",r2_d)\n",
        "\n",
        "# calculating adjusted r2\n",
        "Adjusted_R2_d=(1-(1-r2_score((y_test), (y_pred_test_xgb)))*((X_test.shape[0]-1)/(X_test.shape[0]-X_test.shape[1]-1)) )\n",
        "print(\"Adjusted R2 :\", Adjusted_R2_d )"
      ],
      "metadata": {
        "colab": {
          "base_uri": "https://localhost:8080/"
        },
        "id": "ba1vod6bVPj6",
        "outputId": "fcc17249-de98-4d14-a067-f7d41647ff61"
      },
      "execution_count": 120,
      "outputs": [
        {
          "output_type": "stream",
          "name": "stdout",
          "text": [
            "MSE : 42.69150799124986\n",
            "RMSE : 6.533873888532733\n",
            "MAE : 3.6234408241913774\n",
            "R2 : 0.5668542024898424\n",
            "Adjusted R2 : 0.5667917844113145\n"
          ]
        }
      ]
    },
    {
      "cell_type": "code",
      "source": [
        "# storing the test matrics in the test evaluation dataframe\n",
        "dict2={'Model':'XGBoost regression ',\n",
        "       'MAE':round((MAE_d),3),\n",
        "       'MSE':round((MSE_d),3),\n",
        "       'RMSE':round((RMSE_d),3),\n",
        "       'R2_score':round((r2_d),3),\n",
        "       'Adjusted R2':round((Adjusted_R2_d),2)\n",
        "      }\n",
        "test_df=test_df.append(dict2,ignore_index=True)"
      ],
      "metadata": {
        "id": "BkXG5vjFVQi4"
      },
      "execution_count": 121,
      "outputs": []
    },
    {
      "cell_type": "code",
      "source": [
        "# display test evaluation dataframe.\n",
        "test_df"
      ],
      "metadata": {
        "colab": {
          "base_uri": "https://localhost:8080/",
          "height": 269
        },
        "id": "A65-N1TSVSq7",
        "outputId": "f0ff1681-651d-47ec-d0a8-6a298d6bf18d"
      },
      "execution_count": 122,
      "outputs": [
        {
          "output_type": "execute_result",
          "data": {
            "text/plain": [
              "                         Model    MAE     MSE   RMSE  R2_score  Adjusted R2\n",
              "0           Linear regression   3.379  56.637  7.526     0.425         0.43\n",
              "1            Lasso regression   3.647  58.611  7.656     0.405         0.41\n",
              "2            Ridge regression   3.379  56.637  7.526     0.425         0.43\n",
              "3  Elastic net regression Test  3.453  56.876  7.542     0.423         0.42\n",
              "4    Decision tree regression   2.187  24.706  4.970     0.749         0.75\n",
              "5    Random forest regression   2.087  23.384  4.836     0.763         0.76\n",
              "6          XGBoost regression   3.623  42.692  6.534     0.567         0.57"
            ],
            "text/html": [
              "\n",
              "  <div id=\"df-91e526a9-f55b-4150-b252-989afb5fa3b4\">\n",
              "    <div class=\"colab-df-container\">\n",
              "      <div>\n",
              "<style scoped>\n",
              "    .dataframe tbody tr th:only-of-type {\n",
              "        vertical-align: middle;\n",
              "    }\n",
              "\n",
              "    .dataframe tbody tr th {\n",
              "        vertical-align: top;\n",
              "    }\n",
              "\n",
              "    .dataframe thead th {\n",
              "        text-align: right;\n",
              "    }\n",
              "</style>\n",
              "<table border=\"1\" class=\"dataframe\">\n",
              "  <thead>\n",
              "    <tr style=\"text-align: right;\">\n",
              "      <th></th>\n",
              "      <th>Model</th>\n",
              "      <th>MAE</th>\n",
              "      <th>MSE</th>\n",
              "      <th>RMSE</th>\n",
              "      <th>R2_score</th>\n",
              "      <th>Adjusted R2</th>\n",
              "    </tr>\n",
              "  </thead>\n",
              "  <tbody>\n",
              "    <tr>\n",
              "      <th>0</th>\n",
              "      <td>Linear regression</td>\n",
              "      <td>3.379</td>\n",
              "      <td>56.637</td>\n",
              "      <td>7.526</td>\n",
              "      <td>0.425</td>\n",
              "      <td>0.43</td>\n",
              "    </tr>\n",
              "    <tr>\n",
              "      <th>1</th>\n",
              "      <td>Lasso regression</td>\n",
              "      <td>3.647</td>\n",
              "      <td>58.611</td>\n",
              "      <td>7.656</td>\n",
              "      <td>0.405</td>\n",
              "      <td>0.41</td>\n",
              "    </tr>\n",
              "    <tr>\n",
              "      <th>2</th>\n",
              "      <td>Ridge regression</td>\n",
              "      <td>3.379</td>\n",
              "      <td>56.637</td>\n",
              "      <td>7.526</td>\n",
              "      <td>0.425</td>\n",
              "      <td>0.43</td>\n",
              "    </tr>\n",
              "    <tr>\n",
              "      <th>3</th>\n",
              "      <td>Elastic net regression Test</td>\n",
              "      <td>3.453</td>\n",
              "      <td>56.876</td>\n",
              "      <td>7.542</td>\n",
              "      <td>0.423</td>\n",
              "      <td>0.42</td>\n",
              "    </tr>\n",
              "    <tr>\n",
              "      <th>4</th>\n",
              "      <td>Decision tree regression</td>\n",
              "      <td>2.187</td>\n",
              "      <td>24.706</td>\n",
              "      <td>4.970</td>\n",
              "      <td>0.749</td>\n",
              "      <td>0.75</td>\n",
              "    </tr>\n",
              "    <tr>\n",
              "      <th>5</th>\n",
              "      <td>Random forest regression</td>\n",
              "      <td>2.087</td>\n",
              "      <td>23.384</td>\n",
              "      <td>4.836</td>\n",
              "      <td>0.763</td>\n",
              "      <td>0.76</td>\n",
              "    </tr>\n",
              "    <tr>\n",
              "      <th>6</th>\n",
              "      <td>XGBoost regression</td>\n",
              "      <td>3.623</td>\n",
              "      <td>42.692</td>\n",
              "      <td>6.534</td>\n",
              "      <td>0.567</td>\n",
              "      <td>0.57</td>\n",
              "    </tr>\n",
              "  </tbody>\n",
              "</table>\n",
              "</div>\n",
              "      <button class=\"colab-df-convert\" onclick=\"convertToInteractive('df-91e526a9-f55b-4150-b252-989afb5fa3b4')\"\n",
              "              title=\"Convert this dataframe to an interactive table.\"\n",
              "              style=\"display:none;\">\n",
              "        \n",
              "  <svg xmlns=\"http://www.w3.org/2000/svg\" height=\"24px\"viewBox=\"0 0 24 24\"\n",
              "       width=\"24px\">\n",
              "    <path d=\"M0 0h24v24H0V0z\" fill=\"none\"/>\n",
              "    <path d=\"M18.56 5.44l.94 2.06.94-2.06 2.06-.94-2.06-.94-.94-2.06-.94 2.06-2.06.94zm-11 1L8.5 8.5l.94-2.06 2.06-.94-2.06-.94L8.5 2.5l-.94 2.06-2.06.94zm10 10l.94 2.06.94-2.06 2.06-.94-2.06-.94-.94-2.06-.94 2.06-2.06.94z\"/><path d=\"M17.41 7.96l-1.37-1.37c-.4-.4-.92-.59-1.43-.59-.52 0-1.04.2-1.43.59L10.3 9.45l-7.72 7.72c-.78.78-.78 2.05 0 2.83L4 21.41c.39.39.9.59 1.41.59.51 0 1.02-.2 1.41-.59l7.78-7.78 2.81-2.81c.8-.78.8-2.07 0-2.86zM5.41 20L4 18.59l7.72-7.72 1.47 1.35L5.41 20z\"/>\n",
              "  </svg>\n",
              "      </button>\n",
              "      \n",
              "  <style>\n",
              "    .colab-df-container {\n",
              "      display:flex;\n",
              "      flex-wrap:wrap;\n",
              "      gap: 12px;\n",
              "    }\n",
              "\n",
              "    .colab-df-convert {\n",
              "      background-color: #E8F0FE;\n",
              "      border: none;\n",
              "      border-radius: 50%;\n",
              "      cursor: pointer;\n",
              "      display: none;\n",
              "      fill: #1967D2;\n",
              "      height: 32px;\n",
              "      padding: 0 0 0 0;\n",
              "      width: 32px;\n",
              "    }\n",
              "\n",
              "    .colab-df-convert:hover {\n",
              "      background-color: #E2EBFA;\n",
              "      box-shadow: 0px 1px 2px rgba(60, 64, 67, 0.3), 0px 1px 3px 1px rgba(60, 64, 67, 0.15);\n",
              "      fill: #174EA6;\n",
              "    }\n",
              "\n",
              "    [theme=dark] .colab-df-convert {\n",
              "      background-color: #3B4455;\n",
              "      fill: #D2E3FC;\n",
              "    }\n",
              "\n",
              "    [theme=dark] .colab-df-convert:hover {\n",
              "      background-color: #434B5C;\n",
              "      box-shadow: 0px 1px 3px 1px rgba(0, 0, 0, 0.15);\n",
              "      filter: drop-shadow(0px 1px 2px rgba(0, 0, 0, 0.3));\n",
              "      fill: #FFFFFF;\n",
              "    }\n",
              "  </style>\n",
              "\n",
              "      <script>\n",
              "        const buttonEl =\n",
              "          document.querySelector('#df-91e526a9-f55b-4150-b252-989afb5fa3b4 button.colab-df-convert');\n",
              "        buttonEl.style.display =\n",
              "          google.colab.kernel.accessAllowed ? 'block' : 'none';\n",
              "\n",
              "        async function convertToInteractive(key) {\n",
              "          const element = document.querySelector('#df-91e526a9-f55b-4150-b252-989afb5fa3b4');\n",
              "          const dataTable =\n",
              "            await google.colab.kernel.invokeFunction('convertToInteractive',\n",
              "                                                     [key], {});\n",
              "          if (!dataTable) return;\n",
              "\n",
              "          const docLinkHtml = 'Like what you see? Visit the ' +\n",
              "            '<a target=\"_blank\" href=https://colab.research.google.com/notebooks/data_table.ipynb>data table notebook</a>'\n",
              "            + ' to learn more about interactive tables.';\n",
              "          element.innerHTML = '';\n",
              "          dataTable['output_type'] = 'display_data';\n",
              "          await google.colab.output.renderOutput(dataTable, element);\n",
              "          const docLink = document.createElement('div');\n",
              "          docLink.innerHTML = docLinkHtml;\n",
              "          element.appendChild(docLink);\n",
              "        }\n",
              "      </script>\n",
              "    </div>\n",
              "  </div>\n",
              "  "
            ]
          },
          "metadata": {},
          "execution_count": 122
        }
      ]
    },
    {
      "cell_type": "markdown",
      "source": [
        "##**Optimization**\n",
        "***\n",
        "\n",
        "From the Scores we have seen earlier Random forest has given by far the accuracy in predicting the target variable. Hence we have selected that for the optimization section. \n",
        "\n",
        "Here we'll try to improve the accuracy of the random forest model in predicting the views of a TED talk. \n",
        "\n",
        "Now lets talk about Optimization technique we are using. But before diving into that we need to understand what hyperparameters are.\n",
        "\n",
        "**Hyperparameters** are the variables that the user specify usually while building the Machine Learning model. thus, hyperparameters are specified before specifying the parameters or we can say that hyperparameters are used to evaluate optimal parameters of the model. the best part about hyperparameters is that their values are decided by the user who is building the model. For example, **max_depth** in Random Forest Algorithms.\n",
        "\n",
        "Now we know what hyperparameters are, our goal should be to find the best hyperparameters values to get the perfect prediction results from our model. To achieve that we'll use Grid Search CV that will help us find best hyperparameters values for our Random forest model.\n",
        "\n",
        "**Grid Search** uses a different combination of all the specified hyperparameters and their values and calculates the performance for each combination and selects the best value for the hyperparameters. This makes the processing time-consuming and expensive based on the number of hyperparameters involved.\n"
      ],
      "metadata": {
        "id": "Wqy3kJGxVYAe"
      }
    },
    {
      "cell_type": "markdown",
      "source": [
        "### **Random Forest with Grid Search CV**\n",
        "\n",
        "In GridSearchCV, along with Grid Search, cross-validation is also performed. Cross-Validation is used while training the model. As we know that before training the model with data, we divide the data into two parts – train data and test data. In cross-validation, the process divides the train data further into two parts – the train data and the validation data."
      ],
      "metadata": {
        "id": "1yc2eGxCVbGD"
      }
    },
    {
      "cell_type": "code",
      "source": [
        "# Defining a parameter dictionary for grid search CV. This will be the set of parameters \n",
        "# and their values the grid search algorithm will apply and get the \n",
        "# best combination of these parameters for optimised and accurate results.\n",
        "\n",
        "param_grid_cv = {\n",
        "'n_estimators': [200, 500],\n",
        "'max_features': ['auto', 'sqrt', 'log2'],\n",
        "'max_depth' : [5,6,7,8,9,10,11],\n",
        "\n",
        "}\n",
        "param_grid_cv"
      ],
      "metadata": {
        "colab": {
          "base_uri": "https://localhost:8080/"
        },
        "id": "c8izeWYbVU5E",
        "outputId": "b4cc9ca0-d1f8-40af-c98a-67420ad7b510"
      },
      "execution_count": 124,
      "outputs": [
        {
          "output_type": "execute_result",
          "data": {
            "text/plain": [
              "{'n_estimators': [200, 500],\n",
              " 'max_features': ['auto', 'sqrt', 'log2'],\n",
              " 'max_depth': [5, 6, 7, 8, 9, 10, 11]}"
            ]
          },
          "metadata": {},
          "execution_count": 124
        }
      ]
    },
    {
      "cell_type": "code",
      "source": [
        "# Running the GridSearchCV algorithm on above parameter dictionary \n",
        "# with estimator as rf_model(random forest model) to get the \n",
        "# best combination of parameters for random forest algorithm.\n",
        "CV_rfc = GridSearchCV(estimator = rf_model, param_grid = param_grid_cv, cv = 5)\n",
        "\n",
        "# Fitting the training data into the model.\n",
        "CV_rfc.fit(X_train, y_train)"
      ],
      "metadata": {
        "id": "PorTdC2_VWgW"
      },
      "execution_count": null,
      "outputs": []
    },
    {
      "cell_type": "code",
      "source": [
        "# predict on train data.\n",
        "y_pred_train_grid_cvr = CV_rfc.predict(X_train)\n",
        "\n",
        "# predict on test data.\n",
        "y_pred_test_grid_cvr = CV_rfc.predict(X_test)"
      ],
      "metadata": {
        "id": "qA4lZvmNVdwY"
      },
      "execution_count": null,
      "outputs": []
    },
    {
      "cell_type": "code",
      "source": [
        "# calculating model score on train data\n",
        "print(\"Model Score:\",CV_rfc.score(X_train,y_train))\n",
        "\n",
        "# calculating MSE\n",
        "MSE_rf = mean_squared_error(y_train, y_pred_train_grid_cvr)\n",
        "print(\"MSE :\",MSE_rf)\n",
        "\n",
        "# calculating RMSE\n",
        "RMSE_rf=np.sqrt(MSE_rf)\n",
        "print(\"RMSE :\",RMSE_rf)\n",
        "\n",
        "\n",
        "# calculating MAE\n",
        "MAE_rf= mean_absolute_error(y_train, y_pred_train_grid_cvr)\n",
        "print(\"MAE :\",MAE_rf)\n",
        "\n",
        "\n",
        "# calculating r2\n",
        "r2_rf= r2_score(y_train, y_pred_train_grid_cvr)\n",
        "print(\"R2 :\",r2_rf)\n",
        "\n",
        "# calculating adjusted r2\n",
        "Adjusted_R2_rf = (1-(1-r2_score(y_train, y_pred_train_grid_cvr))*((X_test.shape[0]-1)/(X_test.shape[0]-X_test.shape[1]-1)) )\n",
        "print(\"Adjusted R2 :\", Adjusted_R2_rf )\n"
      ],
      "metadata": {
        "id": "Fi2DvXZhVga3"
      },
      "execution_count": null,
      "outputs": []
    },
    {
      "cell_type": "code",
      "source": [
        "# Storing metrics in a dictionary.\n",
        "dict1={'Model':'Random forest regression with gridSearchCV ',\n",
        "       'MAE':round((MAE_rf),3),\n",
        "       'MSE':round((MSE_rf),3),\n",
        "       'RMSE':round((RMSE_rf),3),\n",
        "       'R2_score':round((r2_rf),3),\n",
        "       'Adjusted R2':round((Adjusted_R2_rf ),2)}\n",
        "\n",
        "# adding the values to the train evaluation dataframe.\n",
        "training_df=training_df.append(dict1,ignore_index=True)"
      ],
      "metadata": {
        "id": "WRgRhgWvVgYb"
      },
      "execution_count": null,
      "outputs": []
    },
    {
      "cell_type": "code",
      "source": [
        "# calculating MSE\n",
        "MSE_rf= mean_squared_error(y_test, y_pred_test_grid_cvr)\n",
        "print(\"MSE :\",MSE_rf)\n",
        "\n",
        "# calculating RMSE\n",
        "RMSE_rf=np.sqrt(MSE_rf)\n",
        "print(\"RMSE :\",RMSE_rf)\n",
        "\n",
        "\n",
        "# calculating MAE\n",
        "MAE_rf= mean_absolute_error(y_test, y_pred_test_grid_cvr)\n",
        "print(\"MAE :\",MAE_rf)\n",
        "\n",
        "\n",
        "# calculating r2\n",
        "r2_rf= r2_score((y_test), (y_pred_test_grid_cvr))\n",
        "print(\"R2 :\",r2_rf)\n",
        "\n",
        "# calculating adjusted r2\n",
        "Adjusted_R2_rf=(1-(1-r2_score((y_test), (y_pred_test_grid_cvr)))*((X_test.shape[0]-1)/(X_test.shape[0]-X_test.shape[1]-1)) )\n",
        "print(\"Adjusted R2 :\", Adjusted_R2_rf)"
      ],
      "metadata": {
        "id": "A6AAb0K5VgWH"
      },
      "execution_count": null,
      "outputs": []
    },
    {
      "cell_type": "code",
      "source": [
        "# storing the test set metrics value into the test evaluation dataframe\n",
        "dict2={'Model':'Random forest regression with gridSearchCV',\n",
        "       'MAE':round((MAE_rf),3),\n",
        "       'MSE':round((MSE_rf),3),\n",
        "       'RMSE':round((RMSE_rf),3),\n",
        "       'R2_score':round((r2_rf),3),\n",
        "       'Adjusted R2':round((Adjusted_R2_rf ),2)}\n",
        "test_df=test_df.append(dict2,ignore_index=True)"
      ],
      "metadata": {
        "id": "85aaTKaRVgKG"
      },
      "execution_count": null,
      "outputs": []
    },
    {
      "cell_type": "code",
      "source": [
        "# feature importances for grid CV random forest model.\n",
        "rf_model.feature_importances_"
      ],
      "metadata": {
        "id": "A52TE1ZwVoq8"
      },
      "execution_count": null,
      "outputs": []
    },
    {
      "cell_type": "code",
      "source": [
        "# storing feature importances in a dataframe\n",
        "importances = rf_model.feature_importances_\n",
        "importance_dict = {'Feature' : list(X_train.columns),\n",
        "                   'Feature Importance' : importances}\n",
        "importance_df = pd.DataFrame(importance_dict)"
      ],
      "metadata": {
        "id": "cOZ-eqq4Vom6"
      },
      "execution_count": null,
      "outputs": []
    },
    {
      "cell_type": "code",
      "source": [
        "# rounding off the values.\n",
        "importance_df['Feature Importance'] = round(importance_df['Feature Importance'],2)"
      ],
      "metadata": {
        "id": "OT_Wse2VVokH"
      },
      "execution_count": null,
      "outputs": []
    },
    {
      "cell_type": "code",
      "source": [
        "# sort features according to their importance.\n",
        "importance_df.sort_values(by=['Feature Importance'],ascending=False)   "
      ],
      "metadata": {
        "id": "b6SybyMqVogA"
      },
      "execution_count": null,
      "outputs": []
    }
  ]
}