{
  "nbformat": 4,
  "nbformat_minor": 0,
  "metadata": {
    "colab": {
      "provenance": [],
      "collapsed_sections": [],
      "authorship_tag": "ABX9TyPgxm6tAjbX4QINagEc3UQt",
      "include_colab_link": true
    },
    "kernelspec": {
      "name": "python3",
      "display_name": "Python 3"
    },
    "language_info": {
      "name": "python"
    }
  },
  "cells": [
    {
      "cell_type": "markdown",
      "metadata": {
        "id": "view-in-github",
        "colab_type": "text"
      },
      "source": [
        "<a href=\"https://colab.research.google.com/github/saahilahujaa/Passenger-Fare-Amount-Prediction/blob/main/Passenger_Fare_Amount_Prediction.ipynb\" target=\"_parent\"><img src=\"https://colab.research.google.com/assets/colab-badge.svg\" alt=\"Open In Colab\"/></a>"
      ]
    },
    {
      "cell_type": "markdown",
      "source": [
        "# **Passenger Fare Amount Prediction**"
      ],
      "metadata": {
        "id": "CJB1XasLpyun"
      }
    },
    {
      "cell_type": "markdown",
      "source": [
        "## **Objective** "
      ],
      "metadata": {
        "id": "Kuw9L-fup6Mc"
      }
    },
    {
      "cell_type": "markdown",
      "source": [
        "## **Importing Neccessary Libraries**\n",
        "Now in this section we'll import all the neccessary libraries and packages we'll require to develop the required model. Libraries like Pandas(and numpy), matplotlib(and seaborn) and sklearn are required for data manipulation, visualization and Machine Learning respectively."
      ],
      "metadata": {
        "id": "lrucKbEGp9EN"
      }
    },
    {
      "cell_type": "code",
      "execution_count": null,
      "metadata": {
        "id": "jJeGkSBmpT0L"
      },
      "outputs": [],
      "source": [
        "# Importing data visualization libraries.\n",
        "import matplotlib.pyplot as plt\n",
        "%matplotlib inline\n",
        "import seaborn as sns\n",
        "\n",
        "# Importing data manipulation libraries.\n",
        "import pandas as pd\n",
        "import numpy as np\n",
        "\n",
        "# Datatime library for Date columns.\n",
        "from datetime import datetime\n",
        "import datetime as dt\n",
        "from operator import itemgetter\n",
        "\n",
        "# Importing preprocessing libraries. \n",
        "from sklearn.preprocessing import MinMaxScaler\n",
        "from sklearn.preprocessing import OneHotEncoder\n",
        "from sklearn.preprocessing import MultiLabelBinarizer\n",
        "\n",
        "# Importing various machine learning models.\n",
        "from sklearn.linear_model import LinearRegression\n",
        "from sklearn.linear_model import Lasso\n",
        "from sklearn.linear_model import Ridge\n",
        "from sklearn.linear_model import ElasticNet\n",
        "from sklearn.tree import DecisionTreeRegressor\n",
        "from sklearn.ensemble import RandomForestRegressor\n",
        "from sklearn.ensemble import GradientBoostingRegressor\n",
        "\n",
        "# Importing model selection libraries.\n",
        "from sklearn.model_selection import cross_validate\n",
        "from sklearn.model_selection import train_test_split\n",
        "from sklearn.model_selection import GridSearchCV\n",
        "from sklearn.model_selection import cross_val_score\n",
        "from sklearn.model_selection import RepeatedStratifiedKFold\n",
        "from sklearn.model_selection import RandomizedSearchCV\n",
        "\n",
        "# Importing from math library\n",
        "from math import radians, cos, sin, asin, sqrt\n",
        "\n",
        "# importing XGB regressor.\n",
        "from xgboost import XGBRegressor\n",
        "\n",
        "# Import metrics libraries for model evaluation.\n",
        "from sklearn import metrics\n",
        "from sklearn.metrics import r2_score\n",
        "from sklearn.metrics import mean_squared_error\n",
        "from sklearn.metrics import accuracy_score\n",
        "from sklearn.metrics import mean_absolute_error\n",
        "from sklearn.metrics import log_loss\n",
        "\n",
        "# Importing graphviz for visualizing decision trees.\n",
        "import graphviz\n",
        "import sklearn.tree as tree\n",
        "\n",
        "# Importing warnings library. The warnings module handles warnings in Python.\n",
        "import warnings\n",
        "warnings.filterwarnings('ignore')\n"
      ]
    },
    {
      "cell_type": "markdown",
      "source": [
        "## **Data Gathering and Discovery**\n",
        "Now in this section we'll import all the neccessary libraries and packages we'll require to develop the required model. Libraries like Pandas(and numpy), matplotlib(and seaborn) and sklearn are required for data manipulation, visualization and Machine Learning respectively."
      ],
      "metadata": {
        "id": "-JtOsuilptDf"
      }
    },
    {
      "cell_type": "code",
      "source": [
        "# Mounting the Google Drive to access data.\n",
        "from google.colab import drive\n",
        "drive.mount('/content/drive')"
      ],
      "metadata": {
        "colab": {
          "base_uri": "https://localhost:8080/"
        },
        "id": "ettQPzyQpf1v",
        "outputId": "c1b6a912-e3e1-4f7b-8767-4fb776b5a2ca"
      },
      "execution_count": null,
      "outputs": [
        {
          "output_type": "stream",
          "name": "stdout",
          "text": [
            "Drive already mounted at /content/drive; to attempt to forcibly remount, call drive.mount(\"/content/drive\", force_remount=True).\n"
          ]
        }
      ]
    },
    {
      "cell_type": "code",
      "source": [
        "# The variable Data_path contains the path of dataset stored in drive.\n",
        "data_path = \"/content/drive/MyDrive/Alma Better/Capstone Projects/Passenger Fare Amount Prediction/\"\n",
        "\n",
        "# Importing Cardiovascular risk Data File.\n",
        "trip_df = pd.read_csv(data_path + \"trip.csv\")\n",
        "\n",
        "# Show the dataframe.\n",
        "trip_df"
      ],
      "metadata": {
        "colab": {
          "base_uri": "https://localhost:8080/",
          "height": 661
        },
        "id": "1NwiPQ89pov3",
        "outputId": "65ca556a-ccaf-4595-fe8a-f4258d8459d4"
      },
      "execution_count": null,
      "outputs": [
        {
          "output_type": "execute_result",
          "data": {
            "text/plain": [
              "           index                            key  fare_amount  \\\n",
              "0       24238194    2015-05-07 19:52:06.0000003          7.5   \n",
              "1       27835199    2009-07-17 20:04:56.0000002          7.7   \n",
              "2       44984355   2009-08-24 21:45:00.00000061         12.9   \n",
              "3       25894730    2009-06-26 08:22:21.0000001          5.3   \n",
              "4       17610152  2014-08-28 17:47:00.000000188         16.0   \n",
              "...          ...                            ...          ...   \n",
              "199995  42598914   2012-10-28 10:49:00.00000053          3.0   \n",
              "199996  16382965    2014-03-14 01:09:00.0000008          7.5   \n",
              "199997  27804658   2009-06-29 00:42:00.00000078         30.9   \n",
              "199998  20259894    2015-05-20 14:56:25.0000004         14.5   \n",
              "199999  11951496   2010-05-15 04:08:00.00000076         14.1   \n",
              "\n",
              "                pickup_datetime  pickup_longitude  pickup_latitude  \\\n",
              "0       2015-05-07 19:52:06 UTC        -73.999817        40.738354   \n",
              "1       2009-07-17 20:04:56 UTC        -73.994355        40.728225   \n",
              "2       2009-08-24 21:45:00 UTC        -74.005043        40.740770   \n",
              "3       2009-06-26 08:22:21 UTC        -73.976124        40.790844   \n",
              "4       2014-08-28 17:47:00 UTC        -73.925023        40.744085   \n",
              "...                         ...               ...              ...   \n",
              "199995  2012-10-28 10:49:00 UTC        -73.987042        40.739367   \n",
              "199996  2014-03-14 01:09:00 UTC        -73.984722        40.736837   \n",
              "199997  2009-06-29 00:42:00 UTC        -73.986017        40.756487   \n",
              "199998  2015-05-20 14:56:25 UTC        -73.997124        40.725452   \n",
              "199999  2010-05-15 04:08:00 UTC        -73.984395        40.720077   \n",
              "\n",
              "        dropoff_longitude  dropoff_latitude  passenger_count  \n",
              "0              -73.999512         40.723217                1  \n",
              "1              -73.994710         40.750325                1  \n",
              "2              -73.962565         40.772647                1  \n",
              "3              -73.965316         40.803349                3  \n",
              "4              -73.973082         40.761247                5  \n",
              "...                   ...               ...              ...  \n",
              "199995         -73.986525         40.740297                1  \n",
              "199996         -74.006672         40.739620                1  \n",
              "199997         -73.858957         40.692588                2  \n",
              "199998         -73.983215         40.695415                1  \n",
              "199999         -73.985508         40.768793                1  \n",
              "\n",
              "[200000 rows x 9 columns]"
            ],
            "text/html": [
              "\n",
              "  <div id=\"df-f7c2a471-bbad-4771-b2b8-5e112f9fd130\">\n",
              "    <div class=\"colab-df-container\">\n",
              "      <div>\n",
              "<style scoped>\n",
              "    .dataframe tbody tr th:only-of-type {\n",
              "        vertical-align: middle;\n",
              "    }\n",
              "\n",
              "    .dataframe tbody tr th {\n",
              "        vertical-align: top;\n",
              "    }\n",
              "\n",
              "    .dataframe thead th {\n",
              "        text-align: right;\n",
              "    }\n",
              "</style>\n",
              "<table border=\"1\" class=\"dataframe\">\n",
              "  <thead>\n",
              "    <tr style=\"text-align: right;\">\n",
              "      <th></th>\n",
              "      <th>index</th>\n",
              "      <th>key</th>\n",
              "      <th>fare_amount</th>\n",
              "      <th>pickup_datetime</th>\n",
              "      <th>pickup_longitude</th>\n",
              "      <th>pickup_latitude</th>\n",
              "      <th>dropoff_longitude</th>\n",
              "      <th>dropoff_latitude</th>\n",
              "      <th>passenger_count</th>\n",
              "    </tr>\n",
              "  </thead>\n",
              "  <tbody>\n",
              "    <tr>\n",
              "      <th>0</th>\n",
              "      <td>24238194</td>\n",
              "      <td>2015-05-07 19:52:06.0000003</td>\n",
              "      <td>7.5</td>\n",
              "      <td>2015-05-07 19:52:06 UTC</td>\n",
              "      <td>-73.999817</td>\n",
              "      <td>40.738354</td>\n",
              "      <td>-73.999512</td>\n",
              "      <td>40.723217</td>\n",
              "      <td>1</td>\n",
              "    </tr>\n",
              "    <tr>\n",
              "      <th>1</th>\n",
              "      <td>27835199</td>\n",
              "      <td>2009-07-17 20:04:56.0000002</td>\n",
              "      <td>7.7</td>\n",
              "      <td>2009-07-17 20:04:56 UTC</td>\n",
              "      <td>-73.994355</td>\n",
              "      <td>40.728225</td>\n",
              "      <td>-73.994710</td>\n",
              "      <td>40.750325</td>\n",
              "      <td>1</td>\n",
              "    </tr>\n",
              "    <tr>\n",
              "      <th>2</th>\n",
              "      <td>44984355</td>\n",
              "      <td>2009-08-24 21:45:00.00000061</td>\n",
              "      <td>12.9</td>\n",
              "      <td>2009-08-24 21:45:00 UTC</td>\n",
              "      <td>-74.005043</td>\n",
              "      <td>40.740770</td>\n",
              "      <td>-73.962565</td>\n",
              "      <td>40.772647</td>\n",
              "      <td>1</td>\n",
              "    </tr>\n",
              "    <tr>\n",
              "      <th>3</th>\n",
              "      <td>25894730</td>\n",
              "      <td>2009-06-26 08:22:21.0000001</td>\n",
              "      <td>5.3</td>\n",
              "      <td>2009-06-26 08:22:21 UTC</td>\n",
              "      <td>-73.976124</td>\n",
              "      <td>40.790844</td>\n",
              "      <td>-73.965316</td>\n",
              "      <td>40.803349</td>\n",
              "      <td>3</td>\n",
              "    </tr>\n",
              "    <tr>\n",
              "      <th>4</th>\n",
              "      <td>17610152</td>\n",
              "      <td>2014-08-28 17:47:00.000000188</td>\n",
              "      <td>16.0</td>\n",
              "      <td>2014-08-28 17:47:00 UTC</td>\n",
              "      <td>-73.925023</td>\n",
              "      <td>40.744085</td>\n",
              "      <td>-73.973082</td>\n",
              "      <td>40.761247</td>\n",
              "      <td>5</td>\n",
              "    </tr>\n",
              "    <tr>\n",
              "      <th>...</th>\n",
              "      <td>...</td>\n",
              "      <td>...</td>\n",
              "      <td>...</td>\n",
              "      <td>...</td>\n",
              "      <td>...</td>\n",
              "      <td>...</td>\n",
              "      <td>...</td>\n",
              "      <td>...</td>\n",
              "      <td>...</td>\n",
              "    </tr>\n",
              "    <tr>\n",
              "      <th>199995</th>\n",
              "      <td>42598914</td>\n",
              "      <td>2012-10-28 10:49:00.00000053</td>\n",
              "      <td>3.0</td>\n",
              "      <td>2012-10-28 10:49:00 UTC</td>\n",
              "      <td>-73.987042</td>\n",
              "      <td>40.739367</td>\n",
              "      <td>-73.986525</td>\n",
              "      <td>40.740297</td>\n",
              "      <td>1</td>\n",
              "    </tr>\n",
              "    <tr>\n",
              "      <th>199996</th>\n",
              "      <td>16382965</td>\n",
              "      <td>2014-03-14 01:09:00.0000008</td>\n",
              "      <td>7.5</td>\n",
              "      <td>2014-03-14 01:09:00 UTC</td>\n",
              "      <td>-73.984722</td>\n",
              "      <td>40.736837</td>\n",
              "      <td>-74.006672</td>\n",
              "      <td>40.739620</td>\n",
              "      <td>1</td>\n",
              "    </tr>\n",
              "    <tr>\n",
              "      <th>199997</th>\n",
              "      <td>27804658</td>\n",
              "      <td>2009-06-29 00:42:00.00000078</td>\n",
              "      <td>30.9</td>\n",
              "      <td>2009-06-29 00:42:00 UTC</td>\n",
              "      <td>-73.986017</td>\n",
              "      <td>40.756487</td>\n",
              "      <td>-73.858957</td>\n",
              "      <td>40.692588</td>\n",
              "      <td>2</td>\n",
              "    </tr>\n",
              "    <tr>\n",
              "      <th>199998</th>\n",
              "      <td>20259894</td>\n",
              "      <td>2015-05-20 14:56:25.0000004</td>\n",
              "      <td>14.5</td>\n",
              "      <td>2015-05-20 14:56:25 UTC</td>\n",
              "      <td>-73.997124</td>\n",
              "      <td>40.725452</td>\n",
              "      <td>-73.983215</td>\n",
              "      <td>40.695415</td>\n",
              "      <td>1</td>\n",
              "    </tr>\n",
              "    <tr>\n",
              "      <th>199999</th>\n",
              "      <td>11951496</td>\n",
              "      <td>2010-05-15 04:08:00.00000076</td>\n",
              "      <td>14.1</td>\n",
              "      <td>2010-05-15 04:08:00 UTC</td>\n",
              "      <td>-73.984395</td>\n",
              "      <td>40.720077</td>\n",
              "      <td>-73.985508</td>\n",
              "      <td>40.768793</td>\n",
              "      <td>1</td>\n",
              "    </tr>\n",
              "  </tbody>\n",
              "</table>\n",
              "<p>200000 rows × 9 columns</p>\n",
              "</div>\n",
              "      <button class=\"colab-df-convert\" onclick=\"convertToInteractive('df-f7c2a471-bbad-4771-b2b8-5e112f9fd130')\"\n",
              "              title=\"Convert this dataframe to an interactive table.\"\n",
              "              style=\"display:none;\">\n",
              "        \n",
              "  <svg xmlns=\"http://www.w3.org/2000/svg\" height=\"24px\"viewBox=\"0 0 24 24\"\n",
              "       width=\"24px\">\n",
              "    <path d=\"M0 0h24v24H0V0z\" fill=\"none\"/>\n",
              "    <path d=\"M18.56 5.44l.94 2.06.94-2.06 2.06-.94-2.06-.94-.94-2.06-.94 2.06-2.06.94zm-11 1L8.5 8.5l.94-2.06 2.06-.94-2.06-.94L8.5 2.5l-.94 2.06-2.06.94zm10 10l.94 2.06.94-2.06 2.06-.94-2.06-.94-.94-2.06-.94 2.06-2.06.94z\"/><path d=\"M17.41 7.96l-1.37-1.37c-.4-.4-.92-.59-1.43-.59-.52 0-1.04.2-1.43.59L10.3 9.45l-7.72 7.72c-.78.78-.78 2.05 0 2.83L4 21.41c.39.39.9.59 1.41.59.51 0 1.02-.2 1.41-.59l7.78-7.78 2.81-2.81c.8-.78.8-2.07 0-2.86zM5.41 20L4 18.59l7.72-7.72 1.47 1.35L5.41 20z\"/>\n",
              "  </svg>\n",
              "      </button>\n",
              "      \n",
              "  <style>\n",
              "    .colab-df-container {\n",
              "      display:flex;\n",
              "      flex-wrap:wrap;\n",
              "      gap: 12px;\n",
              "    }\n",
              "\n",
              "    .colab-df-convert {\n",
              "      background-color: #E8F0FE;\n",
              "      border: none;\n",
              "      border-radius: 50%;\n",
              "      cursor: pointer;\n",
              "      display: none;\n",
              "      fill: #1967D2;\n",
              "      height: 32px;\n",
              "      padding: 0 0 0 0;\n",
              "      width: 32px;\n",
              "    }\n",
              "\n",
              "    .colab-df-convert:hover {\n",
              "      background-color: #E2EBFA;\n",
              "      box-shadow: 0px 1px 2px rgba(60, 64, 67, 0.3), 0px 1px 3px 1px rgba(60, 64, 67, 0.15);\n",
              "      fill: #174EA6;\n",
              "    }\n",
              "\n",
              "    [theme=dark] .colab-df-convert {\n",
              "      background-color: #3B4455;\n",
              "      fill: #D2E3FC;\n",
              "    }\n",
              "\n",
              "    [theme=dark] .colab-df-convert:hover {\n",
              "      background-color: #434B5C;\n",
              "      box-shadow: 0px 1px 3px 1px rgba(0, 0, 0, 0.15);\n",
              "      filter: drop-shadow(0px 1px 2px rgba(0, 0, 0, 0.3));\n",
              "      fill: #FFFFFF;\n",
              "    }\n",
              "  </style>\n",
              "\n",
              "      <script>\n",
              "        const buttonEl =\n",
              "          document.querySelector('#df-f7c2a471-bbad-4771-b2b8-5e112f9fd130 button.colab-df-convert');\n",
              "        buttonEl.style.display =\n",
              "          google.colab.kernel.accessAllowed ? 'block' : 'none';\n",
              "\n",
              "        async function convertToInteractive(key) {\n",
              "          const element = document.querySelector('#df-f7c2a471-bbad-4771-b2b8-5e112f9fd130');\n",
              "          const dataTable =\n",
              "            await google.colab.kernel.invokeFunction('convertToInteractive',\n",
              "                                                     [key], {});\n",
              "          if (!dataTable) return;\n",
              "\n",
              "          const docLinkHtml = 'Like what you see? Visit the ' +\n",
              "            '<a target=\"_blank\" href=https://colab.research.google.com/notebooks/data_table.ipynb>data table notebook</a>'\n",
              "            + ' to learn more about interactive tables.';\n",
              "          element.innerHTML = '';\n",
              "          dataTable['output_type'] = 'display_data';\n",
              "          await google.colab.output.renderOutput(dataTable, element);\n",
              "          const docLink = document.createElement('div');\n",
              "          docLink.innerHTML = docLinkHtml;\n",
              "          element.appendChild(docLink);\n",
              "        }\n",
              "      </script>\n",
              "    </div>\n",
              "  </div>\n",
              "  "
            ]
          },
          "metadata": {},
          "execution_count": 3
        }
      ]
    },
    {
      "cell_type": "markdown",
      "source": [
        "Now lets see the first few rows to the dataset to understand the data and see what all attributes are present in the data file."
      ],
      "metadata": {
        "id": "8HZqHLCzqhJv"
      }
    },
    {
      "cell_type": "code",
      "source": [
        "# First 5 rows of dataset.\n",
        "trip_df.head()"
      ],
      "metadata": {
        "colab": {
          "base_uri": "https://localhost:8080/",
          "height": 357
        },
        "id": "K5d1DwNhqcbx",
        "outputId": "7a9cd788-56ee-4738-e3ff-91c803834e92"
      },
      "execution_count": null,
      "outputs": [
        {
          "output_type": "execute_result",
          "data": {
            "text/plain": [
              "      index                            key  fare_amount  \\\n",
              "0  24238194    2015-05-07 19:52:06.0000003          7.5   \n",
              "1  27835199    2009-07-17 20:04:56.0000002          7.7   \n",
              "2  44984355   2009-08-24 21:45:00.00000061         12.9   \n",
              "3  25894730    2009-06-26 08:22:21.0000001          5.3   \n",
              "4  17610152  2014-08-28 17:47:00.000000188         16.0   \n",
              "\n",
              "           pickup_datetime  pickup_longitude  pickup_latitude  \\\n",
              "0  2015-05-07 19:52:06 UTC        -73.999817        40.738354   \n",
              "1  2009-07-17 20:04:56 UTC        -73.994355        40.728225   \n",
              "2  2009-08-24 21:45:00 UTC        -74.005043        40.740770   \n",
              "3  2009-06-26 08:22:21 UTC        -73.976124        40.790844   \n",
              "4  2014-08-28 17:47:00 UTC        -73.925023        40.744085   \n",
              "\n",
              "   dropoff_longitude  dropoff_latitude  passenger_count  \n",
              "0         -73.999512         40.723217                1  \n",
              "1         -73.994710         40.750325                1  \n",
              "2         -73.962565         40.772647                1  \n",
              "3         -73.965316         40.803349                3  \n",
              "4         -73.973082         40.761247                5  "
            ],
            "text/html": [
              "\n",
              "  <div id=\"df-1d691d4f-7616-450f-b091-982bc7a52f62\">\n",
              "    <div class=\"colab-df-container\">\n",
              "      <div>\n",
              "<style scoped>\n",
              "    .dataframe tbody tr th:only-of-type {\n",
              "        vertical-align: middle;\n",
              "    }\n",
              "\n",
              "    .dataframe tbody tr th {\n",
              "        vertical-align: top;\n",
              "    }\n",
              "\n",
              "    .dataframe thead th {\n",
              "        text-align: right;\n",
              "    }\n",
              "</style>\n",
              "<table border=\"1\" class=\"dataframe\">\n",
              "  <thead>\n",
              "    <tr style=\"text-align: right;\">\n",
              "      <th></th>\n",
              "      <th>index</th>\n",
              "      <th>key</th>\n",
              "      <th>fare_amount</th>\n",
              "      <th>pickup_datetime</th>\n",
              "      <th>pickup_longitude</th>\n",
              "      <th>pickup_latitude</th>\n",
              "      <th>dropoff_longitude</th>\n",
              "      <th>dropoff_latitude</th>\n",
              "      <th>passenger_count</th>\n",
              "    </tr>\n",
              "  </thead>\n",
              "  <tbody>\n",
              "    <tr>\n",
              "      <th>0</th>\n",
              "      <td>24238194</td>\n",
              "      <td>2015-05-07 19:52:06.0000003</td>\n",
              "      <td>7.5</td>\n",
              "      <td>2015-05-07 19:52:06 UTC</td>\n",
              "      <td>-73.999817</td>\n",
              "      <td>40.738354</td>\n",
              "      <td>-73.999512</td>\n",
              "      <td>40.723217</td>\n",
              "      <td>1</td>\n",
              "    </tr>\n",
              "    <tr>\n",
              "      <th>1</th>\n",
              "      <td>27835199</td>\n",
              "      <td>2009-07-17 20:04:56.0000002</td>\n",
              "      <td>7.7</td>\n",
              "      <td>2009-07-17 20:04:56 UTC</td>\n",
              "      <td>-73.994355</td>\n",
              "      <td>40.728225</td>\n",
              "      <td>-73.994710</td>\n",
              "      <td>40.750325</td>\n",
              "      <td>1</td>\n",
              "    </tr>\n",
              "    <tr>\n",
              "      <th>2</th>\n",
              "      <td>44984355</td>\n",
              "      <td>2009-08-24 21:45:00.00000061</td>\n",
              "      <td>12.9</td>\n",
              "      <td>2009-08-24 21:45:00 UTC</td>\n",
              "      <td>-74.005043</td>\n",
              "      <td>40.740770</td>\n",
              "      <td>-73.962565</td>\n",
              "      <td>40.772647</td>\n",
              "      <td>1</td>\n",
              "    </tr>\n",
              "    <tr>\n",
              "      <th>3</th>\n",
              "      <td>25894730</td>\n",
              "      <td>2009-06-26 08:22:21.0000001</td>\n",
              "      <td>5.3</td>\n",
              "      <td>2009-06-26 08:22:21 UTC</td>\n",
              "      <td>-73.976124</td>\n",
              "      <td>40.790844</td>\n",
              "      <td>-73.965316</td>\n",
              "      <td>40.803349</td>\n",
              "      <td>3</td>\n",
              "    </tr>\n",
              "    <tr>\n",
              "      <th>4</th>\n",
              "      <td>17610152</td>\n",
              "      <td>2014-08-28 17:47:00.000000188</td>\n",
              "      <td>16.0</td>\n",
              "      <td>2014-08-28 17:47:00 UTC</td>\n",
              "      <td>-73.925023</td>\n",
              "      <td>40.744085</td>\n",
              "      <td>-73.973082</td>\n",
              "      <td>40.761247</td>\n",
              "      <td>5</td>\n",
              "    </tr>\n",
              "  </tbody>\n",
              "</table>\n",
              "</div>\n",
              "      <button class=\"colab-df-convert\" onclick=\"convertToInteractive('df-1d691d4f-7616-450f-b091-982bc7a52f62')\"\n",
              "              title=\"Convert this dataframe to an interactive table.\"\n",
              "              style=\"display:none;\">\n",
              "        \n",
              "  <svg xmlns=\"http://www.w3.org/2000/svg\" height=\"24px\"viewBox=\"0 0 24 24\"\n",
              "       width=\"24px\">\n",
              "    <path d=\"M0 0h24v24H0V0z\" fill=\"none\"/>\n",
              "    <path d=\"M18.56 5.44l.94 2.06.94-2.06 2.06-.94-2.06-.94-.94-2.06-.94 2.06-2.06.94zm-11 1L8.5 8.5l.94-2.06 2.06-.94-2.06-.94L8.5 2.5l-.94 2.06-2.06.94zm10 10l.94 2.06.94-2.06 2.06-.94-2.06-.94-.94-2.06-.94 2.06-2.06.94z\"/><path d=\"M17.41 7.96l-1.37-1.37c-.4-.4-.92-.59-1.43-.59-.52 0-1.04.2-1.43.59L10.3 9.45l-7.72 7.72c-.78.78-.78 2.05 0 2.83L4 21.41c.39.39.9.59 1.41.59.51 0 1.02-.2 1.41-.59l7.78-7.78 2.81-2.81c.8-.78.8-2.07 0-2.86zM5.41 20L4 18.59l7.72-7.72 1.47 1.35L5.41 20z\"/>\n",
              "  </svg>\n",
              "      </button>\n",
              "      \n",
              "  <style>\n",
              "    .colab-df-container {\n",
              "      display:flex;\n",
              "      flex-wrap:wrap;\n",
              "      gap: 12px;\n",
              "    }\n",
              "\n",
              "    .colab-df-convert {\n",
              "      background-color: #E8F0FE;\n",
              "      border: none;\n",
              "      border-radius: 50%;\n",
              "      cursor: pointer;\n",
              "      display: none;\n",
              "      fill: #1967D2;\n",
              "      height: 32px;\n",
              "      padding: 0 0 0 0;\n",
              "      width: 32px;\n",
              "    }\n",
              "\n",
              "    .colab-df-convert:hover {\n",
              "      background-color: #E2EBFA;\n",
              "      box-shadow: 0px 1px 2px rgba(60, 64, 67, 0.3), 0px 1px 3px 1px rgba(60, 64, 67, 0.15);\n",
              "      fill: #174EA6;\n",
              "    }\n",
              "\n",
              "    [theme=dark] .colab-df-convert {\n",
              "      background-color: #3B4455;\n",
              "      fill: #D2E3FC;\n",
              "    }\n",
              "\n",
              "    [theme=dark] .colab-df-convert:hover {\n",
              "      background-color: #434B5C;\n",
              "      box-shadow: 0px 1px 3px 1px rgba(0, 0, 0, 0.15);\n",
              "      filter: drop-shadow(0px 1px 2px rgba(0, 0, 0, 0.3));\n",
              "      fill: #FFFFFF;\n",
              "    }\n",
              "  </style>\n",
              "\n",
              "      <script>\n",
              "        const buttonEl =\n",
              "          document.querySelector('#df-1d691d4f-7616-450f-b091-982bc7a52f62 button.colab-df-convert');\n",
              "        buttonEl.style.display =\n",
              "          google.colab.kernel.accessAllowed ? 'block' : 'none';\n",
              "\n",
              "        async function convertToInteractive(key) {\n",
              "          const element = document.querySelector('#df-1d691d4f-7616-450f-b091-982bc7a52f62');\n",
              "          const dataTable =\n",
              "            await google.colab.kernel.invokeFunction('convertToInteractive',\n",
              "                                                     [key], {});\n",
              "          if (!dataTable) return;\n",
              "\n",
              "          const docLinkHtml = 'Like what you see? Visit the ' +\n",
              "            '<a target=\"_blank\" href=https://colab.research.google.com/notebooks/data_table.ipynb>data table notebook</a>'\n",
              "            + ' to learn more about interactive tables.';\n",
              "          element.innerHTML = '';\n",
              "          dataTable['output_type'] = 'display_data';\n",
              "          await google.colab.output.renderOutput(dataTable, element);\n",
              "          const docLink = document.createElement('div');\n",
              "          docLink.innerHTML = docLinkHtml;\n",
              "          element.appendChild(docLink);\n",
              "        }\n",
              "      </script>\n",
              "    </div>\n",
              "  </div>\n",
              "  "
            ]
          },
          "metadata": {},
          "execution_count": 4
        }
      ]
    },
    {
      "cell_type": "code",
      "source": [
        "# Shape of the data file (rows, columns).\n",
        "trip_df.shape"
      ],
      "metadata": {
        "colab": {
          "base_uri": "https://localhost:8080/"
        },
        "id": "c4_TSQyJqjlI",
        "outputId": "841b84dd-e661-425e-b0b7-d10cb346f0ec"
      },
      "execution_count": null,
      "outputs": [
        {
          "output_type": "execute_result",
          "data": {
            "text/plain": [
              "(200000, 9)"
            ]
          },
          "metadata": {},
          "execution_count": 5
        }
      ]
    },
    {
      "cell_type": "markdown",
      "source": [
        "The dataset contains the details of various trips when customers booked the taxi to reach their respective destination. It includes 2,00,000 records and 9 attributes."
      ],
      "metadata": {
        "id": "1aBci85mq0Hh"
      }
    },
    {
      "cell_type": "markdown",
      "source": [
        "**Data Description and Attributes:-**\n",
        "\n",
        "*   index - a unique identifier for each trip.\n",
        "\n",
        "*   key - timestamp when the meter was engaged.\n",
        "\n",
        "*   pickup_datetime - date and time when the meter was engaged.\n",
        "\n",
        "*   passenger_count - the number of passengers in the vehicle (driver entered value).\n",
        "\n",
        "*   pickup_longitude - the longitude where the meter was engaged.\n",
        "\n",
        "*   pickup_latitude - the latitude where the meter was engaged.\n",
        "\n",
        "*   dropoff_longitude - the longitude where the meter was disengaged.\n",
        "\n",
        "*   dropoff_latitude - the latitude where the meter was disengaged.\n",
        "\n",
        "**Dependent Variable:-**\n",
        "\n",
        "*   ***fare_amount - the cost of each trip in USD.***"
      ],
      "metadata": {
        "id": "UgqDmZiwrKex"
      }
    },
    {
      "cell_type": "code",
      "source": [
        "# Description of all columns in the dataset.\n",
        "trip_df.describe(include = 'all').T"
      ],
      "metadata": {
        "colab": {
          "base_uri": "https://localhost:8080/",
          "height": 430
        },
        "id": "mIAdE8sVqwGg",
        "outputId": "3b05a8d0-7025-4035-d6d5-9889a78cb93e"
      },
      "execution_count": null,
      "outputs": [
        {
          "output_type": "execute_result",
          "data": {
            "text/plain": [
              "                      count  unique                          top freq  \\\n",
              "index              200000.0     NaN                          NaN  NaN   \n",
              "key                  200000  200000  2015-05-07 19:52:06.0000003    1   \n",
              "fare_amount        200000.0     NaN                          NaN  NaN   \n",
              "pickup_datetime      200000  196629      2014-04-13 18:19:00 UTC    4   \n",
              "pickup_longitude   200000.0     NaN                          NaN  NaN   \n",
              "pickup_latitude    200000.0     NaN                          NaN  NaN   \n",
              "dropoff_longitude  199999.0     NaN                          NaN  NaN   \n",
              "dropoff_latitude   199999.0     NaN                          NaN  NaN   \n",
              "passenger_count    200000.0     NaN                          NaN  NaN   \n",
              "\n",
              "                             mean              std         min          25%  \\\n",
              "index              27712503.68235  16013822.212829         1.0  13825346.25   \n",
              "key                           NaN              NaN         NaN          NaN   \n",
              "fare_amount             11.359955         9.901776       -52.0          6.0   \n",
              "pickup_datetime               NaN              NaN         NaN          NaN   \n",
              "pickup_longitude       -72.527638        11.437787 -1340.64841   -73.992065   \n",
              "pickup_latitude         39.935885         7.720539  -74.015515    40.734796   \n",
              "dropoff_longitude      -72.525292        13.117408  -3356.6663   -73.991407   \n",
              "dropoff_latitude         39.92389         6.794829 -881.985513    40.733823   \n",
              "passenger_count          1.684535         1.385997         0.0          1.0   \n",
              "\n",
              "                          50%          75%          max  \n",
              "index              27745495.0  41555300.75   55423567.0  \n",
              "key                       NaN          NaN          NaN  \n",
              "fare_amount               8.5         12.5        499.0  \n",
              "pickup_datetime           NaN          NaN          NaN  \n",
              "pickup_longitude   -73.981823   -73.967154    57.418457  \n",
              "pickup_latitude     40.752592    40.767158  1644.421482  \n",
              "dropoff_longitude  -73.980093   -73.963658  1153.572603  \n",
              "dropoff_latitude    40.753042    40.768001   872.697628  \n",
              "passenger_count           1.0          2.0        208.0  "
            ],
            "text/html": [
              "\n",
              "  <div id=\"df-22605855-21d6-4bc9-a371-e99b609451d4\">\n",
              "    <div class=\"colab-df-container\">\n",
              "      <div>\n",
              "<style scoped>\n",
              "    .dataframe tbody tr th:only-of-type {\n",
              "        vertical-align: middle;\n",
              "    }\n",
              "\n",
              "    .dataframe tbody tr th {\n",
              "        vertical-align: top;\n",
              "    }\n",
              "\n",
              "    .dataframe thead th {\n",
              "        text-align: right;\n",
              "    }\n",
              "</style>\n",
              "<table border=\"1\" class=\"dataframe\">\n",
              "  <thead>\n",
              "    <tr style=\"text-align: right;\">\n",
              "      <th></th>\n",
              "      <th>count</th>\n",
              "      <th>unique</th>\n",
              "      <th>top</th>\n",
              "      <th>freq</th>\n",
              "      <th>mean</th>\n",
              "      <th>std</th>\n",
              "      <th>min</th>\n",
              "      <th>25%</th>\n",
              "      <th>50%</th>\n",
              "      <th>75%</th>\n",
              "      <th>max</th>\n",
              "    </tr>\n",
              "  </thead>\n",
              "  <tbody>\n",
              "    <tr>\n",
              "      <th>index</th>\n",
              "      <td>200000.0</td>\n",
              "      <td>NaN</td>\n",
              "      <td>NaN</td>\n",
              "      <td>NaN</td>\n",
              "      <td>27712503.68235</td>\n",
              "      <td>16013822.212829</td>\n",
              "      <td>1.0</td>\n",
              "      <td>13825346.25</td>\n",
              "      <td>27745495.0</td>\n",
              "      <td>41555300.75</td>\n",
              "      <td>55423567.0</td>\n",
              "    </tr>\n",
              "    <tr>\n",
              "      <th>key</th>\n",
              "      <td>200000</td>\n",
              "      <td>200000</td>\n",
              "      <td>2015-05-07 19:52:06.0000003</td>\n",
              "      <td>1</td>\n",
              "      <td>NaN</td>\n",
              "      <td>NaN</td>\n",
              "      <td>NaN</td>\n",
              "      <td>NaN</td>\n",
              "      <td>NaN</td>\n",
              "      <td>NaN</td>\n",
              "      <td>NaN</td>\n",
              "    </tr>\n",
              "    <tr>\n",
              "      <th>fare_amount</th>\n",
              "      <td>200000.0</td>\n",
              "      <td>NaN</td>\n",
              "      <td>NaN</td>\n",
              "      <td>NaN</td>\n",
              "      <td>11.359955</td>\n",
              "      <td>9.901776</td>\n",
              "      <td>-52.0</td>\n",
              "      <td>6.0</td>\n",
              "      <td>8.5</td>\n",
              "      <td>12.5</td>\n",
              "      <td>499.0</td>\n",
              "    </tr>\n",
              "    <tr>\n",
              "      <th>pickup_datetime</th>\n",
              "      <td>200000</td>\n",
              "      <td>196629</td>\n",
              "      <td>2014-04-13 18:19:00 UTC</td>\n",
              "      <td>4</td>\n",
              "      <td>NaN</td>\n",
              "      <td>NaN</td>\n",
              "      <td>NaN</td>\n",
              "      <td>NaN</td>\n",
              "      <td>NaN</td>\n",
              "      <td>NaN</td>\n",
              "      <td>NaN</td>\n",
              "    </tr>\n",
              "    <tr>\n",
              "      <th>pickup_longitude</th>\n",
              "      <td>200000.0</td>\n",
              "      <td>NaN</td>\n",
              "      <td>NaN</td>\n",
              "      <td>NaN</td>\n",
              "      <td>-72.527638</td>\n",
              "      <td>11.437787</td>\n",
              "      <td>-1340.64841</td>\n",
              "      <td>-73.992065</td>\n",
              "      <td>-73.981823</td>\n",
              "      <td>-73.967154</td>\n",
              "      <td>57.418457</td>\n",
              "    </tr>\n",
              "    <tr>\n",
              "      <th>pickup_latitude</th>\n",
              "      <td>200000.0</td>\n",
              "      <td>NaN</td>\n",
              "      <td>NaN</td>\n",
              "      <td>NaN</td>\n",
              "      <td>39.935885</td>\n",
              "      <td>7.720539</td>\n",
              "      <td>-74.015515</td>\n",
              "      <td>40.734796</td>\n",
              "      <td>40.752592</td>\n",
              "      <td>40.767158</td>\n",
              "      <td>1644.421482</td>\n",
              "    </tr>\n",
              "    <tr>\n",
              "      <th>dropoff_longitude</th>\n",
              "      <td>199999.0</td>\n",
              "      <td>NaN</td>\n",
              "      <td>NaN</td>\n",
              "      <td>NaN</td>\n",
              "      <td>-72.525292</td>\n",
              "      <td>13.117408</td>\n",
              "      <td>-3356.6663</td>\n",
              "      <td>-73.991407</td>\n",
              "      <td>-73.980093</td>\n",
              "      <td>-73.963658</td>\n",
              "      <td>1153.572603</td>\n",
              "    </tr>\n",
              "    <tr>\n",
              "      <th>dropoff_latitude</th>\n",
              "      <td>199999.0</td>\n",
              "      <td>NaN</td>\n",
              "      <td>NaN</td>\n",
              "      <td>NaN</td>\n",
              "      <td>39.92389</td>\n",
              "      <td>6.794829</td>\n",
              "      <td>-881.985513</td>\n",
              "      <td>40.733823</td>\n",
              "      <td>40.753042</td>\n",
              "      <td>40.768001</td>\n",
              "      <td>872.697628</td>\n",
              "    </tr>\n",
              "    <tr>\n",
              "      <th>passenger_count</th>\n",
              "      <td>200000.0</td>\n",
              "      <td>NaN</td>\n",
              "      <td>NaN</td>\n",
              "      <td>NaN</td>\n",
              "      <td>1.684535</td>\n",
              "      <td>1.385997</td>\n",
              "      <td>0.0</td>\n",
              "      <td>1.0</td>\n",
              "      <td>1.0</td>\n",
              "      <td>2.0</td>\n",
              "      <td>208.0</td>\n",
              "    </tr>\n",
              "  </tbody>\n",
              "</table>\n",
              "</div>\n",
              "      <button class=\"colab-df-convert\" onclick=\"convertToInteractive('df-22605855-21d6-4bc9-a371-e99b609451d4')\"\n",
              "              title=\"Convert this dataframe to an interactive table.\"\n",
              "              style=\"display:none;\">\n",
              "        \n",
              "  <svg xmlns=\"http://www.w3.org/2000/svg\" height=\"24px\"viewBox=\"0 0 24 24\"\n",
              "       width=\"24px\">\n",
              "    <path d=\"M0 0h24v24H0V0z\" fill=\"none\"/>\n",
              "    <path d=\"M18.56 5.44l.94 2.06.94-2.06 2.06-.94-2.06-.94-.94-2.06-.94 2.06-2.06.94zm-11 1L8.5 8.5l.94-2.06 2.06-.94-2.06-.94L8.5 2.5l-.94 2.06-2.06.94zm10 10l.94 2.06.94-2.06 2.06-.94-2.06-.94-.94-2.06-.94 2.06-2.06.94z\"/><path d=\"M17.41 7.96l-1.37-1.37c-.4-.4-.92-.59-1.43-.59-.52 0-1.04.2-1.43.59L10.3 9.45l-7.72 7.72c-.78.78-.78 2.05 0 2.83L4 21.41c.39.39.9.59 1.41.59.51 0 1.02-.2 1.41-.59l7.78-7.78 2.81-2.81c.8-.78.8-2.07 0-2.86zM5.41 20L4 18.59l7.72-7.72 1.47 1.35L5.41 20z\"/>\n",
              "  </svg>\n",
              "      </button>\n",
              "      \n",
              "  <style>\n",
              "    .colab-df-container {\n",
              "      display:flex;\n",
              "      flex-wrap:wrap;\n",
              "      gap: 12px;\n",
              "    }\n",
              "\n",
              "    .colab-df-convert {\n",
              "      background-color: #E8F0FE;\n",
              "      border: none;\n",
              "      border-radius: 50%;\n",
              "      cursor: pointer;\n",
              "      display: none;\n",
              "      fill: #1967D2;\n",
              "      height: 32px;\n",
              "      padding: 0 0 0 0;\n",
              "      width: 32px;\n",
              "    }\n",
              "\n",
              "    .colab-df-convert:hover {\n",
              "      background-color: #E2EBFA;\n",
              "      box-shadow: 0px 1px 2px rgba(60, 64, 67, 0.3), 0px 1px 3px 1px rgba(60, 64, 67, 0.15);\n",
              "      fill: #174EA6;\n",
              "    }\n",
              "\n",
              "    [theme=dark] .colab-df-convert {\n",
              "      background-color: #3B4455;\n",
              "      fill: #D2E3FC;\n",
              "    }\n",
              "\n",
              "    [theme=dark] .colab-df-convert:hover {\n",
              "      background-color: #434B5C;\n",
              "      box-shadow: 0px 1px 3px 1px rgba(0, 0, 0, 0.15);\n",
              "      filter: drop-shadow(0px 1px 2px rgba(0, 0, 0, 0.3));\n",
              "      fill: #FFFFFF;\n",
              "    }\n",
              "  </style>\n",
              "\n",
              "      <script>\n",
              "        const buttonEl =\n",
              "          document.querySelector('#df-22605855-21d6-4bc9-a371-e99b609451d4 button.colab-df-convert');\n",
              "        buttonEl.style.display =\n",
              "          google.colab.kernel.accessAllowed ? 'block' : 'none';\n",
              "\n",
              "        async function convertToInteractive(key) {\n",
              "          const element = document.querySelector('#df-22605855-21d6-4bc9-a371-e99b609451d4');\n",
              "          const dataTable =\n",
              "            await google.colab.kernel.invokeFunction('convertToInteractive',\n",
              "                                                     [key], {});\n",
              "          if (!dataTable) return;\n",
              "\n",
              "          const docLinkHtml = 'Like what you see? Visit the ' +\n",
              "            '<a target=\"_blank\" href=https://colab.research.google.com/notebooks/data_table.ipynb>data table notebook</a>'\n",
              "            + ' to learn more about interactive tables.';\n",
              "          element.innerHTML = '';\n",
              "          dataTable['output_type'] = 'display_data';\n",
              "          await google.colab.output.renderOutput(dataTable, element);\n",
              "          const docLink = document.createElement('div');\n",
              "          docLink.innerHTML = docLinkHtml;\n",
              "          element.appendChild(docLink);\n",
              "        }\n",
              "      </script>\n",
              "    </div>\n",
              "  </div>\n",
              "  "
            ]
          },
          "metadata": {},
          "execution_count": 6
        }
      ]
    },
    {
      "cell_type": "code",
      "source": [
        "# Brief information about the datatype of attributes and their null counts. \n",
        "trip_df.info()"
      ],
      "metadata": {
        "colab": {
          "base_uri": "https://localhost:8080/"
        },
        "id": "MPigjTDMsZWs",
        "outputId": "93253ad8-19e1-4c3d-87e6-d7b1100dc3a7"
      },
      "execution_count": null,
      "outputs": [
        {
          "output_type": "stream",
          "name": "stdout",
          "text": [
            "<class 'pandas.core.frame.DataFrame'>\n",
            "RangeIndex: 200000 entries, 0 to 199999\n",
            "Data columns (total 9 columns):\n",
            " #   Column             Non-Null Count   Dtype  \n",
            "---  ------             --------------   -----  \n",
            " 0   index              200000 non-null  int64  \n",
            " 1   key                200000 non-null  object \n",
            " 2   fare_amount        200000 non-null  float64\n",
            " 3   pickup_datetime    200000 non-null  object \n",
            " 4   pickup_longitude   200000 non-null  float64\n",
            " 5   pickup_latitude    200000 non-null  float64\n",
            " 6   dropoff_longitude  199999 non-null  float64\n",
            " 7   dropoff_latitude   199999 non-null  float64\n",
            " 8   passenger_count    200000 non-null  int64  \n",
            "dtypes: float64(5), int64(2), object(2)\n",
            "memory usage: 13.7+ MB\n"
          ]
        }
      ]
    },
    {
      "cell_type": "markdown",
      "source": [
        "We can see that the data is very clean with just 1 null value in dropoff_longitude and dropoff_latitude."
      ],
      "metadata": {
        "id": "QVLXQvvQskf3"
      }
    },
    {
      "cell_type": "code",
      "source": [
        "  # Looking for duplicate data points\n",
        "  duplicates = trip_df[trip_df.duplicated()]\n",
        "  duplicates"
      ],
      "metadata": {
        "colab": {
          "base_uri": "https://localhost:8080/",
          "height": 49
        },
        "id": "m3tAKHKZsfsk",
        "outputId": "ff9f99e8-65ee-4070-c536-32ef73309d2b"
      },
      "execution_count": null,
      "outputs": [
        {
          "output_type": "execute_result",
          "data": {
            "text/plain": [
              "Empty DataFrame\n",
              "Columns: [index, key, fare_amount, pickup_datetime, pickup_longitude, pickup_latitude, dropoff_longitude, dropoff_latitude, passenger_count]\n",
              "Index: []"
            ],
            "text/html": [
              "\n",
              "  <div id=\"df-affc6723-e162-4721-8a66-afad86550667\">\n",
              "    <div class=\"colab-df-container\">\n",
              "      <div>\n",
              "<style scoped>\n",
              "    .dataframe tbody tr th:only-of-type {\n",
              "        vertical-align: middle;\n",
              "    }\n",
              "\n",
              "    .dataframe tbody tr th {\n",
              "        vertical-align: top;\n",
              "    }\n",
              "\n",
              "    .dataframe thead th {\n",
              "        text-align: right;\n",
              "    }\n",
              "</style>\n",
              "<table border=\"1\" class=\"dataframe\">\n",
              "  <thead>\n",
              "    <tr style=\"text-align: right;\">\n",
              "      <th></th>\n",
              "      <th>index</th>\n",
              "      <th>key</th>\n",
              "      <th>fare_amount</th>\n",
              "      <th>pickup_datetime</th>\n",
              "      <th>pickup_longitude</th>\n",
              "      <th>pickup_latitude</th>\n",
              "      <th>dropoff_longitude</th>\n",
              "      <th>dropoff_latitude</th>\n",
              "      <th>passenger_count</th>\n",
              "    </tr>\n",
              "  </thead>\n",
              "  <tbody>\n",
              "  </tbody>\n",
              "</table>\n",
              "</div>\n",
              "      <button class=\"colab-df-convert\" onclick=\"convertToInteractive('df-affc6723-e162-4721-8a66-afad86550667')\"\n",
              "              title=\"Convert this dataframe to an interactive table.\"\n",
              "              style=\"display:none;\">\n",
              "        \n",
              "  <svg xmlns=\"http://www.w3.org/2000/svg\" height=\"24px\"viewBox=\"0 0 24 24\"\n",
              "       width=\"24px\">\n",
              "    <path d=\"M0 0h24v24H0V0z\" fill=\"none\"/>\n",
              "    <path d=\"M18.56 5.44l.94 2.06.94-2.06 2.06-.94-2.06-.94-.94-2.06-.94 2.06-2.06.94zm-11 1L8.5 8.5l.94-2.06 2.06-.94-2.06-.94L8.5 2.5l-.94 2.06-2.06.94zm10 10l.94 2.06.94-2.06 2.06-.94-2.06-.94-.94-2.06-.94 2.06-2.06.94z\"/><path d=\"M17.41 7.96l-1.37-1.37c-.4-.4-.92-.59-1.43-.59-.52 0-1.04.2-1.43.59L10.3 9.45l-7.72 7.72c-.78.78-.78 2.05 0 2.83L4 21.41c.39.39.9.59 1.41.59.51 0 1.02-.2 1.41-.59l7.78-7.78 2.81-2.81c.8-.78.8-2.07 0-2.86zM5.41 20L4 18.59l7.72-7.72 1.47 1.35L5.41 20z\"/>\n",
              "  </svg>\n",
              "      </button>\n",
              "      \n",
              "  <style>\n",
              "    .colab-df-container {\n",
              "      display:flex;\n",
              "      flex-wrap:wrap;\n",
              "      gap: 12px;\n",
              "    }\n",
              "\n",
              "    .colab-df-convert {\n",
              "      background-color: #E8F0FE;\n",
              "      border: none;\n",
              "      border-radius: 50%;\n",
              "      cursor: pointer;\n",
              "      display: none;\n",
              "      fill: #1967D2;\n",
              "      height: 32px;\n",
              "      padding: 0 0 0 0;\n",
              "      width: 32px;\n",
              "    }\n",
              "\n",
              "    .colab-df-convert:hover {\n",
              "      background-color: #E2EBFA;\n",
              "      box-shadow: 0px 1px 2px rgba(60, 64, 67, 0.3), 0px 1px 3px 1px rgba(60, 64, 67, 0.15);\n",
              "      fill: #174EA6;\n",
              "    }\n",
              "\n",
              "    [theme=dark] .colab-df-convert {\n",
              "      background-color: #3B4455;\n",
              "      fill: #D2E3FC;\n",
              "    }\n",
              "\n",
              "    [theme=dark] .colab-df-convert:hover {\n",
              "      background-color: #434B5C;\n",
              "      box-shadow: 0px 1px 3px 1px rgba(0, 0, 0, 0.15);\n",
              "      filter: drop-shadow(0px 1px 2px rgba(0, 0, 0, 0.3));\n",
              "      fill: #FFFFFF;\n",
              "    }\n",
              "  </style>\n",
              "\n",
              "      <script>\n",
              "        const buttonEl =\n",
              "          document.querySelector('#df-affc6723-e162-4721-8a66-afad86550667 button.colab-df-convert');\n",
              "        buttonEl.style.display =\n",
              "          google.colab.kernel.accessAllowed ? 'block' : 'none';\n",
              "\n",
              "        async function convertToInteractive(key) {\n",
              "          const element = document.querySelector('#df-affc6723-e162-4721-8a66-afad86550667');\n",
              "          const dataTable =\n",
              "            await google.colab.kernel.invokeFunction('convertToInteractive',\n",
              "                                                     [key], {});\n",
              "          if (!dataTable) return;\n",
              "\n",
              "          const docLinkHtml = 'Like what you see? Visit the ' +\n",
              "            '<a target=\"_blank\" href=https://colab.research.google.com/notebooks/data_table.ipynb>data table notebook</a>'\n",
              "            + ' to learn more about interactive tables.';\n",
              "          element.innerHTML = '';\n",
              "          dataTable['output_type'] = 'display_data';\n",
              "          await google.colab.output.renderOutput(dataTable, element);\n",
              "          const docLink = document.createElement('div');\n",
              "          docLink.innerHTML = docLinkHtml;\n",
              "          element.appendChild(docLink);\n",
              "        }\n",
              "      </script>\n",
              "    </div>\n",
              "  </div>\n",
              "  "
            ]
          },
          "metadata": {},
          "execution_count": 8
        }
      ]
    },
    {
      "cell_type": "markdown",
      "source": [
        "We can see that there are no duplicate records.\n"
      ],
      "metadata": {
        "id": "C8p9yHUEtbiI"
      }
    },
    {
      "cell_type": "markdown",
      "source": [
        "## **EDA and Feature Engineering**\n",
        "\n",
        "Exploratory data analysis or commonly known as EDA helps to explore data, and possibly formulate hypotheses that might cause new data collection and experiments. EDA build a robust understanding of the data, issues associated with either the info or process. It’s a scientific approach to get the story of the data.\n",
        "\n",
        "It focuses more narrowly on checking assumptions required for model fitting and hypothesis testing. It also helps while handling missing values and making transformations of variables as needed. Also we'd deal with outliers in this section. Furthermore, we'll try to extract or convert some of the attributes using some feature engineering.\n",
        "\n",
        "All machine learning algorithms use some input data to create outputs. This input data comprise features, which are usually in the form of structured columns. Algorithms require features with some specific characteristics to work properly. Here, the need for feature engineering arises. Feature engineering mainly have two goals:\n",
        "\n",
        "* Preparing the proper input dataset, compatible with the machine learning algorithm requirements.\n",
        "* Improving the performance of machine learning models.\n",
        "\n",
        "*Lets just start by removing all null values from the data.*"
      ],
      "metadata": {
        "id": "HJSU1L3GuT5s"
      }
    },
    {
      "cell_type": "code",
      "source": [
        "# Removing the row(s) having null values\n",
        "df = trip_df.dropna()\n",
        "df"
      ],
      "metadata": {
        "colab": {
          "base_uri": "https://localhost:8080/",
          "height": 661
        },
        "id": "_lp_cPlGs9CP",
        "outputId": "5e6c3cb6-4d96-4e3d-f156-923ed8ceb7d4"
      },
      "execution_count": null,
      "outputs": [
        {
          "output_type": "execute_result",
          "data": {
            "text/plain": [
              "           index                            key  fare_amount  \\\n",
              "0       24238194    2015-05-07 19:52:06.0000003          7.5   \n",
              "1       27835199    2009-07-17 20:04:56.0000002          7.7   \n",
              "2       44984355   2009-08-24 21:45:00.00000061         12.9   \n",
              "3       25894730    2009-06-26 08:22:21.0000001          5.3   \n",
              "4       17610152  2014-08-28 17:47:00.000000188         16.0   \n",
              "...          ...                            ...          ...   \n",
              "199995  42598914   2012-10-28 10:49:00.00000053          3.0   \n",
              "199996  16382965    2014-03-14 01:09:00.0000008          7.5   \n",
              "199997  27804658   2009-06-29 00:42:00.00000078         30.9   \n",
              "199998  20259894    2015-05-20 14:56:25.0000004         14.5   \n",
              "199999  11951496   2010-05-15 04:08:00.00000076         14.1   \n",
              "\n",
              "                pickup_datetime  pickup_longitude  pickup_latitude  \\\n",
              "0       2015-05-07 19:52:06 UTC        -73.999817        40.738354   \n",
              "1       2009-07-17 20:04:56 UTC        -73.994355        40.728225   \n",
              "2       2009-08-24 21:45:00 UTC        -74.005043        40.740770   \n",
              "3       2009-06-26 08:22:21 UTC        -73.976124        40.790844   \n",
              "4       2014-08-28 17:47:00 UTC        -73.925023        40.744085   \n",
              "...                         ...               ...              ...   \n",
              "199995  2012-10-28 10:49:00 UTC        -73.987042        40.739367   \n",
              "199996  2014-03-14 01:09:00 UTC        -73.984722        40.736837   \n",
              "199997  2009-06-29 00:42:00 UTC        -73.986017        40.756487   \n",
              "199998  2015-05-20 14:56:25 UTC        -73.997124        40.725452   \n",
              "199999  2010-05-15 04:08:00 UTC        -73.984395        40.720077   \n",
              "\n",
              "        dropoff_longitude  dropoff_latitude  passenger_count  \n",
              "0              -73.999512         40.723217                1  \n",
              "1              -73.994710         40.750325                1  \n",
              "2              -73.962565         40.772647                1  \n",
              "3              -73.965316         40.803349                3  \n",
              "4              -73.973082         40.761247                5  \n",
              "...                   ...               ...              ...  \n",
              "199995         -73.986525         40.740297                1  \n",
              "199996         -74.006672         40.739620                1  \n",
              "199997         -73.858957         40.692588                2  \n",
              "199998         -73.983215         40.695415                1  \n",
              "199999         -73.985508         40.768793                1  \n",
              "\n",
              "[199999 rows x 9 columns]"
            ],
            "text/html": [
              "\n",
              "  <div id=\"df-4c315af9-2bb2-45fd-88fd-5c1fa62b5acb\">\n",
              "    <div class=\"colab-df-container\">\n",
              "      <div>\n",
              "<style scoped>\n",
              "    .dataframe tbody tr th:only-of-type {\n",
              "        vertical-align: middle;\n",
              "    }\n",
              "\n",
              "    .dataframe tbody tr th {\n",
              "        vertical-align: top;\n",
              "    }\n",
              "\n",
              "    .dataframe thead th {\n",
              "        text-align: right;\n",
              "    }\n",
              "</style>\n",
              "<table border=\"1\" class=\"dataframe\">\n",
              "  <thead>\n",
              "    <tr style=\"text-align: right;\">\n",
              "      <th></th>\n",
              "      <th>index</th>\n",
              "      <th>key</th>\n",
              "      <th>fare_amount</th>\n",
              "      <th>pickup_datetime</th>\n",
              "      <th>pickup_longitude</th>\n",
              "      <th>pickup_latitude</th>\n",
              "      <th>dropoff_longitude</th>\n",
              "      <th>dropoff_latitude</th>\n",
              "      <th>passenger_count</th>\n",
              "    </tr>\n",
              "  </thead>\n",
              "  <tbody>\n",
              "    <tr>\n",
              "      <th>0</th>\n",
              "      <td>24238194</td>\n",
              "      <td>2015-05-07 19:52:06.0000003</td>\n",
              "      <td>7.5</td>\n",
              "      <td>2015-05-07 19:52:06 UTC</td>\n",
              "      <td>-73.999817</td>\n",
              "      <td>40.738354</td>\n",
              "      <td>-73.999512</td>\n",
              "      <td>40.723217</td>\n",
              "      <td>1</td>\n",
              "    </tr>\n",
              "    <tr>\n",
              "      <th>1</th>\n",
              "      <td>27835199</td>\n",
              "      <td>2009-07-17 20:04:56.0000002</td>\n",
              "      <td>7.7</td>\n",
              "      <td>2009-07-17 20:04:56 UTC</td>\n",
              "      <td>-73.994355</td>\n",
              "      <td>40.728225</td>\n",
              "      <td>-73.994710</td>\n",
              "      <td>40.750325</td>\n",
              "      <td>1</td>\n",
              "    </tr>\n",
              "    <tr>\n",
              "      <th>2</th>\n",
              "      <td>44984355</td>\n",
              "      <td>2009-08-24 21:45:00.00000061</td>\n",
              "      <td>12.9</td>\n",
              "      <td>2009-08-24 21:45:00 UTC</td>\n",
              "      <td>-74.005043</td>\n",
              "      <td>40.740770</td>\n",
              "      <td>-73.962565</td>\n",
              "      <td>40.772647</td>\n",
              "      <td>1</td>\n",
              "    </tr>\n",
              "    <tr>\n",
              "      <th>3</th>\n",
              "      <td>25894730</td>\n",
              "      <td>2009-06-26 08:22:21.0000001</td>\n",
              "      <td>5.3</td>\n",
              "      <td>2009-06-26 08:22:21 UTC</td>\n",
              "      <td>-73.976124</td>\n",
              "      <td>40.790844</td>\n",
              "      <td>-73.965316</td>\n",
              "      <td>40.803349</td>\n",
              "      <td>3</td>\n",
              "    </tr>\n",
              "    <tr>\n",
              "      <th>4</th>\n",
              "      <td>17610152</td>\n",
              "      <td>2014-08-28 17:47:00.000000188</td>\n",
              "      <td>16.0</td>\n",
              "      <td>2014-08-28 17:47:00 UTC</td>\n",
              "      <td>-73.925023</td>\n",
              "      <td>40.744085</td>\n",
              "      <td>-73.973082</td>\n",
              "      <td>40.761247</td>\n",
              "      <td>5</td>\n",
              "    </tr>\n",
              "    <tr>\n",
              "      <th>...</th>\n",
              "      <td>...</td>\n",
              "      <td>...</td>\n",
              "      <td>...</td>\n",
              "      <td>...</td>\n",
              "      <td>...</td>\n",
              "      <td>...</td>\n",
              "      <td>...</td>\n",
              "      <td>...</td>\n",
              "      <td>...</td>\n",
              "    </tr>\n",
              "    <tr>\n",
              "      <th>199995</th>\n",
              "      <td>42598914</td>\n",
              "      <td>2012-10-28 10:49:00.00000053</td>\n",
              "      <td>3.0</td>\n",
              "      <td>2012-10-28 10:49:00 UTC</td>\n",
              "      <td>-73.987042</td>\n",
              "      <td>40.739367</td>\n",
              "      <td>-73.986525</td>\n",
              "      <td>40.740297</td>\n",
              "      <td>1</td>\n",
              "    </tr>\n",
              "    <tr>\n",
              "      <th>199996</th>\n",
              "      <td>16382965</td>\n",
              "      <td>2014-03-14 01:09:00.0000008</td>\n",
              "      <td>7.5</td>\n",
              "      <td>2014-03-14 01:09:00 UTC</td>\n",
              "      <td>-73.984722</td>\n",
              "      <td>40.736837</td>\n",
              "      <td>-74.006672</td>\n",
              "      <td>40.739620</td>\n",
              "      <td>1</td>\n",
              "    </tr>\n",
              "    <tr>\n",
              "      <th>199997</th>\n",
              "      <td>27804658</td>\n",
              "      <td>2009-06-29 00:42:00.00000078</td>\n",
              "      <td>30.9</td>\n",
              "      <td>2009-06-29 00:42:00 UTC</td>\n",
              "      <td>-73.986017</td>\n",
              "      <td>40.756487</td>\n",
              "      <td>-73.858957</td>\n",
              "      <td>40.692588</td>\n",
              "      <td>2</td>\n",
              "    </tr>\n",
              "    <tr>\n",
              "      <th>199998</th>\n",
              "      <td>20259894</td>\n",
              "      <td>2015-05-20 14:56:25.0000004</td>\n",
              "      <td>14.5</td>\n",
              "      <td>2015-05-20 14:56:25 UTC</td>\n",
              "      <td>-73.997124</td>\n",
              "      <td>40.725452</td>\n",
              "      <td>-73.983215</td>\n",
              "      <td>40.695415</td>\n",
              "      <td>1</td>\n",
              "    </tr>\n",
              "    <tr>\n",
              "      <th>199999</th>\n",
              "      <td>11951496</td>\n",
              "      <td>2010-05-15 04:08:00.00000076</td>\n",
              "      <td>14.1</td>\n",
              "      <td>2010-05-15 04:08:00 UTC</td>\n",
              "      <td>-73.984395</td>\n",
              "      <td>40.720077</td>\n",
              "      <td>-73.985508</td>\n",
              "      <td>40.768793</td>\n",
              "      <td>1</td>\n",
              "    </tr>\n",
              "  </tbody>\n",
              "</table>\n",
              "<p>199999 rows × 9 columns</p>\n",
              "</div>\n",
              "      <button class=\"colab-df-convert\" onclick=\"convertToInteractive('df-4c315af9-2bb2-45fd-88fd-5c1fa62b5acb')\"\n",
              "              title=\"Convert this dataframe to an interactive table.\"\n",
              "              style=\"display:none;\">\n",
              "        \n",
              "  <svg xmlns=\"http://www.w3.org/2000/svg\" height=\"24px\"viewBox=\"0 0 24 24\"\n",
              "       width=\"24px\">\n",
              "    <path d=\"M0 0h24v24H0V0z\" fill=\"none\"/>\n",
              "    <path d=\"M18.56 5.44l.94 2.06.94-2.06 2.06-.94-2.06-.94-.94-2.06-.94 2.06-2.06.94zm-11 1L8.5 8.5l.94-2.06 2.06-.94-2.06-.94L8.5 2.5l-.94 2.06-2.06.94zm10 10l.94 2.06.94-2.06 2.06-.94-2.06-.94-.94-2.06-.94 2.06-2.06.94z\"/><path d=\"M17.41 7.96l-1.37-1.37c-.4-.4-.92-.59-1.43-.59-.52 0-1.04.2-1.43.59L10.3 9.45l-7.72 7.72c-.78.78-.78 2.05 0 2.83L4 21.41c.39.39.9.59 1.41.59.51 0 1.02-.2 1.41-.59l7.78-7.78 2.81-2.81c.8-.78.8-2.07 0-2.86zM5.41 20L4 18.59l7.72-7.72 1.47 1.35L5.41 20z\"/>\n",
              "  </svg>\n",
              "      </button>\n",
              "      \n",
              "  <style>\n",
              "    .colab-df-container {\n",
              "      display:flex;\n",
              "      flex-wrap:wrap;\n",
              "      gap: 12px;\n",
              "    }\n",
              "\n",
              "    .colab-df-convert {\n",
              "      background-color: #E8F0FE;\n",
              "      border: none;\n",
              "      border-radius: 50%;\n",
              "      cursor: pointer;\n",
              "      display: none;\n",
              "      fill: #1967D2;\n",
              "      height: 32px;\n",
              "      padding: 0 0 0 0;\n",
              "      width: 32px;\n",
              "    }\n",
              "\n",
              "    .colab-df-convert:hover {\n",
              "      background-color: #E2EBFA;\n",
              "      box-shadow: 0px 1px 2px rgba(60, 64, 67, 0.3), 0px 1px 3px 1px rgba(60, 64, 67, 0.15);\n",
              "      fill: #174EA6;\n",
              "    }\n",
              "\n",
              "    [theme=dark] .colab-df-convert {\n",
              "      background-color: #3B4455;\n",
              "      fill: #D2E3FC;\n",
              "    }\n",
              "\n",
              "    [theme=dark] .colab-df-convert:hover {\n",
              "      background-color: #434B5C;\n",
              "      box-shadow: 0px 1px 3px 1px rgba(0, 0, 0, 0.15);\n",
              "      filter: drop-shadow(0px 1px 2px rgba(0, 0, 0, 0.3));\n",
              "      fill: #FFFFFF;\n",
              "    }\n",
              "  </style>\n",
              "\n",
              "      <script>\n",
              "        const buttonEl =\n",
              "          document.querySelector('#df-4c315af9-2bb2-45fd-88fd-5c1fa62b5acb button.colab-df-convert');\n",
              "        buttonEl.style.display =\n",
              "          google.colab.kernel.accessAllowed ? 'block' : 'none';\n",
              "\n",
              "        async function convertToInteractive(key) {\n",
              "          const element = document.querySelector('#df-4c315af9-2bb2-45fd-88fd-5c1fa62b5acb');\n",
              "          const dataTable =\n",
              "            await google.colab.kernel.invokeFunction('convertToInteractive',\n",
              "                                                     [key], {});\n",
              "          if (!dataTable) return;\n",
              "\n",
              "          const docLinkHtml = 'Like what you see? Visit the ' +\n",
              "            '<a target=\"_blank\" href=https://colab.research.google.com/notebooks/data_table.ipynb>data table notebook</a>'\n",
              "            + ' to learn more about interactive tables.';\n",
              "          element.innerHTML = '';\n",
              "          dataTable['output_type'] = 'display_data';\n",
              "          await google.colab.output.renderOutput(dataTable, element);\n",
              "          const docLink = document.createElement('div');\n",
              "          docLink.innerHTML = docLinkHtml;\n",
              "          element.appendChild(docLink);\n",
              "        }\n",
              "      </script>\n",
              "    </div>\n",
              "  </div>\n",
              "  "
            ]
          },
          "metadata": {},
          "execution_count": 9
        }
      ]
    },
    {
      "cell_type": "markdown",
      "source": [
        "The index and key don't contribute much as we already have the pickup_datetime and it would'nt be of much help to the model either. Hence, we can drop these columns too."
      ],
      "metadata": {
        "id": "bRWjy6L-uexu"
      }
    },
    {
      "cell_type": "code",
      "source": [
        "# Dropping the \"id\" column.\n",
        "df = df.drop(columns=['index', 'key'])"
      ],
      "metadata": {
        "id": "7V_A57lYt1ZT"
      },
      "execution_count": null,
      "outputs": []
    },
    {
      "cell_type": "markdown",
      "source": [
        "Now lets have a look at the remaining columns."
      ],
      "metadata": {
        "id": "3YLNLxA2vC_Z"
      }
    },
    {
      "cell_type": "code",
      "source": [
        "# Print all columns.\n",
        "df.columns"
      ],
      "metadata": {
        "colab": {
          "base_uri": "https://localhost:8080/"
        },
        "id": "ZQhGSObUu6CL",
        "outputId": "6751d7a8-fd82-4c65-fdf3-5bb9e539e70a"
      },
      "execution_count": null,
      "outputs": [
        {
          "output_type": "execute_result",
          "data": {
            "text/plain": [
              "Index(['fare_amount', 'pickup_datetime', 'pickup_longitude', 'pickup_latitude',\n",
              "       'dropoff_longitude', 'dropoff_latitude', 'passenger_count'],\n",
              "      dtype='object')"
            ]
          },
          "metadata": {},
          "execution_count": 11
        }
      ]
    },
    {
      "cell_type": "code",
      "source": [
        "# Here pickup_datetime variable is in object so we need to change its data type to datetime\n",
        "df['pickup_datetime'] =  pd.to_datetime(df['pickup_datetime'], format='%Y-%m-%d %H:%M:%S UTC')"
      ],
      "metadata": {
        "id": "Du5WBqCk39gp"
      },
      "execution_count": null,
      "outputs": []
    },
    {
      "cell_type": "code",
      "source": [
        "# We will separate the Pickup_datetime column into separate field like year, month, day of the week, etc\n",
        "\n",
        "df['year'] = df['pickup_datetime'].dt.year\n",
        "df['Month'] = df['pickup_datetime'].dt.month\n",
        "df['Date'] = df['pickup_datetime'].dt.day\n",
        "df['Day'] = df['pickup_datetime'].dt.dayofweek\n",
        "df['Hour'] = df['pickup_datetime'].dt.hour"
      ],
      "metadata": {
        "id": "BWNd-oFW4DhG"
      },
      "execution_count": null,
      "outputs": []
    },
    {
      "cell_type": "markdown",
      "source": [
        "### Passenger Count"
      ],
      "metadata": {
        "id": "M8T0FBJDv3FM"
      }
    },
    {
      "cell_type": "code",
      "source": [
        "# Looking at the number of passengers travellers book a taxi for\n",
        "df['passenger_count'].value_counts()"
      ],
      "metadata": {
        "colab": {
          "base_uri": "https://localhost:8080/"
        },
        "id": "vhvkApBVHG07",
        "outputId": "7f784a9a-1413-4a77-d2c1-83359f5c8f4f"
      },
      "execution_count": null,
      "outputs": [
        {
          "output_type": "execute_result",
          "data": {
            "text/plain": [
              "1      138425\n",
              "2       29428\n",
              "5       14009\n",
              "3        8881\n",
              "4        4276\n",
              "6        4271\n",
              "0         708\n",
              "208         1\n",
              "Name: passenger_count, dtype: int64"
            ]
          },
          "metadata": {},
          "execution_count": 14
        }
      ]
    },
    {
      "cell_type": "markdown",
      "source": [
        "Here we can see that the majority of the taxis which were booked had only a single passenger travelling.\n",
        "\n",
        "Also a few of the taxis which were booked had 0 passengers. This is practically not possible. 0 might be just used to fill up the null values or some misinformation.\n",
        "\n",
        "Also we can see that there were 208 passengers in a single trip which is not possible. So we can remove that as it acts as an anomally for our models and might affect its performance. Even if we consider SUV, there couldn't be more than 6 passengers."
      ],
      "metadata": {
        "id": "c8EIl1u4wFRP"
      }
    },
    {
      "cell_type": "code",
      "source": [
        "df = df.drop((df[df['passenger_count']>6]).index, axis=0)\n",
        "df = df.drop((df[df['passenger_count']<1]).index, axis=0)"
      ],
      "metadata": {
        "id": "L5IeDHY6P07a"
      },
      "execution_count": null,
      "outputs": []
    },
    {
      "cell_type": "code",
      "source": [
        "# Looking at the target variable 'fare_amount'\n",
        "df['fare_amount'].describe()"
      ],
      "metadata": {
        "colab": {
          "base_uri": "https://localhost:8080/"
        },
        "id": "MJZlTuwi1oML",
        "outputId": "a0f71b92-8d40-4278-cb19-c4b4c221c415"
      },
      "execution_count": null,
      "outputs": [
        {
          "output_type": "execute_result",
          "data": {
            "text/plain": [
              "count    199290.000000\n",
              "mean         11.366713\n",
              "std           9.910588\n",
              "min         -52.000000\n",
              "25%           6.000000\n",
              "50%           8.500000\n",
              "75%          12.500000\n",
              "max         499.000000\n",
              "Name: fare_amount, dtype: float64"
            ]
          },
          "metadata": {},
          "execution_count": 16
        }
      ]
    },
    {
      "cell_type": "markdown",
      "source": [
        "As observed, the minimum fare is a negative amount which means we might have data points having negative fare amount. We'll remove such points."
      ],
      "metadata": {
        "id": "xdnOXqLR2DwT"
      }
    },
    {
      "cell_type": "code",
      "source": [
        "# Dropping rows with value of fare_amount less than or equal to 0\n",
        "df = df.drop(df[df[\"fare_amount\"] <= 0].index, axis=0)\n",
        "# df = df.drop(df[df[\"fare_amount\"] > 200].index, axis=0)"
      ],
      "metadata": {
        "id": "ff7myWLQ2WiJ"
      },
      "execution_count": null,
      "outputs": []
    },
    {
      "cell_type": "code",
      "source": [
        "df.shape"
      ],
      "metadata": {
        "colab": {
          "base_uri": "https://localhost:8080/"
        },
        "id": "_2o-7mUi2uor",
        "outputId": "91804c44-f70f-4b67-cc07-b70dc56f3996"
      },
      "execution_count": null,
      "outputs": [
        {
          "output_type": "execute_result",
          "data": {
            "text/plain": [
              "(199268, 12)"
            ]
          },
          "metadata": {},
          "execution_count": 18
        }
      ]
    },
    {
      "cell_type": "markdown",
      "source": [
        "Now let's check the pickup latiotude and longitude."
      ],
      "metadata": {
        "id": "ZpiUMhb62_HR"
      }
    },
    {
      "cell_type": "code",
      "source": [
        "#Lattitude----(-90 to 90)\n",
        "#Longitude----(-180 to 180)\n",
        "\n",
        "# We need to drop the rows having  pickup lattitute and longitute out the range mentioned above\n",
        "\n",
        "#train = train.drop(train[train['pickup_latitude']<-90])\n",
        "df[df['pickup_latitude']<-90]\n",
        "df[df['pickup_latitude']>90]"
      ],
      "metadata": {
        "colab": {
          "base_uri": "https://localhost:8080/",
          "height": 308
        },
        "id": "oK1NdHqK3DkJ",
        "outputId": "800364a0-393d-4ca9-b1b1-9c64f829897a"
      },
      "execution_count": null,
      "outputs": [
        {
          "output_type": "execute_result",
          "data": {
            "text/plain": [
              "       fare_amount     pickup_datetime  pickup_longitude  pickup_latitude  \\\n",
              "56617          8.1 2012-03-11 07:24:00        -73.960828       404.433332   \n",
              "61793          8.5 2012-06-13 05:45:00        -73.951385       401.066667   \n",
              "75851         15.7 2011-11-05 00:22:00      -1340.648410      1644.421482   \n",
              "91422         16.1 2011-05-18 13:24:00         57.418457      1292.016128   \n",
              "\n",
              "       dropoff_longitude  dropoff_latitude  passenger_count  year  Month  \\\n",
              "56617         -73.988357         40.769037                1  2012      3   \n",
              "61793         -73.982110         40.754117                1  2012      6   \n",
              "75851       -3356.666300        872.697628                1  2011     11   \n",
              "91422        1153.572603       -881.985513                1  2011      5   \n",
              "\n",
              "       Date  Day  Hour  \n",
              "56617    11    6     7  \n",
              "61793    13    2     5  \n",
              "75851     5    5     0  \n",
              "91422    18    2    13  "
            ],
            "text/html": [
              "\n",
              "  <div id=\"df-e5454b29-e54c-40d5-9b3f-d1bd5922bad0\">\n",
              "    <div class=\"colab-df-container\">\n",
              "      <div>\n",
              "<style scoped>\n",
              "    .dataframe tbody tr th:only-of-type {\n",
              "        vertical-align: middle;\n",
              "    }\n",
              "\n",
              "    .dataframe tbody tr th {\n",
              "        vertical-align: top;\n",
              "    }\n",
              "\n",
              "    .dataframe thead th {\n",
              "        text-align: right;\n",
              "    }\n",
              "</style>\n",
              "<table border=\"1\" class=\"dataframe\">\n",
              "  <thead>\n",
              "    <tr style=\"text-align: right;\">\n",
              "      <th></th>\n",
              "      <th>fare_amount</th>\n",
              "      <th>pickup_datetime</th>\n",
              "      <th>pickup_longitude</th>\n",
              "      <th>pickup_latitude</th>\n",
              "      <th>dropoff_longitude</th>\n",
              "      <th>dropoff_latitude</th>\n",
              "      <th>passenger_count</th>\n",
              "      <th>year</th>\n",
              "      <th>Month</th>\n",
              "      <th>Date</th>\n",
              "      <th>Day</th>\n",
              "      <th>Hour</th>\n",
              "    </tr>\n",
              "  </thead>\n",
              "  <tbody>\n",
              "    <tr>\n",
              "      <th>56617</th>\n",
              "      <td>8.1</td>\n",
              "      <td>2012-03-11 07:24:00</td>\n",
              "      <td>-73.960828</td>\n",
              "      <td>404.433332</td>\n",
              "      <td>-73.988357</td>\n",
              "      <td>40.769037</td>\n",
              "      <td>1</td>\n",
              "      <td>2012</td>\n",
              "      <td>3</td>\n",
              "      <td>11</td>\n",
              "      <td>6</td>\n",
              "      <td>7</td>\n",
              "    </tr>\n",
              "    <tr>\n",
              "      <th>61793</th>\n",
              "      <td>8.5</td>\n",
              "      <td>2012-06-13 05:45:00</td>\n",
              "      <td>-73.951385</td>\n",
              "      <td>401.066667</td>\n",
              "      <td>-73.982110</td>\n",
              "      <td>40.754117</td>\n",
              "      <td>1</td>\n",
              "      <td>2012</td>\n",
              "      <td>6</td>\n",
              "      <td>13</td>\n",
              "      <td>2</td>\n",
              "      <td>5</td>\n",
              "    </tr>\n",
              "    <tr>\n",
              "      <th>75851</th>\n",
              "      <td>15.7</td>\n",
              "      <td>2011-11-05 00:22:00</td>\n",
              "      <td>-1340.648410</td>\n",
              "      <td>1644.421482</td>\n",
              "      <td>-3356.666300</td>\n",
              "      <td>872.697628</td>\n",
              "      <td>1</td>\n",
              "      <td>2011</td>\n",
              "      <td>11</td>\n",
              "      <td>5</td>\n",
              "      <td>5</td>\n",
              "      <td>0</td>\n",
              "    </tr>\n",
              "    <tr>\n",
              "      <th>91422</th>\n",
              "      <td>16.1</td>\n",
              "      <td>2011-05-18 13:24:00</td>\n",
              "      <td>57.418457</td>\n",
              "      <td>1292.016128</td>\n",
              "      <td>1153.572603</td>\n",
              "      <td>-881.985513</td>\n",
              "      <td>1</td>\n",
              "      <td>2011</td>\n",
              "      <td>5</td>\n",
              "      <td>18</td>\n",
              "      <td>2</td>\n",
              "      <td>13</td>\n",
              "    </tr>\n",
              "  </tbody>\n",
              "</table>\n",
              "</div>\n",
              "      <button class=\"colab-df-convert\" onclick=\"convertToInteractive('df-e5454b29-e54c-40d5-9b3f-d1bd5922bad0')\"\n",
              "              title=\"Convert this dataframe to an interactive table.\"\n",
              "              style=\"display:none;\">\n",
              "        \n",
              "  <svg xmlns=\"http://www.w3.org/2000/svg\" height=\"24px\"viewBox=\"0 0 24 24\"\n",
              "       width=\"24px\">\n",
              "    <path d=\"M0 0h24v24H0V0z\" fill=\"none\"/>\n",
              "    <path d=\"M18.56 5.44l.94 2.06.94-2.06 2.06-.94-2.06-.94-.94-2.06-.94 2.06-2.06.94zm-11 1L8.5 8.5l.94-2.06 2.06-.94-2.06-.94L8.5 2.5l-.94 2.06-2.06.94zm10 10l.94 2.06.94-2.06 2.06-.94-2.06-.94-.94-2.06-.94 2.06-2.06.94z\"/><path d=\"M17.41 7.96l-1.37-1.37c-.4-.4-.92-.59-1.43-.59-.52 0-1.04.2-1.43.59L10.3 9.45l-7.72 7.72c-.78.78-.78 2.05 0 2.83L4 21.41c.39.39.9.59 1.41.59.51 0 1.02-.2 1.41-.59l7.78-7.78 2.81-2.81c.8-.78.8-2.07 0-2.86zM5.41 20L4 18.59l7.72-7.72 1.47 1.35L5.41 20z\"/>\n",
              "  </svg>\n",
              "      </button>\n",
              "      \n",
              "  <style>\n",
              "    .colab-df-container {\n",
              "      display:flex;\n",
              "      flex-wrap:wrap;\n",
              "      gap: 12px;\n",
              "    }\n",
              "\n",
              "    .colab-df-convert {\n",
              "      background-color: #E8F0FE;\n",
              "      border: none;\n",
              "      border-radius: 50%;\n",
              "      cursor: pointer;\n",
              "      display: none;\n",
              "      fill: #1967D2;\n",
              "      height: 32px;\n",
              "      padding: 0 0 0 0;\n",
              "      width: 32px;\n",
              "    }\n",
              "\n",
              "    .colab-df-convert:hover {\n",
              "      background-color: #E2EBFA;\n",
              "      box-shadow: 0px 1px 2px rgba(60, 64, 67, 0.3), 0px 1px 3px 1px rgba(60, 64, 67, 0.15);\n",
              "      fill: #174EA6;\n",
              "    }\n",
              "\n",
              "    [theme=dark] .colab-df-convert {\n",
              "      background-color: #3B4455;\n",
              "      fill: #D2E3FC;\n",
              "    }\n",
              "\n",
              "    [theme=dark] .colab-df-convert:hover {\n",
              "      background-color: #434B5C;\n",
              "      box-shadow: 0px 1px 3px 1px rgba(0, 0, 0, 0.15);\n",
              "      filter: drop-shadow(0px 1px 2px rgba(0, 0, 0, 0.3));\n",
              "      fill: #FFFFFF;\n",
              "    }\n",
              "  </style>\n",
              "\n",
              "      <script>\n",
              "        const buttonEl =\n",
              "          document.querySelector('#df-e5454b29-e54c-40d5-9b3f-d1bd5922bad0 button.colab-df-convert');\n",
              "        buttonEl.style.display =\n",
              "          google.colab.kernel.accessAllowed ? 'block' : 'none';\n",
              "\n",
              "        async function convertToInteractive(key) {\n",
              "          const element = document.querySelector('#df-e5454b29-e54c-40d5-9b3f-d1bd5922bad0');\n",
              "          const dataTable =\n",
              "            await google.colab.kernel.invokeFunction('convertToInteractive',\n",
              "                                                     [key], {});\n",
              "          if (!dataTable) return;\n",
              "\n",
              "          const docLinkHtml = 'Like what you see? Visit the ' +\n",
              "            '<a target=\"_blank\" href=https://colab.research.google.com/notebooks/data_table.ipynb>data table notebook</a>'\n",
              "            + ' to learn more about interactive tables.';\n",
              "          element.innerHTML = '';\n",
              "          dataTable['output_type'] = 'display_data';\n",
              "          await google.colab.output.renderOutput(dataTable, element);\n",
              "          const docLink = document.createElement('div');\n",
              "          docLink.innerHTML = docLinkHtml;\n",
              "          element.appendChild(docLink);\n",
              "        }\n",
              "      </script>\n",
              "    </div>\n",
              "  </div>\n",
              "  "
            ]
          },
          "metadata": {},
          "execution_count": 19
        }
      ]
    },
    {
      "cell_type": "code",
      "source": [
        "# Hence dropping values for such cases\n",
        "df = df.drop((df[df['pickup_latitude']<-90]).index, axis=0)\n",
        "df = df.drop((df[df['pickup_latitude']>90]).index, axis=0)"
      ],
      "metadata": {
        "id": "dBdzQU0EzV1Z"
      },
      "execution_count": null,
      "outputs": []
    },
    {
      "cell_type": "code",
      "source": [
        "# Removing all such cases if there in our dataset\n",
        "df = df.drop((df[df['pickup_longitude']<-90]).index, axis=0)\n",
        "df = df.drop((df[df['pickup_longitude']>90]).index, axis=0)\n",
        "df = df.drop((df[df['dropoff_latitude']<-90]).index, axis=0)\n",
        "df = df.drop((df[df['dropoff_latitude']>90]).index, axis=0)\n",
        "df = df.drop((df[df['dropoff_longitude']<-90]).index, axis=0)\n",
        "df = df.drop((df[df['dropoff_longitude']>90]).index, axis=0)\n"
      ],
      "metadata": {
        "id": "Amv72Nzwzk0w"
      },
      "execution_count": null,
      "outputs": []
    },
    {
      "cell_type": "code",
      "source": [
        "df.shape"
      ],
      "metadata": {
        "colab": {
          "base_uri": "https://localhost:8080/"
        },
        "id": "TdRsP2ZAz7R4",
        "outputId": "fb1f2c22-0922-4e4e-8866-bb822cdb509d"
      },
      "execution_count": null,
      "outputs": [
        {
          "output_type": "execute_result",
          "data": {
            "text/plain": [
              "(199255, 12)"
            ]
          },
          "metadata": {},
          "execution_count": 22
        }
      ]
    },
    {
      "cell_type": "markdown",
      "source": [
        "***Now we have successfully cleared our dataset. Thus proceeding for further operations:***"
      ],
      "metadata": {
        "id": "a70EiQSz0FN4"
      }
    },
    {
      "cell_type": "markdown",
      "source": [
        "### Calculating Distance\n",
        "\n",
        "*Now the next very important task is to calculate the distance btetween the pickup and the drop locations using the latitudes and longitudes.*"
      ],
      "metadata": {
        "id": "AHljHJg80yEu"
      }
    },
    {
      "cell_type": "code",
      "source": [
        "# As we know that we have been given the pickup longitute and latitude values and same for the dropoff. \n",
        "# So we need to calculate the distance using the haversine formula and we will create a new variable called distance\n",
        "def haversine(a):\n",
        "    lon1=a[0]\n",
        "    lat1=a[1]\n",
        "    lon2=a[2]\n",
        "    lat2=a[3]\n",
        "    \"\"\"\n",
        "    Calculate the great circle distance between two points \n",
        "    on the earth (specified in decimal degrees)\n",
        "    \"\"\"\n",
        "    # convert decimal degrees to radians \n",
        "    lon1, lat1, lon2, lat2 = map(radians, [lon1, lat1, lon2, lat2])\n",
        "    \n",
        "    # haversine formula \n",
        "    dlon = lon2 - lon1 \n",
        "    dlat = lat2 - lat1 \n",
        "    a = sin(dlat/2)**2 + cos(lat1) * cos(lat2) * sin(dlon/2)**2\n",
        "    c =  2 * asin(sqrt(a))\n",
        "    # Radius of earth in kilometers is 6371\n",
        "    km = 6371* c\n",
        "    return km"
      ],
      "metadata": {
        "id": "iqXtZ5lL0PcI"
      },
      "execution_count": null,
      "outputs": []
    },
    {
      "cell_type": "code",
      "source": [
        "# Making a new column distance where we'll apply the haversine function created above.\n",
        "df['distance'] = df[['pickup_longitude','pickup_latitude','dropoff_longitude','dropoff_latitude']].apply(haversine,axis=1)"
      ],
      "metadata": {
        "id": "dPZ-OlPn08HW"
      },
      "execution_count": null,
      "outputs": []
    },
    {
      "cell_type": "code",
      "source": [
        "df.head()"
      ],
      "metadata": {
        "id": "OiZBrPmz18Y7",
        "colab": {
          "base_uri": "https://localhost:8080/",
          "height": 357
        },
        "outputId": "e86a8640-1840-43c1-a67b-c98568b220ee"
      },
      "execution_count": null,
      "outputs": [
        {
          "output_type": "execute_result",
          "data": {
            "text/plain": [
              "   fare_amount     pickup_datetime  pickup_longitude  pickup_latitude  \\\n",
              "0          7.5 2015-05-07 19:52:06        -73.999817        40.738354   \n",
              "1          7.7 2009-07-17 20:04:56        -73.994355        40.728225   \n",
              "2         12.9 2009-08-24 21:45:00        -74.005043        40.740770   \n",
              "3          5.3 2009-06-26 08:22:21        -73.976124        40.790844   \n",
              "4         16.0 2014-08-28 17:47:00        -73.925023        40.744085   \n",
              "\n",
              "   dropoff_longitude  dropoff_latitude  passenger_count  year  Month  Date  \\\n",
              "0         -73.999512         40.723217                1  2015      5     7   \n",
              "1         -73.994710         40.750325                1  2009      7    17   \n",
              "2         -73.962565         40.772647                1  2009      8    24   \n",
              "3         -73.965316         40.803349                3  2009      6    26   \n",
              "4         -73.973082         40.761247                5  2014      8    28   \n",
              "\n",
              "   Day  Hour  distance  \n",
              "0    3    19  1.683323  \n",
              "1    4    20  2.457590  \n",
              "2    0    21  5.036377  \n",
              "3    4     8  1.661683  \n",
              "4    3    17  4.475450  "
            ],
            "text/html": [
              "\n",
              "  <div id=\"df-85329c50-6725-4b00-a4f6-2226784f7c18\">\n",
              "    <div class=\"colab-df-container\">\n",
              "      <div>\n",
              "<style scoped>\n",
              "    .dataframe tbody tr th:only-of-type {\n",
              "        vertical-align: middle;\n",
              "    }\n",
              "\n",
              "    .dataframe tbody tr th {\n",
              "        vertical-align: top;\n",
              "    }\n",
              "\n",
              "    .dataframe thead th {\n",
              "        text-align: right;\n",
              "    }\n",
              "</style>\n",
              "<table border=\"1\" class=\"dataframe\">\n",
              "  <thead>\n",
              "    <tr style=\"text-align: right;\">\n",
              "      <th></th>\n",
              "      <th>fare_amount</th>\n",
              "      <th>pickup_datetime</th>\n",
              "      <th>pickup_longitude</th>\n",
              "      <th>pickup_latitude</th>\n",
              "      <th>dropoff_longitude</th>\n",
              "      <th>dropoff_latitude</th>\n",
              "      <th>passenger_count</th>\n",
              "      <th>year</th>\n",
              "      <th>Month</th>\n",
              "      <th>Date</th>\n",
              "      <th>Day</th>\n",
              "      <th>Hour</th>\n",
              "      <th>distance</th>\n",
              "    </tr>\n",
              "  </thead>\n",
              "  <tbody>\n",
              "    <tr>\n",
              "      <th>0</th>\n",
              "      <td>7.5</td>\n",
              "      <td>2015-05-07 19:52:06</td>\n",
              "      <td>-73.999817</td>\n",
              "      <td>40.738354</td>\n",
              "      <td>-73.999512</td>\n",
              "      <td>40.723217</td>\n",
              "      <td>1</td>\n",
              "      <td>2015</td>\n",
              "      <td>5</td>\n",
              "      <td>7</td>\n",
              "      <td>3</td>\n",
              "      <td>19</td>\n",
              "      <td>1.683323</td>\n",
              "    </tr>\n",
              "    <tr>\n",
              "      <th>1</th>\n",
              "      <td>7.7</td>\n",
              "      <td>2009-07-17 20:04:56</td>\n",
              "      <td>-73.994355</td>\n",
              "      <td>40.728225</td>\n",
              "      <td>-73.994710</td>\n",
              "      <td>40.750325</td>\n",
              "      <td>1</td>\n",
              "      <td>2009</td>\n",
              "      <td>7</td>\n",
              "      <td>17</td>\n",
              "      <td>4</td>\n",
              "      <td>20</td>\n",
              "      <td>2.457590</td>\n",
              "    </tr>\n",
              "    <tr>\n",
              "      <th>2</th>\n",
              "      <td>12.9</td>\n",
              "      <td>2009-08-24 21:45:00</td>\n",
              "      <td>-74.005043</td>\n",
              "      <td>40.740770</td>\n",
              "      <td>-73.962565</td>\n",
              "      <td>40.772647</td>\n",
              "      <td>1</td>\n",
              "      <td>2009</td>\n",
              "      <td>8</td>\n",
              "      <td>24</td>\n",
              "      <td>0</td>\n",
              "      <td>21</td>\n",
              "      <td>5.036377</td>\n",
              "    </tr>\n",
              "    <tr>\n",
              "      <th>3</th>\n",
              "      <td>5.3</td>\n",
              "      <td>2009-06-26 08:22:21</td>\n",
              "      <td>-73.976124</td>\n",
              "      <td>40.790844</td>\n",
              "      <td>-73.965316</td>\n",
              "      <td>40.803349</td>\n",
              "      <td>3</td>\n",
              "      <td>2009</td>\n",
              "      <td>6</td>\n",
              "      <td>26</td>\n",
              "      <td>4</td>\n",
              "      <td>8</td>\n",
              "      <td>1.661683</td>\n",
              "    </tr>\n",
              "    <tr>\n",
              "      <th>4</th>\n",
              "      <td>16.0</td>\n",
              "      <td>2014-08-28 17:47:00</td>\n",
              "      <td>-73.925023</td>\n",
              "      <td>40.744085</td>\n",
              "      <td>-73.973082</td>\n",
              "      <td>40.761247</td>\n",
              "      <td>5</td>\n",
              "      <td>2014</td>\n",
              "      <td>8</td>\n",
              "      <td>28</td>\n",
              "      <td>3</td>\n",
              "      <td>17</td>\n",
              "      <td>4.475450</td>\n",
              "    </tr>\n",
              "  </tbody>\n",
              "</table>\n",
              "</div>\n",
              "      <button class=\"colab-df-convert\" onclick=\"convertToInteractive('df-85329c50-6725-4b00-a4f6-2226784f7c18')\"\n",
              "              title=\"Convert this dataframe to an interactive table.\"\n",
              "              style=\"display:none;\">\n",
              "        \n",
              "  <svg xmlns=\"http://www.w3.org/2000/svg\" height=\"24px\"viewBox=\"0 0 24 24\"\n",
              "       width=\"24px\">\n",
              "    <path d=\"M0 0h24v24H0V0z\" fill=\"none\"/>\n",
              "    <path d=\"M18.56 5.44l.94 2.06.94-2.06 2.06-.94-2.06-.94-.94-2.06-.94 2.06-2.06.94zm-11 1L8.5 8.5l.94-2.06 2.06-.94-2.06-.94L8.5 2.5l-.94 2.06-2.06.94zm10 10l.94 2.06.94-2.06 2.06-.94-2.06-.94-.94-2.06-.94 2.06-2.06.94z\"/><path d=\"M17.41 7.96l-1.37-1.37c-.4-.4-.92-.59-1.43-.59-.52 0-1.04.2-1.43.59L10.3 9.45l-7.72 7.72c-.78.78-.78 2.05 0 2.83L4 21.41c.39.39.9.59 1.41.59.51 0 1.02-.2 1.41-.59l7.78-7.78 2.81-2.81c.8-.78.8-2.07 0-2.86zM5.41 20L4 18.59l7.72-7.72 1.47 1.35L5.41 20z\"/>\n",
              "  </svg>\n",
              "      </button>\n",
              "      \n",
              "  <style>\n",
              "    .colab-df-container {\n",
              "      display:flex;\n",
              "      flex-wrap:wrap;\n",
              "      gap: 12px;\n",
              "    }\n",
              "\n",
              "    .colab-df-convert {\n",
              "      background-color: #E8F0FE;\n",
              "      border: none;\n",
              "      border-radius: 50%;\n",
              "      cursor: pointer;\n",
              "      display: none;\n",
              "      fill: #1967D2;\n",
              "      height: 32px;\n",
              "      padding: 0 0 0 0;\n",
              "      width: 32px;\n",
              "    }\n",
              "\n",
              "    .colab-df-convert:hover {\n",
              "      background-color: #E2EBFA;\n",
              "      box-shadow: 0px 1px 2px rgba(60, 64, 67, 0.3), 0px 1px 3px 1px rgba(60, 64, 67, 0.15);\n",
              "      fill: #174EA6;\n",
              "    }\n",
              "\n",
              "    [theme=dark] .colab-df-convert {\n",
              "      background-color: #3B4455;\n",
              "      fill: #D2E3FC;\n",
              "    }\n",
              "\n",
              "    [theme=dark] .colab-df-convert:hover {\n",
              "      background-color: #434B5C;\n",
              "      box-shadow: 0px 1px 3px 1px rgba(0, 0, 0, 0.15);\n",
              "      filter: drop-shadow(0px 1px 2px rgba(0, 0, 0, 0.3));\n",
              "      fill: #FFFFFF;\n",
              "    }\n",
              "  </style>\n",
              "\n",
              "      <script>\n",
              "        const buttonEl =\n",
              "          document.querySelector('#df-85329c50-6725-4b00-a4f6-2226784f7c18 button.colab-df-convert');\n",
              "        buttonEl.style.display =\n",
              "          google.colab.kernel.accessAllowed ? 'block' : 'none';\n",
              "\n",
              "        async function convertToInteractive(key) {\n",
              "          const element = document.querySelector('#df-85329c50-6725-4b00-a4f6-2226784f7c18');\n",
              "          const dataTable =\n",
              "            await google.colab.kernel.invokeFunction('convertToInteractive',\n",
              "                                                     [key], {});\n",
              "          if (!dataTable) return;\n",
              "\n",
              "          const docLinkHtml = 'Like what you see? Visit the ' +\n",
              "            '<a target=\"_blank\" href=https://colab.research.google.com/notebooks/data_table.ipynb>data table notebook</a>'\n",
              "            + ' to learn more about interactive tables.';\n",
              "          element.innerHTML = '';\n",
              "          dataTable['output_type'] = 'display_data';\n",
              "          await google.colab.output.renderOutput(dataTable, element);\n",
              "          const docLink = document.createElement('div');\n",
              "          docLink.innerHTML = docLinkHtml;\n",
              "          element.appendChild(docLink);\n",
              "        }\n",
              "      </script>\n",
              "    </div>\n",
              "  </div>\n",
              "  "
            ]
          },
          "metadata": {},
          "execution_count": 25
        }
      ]
    },
    {
      "cell_type": "code",
      "source": [
        "df['distance'].describe()"
      ],
      "metadata": {
        "colab": {
          "base_uri": "https://localhost:8080/"
        },
        "id": "iagvjw8x1abJ",
        "outputId": "2059ede1-7552-41fd-c423-98c4c3e2c4c7"
      },
      "execution_count": null,
      "outputs": [
        {
          "output_type": "execute_result",
          "data": {
            "text/plain": [
              "count    199255.000000\n",
              "mean         20.303433\n",
              "std         376.768881\n",
              "min           0.000000\n",
              "25%           1.215419\n",
              "50%           2.121935\n",
              "75%           3.875758\n",
              "max        8782.898606\n",
              "Name: distance, dtype: float64"
            ]
          },
          "metadata": {},
          "execution_count": 26
        }
      ]
    },
    {
      "cell_type": "markdown",
      "source": [
        "We can observe that the minimum distance is 0 so we need to remove such data points."
      ],
      "metadata": {
        "id": "BJ9-JarG9mNW"
      }
    },
    {
      "cell_type": "code",
      "source": [
        "# checking the distance which is equal to 0.\n",
        "from collections import Counter \n",
        "Counter(df['distance'] == 0)"
      ],
      "metadata": {
        "colab": {
          "base_uri": "https://localhost:8080/"
        },
        "id": "dMoujpEZtnnO",
        "outputId": "02ca78fd-bbe8-4c2d-b132-5370ff34885f"
      },
      "execution_count": null,
      "outputs": [
        {
          "output_type": "execute_result",
          "data": {
            "text/plain": [
              "Counter({False: 193643, True: 5612})"
            ]
          },
          "metadata": {},
          "execution_count": 27
        }
      ]
    },
    {
      "cell_type": "code",
      "source": [
        "# Removing the cases where distance is equal to 0\n",
        "df = df.drop((df[df['distance'] == 0]).index, axis=0)"
      ],
      "metadata": {
        "id": "KyNpVOBH9P7T"
      },
      "execution_count": null,
      "outputs": []
    },
    {
      "cell_type": "markdown",
      "source": [
        "Now we have splitted the pickup date time variable into different varaibles like month, year, day etc so now we dont need to have that pickup_Date variable now. Hence we can drop that, Also we have created distance using pickup and drop longitudes and latitudes so we will also drop pickup and drop longitudes and latitudes variables."
      ],
      "metadata": {
        "id": "D-JSLET_3EGK"
      }
    },
    {
      "cell_type": "code",
      "source": [
        "df.shape"
      ],
      "metadata": {
        "colab": {
          "base_uri": "https://localhost:8080/"
        },
        "id": "DGpNR0XOPJW8",
        "outputId": "1281f895-8fbf-4b4b-b110-3e8eb3c51e04"
      },
      "execution_count": null,
      "outputs": [
        {
          "output_type": "execute_result",
          "data": {
            "text/plain": [
              "(193643, 13)"
            ]
          },
          "metadata": {},
          "execution_count": 29
        }
      ]
    },
    {
      "cell_type": "code",
      "source": [
        "# drop = ['pickup_datetime', 'pickup_longitude', 'pickup_latitude','dropoff_longitude', 'dropoff_latitude', 'Minute']\n",
        "df = df.drop('pickup_datetime', axis = 1)"
      ],
      "metadata": {
        "id": "jeUhtM-l3E4X"
      },
      "execution_count": null,
      "outputs": []
    },
    {
      "cell_type": "code",
      "source": [
        "df.head()"
      ],
      "metadata": {
        "colab": {
          "base_uri": "https://localhost:8080/",
          "height": 250
        },
        "id": "Ap_uyRIV3LFC",
        "outputId": "54091be2-8d07-4e99-bbc4-6cca0f55be4b"
      },
      "execution_count": null,
      "outputs": [
        {
          "output_type": "execute_result",
          "data": {
            "text/plain": [
              "   fare_amount  pickup_longitude  pickup_latitude  dropoff_longitude  \\\n",
              "0          7.5        -73.999817        40.738354         -73.999512   \n",
              "1          7.7        -73.994355        40.728225         -73.994710   \n",
              "2         12.9        -74.005043        40.740770         -73.962565   \n",
              "3          5.3        -73.976124        40.790844         -73.965316   \n",
              "4         16.0        -73.925023        40.744085         -73.973082   \n",
              "\n",
              "   dropoff_latitude  passenger_count  year  Month  Date  Day  Hour  distance  \n",
              "0         40.723217                1  2015      5     7    3    19  1.683323  \n",
              "1         40.750325                1  2009      7    17    4    20  2.457590  \n",
              "2         40.772647                1  2009      8    24    0    21  5.036377  \n",
              "3         40.803349                3  2009      6    26    4     8  1.661683  \n",
              "4         40.761247                5  2014      8    28    3    17  4.475450  "
            ],
            "text/html": [
              "\n",
              "  <div id=\"df-243d225c-8fd2-4eab-ad4f-2602fae04594\">\n",
              "    <div class=\"colab-df-container\">\n",
              "      <div>\n",
              "<style scoped>\n",
              "    .dataframe tbody tr th:only-of-type {\n",
              "        vertical-align: middle;\n",
              "    }\n",
              "\n",
              "    .dataframe tbody tr th {\n",
              "        vertical-align: top;\n",
              "    }\n",
              "\n",
              "    .dataframe thead th {\n",
              "        text-align: right;\n",
              "    }\n",
              "</style>\n",
              "<table border=\"1\" class=\"dataframe\">\n",
              "  <thead>\n",
              "    <tr style=\"text-align: right;\">\n",
              "      <th></th>\n",
              "      <th>fare_amount</th>\n",
              "      <th>pickup_longitude</th>\n",
              "      <th>pickup_latitude</th>\n",
              "      <th>dropoff_longitude</th>\n",
              "      <th>dropoff_latitude</th>\n",
              "      <th>passenger_count</th>\n",
              "      <th>year</th>\n",
              "      <th>Month</th>\n",
              "      <th>Date</th>\n",
              "      <th>Day</th>\n",
              "      <th>Hour</th>\n",
              "      <th>distance</th>\n",
              "    </tr>\n",
              "  </thead>\n",
              "  <tbody>\n",
              "    <tr>\n",
              "      <th>0</th>\n",
              "      <td>7.5</td>\n",
              "      <td>-73.999817</td>\n",
              "      <td>40.738354</td>\n",
              "      <td>-73.999512</td>\n",
              "      <td>40.723217</td>\n",
              "      <td>1</td>\n",
              "      <td>2015</td>\n",
              "      <td>5</td>\n",
              "      <td>7</td>\n",
              "      <td>3</td>\n",
              "      <td>19</td>\n",
              "      <td>1.683323</td>\n",
              "    </tr>\n",
              "    <tr>\n",
              "      <th>1</th>\n",
              "      <td>7.7</td>\n",
              "      <td>-73.994355</td>\n",
              "      <td>40.728225</td>\n",
              "      <td>-73.994710</td>\n",
              "      <td>40.750325</td>\n",
              "      <td>1</td>\n",
              "      <td>2009</td>\n",
              "      <td>7</td>\n",
              "      <td>17</td>\n",
              "      <td>4</td>\n",
              "      <td>20</td>\n",
              "      <td>2.457590</td>\n",
              "    </tr>\n",
              "    <tr>\n",
              "      <th>2</th>\n",
              "      <td>12.9</td>\n",
              "      <td>-74.005043</td>\n",
              "      <td>40.740770</td>\n",
              "      <td>-73.962565</td>\n",
              "      <td>40.772647</td>\n",
              "      <td>1</td>\n",
              "      <td>2009</td>\n",
              "      <td>8</td>\n",
              "      <td>24</td>\n",
              "      <td>0</td>\n",
              "      <td>21</td>\n",
              "      <td>5.036377</td>\n",
              "    </tr>\n",
              "    <tr>\n",
              "      <th>3</th>\n",
              "      <td>5.3</td>\n",
              "      <td>-73.976124</td>\n",
              "      <td>40.790844</td>\n",
              "      <td>-73.965316</td>\n",
              "      <td>40.803349</td>\n",
              "      <td>3</td>\n",
              "      <td>2009</td>\n",
              "      <td>6</td>\n",
              "      <td>26</td>\n",
              "      <td>4</td>\n",
              "      <td>8</td>\n",
              "      <td>1.661683</td>\n",
              "    </tr>\n",
              "    <tr>\n",
              "      <th>4</th>\n",
              "      <td>16.0</td>\n",
              "      <td>-73.925023</td>\n",
              "      <td>40.744085</td>\n",
              "      <td>-73.973082</td>\n",
              "      <td>40.761247</td>\n",
              "      <td>5</td>\n",
              "      <td>2014</td>\n",
              "      <td>8</td>\n",
              "      <td>28</td>\n",
              "      <td>3</td>\n",
              "      <td>17</td>\n",
              "      <td>4.475450</td>\n",
              "    </tr>\n",
              "  </tbody>\n",
              "</table>\n",
              "</div>\n",
              "      <button class=\"colab-df-convert\" onclick=\"convertToInteractive('df-243d225c-8fd2-4eab-ad4f-2602fae04594')\"\n",
              "              title=\"Convert this dataframe to an interactive table.\"\n",
              "              style=\"display:none;\">\n",
              "        \n",
              "  <svg xmlns=\"http://www.w3.org/2000/svg\" height=\"24px\"viewBox=\"0 0 24 24\"\n",
              "       width=\"24px\">\n",
              "    <path d=\"M0 0h24v24H0V0z\" fill=\"none\"/>\n",
              "    <path d=\"M18.56 5.44l.94 2.06.94-2.06 2.06-.94-2.06-.94-.94-2.06-.94 2.06-2.06.94zm-11 1L8.5 8.5l.94-2.06 2.06-.94-2.06-.94L8.5 2.5l-.94 2.06-2.06.94zm10 10l.94 2.06.94-2.06 2.06-.94-2.06-.94-.94-2.06-.94 2.06-2.06.94z\"/><path d=\"M17.41 7.96l-1.37-1.37c-.4-.4-.92-.59-1.43-.59-.52 0-1.04.2-1.43.59L10.3 9.45l-7.72 7.72c-.78.78-.78 2.05 0 2.83L4 21.41c.39.39.9.59 1.41.59.51 0 1.02-.2 1.41-.59l7.78-7.78 2.81-2.81c.8-.78.8-2.07 0-2.86zM5.41 20L4 18.59l7.72-7.72 1.47 1.35L5.41 20z\"/>\n",
              "  </svg>\n",
              "      </button>\n",
              "      \n",
              "  <style>\n",
              "    .colab-df-container {\n",
              "      display:flex;\n",
              "      flex-wrap:wrap;\n",
              "      gap: 12px;\n",
              "    }\n",
              "\n",
              "    .colab-df-convert {\n",
              "      background-color: #E8F0FE;\n",
              "      border: none;\n",
              "      border-radius: 50%;\n",
              "      cursor: pointer;\n",
              "      display: none;\n",
              "      fill: #1967D2;\n",
              "      height: 32px;\n",
              "      padding: 0 0 0 0;\n",
              "      width: 32px;\n",
              "    }\n",
              "\n",
              "    .colab-df-convert:hover {\n",
              "      background-color: #E2EBFA;\n",
              "      box-shadow: 0px 1px 2px rgba(60, 64, 67, 0.3), 0px 1px 3px 1px rgba(60, 64, 67, 0.15);\n",
              "      fill: #174EA6;\n",
              "    }\n",
              "\n",
              "    [theme=dark] .colab-df-convert {\n",
              "      background-color: #3B4455;\n",
              "      fill: #D2E3FC;\n",
              "    }\n",
              "\n",
              "    [theme=dark] .colab-df-convert:hover {\n",
              "      background-color: #434B5C;\n",
              "      box-shadow: 0px 1px 3px 1px rgba(0, 0, 0, 0.15);\n",
              "      filter: drop-shadow(0px 1px 2px rgba(0, 0, 0, 0.3));\n",
              "      fill: #FFFFFF;\n",
              "    }\n",
              "  </style>\n",
              "\n",
              "      <script>\n",
              "        const buttonEl =\n",
              "          document.querySelector('#df-243d225c-8fd2-4eab-ad4f-2602fae04594 button.colab-df-convert');\n",
              "        buttonEl.style.display =\n",
              "          google.colab.kernel.accessAllowed ? 'block' : 'none';\n",
              "\n",
              "        async function convertToInteractive(key) {\n",
              "          const element = document.querySelector('#df-243d225c-8fd2-4eab-ad4f-2602fae04594');\n",
              "          const dataTable =\n",
              "            await google.colab.kernel.invokeFunction('convertToInteractive',\n",
              "                                                     [key], {});\n",
              "          if (!dataTable) return;\n",
              "\n",
              "          const docLinkHtml = 'Like what you see? Visit the ' +\n",
              "            '<a target=\"_blank\" href=https://colab.research.google.com/notebooks/data_table.ipynb>data table notebook</a>'\n",
              "            + ' to learn more about interactive tables.';\n",
              "          element.innerHTML = '';\n",
              "          dataTable['output_type'] = 'display_data';\n",
              "          await google.colab.output.renderOutput(dataTable, element);\n",
              "          const docLink = document.createElement('div');\n",
              "          docLink.innerHTML = docLinkHtml;\n",
              "          element.appendChild(docLink);\n",
              "        }\n",
              "      </script>\n",
              "    </div>\n",
              "  </div>\n",
              "  "
            ]
          },
          "metadata": {},
          "execution_count": 31
        }
      ]
    },
    {
      "cell_type": "markdown",
      "source": [
        "### **Data Visualization**"
      ],
      "metadata": {
        "id": "WNctDwrD3Y3p"
      }
    },
    {
      "cell_type": "code",
      "source": [
        "# Count plot on passenger count\n",
        "plt.figure(figsize=(15,7))\n",
        "sns.countplot(x = \"passenger_count\", data=df)"
      ],
      "metadata": {
        "colab": {
          "base_uri": "https://localhost:8080/",
          "height": 462
        },
        "id": "_Xmkl7a23pHi",
        "outputId": "cc287448-46ed-45e2-866a-7834ff3798c5"
      },
      "execution_count": null,
      "outputs": [
        {
          "output_type": "execute_result",
          "data": {
            "text/plain": [
              "<matplotlib.axes._subplots.AxesSubplot at 0x7feb9a0fa1d0>"
            ]
          },
          "metadata": {},
          "execution_count": 32
        },
        {
          "output_type": "display_data",
          "data": {
            "text/plain": [
              "<Figure size 1080x504 with 1 Axes>"
            ],
            "image/png": "[encoded data removed]"
          },
          "metadata": {
            "needs_background": "light"
          }
        }
      ]
    },
    {
      "cell_type": "code",
      "source": [
        "#Relationship beetween number of passengers and Fare\n",
        "plt.figure(figsize=(15,7))\n",
        "plt.scatter(x = df['passenger_count'], y = df['fare_amount'], s=10)\n",
        "plt.xlabel('No. of Passengers')\n",
        "plt.ylabel('Fare')\n",
        "plt.show()"
      ],
      "metadata": {
        "colab": {
          "base_uri": "https://localhost:8080/",
          "height": 442
        },
        "id": "yYozbhRM3pFP",
        "outputId": "cb16f9eb-9682-4cf2-a582-59047d4e6e90"
      },
      "execution_count": null,
      "outputs": [
        {
          "output_type": "display_data",
          "data": {
            "text/plain": [
              "<Figure size 1080x504 with 1 Axes>"
            ],
            "image/png": "[encoded data removed]"
          },
          "metadata": {
            "needs_background": "light"
          }
        }
      ]
    },
    {
      "cell_type": "markdown",
      "source": [
        "***Observations:***\n",
        "\n",
        "1.   Single travelling passengers are most frequent travellers.\n",
        "2.   At the sametime we can also conclude that highest Fare are coming from single & double travelling passengers.\n",
        "\n"
      ],
      "metadata": {
        "id": "6YT9J0f04Apx"
      }
    },
    {
      "cell_type": "code",
      "source": [
        "#Relationship between date and Fare\n",
        "plt.figure(figsize=(15,7))\n",
        "plt.scatter(x = df['Date'], y = df['fare_amount'], s=10)\n",
        "plt.xlabel('Date')\n",
        "plt.ylabel('Fare')\n",
        "plt.show()"
      ],
      "metadata": {
        "colab": {
          "base_uri": "https://localhost:8080/",
          "height": 442
        },
        "id": "9OxVjkvX3pDk",
        "outputId": "25204021-0e25-45c0-833c-9303022e710e"
      },
      "execution_count": null,
      "outputs": [
        {
          "output_type": "display_data",
          "data": {
            "text/plain": [
              "<Figure size 1080x504 with 1 Axes>"
            ],
            "image/png": "[encoded data removed]"
          },
          "metadata": {
            "needs_background": "light"
          }
        }
      ]
    },
    {
      "cell_type": "code",
      "source": [
        "#Relationship between hour and Fare\n",
        "plt.figure(figsize=(15,7))\n",
        "plt.scatter(x = df['Hour'], y = df['fare_amount'], s=10)\n",
        "plt.xlabel('Date')\n",
        "plt.ylabel('Fare')\n",
        "plt.show()"
      ],
      "metadata": {
        "colab": {
          "base_uri": "https://localhost:8080/",
          "height": 442
        },
        "id": "ekrw7X9g3pBr",
        "outputId": "ad9c9fdc-2247-4df6-edc4-b4441488db8e"
      },
      "execution_count": null,
      "outputs": [
        {
          "output_type": "display_data",
          "data": {
            "text/plain": [
              "<Figure size 1080x504 with 1 Axes>"
            ],
            "image/png": "[encoded data removed]"
          },
          "metadata": {
            "needs_background": "light"
          }
        }
      ]
    },
    {
      "cell_type": "markdown",
      "source": [
        "*From the above plot we can observe that the cabs taken at 12 am, 8 am and 8 pm are the costliest. Hence we can assume that cabs taken early in morning and late at night are costliest* "
      ],
      "metadata": {
        "id": "fm2Lujy75LKQ"
      }
    },
    {
      "cell_type": "code",
      "source": [
        "#Relationship between month and Fare\n",
        "plt.figure(figsize=(15,7))\n",
        "plt.scatter(x = df['Month'], y = df['fare_amount'], s=10)\n",
        "plt.xlabel('Date')\n",
        "plt.ylabel('Fare')\n",
        "plt.show()"
      ],
      "metadata": {
        "colab": {
          "base_uri": "https://localhost:8080/",
          "height": 442
        },
        "id": "t50GT55L3o_W",
        "outputId": "0ffcb630-1422-4292-b4c5-1ef9806e224b"
      },
      "execution_count": null,
      "outputs": [
        {
          "output_type": "display_data",
          "data": {
            "text/plain": [
              "<Figure size 1080x504 with 1 Axes>"
            ],
            "image/png": "[encoded data removed]"
          },
          "metadata": {
            "needs_background": "light"
          }
        }
      ]
    },
    {
      "cell_type": "code",
      "source": [
        "#Relationship between hour and Fare\n",
        "plt.figure(figsize=(15,7))\n",
        "plt.scatter(x = df['Hour'], y = df['fare_amount'], s=10)\n",
        "plt.xlabel('Hour')\n",
        "plt.ylabel('Fare')\n",
        "plt.show()"
      ],
      "metadata": {
        "colab": {
          "base_uri": "https://localhost:8080/",
          "height": 442
        },
        "id": "6G7tQmtTgUcF",
        "outputId": "55ece40b-5c31-4f6e-93e2-2ab30721e418"
      },
      "execution_count": null,
      "outputs": [
        {
          "output_type": "display_data",
          "data": {
            "text/plain": [
              "<Figure size 1080x504 with 1 Axes>"
            ],
            "image/png": "[encoded data removed]"
          },
          "metadata": {
            "needs_background": "light"
          }
        }
      ]
    },
    {
      "cell_type": "code",
      "source": [
        "plt.figure(figsize=(15,7))\n",
        "df.groupby(df[\"Hour\"])['Hour'].count().plot(kind=\"bar\")\n",
        "plt.xlabel('Hour')\n",
        "plt.ylabel('Number of Taxis')\n",
        "plt.title('Taxi bookings at different hours of the day')\n",
        "plt.show()"
      ],
      "metadata": {
        "colab": {
          "base_uri": "https://localhost:8080/",
          "height": 461
        },
        "id": "Ego8wHDI3o9a",
        "outputId": "aa06b307-d856-42ec-f948-c064d52a8f35"
      },
      "execution_count": null,
      "outputs": [
        {
          "output_type": "display_data",
          "data": {
            "text/plain": [
              "<Figure size 1080x504 with 1 Axes>"
            ],
            "image/png": "[encoded data removed]"
          },
          "metadata": {
            "needs_background": "light"
          }
        }
      ]
    },
    {
      "cell_type": "markdown",
      "source": [
        "*Lowest cabs at 5 AM and highest at and around 7 PM i.e the office rush hours* "
      ],
      "metadata": {
        "id": "3xS4hmq943ZB"
      }
    },
    {
      "cell_type": "code",
      "source": [
        "#impact of Day on the number of cab rides\n",
        "plt.figure(figsize=(15,7))\n",
        "sns.countplot(x=\"Day\", data=df)"
      ],
      "metadata": {
        "colab": {
          "base_uri": "https://localhost:8080/",
          "height": 460
        },
        "id": "gr7aMqeq3o7T",
        "outputId": "57aef8a0-4b87-4cd8-ec64-9636990ee00b"
      },
      "execution_count": null,
      "outputs": [
        {
          "output_type": "execute_result",
          "data": {
            "text/plain": [
              "<matplotlib.axes._subplots.AxesSubplot at 0x7feb99764a90>"
            ]
          },
          "metadata": {},
          "execution_count": 39
        },
        {
          "output_type": "display_data",
          "data": {
            "text/plain": [
              "<Figure size 1080x504 with 1 Axes>"
            ],
            "image/png": "[encoded data removed]"
          },
          "metadata": {
            "needs_background": "light"
          }
        }
      ]
    },
    {
      "cell_type": "markdown",
      "source": [
        "*The day of the week does not seem to have much influence on the number of cabs rides*"
      ],
      "metadata": {
        "id": "NgbV6jaS6IAN"
      }
    },
    {
      "cell_type": "code",
      "source": [
        "#Relationships between day and Fare\n",
        "plt.figure(figsize=(15,7))\n",
        "plt.scatter(x = df['Day'], y = df['fare_amount'], s=10)\n",
        "plt.xlabel('Day')\n",
        "plt.ylabel('Fare')\n",
        "plt.show()"
      ],
      "metadata": {
        "colab": {
          "base_uri": "https://localhost:8080/",
          "height": 442
        },
        "id": "wch2q-2p6PBe",
        "outputId": "d9eb33f5-699f-4254-d379-f9e4d83c02ac"
      },
      "execution_count": null,
      "outputs": [
        {
          "output_type": "display_data",
          "data": {
            "text/plain": [
              "<Figure size 1080x504 with 1 Axes>"
            ],
            "image/png": "[encoded data removed]"
          },
          "metadata": {
            "needs_background": "light"
          }
        }
      ]
    },
    {
      "cell_type": "markdown",
      "source": [
        "No such conclusions can be made based on the day of the week."
      ],
      "metadata": {
        "id": "43nOPLPQ78M-"
      }
    },
    {
      "cell_type": "code",
      "source": [
        "# Define a figure.\n",
        "plt.figure(figsize=(14,12))\n",
        "\n",
        "# Box plot distribution\n",
        "sns.boxplot(df['distance'])\n",
        "plt.title('Distance', weight='bold')\n",
        "plt.tight_layout()"
      ],
      "metadata": {
        "colab": {
          "base_uri": "https://localhost:8080/",
          "height": 873
        },
        "id": "4IQj9Ice8R_3",
        "outputId": "8e2f595c-dc45-481f-ba68-c9b785e761e1"
      },
      "execution_count": null,
      "outputs": [
        {
          "output_type": "display_data",
          "data": {
            "text/plain": [
              "<Figure size 1008x864 with 1 Axes>"
            ],
            "image/png": "[encoded data removed]"
          },
          "metadata": {
            "needs_background": "light"
          }
        }
      ]
    },
    {
      "cell_type": "markdown",
      "source": [
        "We can observe that for a few data points have a large distance value. This might be the case when someone plans to go on a long road trip via taxi."
      ],
      "metadata": {
        "id": "EjCDSlkuIJ_I"
      }
    },
    {
      "cell_type": "code",
      "source": [
        "# Define a figure.\n",
        "plt.figure(figsize=(14,12))\n",
        "\n",
        "# Box plot distribution\n",
        "sns.boxplot(df['fare_amount'])\n",
        "plt.title('Fare', weight='bold')\n",
        "plt.tight_layout()"
      ],
      "metadata": {
        "colab": {
          "base_uri": "https://localhost:8080/",
          "height": 873
        },
        "id": "NYxy4EHfsbiO",
        "outputId": "02ba1efa-d5d7-4968-d4ef-aaee6e630443"
      },
      "execution_count": null,
      "outputs": [
        {
          "output_type": "display_data",
          "data": {
            "text/plain": [
              "<Figure size 1008x864 with 1 Axes>"
            ],
            "image/png": "[encoded data removed]"
          },
          "metadata": {
            "needs_background": "light"
          }
        }
      ]
    },
    {
      "cell_type": "code",
      "source": [
        "# Dropping the extreme outliers for our target variable\n",
        "df = df.drop(df[df[\"fare_amount\"] > 200].index, axis=0)"
      ],
      "metadata": {
        "id": "tCF99rv4sgWP"
      },
      "execution_count": null,
      "outputs": []
    },
    {
      "cell_type": "code",
      "source": [
        "#Relationship between distance and fare \n",
        "plt.figure(figsize=(15,7))\n",
        "plt.scatter(x = df['distance'],y = df['fare_amount'],c = \"g\")\n",
        "plt.xlabel('Distance')\n",
        "plt.ylabel('Fare')\n",
        "plt.show()"
      ],
      "metadata": {
        "colab": {
          "base_uri": "https://localhost:8080/",
          "height": 442
        },
        "id": "_T6IXF7X3o5J",
        "outputId": "1fcd375b-b253-4cc2-c7b0-2a40a26c4338"
      },
      "execution_count": null,
      "outputs": [
        {
          "output_type": "display_data",
          "data": {
            "text/plain": [
              "<Figure size 1080x504 with 1 Axes>"
            ],
            "image/png": "[encoded data removed]"
          },
          "metadata": {
            "needs_background": "light"
          }
        }
      ]
    },
    {
      "cell_type": "markdown",
      "source": [
        "It is quite obvious that distance will effect the amount of fare"
      ],
      "metadata": {
        "id": "WLkA7Ao2I-nY"
      }
    },
    {
      "cell_type": "markdown",
      "source": [
        "## **Feature Scaling**"
      ],
      "metadata": {
        "id": "1lzlftIMI_fq"
      }
    },
    {
      "cell_type": "code",
      "source": [
        "#Normality check if data is uniformly distributed or not-\n",
        "sns.distplot(df['distance'])"
      ],
      "metadata": {
        "colab": {
          "base_uri": "https://localhost:8080/",
          "height": 297
        },
        "id": "_FjUSqbVI-8D",
        "outputId": "92fc8bbb-260e-4988-ae14-dadb2920e1b1"
      },
      "execution_count": null,
      "outputs": [
        {
          "output_type": "execute_result",
          "data": {
            "text/plain": [
              "<matplotlib.axes._subplots.AxesSubplot at 0x7feb99498110>"
            ]
          },
          "metadata": {},
          "execution_count": 45
        },
        {
          "output_type": "display_data",
          "data": {
            "text/plain": [
              "<Figure size 432x288 with 1 Axes>"
            ],
            "image/png": "[encoded data removed]"
          },
          "metadata": {
            "needs_background": "light"
          }
        }
      ]
    },
    {
      "cell_type": "code",
      "source": [
        "# Since skewness of distance variable is high, apply log transform to reduce the skewness-\n",
        "df['distance'] = np.log1p(df['distance'])\n",
        "sns.distplot(df['distance'])"
      ],
      "metadata": {
        "colab": {
          "base_uri": "https://localhost:8080/",
          "height": 297
        },
        "id": "9bUdr9rjJIni",
        "outputId": "a54e3e27-3ff4-411a-8734-cdc3dcf3d236"
      },
      "execution_count": null,
      "outputs": [
        {
          "output_type": "execute_result",
          "data": {
            "text/plain": [
              "<matplotlib.axes._subplots.AxesSubplot at 0x7feb99f3a250>"
            ]
          },
          "metadata": {},
          "execution_count": 46
        },
        {
          "output_type": "display_data",
          "data": {
            "text/plain": [
              "<Figure size 432x288 with 1 Axes>"
            ],
            "image/png": "[encoded data removed]"
          },
          "metadata": {
            "needs_background": "light"
          }
        }
      ]
    },
    {
      "cell_type": "code",
      "source": [
        "# distribution plot for fare amount.\n",
        "sns.distplot(df['fare_amount'],bins='auto',color='green')\n",
        "plt.ylabel(\"Density\")\n",
        "plt.show()"
      ],
      "metadata": {
        "colab": {
          "base_uri": "https://localhost:8080/",
          "height": 280
        },
        "id": "TwGE8efjt_54",
        "outputId": "a397f448-ade0-4339-c7d4-9a44697a21b2"
      },
      "execution_count": null,
      "outputs": [
        {
          "output_type": "display_data",
          "data": {
            "text/plain": [
              "<Figure size 432x288 with 1 Axes>"
            ],
            "image/png": "[encoded data removed]"
          },
          "metadata": {
            "needs_background": "light"
          }
        }
      ]
    },
    {
      "cell_type": "code",
      "source": [
        "#since skewness of target variable is high, apply log transform to reduce the skewness-\n",
        "df['fare_amount'] = np.log1p(df['fare_amount'])"
      ],
      "metadata": {
        "id": "c7OR1eXruGB5"
      },
      "execution_count": null,
      "outputs": []
    },
    {
      "cell_type": "code",
      "source": [
        "#dist plot after applying log transform on fare amount.\n",
        "sns.distplot(df['fare_amount'],bins='auto',color='green')\n",
        "plt.ylabel(\"Density\")\n",
        "plt.show()"
      ],
      "metadata": {
        "colab": {
          "base_uri": "https://localhost:8080/",
          "height": 280
        },
        "id": "fsP_ug6TuJt2",
        "outputId": "f0e04d02-4254-4d06-8ee4-3094fd0ae71f"
      },
      "execution_count": null,
      "outputs": [
        {
          "output_type": "display_data",
          "data": {
            "text/plain": [
              "<Figure size 432x288 with 1 Axes>"
            ],
            "image/png": "[encoded data removed]"
          },
          "metadata": {
            "needs_background": "light"
          }
        }
      ]
    },
    {
      "cell_type": "markdown",
      "source": [
        "## **Splitting the Dataframe into train and test sets**.\n",
        "***\n",
        "Now that the Dataset is cleaned and we have added all the neccessary features along with some conversions of categorical features. Its time to split the data into training and testing sets.\n",
        "\n",
        "Note:- These training and testing data are going to be same for all the model we'll build such that all of the models are evaluated on a same set of parameters."
      ],
      "metadata": {
        "id": "4ROVhXR0KsTT"
      }
    },
    {
      "cell_type": "code",
      "source": [
        "# Lets have a look at the data before going futther with splitting.\n",
        "df"
      ],
      "metadata": {
        "colab": {
          "base_uri": "https://localhost:8080/",
          "height": 487
        },
        "id": "HksAwaLSKW8o",
        "outputId": "ce98a23f-bd51-4c6a-cb23-73c16eabb190"
      },
      "execution_count": null,
      "outputs": [
        {
          "output_type": "execute_result",
          "data": {
            "text/plain": [
              "        fare_amount  pickup_longitude  pickup_latitude  dropoff_longitude  \\\n",
              "0          2.140066        -73.999817        40.738354         -73.999512   \n",
              "1          2.163323        -73.994355        40.728225         -73.994710   \n",
              "2          2.631889        -74.005043        40.740770         -73.962565   \n",
              "3          1.840550        -73.976124        40.790844         -73.965316   \n",
              "4          2.833213        -73.925023        40.744085         -73.973082   \n",
              "...             ...               ...              ...                ...   \n",
              "199995     1.386294        -73.987042        40.739367         -73.986525   \n",
              "199996     2.140066        -73.984722        40.736837         -74.006672   \n",
              "199997     3.462606        -73.986017        40.756487         -73.858957   \n",
              "199998     2.740840        -73.997124        40.725452         -73.983215   \n",
              "199999     2.714695        -73.984395        40.720077         -73.985508   \n",
              "\n",
              "        dropoff_latitude  passenger_count  year  Month  Date  Day  Hour  \\\n",
              "0              40.723217                1  2015      5     7    3    19   \n",
              "1              40.750325                1  2009      7    17    4    20   \n",
              "2              40.772647                1  2009      8    24    0    21   \n",
              "3              40.803349                3  2009      6    26    4     8   \n",
              "4              40.761247                5  2014      8    28    3    17   \n",
              "...                  ...              ...   ...    ...   ...  ...   ...   \n",
              "199995         40.740297                1  2012     10    28    6    10   \n",
              "199996         40.739620                1  2014      3    14    4     1   \n",
              "199997         40.692588                2  2009      6    29    0     0   \n",
              "199998         40.695415                1  2015      5    20    2    14   \n",
              "199999         40.768793                1  2010      5    15    5     4   \n",
              "\n",
              "        distance  \n",
              "0       0.987056  \n",
              "1       1.240572  \n",
              "2       1.797804  \n",
              "3       0.978959  \n",
              "4       1.700274  \n",
              "...          ...  \n",
              "199995  0.106349  \n",
              "199996  1.056070  \n",
              "199997  2.628308  \n",
              "199998  1.512864  \n",
              "199999  1.859073  \n",
              "\n",
              "[193639 rows x 12 columns]"
            ],
            "text/html": [
              "\n",
              "  <div id=\"df-2e5c834b-574a-4c86-8042-6e25780eed29\">\n",
              "    <div class=\"colab-df-container\">\n",
              "      <div>\n",
              "<style scoped>\n",
              "    .dataframe tbody tr th:only-of-type {\n",
              "        vertical-align: middle;\n",
              "    }\n",
              "\n",
              "    .dataframe tbody tr th {\n",
              "        vertical-align: top;\n",
              "    }\n",
              "\n",
              "    .dataframe thead th {\n",
              "        text-align: right;\n",
              "    }\n",
              "</style>\n",
              "<table border=\"1\" class=\"dataframe\">\n",
              "  <thead>\n",
              "    <tr style=\"text-align: right;\">\n",
              "      <th></th>\n",
              "      <th>fare_amount</th>\n",
              "      <th>pickup_longitude</th>\n",
              "      <th>pickup_latitude</th>\n",
              "      <th>dropoff_longitude</th>\n",
              "      <th>dropoff_latitude</th>\n",
              "      <th>passenger_count</th>\n",
              "      <th>year</th>\n",
              "      <th>Month</th>\n",
              "      <th>Date</th>\n",
              "      <th>Day</th>\n",
              "      <th>Hour</th>\n",
              "      <th>distance</th>\n",
              "    </tr>\n",
              "  </thead>\n",
              "  <tbody>\n",
              "    <tr>\n",
              "      <th>0</th>\n",
              "      <td>2.140066</td>\n",
              "      <td>-73.999817</td>\n",
              "      <td>40.738354</td>\n",
              "      <td>-73.999512</td>\n",
              "      <td>40.723217</td>\n",
              "      <td>1</td>\n",
              "      <td>2015</td>\n",
              "      <td>5</td>\n",
              "      <td>7</td>\n",
              "      <td>3</td>\n",
              "      <td>19</td>\n",
              "      <td>0.987056</td>\n",
              "    </tr>\n",
              "    <tr>\n",
              "      <th>1</th>\n",
              "      <td>2.163323</td>\n",
              "      <td>-73.994355</td>\n",
              "      <td>40.728225</td>\n",
              "      <td>-73.994710</td>\n",
              "      <td>40.750325</td>\n",
              "      <td>1</td>\n",
              "      <td>2009</td>\n",
              "      <td>7</td>\n",
              "      <td>17</td>\n",
              "      <td>4</td>\n",
              "      <td>20</td>\n",
              "      <td>1.240572</td>\n",
              "    </tr>\n",
              "    <tr>\n",
              "      <th>2</th>\n",
              "      <td>2.631889</td>\n",
              "      <td>-74.005043</td>\n",
              "      <td>40.740770</td>\n",
              "      <td>-73.962565</td>\n",
              "      <td>40.772647</td>\n",
              "      <td>1</td>\n",
              "      <td>2009</td>\n",
              "      <td>8</td>\n",
              "      <td>24</td>\n",
              "      <td>0</td>\n",
              "      <td>21</td>\n",
              "      <td>1.797804</td>\n",
              "    </tr>\n",
              "    <tr>\n",
              "      <th>3</th>\n",
              "      <td>1.840550</td>\n",
              "      <td>-73.976124</td>\n",
              "      <td>40.790844</td>\n",
              "      <td>-73.965316</td>\n",
              "      <td>40.803349</td>\n",
              "      <td>3</td>\n",
              "      <td>2009</td>\n",
              "      <td>6</td>\n",
              "      <td>26</td>\n",
              "      <td>4</td>\n",
              "      <td>8</td>\n",
              "      <td>0.978959</td>\n",
              "    </tr>\n",
              "    <tr>\n",
              "      <th>4</th>\n",
              "      <td>2.833213</td>\n",
              "      <td>-73.925023</td>\n",
              "      <td>40.744085</td>\n",
              "      <td>-73.973082</td>\n",
              "      <td>40.761247</td>\n",
              "      <td>5</td>\n",
              "      <td>2014</td>\n",
              "      <td>8</td>\n",
              "      <td>28</td>\n",
              "      <td>3</td>\n",
              "      <td>17</td>\n",
              "      <td>1.700274</td>\n",
              "    </tr>\n",
              "    <tr>\n",
              "      <th>...</th>\n",
              "      <td>...</td>\n",
              "      <td>...</td>\n",
              "      <td>...</td>\n",
              "      <td>...</td>\n",
              "      <td>...</td>\n",
              "      <td>...</td>\n",
              "      <td>...</td>\n",
              "      <td>...</td>\n",
              "      <td>...</td>\n",
              "      <td>...</td>\n",
              "      <td>...</td>\n",
              "      <td>...</td>\n",
              "    </tr>\n",
              "    <tr>\n",
              "      <th>199995</th>\n",
              "      <td>1.386294</td>\n",
              "      <td>-73.987042</td>\n",
              "      <td>40.739367</td>\n",
              "      <td>-73.986525</td>\n",
              "      <td>40.740297</td>\n",
              "      <td>1</td>\n",
              "      <td>2012</td>\n",
              "      <td>10</td>\n",
              "      <td>28</td>\n",
              "      <td>6</td>\n",
              "      <td>10</td>\n",
              "      <td>0.106349</td>\n",
              "    </tr>\n",
              "    <tr>\n",
              "      <th>199996</th>\n",
              "      <td>2.140066</td>\n",
              "      <td>-73.984722</td>\n",
              "      <td>40.736837</td>\n",
              "      <td>-74.006672</td>\n",
              "      <td>40.739620</td>\n",
              "      <td>1</td>\n",
              "      <td>2014</td>\n",
              "      <td>3</td>\n",
              "      <td>14</td>\n",
              "      <td>4</td>\n",
              "      <td>1</td>\n",
              "      <td>1.056070</td>\n",
              "    </tr>\n",
              "    <tr>\n",
              "      <th>199997</th>\n",
              "      <td>3.462606</td>\n",
              "      <td>-73.986017</td>\n",
              "      <td>40.756487</td>\n",
              "      <td>-73.858957</td>\n",
              "      <td>40.692588</td>\n",
              "      <td>2</td>\n",
              "      <td>2009</td>\n",
              "      <td>6</td>\n",
              "      <td>29</td>\n",
              "      <td>0</td>\n",
              "      <td>0</td>\n",
              "      <td>2.628308</td>\n",
              "    </tr>\n",
              "    <tr>\n",
              "      <th>199998</th>\n",
              "      <td>2.740840</td>\n",
              "      <td>-73.997124</td>\n",
              "      <td>40.725452</td>\n",
              "      <td>-73.983215</td>\n",
              "      <td>40.695415</td>\n",
              "      <td>1</td>\n",
              "      <td>2015</td>\n",
              "      <td>5</td>\n",
              "      <td>20</td>\n",
              "      <td>2</td>\n",
              "      <td>14</td>\n",
              "      <td>1.512864</td>\n",
              "    </tr>\n",
              "    <tr>\n",
              "      <th>199999</th>\n",
              "      <td>2.714695</td>\n",
              "      <td>-73.984395</td>\n",
              "      <td>40.720077</td>\n",
              "      <td>-73.985508</td>\n",
              "      <td>40.768793</td>\n",
              "      <td>1</td>\n",
              "      <td>2010</td>\n",
              "      <td>5</td>\n",
              "      <td>15</td>\n",
              "      <td>5</td>\n",
              "      <td>4</td>\n",
              "      <td>1.859073</td>\n",
              "    </tr>\n",
              "  </tbody>\n",
              "</table>\n",
              "<p>193639 rows × 12 columns</p>\n",
              "</div>\n",
              "      <button class=\"colab-df-convert\" onclick=\"convertToInteractive('df-2e5c834b-574a-4c86-8042-6e25780eed29')\"\n",
              "              title=\"Convert this dataframe to an interactive table.\"\n",
              "              style=\"display:none;\">\n",
              "        \n",
              "  <svg xmlns=\"http://www.w3.org/2000/svg\" height=\"24px\"viewBox=\"0 0 24 24\"\n",
              "       width=\"24px\">\n",
              "    <path d=\"M0 0h24v24H0V0z\" fill=\"none\"/>\n",
              "    <path d=\"M18.56 5.44l.94 2.06.94-2.06 2.06-.94-2.06-.94-.94-2.06-.94 2.06-2.06.94zm-11 1L8.5 8.5l.94-2.06 2.06-.94-2.06-.94L8.5 2.5l-.94 2.06-2.06.94zm10 10l.94 2.06.94-2.06 2.06-.94-2.06-.94-.94-2.06-.94 2.06-2.06.94z\"/><path d=\"M17.41 7.96l-1.37-1.37c-.4-.4-.92-.59-1.43-.59-.52 0-1.04.2-1.43.59L10.3 9.45l-7.72 7.72c-.78.78-.78 2.05 0 2.83L4 21.41c.39.39.9.59 1.41.59.51 0 1.02-.2 1.41-.59l7.78-7.78 2.81-2.81c.8-.78.8-2.07 0-2.86zM5.41 20L4 18.59l7.72-7.72 1.47 1.35L5.41 20z\"/>\n",
              "  </svg>\n",
              "      </button>\n",
              "      \n",
              "  <style>\n",
              "    .colab-df-container {\n",
              "      display:flex;\n",
              "      flex-wrap:wrap;\n",
              "      gap: 12px;\n",
              "    }\n",
              "\n",
              "    .colab-df-convert {\n",
              "      background-color: #E8F0FE;\n",
              "      border: none;\n",
              "      border-radius: 50%;\n",
              "      cursor: pointer;\n",
              "      display: none;\n",
              "      fill: #1967D2;\n",
              "      height: 32px;\n",
              "      padding: 0 0 0 0;\n",
              "      width: 32px;\n",
              "    }\n",
              "\n",
              "    .colab-df-convert:hover {\n",
              "      background-color: #E2EBFA;\n",
              "      box-shadow: 0px 1px 2px rgba(60, 64, 67, 0.3), 0px 1px 3px 1px rgba(60, 64, 67, 0.15);\n",
              "      fill: #174EA6;\n",
              "    }\n",
              "\n",
              "    [theme=dark] .colab-df-convert {\n",
              "      background-color: #3B4455;\n",
              "      fill: #D2E3FC;\n",
              "    }\n",
              "\n",
              "    [theme=dark] .colab-df-convert:hover {\n",
              "      background-color: #434B5C;\n",
              "      box-shadow: 0px 1px 3px 1px rgba(0, 0, 0, 0.15);\n",
              "      filter: drop-shadow(0px 1px 2px rgba(0, 0, 0, 0.3));\n",
              "      fill: #FFFFFF;\n",
              "    }\n",
              "  </style>\n",
              "\n",
              "      <script>\n",
              "        const buttonEl =\n",
              "          document.querySelector('#df-2e5c834b-574a-4c86-8042-6e25780eed29 button.colab-df-convert');\n",
              "        buttonEl.style.display =\n",
              "          google.colab.kernel.accessAllowed ? 'block' : 'none';\n",
              "\n",
              "        async function convertToInteractive(key) {\n",
              "          const element = document.querySelector('#df-2e5c834b-574a-4c86-8042-6e25780eed29');\n",
              "          const dataTable =\n",
              "            await google.colab.kernel.invokeFunction('convertToInteractive',\n",
              "                                                     [key], {});\n",
              "          if (!dataTable) return;\n",
              "\n",
              "          const docLinkHtml = 'Like what you see? Visit the ' +\n",
              "            '<a target=\"_blank\" href=https://colab.research.google.com/notebooks/data_table.ipynb>data table notebook</a>'\n",
              "            + ' to learn more about interactive tables.';\n",
              "          element.innerHTML = '';\n",
              "          dataTable['output_type'] = 'display_data';\n",
              "          await google.colab.output.renderOutput(dataTable, element);\n",
              "          const docLink = document.createElement('div');\n",
              "          docLink.innerHTML = docLinkHtml;\n",
              "          element.appendChild(docLink);\n",
              "        }\n",
              "      </script>\n",
              "    </div>\n",
              "  </div>\n",
              "  "
            ]
          },
          "metadata": {},
          "execution_count": 50
        }
      ]
    },
    {
      "cell_type": "code",
      "source": [
        "# independent variables\n",
        "X = df[list(df.columns)[1:]]\n",
        "\n",
        "# dependent variable\n",
        "y = df[\"fare_amount\"]"
      ],
      "metadata": {
        "id": "gJ4QrQjLK7OQ"
      },
      "execution_count": null,
      "outputs": []
    },
    {
      "cell_type": "code",
      "source": [
        "# display independent variables dataframe\n",
        "X"
      ],
      "metadata": {
        "colab": {
          "base_uri": "https://localhost:8080/",
          "height": 423
        },
        "id": "J5cdsV87K_0f",
        "outputId": "756f4fbf-0e98-4496-df91-682813e15d5e"
      },
      "execution_count": null,
      "outputs": [
        {
          "output_type": "execute_result",
          "data": {
            "text/plain": [
              "        pickup_longitude  pickup_latitude  dropoff_longitude  \\\n",
              "0             -73.999817        40.738354         -73.999512   \n",
              "1             -73.994355        40.728225         -73.994710   \n",
              "2             -74.005043        40.740770         -73.962565   \n",
              "3             -73.976124        40.790844         -73.965316   \n",
              "4             -73.925023        40.744085         -73.973082   \n",
              "...                  ...              ...                ...   \n",
              "199995        -73.987042        40.739367         -73.986525   \n",
              "199996        -73.984722        40.736837         -74.006672   \n",
              "199997        -73.986017        40.756487         -73.858957   \n",
              "199998        -73.997124        40.725452         -73.983215   \n",
              "199999        -73.984395        40.720077         -73.985508   \n",
              "\n",
              "        dropoff_latitude  passenger_count  year  Month  Date  Day  Hour  \\\n",
              "0              40.723217                1  2015      5     7    3    19   \n",
              "1              40.750325                1  2009      7    17    4    20   \n",
              "2              40.772647                1  2009      8    24    0    21   \n",
              "3              40.803349                3  2009      6    26    4     8   \n",
              "4              40.761247                5  2014      8    28    3    17   \n",
              "...                  ...              ...   ...    ...   ...  ...   ...   \n",
              "199995         40.740297                1  2012     10    28    6    10   \n",
              "199996         40.739620                1  2014      3    14    4     1   \n",
              "199997         40.692588                2  2009      6    29    0     0   \n",
              "199998         40.695415                1  2015      5    20    2    14   \n",
              "199999         40.768793                1  2010      5    15    5     4   \n",
              "\n",
              "        distance  \n",
              "0       0.987056  \n",
              "1       1.240572  \n",
              "2       1.797804  \n",
              "3       0.978959  \n",
              "4       1.700274  \n",
              "...          ...  \n",
              "199995  0.106349  \n",
              "199996  1.056070  \n",
              "199997  2.628308  \n",
              "199998  1.512864  \n",
              "199999  1.859073  \n",
              "\n",
              "[193639 rows x 11 columns]"
            ],
            "text/html": [
              "\n",
              "  <div id=\"df-ded90147-0073-44b0-8985-967ab754bfe1\">\n",
              "    <div class=\"colab-df-container\">\n",
              "      <div>\n",
              "<style scoped>\n",
              "    .dataframe tbody tr th:only-of-type {\n",
              "        vertical-align: middle;\n",
              "    }\n",
              "\n",
              "    .dataframe tbody tr th {\n",
              "        vertical-align: top;\n",
              "    }\n",
              "\n",
              "    .dataframe thead th {\n",
              "        text-align: right;\n",
              "    }\n",
              "</style>\n",
              "<table border=\"1\" class=\"dataframe\">\n",
              "  <thead>\n",
              "    <tr style=\"text-align: right;\">\n",
              "      <th></th>\n",
              "      <th>pickup_longitude</th>\n",
              "      <th>pickup_latitude</th>\n",
              "      <th>dropoff_longitude</th>\n",
              "      <th>dropoff_latitude</th>\n",
              "      <th>passenger_count</th>\n",
              "      <th>year</th>\n",
              "      <th>Month</th>\n",
              "      <th>Date</th>\n",
              "      <th>Day</th>\n",
              "      <th>Hour</th>\n",
              "      <th>distance</th>\n",
              "    </tr>\n",
              "  </thead>\n",
              "  <tbody>\n",
              "    <tr>\n",
              "      <th>0</th>\n",
              "      <td>-73.999817</td>\n",
              "      <td>40.738354</td>\n",
              "      <td>-73.999512</td>\n",
              "      <td>40.723217</td>\n",
              "      <td>1</td>\n",
              "      <td>2015</td>\n",
              "      <td>5</td>\n",
              "      <td>7</td>\n",
              "      <td>3</td>\n",
              "      <td>19</td>\n",
              "      <td>0.987056</td>\n",
              "    </tr>\n",
              "    <tr>\n",
              "      <th>1</th>\n",
              "      <td>-73.994355</td>\n",
              "      <td>40.728225</td>\n",
              "      <td>-73.994710</td>\n",
              "      <td>40.750325</td>\n",
              "      <td>1</td>\n",
              "      <td>2009</td>\n",
              "      <td>7</td>\n",
              "      <td>17</td>\n",
              "      <td>4</td>\n",
              "      <td>20</td>\n",
              "      <td>1.240572</td>\n",
              "    </tr>\n",
              "    <tr>\n",
              "      <th>2</th>\n",
              "      <td>-74.005043</td>\n",
              "      <td>40.740770</td>\n",
              "      <td>-73.962565</td>\n",
              "      <td>40.772647</td>\n",
              "      <td>1</td>\n",
              "      <td>2009</td>\n",
              "      <td>8</td>\n",
              "      <td>24</td>\n",
              "      <td>0</td>\n",
              "      <td>21</td>\n",
              "      <td>1.797804</td>\n",
              "    </tr>\n",
              "    <tr>\n",
              "      <th>3</th>\n",
              "      <td>-73.976124</td>\n",
              "      <td>40.790844</td>\n",
              "      <td>-73.965316</td>\n",
              "      <td>40.803349</td>\n",
              "      <td>3</td>\n",
              "      <td>2009</td>\n",
              "      <td>6</td>\n",
              "      <td>26</td>\n",
              "      <td>4</td>\n",
              "      <td>8</td>\n",
              "      <td>0.978959</td>\n",
              "    </tr>\n",
              "    <tr>\n",
              "      <th>4</th>\n",
              "      <td>-73.925023</td>\n",
              "      <td>40.744085</td>\n",
              "      <td>-73.973082</td>\n",
              "      <td>40.761247</td>\n",
              "      <td>5</td>\n",
              "      <td>2014</td>\n",
              "      <td>8</td>\n",
              "      <td>28</td>\n",
              "      <td>3</td>\n",
              "      <td>17</td>\n",
              "      <td>1.700274</td>\n",
              "    </tr>\n",
              "    <tr>\n",
              "      <th>...</th>\n",
              "      <td>...</td>\n",
              "      <td>...</td>\n",
              "      <td>...</td>\n",
              "      <td>...</td>\n",
              "      <td>...</td>\n",
              "      <td>...</td>\n",
              "      <td>...</td>\n",
              "      <td>...</td>\n",
              "      <td>...</td>\n",
              "      <td>...</td>\n",
              "      <td>...</td>\n",
              "    </tr>\n",
              "    <tr>\n",
              "      <th>199995</th>\n",
              "      <td>-73.987042</td>\n",
              "      <td>40.739367</td>\n",
              "      <td>-73.986525</td>\n",
              "      <td>40.740297</td>\n",
              "      <td>1</td>\n",
              "      <td>2012</td>\n",
              "      <td>10</td>\n",
              "      <td>28</td>\n",
              "      <td>6</td>\n",
              "      <td>10</td>\n",
              "      <td>0.106349</td>\n",
              "    </tr>\n",
              "    <tr>\n",
              "      <th>199996</th>\n",
              "      <td>-73.984722</td>\n",
              "      <td>40.736837</td>\n",
              "      <td>-74.006672</td>\n",
              "      <td>40.739620</td>\n",
              "      <td>1</td>\n",
              "      <td>2014</td>\n",
              "      <td>3</td>\n",
              "      <td>14</td>\n",
              "      <td>4</td>\n",
              "      <td>1</td>\n",
              "      <td>1.056070</td>\n",
              "    </tr>\n",
              "    <tr>\n",
              "      <th>199997</th>\n",
              "      <td>-73.986017</td>\n",
              "      <td>40.756487</td>\n",
              "      <td>-73.858957</td>\n",
              "      <td>40.692588</td>\n",
              "      <td>2</td>\n",
              "      <td>2009</td>\n",
              "      <td>6</td>\n",
              "      <td>29</td>\n",
              "      <td>0</td>\n",
              "      <td>0</td>\n",
              "      <td>2.628308</td>\n",
              "    </tr>\n",
              "    <tr>\n",
              "      <th>199998</th>\n",
              "      <td>-73.997124</td>\n",
              "      <td>40.725452</td>\n",
              "      <td>-73.983215</td>\n",
              "      <td>40.695415</td>\n",
              "      <td>1</td>\n",
              "      <td>2015</td>\n",
              "      <td>5</td>\n",
              "      <td>20</td>\n",
              "      <td>2</td>\n",
              "      <td>14</td>\n",
              "      <td>1.512864</td>\n",
              "    </tr>\n",
              "    <tr>\n",
              "      <th>199999</th>\n",
              "      <td>-73.984395</td>\n",
              "      <td>40.720077</td>\n",
              "      <td>-73.985508</td>\n",
              "      <td>40.768793</td>\n",
              "      <td>1</td>\n",
              "      <td>2010</td>\n",
              "      <td>5</td>\n",
              "      <td>15</td>\n",
              "      <td>5</td>\n",
              "      <td>4</td>\n",
              "      <td>1.859073</td>\n",
              "    </tr>\n",
              "  </tbody>\n",
              "</table>\n",
              "<p>193639 rows × 11 columns</p>\n",
              "</div>\n",
              "      <button class=\"colab-df-convert\" onclick=\"convertToInteractive('df-ded90147-0073-44b0-8985-967ab754bfe1')\"\n",
              "              title=\"Convert this dataframe to an interactive table.\"\n",
              "              style=\"display:none;\">\n",
              "        \n",
              "  <svg xmlns=\"http://www.w3.org/2000/svg\" height=\"24px\"viewBox=\"0 0 24 24\"\n",
              "       width=\"24px\">\n",
              "    <path d=\"M0 0h24v24H0V0z\" fill=\"none\"/>\n",
              "    <path d=\"M18.56 5.44l.94 2.06.94-2.06 2.06-.94-2.06-.94-.94-2.06-.94 2.06-2.06.94zm-11 1L8.5 8.5l.94-2.06 2.06-.94-2.06-.94L8.5 2.5l-.94 2.06-2.06.94zm10 10l.94 2.06.94-2.06 2.06-.94-2.06-.94-.94-2.06-.94 2.06-2.06.94z\"/><path d=\"M17.41 7.96l-1.37-1.37c-.4-.4-.92-.59-1.43-.59-.52 0-1.04.2-1.43.59L10.3 9.45l-7.72 7.72c-.78.78-.78 2.05 0 2.83L4 21.41c.39.39.9.59 1.41.59.51 0 1.02-.2 1.41-.59l7.78-7.78 2.81-2.81c.8-.78.8-2.07 0-2.86zM5.41 20L4 18.59l7.72-7.72 1.47 1.35L5.41 20z\"/>\n",
              "  </svg>\n",
              "      </button>\n",
              "      \n",
              "  <style>\n",
              "    .colab-df-container {\n",
              "      display:flex;\n",
              "      flex-wrap:wrap;\n",
              "      gap: 12px;\n",
              "    }\n",
              "\n",
              "    .colab-df-convert {\n",
              "      background-color: #E8F0FE;\n",
              "      border: none;\n",
              "      border-radius: 50%;\n",
              "      cursor: pointer;\n",
              "      display: none;\n",
              "      fill: #1967D2;\n",
              "      height: 32px;\n",
              "      padding: 0 0 0 0;\n",
              "      width: 32px;\n",
              "    }\n",
              "\n",
              "    .colab-df-convert:hover {\n",
              "      background-color: #E2EBFA;\n",
              "      box-shadow: 0px 1px 2px rgba(60, 64, 67, 0.3), 0px 1px 3px 1px rgba(60, 64, 67, 0.15);\n",
              "      fill: #174EA6;\n",
              "    }\n",
              "\n",
              "    [theme=dark] .colab-df-convert {\n",
              "      background-color: #3B4455;\n",
              "      fill: #D2E3FC;\n",
              "    }\n",
              "\n",
              "    [theme=dark] .colab-df-convert:hover {\n",
              "      background-color: #434B5C;\n",
              "      box-shadow: 0px 1px 3px 1px rgba(0, 0, 0, 0.15);\n",
              "      filter: drop-shadow(0px 1px 2px rgba(0, 0, 0, 0.3));\n",
              "      fill: #FFFFFF;\n",
              "    }\n",
              "  </style>\n",
              "\n",
              "      <script>\n",
              "        const buttonEl =\n",
              "          document.querySelector('#df-ded90147-0073-44b0-8985-967ab754bfe1 button.colab-df-convert');\n",
              "        buttonEl.style.display =\n",
              "          google.colab.kernel.accessAllowed ? 'block' : 'none';\n",
              "\n",
              "        async function convertToInteractive(key) {\n",
              "          const element = document.querySelector('#df-ded90147-0073-44b0-8985-967ab754bfe1');\n",
              "          const dataTable =\n",
              "            await google.colab.kernel.invokeFunction('convertToInteractive',\n",
              "                                                     [key], {});\n",
              "          if (!dataTable) return;\n",
              "\n",
              "          const docLinkHtml = 'Like what you see? Visit the ' +\n",
              "            '<a target=\"_blank\" href=https://colab.research.google.com/notebooks/data_table.ipynb>data table notebook</a>'\n",
              "            + ' to learn more about interactive tables.';\n",
              "          element.innerHTML = '';\n",
              "          dataTable['output_type'] = 'display_data';\n",
              "          await google.colab.output.renderOutput(dataTable, element);\n",
              "          const docLink = document.createElement('div');\n",
              "          docLink.innerHTML = docLinkHtml;\n",
              "          element.appendChild(docLink);\n",
              "        }\n",
              "      </script>\n",
              "    </div>\n",
              "  </div>\n",
              "  "
            ]
          },
          "metadata": {},
          "execution_count": 52
        }
      ]
    },
    {
      "cell_type": "code",
      "source": [
        "# display dependent variable dataframe\n",
        "y"
      ],
      "metadata": {
        "colab": {
          "base_uri": "https://localhost:8080/"
        },
        "id": "BjdreFzKOmTh",
        "outputId": "8a722dc8-f94a-4a6c-9872-3ed3be6a16eb"
      },
      "execution_count": null,
      "outputs": [
        {
          "output_type": "execute_result",
          "data": {
            "text/plain": [
              "0         2.140066\n",
              "1         2.163323\n",
              "2         2.631889\n",
              "3         1.840550\n",
              "4         2.833213\n",
              "            ...   \n",
              "199995    1.386294\n",
              "199996    2.140066\n",
              "199997    3.462606\n",
              "199998    2.740840\n",
              "199999    2.714695\n",
              "Name: fare_amount, Length: 193639, dtype: float64"
            ]
          },
          "metadata": {},
          "execution_count": 53
        }
      ]
    },
    {
      "cell_type": "code",
      "source": [
        "# calling train_test_split() to get the training and testing data.\n",
        "X_train, X_test, y_train, y_test = train_test_split(X,y, test_size=0.25, random_state=0)\n",
        "\n",
        "# split sizes\n",
        "print(X_train.shape)\n",
        "print(X_test.shape)"
      ],
      "metadata": {
        "colab": {
          "base_uri": "https://localhost:8080/"
        },
        "id": "H0OX2TulOx9f",
        "outputId": "77ec4b57-8f08-4497-9a5e-f7e29288f5b8"
      },
      "execution_count": null,
      "outputs": [
        {
          "output_type": "stream",
          "name": "stdout",
          "text": [
            "(145229, 11)\n",
            "(48410, 11)\n"
          ]
        }
      ]
    },
    {
      "cell_type": "code",
      "source": [
        "df.info()"
      ],
      "metadata": {
        "colab": {
          "base_uri": "https://localhost:8080/"
        },
        "id": "6R22UGAgs0cE",
        "outputId": "65e3b537-c2a9-4558-822d-ecf4ac0b9381"
      },
      "execution_count": null,
      "outputs": [
        {
          "output_type": "stream",
          "name": "stdout",
          "text": [
            "<class 'pandas.core.frame.DataFrame'>\n",
            "Int64Index: 193639 entries, 0 to 199999\n",
            "Data columns (total 12 columns):\n",
            " #   Column             Non-Null Count   Dtype  \n",
            "---  ------             --------------   -----  \n",
            " 0   fare_amount        193639 non-null  float64\n",
            " 1   pickup_longitude   193639 non-null  float64\n",
            " 2   pickup_latitude    193639 non-null  float64\n",
            " 3   dropoff_longitude  193639 non-null  float64\n",
            " 4   dropoff_latitude   193639 non-null  float64\n",
            " 5   passenger_count    193639 non-null  int64  \n",
            " 6   year               193639 non-null  int64  \n",
            " 7   Month              193639 non-null  int64  \n",
            " 8   Date               193639 non-null  int64  \n",
            " 9   Day                193639 non-null  int64  \n",
            " 10  Hour               193639 non-null  int64  \n",
            " 11  distance           193639 non-null  float64\n",
            "dtypes: float64(6), int64(6)\n",
            "memory usage: 19.2 MB\n"
          ]
        }
      ]
    },
    {
      "cell_type": "markdown",
      "source": [
        "##**Models**\n",
        "***\n",
        "Now its time to implement the Machine Learning models and check the accuracy of each model to point out the best one out of all. In this project we are implementing 7 machine learning algorithms to predict the target variable and then we'll apply optimization techniques on the one that gives best resulting accuracy out of all.\n",
        "\n",
        "Following algorithms have been used for predictions:-\n",
        "\n",
        "* Linear Regression \n",
        "* Lasso Regression\n",
        "* Ridge Regression\n",
        "* Elastic Net Regression\n",
        "* Decision Tree\n",
        "* Random Forest Regression\n",
        "* XGB Regression"
      ],
      "metadata": {
        "id": "92ik-JmjO8WD"
      }
    },
    {
      "cell_type": "markdown",
      "source": [
        "### **Linear Regression**\n",
        "\n",
        "Linear Regression is a supervised machine learning algorithm where the predicted output is continuous and has a constant slope. It’s used to predict values within a continuous range, rather than trying to classify them into categories. There are two main types:\n",
        "\n",
        "**Simple regression**:\n",
        "\n",
        "Simple linear regression uses traditional slope-intercept form, where m and b are the variables our algorithm will try to “learn” to produce the most accurate predictions. x represents our input data and y represents our prediction.\n",
        "\n",
        "**y=mx+b**\n",
        "\n",
        "**Multivariable regression**:\n",
        "\n",
        "A more complex, multi-variable linear equation might look like this, where w represents the coefficients, or weights, our model will try to learn.\n",
        "\n",
        "**f(x,y,z)=w1x+w2y+w3z**"
      ],
      "metadata": {
        "id": "l_fud1fOPAgX"
      }
    },
    {
      "cell_type": "code",
      "source": [
        "# building the model and fitting training data\n",
        "reg = LinearRegression().fit(X_train, y_train)"
      ],
      "metadata": {
        "id": "PeiVDjcGO_QA"
      },
      "execution_count": null,
      "outputs": []
    },
    {
      "cell_type": "code",
      "source": [
        "# checking the score\n",
        "reg.score(X_train, y_train)"
      ],
      "metadata": {
        "colab": {
          "base_uri": "https://localhost:8080/"
        },
        "id": "EobsXIPLPC3_",
        "outputId": "c25196e1-50ae-4fcd-fcf6-52dedcda7640"
      },
      "execution_count": null,
      "outputs": [
        {
          "output_type": "execute_result",
          "data": {
            "text/plain": [
              "0.7023192463446557"
            ]
          },
          "metadata": {},
          "execution_count": 57
        }
      ]
    },
    {
      "cell_type": "code",
      "source": [
        "# check the coefficeints\n",
        "reg.coef_"
      ],
      "metadata": {
        "colab": {
          "base_uri": "https://localhost:8080/"
        },
        "id": "hIW8-E5xPEU-",
        "outputId": "5a1f0d6f-7484-48e8-be19-2e7dd0605ec3"
      },
      "execution_count": null,
      "outputs": [
        {
          "output_type": "execute_result",
          "data": {
            "text/plain": [
              "array([-1.11550671e-01, -1.08433710e-01, -1.00042013e-01, -9.65704459e-02,\n",
              "        4.53419408e-03,  3.74610205e-02,  5.67175073e-03,  1.95131272e-04,\n",
              "       -2.95396197e-03,  3.23368502e-04,  7.14611226e-01])"
            ]
          },
          "metadata": {},
          "execution_count": 58
        }
      ]
    },
    {
      "cell_type": "code",
      "source": [
        "# predict for train data\n",
        "y_pred_train = reg.predict(X_train)\n",
        "\n",
        "# predict for test data\n",
        "y_pred_test = reg.predict(X_test)"
      ],
      "metadata": {
        "id": "8-T3FoqgPG5a"
      },
      "execution_count": null,
      "outputs": []
    },
    {
      "cell_type": "code",
      "source": [
        "# calculating MSE\n",
        "MSE_lr= mean_squared_error((y_train), (y_pred_train))\n",
        "print(\"MSE :\",MSE_lr)\n",
        "\n",
        "# calculating RMSE\n",
        "RMSE_lr=np.sqrt(MSE_lr)\n",
        "print(\"RMSE :\",RMSE_lr)\n",
        "\n",
        "\n",
        "# calculating MAE\n",
        "MAE_lr= mean_absolute_error(y_train, y_pred_train)\n",
        "print(\"MAE :\",MAE_lr)\n",
        "\n",
        "\n",
        "# calculating r2 and adjusted r2\n",
        "r2_lr= r2_score(y_train, y_pred_train)\n",
        "print(\"R2 :\",r2_lr)\n",
        "Adjusted_R2_lr = (1-(1-r2_score(y_train, y_pred_train))*((X_test.shape[0]-1)/(X_test.shape[0]-X_test.shape[1]-1)) )\n",
        "print(\"Adjusted R2 :\", Adjusted_R2_lr )"
      ],
      "metadata": {
        "colab": {
          "base_uri": "https://localhost:8080/"
        },
        "id": "0HaiFDREPJhw",
        "outputId": "11eeab94-b9aa-4e07-b67b-17748efbc679"
      },
      "execution_count": null,
      "outputs": [
        {
          "output_type": "stream",
          "name": "stdout",
          "text": [
            "MSE : 0.08837854148600206\n",
            "RMSE : 0.2972852863597559\n",
            "MAE : 0.18437649358824046\n",
            "R2 : 0.7023192463446557\n",
            "Adjusted R2 : 0.7022515888321509\n"
          ]
        }
      ]
    },
    {
      "cell_type": "code",
      "source": [
        "# storing the test set metrics value in the train evaluation dataframe.\n",
        "dict1={'Model':'Linear regression ',\n",
        "       'MAE':round((MAE_lr),3),\n",
        "       'MSE':round((MSE_lr),3),\n",
        "       'RMSE':round((RMSE_lr),3),\n",
        "       'R2_score':round((r2_lr),3),\n",
        "       'Adjusted R2':round((Adjusted_R2_lr ),2)\n",
        "       }\n",
        "training_df=pd.DataFrame(dict1,index=[1])"
      ],
      "metadata": {
        "id": "yoxjL9KtPPSZ"
      },
      "execution_count": null,
      "outputs": []
    },
    {
      "cell_type": "code",
      "source": [
        "# calculating MSE\n",
        "MSE_lr= mean_squared_error(y_test, y_pred_test)\n",
        "print(\"MSE :\",MSE_lr)\n",
        "\n",
        "# calculating RMSE\n",
        "RMSE_lr=np.sqrt(MSE_lr)\n",
        "print(\"RMSE :\",RMSE_lr)\n",
        "\n",
        "\n",
        "# calculating MAE\n",
        "MAE_lr= mean_absolute_error(y_test, y_pred_test)\n",
        "print(\"MAE :\",MAE_lr)\n",
        "\n",
        "# calculating r2 and adjusted r2\n",
        "r2_lr= r2_score((y_test), (y_pred_test))\n",
        "print(\"R2 :\",r2_lr)\n",
        "Adjusted_R2_lr = (1-(1-r2_score((y_test), (y_pred_test)))*((X_test.shape[0]-1)/(X_test.shape[0]-X_test.shape[1]-1)))\n",
        "print(\"Adjusted R2 :\",Adjusted_R2_lr )\n"
      ],
      "metadata": {
        "colab": {
          "base_uri": "https://localhost:8080/"
        },
        "id": "ioo1sOlhQenN",
        "outputId": "8bc58a29-183a-492e-8205-69fd5b91b4d7"
      },
      "execution_count": null,
      "outputs": [
        {
          "output_type": "stream",
          "name": "stdout",
          "text": [
            "MSE : 0.09150183800267703\n",
            "RMSE : 0.3024927073545361\n",
            "MAE : 0.18508701612445475\n",
            "R2 : 0.6947544359029909\n",
            "Adjusted R2 : 0.6946850590443383\n"
          ]
        }
      ]
    },
    {
      "cell_type": "code",
      "source": [
        "# storing the test set metrics value in test evaluation dataframe.\n",
        "dict2={'Model':'Linear regression ',\n",
        "       'MAE':round((MAE_lr),3),\n",
        "       'MSE':round((MSE_lr),3),\n",
        "       'RMSE':round((RMSE_lr),3),\n",
        "       'R2_score':round((r2_lr),3),\n",
        "       'Adjusted R2':round((Adjusted_R2_lr ),2)\n",
        "       }\n",
        "test_df=pd.DataFrame(dict2,index=[1])"
      ],
      "metadata": {
        "id": "K182SyDKPeo9"
      },
      "execution_count": null,
      "outputs": []
    },
    {
      "cell_type": "code",
      "source": [
        "# Plot the figure\n",
        "plt.figure(figsize=(16,8))\n",
        "plt.plot(y_pred_test)\n",
        "plt.plot(np.array(y_test))\n",
        "plt.legend([\"Predicted\",\"Actual\"])\n",
        "plt.xlabel('No of Test Data')\n",
        "plt.show()"
      ],
      "metadata": {
        "colab": {
          "base_uri": "https://localhost:8080/",
          "height": 497
        },
        "id": "g9_St2jVPnSW",
        "outputId": "2df1fbfa-603a-4bf2-bcdb-bdb49675cbe6"
      },
      "execution_count": null,
      "outputs": [
        {
          "output_type": "display_data",
          "data": {
            "text/plain": [
              "<Figure size 1152x576 with 1 Axes>"
            ],
            "image/png": "[encoded data removed]"
          },
          "metadata": {
            "needs_background": "light"
          }
        }
      ]
    },
    {
      "cell_type": "markdown",
      "source": [
        "### **Lasso Regression**\n",
        "\n",
        "Lasso regression stands for Least Absolute Shrinkage and Selection Operator. It adds penalty term to the cost function. This term is the absolute sum of the coefficients. As the value of coefficients increases from 0 this term penalizes, cause model, to decrease the value of coefficients in order to reduce loss. The difference between ridge and lasso regression is that it tends to make coefficients to absolute zero as compared to Ridge which never sets the value of coefficient to absolute zero.\n",
        "\n",
        "**Limitation of Lasso Regression**:\n",
        "Lasso sometimes struggles with some types of data. If the number of predictors (p) is greater than the number of observations (n), Lasso will pick at most n predictors as non-zero, even if all predictors are relevant (or may be used in the test set).\n",
        "If there are two or more highly collinear variables then LASSO regression select one of them randomly which is not good for the interpretation of data"
      ],
      "metadata": {
        "id": "L7xwuqaQPs_7"
      }
    },
    {
      "cell_type": "code",
      "source": [
        "# Creating an instance of Lasso Regression implementation\n",
        "lasso = Lasso(alpha=0.01, max_iter=3000)\n",
        "\n",
        "# Fitting the Lasso model\n",
        "lasso.fit(X_train, y_train)\n",
        "\n",
        "# Model Score\n",
        "print(lasso.score(X_test, y_test), lasso.score(X_train, y_train))"
      ],
      "metadata": {
        "colab": {
          "base_uri": "https://localhost:8080/"
        },
        "id": "Jof182VEPoiH",
        "outputId": "12e463e3-1c9c-4824-9669-5fd688b5be8e"
      },
      "execution_count": null,
      "outputs": [
        {
          "output_type": "stream",
          "name": "stdout",
          "text": [
            "0.6927759449212096 0.6981339759550023\n"
          ]
        }
      ]
    },
    {
      "cell_type": "code",
      "source": [
        "# Predict for training data\n",
        "y_pred_train_lasso=lasso.predict(X_train)\n",
        "\n",
        "# Predict for testing data\n",
        "y_pred_test_lasso=lasso.predict(X_test)"
      ],
      "metadata": {
        "id": "a29b_4-4P08u"
      },
      "execution_count": null,
      "outputs": []
    },
    {
      "cell_type": "code",
      "source": [
        "# calculating MSE\n",
        "MSE_l= mean_squared_error((y_train), (y_pred_train_lasso))\n",
        "print(\"MSE :\",MSE_l)\n",
        "\n",
        "# calculating RMSE\n",
        "RMSE_l=np.sqrt(MSE_l)\n",
        "print(\"RMSE :\",RMSE_l)\n",
        "\n",
        "\n",
        "# calculating MAE\n",
        "MAE_l= mean_absolute_error(y_train, y_pred_train_lasso)\n",
        "print(\"MAE :\",MAE_l)\n",
        "\n",
        "\n",
        "# calculating r2 and adjusted r2\n",
        "r2_l= r2_score(y_train, y_pred_train_lasso)\n",
        "print(\"R2 :\",r2_l)\n",
        "Adjusted_R2_l = (1-(1-r2_score(y_train, y_pred_train_lasso))*((X_test.shape[0]-1)/(X_test.shape[0]-X_test.shape[1]-1)) )\n",
        "print(\"Adjusted R2 :\", Adjusted_R2_l )\n"
      ],
      "metadata": {
        "colab": {
          "base_uri": "https://localhost:8080/"
        },
        "id": "JfBQGi11P2Y9",
        "outputId": "e12f9cef-5abd-421f-98ae-6c8323313f85"
      },
      "execution_count": null,
      "outputs": [
        {
          "output_type": "stream",
          "name": "stdout",
          "text": [
            "MSE : 0.0896211078535623\n",
            "RMSE : 0.299367847060372\n",
            "MAE : 0.19141185494822716\n",
            "R2 : 0.6981339759550023\n",
            "Adjusted R2 : 0.6980653672053743\n"
          ]
        }
      ]
    },
    {
      "cell_type": "code",
      "source": [
        "# storing the train set metrics value in the train evaluation dataframe\n",
        "dict1={'Model':'Lasso regression ',\n",
        "       'MAE':round((MAE_l),3),\n",
        "       'MSE':round((MSE_l),3),\n",
        "       'RMSE':round((RMSE_l),3),\n",
        "       'R2_score':round((r2_l),3),\n",
        "       'Adjusted R2':round((Adjusted_R2_l ),2)\n",
        "       }\n",
        "training_df = training_df.append(dict1,ignore_index=True)"
      ],
      "metadata": {
        "id": "MsvzM_oiP3dN"
      },
      "execution_count": null,
      "outputs": []
    },
    {
      "cell_type": "code",
      "source": [
        "# calculating MSE\n",
        "MSE_l= mean_squared_error(y_test, y_pred_test_lasso)\n",
        "print(\"MSE :\",MSE_l)\n",
        "\n",
        "# calculating RMSE\n",
        "RMSE_l=np.sqrt(MSE_l)\n",
        "print(\"RMSE :\",RMSE_l)\n",
        "\n",
        "\n",
        "# calculating MAE\n",
        "MAE_l= mean_absolute_error(y_test, y_pred_test_lasso)\n",
        "print(\"MAE :\",MAE_l)\n",
        "\n",
        "\n",
        "# calculating r2 and adjusted r2\n",
        "r2_l= r2_score((y_test), (y_pred_test_lasso))\n",
        "print(\"R2 :\",r2_l)\n",
        "Adjusted_R2_l=(1-(1-r2_score((y_test), (y_pred_test_lasso)))*((X_test.shape[0]-1)/(X_test.shape[0]-X_test.shape[1]-1)) )\n",
        "print(\"Adjusted R2 :\", Adjusted_R2_l )"
      ],
      "metadata": {
        "colab": {
          "base_uri": "https://localhost:8080/"
        },
        "id": "p_YxJSApP5Et",
        "outputId": "2dc662cb-f503-4613-a72b-0fa1c453ca1c"
      },
      "execution_count": null,
      "outputs": [
        {
          "output_type": "stream",
          "name": "stdout",
          "text": [
            "MSE : 0.09209491971326712\n",
            "RMSE : 0.3034714479374742\n",
            "MAE : 0.1921689257874498\n",
            "R2 : 0.6927759449212096\n",
            "Adjusted R2 : 0.6927061183869341\n"
          ]
        }
      ]
    },
    {
      "cell_type": "code",
      "source": [
        "# storing the test set metrics value in the test evaluation dataframe\n",
        "dict2={'Model':'Lasso regression ',\n",
        "       'MAE':round((MAE_l),3),\n",
        "       'MSE':round((MSE_l),3),\n",
        "       'RMSE':round((RMSE_l),3),\n",
        "       'R2_score':round((r2_l),3),\n",
        "       'Adjusted R2':round((Adjusted_R2_l ),2),\n",
        "       }\n",
        "test_df=test_df.append(dict2,ignore_index=True)"
      ],
      "metadata": {
        "id": "RRpPzqlrP6SM"
      },
      "execution_count": null,
      "outputs": []
    },
    {
      "cell_type": "code",
      "source": [
        "#Plot the actual vs predicted graph.\n",
        "plt.figure(figsize=(15,10))\n",
        "plt.plot(np.array(y_pred_test_lasso))\n",
        "plt.plot(np.array((y_test)))\n",
        "plt.legend([\"Predicted\",\"Actual\"])\n",
        "plt.show()"
      ],
      "metadata": {
        "colab": {
          "base_uri": "https://localhost:8080/",
          "height": 592
        },
        "id": "KOupJbhFP75l",
        "outputId": "9afa800c-c675-489e-cd69-33164afdc517"
      },
      "execution_count": null,
      "outputs": [
        {
          "output_type": "display_data",
          "data": {
            "text/plain": [
              "<Figure size 1080x720 with 1 Axes>"
            ],
            "image/png": "[encoded data removed]"
          },
          "metadata": {
            "needs_background": "light"
          }
        }
      ]
    },
    {
      "cell_type": "markdown",
      "source": [
        "### **Ridge Regression**\n",
        "\n",
        "In Ridge regression, we add a penalty term which is equal to the square of the coefficient. The L2 term is equal to the square of the magnitude of the coefficients. We also add a coefficient  lambda  to control that penalty term. In this case if  lambda  is zero then the equation is the basic OLS else if  lambda  >  0 then it will add a constraint to the coefficient. As we increase the value of lambda this constraint causes the value of the coefficient to tend towards zero. This leads to tradeoff of higher bias (dependencies on certain coefficients tend to be 0 and on certain coefficients tend to be very large, making the model less flexible) for lower variance.\n",
        "\n",
        "**Limitation of Ridge Regression**: Ridge regression decreases the complexity of a model but does not reduce the number of variables since it never leads to a coefficient been zero rather only minimizes it. Hence, this model is not good for feature reduction."
      ],
      "metadata": {
        "id": "YpnPVwXLQEK-"
      }
    },
    {
      "cell_type": "code",
      "source": [
        "# Creating the model object\n",
        "ridge= Ridge(alpha=0.1)"
      ],
      "metadata": {
        "id": "hLaJ-7lPP9AU"
      },
      "execution_count": null,
      "outputs": []
    },
    {
      "cell_type": "code",
      "source": [
        "# FITTING THE MODEL\n",
        "ridge.fit(X_train,y_train)"
      ],
      "metadata": {
        "colab": {
          "base_uri": "https://localhost:8080/"
        },
        "id": "rXCbdEnTQGsI",
        "outputId": "1633e2cb-36e5-4bbe-88b1-e6e631320c3e"
      },
      "execution_count": null,
      "outputs": [
        {
          "output_type": "execute_result",
          "data": {
            "text/plain": [
              "Ridge(alpha=0.1)"
            ]
          },
          "metadata": {},
          "execution_count": 73
        }
      ]
    },
    {
      "cell_type": "code",
      "source": [
        "# checking the score\n",
        "ridge.score(X_train, y_train)"
      ],
      "metadata": {
        "colab": {
          "base_uri": "https://localhost:8080/"
        },
        "id": "v4FHHeeGQJsB",
        "outputId": "b28c7d2d-e08a-4130-9194-097b8c365a05"
      },
      "execution_count": null,
      "outputs": [
        {
          "output_type": "execute_result",
          "data": {
            "text/plain": [
              "0.7023192463421257"
            ]
          },
          "metadata": {},
          "execution_count": 74
        }
      ]
    },
    {
      "cell_type": "code",
      "source": [
        "# predict for train data\n",
        "y_pred_train_ridge=ridge.predict(X_train)\n",
        "\n",
        "# predict for test data\n",
        "y_pred_test_ridge=ridge.predict(X_test)"
      ],
      "metadata": {
        "id": "Lcj5W8NUQK9o"
      },
      "execution_count": null,
      "outputs": []
    },
    {
      "cell_type": "code",
      "source": [
        "# calculating MSE\n",
        "MSE_r= mean_squared_error((y_train), (y_pred_train_ridge))\n",
        "print(\"MSE :\",MSE_r)\n",
        "\n",
        "# calculating RMSE\n",
        "RMSE_r=np.sqrt(MSE_r)\n",
        "print(\"RMSE :\",RMSE_r)\n",
        "\n",
        "\n",
        "# calculating MAE\n",
        "MAE_r= mean_absolute_error(y_train, y_pred_train_ridge)\n",
        "print(\"MAE :\",MAE_r)\n",
        "\n",
        "\n",
        "# calculating r2 and adjusted r2\n",
        "r2_r= r2_score(y_train, y_pred_train_ridge)\n",
        "print(\"R2 :\",r2_r)\n",
        "Adjusted_R2_r=(1-(1-r2_score(y_train, y_pred_train_ridge))*((X_test.shape[0]-1)/(X_test.shape[0]-X_test.shape[1]-1)) )\n",
        "print(\"Adjusted R2 :\", Adjusted_R2_r)"
      ],
      "metadata": {
        "colab": {
          "base_uri": "https://localhost:8080/"
        },
        "id": "-W8_7KNoQReG",
        "outputId": "e37d7870-ec5d-4829-d05e-4c89550a8fd5"
      },
      "execution_count": null,
      "outputs": [
        {
          "output_type": "stream",
          "name": "stdout",
          "text": [
            "MSE : 0.08837854148675317\n",
            "RMSE : 0.2972852863610192\n",
            "MAE : 0.18437668480156838\n",
            "R2 : 0.7023192463421257\n",
            "Adjusted R2 : 0.7022515888296204\n"
          ]
        }
      ]
    },
    {
      "cell_type": "code",
      "source": [
        "# storing the train set metrics value in the train evaluation dataframe \n",
        "dict1={'Model':'Ridge regression ',\n",
        "       'MAE':round((MAE_r),3),\n",
        "       'MSE':round((MSE_r),3),\n",
        "       'RMSE':round((RMSE_r),3),\n",
        "       'R2_score':round((r2_r),3),\n",
        "       'Adjusted R2':round((Adjusted_R2_r ),2)}\n",
        "training_df=training_df.append(dict1,ignore_index=True)"
      ],
      "metadata": {
        "id": "sgnzZcEkQUUl"
      },
      "execution_count": null,
      "outputs": []
    },
    {
      "cell_type": "code",
      "source": [
        "# calculating MSE\n",
        "MSE_r= mean_squared_error(y_test, y_pred_test_ridge)\n",
        "print(\"MSE :\",MSE_r)\n",
        "\n",
        "# calculating RMSE\n",
        "RMSE_r=np.sqrt(MSE_r)\n",
        "print(\"RMSE :\",RMSE_r)\n",
        "\n",
        "\n",
        "# calculating MAE\n",
        "MAE_r= mean_absolute_error(y_test, y_pred_test_ridge)\n",
        "print(\"MAE :\",MAE_r)\n",
        "\n",
        "\n",
        "# calculating r2 and adjusted r2\n",
        "r2_r= r2_score((y_test), (y_pred_test_ridge))\n",
        "print(\"R2 :\",r2_r)\n",
        "Adjusted_R2_r=(1-(1-r2_score((y_test), (y_pred_test_ridge)))*((X_test.shape[0]-1)/(X_test.shape[0]-X_test.shape[1]-1)) )\n",
        "print(\"Adjusted R2 :\", Adjusted_R2_r)"
      ],
      "metadata": {
        "colab": {
          "base_uri": "https://localhost:8080/"
        },
        "id": "K08awAWSQZGN",
        "outputId": "a3c08fc2-f7f3-4763-b473-d93abb6800ae"
      },
      "execution_count": null,
      "outputs": [
        {
          "output_type": "stream",
          "name": "stdout",
          "text": [
            "MSE : 0.09150182543644132\n",
            "RMSE : 0.3024926865833971\n",
            "MAE : 0.1850872079370399\n",
            "R2 : 0.6947544778233259\n",
            "Adjusted R2 : 0.694685100974201\n"
          ]
        }
      ]
    },
    {
      "cell_type": "code",
      "source": [
        "# storing the test set metrics value in the test evaluation dataframe\n",
        "dict2={'Model':'Ridge regression ',\n",
        "       'MAE':round((MAE_r),3),\n",
        "       'MSE':round((MSE_r),3),\n",
        "       'RMSE':round((RMSE_r),3),\n",
        "       'R2_score':round((r2_r),3),\n",
        "       'Adjusted R2':round((Adjusted_R2_r ),2)}\n",
        "test_df=test_df.append(dict2,ignore_index=True)"
      ],
      "metadata": {
        "id": "fg16Q3lyQbI9"
      },
      "execution_count": null,
      "outputs": []
    },
    {
      "cell_type": "code",
      "source": [
        "#Plotting the figure\n",
        "plt.figure(figsize=(15,10))\n",
        "plt.plot((y_pred_test_ridge))\n",
        "plt.plot((np.array(y_test)))\n",
        "plt.legend([\"Predicted\",\"Actual\"])\n",
        "plt.show()"
      ],
      "metadata": {
        "id": "Vtacxj5sQcrM",
        "outputId": "3b630717-4990-476e-f5d1-dd4d4982fa48",
        "colab": {
          "base_uri": "https://localhost:8080/",
          "height": 592
        }
      },
      "execution_count": null,
      "outputs": [
        {
          "output_type": "display_data",
          "data": {
            "text/plain": [
              "<Figure size 1080x720 with 1 Axes>"
            ],
            "image/png": "[encoded data removed]"
          },
          "metadata": {
            "needs_background": "light"
          }
        }
      ]
    },
    {
      "cell_type": "markdown",
      "source": [
        "### **Elastic Net Regression**\n",
        "\n",
        "Sometimes, the lasso regression can cause a small bias in the model where the prediction is too dependent upon a particular variable. In these cases, elastic Net is proved to better it combines the regularization of both lasso and Ridge. The advantage of that it does not easily eliminate the high collinearity coefficient."
      ],
      "metadata": {
        "id": "Tj8sZWqAS1cF"
      }
    },
    {
      "cell_type": "code",
      "source": [
        "# creating a model object.\n",
        "elasticnet = ElasticNet(alpha=0.1, l1_ratio=0.5)"
      ],
      "metadata": {
        "id": "eBUS1VObQebU"
      },
      "execution_count": null,
      "outputs": []
    },
    {
      "cell_type": "code",
      "source": [
        "# FIT THE MODEL\n",
        "elasticnet.fit(X_train,y_train)"
      ],
      "metadata": {
        "colab": {
          "base_uri": "https://localhost:8080/"
        },
        "id": "CX3yeEzHS2t6",
        "outputId": "c7b631e0-5d8c-41e0-b61f-42fc3bbd8146"
      },
      "execution_count": null,
      "outputs": [
        {
          "output_type": "execute_result",
          "data": {
            "text/plain": [
              "ElasticNet(alpha=0.1)"
            ]
          },
          "metadata": {},
          "execution_count": 82
        }
      ]
    },
    {
      "cell_type": "code",
      "source": [
        "# check the score\n",
        "elasticnet.score(X_train, y_train)"
      ],
      "metadata": {
        "colab": {
          "base_uri": "https://localhost:8080/"
        },
        "id": "95NIGtsuS30S",
        "outputId": "82679561-615f-492e-8ec3-5dc304e2a2d6"
      },
      "execution_count": null,
      "outputs": [
        {
          "output_type": "execute_result",
          "data": {
            "text/plain": [
              "0.5699852367905041"
            ]
          },
          "metadata": {},
          "execution_count": 83
        }
      ]
    },
    {
      "cell_type": "code",
      "source": [
        "# predict on train data\n",
        "y_pred_train_en=elasticnet.predict(X_train)\n",
        "\n",
        "# predict on test data\n",
        "y_pred_test_en=elasticnet.predict(X_test)"
      ],
      "metadata": {
        "id": "d3ImzBTES5Hj"
      },
      "execution_count": null,
      "outputs": []
    },
    {
      "cell_type": "code",
      "source": [
        "# calculating MSE\n",
        "MSE_e= mean_squared_error((y_train), (y_pred_train_en))\n",
        "print(\"MSE :\",MSE_e)\n",
        "\n",
        "# calculating RMSE\n",
        "RMSE_e=np.sqrt(MSE_e)\n",
        "print(\"RMSE :\",RMSE_e)\n",
        "\n",
        "\n",
        "# calculating MAE\n",
        "MAE_e= mean_absolute_error(y_train, y_pred_train_en)\n",
        "print(\"MAE :\",MAE_e)\n",
        "\n",
        "\n",
        "# calculating r2 and adjusted r2\n",
        "r2_e= r2_score(y_train, y_pred_train_en)\n",
        "print(\"R2 :\",r2_e)\n",
        "Adjusted_R2_e = (1-(1-r2_score(y_train, y_pred_train_en))*((X_test.shape[0]-1)/(X_test.shape[0]-X_test.shape[1]-1)) )\n",
        "print(\"Adjusted R2 :\", Adjusted_R2_e)"
      ],
      "metadata": {
        "colab": {
          "base_uri": "https://localhost:8080/"
        },
        "id": "XSySxJjyS6qz",
        "outputId": "085d4a86-12e3-4894-8f23-3465813fdc75"
      },
      "execution_count": null,
      "outputs": [
        {
          "output_type": "stream",
          "name": "stdout",
          "text": [
            "MSE : 0.12766723116370843\n",
            "RMSE : 0.35730551515993764\n",
            "MAE : 0.250659218516937\n",
            "R2 : 0.5699852367905041\n",
            "Adjusted R2 : 0.5698875021238793\n"
          ]
        }
      ]
    },
    {
      "cell_type": "code",
      "source": [
        "# storing the train set metrics value into the train evaluation dataframe\n",
        "dict1={'Model':'Elastic net regression ',\n",
        "       'MAE':round((MAE_e),3),\n",
        "       'MSE':round((MSE_e),3),\n",
        "       'RMSE':round((RMSE_e),3),\n",
        "       'R2_score':round((r2_e),3),\n",
        "       'Adjusted R2':round((Adjusted_R2_e ),2)}\n",
        "training_df=training_df.append(dict1,ignore_index=True)"
      ],
      "metadata": {
        "id": "HeGcgr29S9VE"
      },
      "execution_count": null,
      "outputs": []
    },
    {
      "cell_type": "code",
      "source": [
        "# calculating MSE\n",
        "MSE_e= mean_squared_error(y_test, y_pred_test_en)\n",
        "print(\"MSE :\",MSE_e)\n",
        "\n",
        "# calculating RMSE\n",
        "RMSE_e=np.sqrt(MSE_e)\n",
        "print(\"RMSE :\",RMSE_e)\n",
        "\n",
        "\n",
        "# calculating MAE\n",
        "MAE_e= mean_absolute_error(y_test, y_pred_test_en)\n",
        "print(\"MAE :\",MAE_e)\n",
        "\n",
        "\n",
        "# calculating r2 and adjusted r2\n",
        "r2_e= r2_score((y_test), (y_pred_test_en))\n",
        "print(\"R2 :\",r2_e)\n",
        "\n",
        "Adjusted_R2_e=(1-(1-r2_score((y_test), (y_pred_test_en)))*((X_test.shape[0]-1)/(X_test.shape[0]-X_test.shape[1]-1)) )\n",
        "print(\"Adjusted R2 :\", Adjusted_R2_e)"
      ],
      "metadata": {
        "colab": {
          "base_uri": "https://localhost:8080/"
        },
        "id": "IokVCr07S-4X",
        "outputId": "d67f842d-537c-42bd-bd83-ae09002dae39"
      },
      "execution_count": null,
      "outputs": [
        {
          "output_type": "stream",
          "name": "stdout",
          "text": [
            "MSE : 0.12780301730646887\n",
            "RMSE : 0.35749547872171594\n",
            "MAE : 0.2511182946579178\n",
            "R2 : 0.5736555137846349\n",
            "Adjusted R2 : 0.5735586133063431\n"
          ]
        }
      ]
    },
    {
      "cell_type": "code",
      "source": [
        "# storing the test set metrics value into the test evaluation dataframe\n",
        "dict2={'Model':'Elastic net regression Test',\n",
        "       'MAE':round((MAE_e),3),\n",
        "       'MSE':round((MSE_e),3),\n",
        "       'RMSE':round((RMSE_e),3),\n",
        "       'R2_score':round((r2_e),3),\n",
        "       'Adjusted R2':round((Adjusted_R2_e ),2)}\n",
        "test_df=test_df.append(dict2,ignore_index=True)"
      ],
      "metadata": {
        "id": "S5B7U4ZhS_9w"
      },
      "execution_count": null,
      "outputs": []
    },
    {
      "cell_type": "code",
      "source": [
        "# Plot the figure\n",
        "plt.figure(figsize=(15,10))\n",
        "plt.plot(np.array(y_pred_test_en))\n",
        "plt.plot((np.array(y_test)))\n",
        "plt.legend([\"Predicted\",\"Actual\"])\n",
        "plt.show()"
      ],
      "metadata": {
        "colab": {
          "base_uri": "https://localhost:8080/",
          "height": 592
        },
        "id": "KuKtPVeBTBmm",
        "outputId": "611ed5b1-4e4a-4c39-8813-749b9ae14561"
      },
      "execution_count": null,
      "outputs": [
        {
          "output_type": "display_data",
          "data": {
            "text/plain": [
              "<Figure size 1080x720 with 1 Axes>"
            ],
            "image/png": "[encoded data removed]"
          },
          "metadata": {
            "needs_background": "light"
          }
        }
      ]
    },
    {
      "cell_type": "code",
      "source": [
        "# display test evaluation dataframe\n",
        "test_df"
      ],
      "metadata": {
        "colab": {
          "base_uri": "https://localhost:8080/",
          "height": 175
        },
        "id": "pQRry-_XTDH2",
        "outputId": "c0164ac8-95c8-42bb-ea17-f1d21883c233"
      },
      "execution_count": null,
      "outputs": [
        {
          "output_type": "execute_result",
          "data": {
            "text/plain": [
              "                         Model    MAE    MSE   RMSE  R2_score  Adjusted R2\n",
              "0           Linear regression   0.185  0.092  0.302     0.695         0.69\n",
              "1            Lasso regression   0.192  0.092  0.303     0.693         0.69\n",
              "2            Ridge regression   0.185  0.092  0.302     0.695         0.69\n",
              "3  Elastic net regression Test  0.251  0.128  0.357     0.574         0.57"
            ],
            "text/html": [
              "\n",
              "  <div id=\"df-bcf437ed-b1b7-4081-8876-da158d85c387\">\n",
              "    <div class=\"colab-df-container\">\n",
              "      <div>\n",
              "<style scoped>\n",
              "    .dataframe tbody tr th:only-of-type {\n",
              "        vertical-align: middle;\n",
              "    }\n",
              "\n",
              "    .dataframe tbody tr th {\n",
              "        vertical-align: top;\n",
              "    }\n",
              "\n",
              "    .dataframe thead th {\n",
              "        text-align: right;\n",
              "    }\n",
              "</style>\n",
              "<table border=\"1\" class=\"dataframe\">\n",
              "  <thead>\n",
              "    <tr style=\"text-align: right;\">\n",
              "      <th></th>\n",
              "      <th>Model</th>\n",
              "      <th>MAE</th>\n",
              "      <th>MSE</th>\n",
              "      <th>RMSE</th>\n",
              "      <th>R2_score</th>\n",
              "      <th>Adjusted R2</th>\n",
              "    </tr>\n",
              "  </thead>\n",
              "  <tbody>\n",
              "    <tr>\n",
              "      <th>0</th>\n",
              "      <td>Linear regression</td>\n",
              "      <td>0.185</td>\n",
              "      <td>0.092</td>\n",
              "      <td>0.302</td>\n",
              "      <td>0.695</td>\n",
              "      <td>0.69</td>\n",
              "    </tr>\n",
              "    <tr>\n",
              "      <th>1</th>\n",
              "      <td>Lasso regression</td>\n",
              "      <td>0.192</td>\n",
              "      <td>0.092</td>\n",
              "      <td>0.303</td>\n",
              "      <td>0.693</td>\n",
              "      <td>0.69</td>\n",
              "    </tr>\n",
              "    <tr>\n",
              "      <th>2</th>\n",
              "      <td>Ridge regression</td>\n",
              "      <td>0.185</td>\n",
              "      <td>0.092</td>\n",
              "      <td>0.302</td>\n",
              "      <td>0.695</td>\n",
              "      <td>0.69</td>\n",
              "    </tr>\n",
              "    <tr>\n",
              "      <th>3</th>\n",
              "      <td>Elastic net regression Test</td>\n",
              "      <td>0.251</td>\n",
              "      <td>0.128</td>\n",
              "      <td>0.357</td>\n",
              "      <td>0.574</td>\n",
              "      <td>0.57</td>\n",
              "    </tr>\n",
              "  </tbody>\n",
              "</table>\n",
              "</div>\n",
              "      <button class=\"colab-df-convert\" onclick=\"convertToInteractive('df-bcf437ed-b1b7-4081-8876-da158d85c387')\"\n",
              "              title=\"Convert this dataframe to an interactive table.\"\n",
              "              style=\"display:none;\">\n",
              "        \n",
              "  <svg xmlns=\"http://www.w3.org/2000/svg\" height=\"24px\"viewBox=\"0 0 24 24\"\n",
              "       width=\"24px\">\n",
              "    <path d=\"M0 0h24v24H0V0z\" fill=\"none\"/>\n",
              "    <path d=\"M18.56 5.44l.94 2.06.94-2.06 2.06-.94-2.06-.94-.94-2.06-.94 2.06-2.06.94zm-11 1L8.5 8.5l.94-2.06 2.06-.94-2.06-.94L8.5 2.5l-.94 2.06-2.06.94zm10 10l.94 2.06.94-2.06 2.06-.94-2.06-.94-.94-2.06-.94 2.06-2.06.94z\"/><path d=\"M17.41 7.96l-1.37-1.37c-.4-.4-.92-.59-1.43-.59-.52 0-1.04.2-1.43.59L10.3 9.45l-7.72 7.72c-.78.78-.78 2.05 0 2.83L4 21.41c.39.39.9.59 1.41.59.51 0 1.02-.2 1.41-.59l7.78-7.78 2.81-2.81c.8-.78.8-2.07 0-2.86zM5.41 20L4 18.59l7.72-7.72 1.47 1.35L5.41 20z\"/>\n",
              "  </svg>\n",
              "      </button>\n",
              "      \n",
              "  <style>\n",
              "    .colab-df-container {\n",
              "      display:flex;\n",
              "      flex-wrap:wrap;\n",
              "      gap: 12px;\n",
              "    }\n",
              "\n",
              "    .colab-df-convert {\n",
              "      background-color: #E8F0FE;\n",
              "      border: none;\n",
              "      border-radius: 50%;\n",
              "      cursor: pointer;\n",
              "      display: none;\n",
              "      fill: #1967D2;\n",
              "      height: 32px;\n",
              "      padding: 0 0 0 0;\n",
              "      width: 32px;\n",
              "    }\n",
              "\n",
              "    .colab-df-convert:hover {\n",
              "      background-color: #E2EBFA;\n",
              "      box-shadow: 0px 1px 2px rgba(60, 64, 67, 0.3), 0px 1px 3px 1px rgba(60, 64, 67, 0.15);\n",
              "      fill: #174EA6;\n",
              "    }\n",
              "\n",
              "    [theme=dark] .colab-df-convert {\n",
              "      background-color: #3B4455;\n",
              "      fill: #D2E3FC;\n",
              "    }\n",
              "\n",
              "    [theme=dark] .colab-df-convert:hover {\n",
              "      background-color: #434B5C;\n",
              "      box-shadow: 0px 1px 3px 1px rgba(0, 0, 0, 0.15);\n",
              "      filter: drop-shadow(0px 1px 2px rgba(0, 0, 0, 0.3));\n",
              "      fill: #FFFFFF;\n",
              "    }\n",
              "  </style>\n",
              "\n",
              "      <script>\n",
              "        const buttonEl =\n",
              "          document.querySelector('#df-bcf437ed-b1b7-4081-8876-da158d85c387 button.colab-df-convert');\n",
              "        buttonEl.style.display =\n",
              "          google.colab.kernel.accessAllowed ? 'block' : 'none';\n",
              "\n",
              "        async function convertToInteractive(key) {\n",
              "          const element = document.querySelector('#df-bcf437ed-b1b7-4081-8876-da158d85c387');\n",
              "          const dataTable =\n",
              "            await google.colab.kernel.invokeFunction('convertToInteractive',\n",
              "                                                     [key], {});\n",
              "          if (!dataTable) return;\n",
              "\n",
              "          const docLinkHtml = 'Like what you see? Visit the ' +\n",
              "            '<a target=\"_blank\" href=https://colab.research.google.com/notebooks/data_table.ipynb>data table notebook</a>'\n",
              "            + ' to learn more about interactive tables.';\n",
              "          element.innerHTML = '';\n",
              "          dataTable['output_type'] = 'display_data';\n",
              "          await google.colab.output.renderOutput(dataTable, element);\n",
              "          const docLink = document.createElement('div');\n",
              "          docLink.innerHTML = docLinkHtml;\n",
              "          element.appendChild(docLink);\n",
              "        }\n",
              "      </script>\n",
              "    </div>\n",
              "  </div>\n",
              "  "
            ]
          },
          "metadata": {},
          "execution_count": 90
        }
      ]
    },
    {
      "cell_type": "markdown",
      "source": [
        "###**Decision Tree**\n",
        "\n",
        "Decision trees can be used for classification as well as regression problems. The name itself suggests that it uses a flowchart like a tree structure to show the predictions that result from a series of feature-based splits. It starts with a root node and ends with a decision made by leaves.\n",
        "\n",
        "Decision trees are upside down which means the root is at the top and then this root is split into various several nodes. Decision trees are nothing but a bunch of if-else statements in layman terms. It checks if the condition is true and if it is then it goes to the next node attached to that decision.\n",
        "\n",
        "In a Decision Tree diagram, we have:\n",
        "\n",
        "**Root Node**: The first split which decides the entire population or sample data should further get divided into two or more homogeneous sets. In our case, the Outlook node.\n",
        "\n",
        "**Splitting**: It is a process of dividing a node into two or more sub-nodes.\n",
        "\n",
        "**Decision Node**: This node decides whether/when a sub-node splits into further sub-nodes or not. Here we have, Outlook node, Humidity node, and Windy node.\n",
        "\n",
        "**Leaf**: Terminal Node that predicts the outcome (categorical or continuous value). The coloured nodes, i.e., Yes and No nodes, are the leaves."
      ],
      "metadata": {
        "id": "ILRWRm9GTMJN"
      }
    },
    {
      "cell_type": "code",
      "source": [
        "# building the model\n",
        "decision_regressor = DecisionTreeRegressor(criterion='mse', max_depth=8,\n",
        "                      max_features=8, max_leaf_nodes=100)\n",
        "# fitting training data to the model\n",
        "decision_regressor.fit(X_train, y_train)"
      ],
      "metadata": {
        "colab": {
          "base_uri": "https://localhost:8080/"
        },
        "id": "K9p5MWSHTEmS",
        "outputId": "ebb1160e-76a1-41de-d9cd-22257fa3e615"
      },
      "execution_count": null,
      "outputs": [
        {
          "output_type": "execute_result",
          "data": {
            "text/plain": [
              "DecisionTreeRegressor(criterion='mse', max_depth=8, max_features=8,\n",
              "                      max_leaf_nodes=100)"
            ]
          },
          "metadata": {},
          "execution_count": 91
        }
      ]
    },
    {
      "cell_type": "code",
      "source": [
        "# predict for train data\n",
        "y_pred_train_d = decision_regressor.predict(X_train)\n",
        "\n",
        "# predict for test data\n",
        "y_pred_test_d = decision_regressor.predict(X_test)"
      ],
      "metadata": {
        "id": "k-cnXjjlTPvW"
      },
      "execution_count": null,
      "outputs": []
    },
    {
      "cell_type": "code",
      "source": [
        "# calculating model score\n",
        "print(\"Model Score:\",decision_regressor.score(X_train,y_train))\n",
        "\n",
        "# calculating MSE\n",
        "MSE_d= mean_squared_error(y_train, y_pred_train_d)\n",
        "print(\"MSE :\",MSE_d)\n",
        "\n",
        "# calculating RMSE\n",
        "RMSE_d=np.sqrt(MSE_d)\n",
        "print(\"RMSE :\",RMSE_d)\n",
        "\n",
        "\n",
        "# calculating MAE\n",
        "MAE_d= mean_absolute_error(y_train, y_pred_train_d)\n",
        "print(\"MAE :\",MAE_d)\n",
        "\n",
        "# calculating r2 and adjusted r2\n",
        "r2_d= r2_score(y_train, y_pred_train_d)\n",
        "print(\"R2 :\",r2_d)\n",
        "Adjusted_R2_d=(1-(1-r2_score(y_train, y_pred_train_d))*((X_test.shape[0]-1)/(X_test.shape[0]-X_test.shape[1]-1)) )\n",
        "print(\"Adjusted R2 :\", Adjusted_R2_d)\n"
      ],
      "metadata": {
        "colab": {
          "base_uri": "https://localhost:8080/"
        },
        "id": "YLevP_8zTiAF",
        "outputId": "8ab26847-7768-4bd4-e299-82d0ecd585fd"
      },
      "execution_count": null,
      "outputs": [
        {
          "output_type": "stream",
          "name": "stdout",
          "text": [
            "Model Score: 0.8166822130104971\n",
            "MSE : 0.05442528092135863\n",
            "RMSE : 0.2332922650268513\n",
            "MAE : 0.1603195912261818\n",
            "R2 : 0.8166822130104971\n",
            "Adjusted R2 : 0.8166405481554022\n"
          ]
        }
      ]
    },
    {
      "cell_type": "code",
      "source": [
        "# storing the train set metrics value into the train evaluation dataframe\n",
        "dict1={'Model':'Decision tree regression ',\n",
        "       'MAE':round((MAE_d),3),\n",
        "       'MSE':round((MSE_d),3),\n",
        "       'RMSE':round((RMSE_d),3),\n",
        "       'R2_score':round((r2_d),3),\n",
        "       'Adjusted R2':round((Adjusted_R2_d),2)\n",
        "      }\n",
        "training_df=training_df.append(dict1,ignore_index=True)"
      ],
      "metadata": {
        "id": "l1dRTKcUTjF2"
      },
      "execution_count": null,
      "outputs": []
    },
    {
      "cell_type": "code",
      "source": [
        "\n",
        "# calculating MSE\n",
        "MSE_d= mean_squared_error(y_test, y_pred_test_d)\n",
        "print(\"MSE :\",MSE_d)\n",
        "\n",
        "# calculating RMSE\n",
        "RMSE_d=np.sqrt(MSE_d)\n",
        "print(\"RMSE :\",RMSE_d)\n",
        "\n",
        "\n",
        "# calculating MAE\n",
        "MAE_d= mean_absolute_error(y_test, y_pred_test_d)\n",
        "print(\"MAE :\",MAE_d)\n",
        "\n",
        "\n",
        "# calculating r2 and adjusted r2\n",
        "r2_d= r2_score((y_test), (y_pred_test_d))\n",
        "print(\"R2 :\",r2_d)\n",
        "Adjusted_R2_d=(1-(1-r2_score((y_test), (y_pred_test_d)))*((X_test.shape[0]-1)/(X_test.shape[0]-X_test.shape[1]-1)) )\n",
        "print(\"Adjusted R2 :\", Adjusted_R2_d)\n"
      ],
      "metadata": {
        "colab": {
          "base_uri": "https://localhost:8080/"
        },
        "id": "m27NPvPDTr71",
        "outputId": "c0ce0b83-5f0c-420d-806d-1a062ef45b01"
      },
      "execution_count": null,
      "outputs": [
        {
          "output_type": "stream",
          "name": "stdout",
          "text": [
            "MSE : 0.05753182303636448\n",
            "RMSE : 0.23985792260495478\n",
            "MAE : 0.16242904202506853\n",
            "R2 : 0.8080767101558047\n",
            "Adjusted R2 : 0.808033089423785\n"
          ]
        }
      ]
    },
    {
      "cell_type": "code",
      "source": [
        "# storing the test set metrics value into the test evaluation dataframe\n",
        "dict2={'Model':'Decision tree regression ',\n",
        "       'MAE':round((MAE_d),3),\n",
        "       'MSE':round((MSE_d),3),\n",
        "       'RMSE':round((RMSE_d),3),\n",
        "       'R2_score':round((r2_d),3),\n",
        "       'Adjusted R2':round((Adjusted_R2_d),2)\n",
        "      }\n",
        "test_df=test_df.append(dict2,ignore_index=True)"
      ],
      "metadata": {
        "id": "EsJvbOrsTs9R"
      },
      "execution_count": null,
      "outputs": []
    },
    {
      "cell_type": "code",
      "source": [
        "# display train evaluation dataframe.\n",
        "training_df"
      ],
      "metadata": {
        "colab": {
          "base_uri": "https://localhost:8080/",
          "height": 206
        },
        "id": "TFiBjMbmTwS4",
        "outputId": "5999c54d-2a4c-4768-fa9a-5a89b05636ba"
      },
      "execution_count": null,
      "outputs": [
        {
          "output_type": "execute_result",
          "data": {
            "text/plain": [
              "                       Model    MAE    MSE   RMSE  R2_score  Adjusted R2\n",
              "0         Linear regression   0.184  0.088  0.297     0.702         0.70\n",
              "1          Lasso regression   0.191  0.090  0.299     0.698         0.70\n",
              "2          Ridge regression   0.184  0.088  0.297     0.702         0.70\n",
              "3    Elastic net regression   0.251  0.128  0.357     0.570         0.57\n",
              "4  Decision tree regression   0.160  0.054  0.233     0.817         0.82"
            ],
            "text/html": [
              "\n",
              "  <div id=\"df-3c0e632f-750f-40ee-8e48-223c7f44d4b9\">\n",
              "    <div class=\"colab-df-container\">\n",
              "      <div>\n",
              "<style scoped>\n",
              "    .dataframe tbody tr th:only-of-type {\n",
              "        vertical-align: middle;\n",
              "    }\n",
              "\n",
              "    .dataframe tbody tr th {\n",
              "        vertical-align: top;\n",
              "    }\n",
              "\n",
              "    .dataframe thead th {\n",
              "        text-align: right;\n",
              "    }\n",
              "</style>\n",
              "<table border=\"1\" class=\"dataframe\">\n",
              "  <thead>\n",
              "    <tr style=\"text-align: right;\">\n",
              "      <th></th>\n",
              "      <th>Model</th>\n",
              "      <th>MAE</th>\n",
              "      <th>MSE</th>\n",
              "      <th>RMSE</th>\n",
              "      <th>R2_score</th>\n",
              "      <th>Adjusted R2</th>\n",
              "    </tr>\n",
              "  </thead>\n",
              "  <tbody>\n",
              "    <tr>\n",
              "      <th>0</th>\n",
              "      <td>Linear regression</td>\n",
              "      <td>0.184</td>\n",
              "      <td>0.088</td>\n",
              "      <td>0.297</td>\n",
              "      <td>0.702</td>\n",
              "      <td>0.70</td>\n",
              "    </tr>\n",
              "    <tr>\n",
              "      <th>1</th>\n",
              "      <td>Lasso regression</td>\n",
              "      <td>0.191</td>\n",
              "      <td>0.090</td>\n",
              "      <td>0.299</td>\n",
              "      <td>0.698</td>\n",
              "      <td>0.70</td>\n",
              "    </tr>\n",
              "    <tr>\n",
              "      <th>2</th>\n",
              "      <td>Ridge regression</td>\n",
              "      <td>0.184</td>\n",
              "      <td>0.088</td>\n",
              "      <td>0.297</td>\n",
              "      <td>0.702</td>\n",
              "      <td>0.70</td>\n",
              "    </tr>\n",
              "    <tr>\n",
              "      <th>3</th>\n",
              "      <td>Elastic net regression</td>\n",
              "      <td>0.251</td>\n",
              "      <td>0.128</td>\n",
              "      <td>0.357</td>\n",
              "      <td>0.570</td>\n",
              "      <td>0.57</td>\n",
              "    </tr>\n",
              "    <tr>\n",
              "      <th>4</th>\n",
              "      <td>Decision tree regression</td>\n",
              "      <td>0.160</td>\n",
              "      <td>0.054</td>\n",
              "      <td>0.233</td>\n",
              "      <td>0.817</td>\n",
              "      <td>0.82</td>\n",
              "    </tr>\n",
              "  </tbody>\n",
              "</table>\n",
              "</div>\n",
              "      <button class=\"colab-df-convert\" onclick=\"convertToInteractive('df-3c0e632f-750f-40ee-8e48-223c7f44d4b9')\"\n",
              "              title=\"Convert this dataframe to an interactive table.\"\n",
              "              style=\"display:none;\">\n",
              "        \n",
              "  <svg xmlns=\"http://www.w3.org/2000/svg\" height=\"24px\"viewBox=\"0 0 24 24\"\n",
              "       width=\"24px\">\n",
              "    <path d=\"M0 0h24v24H0V0z\" fill=\"none\"/>\n",
              "    <path d=\"M18.56 5.44l.94 2.06.94-2.06 2.06-.94-2.06-.94-.94-2.06-.94 2.06-2.06.94zm-11 1L8.5 8.5l.94-2.06 2.06-.94-2.06-.94L8.5 2.5l-.94 2.06-2.06.94zm10 10l.94 2.06.94-2.06 2.06-.94-2.06-.94-.94-2.06-.94 2.06-2.06.94z\"/><path d=\"M17.41 7.96l-1.37-1.37c-.4-.4-.92-.59-1.43-.59-.52 0-1.04.2-1.43.59L10.3 9.45l-7.72 7.72c-.78.78-.78 2.05 0 2.83L4 21.41c.39.39.9.59 1.41.59.51 0 1.02-.2 1.41-.59l7.78-7.78 2.81-2.81c.8-.78.8-2.07 0-2.86zM5.41 20L4 18.59l7.72-7.72 1.47 1.35L5.41 20z\"/>\n",
              "  </svg>\n",
              "      </button>\n",
              "      \n",
              "  <style>\n",
              "    .colab-df-container {\n",
              "      display:flex;\n",
              "      flex-wrap:wrap;\n",
              "      gap: 12px;\n",
              "    }\n",
              "\n",
              "    .colab-df-convert {\n",
              "      background-color: #E8F0FE;\n",
              "      border: none;\n",
              "      border-radius: 50%;\n",
              "      cursor: pointer;\n",
              "      display: none;\n",
              "      fill: #1967D2;\n",
              "      height: 32px;\n",
              "      padding: 0 0 0 0;\n",
              "      width: 32px;\n",
              "    }\n",
              "\n",
              "    .colab-df-convert:hover {\n",
              "      background-color: #E2EBFA;\n",
              "      box-shadow: 0px 1px 2px rgba(60, 64, 67, 0.3), 0px 1px 3px 1px rgba(60, 64, 67, 0.15);\n",
              "      fill: #174EA6;\n",
              "    }\n",
              "\n",
              "    [theme=dark] .colab-df-convert {\n",
              "      background-color: #3B4455;\n",
              "      fill: #D2E3FC;\n",
              "    }\n",
              "\n",
              "    [theme=dark] .colab-df-convert:hover {\n",
              "      background-color: #434B5C;\n",
              "      box-shadow: 0px 1px 3px 1px rgba(0, 0, 0, 0.15);\n",
              "      filter: drop-shadow(0px 1px 2px rgba(0, 0, 0, 0.3));\n",
              "      fill: #FFFFFF;\n",
              "    }\n",
              "  </style>\n",
              "\n",
              "      <script>\n",
              "        const buttonEl =\n",
              "          document.querySelector('#df-3c0e632f-750f-40ee-8e48-223c7f44d4b9 button.colab-df-convert');\n",
              "        buttonEl.style.display =\n",
              "          google.colab.kernel.accessAllowed ? 'block' : 'none';\n",
              "\n",
              "        async function convertToInteractive(key) {\n",
              "          const element = document.querySelector('#df-3c0e632f-750f-40ee-8e48-223c7f44d4b9');\n",
              "          const dataTable =\n",
              "            await google.colab.kernel.invokeFunction('convertToInteractive',\n",
              "                                                     [key], {});\n",
              "          if (!dataTable) return;\n",
              "\n",
              "          const docLinkHtml = 'Like what you see? Visit the ' +\n",
              "            '<a target=\"_blank\" href=https://colab.research.google.com/notebooks/data_table.ipynb>data table notebook</a>'\n",
              "            + ' to learn more about interactive tables.';\n",
              "          element.innerHTML = '';\n",
              "          dataTable['output_type'] = 'display_data';\n",
              "          await google.colab.output.renderOutput(dataTable, element);\n",
              "          const docLink = document.createElement('div');\n",
              "          docLink.innerHTML = docLinkHtml;\n",
              "          element.appendChild(docLink);\n",
              "        }\n",
              "      </script>\n",
              "    </div>\n",
              "  </div>\n",
              "  "
            ]
          },
          "metadata": {},
          "execution_count": 97
        }
      ]
    },
    {
      "cell_type": "code",
      "source": [
        "# display test evaluation dataframe.\n",
        "test_df"
      ],
      "metadata": {
        "colab": {
          "base_uri": "https://localhost:8080/",
          "height": 206
        },
        "id": "YsW69eYWTxkB",
        "outputId": "eef09a16-273e-4821-d3c2-ca2d27750714"
      },
      "execution_count": null,
      "outputs": [
        {
          "output_type": "execute_result",
          "data": {
            "text/plain": [
              "                         Model    MAE    MSE   RMSE  R2_score  Adjusted R2\n",
              "0           Linear regression   0.185  0.092  0.302     0.695         0.69\n",
              "1            Lasso regression   0.192  0.092  0.303     0.693         0.69\n",
              "2            Ridge regression   0.185  0.092  0.302     0.695         0.69\n",
              "3  Elastic net regression Test  0.251  0.128  0.357     0.574         0.57\n",
              "4    Decision tree regression   0.162  0.058  0.240     0.808         0.81"
            ],
            "text/html": [
              "\n",
              "  <div id=\"df-1d0872bb-1494-4509-ab9a-2c7d5bf8bdba\">\n",
              "    <div class=\"colab-df-container\">\n",
              "      <div>\n",
              "<style scoped>\n",
              "    .dataframe tbody tr th:only-of-type {\n",
              "        vertical-align: middle;\n",
              "    }\n",
              "\n",
              "    .dataframe tbody tr th {\n",
              "        vertical-align: top;\n",
              "    }\n",
              "\n",
              "    .dataframe thead th {\n",
              "        text-align: right;\n",
              "    }\n",
              "</style>\n",
              "<table border=\"1\" class=\"dataframe\">\n",
              "  <thead>\n",
              "    <tr style=\"text-align: right;\">\n",
              "      <th></th>\n",
              "      <th>Model</th>\n",
              "      <th>MAE</th>\n",
              "      <th>MSE</th>\n",
              "      <th>RMSE</th>\n",
              "      <th>R2_score</th>\n",
              "      <th>Adjusted R2</th>\n",
              "    </tr>\n",
              "  </thead>\n",
              "  <tbody>\n",
              "    <tr>\n",
              "      <th>0</th>\n",
              "      <td>Linear regression</td>\n",
              "      <td>0.185</td>\n",
              "      <td>0.092</td>\n",
              "      <td>0.302</td>\n",
              "      <td>0.695</td>\n",
              "      <td>0.69</td>\n",
              "    </tr>\n",
              "    <tr>\n",
              "      <th>1</th>\n",
              "      <td>Lasso regression</td>\n",
              "      <td>0.192</td>\n",
              "      <td>0.092</td>\n",
              "      <td>0.303</td>\n",
              "      <td>0.693</td>\n",
              "      <td>0.69</td>\n",
              "    </tr>\n",
              "    <tr>\n",
              "      <th>2</th>\n",
              "      <td>Ridge regression</td>\n",
              "      <td>0.185</td>\n",
              "      <td>0.092</td>\n",
              "      <td>0.302</td>\n",
              "      <td>0.695</td>\n",
              "      <td>0.69</td>\n",
              "    </tr>\n",
              "    <tr>\n",
              "      <th>3</th>\n",
              "      <td>Elastic net regression Test</td>\n",
              "      <td>0.251</td>\n",
              "      <td>0.128</td>\n",
              "      <td>0.357</td>\n",
              "      <td>0.574</td>\n",
              "      <td>0.57</td>\n",
              "    </tr>\n",
              "    <tr>\n",
              "      <th>4</th>\n",
              "      <td>Decision tree regression</td>\n",
              "      <td>0.162</td>\n",
              "      <td>0.058</td>\n",
              "      <td>0.240</td>\n",
              "      <td>0.808</td>\n",
              "      <td>0.81</td>\n",
              "    </tr>\n",
              "  </tbody>\n",
              "</table>\n",
              "</div>\n",
              "      <button class=\"colab-df-convert\" onclick=\"convertToInteractive('df-1d0872bb-1494-4509-ab9a-2c7d5bf8bdba')\"\n",
              "              title=\"Convert this dataframe to an interactive table.\"\n",
              "              style=\"display:none;\">\n",
              "        \n",
              "  <svg xmlns=\"http://www.w3.org/2000/svg\" height=\"24px\"viewBox=\"0 0 24 24\"\n",
              "       width=\"24px\">\n",
              "    <path d=\"M0 0h24v24H0V0z\" fill=\"none\"/>\n",
              "    <path d=\"M18.56 5.44l.94 2.06.94-2.06 2.06-.94-2.06-.94-.94-2.06-.94 2.06-2.06.94zm-11 1L8.5 8.5l.94-2.06 2.06-.94-2.06-.94L8.5 2.5l-.94 2.06-2.06.94zm10 10l.94 2.06.94-2.06 2.06-.94-2.06-.94-.94-2.06-.94 2.06-2.06.94z\"/><path d=\"M17.41 7.96l-1.37-1.37c-.4-.4-.92-.59-1.43-.59-.52 0-1.04.2-1.43.59L10.3 9.45l-7.72 7.72c-.78.78-.78 2.05 0 2.83L4 21.41c.39.39.9.59 1.41.59.51 0 1.02-.2 1.41-.59l7.78-7.78 2.81-2.81c.8-.78.8-2.07 0-2.86zM5.41 20L4 18.59l7.72-7.72 1.47 1.35L5.41 20z\"/>\n",
              "  </svg>\n",
              "      </button>\n",
              "      \n",
              "  <style>\n",
              "    .colab-df-container {\n",
              "      display:flex;\n",
              "      flex-wrap:wrap;\n",
              "      gap: 12px;\n",
              "    }\n",
              "\n",
              "    .colab-df-convert {\n",
              "      background-color: #E8F0FE;\n",
              "      border: none;\n",
              "      border-radius: 50%;\n",
              "      cursor: pointer;\n",
              "      display: none;\n",
              "      fill: #1967D2;\n",
              "      height: 32px;\n",
              "      padding: 0 0 0 0;\n",
              "      width: 32px;\n",
              "    }\n",
              "\n",
              "    .colab-df-convert:hover {\n",
              "      background-color: #E2EBFA;\n",
              "      box-shadow: 0px 1px 2px rgba(60, 64, 67, 0.3), 0px 1px 3px 1px rgba(60, 64, 67, 0.15);\n",
              "      fill: #174EA6;\n",
              "    }\n",
              "\n",
              "    [theme=dark] .colab-df-convert {\n",
              "      background-color: #3B4455;\n",
              "      fill: #D2E3FC;\n",
              "    }\n",
              "\n",
              "    [theme=dark] .colab-df-convert:hover {\n",
              "      background-color: #434B5C;\n",
              "      box-shadow: 0px 1px 3px 1px rgba(0, 0, 0, 0.15);\n",
              "      filter: drop-shadow(0px 1px 2px rgba(0, 0, 0, 0.3));\n",
              "      fill: #FFFFFF;\n",
              "    }\n",
              "  </style>\n",
              "\n",
              "      <script>\n",
              "        const buttonEl =\n",
              "          document.querySelector('#df-1d0872bb-1494-4509-ab9a-2c7d5bf8bdba button.colab-df-convert');\n",
              "        buttonEl.style.display =\n",
              "          google.colab.kernel.accessAllowed ? 'block' : 'none';\n",
              "\n",
              "        async function convertToInteractive(key) {\n",
              "          const element = document.querySelector('#df-1d0872bb-1494-4509-ab9a-2c7d5bf8bdba');\n",
              "          const dataTable =\n",
              "            await google.colab.kernel.invokeFunction('convertToInteractive',\n",
              "                                                     [key], {});\n",
              "          if (!dataTable) return;\n",
              "\n",
              "          const docLinkHtml = 'Like what you see? Visit the ' +\n",
              "            '<a target=\"_blank\" href=https://colab.research.google.com/notebooks/data_table.ipynb>data table notebook</a>'\n",
              "            + ' to learn more about interactive tables.';\n",
              "          element.innerHTML = '';\n",
              "          dataTable['output_type'] = 'display_data';\n",
              "          await google.colab.output.renderOutput(dataTable, element);\n",
              "          const docLink = document.createElement('div');\n",
              "          docLink.innerHTML = docLinkHtml;\n",
              "          element.appendChild(docLink);\n",
              "        }\n",
              "      </script>\n",
              "    </div>\n",
              "  </div>\n",
              "  "
            ]
          },
          "metadata": {},
          "execution_count": 98
        }
      ]
    },
    {
      "cell_type": "code",
      "source": [
        "\n",
        "# DOT data\n",
        "dot_data = tree.export_graphviz(decision_regressor, out_file=None, \n",
        "                                feature_names=X_train.columns,  \n",
        "                                class_names='views',\n",
        "                                filled=True)\n",
        "\n",
        "# Draw graph\n",
        "graph = graphviz.Source(dot_data, format=\"png\")\n",
        "graph.render\n",
        "\n",
        "# Display graph\n",
        "graph"
      ],
      "metadata": {
        "colab": {
          "base_uri": "https://localhost:8080/",
          "height": 1000
        },
        "id": "AiBlCGPiTzGr",
        "outputId": "b067ae5f-98bc-4523-8b5f-80c05ecc266f"
      },
      "execution_count": null,
      "outputs": [
        {
          "output_type": "execute_result",
          "data": {
            "text/plain": [
              "<graphviz.files.Source at 0x7feb9628e8d0>"
            ],
            "image/svg+xml": "<?xml version=\"1.0\" encoding=\"UTF-8\" standalone=\"no\"?>\n<!DOCTYPE svg PUBLIC \"-//W3C//DTD SVG 1.1//EN\"\n \"http://www.w3.org/Graphics/SVG/1.1/DTD/svg11.dtd\">\n<!-- Generated by graphviz version 2.40.1 (20161225.0304)\n -->\n<!-- Title: Tree Pages: 1 -->\n<svg width=\"7857pt\" height=\"893pt\"\n viewBox=\"0.00 0.00 7857.00 893.00\" xmlns=\"http://www.w3.org/2000/svg\" xmlns:xlink=\"http://www.w3.org/1999/xlink\">\n<g id=\"graph0\" class=\"graph\" transform=\"scale(1 1) rotate(0) translate(4 889)\">\n<title>Tree</title>\n<polygon fill=\"#ffffff\" stroke=\"transparent\" points=\"-4,4 -4,-889 7853,-889 7853,4 -4,4\"/>\n<!-- 0 -->\n<g id=\"node1\" class=\"node\">\n<title>0</title>\n<polygon fill=\"#f9e0cf\" stroke=\"#000000\" points=\"4469.5,-885 4332.5,-885 4332.5,-817 4469.5,-817 4469.5,-885\"/>\n<text text-anchor=\"middle\" x=\"4401\" y=\"-869.8\" font-family=\"Helvetica,sans-Serif\" font-size=\"14.00\" fill=\"#000000\">distance &lt;= 1.577</text>\n<text text-anchor=\"middle\" x=\"4401\" y=\"-854.8\" font-family=\"Helvetica,sans-Serif\" font-size=\"14.00\" fill=\"#000000\">mse = 0.297</text>\n<text text-anchor=\"middle\" x=\"4401\" y=\"-839.8\" font-family=\"Helvetica,sans-Serif\" font-size=\"14.00\" fill=\"#000000\">samples = 145229</text>\n<text text-anchor=\"middle\" x=\"4401\" y=\"-824.8\" font-family=\"Helvetica,sans-Serif\" font-size=\"14.00\" fill=\"#000000\">value = 2.336</text>\n</g>\n<!-- 1 -->\n<g id=\"node2\" class=\"node\">\n<title>1</title>\n<polygon fill=\"#fbeade\" stroke=\"#000000\" points=\"3792.5,-781 3655.5,-781 3655.5,-713 3792.5,-713 3792.5,-781\"/>\n<text text-anchor=\"middle\" x=\"3724\" y=\"-765.8\" font-family=\"Helvetica,sans-Serif\" font-size=\"14.00\" fill=\"#000000\">distance &lt;= 0.983</text>\n<text text-anchor=\"middle\" x=\"3724\" y=\"-750.8\" font-family=\"Helvetica,sans-Serif\" font-size=\"14.00\" fill=\"#000000\">mse = 0.117</text>\n<text text-anchor=\"middle\" x=\"3724\" y=\"-735.8\" font-family=\"Helvetica,sans-Serif\" font-size=\"14.00\" fill=\"#000000\">samples = 107388</text>\n<text text-anchor=\"middle\" x=\"3724\" y=\"-720.8\" font-family=\"Helvetica,sans-Serif\" font-size=\"14.00\" fill=\"#000000\">value = 2.106</text>\n</g>\n<!-- 0&#45;&gt;1 -->\n<g id=\"edge1\" class=\"edge\">\n<title>0&#45;&gt;1</title>\n<path fill=\"none\" stroke=\"#000000\" d=\"M4332.36,-840.4556C4205.8156,-821.016 3936.4863,-779.6419 3802.7415,-759.0962\"/>\n<polygon fill=\"#000000\" stroke=\"#000000\" points=\"3802.985,-755.5926 3792.5695,-757.5336 3801.9221,-762.5114 3802.985,-755.5926\"/>\n<text text-anchor=\"middle\" x=\"3807.3581\" y=\"-773.9904\" font-family=\"Helvetica,sans-Serif\" font-size=\"14.00\" fill=\"#000000\">True</text>\n</g>\n<!-- 2 -->\n<g id=\"node125\" class=\"node\">\n<title>2</title>\n<polygon fill=\"#f3c4a2\" stroke=\"#000000\" points=\"5853,-781 5721,-781 5721,-713 5853,-713 5853,-781\"/>\n<text text-anchor=\"middle\" x=\"5787\" y=\"-765.8\" font-family=\"Helvetica,sans-Serif\" font-size=\"14.00\" fill=\"#000000\">distance &lt;= 2.226</text>\n<text text-anchor=\"middle\" x=\"5787\" y=\"-750.8\" font-family=\"Helvetica,sans-Serif\" font-size=\"14.00\" fill=\"#000000\">mse = 0.231</text>\n<text text-anchor=\"middle\" x=\"5787\" y=\"-735.8\" font-family=\"Helvetica,sans-Serif\" font-size=\"14.00\" fill=\"#000000\">samples = 37841</text>\n<text text-anchor=\"middle\" x=\"5787\" y=\"-720.8\" font-family=\"Helvetica,sans-Serif\" font-size=\"14.00\" fill=\"#000000\">value = 2.988</text>\n</g>\n<!-- 0&#45;&gt;2 -->\n<g id=\"edge124\" class=\"edge\">\n<title>0&#45;&gt;2</title>\n<path fill=\"none\" stroke=\"#000000\" d=\"M4469.732,-845.8426C4703.3013,-828.3165 5465.54,-771.1211 5710.471,-752.7424\"/>\n<polygon fill=\"#000000\" stroke=\"#000000\" points=\"5710.9919,-756.2133 5720.7019,-751.9747 5710.468,-749.2329 5710.9919,-756.2133\"/>\n<text text-anchor=\"middle\" x=\"5704.3966\" y=\"-767.2256\" font-family=\"Helvetica,sans-Serif\" font-size=\"14.00\" fill=\"#000000\">False</text>\n</g>\n<!-- 3 -->\n<g id=\"node3\" class=\"node\">\n<title>3</title>\n<polygon fill=\"#fdf3ec\" stroke=\"#000000\" points=\"2390,-677 2258,-677 2258,-609 2390,-609 2390,-677\"/>\n<text text-anchor=\"middle\" x=\"2324\" y=\"-661.8\" font-family=\"Helvetica,sans-Serif\" font-size=\"14.00\" fill=\"#000000\">distance &lt;= 0.721</text>\n<text text-anchor=\"middle\" x=\"2324\" y=\"-646.8\" font-family=\"Helvetica,sans-Serif\" font-size=\"14.00\" fill=\"#000000\">mse = 0.09</text>\n<text text-anchor=\"middle\" x=\"2324\" y=\"-631.8\" font-family=\"Helvetica,sans-Serif\" font-size=\"14.00\" fill=\"#000000\">samples = 53604</text>\n<text text-anchor=\"middle\" x=\"2324\" y=\"-616.8\" font-family=\"Helvetica,sans-Serif\" font-size=\"14.00\" fill=\"#000000\">value = 1.907</text>\n</g>\n<!-- 1&#45;&gt;3 -->\n<g id=\"edge2\" class=\"edge\">\n<title>1&#45;&gt;3</title>\n<path fill=\"none\" stroke=\"#000000\" d=\"M3655.0513,-741.8781C3419.4408,-724.3756 2647.2684,-667.0142 2400.5303,-648.6851\"/>\n<polygon fill=\"#000000\" stroke=\"#000000\" points=\"2400.4584,-645.1702 2390.2266,-647.9197 2399.9398,-652.151 2400.4584,-645.1702\"/>\n</g>\n<!-- 4 -->\n<g id=\"node68\" class=\"node\">\n<title>4</title>\n<polygon fill=\"#f9e2d1\" stroke=\"#000000\" points=\"3790,-677 3658,-677 3658,-609 3790,-609 3790,-677\"/>\n<text text-anchor=\"middle\" x=\"3724\" y=\"-661.8\" font-family=\"Helvetica,sans-Serif\" font-size=\"14.00\" fill=\"#000000\">distance &lt;= 1.263</text>\n<text text-anchor=\"middle\" x=\"3724\" y=\"-646.8\" font-family=\"Helvetica,sans-Serif\" font-size=\"14.00\" fill=\"#000000\">mse = 0.066</text>\n<text text-anchor=\"middle\" x=\"3724\" y=\"-631.8\" font-family=\"Helvetica,sans-Serif\" font-size=\"14.00\" fill=\"#000000\">samples = 53784</text>\n<text text-anchor=\"middle\" x=\"3724\" y=\"-616.8\" font-family=\"Helvetica,sans-Serif\" font-size=\"14.00\" fill=\"#000000\">value = 2.304</text>\n</g>\n<!-- 1&#45;&gt;4 -->\n<g id=\"edge67\" class=\"edge\">\n<title>1&#45;&gt;4</title>\n<path fill=\"none\" stroke=\"#000000\" d=\"M3724,-712.9465C3724,-704.776 3724,-695.9318 3724,-687.3697\"/>\n<polygon fill=\"#000000\" stroke=\"#000000\" points=\"3727.5001,-687.13 3724,-677.13 3720.5001,-687.13 3727.5001,-687.13\"/>\n</g>\n<!-- 9 -->\n<g id=\"node4\" class=\"node\">\n<title>9</title>\n<polygon fill=\"#fdf8f3\" stroke=\"#000000\" points=\"1309,-573 1177,-573 1177,-505 1309,-505 1309,-573\"/>\n<text text-anchor=\"middle\" x=\"1243\" y=\"-557.8\" font-family=\"Helvetica,sans-Serif\" font-size=\"14.00\" fill=\"#000000\">distance &lt;= 0.009</text>\n<text text-anchor=\"middle\" x=\"1243\" y=\"-542.8\" font-family=\"Helvetica,sans-Serif\" font-size=\"14.00\" fill=\"#000000\">mse = 0.113</text>\n<text text-anchor=\"middle\" x=\"1243\" y=\"-527.8\" font-family=\"Helvetica,sans-Serif\" font-size=\"14.00\" fill=\"#000000\">samples = 25271</text>\n<text text-anchor=\"middle\" x=\"1243\" y=\"-512.8\" font-family=\"Helvetica,sans-Serif\" font-size=\"14.00\" fill=\"#000000\">value = 1.803</text>\n</g>\n<!-- 3&#45;&gt;9 -->\n<g id=\"edge3\" class=\"edge\">\n<title>3&#45;&gt;9</title>\n<path fill=\"none\" stroke=\"#000000\" d=\"M2257.6007,-636.6119C2067.4021,-618.3134 1521.2948,-565.774 1319.3077,-546.3414\"/>\n<polygon fill=\"#000000\" stroke=\"#000000\" points=\"1319.3769,-542.8319 1309.0876,-545.3581 1318.7064,-549.7998 1319.3769,-542.8319\"/>\n</g>\n<!-- 10 -->\n<g id=\"node43\" class=\"node\">\n<title>10</title>\n<polygon fill=\"#fcefe6\" stroke=\"#000000\" points=\"2388,-573 2260,-573 2260,-505 2388,-505 2388,-573\"/>\n<text text-anchor=\"middle\" x=\"2324\" y=\"-557.8\" font-family=\"Helvetica,sans-Serif\" font-size=\"14.00\" fill=\"#000000\">year &lt;= 2012.5</text>\n<text text-anchor=\"middle\" x=\"2324\" y=\"-542.8\" font-family=\"Helvetica,sans-Serif\" font-size=\"14.00\" fill=\"#000000\">mse = 0.051</text>\n<text text-anchor=\"middle\" x=\"2324\" y=\"-527.8\" font-family=\"Helvetica,sans-Serif\" font-size=\"14.00\" fill=\"#000000\">samples = 28333</text>\n<text text-anchor=\"middle\" x=\"2324\" y=\"-512.8\" font-family=\"Helvetica,sans-Serif\" font-size=\"14.00\" fill=\"#000000\">value = 1.999</text>\n</g>\n<!-- 3&#45;&gt;10 -->\n<g id=\"edge42\" class=\"edge\">\n<title>3&#45;&gt;10</title>\n<path fill=\"none\" stroke=\"#000000\" d=\"M2324,-608.9465C2324,-600.776 2324,-591.9318 2324,-583.3697\"/>\n<polygon fill=\"#000000\" stroke=\"#000000\" points=\"2327.5001,-583.13 2324,-573.13 2320.5001,-583.13 2327.5001,-583.13\"/>\n</g>\n<!-- 19 -->\n<g id=\"node5\" class=\"node\">\n<title>19</title>\n<polygon fill=\"#f7d9c3\" stroke=\"#000000\" points=\"587,-469 387,-469 387,-401 587,-401 587,-469\"/>\n<text text-anchor=\"middle\" x=\"487\" y=\"-453.8\" font-family=\"Helvetica,sans-Serif\" font-size=\"14.00\" fill=\"#000000\">pickup_longitude &lt;= &#45;74.012</text>\n<text text-anchor=\"middle\" x=\"487\" y=\"-438.8\" font-family=\"Helvetica,sans-Serif\" font-size=\"14.00\" fill=\"#000000\">mse = 1.542</text>\n<text text-anchor=\"middle\" x=\"487\" y=\"-423.8\" font-family=\"Helvetica,sans-Serif\" font-size=\"14.00\" fill=\"#000000\">samples = 322</text>\n<text text-anchor=\"middle\" x=\"487\" y=\"-408.8\" font-family=\"Helvetica,sans-Serif\" font-size=\"14.00\" fill=\"#000000\">value = 2.497</text>\n</g>\n<!-- 9&#45;&gt;19 -->\n<g id=\"edge4\" class=\"edge\">\n<title>9&#45;&gt;19</title>\n<path fill=\"none\" stroke=\"#000000\" d=\"M1176.9029,-529.9073C1046.9103,-512.0247 756.8111,-472.1169 597.3162,-450.1758\"/>\n<polygon fill=\"#000000\" stroke=\"#000000\" points=\"597.3862,-446.6525 587.0025,-448.757 596.4322,-453.5872 597.3862,-446.6525\"/>\n</g>\n<!-- 20 -->\n<g id=\"node22\" class=\"node\">\n<title>20</title>\n<polygon fill=\"#fef8f4\" stroke=\"#000000\" points=\"1309,-469 1177,-469 1177,-401 1309,-401 1309,-469\"/>\n<text text-anchor=\"middle\" x=\"1243\" y=\"-453.8\" font-family=\"Helvetica,sans-Serif\" font-size=\"14.00\" fill=\"#000000\">distance &lt;= 0.613</text>\n<text text-anchor=\"middle\" x=\"1243\" y=\"-438.8\" font-family=\"Helvetica,sans-Serif\" font-size=\"14.00\" fill=\"#000000\">mse = 0.088</text>\n<text text-anchor=\"middle\" x=\"1243\" y=\"-423.8\" font-family=\"Helvetica,sans-Serif\" font-size=\"14.00\" fill=\"#000000\">samples = 24949</text>\n<text text-anchor=\"middle\" x=\"1243\" y=\"-408.8\" font-family=\"Helvetica,sans-Serif\" font-size=\"14.00\" fill=\"#000000\">value = 1.794</text>\n</g>\n<!-- 9&#45;&gt;20 -->\n<g id=\"edge21\" class=\"edge\">\n<title>9&#45;&gt;20</title>\n<path fill=\"none\" stroke=\"#000000\" d=\"M1243,-504.9465C1243,-496.776 1243,-487.9318 1243,-479.3697\"/>\n<polygon fill=\"#000000\" stroke=\"#000000\" points=\"1246.5001,-479.13 1243,-469.13 1239.5001,-479.13 1246.5001,-479.13\"/>\n</g>\n<!-- 41 -->\n<g id=\"node6\" class=\"node\">\n<title>41</title>\n<polygon fill=\"#eca26d\" stroke=\"#000000\" points=\"226,-365 122,-365 122,-297 226,-297 226,-365\"/>\n<text text-anchor=\"middle\" x=\"174\" y=\"-349.8\" font-family=\"Helvetica,sans-Serif\" font-size=\"14.00\" fill=\"#000000\">Date &lt;= 3.5</text>\n<text text-anchor=\"middle\" x=\"174\" y=\"-334.8\" font-family=\"Helvetica,sans-Serif\" font-size=\"14.00\" fill=\"#000000\">mse = 1.179</text>\n<text text-anchor=\"middle\" x=\"174\" y=\"-319.8\" font-family=\"Helvetica,sans-Serif\" font-size=\"14.00\" fill=\"#000000\">samples = 32</text>\n<text text-anchor=\"middle\" x=\"174\" y=\"-304.8\" font-family=\"Helvetica,sans-Serif\" font-size=\"14.00\" fill=\"#000000\">value = 3.746</text>\n</g>\n<!-- 19&#45;&gt;41 -->\n<g id=\"edge5\" class=\"edge\">\n<title>19&#45;&gt;41</title>\n<path fill=\"none\" stroke=\"#000000\" d=\"M386.6733,-401.6646C337.0725,-385.1838 278.7917,-365.819 235.7956,-351.5327\"/>\n<polygon fill=\"#000000\" stroke=\"#000000\" points=\"236.6311,-348.1223 226.0376,-348.2905 234.4239,-354.7652 236.6311,-348.1223\"/>\n</g>\n<!-- 42 -->\n<g id=\"node11\" class=\"node\">\n<title>42</title>\n<polygon fill=\"#f8dfcd\" stroke=\"#000000\" points=\"588.5,-365 385.5,-365 385.5,-297 588.5,-297 588.5,-365\"/>\n<text text-anchor=\"middle\" x=\"487\" y=\"-349.8\" font-family=\"Helvetica,sans-Serif\" font-size=\"14.00\" fill=\"#000000\">dropoff_longitude &lt;= &#45;73.811</text>\n<text text-anchor=\"middle\" x=\"487\" y=\"-334.8\" font-family=\"Helvetica,sans-Serif\" font-size=\"14.00\" fill=\"#000000\">mse = 1.391</text>\n<text text-anchor=\"middle\" x=\"487\" y=\"-319.8\" font-family=\"Helvetica,sans-Serif\" font-size=\"14.00\" fill=\"#000000\">samples = 290</text>\n<text text-anchor=\"middle\" x=\"487\" y=\"-304.8\" font-family=\"Helvetica,sans-Serif\" font-size=\"14.00\" fill=\"#000000\">value = 2.359</text>\n</g>\n<!-- 19&#45;&gt;42 -->\n<g id=\"edge10\" class=\"edge\">\n<title>19&#45;&gt;42</title>\n<path fill=\"none\" stroke=\"#000000\" d=\"M487,-400.9465C487,-392.776 487,-383.9318 487,-375.3697\"/>\n<polygon fill=\"#000000\" stroke=\"#000000\" points=\"490.5001,-375.13 487,-365.13 483.5001,-375.13 490.5001,-375.13\"/>\n</g>\n<!-- 121 -->\n<g id=\"node7\" class=\"node\">\n<title>121</title>\n<polygon fill=\"#ffffff\" stroke=\"#000000\" points=\"104,-253.5 0,-253.5 0,-200.5 104,-200.5 104,-253.5\"/>\n<text text-anchor=\"middle\" x=\"52\" y=\"-238.3\" font-family=\"Helvetica,sans-Serif\" font-size=\"14.00\" fill=\"#000000\">mse = 0.145</text>\n<text text-anchor=\"middle\" x=\"52\" y=\"-223.3\" font-family=\"Helvetica,sans-Serif\" font-size=\"14.00\" fill=\"#000000\">samples = 2</text>\n<text text-anchor=\"middle\" x=\"52\" y=\"-208.3\" font-family=\"Helvetica,sans-Serif\" font-size=\"14.00\" fill=\"#000000\">value = 1.634</text>\n</g>\n<!-- 41&#45;&gt;121 -->\n<g id=\"edge6\" class=\"edge\">\n<title>41&#45;&gt;121</title>\n<path fill=\"none\" stroke=\"#000000\" d=\"M134.0526,-296.9465C120.2268,-285.1606 104.7564,-271.9726 91.0071,-260.2519\"/>\n<polygon fill=\"#000000\" stroke=\"#000000\" points=\"93.0168,-257.366 83.136,-253.5422 88.4756,-262.6931 93.0168,-257.366\"/>\n</g>\n<!-- 122 -->\n<g id=\"node8\" class=\"node\">\n<title>122</title>\n<polygon fill=\"#eb9c64\" stroke=\"#000000\" points=\"226,-261 122,-261 122,-193 226,-193 226,-261\"/>\n<text text-anchor=\"middle\" x=\"174\" y=\"-245.8\" font-family=\"Helvetica,sans-Serif\" font-size=\"14.00\" fill=\"#000000\">Date &lt;= 8.5</text>\n<text text-anchor=\"middle\" x=\"174\" y=\"-230.8\" font-family=\"Helvetica,sans-Serif\" font-size=\"14.00\" fill=\"#000000\">mse = 0.931</text>\n<text text-anchor=\"middle\" x=\"174\" y=\"-215.8\" font-family=\"Helvetica,sans-Serif\" font-size=\"14.00\" fill=\"#000000\">samples = 30</text>\n<text text-anchor=\"middle\" x=\"174\" y=\"-200.8\" font-family=\"Helvetica,sans-Serif\" font-size=\"14.00\" fill=\"#000000\">value = 3.887</text>\n</g>\n<!-- 41&#45;&gt;122 -->\n<g id=\"edge7\" class=\"edge\">\n<title>41&#45;&gt;122</title>\n<path fill=\"none\" stroke=\"#000000\" d=\"M174,-296.9465C174,-288.776 174,-279.9318 174,-271.3697\"/>\n<polygon fill=\"#000000\" stroke=\"#000000\" points=\"177.5001,-271.13 174,-261.13 170.5001,-271.13 177.5001,-271.13\"/>\n</g>\n<!-- 189 -->\n<g id=\"node9\" class=\"node\">\n<title>189</title>\n<polygon fill=\"#e58139\" stroke=\"#000000\" points=\"104,-149.5 0,-149.5 0,-96.5 104,-96.5 104,-149.5\"/>\n<text text-anchor=\"middle\" x=\"52\" y=\"-134.3\" font-family=\"Helvetica,sans-Serif\" font-size=\"14.00\" fill=\"#000000\">mse = 0.094</text>\n<text text-anchor=\"middle\" x=\"52\" y=\"-119.3\" font-family=\"Helvetica,sans-Serif\" font-size=\"14.00\" fill=\"#000000\">samples = 9</text>\n<text text-anchor=\"middle\" x=\"52\" y=\"-104.3\" font-family=\"Helvetica,sans-Serif\" font-size=\"14.00\" fill=\"#000000\">value = 4.505</text>\n</g>\n<!-- 122&#45;&gt;189 -->\n<g id=\"edge8\" class=\"edge\">\n<title>122&#45;&gt;189</title>\n<path fill=\"none\" stroke=\"#000000\" d=\"M134.0526,-192.9465C120.2268,-181.1606 104.7564,-167.9726 91.0071,-156.2519\"/>\n<polygon fill=\"#000000\" stroke=\"#000000\" points=\"93.0168,-153.366 83.136,-149.5422 88.4756,-158.6931 93.0168,-153.366\"/>\n</g>\n<!-- 190 -->\n<g id=\"node10\" class=\"node\">\n<title>190</title>\n<polygon fill=\"#eda876\" stroke=\"#000000\" points=\"226,-149.5 122,-149.5 122,-96.5 226,-96.5 226,-149.5\"/>\n<text text-anchor=\"middle\" x=\"174\" y=\"-134.3\" font-family=\"Helvetica,sans-Serif\" font-size=\"14.00\" fill=\"#000000\">mse = 1.056</text>\n<text text-anchor=\"middle\" x=\"174\" y=\"-119.3\" font-family=\"Helvetica,sans-Serif\" font-size=\"14.00\" fill=\"#000000\">samples = 21</text>\n<text text-anchor=\"middle\" x=\"174\" y=\"-104.3\" font-family=\"Helvetica,sans-Serif\" font-size=\"14.00\" fill=\"#000000\">value = 3.622</text>\n</g>\n<!-- 122&#45;&gt;190 -->\n<g id=\"edge9\" class=\"edge\">\n<title>122&#45;&gt;190</title>\n<path fill=\"none\" stroke=\"#000000\" d=\"M174,-192.9465C174,-182.2621 174,-170.4254 174,-159.5742\"/>\n<polygon fill=\"#000000\" stroke=\"#000000\" points=\"177.5001,-159.5421 174,-149.5422 170.5001,-159.5422 177.5001,-159.5421\"/>\n</g>\n<!-- 43 -->\n<g id=\"node12\" class=\"node\">\n<title>43</title>\n<polygon fill=\"#fae8da\" stroke=\"#000000\" points=\"497.5,-261 312.5,-261 312.5,-193 497.5,-193 497.5,-261\"/>\n<text text-anchor=\"middle\" x=\"405\" y=\"-245.8\" font-family=\"Helvetica,sans-Serif\" font-size=\"14.00\" fill=\"#000000\">dropoff_latitude &lt;= 40.823</text>\n<text text-anchor=\"middle\" x=\"405\" y=\"-230.8\" font-family=\"Helvetica,sans-Serif\" font-size=\"14.00\" fill=\"#000000\">mse = 1.133</text>\n<text text-anchor=\"middle\" x=\"405\" y=\"-215.8\" font-family=\"Helvetica,sans-Serif\" font-size=\"14.00\" fill=\"#000000\">samples = 245</text>\n<text text-anchor=\"middle\" x=\"405\" y=\"-200.8\" font-family=\"Helvetica,sans-Serif\" font-size=\"14.00\" fill=\"#000000\">value = 2.163</text>\n</g>\n<!-- 42&#45;&gt;43 -->\n<g id=\"edge11\" class=\"edge\">\n<title>42&#45;&gt;43</title>\n<path fill=\"none\" stroke=\"#000000\" d=\"M460.1501,-296.9465C453.1417,-288.0578 445.5045,-278.3716 438.209,-269.1188\"/>\n<polygon fill=\"#000000\" stroke=\"#000000\" points=\"440.8502,-266.8157 431.9102,-261.13 435.3533,-271.1498 440.8502,-266.8157\"/>\n</g>\n<!-- 44 -->\n<g id=\"node17\" class=\"node\">\n<title>44</title>\n<polygon fill=\"#efb084\" stroke=\"#000000\" points=\"620,-261 516,-261 516,-193 620,-193 620,-261\"/>\n<text text-anchor=\"middle\" x=\"568\" y=\"-245.8\" font-family=\"Helvetica,sans-Serif\" font-size=\"14.00\" fill=\"#000000\">Hour &lt;= 10.5</text>\n<text text-anchor=\"middle\" x=\"568\" y=\"-230.8\" font-family=\"Helvetica,sans-Serif\" font-size=\"14.00\" fill=\"#000000\">mse = 1.455</text>\n<text text-anchor=\"middle\" x=\"568\" y=\"-215.8\" font-family=\"Helvetica,sans-Serif\" font-size=\"14.00\" fill=\"#000000\">samples = 45</text>\n<text text-anchor=\"middle\" x=\"568\" y=\"-200.8\" font-family=\"Helvetica,sans-Serif\" font-size=\"14.00\" fill=\"#000000\">value = 3.423</text>\n</g>\n<!-- 42&#45;&gt;44 -->\n<g id=\"edge16\" class=\"edge\">\n<title>42&#45;&gt;44</title>\n<path fill=\"none\" stroke=\"#000000\" d=\"M513.5224,-296.9465C520.4454,-288.0578 527.9894,-278.3716 535.196,-269.1188\"/>\n<polygon fill=\"#000000\" stroke=\"#000000\" points=\"538.0346,-271.1701 541.418,-261.13 532.512,-266.8688 538.0346,-271.1701\"/>\n</g>\n<!-- 57 -->\n<g id=\"node13\" class=\"node\">\n<title>57</title>\n<polygon fill=\"#fbebe0\" stroke=\"#000000\" points=\"356,-157 244,-157 244,-89 356,-89 356,-157\"/>\n<text text-anchor=\"middle\" x=\"300\" y=\"-141.8\" font-family=\"Helvetica,sans-Serif\" font-size=\"14.00\" fill=\"#000000\">Hour &lt;= 1.5</text>\n<text text-anchor=\"middle\" x=\"300\" y=\"-126.8\" font-family=\"Helvetica,sans-Serif\" font-size=\"14.00\" fill=\"#000000\">mse = 0.998</text>\n<text text-anchor=\"middle\" x=\"300\" y=\"-111.8\" font-family=\"Helvetica,sans-Serif\" font-size=\"14.00\" fill=\"#000000\">samples = 235</text>\n<text text-anchor=\"middle\" x=\"300\" y=\"-96.8\" font-family=\"Helvetica,sans-Serif\" font-size=\"14.00\" fill=\"#000000\">value = 2.089</text>\n</g>\n<!-- 43&#45;&gt;57 -->\n<g id=\"edge12\" class=\"edge\">\n<title>43&#45;&gt;57</title>\n<path fill=\"none\" stroke=\"#000000\" d=\"M370.6191,-192.9465C361.3729,-183.7884 351.2721,-173.7838 341.6757,-164.2788\"/>\n<polygon fill=\"#000000\" stroke=\"#000000\" points=\"344.026,-161.6805 334.4582,-157.13 339.1,-166.6539 344.026,-161.6805\"/>\n</g>\n<!-- 58 -->\n<g id=\"node16\" class=\"node\">\n<title>58</title>\n<polygon fill=\"#ea9b62\" stroke=\"#000000\" points=\"478,-149.5 374,-149.5 374,-96.5 478,-96.5 478,-149.5\"/>\n<text text-anchor=\"middle\" x=\"426\" y=\"-134.3\" font-family=\"Helvetica,sans-Serif\" font-size=\"14.00\" fill=\"#000000\">mse = 1.129</text>\n<text text-anchor=\"middle\" x=\"426\" y=\"-119.3\" font-family=\"Helvetica,sans-Serif\" font-size=\"14.00\" fill=\"#000000\">samples = 10</text>\n<text text-anchor=\"middle\" x=\"426\" y=\"-104.3\" font-family=\"Helvetica,sans-Serif\" font-size=\"14.00\" fill=\"#000000\">value = 3.906</text>\n</g>\n<!-- 43&#45;&gt;58 -->\n<g id=\"edge15\" class=\"edge\">\n<title>43&#45;&gt;58</title>\n<path fill=\"none\" stroke=\"#000000\" d=\"M411.8762,-192.9465C414.0336,-182.2621 416.4237,-170.4254 418.6148,-159.5742\"/>\n<polygon fill=\"#000000\" stroke=\"#000000\" points=\"422.0919,-160.0371 420.6405,-149.5422 415.2304,-158.6516 422.0919,-160.0371\"/>\n</g>\n<!-- 123 -->\n<g id=\"node14\" class=\"node\">\n<title>123</title>\n<polygon fill=\"#f5cfb3\" stroke=\"#000000\" points=\"299,-53 195,-53 195,0 299,0 299,-53\"/>\n<text text-anchor=\"middle\" x=\"247\" y=\"-37.8\" font-family=\"Helvetica,sans-Serif\" font-size=\"14.00\" fill=\"#000000\">mse = 0.983</text>\n<text text-anchor=\"middle\" x=\"247\" y=\"-22.8\" font-family=\"Helvetica,sans-Serif\" font-size=\"14.00\" fill=\"#000000\">samples = 21</text>\n<text text-anchor=\"middle\" x=\"247\" y=\"-7.8\" font-family=\"Helvetica,sans-Serif\" font-size=\"14.00\" fill=\"#000000\">value = 2.729</text>\n</g>\n<!-- 57&#45;&gt;123 -->\n<g id=\"edge13\" class=\"edge\">\n<title>57&#45;&gt;123</title>\n<path fill=\"none\" stroke=\"#000000\" d=\"M281.3142,-88.9777C276.5364,-80.2786 271.3865,-70.9018 266.5659,-62.1247\"/>\n<polygon fill=\"#000000\" stroke=\"#000000\" points=\"269.5726,-60.3286 261.6909,-53.2485 263.4371,-63.6984 269.5726,-60.3286\"/>\n</g>\n<!-- 124 -->\n<g id=\"node15\" class=\"node\">\n<title>124</title>\n<polygon fill=\"#fbeee4\" stroke=\"#000000\" points=\"429,-53 317,-53 317,0 429,0 429,-53\"/>\n<text text-anchor=\"middle\" x=\"373\" y=\"-37.8\" font-family=\"Helvetica,sans-Serif\" font-size=\"14.00\" fill=\"#000000\">mse = 0.956</text>\n<text text-anchor=\"middle\" x=\"373\" y=\"-22.8\" font-family=\"Helvetica,sans-Serif\" font-size=\"14.00\" fill=\"#000000\">samples = 214</text>\n<text text-anchor=\"middle\" x=\"373\" y=\"-7.8\" font-family=\"Helvetica,sans-Serif\" font-size=\"14.00\" fill=\"#000000\">value = 2.026</text>\n</g>\n<!-- 57&#45;&gt;124 -->\n<g id=\"edge14\" class=\"edge\">\n<title>57&#45;&gt;124</title>\n<path fill=\"none\" stroke=\"#000000\" d=\"M325.7371,-88.9777C332.5256,-80.0039 339.8596,-70.3089 346.6784,-61.295\"/>\n<polygon fill=\"#000000\" stroke=\"#000000\" points=\"349.5237,-63.3352 352.7654,-53.2485 343.941,-59.1121 349.5237,-63.3352\"/>\n</g>\n<!-- 105 -->\n<g id=\"node18\" class=\"node\">\n<title>105</title>\n<polygon fill=\"#e88f4f\" stroke=\"#000000\" points=\"600,-149.5 496,-149.5 496,-96.5 600,-96.5 600,-149.5\"/>\n<text text-anchor=\"middle\" x=\"548\" y=\"-134.3\" font-family=\"Helvetica,sans-Serif\" font-size=\"14.00\" fill=\"#000000\">mse = 0.149</text>\n<text text-anchor=\"middle\" x=\"548\" y=\"-119.3\" font-family=\"Helvetica,sans-Serif\" font-size=\"14.00\" fill=\"#000000\">samples = 14</text>\n<text text-anchor=\"middle\" x=\"548\" y=\"-104.3\" font-family=\"Helvetica,sans-Serif\" font-size=\"14.00\" fill=\"#000000\">value = 4.191</text>\n</g>\n<!-- 44&#45;&gt;105 -->\n<g id=\"edge17\" class=\"edge\">\n<title>44&#45;&gt;105</title>\n<path fill=\"none\" stroke=\"#000000\" d=\"M561.4513,-192.9465C559.3965,-182.2621 557.1203,-170.4254 555.0335,-159.5742\"/>\n<polygon fill=\"#000000\" stroke=\"#000000\" points=\"558.4298,-158.7012 553.1043,-149.5422 551.5558,-160.0232 558.4298,-158.7012\"/>\n</g>\n<!-- 106 -->\n<g id=\"node19\" class=\"node\">\n<title>106</title>\n<polygon fill=\"#f2c09b\" stroke=\"#000000\" points=\"722,-157 618,-157 618,-89 722,-89 722,-157\"/>\n<text text-anchor=\"middle\" x=\"670\" y=\"-141.8\" font-family=\"Helvetica,sans-Serif\" font-size=\"14.00\" fill=\"#000000\">Hour &lt;= 14.5</text>\n<text text-anchor=\"middle\" x=\"670\" y=\"-126.8\" font-family=\"Helvetica,sans-Serif\" font-size=\"14.00\" fill=\"#000000\">mse = 1.659</text>\n<text text-anchor=\"middle\" x=\"670\" y=\"-111.8\" font-family=\"Helvetica,sans-Serif\" font-size=\"14.00\" fill=\"#000000\">samples = 31</text>\n<text text-anchor=\"middle\" x=\"670\" y=\"-96.8\" font-family=\"Helvetica,sans-Serif\" font-size=\"14.00\" fill=\"#000000\">value = 3.077</text>\n</g>\n<!-- 44&#45;&gt;106 -->\n<g id=\"edge18\" class=\"edge\">\n<title>44&#45;&gt;106</title>\n<path fill=\"none\" stroke=\"#000000\" d=\"M601.3986,-192.9465C610.3806,-183.7884 620.1928,-173.7838 629.515,-164.2788\"/>\n<polygon fill=\"#000000\" stroke=\"#000000\" points=\"632.023,-166.7201 636.5263,-157.13 627.0254,-161.8187 632.023,-166.7201\"/>\n</g>\n<!-- 107 -->\n<g id=\"node20\" class=\"node\">\n<title>107</title>\n<polygon fill=\"#fae8da\" stroke=\"#000000\" points=\"612,-53 508,-53 508,0 612,0 612,-53\"/>\n<text text-anchor=\"middle\" x=\"560\" y=\"-37.8\" font-family=\"Helvetica,sans-Serif\" font-size=\"14.00\" fill=\"#000000\">mse = 2.037</text>\n<text text-anchor=\"middle\" x=\"560\" y=\"-22.8\" font-family=\"Helvetica,sans-Serif\" font-size=\"14.00\" fill=\"#000000\">samples = 10</text>\n<text text-anchor=\"middle\" x=\"560\" y=\"-7.8\" font-family=\"Helvetica,sans-Serif\" font-size=\"14.00\" fill=\"#000000\">value = 2.163</text>\n</g>\n<!-- 106&#45;&gt;107 -->\n<g id=\"edge19\" class=\"edge\">\n<title>106&#45;&gt;107</title>\n<path fill=\"none\" stroke=\"#000000\" d=\"M631.2181,-88.9777C620.467,-79.546 608.8078,-69.3178 598.0962,-59.9208\"/>\n<polygon fill=\"#000000\" stroke=\"#000000\" points=\"600.316,-57.2122 590.4905,-53.2485 595.6996,-62.4743 600.316,-57.2122\"/>\n</g>\n<!-- 108 -->\n<g id=\"node21\" class=\"node\">\n<title>108</title>\n<polygon fill=\"#eead7d\" stroke=\"#000000\" points=\"734,-53 630,-53 630,0 734,0 734,-53\"/>\n<text text-anchor=\"middle\" x=\"682\" y=\"-37.8\" font-family=\"Helvetica,sans-Serif\" font-size=\"14.00\" fill=\"#000000\">mse = 0.893</text>\n<text text-anchor=\"middle\" x=\"682\" y=\"-22.8\" font-family=\"Helvetica,sans-Serif\" font-size=\"14.00\" fill=\"#000000\">samples = 21</text>\n<text text-anchor=\"middle\" x=\"682\" y=\"-7.8\" font-family=\"Helvetica,sans-Serif\" font-size=\"14.00\" fill=\"#000000\">value = 3.512</text>\n</g>\n<!-- 106&#45;&gt;108 -->\n<g id=\"edge20\" class=\"edge\">\n<title>106&#45;&gt;108</title>\n<path fill=\"none\" stroke=\"#000000\" d=\"M674.2308,-88.9777C675.267,-80.6449 676.3805,-71.6903 677.4317,-63.2364\"/>\n<polygon fill=\"#000000\" stroke=\"#000000\" points=\"680.9129,-63.604 678.6738,-53.2485 673.9664,-62.7401 680.9129,-63.604\"/>\n</g>\n<!-- 37 -->\n<g id=\"node23\" class=\"node\">\n<title>37</title>\n<polygon fill=\"#fefaf7\" stroke=\"#000000\" points=\"1237,-365 1105,-365 1105,-297 1237,-297 1237,-365\"/>\n<text text-anchor=\"middle\" x=\"1171\" y=\"-349.8\" font-family=\"Helvetica,sans-Serif\" font-size=\"14.00\" fill=\"#000000\">distance &lt;= 0.148</text>\n<text text-anchor=\"middle\" x=\"1171\" y=\"-334.8\" font-family=\"Helvetica,sans-Serif\" font-size=\"14.00\" fill=\"#000000\">mse = 0.108</text>\n<text text-anchor=\"middle\" x=\"1171\" y=\"-319.8\" font-family=\"Helvetica,sans-Serif\" font-size=\"14.00\" fill=\"#000000\">samples = 15227</text>\n<text text-anchor=\"middle\" x=\"1171\" y=\"-304.8\" font-family=\"Helvetica,sans-Serif\" font-size=\"14.00\" fill=\"#000000\">value = 1.753</text>\n</g>\n<!-- 20&#45;&gt;37 -->\n<g id=\"edge22\" class=\"edge\">\n<title>20&#45;&gt;37</title>\n<path fill=\"none\" stroke=\"#000000\" d=\"M1219.4245,-400.9465C1213.3329,-392.1475 1206.7004,-382.5672 1200.3534,-373.3993\"/>\n<polygon fill=\"#000000\" stroke=\"#000000\" points=\"1203.1983,-371.3597 1194.6285,-365.13 1197.4429,-375.3442 1203.1983,-371.3597\"/>\n</g>\n<!-- 38 -->\n<g id=\"node36\" class=\"node\">\n<title>38</title>\n<polygon fill=\"#fdf5ef\" stroke=\"#000000\" points=\"1375,-365 1255,-365 1255,-297 1375,-297 1375,-365\"/>\n<text text-anchor=\"middle\" x=\"1315\" y=\"-349.8\" font-family=\"Helvetica,sans-Serif\" font-size=\"14.00\" fill=\"#000000\">year &lt;= 2012.5</text>\n<text text-anchor=\"middle\" x=\"1315\" y=\"-334.8\" font-family=\"Helvetica,sans-Serif\" font-size=\"14.00\" fill=\"#000000\">mse = 0.05</text>\n<text text-anchor=\"middle\" x=\"1315\" y=\"-319.8\" font-family=\"Helvetica,sans-Serif\" font-size=\"14.00\" fill=\"#000000\">samples = 9722</text>\n<text text-anchor=\"middle\" x=\"1315\" y=\"-304.8\" font-family=\"Helvetica,sans-Serif\" font-size=\"14.00\" fill=\"#000000\">value = 1.859</text>\n</g>\n<!-- 20&#45;&gt;38 -->\n<g id=\"edge35\" class=\"edge\">\n<title>20&#45;&gt;38</title>\n<path fill=\"none\" stroke=\"#000000\" d=\"M1266.5755,-400.9465C1272.6671,-392.1475 1279.2996,-382.5672 1285.6466,-373.3993\"/>\n<polygon fill=\"#000000\" stroke=\"#000000\" points=\"1288.5571,-375.3442 1291.3715,-365.13 1282.8017,-371.3597 1288.5571,-375.3442\"/>\n</g>\n<!-- 51 -->\n<g id=\"node24\" class=\"node\">\n<title>51</title>\n<polygon fill=\"#fcf1e9\" stroke=\"#000000\" points=\"1050,-261 858,-261 858,-193 1050,-193 1050,-261\"/>\n<text text-anchor=\"middle\" x=\"954\" y=\"-245.8\" font-family=\"Helvetica,sans-Serif\" font-size=\"14.00\" fill=\"#000000\">pickup_longitude &lt;= &#45;74.03</text>\n<text text-anchor=\"middle\" x=\"954\" y=\"-230.8\" font-family=\"Helvetica,sans-Serif\" font-size=\"14.00\" fill=\"#000000\">mse = 0.648</text>\n<text text-anchor=\"middle\" x=\"954\" y=\"-215.8\" font-family=\"Helvetica,sans-Serif\" font-size=\"14.00\" fill=\"#000000\">samples = 790</text>\n<text text-anchor=\"middle\" x=\"954\" y=\"-200.8\" font-family=\"Helvetica,sans-Serif\" font-size=\"14.00\" fill=\"#000000\">value = 1.952</text>\n</g>\n<!-- 37&#45;&gt;51 -->\n<g id=\"edge23\" class=\"edge\">\n<title>37&#45;&gt;51</title>\n<path fill=\"none\" stroke=\"#000000\" d=\"M1104.7137,-299.2315C1082.4869,-288.579 1057.4599,-276.5845 1034.2798,-265.4751\"/>\n<polygon fill=\"#000000\" stroke=\"#000000\" points=\"1035.6877,-262.2687 1025.1572,-261.103 1032.6623,-268.5812 1035.6877,-262.2687\"/>\n</g>\n<!-- 52 -->\n<g id=\"node29\" class=\"node\">\n<title>52</title>\n<polygon fill=\"#fefaf8\" stroke=\"#000000\" points=\"1237,-261 1105,-261 1105,-193 1237,-193 1237,-261\"/>\n<text text-anchor=\"middle\" x=\"1171\" y=\"-245.8\" font-family=\"Helvetica,sans-Serif\" font-size=\"14.00\" fill=\"#000000\">distance &lt;= 0.504</text>\n<text text-anchor=\"middle\" x=\"1171\" y=\"-230.8\" font-family=\"Helvetica,sans-Serif\" font-size=\"14.00\" fill=\"#000000\">mse = 0.076</text>\n<text text-anchor=\"middle\" x=\"1171\" y=\"-215.8\" font-family=\"Helvetica,sans-Serif\" font-size=\"14.00\" fill=\"#000000\">samples = 14437</text>\n<text text-anchor=\"middle\" x=\"1171\" y=\"-200.8\" font-family=\"Helvetica,sans-Serif\" font-size=\"14.00\" fill=\"#000000\">value = 1.742</text>\n</g>\n<!-- 37&#45;&gt;52 -->\n<g id=\"edge28\" class=\"edge\">\n<title>37&#45;&gt;52</title>\n<path fill=\"none\" stroke=\"#000000\" d=\"M1171,-296.9465C1171,-288.776 1171,-279.9318 1171,-271.3697\"/>\n<polygon fill=\"#000000\" stroke=\"#000000\" points=\"1174.5001,-271.13 1171,-261.13 1167.5001,-271.13 1174.5001,-271.13\"/>\n</g>\n<!-- 63 -->\n<g id=\"node25\" class=\"node\">\n<title>63</title>\n<polygon fill=\"#eead7e\" stroke=\"#000000\" points=\"844,-149.5 740,-149.5 740,-96.5 844,-96.5 844,-149.5\"/>\n<text text-anchor=\"middle\" x=\"792\" y=\"-134.3\" font-family=\"Helvetica,sans-Serif\" font-size=\"14.00\" fill=\"#000000\">mse = 1.048</text>\n<text text-anchor=\"middle\" x=\"792\" y=\"-119.3\" font-family=\"Helvetica,sans-Serif\" font-size=\"14.00\" fill=\"#000000\">samples = 11</text>\n<text text-anchor=\"middle\" x=\"792\" y=\"-104.3\" font-family=\"Helvetica,sans-Serif\" font-size=\"14.00\" fill=\"#000000\">value = 3.511</text>\n</g>\n<!-- 51&#45;&gt;63 -->\n<g id=\"edge24\" class=\"edge\">\n<title>51&#45;&gt;63</title>\n<path fill=\"none\" stroke=\"#000000\" d=\"M900.9551,-192.9465C881.9957,-180.775 860.7073,-167.1084 842.0121,-155.1066\"/>\n<polygon fill=\"#000000\" stroke=\"#000000\" points=\"843.6505,-151.9992 833.3445,-149.5422 839.8689,-157.8898 843.6505,-151.9992\"/>\n</g>\n<!-- 64 -->\n<g id=\"node26\" class=\"node\">\n<title>64</title>\n<polygon fill=\"#fcf2eb\" stroke=\"#000000\" points=\"1045.5,-157 862.5,-157 862.5,-89 1045.5,-89 1045.5,-157\"/>\n<text text-anchor=\"middle\" x=\"954\" y=\"-141.8\" font-family=\"Helvetica,sans-Serif\" font-size=\"14.00\" fill=\"#000000\">pickup_latitude &lt;= 40.766</text>\n<text text-anchor=\"middle\" x=\"954\" y=\"-126.8\" font-family=\"Helvetica,sans-Serif\" font-size=\"14.00\" fill=\"#000000\">mse = 0.608</text>\n<text text-anchor=\"middle\" x=\"954\" y=\"-111.8\" font-family=\"Helvetica,sans-Serif\" font-size=\"14.00\" fill=\"#000000\">samples = 779</text>\n<text text-anchor=\"middle\" x=\"954\" y=\"-96.8\" font-family=\"Helvetica,sans-Serif\" font-size=\"14.00\" fill=\"#000000\">value = 1.93</text>\n</g>\n<!-- 51&#45;&gt;64 -->\n<g id=\"edge25\" class=\"edge\">\n<title>51&#45;&gt;64</title>\n<path fill=\"none\" stroke=\"#000000\" d=\"M954,-192.9465C954,-184.776 954,-175.9318 954,-167.3697\"/>\n<polygon fill=\"#000000\" stroke=\"#000000\" points=\"957.5001,-167.13 954,-157.13 950.5001,-167.13 957.5001,-167.13\"/>\n</g>\n<!-- 119 -->\n<g id=\"node27\" class=\"node\">\n<title>119</title>\n<polygon fill=\"#fdf5ef\" stroke=\"#000000\" points=\"878,-53 766,-53 766,0 878,0 878,-53\"/>\n<text text-anchor=\"middle\" x=\"822\" y=\"-37.8\" font-family=\"Helvetica,sans-Serif\" font-size=\"14.00\" fill=\"#000000\">mse = 0.565</text>\n<text text-anchor=\"middle\" x=\"822\" y=\"-22.8\" font-family=\"Helvetica,sans-Serif\" font-size=\"14.00\" fill=\"#000000\">samples = 598</text>\n<text text-anchor=\"middle\" x=\"822\" y=\"-7.8\" font-family=\"Helvetica,sans-Serif\" font-size=\"14.00\" fill=\"#000000\">value = 1.867</text>\n</g>\n<!-- 64&#45;&gt;119 -->\n<g id=\"edge26\" class=\"edge\">\n<title>64&#45;&gt;119</title>\n<path fill=\"none\" stroke=\"#000000\" d=\"M907.4617,-88.9777C894.3099,-79.3629 880.0257,-68.9203 866.968,-59.3743\"/>\n<polygon fill=\"#000000\" stroke=\"#000000\" points=\"868.727,-56.3247 858.5886,-53.2485 864.5958,-61.9757 868.727,-56.3247\"/>\n</g>\n<!-- 120 -->\n<g id=\"node28\" class=\"node\">\n<title>120</title>\n<polygon fill=\"#fae9dc\" stroke=\"#000000\" points=\"1008,-53 896,-53 896,0 1008,0 1008,-53\"/>\n<text text-anchor=\"middle\" x=\"952\" y=\"-37.8\" font-family=\"Helvetica,sans-Serif\" font-size=\"14.00\" fill=\"#000000\">mse = 0.694</text>\n<text text-anchor=\"middle\" x=\"952\" y=\"-22.8\" font-family=\"Helvetica,sans-Serif\" font-size=\"14.00\" fill=\"#000000\">samples = 181</text>\n<text text-anchor=\"middle\" x=\"952\" y=\"-7.8\" font-family=\"Helvetica,sans-Serif\" font-size=\"14.00\" fill=\"#000000\">value = 2.135</text>\n</g>\n<!-- 64&#45;&gt;120 -->\n<g id=\"edge27\" class=\"edge\">\n<title>64&#45;&gt;120</title>\n<path fill=\"none\" stroke=\"#000000\" d=\"M953.2949,-88.9777C953.1241,-80.7364 952.9407,-71.887 952.7672,-63.5153\"/>\n<polygon fill=\"#000000\" stroke=\"#000000\" points=\"956.2609,-63.1738 952.5544,-53.2485 949.2624,-63.3189 956.2609,-63.1738\"/>\n</g>\n<!-- 83 -->\n<g id=\"node30\" class=\"node\">\n<title>83</title>\n<polygon fill=\"#fefcfa\" stroke=\"#000000\" points=\"1271,-157 1071,-157 1071,-89 1271,-89 1271,-157\"/>\n<text text-anchor=\"middle\" x=\"1171\" y=\"-141.8\" font-family=\"Helvetica,sans-Serif\" font-size=\"14.00\" fill=\"#000000\">pickup_longitude &lt;= &#45;73.871</text>\n<text text-anchor=\"middle\" x=\"1171\" y=\"-126.8\" font-family=\"Helvetica,sans-Serif\" font-size=\"14.00\" fill=\"#000000\">mse = 0.101</text>\n<text text-anchor=\"middle\" x=\"1171\" y=\"-111.8\" font-family=\"Helvetica,sans-Serif\" font-size=\"14.00\" fill=\"#000000\">samples = 7234</text>\n<text text-anchor=\"middle\" x=\"1171\" y=\"-96.8\" font-family=\"Helvetica,sans-Serif\" font-size=\"14.00\" fill=\"#000000\">value = 1.709</text>\n</g>\n<!-- 52&#45;&gt;83 -->\n<g id=\"edge29\" class=\"edge\">\n<title>52&#45;&gt;83</title>\n<path fill=\"none\" stroke=\"#000000\" d=\"M1171,-192.9465C1171,-184.776 1171,-175.9318 1171,-167.3697\"/>\n<polygon fill=\"#000000\" stroke=\"#000000\" points=\"1174.5001,-167.13 1171,-157.13 1167.5001,-167.13 1174.5001,-167.13\"/>\n</g>\n<!-- 84 -->\n<g id=\"node33\" class=\"node\">\n<title>84</title>\n<polygon fill=\"#fef9f5\" stroke=\"#000000\" points=\"1412,-157 1292,-157 1292,-89 1412,-89 1412,-157\"/>\n<text text-anchor=\"middle\" x=\"1352\" y=\"-141.8\" font-family=\"Helvetica,sans-Serif\" font-size=\"14.00\" fill=\"#000000\">year &lt;= 2012.5</text>\n<text text-anchor=\"middle\" x=\"1352\" y=\"-126.8\" font-family=\"Helvetica,sans-Serif\" font-size=\"14.00\" fill=\"#000000\">mse = 0.049</text>\n<text text-anchor=\"middle\" x=\"1352\" y=\"-111.8\" font-family=\"Helvetica,sans-Serif\" font-size=\"14.00\" fill=\"#000000\">samples = 7203</text>\n<text text-anchor=\"middle\" x=\"1352\" y=\"-96.8\" font-family=\"Helvetica,sans-Serif\" font-size=\"14.00\" fill=\"#000000\">value = 1.776</text>\n</g>\n<!-- 52&#45;&gt;84 -->\n<g id=\"edge32\" class=\"edge\">\n<title>52&#45;&gt;84</title>\n<path fill=\"none\" stroke=\"#000000\" d=\"M1230.2662,-192.9465C1247.2986,-183.1599 1266.0134,-172.4066 1283.5517,-162.3294\"/>\n<polygon fill=\"#000000\" stroke=\"#000000\" points=\"1285.6738,-165.1468 1292.6007,-157.13 1282.1863,-159.0773 1285.6738,-165.1468\"/>\n</g>\n<!-- 85 -->\n<g id=\"node31\" class=\"node\">\n<title>85</title>\n<polygon fill=\"#fefcfa\" stroke=\"#000000\" points=\"1146,-53 1026,-53 1026,0 1146,0 1146,-53\"/>\n<text text-anchor=\"middle\" x=\"1086\" y=\"-37.8\" font-family=\"Helvetica,sans-Serif\" font-size=\"14.00\" fill=\"#000000\">mse = 0.092</text>\n<text text-anchor=\"middle\" x=\"1086\" y=\"-22.8\" font-family=\"Helvetica,sans-Serif\" font-size=\"14.00\" fill=\"#000000\">samples = 7131</text>\n<text text-anchor=\"middle\" x=\"1086\" y=\"-7.8\" font-family=\"Helvetica,sans-Serif\" font-size=\"14.00\" fill=\"#000000\">value = 1.703</text>\n</g>\n<!-- 83&#45;&gt;85 -->\n<g id=\"edge30\" class=\"edge\">\n<title>83&#45;&gt;85</title>\n<path fill=\"none\" stroke=\"#000000\" d=\"M1141.0322,-88.9777C1133.0471,-79.9123 1124.4138,-70.111 1116.4056,-61.0192\"/>\n<polygon fill=\"#000000\" stroke=\"#000000\" points=\"1118.7971,-58.4391 1109.5608,-53.2485 1113.5442,-63.066 1118.7971,-58.4391\"/>\n</g>\n<!-- 86 -->\n<g id=\"node32\" class=\"node\">\n<title>86</title>\n<polygon fill=\"#fae8db\" stroke=\"#000000\" points=\"1276,-53 1164,-53 1164,0 1276,0 1276,-53\"/>\n<text text-anchor=\"middle\" x=\"1220\" y=\"-37.8\" font-family=\"Helvetica,sans-Serif\" font-size=\"14.00\" fill=\"#000000\">mse = 0.536</text>\n<text text-anchor=\"middle\" x=\"1220\" y=\"-22.8\" font-family=\"Helvetica,sans-Serif\" font-size=\"14.00\" fill=\"#000000\">samples = 103</text>\n<text text-anchor=\"middle\" x=\"1220\" y=\"-7.8\" font-family=\"Helvetica,sans-Serif\" font-size=\"14.00\" fill=\"#000000\">value = 2.153</text>\n</g>\n<!-- 83&#45;&gt;86 -->\n<g id=\"edge31\" class=\"edge\">\n<title>83&#45;&gt;86</title>\n<path fill=\"none\" stroke=\"#000000\" d=\"M1188.2756,-88.9777C1192.6462,-80.3702 1197.3538,-71.0992 1201.77,-62.402\"/>\n<polygon fill=\"#000000\" stroke=\"#000000\" points=\"1205.0111,-63.7495 1206.4179,-53.2485 1198.7696,-60.5802 1205.0111,-63.7495\"/>\n</g>\n<!-- 111 -->\n<g id=\"node34\" class=\"node\">\n<title>111</title>\n<polygon fill=\"#fefaf7\" stroke=\"#000000\" points=\"1414,-53 1294,-53 1294,0 1414,0 1414,-53\"/>\n<text text-anchor=\"middle\" x=\"1354\" y=\"-37.8\" font-family=\"Helvetica,sans-Serif\" font-size=\"14.00\" fill=\"#000000\">mse = 0.045</text>\n<text text-anchor=\"middle\" x=\"1354\" y=\"-22.8\" font-family=\"Helvetica,sans-Serif\" font-size=\"14.00\" fill=\"#000000\">samples = 4416</text>\n<text text-anchor=\"middle\" x=\"1354\" y=\"-7.8\" font-family=\"Helvetica,sans-Serif\" font-size=\"14.00\" fill=\"#000000\">value = 1.744</text>\n</g>\n<!-- 84&#45;&gt;111 -->\n<g id=\"edge33\" class=\"edge\">\n<title>84&#45;&gt;111</title>\n<path fill=\"none\" stroke=\"#000000\" d=\"M1352.7051,-88.9777C1352.8759,-80.7364 1353.0593,-71.887 1353.2328,-63.5153\"/>\n<polygon fill=\"#000000\" stroke=\"#000000\" points=\"1356.7376,-63.3189 1353.4456,-53.2485 1349.7391,-63.1738 1356.7376,-63.3189\"/>\n</g>\n<!-- 112 -->\n<g id=\"node35\" class=\"node\">\n<title>112</title>\n<polygon fill=\"#fdf7f2\" stroke=\"#000000\" points=\"1552,-53 1432,-53 1432,0 1552,0 1552,-53\"/>\n<text text-anchor=\"middle\" x=\"1492\" y=\"-37.8\" font-family=\"Helvetica,sans-Serif\" font-size=\"14.00\" fill=\"#000000\">mse = 0.051</text>\n<text text-anchor=\"middle\" x=\"1492\" y=\"-22.8\" font-family=\"Helvetica,sans-Serif\" font-size=\"14.00\" fill=\"#000000\">samples = 2787</text>\n<text text-anchor=\"middle\" x=\"1492\" y=\"-7.8\" font-family=\"Helvetica,sans-Serif\" font-size=\"14.00\" fill=\"#000000\">value = 1.827</text>\n</g>\n<!-- 84&#45;&gt;112 -->\n<g id=\"edge34\" class=\"edge\">\n<title>84&#45;&gt;112</title>\n<path fill=\"none\" stroke=\"#000000\" d=\"M1401.3588,-88.9777C1415.4406,-79.2713 1430.7463,-68.7213 1444.702,-59.1018\"/>\n<polygon fill=\"#000000\" stroke=\"#000000\" points=\"1446.9467,-61.8055 1453.1939,-53.2485 1442.974,-56.042 1446.9467,-61.8055\"/>\n</g>\n<!-- 61 -->\n<g id=\"node37\" class=\"node\">\n<title>61</title>\n<polygon fill=\"#fdf7f2\" stroke=\"#000000\" points=\"1375,-253.5 1255,-253.5 1255,-200.5 1375,-200.5 1375,-253.5\"/>\n<text text-anchor=\"middle\" x=\"1315\" y=\"-238.3\" font-family=\"Helvetica,sans-Serif\" font-size=\"14.00\" fill=\"#000000\">mse = 0.045</text>\n<text text-anchor=\"middle\" x=\"1315\" y=\"-223.3\" font-family=\"Helvetica,sans-Serif\" font-size=\"14.00\" fill=\"#000000\">samples = 6058</text>\n<text text-anchor=\"middle\" x=\"1315\" y=\"-208.3\" font-family=\"Helvetica,sans-Serif\" font-size=\"14.00\" fill=\"#000000\">value = 1.817</text>\n</g>\n<!-- 38&#45;&gt;61 -->\n<g id=\"edge36\" class=\"edge\">\n<title>38&#45;&gt;61</title>\n<path fill=\"none\" stroke=\"#000000\" d=\"M1315,-296.9465C1315,-286.2621 1315,-274.4254 1315,-263.5742\"/>\n<polygon fill=\"#000000\" stroke=\"#000000\" points=\"1318.5001,-263.5421 1315,-253.5422 1311.5001,-263.5422 1318.5001,-263.5421\"/>\n</g>\n<!-- 62 -->\n<g id=\"node38\" class=\"node\">\n<title>62</title>\n<polygon fill=\"#fcf2eb\" stroke=\"#000000\" points=\"1593,-261 1393,-261 1393,-193 1593,-193 1593,-261\"/>\n<text text-anchor=\"middle\" x=\"1493\" y=\"-245.8\" font-family=\"Helvetica,sans-Serif\" font-size=\"14.00\" fill=\"#000000\">pickup_longitude &lt;= &#45;74.021</text>\n<text text-anchor=\"middle\" x=\"1493\" y=\"-230.8\" font-family=\"Helvetica,sans-Serif\" font-size=\"14.00\" fill=\"#000000\">mse = 0.052</text>\n<text text-anchor=\"middle\" x=\"1493\" y=\"-215.8\" font-family=\"Helvetica,sans-Serif\" font-size=\"14.00\" fill=\"#000000\">samples = 3664</text>\n<text text-anchor=\"middle\" x=\"1493\" y=\"-200.8\" font-family=\"Helvetica,sans-Serif\" font-size=\"14.00\" fill=\"#000000\">value = 1.927</text>\n</g>\n<!-- 38&#45;&gt;62 -->\n<g id=\"edge37\" class=\"edge\">\n<title>38&#45;&gt;62</title>\n<path fill=\"none\" stroke=\"#000000\" d=\"M1373.2839,-296.9465C1390.034,-287.1599 1408.4386,-276.4066 1425.6862,-266.3294\"/>\n<polygon fill=\"#000000\" stroke=\"#000000\" points=\"1427.7166,-269.1968 1434.5852,-261.13 1424.1852,-263.1528 1427.7166,-269.1968\"/>\n</g>\n<!-- 185 -->\n<g id=\"node39\" class=\"node\">\n<title>185</title>\n<polygon fill=\"#e89152\" stroke=\"#000000\" points=\"1534,-149.5 1430,-149.5 1430,-96.5 1534,-96.5 1534,-149.5\"/>\n<text text-anchor=\"middle\" x=\"1482\" y=\"-134.3\" font-family=\"Helvetica,sans-Serif\" font-size=\"14.00\" fill=\"#000000\">mse = 0.0</text>\n<text text-anchor=\"middle\" x=\"1482\" y=\"-119.3\" font-family=\"Helvetica,sans-Serif\" font-size=\"14.00\" fill=\"#000000\">samples = 1</text>\n<text text-anchor=\"middle\" x=\"1482\" y=\"-104.3\" font-family=\"Helvetica,sans-Serif\" font-size=\"14.00\" fill=\"#000000\">value = 4.143</text>\n</g>\n<!-- 62&#45;&gt;185 -->\n<g id=\"edge38\" class=\"edge\">\n<title>62&#45;&gt;185</title>\n<path fill=\"none\" stroke=\"#000000\" d=\"M1489.3982,-192.9465C1488.2681,-182.2621 1487.0162,-170.4254 1485.8684,-159.5742\"/>\n<polygon fill=\"#000000\" stroke=\"#000000\" points=\"1489.3398,-159.1185 1484.8073,-149.5422 1482.3787,-159.8549 1489.3398,-159.1185\"/>\n</g>\n<!-- 186 -->\n<g id=\"node40\" class=\"node\">\n<title>186</title>\n<polygon fill=\"#fcf2eb\" stroke=\"#000000\" points=\"1737.5,-157 1552.5,-157 1552.5,-89 1737.5,-89 1737.5,-157\"/>\n<text text-anchor=\"middle\" x=\"1645\" y=\"-141.8\" font-family=\"Helvetica,sans-Serif\" font-size=\"14.00\" fill=\"#000000\">dropoff_latitude &lt;= 40.767</text>\n<text text-anchor=\"middle\" x=\"1645\" y=\"-126.8\" font-family=\"Helvetica,sans-Serif\" font-size=\"14.00\" fill=\"#000000\">mse = 0.051</text>\n<text text-anchor=\"middle\" x=\"1645\" y=\"-111.8\" font-family=\"Helvetica,sans-Serif\" font-size=\"14.00\" fill=\"#000000\">samples = 3663</text>\n<text text-anchor=\"middle\" x=\"1645\" y=\"-96.8\" font-family=\"Helvetica,sans-Serif\" font-size=\"14.00\" fill=\"#000000\">value = 1.926</text>\n</g>\n<!-- 62&#45;&gt;186 -->\n<g id=\"edge39\" class=\"edge\">\n<title>62&#45;&gt;186</title>\n<path fill=\"none\" stroke=\"#000000\" d=\"M1542.7705,-192.9465C1556.8115,-183.3395 1572.214,-172.8009 1586.7068,-162.8848\"/>\n<polygon fill=\"#000000\" stroke=\"#000000\" points=\"1588.841,-165.6655 1595.1177,-157.13 1584.8882,-159.8883 1588.841,-165.6655\"/>\n</g>\n<!-- 187 -->\n<g id=\"node41\" class=\"node\">\n<title>187</title>\n<polygon fill=\"#fcf1e9\" stroke=\"#000000\" points=\"1697,-53 1577,-53 1577,0 1697,0 1697,-53\"/>\n<text text-anchor=\"middle\" x=\"1637\" y=\"-37.8\" font-family=\"Helvetica,sans-Serif\" font-size=\"14.00\" fill=\"#000000\">mse = 0.051</text>\n<text text-anchor=\"middle\" x=\"1637\" y=\"-22.8\" font-family=\"Helvetica,sans-Serif\" font-size=\"14.00\" fill=\"#000000\">samples = 2801</text>\n<text text-anchor=\"middle\" x=\"1637\" y=\"-7.8\" font-family=\"Helvetica,sans-Serif\" font-size=\"14.00\" fill=\"#000000\">value = 1.949</text>\n</g>\n<!-- 186&#45;&gt;187 -->\n<g id=\"edge40\" class=\"edge\">\n<title>186&#45;&gt;187</title>\n<path fill=\"none\" stroke=\"#000000\" d=\"M1642.1795,-88.9777C1641.4887,-80.6449 1640.7463,-71.6903 1640.0455,-63.2364\"/>\n<polygon fill=\"#000000\" stroke=\"#000000\" points=\"1643.5318,-62.9251 1639.2175,-53.2485 1636.5557,-63.5035 1643.5318,-62.9251\"/>\n</g>\n<!-- 188 -->\n<g id=\"node42\" class=\"node\">\n<title>188</title>\n<polygon fill=\"#fdf5f0\" stroke=\"#000000\" points=\"1827,-53 1715,-53 1715,0 1827,0 1827,-53\"/>\n<text text-anchor=\"middle\" x=\"1771\" y=\"-37.8\" font-family=\"Helvetica,sans-Serif\" font-size=\"14.00\" fill=\"#000000\">mse = 0.043</text>\n<text text-anchor=\"middle\" x=\"1771\" y=\"-22.8\" font-family=\"Helvetica,sans-Serif\" font-size=\"14.00\" fill=\"#000000\">samples = 862</text>\n<text text-anchor=\"middle\" x=\"1771\" y=\"-7.8\" font-family=\"Helvetica,sans-Serif\" font-size=\"14.00\" fill=\"#000000\">value = 1.852</text>\n</g>\n<!-- 186&#45;&gt;188 -->\n<g id=\"edge41\" class=\"edge\">\n<title>186&#45;&gt;188</title>\n<path fill=\"none\" stroke=\"#000000\" d=\"M1689.4229,-88.9777C1701.977,-79.3629 1715.6119,-68.9203 1728.076,-59.3743\"/>\n<polygon fill=\"#000000\" stroke=\"#000000\" points=\"1730.2635,-62.1076 1736.0745,-53.2485 1726.0073,-56.5502 1730.2635,-62.1076\"/>\n</g>\n<!-- 25 -->\n<g id=\"node44\" class=\"node\">\n<title>25</title>\n<polygon fill=\"#fcf1e9\" stroke=\"#000000\" points=\"2257,-469 2125,-469 2125,-401 2257,-401 2257,-469\"/>\n<text text-anchor=\"middle\" x=\"2191\" y=\"-453.8\" font-family=\"Helvetica,sans-Serif\" font-size=\"14.00\" fill=\"#000000\">distance &lt;= 0.869</text>\n<text text-anchor=\"middle\" x=\"2191\" y=\"-438.8\" font-family=\"Helvetica,sans-Serif\" font-size=\"14.00\" fill=\"#000000\">mse = 0.046</text>\n<text text-anchor=\"middle\" x=\"2191\" y=\"-423.8\" font-family=\"Helvetica,sans-Serif\" font-size=\"14.00\" fill=\"#000000\">samples = 17670</text>\n<text text-anchor=\"middle\" x=\"2191\" y=\"-408.8\" font-family=\"Helvetica,sans-Serif\" font-size=\"14.00\" fill=\"#000000\">value = 1.953</text>\n</g>\n<!-- 10&#45;&gt;25 -->\n<g id=\"edge43\" class=\"edge\">\n<title>10&#45;&gt;25</title>\n<path fill=\"none\" stroke=\"#000000\" d=\"M2280.4508,-504.9465C2268.3946,-495.519 2255.1911,-485.1946 2242.7184,-475.4415\"/>\n<polygon fill=\"#000000\" stroke=\"#000000\" points=\"2244.6806,-472.5328 2234.647,-469.13 2240.3686,-478.0471 2244.6806,-472.5328\"/>\n</g>\n<!-- 26 -->\n<g id=\"node57\" class=\"node\">\n<title>26</title>\n<polygon fill=\"#fbece1\" stroke=\"#000000\" points=\"2504.5,-469 2319.5,-469 2319.5,-401 2504.5,-401 2504.5,-469\"/>\n<text text-anchor=\"middle\" x=\"2412\" y=\"-453.8\" font-family=\"Helvetica,sans-Serif\" font-size=\"14.00\" fill=\"#000000\">dropoff_latitude &lt;= 40.769</text>\n<text text-anchor=\"middle\" x=\"2412\" y=\"-438.8\" font-family=\"Helvetica,sans-Serif\" font-size=\"14.00\" fill=\"#000000\">mse = 0.051</text>\n<text text-anchor=\"middle\" x=\"2412\" y=\"-423.8\" font-family=\"Helvetica,sans-Serif\" font-size=\"14.00\" fill=\"#000000\">samples = 10663</text>\n<text text-anchor=\"middle\" x=\"2412\" y=\"-408.8\" font-family=\"Helvetica,sans-Serif\" font-size=\"14.00\" fill=\"#000000\">value = 2.076</text>\n</g>\n<!-- 10&#45;&gt;26 -->\n<g id=\"edge56\" class=\"edge\">\n<title>10&#45;&gt;26</title>\n<path fill=\"none\" stroke=\"#000000\" d=\"M2352.8145,-504.9465C2360.4117,-495.968 2368.6974,-486.1758 2376.5982,-476.8385\"/>\n<polygon fill=\"#000000\" stroke=\"#000000\" points=\"2379.3332,-479.0247 2383.1208,-469.13 2373.9895,-474.5031 2379.3332,-479.0247\"/>\n</g>\n<!-- 49 -->\n<g id=\"node45\" class=\"node\">\n<title>49</title>\n<polygon fill=\"#fcf3ec\" stroke=\"#000000\" points=\"2045.5,-365 1860.5,-365 1860.5,-297 2045.5,-297 2045.5,-365\"/>\n<text text-anchor=\"middle\" x=\"1953\" y=\"-349.8\" font-family=\"Helvetica,sans-Serif\" font-size=\"14.00\" fill=\"#000000\">dropoff_latitude &lt;= 40.771</text>\n<text text-anchor=\"middle\" x=\"1953\" y=\"-334.8\" font-family=\"Helvetica,sans-Serif\" font-size=\"14.00\" fill=\"#000000\">mse = 0.045</text>\n<text text-anchor=\"middle\" x=\"1953\" y=\"-319.8\" font-family=\"Helvetica,sans-Serif\" font-size=\"14.00\" fill=\"#000000\">samples = 9896</text>\n<text text-anchor=\"middle\" x=\"1953\" y=\"-304.8\" font-family=\"Helvetica,sans-Serif\" font-size=\"14.00\" fill=\"#000000\">value = 1.911</text>\n</g>\n<!-- 25&#45;&gt;49 -->\n<g id=\"edge44\" class=\"edge\">\n<title>25&#45;&gt;49</title>\n<path fill=\"none\" stroke=\"#000000\" d=\"M2124.7037,-406.0302C2098.6296,-394.6365 2068.325,-381.3941 2040.4971,-369.234\"/>\n<polygon fill=\"#000000\" stroke=\"#000000\" points=\"2041.7292,-365.9529 2031.1644,-365.1559 2038.9263,-372.3673 2041.7292,-365.9529\"/>\n</g>\n<!-- 50 -->\n<g id=\"node52\" class=\"node\">\n<title>50</title>\n<polygon fill=\"#fcefe5\" stroke=\"#000000\" points=\"2279.5,-365 2102.5,-365 2102.5,-297 2279.5,-297 2279.5,-365\"/>\n<text text-anchor=\"middle\" x=\"2191\" y=\"-349.8\" font-family=\"Helvetica,sans-Serif\" font-size=\"14.00\" fill=\"#000000\">dropoff_latitude &lt;= 40.77</text>\n<text text-anchor=\"middle\" x=\"2191\" y=\"-334.8\" font-family=\"Helvetica,sans-Serif\" font-size=\"14.00\" fill=\"#000000\">mse = 0.042</text>\n<text text-anchor=\"middle\" x=\"2191\" y=\"-319.8\" font-family=\"Helvetica,sans-Serif\" font-size=\"14.00\" fill=\"#000000\">samples = 7774</text>\n<text text-anchor=\"middle\" x=\"2191\" y=\"-304.8\" font-family=\"Helvetica,sans-Serif\" font-size=\"14.00\" fill=\"#000000\">value = 2.006</text>\n</g>\n<!-- 25&#45;&gt;50 -->\n<g id=\"edge51\" class=\"edge\">\n<title>25&#45;&gt;50</title>\n<path fill=\"none\" stroke=\"#000000\" d=\"M2191,-400.9465C2191,-392.776 2191,-383.9318 2191,-375.3697\"/>\n<polygon fill=\"#000000\" stroke=\"#000000\" points=\"2194.5001,-375.13 2191,-365.13 2187.5001,-375.13 2194.5001,-375.13\"/>\n</g>\n<!-- 97 -->\n<g id=\"node46\" class=\"node\">\n<title>97</title>\n<polygon fill=\"#fcf2eb\" stroke=\"#000000\" points=\"1875,-261 1755,-261 1755,-193 1875,-193 1875,-261\"/>\n<text text-anchor=\"middle\" x=\"1815\" y=\"-245.8\" font-family=\"Helvetica,sans-Serif\" font-size=\"14.00\" fill=\"#000000\">Hour &lt;= 7.5</text>\n<text text-anchor=\"middle\" x=\"1815\" y=\"-230.8\" font-family=\"Helvetica,sans-Serif\" font-size=\"14.00\" fill=\"#000000\">mse = 0.047</text>\n<text text-anchor=\"middle\" x=\"1815\" y=\"-215.8\" font-family=\"Helvetica,sans-Serif\" font-size=\"14.00\" fill=\"#000000\">samples = 8185</text>\n<text text-anchor=\"middle\" x=\"1815\" y=\"-200.8\" font-family=\"Helvetica,sans-Serif\" font-size=\"14.00\" fill=\"#000000\">value = 1.929</text>\n</g>\n<!-- 49&#45;&gt;97 -->\n<g id=\"edge45\" class=\"edge\">\n<title>49&#45;&gt;97</title>\n<path fill=\"none\" stroke=\"#000000\" d=\"M1907.8136,-296.9465C1895.185,-287.4293 1881.3433,-276.9978 1868.2932,-267.163\"/>\n<polygon fill=\"#000000\" stroke=\"#000000\" points=\"1870.3805,-264.3534 1860.2879,-261.13 1866.1675,-269.9437 1870.3805,-264.3534\"/>\n</g>\n<!-- 98 -->\n<g id=\"node51\" class=\"node\">\n<title>98</title>\n<polygon fill=\"#fdf6f2\" stroke=\"#000000\" points=\"2013,-253.5 1893,-253.5 1893,-200.5 2013,-200.5 2013,-253.5\"/>\n<text text-anchor=\"middle\" x=\"1953\" y=\"-238.3\" font-family=\"Helvetica,sans-Serif\" font-size=\"14.00\" fill=\"#000000\">mse = 0.029</text>\n<text text-anchor=\"middle\" x=\"1953\" y=\"-223.3\" font-family=\"Helvetica,sans-Serif\" font-size=\"14.00\" fill=\"#000000\">samples = 1711</text>\n<text text-anchor=\"middle\" x=\"1953\" y=\"-208.3\" font-family=\"Helvetica,sans-Serif\" font-size=\"14.00\" fill=\"#000000\">value = 1.829</text>\n</g>\n<!-- 49&#45;&gt;98 -->\n<g id=\"edge50\" class=\"edge\">\n<title>49&#45;&gt;98</title>\n<path fill=\"none\" stroke=\"#000000\" d=\"M1953,-296.9465C1953,-286.2621 1953,-274.4254 1953,-263.5742\"/>\n<polygon fill=\"#000000\" stroke=\"#000000\" points=\"1956.5001,-263.5421 1953,-253.5422 1949.5001,-263.5422 1956.5001,-263.5421\"/>\n</g>\n<!-- 157 -->\n<g id=\"node47\" class=\"node\">\n<title>157</title>\n<polygon fill=\"#fdf5ef\" stroke=\"#000000\" points=\"1875,-149.5 1755,-149.5 1755,-96.5 1875,-96.5 1875,-149.5\"/>\n<text text-anchor=\"middle\" x=\"1815\" y=\"-134.3\" font-family=\"Helvetica,sans-Serif\" font-size=\"14.00\" fill=\"#000000\">mse = 0.043</text>\n<text text-anchor=\"middle\" x=\"1815\" y=\"-119.3\" font-family=\"Helvetica,sans-Serif\" font-size=\"14.00\" fill=\"#000000\">samples = 1292</text>\n<text text-anchor=\"middle\" x=\"1815\" y=\"-104.3\" font-family=\"Helvetica,sans-Serif\" font-size=\"14.00\" fill=\"#000000\">value = 1.865</text>\n</g>\n<!-- 97&#45;&gt;157 -->\n<g id=\"edge46\" class=\"edge\">\n<title>97&#45;&gt;157</title>\n<path fill=\"none\" stroke=\"#000000\" d=\"M1815,-192.9465C1815,-182.2621 1815,-170.4254 1815,-159.5742\"/>\n<polygon fill=\"#000000\" stroke=\"#000000\" points=\"1818.5001,-159.5421 1815,-149.5422 1811.5001,-159.5422 1818.5001,-159.5421\"/>\n</g>\n<!-- 158 -->\n<g id=\"node48\" class=\"node\">\n<title>158</title>\n<polygon fill=\"#fcf2ea\" stroke=\"#000000\" points=\"2013,-157 1893,-157 1893,-89 2013,-89 2013,-157\"/>\n<text text-anchor=\"middle\" x=\"1953\" y=\"-141.8\" font-family=\"Helvetica,sans-Serif\" font-size=\"14.00\" fill=\"#000000\">Hour &lt;= 19.5</text>\n<text text-anchor=\"middle\" x=\"1953\" y=\"-126.8\" font-family=\"Helvetica,sans-Serif\" font-size=\"14.00\" fill=\"#000000\">mse = 0.047</text>\n<text text-anchor=\"middle\" x=\"1953\" y=\"-111.8\" font-family=\"Helvetica,sans-Serif\" font-size=\"14.00\" fill=\"#000000\">samples = 6893</text>\n<text text-anchor=\"middle\" x=\"1953\" y=\"-96.8\" font-family=\"Helvetica,sans-Serif\" font-size=\"14.00\" fill=\"#000000\">value = 1.941</text>\n</g>\n<!-- 97&#45;&gt;158 -->\n<g id=\"edge47\" class=\"edge\">\n<title>97&#45;&gt;158</title>\n<path fill=\"none\" stroke=\"#000000\" d=\"M1860.1864,-192.9465C1872.815,-183.4293 1886.6567,-172.9978 1899.7068,-163.163\"/>\n<polygon fill=\"#000000\" stroke=\"#000000\" points=\"1901.8325,-165.9437 1907.7121,-157.13 1897.6195,-160.3534 1901.8325,-165.9437\"/>\n</g>\n<!-- 195 -->\n<g id=\"node49\" class=\"node\">\n<title>195</title>\n<polygon fill=\"#fcf1e9\" stroke=\"#000000\" points=\"2012,-53 1892,-53 1892,0 2012,0 2012,-53\"/>\n<text text-anchor=\"middle\" x=\"1952\" y=\"-37.8\" font-family=\"Helvetica,sans-Serif\" font-size=\"14.00\" fill=\"#000000\">mse = 0.049</text>\n<text text-anchor=\"middle\" x=\"1952\" y=\"-22.8\" font-family=\"Helvetica,sans-Serif\" font-size=\"14.00\" fill=\"#000000\">samples = 5264</text>\n<text text-anchor=\"middle\" x=\"1952\" y=\"-7.8\" font-family=\"Helvetica,sans-Serif\" font-size=\"14.00\" fill=\"#000000\">value = 1.955</text>\n</g>\n<!-- 158&#45;&gt;195 -->\n<g id=\"edge48\" class=\"edge\">\n<title>158&#45;&gt;195</title>\n<path fill=\"none\" stroke=\"#000000\" d=\"M1952.6474,-88.9777C1952.562,-80.7364 1952.4703,-71.887 1952.3836,-63.5153\"/>\n<polygon fill=\"#000000\" stroke=\"#000000\" points=\"1955.8807,-63.2116 1952.2772,-53.2485 1948.8811,-63.2842 1955.8807,-63.2116\"/>\n</g>\n<!-- 196 -->\n<g id=\"node50\" class=\"node\">\n<title>196</title>\n<polygon fill=\"#fdf4ed\" stroke=\"#000000\" points=\"2150,-53 2030,-53 2030,0 2150,0 2150,-53\"/>\n<text text-anchor=\"middle\" x=\"2090\" y=\"-37.8\" font-family=\"Helvetica,sans-Serif\" font-size=\"14.00\" fill=\"#000000\">mse = 0.035</text>\n<text text-anchor=\"middle\" x=\"2090\" y=\"-22.8\" font-family=\"Helvetica,sans-Serif\" font-size=\"14.00\" fill=\"#000000\">samples = 1629</text>\n<text text-anchor=\"middle\" x=\"2090\" y=\"-7.8\" font-family=\"Helvetica,sans-Serif\" font-size=\"14.00\" fill=\"#000000\">value = 1.893</text>\n</g>\n<!-- 158&#45;&gt;196 -->\n<g id=\"edge49\" class=\"edge\">\n<title>158&#45;&gt;196</title>\n<path fill=\"none\" stroke=\"#000000\" d=\"M2001.3011,-88.9777C2015.0811,-79.2713 2030.0589,-68.7213 2043.7155,-59.1018\"/>\n<polygon fill=\"#000000\" stroke=\"#000000\" points=\"2045.8655,-61.8686 2052.0255,-53.2485 2041.8345,-56.1457 2045.8655,-61.8686\"/>\n</g>\n<!-- 131 -->\n<g id=\"node53\" class=\"node\">\n<title>131</title>\n<polygon fill=\"#fbeee4\" stroke=\"#000000\" points=\"2151,-261 2031,-261 2031,-193 2151,-193 2151,-261\"/>\n<text text-anchor=\"middle\" x=\"2091\" y=\"-245.8\" font-family=\"Helvetica,sans-Serif\" font-size=\"14.00\" fill=\"#000000\">Hour &lt;= 7.5</text>\n<text text-anchor=\"middle\" x=\"2091\" y=\"-230.8\" font-family=\"Helvetica,sans-Serif\" font-size=\"14.00\" fill=\"#000000\">mse = 0.043</text>\n<text text-anchor=\"middle\" x=\"2091\" y=\"-215.8\" font-family=\"Helvetica,sans-Serif\" font-size=\"14.00\" fill=\"#000000\">samples = 6354</text>\n<text text-anchor=\"middle\" x=\"2091\" y=\"-200.8\" font-family=\"Helvetica,sans-Serif\" font-size=\"14.00\" fill=\"#000000\">value = 2.021</text>\n</g>\n<!-- 50&#45;&gt;131 -->\n<g id=\"edge52\" class=\"edge\">\n<title>50&#45;&gt;131</title>\n<path fill=\"none\" stroke=\"#000000\" d=\"M2158.2563,-296.9465C2149.5367,-287.8782 2140.0191,-277.9799 2130.9601,-268.5585\"/>\n<polygon fill=\"#000000\" stroke=\"#000000\" points=\"2133.2713,-265.9125 2123.8173,-261.13 2128.2255,-270.7642 2133.2713,-265.9125\"/>\n</g>\n<!-- 132 -->\n<g id=\"node56\" class=\"node\">\n<title>132</title>\n<polygon fill=\"#fcf2ea\" stroke=\"#000000\" points=\"2289,-253.5 2169,-253.5 2169,-200.5 2289,-200.5 2289,-253.5\"/>\n<text text-anchor=\"middle\" x=\"2229\" y=\"-238.3\" font-family=\"Helvetica,sans-Serif\" font-size=\"14.00\" fill=\"#000000\">mse = 0.035</text>\n<text text-anchor=\"middle\" x=\"2229\" y=\"-223.3\" font-family=\"Helvetica,sans-Serif\" font-size=\"14.00\" fill=\"#000000\">samples = 1420</text>\n<text text-anchor=\"middle\" x=\"2229\" y=\"-208.3\" font-family=\"Helvetica,sans-Serif\" font-size=\"14.00\" fill=\"#000000\">value = 1.939</text>\n</g>\n<!-- 50&#45;&gt;132 -->\n<g id=\"edge55\" class=\"edge\">\n<title>50&#45;&gt;132</title>\n<path fill=\"none\" stroke=\"#000000\" d=\"M2203.4426,-296.9465C2207.3868,-286.1519 2211.7607,-274.1813 2215.7589,-263.2389\"/>\n<polygon fill=\"#000000\" stroke=\"#000000\" points=\"2219.1573,-264.136 2219.3019,-253.5422 2212.5825,-261.7336 2219.1573,-264.136\"/>\n</g>\n<!-- 159 -->\n<g id=\"node54\" class=\"node\">\n<title>159</title>\n<polygon fill=\"#fcf1e9\" stroke=\"#000000\" points=\"2144,-149.5 2032,-149.5 2032,-96.5 2144,-96.5 2144,-149.5\"/>\n<text text-anchor=\"middle\" x=\"2088\" y=\"-134.3\" font-family=\"Helvetica,sans-Serif\" font-size=\"14.00\" fill=\"#000000\">mse = 0.034</text>\n<text text-anchor=\"middle\" x=\"2088\" y=\"-119.3\" font-family=\"Helvetica,sans-Serif\" font-size=\"14.00\" fill=\"#000000\">samples = 989</text>\n<text text-anchor=\"middle\" x=\"2088\" y=\"-104.3\" font-family=\"Helvetica,sans-Serif\" font-size=\"14.00\" fill=\"#000000\">value = 1.949</text>\n</g>\n<!-- 131&#45;&gt;159 -->\n<g id=\"edge53\" class=\"edge\">\n<title>131&#45;&gt;159</title>\n<path fill=\"none\" stroke=\"#000000\" d=\"M2090.0177,-192.9465C2089.7095,-182.2621 2089.368,-170.4254 2089.055,-159.5742\"/>\n<polygon fill=\"#000000\" stroke=\"#000000\" points=\"2092.5526,-159.4371 2088.7656,-149.5422 2085.5555,-159.639 2092.5526,-159.4371\"/>\n</g>\n<!-- 160 -->\n<g id=\"node55\" class=\"node\">\n<title>160</title>\n<polygon fill=\"#fbede3\" stroke=\"#000000\" points=\"2282,-149.5 2162,-149.5 2162,-96.5 2282,-96.5 2282,-149.5\"/>\n<text text-anchor=\"middle\" x=\"2222\" y=\"-134.3\" font-family=\"Helvetica,sans-Serif\" font-size=\"14.00\" fill=\"#000000\">mse = 0.043</text>\n<text text-anchor=\"middle\" x=\"2222\" y=\"-119.3\" font-family=\"Helvetica,sans-Serif\" font-size=\"14.00\" fill=\"#000000\">samples = 5365</text>\n<text text-anchor=\"middle\" x=\"2222\" y=\"-104.3\" font-family=\"Helvetica,sans-Serif\" font-size=\"14.00\" fill=\"#000000\">value = 2.035</text>\n</g>\n<!-- 131&#45;&gt;160 -->\n<g id=\"edge54\" class=\"edge\">\n<title>131&#45;&gt;160</title>\n<path fill=\"none\" stroke=\"#000000\" d=\"M2133.8943,-192.9465C2148.8788,-181.0504 2165.6624,-167.726 2180.5288,-155.9237\"/>\n<polygon fill=\"#000000\" stroke=\"#000000\" points=\"2182.9113,-158.5011 2188.5671,-149.5422 2178.5589,-153.0187 2182.9113,-158.5011\"/>\n</g>\n<!-- 75 -->\n<g id=\"node58\" class=\"node\">\n<title>75</title>\n<polygon fill=\"#fbebdf\" stroke=\"#000000\" points=\"2472,-365 2352,-365 2352,-297 2472,-297 2472,-365\"/>\n<text text-anchor=\"middle\" x=\"2412\" y=\"-349.8\" font-family=\"Helvetica,sans-Serif\" font-size=\"14.00\" fill=\"#000000\">Hour &lt;= 7.5</text>\n<text text-anchor=\"middle\" x=\"2412\" y=\"-334.8\" font-family=\"Helvetica,sans-Serif\" font-size=\"14.00\" fill=\"#000000\">mse = 0.052</text>\n<text text-anchor=\"middle\" x=\"2412\" y=\"-319.8\" font-family=\"Helvetica,sans-Serif\" font-size=\"14.00\" fill=\"#000000\">samples = 8613</text>\n<text text-anchor=\"middle\" x=\"2412\" y=\"-304.8\" font-family=\"Helvetica,sans-Serif\" font-size=\"14.00\" fill=\"#000000\">value = 2.098</text>\n</g>\n<!-- 26&#45;&gt;75 -->\n<g id=\"edge57\" class=\"edge\">\n<title>26&#45;&gt;75</title>\n<path fill=\"none\" stroke=\"#000000\" d=\"M2412,-400.9465C2412,-392.776 2412,-383.9318 2412,-375.3697\"/>\n<polygon fill=\"#000000\" stroke=\"#000000\" points=\"2415.5001,-375.13 2412,-365.13 2408.5001,-375.13 2415.5001,-375.13\"/>\n</g>\n<!-- 76 -->\n<g id=\"node65\" class=\"node\">\n<title>76</title>\n<polygon fill=\"#fcf0e7\" stroke=\"#000000\" points=\"2705,-365 2573,-365 2573,-297 2705,-297 2705,-365\"/>\n<text text-anchor=\"middle\" x=\"2639\" y=\"-349.8\" font-family=\"Helvetica,sans-Serif\" font-size=\"14.00\" fill=\"#000000\">distance &lt;= 0.851</text>\n<text text-anchor=\"middle\" x=\"2639\" y=\"-334.8\" font-family=\"Helvetica,sans-Serif\" font-size=\"14.00\" fill=\"#000000\">mse = 0.035</text>\n<text text-anchor=\"middle\" x=\"2639\" y=\"-319.8\" font-family=\"Helvetica,sans-Serif\" font-size=\"14.00\" fill=\"#000000\">samples = 2050</text>\n<text text-anchor=\"middle\" x=\"2639\" y=\"-304.8\" font-family=\"Helvetica,sans-Serif\" font-size=\"14.00\" fill=\"#000000\">value = 1.983</text>\n</g>\n<!-- 26&#45;&gt;76 -->\n<g id=\"edge64\" class=\"edge\">\n<title>26&#45;&gt;76</title>\n<path fill=\"none\" stroke=\"#000000\" d=\"M2486.3283,-400.9465C2511.0937,-389.6002 2538.6952,-376.9546 2563.5452,-365.5696\"/>\n<polygon fill=\"#000000\" stroke=\"#000000\" points=\"2565.2894,-368.6204 2572.9228,-361.2732 2562.3737,-362.2565 2565.2894,-368.6204\"/>\n</g>\n<!-- 87 -->\n<g id=\"node59\" class=\"node\">\n<title>87</title>\n<polygon fill=\"#fcefe6\" stroke=\"#000000\" points=\"2427,-253.5 2307,-253.5 2307,-200.5 2427,-200.5 2427,-253.5\"/>\n<text text-anchor=\"middle\" x=\"2367\" y=\"-238.3\" font-family=\"Helvetica,sans-Serif\" font-size=\"14.00\" fill=\"#000000\">mse = 0.035</text>\n<text text-anchor=\"middle\" x=\"2367\" y=\"-223.3\" font-family=\"Helvetica,sans-Serif\" font-size=\"14.00\" fill=\"#000000\">samples = 1340</text>\n<text text-anchor=\"middle\" x=\"2367\" y=\"-208.3\" font-family=\"Helvetica,sans-Serif\" font-size=\"14.00\" fill=\"#000000\">value = 2.0</text>\n</g>\n<!-- 75&#45;&gt;87 -->\n<g id=\"edge58\" class=\"edge\">\n<title>75&#45;&gt;87</title>\n<path fill=\"none\" stroke=\"#000000\" d=\"M2397.2653,-296.9465C2392.5469,-286.0418 2387.3092,-273.9368 2382.5355,-262.9043\"/>\n<polygon fill=\"#000000\" stroke=\"#000000\" points=\"2385.668,-261.33 2378.4846,-253.5422 2379.2436,-264.1098 2385.668,-261.33\"/>\n</g>\n<!-- 88 -->\n<g id=\"node60\" class=\"node\">\n<title>88</title>\n<polygon fill=\"#fbeade\" stroke=\"#000000\" points=\"2565,-261 2445,-261 2445,-193 2565,-193 2565,-261\"/>\n<text text-anchor=\"middle\" x=\"2505\" y=\"-245.8\" font-family=\"Helvetica,sans-Serif\" font-size=\"14.00\" fill=\"#000000\">Hour &lt;= 18.5</text>\n<text text-anchor=\"middle\" x=\"2505\" y=\"-230.8\" font-family=\"Helvetica,sans-Serif\" font-size=\"14.00\" fill=\"#000000\">mse = 0.053</text>\n<text text-anchor=\"middle\" x=\"2505\" y=\"-215.8\" font-family=\"Helvetica,sans-Serif\" font-size=\"14.00\" fill=\"#000000\">samples = 7273</text>\n<text text-anchor=\"middle\" x=\"2505\" y=\"-200.8\" font-family=\"Helvetica,sans-Serif\" font-size=\"14.00\" fill=\"#000000\">value = 2.116</text>\n</g>\n<!-- 75&#45;&gt;88 -->\n<g id=\"edge59\" class=\"edge\">\n<title>75&#45;&gt;88</title>\n<path fill=\"none\" stroke=\"#000000\" d=\"M2442.4517,-296.9465C2450.4806,-287.968 2459.237,-278.1758 2467.5867,-268.8385\"/>\n<polygon fill=\"#000000\" stroke=\"#000000\" points=\"2470.423,-270.9174 2474.4799,-261.13 2465.205,-266.2512 2470.423,-270.9174\"/>\n</g>\n<!-- 93 -->\n<g id=\"node61\" class=\"node\">\n<title>93</title>\n<polygon fill=\"#fae8dc\" stroke=\"#000000\" points=\"2433,-157 2301,-157 2301,-89 2433,-89 2433,-157\"/>\n<text text-anchor=\"middle\" x=\"2367\" y=\"-141.8\" font-family=\"Helvetica,sans-Serif\" font-size=\"14.00\" fill=\"#000000\">distance &lt;= 0.801</text>\n<text text-anchor=\"middle\" x=\"2367\" y=\"-126.8\" font-family=\"Helvetica,sans-Serif\" font-size=\"14.00\" fill=\"#000000\">mse = 0.057</text>\n<text text-anchor=\"middle\" x=\"2367\" y=\"-111.8\" font-family=\"Helvetica,sans-Serif\" font-size=\"14.00\" fill=\"#000000\">samples = 4872</text>\n<text text-anchor=\"middle\" x=\"2367\" y=\"-96.8\" font-family=\"Helvetica,sans-Serif\" font-size=\"14.00\" fill=\"#000000\">value = 2.147</text>\n</g>\n<!-- 88&#45;&gt;93 -->\n<g id=\"edge60\" class=\"edge\">\n<title>88&#45;&gt;93</title>\n<path fill=\"none\" stroke=\"#000000\" d=\"M2459.8136,-192.9465C2447.185,-183.4293 2433.3433,-172.9978 2420.2932,-163.163\"/>\n<polygon fill=\"#000000\" stroke=\"#000000\" points=\"2422.3805,-160.3534 2412.2879,-157.13 2418.1675,-165.9437 2422.3805,-160.3534\"/>\n</g>\n<!-- 94 -->\n<g id=\"node64\" class=\"node\">\n<title>94</title>\n<polygon fill=\"#fbede2\" stroke=\"#000000\" points=\"2571,-149.5 2451,-149.5 2451,-96.5 2571,-96.5 2571,-149.5\"/>\n<text text-anchor=\"middle\" x=\"2511\" y=\"-134.3\" font-family=\"Helvetica,sans-Serif\" font-size=\"14.00\" fill=\"#000000\">mse = 0.038</text>\n<text text-anchor=\"middle\" x=\"2511\" y=\"-119.3\" font-family=\"Helvetica,sans-Serif\" font-size=\"14.00\" fill=\"#000000\">samples = 2401</text>\n<text text-anchor=\"middle\" x=\"2511\" y=\"-104.3\" font-family=\"Helvetica,sans-Serif\" font-size=\"14.00\" fill=\"#000000\">value = 2.053</text>\n</g>\n<!-- 88&#45;&gt;94 -->\n<g id=\"edge63\" class=\"edge\">\n<title>88&#45;&gt;94</title>\n<path fill=\"none\" stroke=\"#000000\" d=\"M2506.9646,-192.9465C2507.581,-182.2621 2508.2639,-170.4254 2508.8899,-159.5742\"/>\n<polygon fill=\"#000000\" stroke=\"#000000\" points=\"2512.3869,-159.7272 2509.4687,-149.5422 2505.3985,-159.3239 2512.3869,-159.7272\"/>\n</g>\n<!-- 95 -->\n<g id=\"node62\" class=\"node\">\n<title>95</title>\n<polygon fill=\"#fbece2\" stroke=\"#000000\" points=\"2289,-53 2169,-53 2169,0 2289,0 2289,-53\"/>\n<text text-anchor=\"middle\" x=\"2229\" y=\"-37.8\" font-family=\"Helvetica,sans-Serif\" font-size=\"14.00\" fill=\"#000000\">mse = 0.054</text>\n<text text-anchor=\"middle\" x=\"2229\" y=\"-22.8\" font-family=\"Helvetica,sans-Serif\" font-size=\"14.00\" fill=\"#000000\">samples = 1465</text>\n<text text-anchor=\"middle\" x=\"2229\" y=\"-7.8\" font-family=\"Helvetica,sans-Serif\" font-size=\"14.00\" fill=\"#000000\">value = 2.06</text>\n</g>\n<!-- 93&#45;&gt;95 -->\n<g id=\"edge61\" class=\"edge\">\n<title>93&#45;&gt;95</title>\n<path fill=\"none\" stroke=\"#000000\" d=\"M2318.3464,-88.9777C2304.4657,-79.2713 2289.3786,-68.7213 2275.6223,-59.1018\"/>\n<polygon fill=\"#000000\" stroke=\"#000000\" points=\"2277.4526,-56.1109 2267.2517,-53.2485 2273.4411,-61.8475 2277.4526,-56.1109\"/>\n</g>\n<!-- 96 -->\n<g id=\"node63\" class=\"node\">\n<title>96</title>\n<polygon fill=\"#fae7d9\" stroke=\"#000000\" points=\"2427,-53 2307,-53 2307,0 2427,0 2427,-53\"/>\n<text text-anchor=\"middle\" x=\"2367\" y=\"-37.8\" font-family=\"Helvetica,sans-Serif\" font-size=\"14.00\" fill=\"#000000\">mse = 0.054</text>\n<text text-anchor=\"middle\" x=\"2367\" y=\"-22.8\" font-family=\"Helvetica,sans-Serif\" font-size=\"14.00\" fill=\"#000000\">samples = 3407</text>\n<text text-anchor=\"middle\" x=\"2367\" y=\"-7.8\" font-family=\"Helvetica,sans-Serif\" font-size=\"14.00\" fill=\"#000000\">value = 2.185</text>\n</g>\n<!-- 93&#45;&gt;96 -->\n<g id=\"edge62\" class=\"edge\">\n<title>93&#45;&gt;96</title>\n<path fill=\"none\" stroke=\"#000000\" d=\"M2367,-88.9777C2367,-80.7364 2367,-71.887 2367,-63.5153\"/>\n<polygon fill=\"#000000\" stroke=\"#000000\" points=\"2370.5001,-63.2484 2367,-53.2485 2363.5001,-63.2485 2370.5001,-63.2484\"/>\n</g>\n<!-- 137 -->\n<g id=\"node66\" class=\"node\">\n<title>137</title>\n<polygon fill=\"#fcf2eb\" stroke=\"#000000\" points=\"2695,-253.5 2583,-253.5 2583,-200.5 2695,-200.5 2695,-253.5\"/>\n<text text-anchor=\"middle\" x=\"2639\" y=\"-238.3\" font-family=\"Helvetica,sans-Serif\" font-size=\"14.00\" fill=\"#000000\">mse = 0.029</text>\n<text text-anchor=\"middle\" x=\"2639\" y=\"-223.3\" font-family=\"Helvetica,sans-Serif\" font-size=\"14.00\" fill=\"#000000\">samples = 960</text>\n<text text-anchor=\"middle\" x=\"2639\" y=\"-208.3\" font-family=\"Helvetica,sans-Serif\" font-size=\"14.00\" fill=\"#000000\">value = 1.919</text>\n</g>\n<!-- 76&#45;&gt;137 -->\n<g id=\"edge65\" class=\"edge\">\n<title>76&#45;&gt;137</title>\n<path fill=\"none\" stroke=\"#000000\" d=\"M2639,-296.9465C2639,-286.2621 2639,-274.4254 2639,-263.5742\"/>\n<polygon fill=\"#000000\" stroke=\"#000000\" points=\"2642.5001,-263.5421 2639,-253.5422 2635.5001,-263.5422 2642.5001,-263.5421\"/>\n</g>\n<!-- 138 -->\n<g id=\"node67\" class=\"node\">\n<title>138</title>\n<polygon fill=\"#fbede3\" stroke=\"#000000\" points=\"2833,-253.5 2713,-253.5 2713,-200.5 2833,-200.5 2833,-253.5\"/>\n<text text-anchor=\"middle\" x=\"2773\" y=\"-238.3\" font-family=\"Helvetica,sans-Serif\" font-size=\"14.00\" fill=\"#000000\">mse = 0.033</text>\n<text text-anchor=\"middle\" x=\"2773\" y=\"-223.3\" font-family=\"Helvetica,sans-Serif\" font-size=\"14.00\" fill=\"#000000\">samples = 1090</text>\n<text text-anchor=\"middle\" x=\"2773\" y=\"-208.3\" font-family=\"Helvetica,sans-Serif\" font-size=\"14.00\" fill=\"#000000\">value = 2.04</text>\n</g>\n<!-- 76&#45;&gt;138 -->\n<g id=\"edge66\" class=\"edge\">\n<title>76&#45;&gt;138</title>\n<path fill=\"none\" stroke=\"#000000\" d=\"M2682.8766,-296.9465C2698.2043,-285.0504 2715.3723,-271.726 2730.5791,-259.9237\"/>\n<polygon fill=\"#000000\" stroke=\"#000000\" points=\"2733.0475,-262.4384 2738.8014,-253.5422 2728.7556,-256.9085 2733.0475,-262.4384\"/>\n</g>\n<!-- 7 -->\n<g id=\"node69\" class=\"node\">\n<title>7</title>\n<polygon fill=\"#fae6d8\" stroke=\"#000000\" points=\"3584,-573 3456,-573 3456,-505 3584,-505 3584,-573\"/>\n<text text-anchor=\"middle\" x=\"3520\" y=\"-557.8\" font-family=\"Helvetica,sans-Serif\" font-size=\"14.00\" fill=\"#000000\">year &lt;= 2012.5</text>\n<text text-anchor=\"middle\" x=\"3520\" y=\"-542.8\" font-family=\"Helvetica,sans-Serif\" font-size=\"14.00\" fill=\"#000000\">mse = 0.052</text>\n<text text-anchor=\"middle\" x=\"3520\" y=\"-527.8\" font-family=\"Helvetica,sans-Serif\" font-size=\"14.00\" fill=\"#000000\">samples = 29287</text>\n<text text-anchor=\"middle\" x=\"3520\" y=\"-512.8\" font-family=\"Helvetica,sans-Serif\" font-size=\"14.00\" fill=\"#000000\">value = 2.205</text>\n</g>\n<!-- 4&#45;&gt;7 -->\n<g id=\"edge68\" class=\"edge\">\n<title>4&#45;&gt;7</title>\n<path fill=\"none\" stroke=\"#000000\" d=\"M3657.767,-609.2342C3637.1019,-598.699 3614.1942,-587.0206 3593.087,-576.26\"/>\n<polygon fill=\"#000000\" stroke=\"#000000\" points=\"3594.6618,-573.1343 3584.163,-571.7106 3591.4824,-579.3707 3594.6618,-573.1343\"/>\n</g>\n<!-- 8 -->\n<g id=\"node100\" class=\"node\">\n<title>8</title>\n<polygon fill=\"#f8dcc9\" stroke=\"#000000\" points=\"4134,-573 4002,-573 4002,-505 4134,-505 4134,-573\"/>\n<text text-anchor=\"middle\" x=\"4068\" y=\"-557.8\" font-family=\"Helvetica,sans-Serif\" font-size=\"14.00\" fill=\"#000000\">distance &lt;= 1.421</text>\n<text text-anchor=\"middle\" x=\"4068\" y=\"-542.8\" font-family=\"Helvetica,sans-Serif\" font-size=\"14.00\" fill=\"#000000\">mse = 0.057</text>\n<text text-anchor=\"middle\" x=\"4068\" y=\"-527.8\" font-family=\"Helvetica,sans-Serif\" font-size=\"14.00\" fill=\"#000000\">samples = 24497</text>\n<text text-anchor=\"middle\" x=\"4068\" y=\"-512.8\" font-family=\"Helvetica,sans-Serif\" font-size=\"14.00\" fill=\"#000000\">value = 2.421</text>\n</g>\n<!-- 4&#45;&gt;8 -->\n<g id=\"edge99\" class=\"edge\">\n<title>4&#45;&gt;8</title>\n<path fill=\"none\" stroke=\"#000000\" d=\"M3790.3267,-622.9478C3848.029,-605.5029 3931.6375,-580.2259 3992.0174,-561.9715\"/>\n<polygon fill=\"#000000\" stroke=\"#000000\" points=\"3993.3177,-565.2349 4001.877,-558.9907 3991.292,-558.5344 3993.3177,-565.2349\"/>\n</g>\n<!-- 21 -->\n<g id=\"node70\" class=\"node\">\n<title>21</title>\n<polygon fill=\"#fae8db\" stroke=\"#000000\" points=\"3387,-469 3255,-469 3255,-401 3387,-401 3387,-469\"/>\n<text text-anchor=\"middle\" x=\"3321\" y=\"-453.8\" font-family=\"Helvetica,sans-Serif\" font-size=\"14.00\" fill=\"#000000\">distance &lt;= 1.115</text>\n<text text-anchor=\"middle\" x=\"3321\" y=\"-438.8\" font-family=\"Helvetica,sans-Serif\" font-size=\"14.00\" fill=\"#000000\">mse = 0.043</text>\n<text text-anchor=\"middle\" x=\"3321\" y=\"-423.8\" font-family=\"Helvetica,sans-Serif\" font-size=\"14.00\" fill=\"#000000\">samples = 18376</text>\n<text text-anchor=\"middle\" x=\"3321\" y=\"-408.8\" font-family=\"Helvetica,sans-Serif\" font-size=\"14.00\" fill=\"#000000\">value = 2.149</text>\n</g>\n<!-- 7&#45;&gt;21 -->\n<g id=\"edge69\" class=\"edge\">\n<title>7&#45;&gt;21</title>\n<path fill=\"none\" stroke=\"#000000\" d=\"M3455.9398,-505.5213C3436.6277,-495.4286 3415.2668,-484.2651 3395.3456,-473.854\"/>\n<polygon fill=\"#000000\" stroke=\"#000000\" points=\"3396.7902,-470.6599 3386.3064,-469.13 3393.548,-476.8637 3396.7902,-470.6599\"/>\n</g>\n<!-- 22 -->\n<g id=\"node85\" class=\"node\">\n<title>22</title>\n<polygon fill=\"#f9e2d1\" stroke=\"#000000\" points=\"3612.5,-469 3427.5,-469 3427.5,-401 3612.5,-401 3612.5,-469\"/>\n<text text-anchor=\"middle\" x=\"3520\" y=\"-453.8\" font-family=\"Helvetica,sans-Serif\" font-size=\"14.00\" fill=\"#000000\">dropoff_latitude &lt;= 40.773</text>\n<text text-anchor=\"middle\" x=\"3520\" y=\"-438.8\" font-family=\"Helvetica,sans-Serif\" font-size=\"14.00\" fill=\"#000000\">mse = 0.052</text>\n<text text-anchor=\"middle\" x=\"3520\" y=\"-423.8\" font-family=\"Helvetica,sans-Serif\" font-size=\"14.00\" fill=\"#000000\">samples = 10911</text>\n<text text-anchor=\"middle\" x=\"3520\" y=\"-408.8\" font-family=\"Helvetica,sans-Serif\" font-size=\"14.00\" fill=\"#000000\">value = 2.299</text>\n</g>\n<!-- 7&#45;&gt;22 -->\n<g id=\"edge84\" class=\"edge\">\n<title>7&#45;&gt;22</title>\n<path fill=\"none\" stroke=\"#000000\" d=\"M3520,-504.9465C3520,-496.776 3520,-487.9318 3520,-479.3697\"/>\n<polygon fill=\"#000000\" stroke=\"#000000\" points=\"3523.5001,-479.13 3520,-469.13 3516.5001,-479.13 3523.5001,-479.13\"/>\n</g>\n<!-- 47 -->\n<g id=\"node71\" class=\"node\">\n<title>47</title>\n<polygon fill=\"#fbebdf\" stroke=\"#000000\" points=\"3144.5,-365 2959.5,-365 2959.5,-297 3144.5,-297 3144.5,-365\"/>\n<text text-anchor=\"middle\" x=\"3052\" y=\"-349.8\" font-family=\"Helvetica,sans-Serif\" font-size=\"14.00\" fill=\"#000000\">dropoff_latitude &lt;= 40.769</text>\n<text text-anchor=\"middle\" x=\"3052\" y=\"-334.8\" font-family=\"Helvetica,sans-Serif\" font-size=\"14.00\" fill=\"#000000\">mse = 0.04</text>\n<text text-anchor=\"middle\" x=\"3052\" y=\"-319.8\" font-family=\"Helvetica,sans-Serif\" font-size=\"14.00\" fill=\"#000000\">samples = 9001</text>\n<text text-anchor=\"middle\" x=\"3052\" y=\"-304.8\" font-family=\"Helvetica,sans-Serif\" font-size=\"14.00\" fill=\"#000000\">value = 2.098</text>\n</g>\n<!-- 21&#45;&gt;47 -->\n<g id=\"edge70\" class=\"edge\">\n<title>21&#45;&gt;47</title>\n<path fill=\"none\" stroke=\"#000000\" d=\"M3254.8507,-409.4255C3223.2124,-397.1936 3184.7019,-382.3048 3149.7708,-368.7999\"/>\n<polygon fill=\"#000000\" stroke=\"#000000\" points=\"3150.6114,-365.3724 3140.0221,-365.0309 3148.0872,-371.9015 3150.6114,-365.3724\"/>\n</g>\n<!-- 48 -->\n<g id=\"node78\" class=\"node\">\n<title>48</title>\n<polygon fill=\"#fae6d8\" stroke=\"#000000\" points=\"3409.5,-365 3232.5,-365 3232.5,-297 3409.5,-297 3409.5,-365\"/>\n<text text-anchor=\"middle\" x=\"3321\" y=\"-349.8\" font-family=\"Helvetica,sans-Serif\" font-size=\"14.00\" fill=\"#000000\">dropoff_latitude &lt;= 40.77</text>\n<text text-anchor=\"middle\" x=\"3321\" y=\"-334.8\" font-family=\"Helvetica,sans-Serif\" font-size=\"14.00\" fill=\"#000000\">mse = 0.042</text>\n<text text-anchor=\"middle\" x=\"3321\" y=\"-319.8\" font-family=\"Helvetica,sans-Serif\" font-size=\"14.00\" fill=\"#000000\">samples = 9375</text>\n<text text-anchor=\"middle\" x=\"3321\" y=\"-304.8\" font-family=\"Helvetica,sans-Serif\" font-size=\"14.00\" fill=\"#000000\">value = 2.199</text>\n</g>\n<!-- 21&#45;&gt;48 -->\n<g id=\"edge77\" class=\"edge\">\n<title>21&#45;&gt;48</title>\n<path fill=\"none\" stroke=\"#000000\" d=\"M3321,-400.9465C3321,-392.776 3321,-383.9318 3321,-375.3697\"/>\n<polygon fill=\"#000000\" stroke=\"#000000\" points=\"3324.5001,-375.13 3321,-365.13 3317.5001,-375.13 3324.5001,-375.13\"/>\n</g>\n<!-- 139 -->\n<g id=\"node72\" class=\"node\">\n<title>139</title>\n<polygon fill=\"#fbeade\" stroke=\"#000000\" points=\"2971,-261 2851,-261 2851,-193 2971,-193 2971,-261\"/>\n<text text-anchor=\"middle\" x=\"2911\" y=\"-245.8\" font-family=\"Helvetica,sans-Serif\" font-size=\"14.00\" fill=\"#000000\">Month &lt;= 8.5</text>\n<text text-anchor=\"middle\" x=\"2911\" y=\"-230.8\" font-family=\"Helvetica,sans-Serif\" font-size=\"14.00\" fill=\"#000000\">mse = 0.04</text>\n<text text-anchor=\"middle\" x=\"2911\" y=\"-215.8\" font-family=\"Helvetica,sans-Serif\" font-size=\"14.00\" fill=\"#000000\">samples = 7012</text>\n<text text-anchor=\"middle\" x=\"2911\" y=\"-200.8\" font-family=\"Helvetica,sans-Serif\" font-size=\"14.00\" fill=\"#000000\">value = 2.113</text>\n</g>\n<!-- 47&#45;&gt;139 -->\n<g id=\"edge71\" class=\"edge\">\n<title>47&#45;&gt;139</title>\n<path fill=\"none\" stroke=\"#000000\" d=\"M3005.8313,-296.9465C2992.9281,-287.4293 2978.7855,-276.9978 2965.4517,-267.163\"/>\n<polygon fill=\"#000000\" stroke=\"#000000\" points=\"2967.3977,-264.2492 2957.2724,-261.13 2963.2425,-269.8826 2967.3977,-264.2492\"/>\n</g>\n<!-- 140 -->\n<g id=\"node77\" class=\"node\">\n<title>140</title>\n<polygon fill=\"#fbede3\" stroke=\"#000000\" points=\"3112,-253.5 2992,-253.5 2992,-200.5 3112,-200.5 3112,-253.5\"/>\n<text text-anchor=\"middle\" x=\"3052\" y=\"-238.3\" font-family=\"Helvetica,sans-Serif\" font-size=\"14.00\" fill=\"#000000\">mse = 0.037</text>\n<text text-anchor=\"middle\" x=\"3052\" y=\"-223.3\" font-family=\"Helvetica,sans-Serif\" font-size=\"14.00\" fill=\"#000000\">samples = 1989</text>\n<text text-anchor=\"middle\" x=\"3052\" y=\"-208.3\" font-family=\"Helvetica,sans-Serif\" font-size=\"14.00\" fill=\"#000000\">value = 2.044</text>\n</g>\n<!-- 47&#45;&gt;140 -->\n<g id=\"edge76\" class=\"edge\">\n<title>47&#45;&gt;140</title>\n<path fill=\"none\" stroke=\"#000000\" d=\"M3052,-296.9465C3052,-286.2621 3052,-274.4254 3052,-263.5742\"/>\n<polygon fill=\"#000000\" stroke=\"#000000\" points=\"3055.5001,-263.5421 3052,-253.5422 3048.5001,-263.5422 3055.5001,-263.5421\"/>\n</g>\n<!-- 179 -->\n<g id=\"node73\" class=\"node\">\n<title>179</title>\n<polygon fill=\"#fbebdf\" stroke=\"#000000\" points=\"2832,-149.5 2712,-149.5 2712,-96.5 2832,-96.5 2832,-149.5\"/>\n<text text-anchor=\"middle\" x=\"2772\" y=\"-134.3\" font-family=\"Helvetica,sans-Serif\" font-size=\"14.00\" fill=\"#000000\">mse = 0.033</text>\n<text text-anchor=\"middle\" x=\"2772\" y=\"-119.3\" font-family=\"Helvetica,sans-Serif\" font-size=\"14.00\" fill=\"#000000\">samples = 4731</text>\n<text text-anchor=\"middle\" x=\"2772\" y=\"-104.3\" font-family=\"Helvetica,sans-Serif\" font-size=\"14.00\" fill=\"#000000\">value = 2.094</text>\n</g>\n<!-- 139&#45;&gt;179 -->\n<g id=\"edge72\" class=\"edge\">\n<title>139&#45;&gt;179</title>\n<path fill=\"none\" stroke=\"#000000\" d=\"M2865.4862,-192.9465C2849.4394,-180.9403 2831.4481,-167.4791 2815.5661,-155.5962\"/>\n<polygon fill=\"#000000\" stroke=\"#000000\" points=\"2817.5783,-152.7306 2807.4746,-149.5422 2813.3848,-158.3354 2817.5783,-152.7306\"/>\n</g>\n<!-- 180 -->\n<g id=\"node74\" class=\"node\">\n<title>180</title>\n<polygon fill=\"#fae8db\" stroke=\"#000000\" points=\"2970,-157 2850,-157 2850,-89 2970,-89 2970,-157\"/>\n<text text-anchor=\"middle\" x=\"2910\" y=\"-141.8\" font-family=\"Helvetica,sans-Serif\" font-size=\"14.00\" fill=\"#000000\">year &lt;= 2011.5</text>\n<text text-anchor=\"middle\" x=\"2910\" y=\"-126.8\" font-family=\"Helvetica,sans-Serif\" font-size=\"14.00\" fill=\"#000000\">mse = 0.052</text>\n<text text-anchor=\"middle\" x=\"2910\" y=\"-111.8\" font-family=\"Helvetica,sans-Serif\" font-size=\"14.00\" fill=\"#000000\">samples = 2281</text>\n<text text-anchor=\"middle\" x=\"2910\" y=\"-96.8\" font-family=\"Helvetica,sans-Serif\" font-size=\"14.00\" fill=\"#000000\">value = 2.152</text>\n</g>\n<!-- 139&#45;&gt;180 -->\n<g id=\"edge73\" class=\"edge\">\n<title>139&#45;&gt;180</title>\n<path fill=\"none\" stroke=\"#000000\" d=\"M2910.6726,-192.9465C2910.594,-184.776 2910.509,-175.9318 2910.4266,-167.3697\"/>\n<polygon fill=\"#000000\" stroke=\"#000000\" points=\"2913.9243,-167.0958 2910.3282,-157.13 2906.9246,-167.1632 2913.9243,-167.0958\"/>\n</g>\n<!-- 181 -->\n<g id=\"node75\" class=\"node\">\n<title>181</title>\n<polygon fill=\"#fbeade\" stroke=\"#000000\" points=\"2838,-53 2718,-53 2718,0 2838,0 2838,-53\"/>\n<text text-anchor=\"middle\" x=\"2778\" y=\"-37.8\" font-family=\"Helvetica,sans-Serif\" font-size=\"14.00\" fill=\"#000000\">mse = 0.051</text>\n<text text-anchor=\"middle\" x=\"2778\" y=\"-22.8\" font-family=\"Helvetica,sans-Serif\" font-size=\"14.00\" fill=\"#000000\">samples = 1687</text>\n<text text-anchor=\"middle\" x=\"2778\" y=\"-7.8\" font-family=\"Helvetica,sans-Serif\" font-size=\"14.00\" fill=\"#000000\">value = 2.117</text>\n</g>\n<!-- 180&#45;&gt;181 -->\n<g id=\"edge74\" class=\"edge\">\n<title>180&#45;&gt;181</title>\n<path fill=\"none\" stroke=\"#000000\" d=\"M2863.4617,-88.9777C2850.3099,-79.3629 2836.0257,-68.9203 2822.968,-59.3743\"/>\n<polygon fill=\"#000000\" stroke=\"#000000\" points=\"2824.727,-56.3247 2814.5886,-53.2485 2820.5958,-61.9757 2824.727,-56.3247\"/>\n</g>\n<!-- 182 -->\n<g id=\"node76\" class=\"node\">\n<title>182</title>\n<polygon fill=\"#f9e4d4\" stroke=\"#000000\" points=\"2968,-53 2856,-53 2856,0 2968,0 2968,-53\"/>\n<text text-anchor=\"middle\" x=\"2912\" y=\"-37.8\" font-family=\"Helvetica,sans-Serif\" font-size=\"14.00\" fill=\"#000000\">mse = 0.04</text>\n<text text-anchor=\"middle\" x=\"2912\" y=\"-22.8\" font-family=\"Helvetica,sans-Serif\" font-size=\"14.00\" fill=\"#000000\">samples = 594</text>\n<text text-anchor=\"middle\" x=\"2912\" y=\"-7.8\" font-family=\"Helvetica,sans-Serif\" font-size=\"14.00\" fill=\"#000000\">value = 2.253</text>\n</g>\n<!-- 180&#45;&gt;182 -->\n<g id=\"edge75\" class=\"edge\">\n<title>180&#45;&gt;182</title>\n<path fill=\"none\" stroke=\"#000000\" d=\"M2910.7051,-88.9777C2910.8759,-80.7364 2911.0593,-71.887 2911.2328,-63.5153\"/>\n<polygon fill=\"#000000\" stroke=\"#000000\" points=\"2914.7376,-63.3189 2911.4456,-53.2485 2907.7391,-63.1738 2914.7376,-63.3189\"/>\n</g>\n<!-- 153 -->\n<g id=\"node79\" class=\"node\">\n<title>153</title>\n<polygon fill=\"#fae6d7\" stroke=\"#000000\" points=\"3251,-261 3131,-261 3131,-193 3251,-193 3251,-261\"/>\n<text text-anchor=\"middle\" x=\"3191\" y=\"-245.8\" font-family=\"Helvetica,sans-Serif\" font-size=\"14.00\" fill=\"#000000\">Hour &lt;= 7.5</text>\n<text text-anchor=\"middle\" x=\"3191\" y=\"-230.8\" font-family=\"Helvetica,sans-Serif\" font-size=\"14.00\" fill=\"#000000\">mse = 0.042</text>\n<text text-anchor=\"middle\" x=\"3191\" y=\"-215.8\" font-family=\"Helvetica,sans-Serif\" font-size=\"14.00\" fill=\"#000000\">samples = 7137</text>\n<text text-anchor=\"middle\" x=\"3191\" y=\"-200.8\" font-family=\"Helvetica,sans-Serif\" font-size=\"14.00\" fill=\"#000000\">value = 2.213</text>\n</g>\n<!-- 48&#45;&gt;153 -->\n<g id=\"edge78\" class=\"edge\">\n<title>48&#45;&gt;153</title>\n<path fill=\"none\" stroke=\"#000000\" d=\"M3278.4331,-296.9465C3266.6488,-287.519 3253.7432,-277.1946 3241.5519,-267.4415\"/>\n<polygon fill=\"#000000\" stroke=\"#000000\" points=\"3243.6577,-264.6439 3233.6625,-261.13 3239.2848,-270.11 3243.6577,-264.6439\"/>\n</g>\n<!-- 154 -->\n<g id=\"node84\" class=\"node\">\n<title>154</title>\n<polygon fill=\"#fae8db\" stroke=\"#000000\" points=\"3389,-253.5 3269,-253.5 3269,-200.5 3389,-200.5 3389,-253.5\"/>\n<text text-anchor=\"middle\" x=\"3329\" y=\"-238.3\" font-family=\"Helvetica,sans-Serif\" font-size=\"14.00\" fill=\"#000000\">mse = 0.037</text>\n<text text-anchor=\"middle\" x=\"3329\" y=\"-223.3\" font-family=\"Helvetica,sans-Serif\" font-size=\"14.00\" fill=\"#000000\">samples = 2238</text>\n<text text-anchor=\"middle\" x=\"3329\" y=\"-208.3\" font-family=\"Helvetica,sans-Serif\" font-size=\"14.00\" fill=\"#000000\">value = 2.153</text>\n</g>\n<!-- 48&#45;&gt;154 -->\n<g id=\"edge83\" class=\"edge\">\n<title>48&#45;&gt;154</title>\n<path fill=\"none\" stroke=\"#000000\" d=\"M3323.6195,-296.9465C3324.4414,-286.2621 3325.3519,-274.4254 3326.1866,-263.5742\"/>\n<polygon fill=\"#000000\" stroke=\"#000000\" points=\"3329.6809,-263.7812 3326.9583,-253.5422 3322.7015,-263.2442 3329.6809,-263.7812\"/>\n</g>\n<!-- 155 -->\n<g id=\"node80\" class=\"node\">\n<title>155</title>\n<polygon fill=\"#fae8db\" stroke=\"#000000\" points=\"3108,-149.5 2988,-149.5 2988,-96.5 3108,-96.5 3108,-149.5\"/>\n<text text-anchor=\"middle\" x=\"3048\" y=\"-134.3\" font-family=\"Helvetica,sans-Serif\" font-size=\"14.00\" fill=\"#000000\">mse = 0.039</text>\n<text text-anchor=\"middle\" x=\"3048\" y=\"-119.3\" font-family=\"Helvetica,sans-Serif\" font-size=\"14.00\" fill=\"#000000\">samples = 1353</text>\n<text text-anchor=\"middle\" x=\"3048\" y=\"-104.3\" font-family=\"Helvetica,sans-Serif\" font-size=\"14.00\" fill=\"#000000\">value = 2.151</text>\n</g>\n<!-- 153&#45;&gt;155 -->\n<g id=\"edge79\" class=\"edge\">\n<title>153&#45;&gt;155</title>\n<path fill=\"none\" stroke=\"#000000\" d=\"M3144.1765,-192.9465C3127.6679,-180.9403 3109.1588,-167.4791 3092.8198,-155.5962\"/>\n<polygon fill=\"#000000\" stroke=\"#000000\" points=\"3094.6415,-152.5933 3084.4955,-149.5422 3090.5242,-158.2545 3094.6415,-152.5933\"/>\n</g>\n<!-- 156 -->\n<g id=\"node81\" class=\"node\">\n<title>156</title>\n<polygon fill=\"#fae5d6\" stroke=\"#000000\" points=\"3258,-157 3126,-157 3126,-89 3258,-89 3258,-157\"/>\n<text text-anchor=\"middle\" x=\"3192\" y=\"-141.8\" font-family=\"Helvetica,sans-Serif\" font-size=\"14.00\" fill=\"#000000\">distance &lt;= 1.196</text>\n<text text-anchor=\"middle\" x=\"3192\" y=\"-126.8\" font-family=\"Helvetica,sans-Serif\" font-size=\"14.00\" fill=\"#000000\">mse = 0.042</text>\n<text text-anchor=\"middle\" x=\"3192\" y=\"-111.8\" font-family=\"Helvetica,sans-Serif\" font-size=\"14.00\" fill=\"#000000\">samples = 5784</text>\n<text text-anchor=\"middle\" x=\"3192\" y=\"-96.8\" font-family=\"Helvetica,sans-Serif\" font-size=\"14.00\" fill=\"#000000\">value = 2.228</text>\n</g>\n<!-- 153&#45;&gt;156 -->\n<g id=\"edge80\" class=\"edge\">\n<title>153&#45;&gt;156</title>\n<path fill=\"none\" stroke=\"#000000\" d=\"M3191.3274,-192.9465C3191.406,-184.776 3191.491,-175.9318 3191.5734,-167.3697\"/>\n<polygon fill=\"#000000\" stroke=\"#000000\" points=\"3195.0754,-167.1632 3191.6718,-157.13 3188.0757,-167.0958 3195.0754,-167.1632\"/>\n</g>\n<!-- 183 -->\n<g id=\"node82\" class=\"node\">\n<title>183</title>\n<polygon fill=\"#fae6d8\" stroke=\"#000000\" points=\"3109,-53 2989,-53 2989,0 3109,0 3109,-53\"/>\n<text text-anchor=\"middle\" x=\"3049\" y=\"-37.8\" font-family=\"Helvetica,sans-Serif\" font-size=\"14.00\" fill=\"#000000\">mse = 0.038</text>\n<text text-anchor=\"middle\" x=\"3049\" y=\"-22.8\" font-family=\"Helvetica,sans-Serif\" font-size=\"14.00\" fill=\"#000000\">samples = 3310</text>\n<text text-anchor=\"middle\" x=\"3049\" y=\"-7.8\" font-family=\"Helvetica,sans-Serif\" font-size=\"14.00\" fill=\"#000000\">value = 2.202</text>\n</g>\n<!-- 156&#45;&gt;183 -->\n<g id=\"edge81\" class=\"edge\">\n<title>156&#45;&gt;183</title>\n<path fill=\"none\" stroke=\"#000000\" d=\"M3141.5835,-88.9777C3127.2,-79.2713 3111.5663,-68.7213 3097.3115,-59.1018\"/>\n<polygon fill=\"#000000\" stroke=\"#000000\" points=\"3098.8846,-55.941 3088.6376,-53.2485 3094.969,-61.7435 3098.8846,-55.941\"/>\n</g>\n<!-- 184 -->\n<g id=\"node83\" class=\"node\">\n<title>184</title>\n<polygon fill=\"#f9e3d4\" stroke=\"#000000\" points=\"3247,-53 3127,-53 3127,0 3247,0 3247,-53\"/>\n<text text-anchor=\"middle\" x=\"3187\" y=\"-37.8\" font-family=\"Helvetica,sans-Serif\" font-size=\"14.00\" fill=\"#000000\">mse = 0.045</text>\n<text text-anchor=\"middle\" x=\"3187\" y=\"-22.8\" font-family=\"Helvetica,sans-Serif\" font-size=\"14.00\" fill=\"#000000\">samples = 2474</text>\n<text text-anchor=\"middle\" x=\"3187\" y=\"-7.8\" font-family=\"Helvetica,sans-Serif\" font-size=\"14.00\" fill=\"#000000\">value = 2.262</text>\n</g>\n<!-- 156&#45;&gt;184 -->\n<g id=\"edge82\" class=\"edge\">\n<title>156&#45;&gt;184</title>\n<path fill=\"none\" stroke=\"#000000\" d=\"M3190.2372,-88.9777C3189.8054,-80.6449 3189.3415,-71.6903 3188.9034,-63.2364\"/>\n<polygon fill=\"#000000\" stroke=\"#000000\" points=\"3192.3988,-63.0539 3188.3859,-53.2485 3185.4082,-63.4162 3192.3988,-63.0539\"/>\n</g>\n<!-- 89 -->\n<g id=\"node86\" class=\"node\">\n<title>89</title>\n<polygon fill=\"#f9e1d0\" stroke=\"#000000\" points=\"3573,-365 3441,-365 3441,-297 3573,-297 3573,-365\"/>\n<text text-anchor=\"middle\" x=\"3507\" y=\"-349.8\" font-family=\"Helvetica,sans-Serif\" font-size=\"14.00\" fill=\"#000000\">distance &lt;= 1.159</text>\n<text text-anchor=\"middle\" x=\"3507\" y=\"-334.8\" font-family=\"Helvetica,sans-Serif\" font-size=\"14.00\" fill=\"#000000\">mse = 0.052</text>\n<text text-anchor=\"middle\" x=\"3507\" y=\"-319.8\" font-family=\"Helvetica,sans-Serif\" font-size=\"14.00\" fill=\"#000000\">samples = 8862</text>\n<text text-anchor=\"middle\" x=\"3507\" y=\"-304.8\" font-family=\"Helvetica,sans-Serif\" font-size=\"14.00\" fill=\"#000000\">value = 2.317</text>\n</g>\n<!-- 22&#45;&gt;89 -->\n<g id=\"edge85\" class=\"edge\">\n<title>22&#45;&gt;89</title>\n<path fill=\"none\" stroke=\"#000000\" d=\"M3515.7433,-400.9465C3514.7108,-392.6863 3513.5922,-383.7374 3512.5109,-375.0875\"/>\n<polygon fill=\"#000000\" stroke=\"#000000\" points=\"3515.9797,-374.6186 3511.2662,-365.13 3509.0337,-375.4869 3515.9797,-374.6186\"/>\n</g>\n<!-- 90 -->\n<g id=\"node99\" class=\"node\">\n<title>90</title>\n<polygon fill=\"#fae5d6\" stroke=\"#000000\" points=\"3711,-357.5 3591,-357.5 3591,-304.5 3711,-304.5 3711,-357.5\"/>\n<text text-anchor=\"middle\" x=\"3651\" y=\"-342.3\" font-family=\"Helvetica,sans-Serif\" font-size=\"14.00\" fill=\"#000000\">mse = 0.042</text>\n<text text-anchor=\"middle\" x=\"3651\" y=\"-327.3\" font-family=\"Helvetica,sans-Serif\" font-size=\"14.00\" fill=\"#000000\">samples = 2049</text>\n<text text-anchor=\"middle\" x=\"3651\" y=\"-312.3\" font-family=\"Helvetica,sans-Serif\" font-size=\"14.00\" fill=\"#000000\">value = 2.222</text>\n</g>\n<!-- 22&#45;&gt;90 -->\n<g id=\"edge98\" class=\"edge\">\n<title>22&#45;&gt;90</title>\n<path fill=\"none\" stroke=\"#000000\" d=\"M3562.8943,-400.9465C3577.8788,-389.0504 3594.6624,-375.726 3609.5288,-363.9237\"/>\n<polygon fill=\"#000000\" stroke=\"#000000\" points=\"3611.9113,-366.5011 3617.5671,-357.5422 3607.5589,-361.0187 3611.9113,-366.5011\"/>\n</g>\n<!-- 91 -->\n<g id=\"node87\" class=\"node\">\n<title>91</title>\n<polygon fill=\"#f9e3d3\" stroke=\"#000000\" points=\"3566,-261 3434,-261 3434,-193 3566,-193 3566,-261\"/>\n<text text-anchor=\"middle\" x=\"3500\" y=\"-245.8\" font-family=\"Helvetica,sans-Serif\" font-size=\"14.00\" fill=\"#000000\">distance &lt;= 1.055</text>\n<text text-anchor=\"middle\" x=\"3500\" y=\"-230.8\" font-family=\"Helvetica,sans-Serif\" font-size=\"14.00\" fill=\"#000000\">mse = 0.048</text>\n<text text-anchor=\"middle\" x=\"3500\" y=\"-215.8\" font-family=\"Helvetica,sans-Serif\" font-size=\"14.00\" fill=\"#000000\">samples = 5817</text>\n<text text-anchor=\"middle\" x=\"3500\" y=\"-200.8\" font-family=\"Helvetica,sans-Serif\" font-size=\"14.00\" fill=\"#000000\">value = 2.275</text>\n</g>\n<!-- 89&#45;&gt;91 -->\n<g id=\"edge86\" class=\"edge\">\n<title>89&#45;&gt;91</title>\n<path fill=\"none\" stroke=\"#000000\" d=\"M3504.7079,-296.9465C3504.158,-288.776 3503.5627,-279.9318 3502.9864,-271.3697\"/>\n<polygon fill=\"#000000\" stroke=\"#000000\" points=\"3506.461,-270.8723 3502.2972,-261.13 3499.4768,-271.3425 3506.461,-270.8723\"/>\n</g>\n<!-- 92 -->\n<g id=\"node94\" class=\"node\">\n<title>92</title>\n<polygon fill=\"#f8ddca\" stroke=\"#000000\" points=\"3787.5,-261 3584.5,-261 3584.5,-193 3787.5,-193 3787.5,-261\"/>\n<text text-anchor=\"middle\" x=\"3686\" y=\"-245.8\" font-family=\"Helvetica,sans-Serif\" font-size=\"14.00\" fill=\"#000000\">dropoff_longitude &lt;= &#45;74.022</text>\n<text text-anchor=\"middle\" x=\"3686\" y=\"-230.8\" font-family=\"Helvetica,sans-Serif\" font-size=\"14.00\" fill=\"#000000\">mse = 0.051</text>\n<text text-anchor=\"middle\" x=\"3686\" y=\"-215.8\" font-family=\"Helvetica,sans-Serif\" font-size=\"14.00\" fill=\"#000000\">samples = 3045</text>\n<text text-anchor=\"middle\" x=\"3686\" y=\"-200.8\" font-family=\"Helvetica,sans-Serif\" font-size=\"14.00\" fill=\"#000000\">value = 2.397</text>\n</g>\n<!-- 89&#45;&gt;92 -->\n<g id=\"edge93\" class=\"edge\">\n<title>89&#45;&gt;92</title>\n<path fill=\"none\" stroke=\"#000000\" d=\"M3565.6113,-296.9465C3582.4555,-287.1599 3600.9636,-276.4066 3618.308,-266.3294\"/>\n<polygon fill=\"#000000\" stroke=\"#000000\" points=\"3620.3688,-269.18 3627.257,-261.13 3616.8522,-263.1274 3620.3688,-269.18\"/>\n</g>\n<!-- 129 -->\n<g id=\"node88\" class=\"node\">\n<title>129</title>\n<polygon fill=\"#fae5d6\" stroke=\"#000000\" points=\"3511,-157 3391,-157 3391,-89 3511,-89 3511,-157\"/>\n<text text-anchor=\"middle\" x=\"3451\" y=\"-141.8\" font-family=\"Helvetica,sans-Serif\" font-size=\"14.00\" fill=\"#000000\">Hour &lt;= 7.5</text>\n<text text-anchor=\"middle\" x=\"3451\" y=\"-126.8\" font-family=\"Helvetica,sans-Serif\" font-size=\"14.00\" fill=\"#000000\">mse = 0.046</text>\n<text text-anchor=\"middle\" x=\"3451\" y=\"-111.8\" font-family=\"Helvetica,sans-Serif\" font-size=\"14.00\" fill=\"#000000\">samples = 2478</text>\n<text text-anchor=\"middle\" x=\"3451\" y=\"-96.8\" font-family=\"Helvetica,sans-Serif\" font-size=\"14.00\" fill=\"#000000\">value = 2.232</text>\n</g>\n<!-- 91&#45;&gt;129 -->\n<g id=\"edge87\" class=\"edge\">\n<title>91&#45;&gt;129</title>\n<path fill=\"none\" stroke=\"#000000\" d=\"M3483.9556,-192.9465C3479.9368,-184.4169 3475.5721,-175.153 3471.3738,-166.2424\"/>\n<polygon fill=\"#000000\" stroke=\"#000000\" points=\"3474.5089,-164.6844 3467.0805,-157.13 3468.1765,-167.668 3474.5089,-164.6844\"/>\n</g>\n<!-- 130 -->\n<g id=\"node91\" class=\"node\">\n<title>130</title>\n<polygon fill=\"#f9e1d1\" stroke=\"#000000\" points=\"3649,-157 3529,-157 3529,-89 3649,-89 3649,-157\"/>\n<text text-anchor=\"middle\" x=\"3589\" y=\"-141.8\" font-family=\"Helvetica,sans-Serif\" font-size=\"14.00\" fill=\"#000000\">Hour &lt;= 7.5</text>\n<text text-anchor=\"middle\" x=\"3589\" y=\"-126.8\" font-family=\"Helvetica,sans-Serif\" font-size=\"14.00\" fill=\"#000000\">mse = 0.047</text>\n<text text-anchor=\"middle\" x=\"3589\" y=\"-111.8\" font-family=\"Helvetica,sans-Serif\" font-size=\"14.00\" fill=\"#000000\">samples = 3339</text>\n<text text-anchor=\"middle\" x=\"3589\" y=\"-96.8\" font-family=\"Helvetica,sans-Serif\" font-size=\"14.00\" fill=\"#000000\">value = 2.307</text>\n</g>\n<!-- 91&#45;&gt;130 -->\n<g id=\"edge90\" class=\"edge\">\n<title>91&#45;&gt;130</title>\n<path fill=\"none\" stroke=\"#000000\" d=\"M3529.1419,-192.9465C3536.8255,-183.968 3545.2053,-174.1758 3553.1959,-164.8385\"/>\n<polygon fill=\"#000000\" stroke=\"#000000\" points=\"3555.9499,-167.0034 3559.7926,-157.13 3550.6315,-162.4521 3555.9499,-167.0034\"/>\n</g>\n<!-- 177 -->\n<g id=\"node89\" class=\"node\">\n<title>177</title>\n<polygon fill=\"#fbe9dd\" stroke=\"#000000\" points=\"3377,-53 3265,-53 3265,0 3377,0 3377,-53\"/>\n<text text-anchor=\"middle\" x=\"3321\" y=\"-37.8\" font-family=\"Helvetica,sans-Serif\" font-size=\"14.00\" fill=\"#000000\">mse = 0.032</text>\n<text text-anchor=\"middle\" x=\"3321\" y=\"-22.8\" font-family=\"Helvetica,sans-Serif\" font-size=\"14.00\" fill=\"#000000\">samples = 404</text>\n<text text-anchor=\"middle\" x=\"3321\" y=\"-7.8\" font-family=\"Helvetica,sans-Serif\" font-size=\"14.00\" fill=\"#000000\">value = 2.126</text>\n</g>\n<!-- 129&#45;&gt;177 -->\n<g id=\"edge88\" class=\"edge\">\n<title>129&#45;&gt;177</title>\n<path fill=\"none\" stroke=\"#000000\" d=\"M3405.1669,-88.9777C3392.2143,-79.3629 3378.1465,-68.9203 3365.2867,-59.3743\"/>\n<polygon fill=\"#000000\" stroke=\"#000000\" points=\"3367.1499,-56.3986 3357.0342,-53.2485 3362.9776,-62.0193 3367.1499,-56.3986\"/>\n</g>\n<!-- 178 -->\n<g id=\"node90\" class=\"node\">\n<title>178</title>\n<polygon fill=\"#f9e4d4\" stroke=\"#000000\" points=\"3515,-53 3395,-53 3395,0 3515,0 3515,-53\"/>\n<text text-anchor=\"middle\" x=\"3455\" y=\"-37.8\" font-family=\"Helvetica,sans-Serif\" font-size=\"14.00\" fill=\"#000000\">mse = 0.046</text>\n<text text-anchor=\"middle\" x=\"3455\" y=\"-22.8\" font-family=\"Helvetica,sans-Serif\" font-size=\"14.00\" fill=\"#000000\">samples = 2074</text>\n<text text-anchor=\"middle\" x=\"3455\" y=\"-7.8\" font-family=\"Helvetica,sans-Serif\" font-size=\"14.00\" fill=\"#000000\">value = 2.252</text>\n</g>\n<!-- 129&#45;&gt;178 -->\n<g id=\"edge89\" class=\"edge\">\n<title>129&#45;&gt;178</title>\n<path fill=\"none\" stroke=\"#000000\" d=\"M3452.4103,-88.9777C3452.7519,-80.7364 3453.1187,-71.887 3453.4657,-63.5153\"/>\n<polygon fill=\"#000000\" stroke=\"#000000\" points=\"3456.974,-63.3849 3453.8913,-53.2485 3449.98,-63.0949 3456.974,-63.3849\"/>\n</g>\n<!-- 161 -->\n<g id=\"node92\" class=\"node\">\n<title>161</title>\n<polygon fill=\"#fae6d7\" stroke=\"#000000\" points=\"3645,-53 3533,-53 3533,0 3645,0 3645,-53\"/>\n<text text-anchor=\"middle\" x=\"3589\" y=\"-37.8\" font-family=\"Helvetica,sans-Serif\" font-size=\"14.00\" fill=\"#000000\">mse = 0.031</text>\n<text text-anchor=\"middle\" x=\"3589\" y=\"-22.8\" font-family=\"Helvetica,sans-Serif\" font-size=\"14.00\" fill=\"#000000\">samples = 547</text>\n<text text-anchor=\"middle\" x=\"3589\" y=\"-7.8\" font-family=\"Helvetica,sans-Serif\" font-size=\"14.00\" fill=\"#000000\">value = 2.21</text>\n</g>\n<!-- 130&#45;&gt;161 -->\n<g id=\"edge91\" class=\"edge\">\n<title>130&#45;&gt;161</title>\n<path fill=\"none\" stroke=\"#000000\" d=\"M3589,-88.9777C3589,-80.7364 3589,-71.887 3589,-63.5153\"/>\n<polygon fill=\"#000000\" stroke=\"#000000\" points=\"3592.5001,-63.2484 3589,-53.2485 3585.5001,-63.2485 3592.5001,-63.2484\"/>\n</g>\n<!-- 162 -->\n<g id=\"node93\" class=\"node\">\n<title>162</title>\n<polygon fill=\"#f9e1cf\" stroke=\"#000000\" points=\"3783,-53 3663,-53 3663,0 3783,0 3783,-53\"/>\n<text text-anchor=\"middle\" x=\"3723\" y=\"-37.8\" font-family=\"Helvetica,sans-Serif\" font-size=\"14.00\" fill=\"#000000\">mse = 0.048</text>\n<text text-anchor=\"middle\" x=\"3723\" y=\"-22.8\" font-family=\"Helvetica,sans-Serif\" font-size=\"14.00\" fill=\"#000000\">samples = 2792</text>\n<text text-anchor=\"middle\" x=\"3723\" y=\"-7.8\" font-family=\"Helvetica,sans-Serif\" font-size=\"14.00\" fill=\"#000000\">value = 2.327</text>\n</g>\n<!-- 130&#45;&gt;162 -->\n<g id=\"edge92\" class=\"edge\">\n<title>130&#45;&gt;162</title>\n<path fill=\"none\" stroke=\"#000000\" d=\"M3636.2434,-88.9777C3649.7217,-79.2713 3664.3715,-68.7213 3677.7291,-59.1018\"/>\n<polygon fill=\"#000000\" stroke=\"#000000\" points=\"3679.7876,-61.9325 3685.857,-53.2485 3675.6969,-56.2522 3679.7876,-61.9325\"/>\n</g>\n<!-- 143 -->\n<g id=\"node95\" class=\"node\">\n<title>143</title>\n<polygon fill=\"#ea9b61\" stroke=\"#000000\" points=\"3764.5,-149.5 3667.5,-149.5 3667.5,-96.5 3764.5,-96.5 3764.5,-149.5\"/>\n<text text-anchor=\"middle\" x=\"3716\" y=\"-134.3\" font-family=\"Helvetica,sans-Serif\" font-size=\"14.00\" fill=\"#000000\">mse = 0.025</text>\n<text text-anchor=\"middle\" x=\"3716\" y=\"-119.3\" font-family=\"Helvetica,sans-Serif\" font-size=\"14.00\" fill=\"#000000\">samples = 3</text>\n<text text-anchor=\"middle\" x=\"3716\" y=\"-104.3\" font-family=\"Helvetica,sans-Serif\" font-size=\"14.00\" fill=\"#000000\">value = 3.92</text>\n</g>\n<!-- 92&#45;&gt;143 -->\n<g id=\"edge94\" class=\"edge\">\n<title>92&#45;&gt;143</title>\n<path fill=\"none\" stroke=\"#000000\" d=\"M3695.8231,-192.9465C3698.937,-182.1519 3702.39,-170.1813 3705.5465,-159.2389\"/>\n<polygon fill=\"#000000\" stroke=\"#000000\" points=\"3708.9348,-160.1205 3708.3436,-149.5422 3702.209,-158.1803 3708.9348,-160.1205\"/>\n</g>\n<!-- 144 -->\n<g id=\"node96\" class=\"node\">\n<title>144</title>\n<polygon fill=\"#f8deca\" stroke=\"#000000\" points=\"3917,-157 3797,-157 3797,-89 3917,-89 3917,-157\"/>\n<text text-anchor=\"middle\" x=\"3857\" y=\"-141.8\" font-family=\"Helvetica,sans-Serif\" font-size=\"14.00\" fill=\"#000000\">Hour &lt;= 7.5</text>\n<text text-anchor=\"middle\" x=\"3857\" y=\"-126.8\" font-family=\"Helvetica,sans-Serif\" font-size=\"14.00\" fill=\"#000000\">mse = 0.049</text>\n<text text-anchor=\"middle\" x=\"3857\" y=\"-111.8\" font-family=\"Helvetica,sans-Serif\" font-size=\"14.00\" fill=\"#000000\">samples = 3042</text>\n<text text-anchor=\"middle\" x=\"3857\" y=\"-96.8\" font-family=\"Helvetica,sans-Serif\" font-size=\"14.00\" fill=\"#000000\">value = 2.396</text>\n</g>\n<!-- 92&#45;&gt;144 -->\n<g id=\"edge95\" class=\"edge\">\n<title>92&#45;&gt;144</title>\n<path fill=\"none\" stroke=\"#000000\" d=\"M3741.9918,-192.9465C3758.0832,-183.1599 3775.7641,-172.4066 3792.3334,-162.3294\"/>\n<polygon fill=\"#000000\" stroke=\"#000000\" points=\"3794.1572,-165.3167 3800.8824,-157.13 3790.5198,-159.336 3794.1572,-165.3167\"/>\n</g>\n<!-- 151 -->\n<g id=\"node97\" class=\"node\">\n<title>151</title>\n<polygon fill=\"#f9e2d1\" stroke=\"#000000\" points=\"3913,-53 3801,-53 3801,0 3913,0 3913,-53\"/>\n<text text-anchor=\"middle\" x=\"3857\" y=\"-37.8\" font-family=\"Helvetica,sans-Serif\" font-size=\"14.00\" fill=\"#000000\">mse = 0.04</text>\n<text text-anchor=\"middle\" x=\"3857\" y=\"-22.8\" font-family=\"Helvetica,sans-Serif\" font-size=\"14.00\" fill=\"#000000\">samples = 549</text>\n<text text-anchor=\"middle\" x=\"3857\" y=\"-7.8\" font-family=\"Helvetica,sans-Serif\" font-size=\"14.00\" fill=\"#000000\">value = 2.297</text>\n</g>\n<!-- 144&#45;&gt;151 -->\n<g id=\"edge96\" class=\"edge\">\n<title>144&#45;&gt;151</title>\n<path fill=\"none\" stroke=\"#000000\" d=\"M3857,-88.9777C3857,-80.7364 3857,-71.887 3857,-63.5153\"/>\n<polygon fill=\"#000000\" stroke=\"#000000\" points=\"3860.5001,-63.2484 3857,-53.2485 3853.5001,-63.2485 3860.5001,-63.2484\"/>\n</g>\n<!-- 152 -->\n<g id=\"node98\" class=\"node\">\n<title>152</title>\n<polygon fill=\"#f8ddc9\" stroke=\"#000000\" points=\"4051,-53 3931,-53 3931,0 4051,0 4051,-53\"/>\n<text text-anchor=\"middle\" x=\"3991\" y=\"-37.8\" font-family=\"Helvetica,sans-Serif\" font-size=\"14.00\" fill=\"#000000\">mse = 0.049</text>\n<text text-anchor=\"middle\" x=\"3991\" y=\"-22.8\" font-family=\"Helvetica,sans-Serif\" font-size=\"14.00\" fill=\"#000000\">samples = 2493</text>\n<text text-anchor=\"middle\" x=\"3991\" y=\"-7.8\" font-family=\"Helvetica,sans-Serif\" font-size=\"14.00\" fill=\"#000000\">value = 2.418</text>\n</g>\n<!-- 144&#45;&gt;152 -->\n<g id=\"edge97\" class=\"edge\">\n<title>144&#45;&gt;152</title>\n<path fill=\"none\" stroke=\"#000000\" d=\"M3904.2434,-88.9777C3917.7217,-79.2713 3932.3715,-68.7213 3945.7291,-59.1018\"/>\n<polygon fill=\"#000000\" stroke=\"#000000\" points=\"3947.7876,-61.9325 3953.857,-53.2485 3943.6969,-56.2522 3947.7876,-61.9325\"/>\n</g>\n<!-- 27 -->\n<g id=\"node101\" class=\"node\">\n<title>27</title>\n<polygon fill=\"#f8dfcc\" stroke=\"#000000\" points=\"4132,-469 4004,-469 4004,-401 4132,-401 4132,-469\"/>\n<text text-anchor=\"middle\" x=\"4068\" y=\"-453.8\" font-family=\"Helvetica,sans-Serif\" font-size=\"14.00\" fill=\"#000000\">year &lt;= 2012.5</text>\n<text text-anchor=\"middle\" x=\"4068\" y=\"-438.8\" font-family=\"Helvetica,sans-Serif\" font-size=\"14.00\" fill=\"#000000\">mse = 0.052</text>\n<text text-anchor=\"middle\" x=\"4068\" y=\"-423.8\" font-family=\"Helvetica,sans-Serif\" font-size=\"14.00\" fill=\"#000000\">samples = 13695</text>\n<text text-anchor=\"middle\" x=\"4068\" y=\"-408.8\" font-family=\"Helvetica,sans-Serif\" font-size=\"14.00\" fill=\"#000000\">value = 2.37</text>\n</g>\n<!-- 8&#45;&gt;27 -->\n<g id=\"edge100\" class=\"edge\">\n<title>8&#45;&gt;27</title>\n<path fill=\"none\" stroke=\"#000000\" d=\"M4068,-504.9465C4068,-496.776 4068,-487.9318 4068,-479.3697\"/>\n<polygon fill=\"#000000\" stroke=\"#000000\" points=\"4071.5001,-479.13 4068,-469.13 4064.5001,-479.13 4071.5001,-479.13\"/>\n</g>\n<!-- 28 -->\n<g id=\"node112\" class=\"node\">\n<title>28</title>\n<polygon fill=\"#f7dac4\" stroke=\"#000000\" points=\"4546,-469 4418,-469 4418,-401 4546,-401 4546,-469\"/>\n<text text-anchor=\"middle\" x=\"4482\" y=\"-453.8\" font-family=\"Helvetica,sans-Serif\" font-size=\"14.00\" fill=\"#000000\">year &lt;= 2012.5</text>\n<text text-anchor=\"middle\" x=\"4482\" y=\"-438.8\" font-family=\"Helvetica,sans-Serif\" font-size=\"14.00\" fill=\"#000000\">mse = 0.056</text>\n<text text-anchor=\"middle\" x=\"4482\" y=\"-423.8\" font-family=\"Helvetica,sans-Serif\" font-size=\"14.00\" fill=\"#000000\">samples = 10802</text>\n<text text-anchor=\"middle\" x=\"4482\" y=\"-408.8\" font-family=\"Helvetica,sans-Serif\" font-size=\"14.00\" fill=\"#000000\">value = 2.486</text>\n</g>\n<!-- 8&#45;&gt;28 -->\n<g id=\"edge111\" class=\"edge\">\n<title>8&#45;&gt;28</title>\n<path fill=\"none\" stroke=\"#000000\" d=\"M4134.0573,-522.4059C4208.8201,-503.6249 4330.2959,-473.1092 4408.1383,-453.5546\"/>\n<polygon fill=\"#000000\" stroke=\"#000000\" points=\"4409.0338,-456.9385 4417.8797,-451.1075 4407.3282,-450.1494 4409.0338,-456.9385\"/>\n</g>\n<!-- 29 -->\n<g id=\"node102\" class=\"node\">\n<title>29</title>\n<polygon fill=\"#f9e1d1\" stroke=\"#000000\" points=\"4041,-365 3909,-365 3909,-297 4041,-297 4041,-365\"/>\n<text text-anchor=\"middle\" x=\"3975\" y=\"-349.8\" font-family=\"Helvetica,sans-Serif\" font-size=\"14.00\" fill=\"#000000\">distance &lt;= 1.317</text>\n<text text-anchor=\"middle\" x=\"3975\" y=\"-334.8\" font-family=\"Helvetica,sans-Serif\" font-size=\"14.00\" fill=\"#000000\">mse = 0.043</text>\n<text text-anchor=\"middle\" x=\"3975\" y=\"-319.8\" font-family=\"Helvetica,sans-Serif\" font-size=\"14.00\" fill=\"#000000\">samples = 8596</text>\n<text text-anchor=\"middle\" x=\"3975\" y=\"-304.8\" font-family=\"Helvetica,sans-Serif\" font-size=\"14.00\" fill=\"#000000\">value = 2.307</text>\n</g>\n<!-- 27&#45;&gt;29 -->\n<g id=\"edge101\" class=\"edge\">\n<title>27&#45;&gt;29</title>\n<path fill=\"none\" stroke=\"#000000\" d=\"M4037.5483,-400.9465C4029.5194,-391.968 4020.763,-382.1758 4012.4133,-372.8385\"/>\n<polygon fill=\"#000000\" stroke=\"#000000\" points=\"4014.795,-370.2512 4005.5201,-365.13 4009.577,-374.9174 4014.795,-370.2512\"/>\n</g>\n<!-- 30 -->\n<g id=\"node105\" class=\"node\">\n<title>30</title>\n<polygon fill=\"#f7dac5\" stroke=\"#000000\" points=\"4262.5,-365 4059.5,-365 4059.5,-297 4262.5,-297 4262.5,-365\"/>\n<text text-anchor=\"middle\" x=\"4161\" y=\"-349.8\" font-family=\"Helvetica,sans-Serif\" font-size=\"14.00\" fill=\"#000000\">dropoff_longitude &lt;= &#45;74.022</text>\n<text text-anchor=\"middle\" x=\"4161\" y=\"-334.8\" font-family=\"Helvetica,sans-Serif\" font-size=\"14.00\" fill=\"#000000\">mse = 0.05</text>\n<text text-anchor=\"middle\" x=\"4161\" y=\"-319.8\" font-family=\"Helvetica,sans-Serif\" font-size=\"14.00\" fill=\"#000000\">samples = 5099</text>\n<text text-anchor=\"middle\" x=\"4161\" y=\"-304.8\" font-family=\"Helvetica,sans-Serif\" font-size=\"14.00\" fill=\"#000000\">value = 2.476</text>\n</g>\n<!-- 27&#45;&gt;30 -->\n<g id=\"edge104\" class=\"edge\">\n<title>27&#45;&gt;30</title>\n<path fill=\"none\" stroke=\"#000000\" d=\"M4098.4517,-400.9465C4106.4806,-391.968 4115.237,-382.1758 4123.5867,-372.8385\"/>\n<polygon fill=\"#000000\" stroke=\"#000000\" points=\"4126.423,-374.9174 4130.4799,-365.13 4121.205,-370.2512 4126.423,-374.9174\"/>\n</g>\n<!-- 145 -->\n<g id=\"node103\" class=\"node\">\n<title>145</title>\n<polygon fill=\"#f9e3d3\" stroke=\"#000000\" points=\"3925,-253.5 3805,-253.5 3805,-200.5 3925,-200.5 3925,-253.5\"/>\n<text text-anchor=\"middle\" x=\"3865\" y=\"-238.3\" font-family=\"Helvetica,sans-Serif\" font-size=\"14.00\" fill=\"#000000\">mse = 0.043</text>\n<text text-anchor=\"middle\" x=\"3865\" y=\"-223.3\" font-family=\"Helvetica,sans-Serif\" font-size=\"14.00\" fill=\"#000000\">samples = 3131</text>\n<text text-anchor=\"middle\" x=\"3865\" y=\"-208.3\" font-family=\"Helvetica,sans-Serif\" font-size=\"14.00\" fill=\"#000000\">value = 2.27</text>\n</g>\n<!-- 29&#45;&gt;145 -->\n<g id=\"edge102\" class=\"edge\">\n<title>29&#45;&gt;145</title>\n<path fill=\"none\" stroke=\"#000000\" d=\"M3938.9819,-296.9465C3926.6325,-285.2707 3912.8278,-272.219 3900.5183,-260.5809\"/>\n<polygon fill=\"#000000\" stroke=\"#000000\" points=\"3902.7445,-257.869 3893.0734,-253.5422 3897.9354,-262.9556 3902.7445,-257.869\"/>\n</g>\n<!-- 146 -->\n<g id=\"node104\" class=\"node\">\n<title>146</title>\n<polygon fill=\"#f9e1cf\" stroke=\"#000000\" points=\"4063,-253.5 3943,-253.5 3943,-200.5 4063,-200.5 4063,-253.5\"/>\n<text text-anchor=\"middle\" x=\"4003\" y=\"-238.3\" font-family=\"Helvetica,sans-Serif\" font-size=\"14.00\" fill=\"#000000\">mse = 0.042</text>\n<text text-anchor=\"middle\" x=\"4003\" y=\"-223.3\" font-family=\"Helvetica,sans-Serif\" font-size=\"14.00\" fill=\"#000000\">samples = 5465</text>\n<text text-anchor=\"middle\" x=\"4003\" y=\"-208.3\" font-family=\"Helvetica,sans-Serif\" font-size=\"14.00\" fill=\"#000000\">value = 2.328</text>\n</g>\n<!-- 29&#45;&gt;146 -->\n<g id=\"edge103\" class=\"edge\">\n<title>29&#45;&gt;146</title>\n<path fill=\"none\" stroke=\"#000000\" d=\"M3984.1682,-296.9465C3987.0745,-286.1519 3990.2974,-274.1813 3993.2434,-263.2389\"/>\n<polygon fill=\"#000000\" stroke=\"#000000\" points=\"3996.6339,-264.1083 3995.854,-253.5422 3989.8746,-262.2884 3996.6339,-264.1083\"/>\n</g>\n<!-- 125 -->\n<g id=\"node106\" class=\"node\">\n<title>125</title>\n<polygon fill=\"#eda876\" stroke=\"#000000\" points=\"4185,-253.5 4081,-253.5 4081,-200.5 4185,-200.5 4185,-253.5\"/>\n<text text-anchor=\"middle\" x=\"4133\" y=\"-238.3\" font-family=\"Helvetica,sans-Serif\" font-size=\"14.00\" fill=\"#000000\">mse = 0.527</text>\n<text text-anchor=\"middle\" x=\"4133\" y=\"-223.3\" font-family=\"Helvetica,sans-Serif\" font-size=\"14.00\" fill=\"#000000\">samples = 7</text>\n<text text-anchor=\"middle\" x=\"4133\" y=\"-208.3\" font-family=\"Helvetica,sans-Serif\" font-size=\"14.00\" fill=\"#000000\">value = 3.624</text>\n</g>\n<!-- 30&#45;&gt;125 -->\n<g id=\"edge105\" class=\"edge\">\n<title>30&#45;&gt;125</title>\n<path fill=\"none\" stroke=\"#000000\" d=\"M4151.8318,-296.9465C4148.9255,-286.1519 4145.7026,-274.1813 4142.7566,-263.2389\"/>\n<polygon fill=\"#000000\" stroke=\"#000000\" points=\"4146.1254,-262.2884 4140.146,-253.5422 4139.3661,-264.1083 4146.1254,-262.2884\"/>\n</g>\n<!-- 126 -->\n<g id=\"node107\" class=\"node\">\n<title>126</title>\n<polygon fill=\"#f7dac5\" stroke=\"#000000\" points=\"4323,-261 4203,-261 4203,-193 4323,-193 4323,-261\"/>\n<text text-anchor=\"middle\" x=\"4263\" y=\"-245.8\" font-family=\"Helvetica,sans-Serif\" font-size=\"14.00\" fill=\"#000000\">Hour &lt;= 7.5</text>\n<text text-anchor=\"middle\" x=\"4263\" y=\"-230.8\" font-family=\"Helvetica,sans-Serif\" font-size=\"14.00\" fill=\"#000000\">mse = 0.047</text>\n<text text-anchor=\"middle\" x=\"4263\" y=\"-215.8\" font-family=\"Helvetica,sans-Serif\" font-size=\"14.00\" fill=\"#000000\">samples = 5092</text>\n<text text-anchor=\"middle\" x=\"4263\" y=\"-200.8\" font-family=\"Helvetica,sans-Serif\" font-size=\"14.00\" fill=\"#000000\">value = 2.475</text>\n</g>\n<!-- 30&#45;&gt;126 -->\n<g id=\"edge106\" class=\"edge\">\n<title>30&#45;&gt;126</title>\n<path fill=\"none\" stroke=\"#000000\" d=\"M4194.3986,-296.9465C4203.3806,-287.7884 4213.1928,-277.7838 4222.515,-268.2788\"/>\n<polygon fill=\"#000000\" stroke=\"#000000\" points=\"4225.023,-270.7201 4229.5263,-261.13 4220.0254,-265.8187 4225.023,-270.7201\"/>\n</g>\n<!-- 133 -->\n<g id=\"node108\" class=\"node\">\n<title>133</title>\n<polygon fill=\"#f8decb\" stroke=\"#000000\" points=\"4171,-149.5 4059,-149.5 4059,-96.5 4171,-96.5 4171,-149.5\"/>\n<text text-anchor=\"middle\" x=\"4115\" y=\"-134.3\" font-family=\"Helvetica,sans-Serif\" font-size=\"14.00\" fill=\"#000000\">mse = 0.035</text>\n<text text-anchor=\"middle\" x=\"4115\" y=\"-119.3\" font-family=\"Helvetica,sans-Serif\" font-size=\"14.00\" fill=\"#000000\">samples = 925</text>\n<text text-anchor=\"middle\" x=\"4115\" y=\"-104.3\" font-family=\"Helvetica,sans-Serif\" font-size=\"14.00\" fill=\"#000000\">value = 2.393</text>\n</g>\n<!-- 126&#45;&gt;133 -->\n<g id=\"edge107\" class=\"edge\">\n<title>126&#45;&gt;133</title>\n<path fill=\"none\" stroke=\"#000000\" d=\"M4214.5393,-192.9465C4197.4535,-180.9403 4178.2972,-167.4791 4161.387,-155.5962\"/>\n<polygon fill=\"#000000\" stroke=\"#000000\" points=\"4162.9658,-152.428 4152.7715,-149.5422 4158.9412,-158.1553 4162.9658,-152.428\"/>\n</g>\n<!-- 134 -->\n<g id=\"node109\" class=\"node\">\n<title>134</title>\n<polygon fill=\"#f7d9c4\" stroke=\"#000000\" points=\"4374.5,-157 4189.5,-157 4189.5,-89 4374.5,-89 4374.5,-157\"/>\n<text text-anchor=\"middle\" x=\"4282\" y=\"-141.8\" font-family=\"Helvetica,sans-Serif\" font-size=\"14.00\" fill=\"#000000\">dropoff_latitude &lt;= 40.774</text>\n<text text-anchor=\"middle\" x=\"4282\" y=\"-126.8\" font-family=\"Helvetica,sans-Serif\" font-size=\"14.00\" fill=\"#000000\">mse = 0.048</text>\n<text text-anchor=\"middle\" x=\"4282\" y=\"-111.8\" font-family=\"Helvetica,sans-Serif\" font-size=\"14.00\" fill=\"#000000\">samples = 4167</text>\n<text text-anchor=\"middle\" x=\"4282\" y=\"-96.8\" font-family=\"Helvetica,sans-Serif\" font-size=\"14.00\" fill=\"#000000\">value = 2.493</text>\n</g>\n<!-- 126&#45;&gt;134 -->\n<g id=\"edge108\" class=\"edge\">\n<title>126&#45;&gt;134</title>\n<path fill=\"none\" stroke=\"#000000\" d=\"M4269.2213,-192.9465C4270.7304,-184.6863 4272.3653,-175.7374 4273.9455,-167.0875\"/>\n<polygon fill=\"#000000\" stroke=\"#000000\" points=\"4277.4105,-167.5962 4275.7647,-157.13 4270.5244,-166.3381 4277.4105,-167.5962\"/>\n</g>\n<!-- 135 -->\n<g id=\"node110\" class=\"node\">\n<title>135</title>\n<polygon fill=\"#f7d8c2\" stroke=\"#000000\" points=\"4237,-53 4117,-53 4117,0 4237,0 4237,-53\"/>\n<text text-anchor=\"middle\" x=\"4177\" y=\"-37.8\" font-family=\"Helvetica,sans-Serif\" font-size=\"14.00\" fill=\"#000000\">mse = 0.05</text>\n<text text-anchor=\"middle\" x=\"4177\" y=\"-22.8\" font-family=\"Helvetica,sans-Serif\" font-size=\"14.00\" fill=\"#000000\">samples = 3305</text>\n<text text-anchor=\"middle\" x=\"4177\" y=\"-7.8\" font-family=\"Helvetica,sans-Serif\" font-size=\"14.00\" fill=\"#000000\">value = 2.515</text>\n</g>\n<!-- 134&#45;&gt;135 -->\n<g id=\"edge109\" class=\"edge\">\n<title>134&#45;&gt;135</title>\n<path fill=\"none\" stroke=\"#000000\" d=\"M4244.9809,-88.9777C4234.8181,-79.6376 4223.8053,-69.5163 4213.6626,-60.1947\"/>\n<polygon fill=\"#000000\" stroke=\"#000000\" points=\"4215.8358,-57.4383 4206.1046,-53.2485 4211.099,-62.5923 4215.8358,-57.4383\"/>\n</g>\n<!-- 136 -->\n<g id=\"node111\" class=\"node\">\n<title>136</title>\n<polygon fill=\"#f8ddca\" stroke=\"#000000\" points=\"4367,-53 4255,-53 4255,0 4367,0 4367,-53\"/>\n<text text-anchor=\"middle\" x=\"4311\" y=\"-37.8\" font-family=\"Helvetica,sans-Serif\" font-size=\"14.00\" fill=\"#000000\">mse = 0.034</text>\n<text text-anchor=\"middle\" x=\"4311\" y=\"-22.8\" font-family=\"Helvetica,sans-Serif\" font-size=\"14.00\" fill=\"#000000\">samples = 862</text>\n<text text-anchor=\"middle\" x=\"4311\" y=\"-7.8\" font-family=\"Helvetica,sans-Serif\" font-size=\"14.00\" fill=\"#000000\">value = 2.409</text>\n</g>\n<!-- 134&#45;&gt;136 -->\n<g id=\"edge110\" class=\"edge\">\n<title>134&#45;&gt;136</title>\n<path fill=\"none\" stroke=\"#000000\" d=\"M4292.2243,-88.9777C4294.756,-80.5533 4297.4787,-71.4934 4300.0437,-62.9579\"/>\n<polygon fill=\"#000000\" stroke=\"#000000\" points=\"4303.4354,-63.8327 4302.9616,-53.2485 4296.7316,-61.818 4303.4354,-63.8327\"/>\n</g>\n<!-- 31 -->\n<g id=\"node113\" class=\"node\">\n<title>31</title>\n<polygon fill=\"#f8dcc9\" stroke=\"#000000\" points=\"4548,-365 4416,-365 4416,-297 4548,-297 4548,-365\"/>\n<text text-anchor=\"middle\" x=\"4482\" y=\"-349.8\" font-family=\"Helvetica,sans-Serif\" font-size=\"14.00\" fill=\"#000000\">distance &lt;= 1.509</text>\n<text text-anchor=\"middle\" x=\"4482\" y=\"-334.8\" font-family=\"Helvetica,sans-Serif\" font-size=\"14.00\" fill=\"#000000\">mse = 0.047</text>\n<text text-anchor=\"middle\" x=\"4482\" y=\"-319.8\" font-family=\"Helvetica,sans-Serif\" font-size=\"14.00\" fill=\"#000000\">samples = 6833</text>\n<text text-anchor=\"middle\" x=\"4482\" y=\"-304.8\" font-family=\"Helvetica,sans-Serif\" font-size=\"14.00\" fill=\"#000000\">value = 2.422</text>\n</g>\n<!-- 28&#45;&gt;31 -->\n<g id=\"edge112\" class=\"edge\">\n<title>28&#45;&gt;31</title>\n<path fill=\"none\" stroke=\"#000000\" d=\"M4482,-400.9465C4482,-392.776 4482,-383.9318 4482,-375.3697\"/>\n<polygon fill=\"#000000\" stroke=\"#000000\" points=\"4485.5001,-375.13 4482,-365.13 4478.5001,-375.13 4485.5001,-375.13\"/>\n</g>\n<!-- 32 -->\n<g id=\"node118\" class=\"node\">\n<title>32</title>\n<polygon fill=\"#f6d5bd\" stroke=\"#000000\" points=\"4850.5,-365 4647.5,-365 4647.5,-297 4850.5,-297 4850.5,-365\"/>\n<text text-anchor=\"middle\" x=\"4749\" y=\"-349.8\" font-family=\"Helvetica,sans-Serif\" font-size=\"14.00\" fill=\"#000000\">dropoff_longitude &lt;= &#45;74.025</text>\n<text text-anchor=\"middle\" x=\"4749\" y=\"-334.8\" font-family=\"Helvetica,sans-Serif\" font-size=\"14.00\" fill=\"#000000\">mse = 0.053</text>\n<text text-anchor=\"middle\" x=\"4749\" y=\"-319.8\" font-family=\"Helvetica,sans-Serif\" font-size=\"14.00\" fill=\"#000000\">samples = 3969</text>\n<text text-anchor=\"middle\" x=\"4749\" y=\"-304.8\" font-family=\"Helvetica,sans-Serif\" font-size=\"14.00\" fill=\"#000000\">value = 2.596</text>\n</g>\n<!-- 28&#45;&gt;32 -->\n<g id=\"edge117\" class=\"edge\">\n<title>28&#45;&gt;32</title>\n<path fill=\"none\" stroke=\"#000000\" d=\"M4546.2929,-409.9571C4578.0222,-397.5981 4616.9608,-382.431 4652.2003,-368.7047\"/>\n<polygon fill=\"#000000\" stroke=\"#000000\" points=\"4653.5034,-371.9534 4661.5511,-365.0625 4650.9627,-365.4307 4653.5034,-371.9534\"/>\n</g>\n<!-- 163 -->\n<g id=\"node114\" class=\"node\">\n<title>163</title>\n<polygon fill=\"#f8ddca\" stroke=\"#000000\" points=\"4461,-253.5 4341,-253.5 4341,-200.5 4461,-200.5 4461,-253.5\"/>\n<text text-anchor=\"middle\" x=\"4401\" y=\"-238.3\" font-family=\"Helvetica,sans-Serif\" font-size=\"14.00\" fill=\"#000000\">mse = 0.044</text>\n<text text-anchor=\"middle\" x=\"4401\" y=\"-223.3\" font-family=\"Helvetica,sans-Serif\" font-size=\"14.00\" fill=\"#000000\">samples = 4072</text>\n<text text-anchor=\"middle\" x=\"4401\" y=\"-208.3\" font-family=\"Helvetica,sans-Serif\" font-size=\"14.00\" fill=\"#000000\">value = 2.397</text>\n</g>\n<!-- 31&#45;&gt;163 -->\n<g id=\"edge113\" class=\"edge\">\n<title>31&#45;&gt;163</title>\n<path fill=\"none\" stroke=\"#000000\" d=\"M4455.4776,-296.9465C4446.6413,-285.6012 4436.7932,-272.9567 4427.9266,-261.5724\"/>\n<polygon fill=\"#000000\" stroke=\"#000000\" points=\"4430.5783,-259.281 4421.6723,-253.5422 4425.0556,-263.5823 4430.5783,-259.281\"/>\n</g>\n<!-- 164 -->\n<g id=\"node115\" class=\"node\">\n<title>164</title>\n<polygon fill=\"#f8dbc6\" stroke=\"#000000\" points=\"4682.5,-261 4479.5,-261 4479.5,-193 4682.5,-193 4682.5,-261\"/>\n<text text-anchor=\"middle\" x=\"4581\" y=\"-245.8\" font-family=\"Helvetica,sans-Serif\" font-size=\"14.00\" fill=\"#000000\">dropoff_longitude &lt;= &#45;74.018</text>\n<text text-anchor=\"middle\" x=\"4581\" y=\"-230.8\" font-family=\"Helvetica,sans-Serif\" font-size=\"14.00\" fill=\"#000000\">mse = 0.049</text>\n<text text-anchor=\"middle\" x=\"4581\" y=\"-215.8\" font-family=\"Helvetica,sans-Serif\" font-size=\"14.00\" fill=\"#000000\">samples = 2761</text>\n<text text-anchor=\"middle\" x=\"4581\" y=\"-200.8\" font-family=\"Helvetica,sans-Serif\" font-size=\"14.00\" fill=\"#000000\">value = 2.458</text>\n</g>\n<!-- 31&#45;&gt;164 -->\n<g id=\"edge114\" class=\"edge\">\n<title>31&#45;&gt;164</title>\n<path fill=\"none\" stroke=\"#000000\" d=\"M4514.4163,-296.9465C4523.0486,-287.8782 4532.4711,-277.9799 4541.4395,-268.5585\"/>\n<polygon fill=\"#000000\" stroke=\"#000000\" points=\"4544.1511,-270.7863 4548.5109,-261.13 4539.081,-265.9599 4544.1511,-270.7863\"/>\n</g>\n<!-- 165 -->\n<g id=\"node116\" class=\"node\">\n<title>165</title>\n<polygon fill=\"#efb083\" stroke=\"#000000\" points=\"4516,-149.5 4412,-149.5 4412,-96.5 4516,-96.5 4516,-149.5\"/>\n<text text-anchor=\"middle\" x=\"4464\" y=\"-134.3\" font-family=\"Helvetica,sans-Serif\" font-size=\"14.00\" fill=\"#000000\">mse = 0.538</text>\n<text text-anchor=\"middle\" x=\"4464\" y=\"-119.3\" font-family=\"Helvetica,sans-Serif\" font-size=\"14.00\" fill=\"#000000\">samples = 10</text>\n<text text-anchor=\"middle\" x=\"4464\" y=\"-104.3\" font-family=\"Helvetica,sans-Serif\" font-size=\"14.00\" fill=\"#000000\">value = 3.433</text>\n</g>\n<!-- 164&#45;&gt;165 -->\n<g id=\"edge115\" class=\"edge\">\n<title>164&#45;&gt;165</title>\n<path fill=\"none\" stroke=\"#000000\" d=\"M4542.6898,-192.9465C4529.4306,-181.1606 4514.5942,-167.9726 4501.4084,-156.2519\"/>\n<polygon fill=\"#000000\" stroke=\"#000000\" points=\"4503.6593,-153.5699 4493.8599,-149.5422 4499.0088,-158.8018 4503.6593,-153.5699\"/>\n</g>\n<!-- 166 -->\n<g id=\"node117\" class=\"node\">\n<title>166</title>\n<polygon fill=\"#f8dbc6\" stroke=\"#000000\" points=\"4654,-149.5 4534,-149.5 4534,-96.5 4654,-96.5 4654,-149.5\"/>\n<text text-anchor=\"middle\" x=\"4594\" y=\"-134.3\" font-family=\"Helvetica,sans-Serif\" font-size=\"14.00\" fill=\"#000000\">mse = 0.044</text>\n<text text-anchor=\"middle\" x=\"4594\" y=\"-119.3\" font-family=\"Helvetica,sans-Serif\" font-size=\"14.00\" fill=\"#000000\">samples = 2751</text>\n<text text-anchor=\"middle\" x=\"4594\" y=\"-104.3\" font-family=\"Helvetica,sans-Serif\" font-size=\"14.00\" fill=\"#000000\">value = 2.454</text>\n</g>\n<!-- 164&#45;&gt;166 -->\n<g id=\"edge116\" class=\"edge\">\n<title>164&#45;&gt;166</title>\n<path fill=\"none\" stroke=\"#000000\" d=\"M4585.2567,-192.9465C4586.5922,-182.2621 4588.0718,-170.4254 4589.4282,-159.5742\"/>\n<polygon fill=\"#000000\" stroke=\"#000000\" points=\"4592.9148,-159.8991 4590.6822,-149.5422 4585.9688,-159.0308 4592.9148,-159.8991\"/>\n</g>\n<!-- 147 -->\n<g id=\"node119\" class=\"node\">\n<title>147</title>\n<polygon fill=\"#ea9c63\" stroke=\"#000000\" points=\"4797.5,-253.5 4700.5,-253.5 4700.5,-200.5 4797.5,-200.5 4797.5,-253.5\"/>\n<text text-anchor=\"middle\" x=\"4749\" y=\"-238.3\" font-family=\"Helvetica,sans-Serif\" font-size=\"14.00\" fill=\"#000000\">mse = 0.127</text>\n<text text-anchor=\"middle\" x=\"4749\" y=\"-223.3\" font-family=\"Helvetica,sans-Serif\" font-size=\"14.00\" fill=\"#000000\">samples = 4</text>\n<text text-anchor=\"middle\" x=\"4749\" y=\"-208.3\" font-family=\"Helvetica,sans-Serif\" font-size=\"14.00\" fill=\"#000000\">value = 3.9</text>\n</g>\n<!-- 32&#45;&gt;147 -->\n<g id=\"edge118\" class=\"edge\">\n<title>32&#45;&gt;147</title>\n<path fill=\"none\" stroke=\"#000000\" d=\"M4749,-296.9465C4749,-286.2621 4749,-274.4254 4749,-263.5742\"/>\n<polygon fill=\"#000000\" stroke=\"#000000\" points=\"4752.5001,-263.5421 4749,-253.5422 4745.5001,-263.5422 4752.5001,-263.5421\"/>\n</g>\n<!-- 148 -->\n<g id=\"node120\" class=\"node\">\n<title>148</title>\n<polygon fill=\"#f6d5bd\" stroke=\"#000000\" points=\"4936,-261 4816,-261 4816,-193 4936,-193 4936,-261\"/>\n<text text-anchor=\"middle\" x=\"4876\" y=\"-245.8\" font-family=\"Helvetica,sans-Serif\" font-size=\"14.00\" fill=\"#000000\">Hour &lt;= 7.5</text>\n<text text-anchor=\"middle\" x=\"4876\" y=\"-230.8\" font-family=\"Helvetica,sans-Serif\" font-size=\"14.00\" fill=\"#000000\">mse = 0.051</text>\n<text text-anchor=\"middle\" x=\"4876\" y=\"-215.8\" font-family=\"Helvetica,sans-Serif\" font-size=\"14.00\" fill=\"#000000\">samples = 3965</text>\n<text text-anchor=\"middle\" x=\"4876\" y=\"-200.8\" font-family=\"Helvetica,sans-Serif\" font-size=\"14.00\" fill=\"#000000\">value = 2.595</text>\n</g>\n<!-- 32&#45;&gt;148 -->\n<g id=\"edge119\" class=\"edge\">\n<title>32&#45;&gt;148</title>\n<path fill=\"none\" stroke=\"#000000\" d=\"M4790.5845,-296.9465C4801.9873,-287.6088 4814.4647,-277.3911 4826.2743,-267.7203\"/>\n<polygon fill=\"#000000\" stroke=\"#000000\" points=\"4828.8026,-270.1736 4834.322,-261.13 4824.3676,-264.7578 4828.8026,-270.1736\"/>\n</g>\n<!-- 169 -->\n<g id=\"node121\" class=\"node\">\n<title>169</title>\n<polygon fill=\"#f7d8c2\" stroke=\"#000000\" points=\"4798,-149.5 4686,-149.5 4686,-96.5 4798,-96.5 4798,-149.5\"/>\n<text text-anchor=\"middle\" x=\"4742\" y=\"-134.3\" font-family=\"Helvetica,sans-Serif\" font-size=\"14.00\" fill=\"#000000\">mse = 0.038</text>\n<text text-anchor=\"middle\" x=\"4742\" y=\"-119.3\" font-family=\"Helvetica,sans-Serif\" font-size=\"14.00\" fill=\"#000000\">samples = 786</text>\n<text text-anchor=\"middle\" x=\"4742\" y=\"-104.3\" font-family=\"Helvetica,sans-Serif\" font-size=\"14.00\" fill=\"#000000\">value = 2.518</text>\n</g>\n<!-- 148&#45;&gt;169 -->\n<g id=\"edge120\" class=\"edge\">\n<title>148&#45;&gt;169</title>\n<path fill=\"none\" stroke=\"#000000\" d=\"M4832.1234,-192.9465C4816.7957,-181.0504 4799.6277,-167.726 4784.4209,-155.9237\"/>\n<polygon fill=\"#000000\" stroke=\"#000000\" points=\"4786.2444,-152.9085 4776.1986,-149.5422 4781.9525,-158.4384 4786.2444,-152.9085\"/>\n</g>\n<!-- 170 -->\n<g id=\"node122\" class=\"node\">\n<title>170</title>\n<polygon fill=\"#f6d4bb\" stroke=\"#000000\" points=\"4936,-157 4816,-157 4816,-89 4936,-89 4936,-157\"/>\n<text text-anchor=\"middle\" x=\"4876\" y=\"-141.8\" font-family=\"Helvetica,sans-Serif\" font-size=\"14.00\" fill=\"#000000\">Hour &lt;= 18.5</text>\n<text text-anchor=\"middle\" x=\"4876\" y=\"-126.8\" font-family=\"Helvetica,sans-Serif\" font-size=\"14.00\" fill=\"#000000\">mse = 0.052</text>\n<text text-anchor=\"middle\" x=\"4876\" y=\"-111.8\" font-family=\"Helvetica,sans-Serif\" font-size=\"14.00\" fill=\"#000000\">samples = 3179</text>\n<text text-anchor=\"middle\" x=\"4876\" y=\"-96.8\" font-family=\"Helvetica,sans-Serif\" font-size=\"14.00\" fill=\"#000000\">value = 2.614</text>\n</g>\n<!-- 148&#45;&gt;170 -->\n<g id=\"edge121\" class=\"edge\">\n<title>148&#45;&gt;170</title>\n<path fill=\"none\" stroke=\"#000000\" d=\"M4876,-192.9465C4876,-184.776 4876,-175.9318 4876,-167.3697\"/>\n<polygon fill=\"#000000\" stroke=\"#000000\" points=\"4879.5001,-167.13 4876,-157.13 4872.5001,-167.13 4879.5001,-167.13\"/>\n</g>\n<!-- 171 -->\n<g id=\"node123\" class=\"node\">\n<title>171</title>\n<polygon fill=\"#f6d2b9\" stroke=\"#000000\" points=\"4800,-53 4680,-53 4680,0 4800,0 4800,-53\"/>\n<text text-anchor=\"middle\" x=\"4740\" y=\"-37.8\" font-family=\"Helvetica,sans-Serif\" font-size=\"14.00\" fill=\"#000000\">mse = 0.055</text>\n<text text-anchor=\"middle\" x=\"4740\" y=\"-22.8\" font-family=\"Helvetica,sans-Serif\" font-size=\"14.00\" fill=\"#000000\">samples = 1966</text>\n<text text-anchor=\"middle\" x=\"4740\" y=\"-7.8\" font-family=\"Helvetica,sans-Serif\" font-size=\"14.00\" fill=\"#000000\">value = 2.654</text>\n</g>\n<!-- 170&#45;&gt;171 -->\n<g id=\"edge122\" class=\"edge\">\n<title>170&#45;&gt;171</title>\n<path fill=\"none\" stroke=\"#000000\" d=\"M4828.0515,-88.9777C4814.372,-79.2713 4799.5036,-68.7213 4785.9466,-59.1018\"/>\n<polygon fill=\"#000000\" stroke=\"#000000\" points=\"4787.8783,-56.1809 4777.6973,-53.2485 4783.8275,-61.8898 4787.8783,-56.1809\"/>\n</g>\n<!-- 172 -->\n<g id=\"node124\" class=\"node\">\n<title>172</title>\n<polygon fill=\"#f7d7c0\" stroke=\"#000000\" points=\"4938,-53 4818,-53 4818,0 4938,0 4938,-53\"/>\n<text text-anchor=\"middle\" x=\"4878\" y=\"-37.8\" font-family=\"Helvetica,sans-Serif\" font-size=\"14.00\" fill=\"#000000\">mse = 0.041</text>\n<text text-anchor=\"middle\" x=\"4878\" y=\"-22.8\" font-family=\"Helvetica,sans-Serif\" font-size=\"14.00\" fill=\"#000000\">samples = 1213</text>\n<text text-anchor=\"middle\" x=\"4878\" y=\"-7.8\" font-family=\"Helvetica,sans-Serif\" font-size=\"14.00\" fill=\"#000000\">value = 2.549</text>\n</g>\n<!-- 170&#45;&gt;172 -->\n<g id=\"edge123\" class=\"edge\">\n<title>170&#45;&gt;172</title>\n<path fill=\"none\" stroke=\"#000000\" d=\"M4876.7051,-88.9777C4876.8759,-80.7364 4877.0593,-71.887 4877.2328,-63.5153\"/>\n<polygon fill=\"#000000\" stroke=\"#000000\" points=\"4880.7376,-63.3189 4877.4456,-53.2485 4873.7391,-63.1738 4880.7376,-63.3189\"/>\n</g>\n<!-- 5 -->\n<g id=\"node126\" class=\"node\">\n<title>5</title>\n<polygon fill=\"#f5cdb1\" stroke=\"#000000\" points=\"5853,-677 5721,-677 5721,-609 5853,-609 5853,-677\"/>\n<text text-anchor=\"middle\" x=\"5787\" y=\"-661.8\" font-family=\"Helvetica,sans-Serif\" font-size=\"14.00\" fill=\"#000000\">distance &lt;= 1.937</text>\n<text text-anchor=\"middle\" x=\"5787\" y=\"-646.8\" font-family=\"Helvetica,sans-Serif\" font-size=\"14.00\" fill=\"#000000\">mse = 0.081</text>\n<text text-anchor=\"middle\" x=\"5787\" y=\"-631.8\" font-family=\"Helvetica,sans-Serif\" font-size=\"14.00\" fill=\"#000000\">samples = 26327</text>\n<text text-anchor=\"middle\" x=\"5787\" y=\"-616.8\" font-family=\"Helvetica,sans-Serif\" font-size=\"14.00\" fill=\"#000000\">value = 2.767</text>\n</g>\n<!-- 2&#45;&gt;5 -->\n<g id=\"edge125\" class=\"edge\">\n<title>2&#45;&gt;5</title>\n<path fill=\"none\" stroke=\"#000000\" d=\"M5787,-712.9465C5787,-704.776 5787,-695.9318 5787,-687.3697\"/>\n<polygon fill=\"#000000\" stroke=\"#000000\" points=\"5790.5001,-687.13 5787,-677.13 5783.5001,-687.13 5790.5001,-687.13\"/>\n</g>\n<!-- 6 -->\n<g id=\"node159\" class=\"node\">\n<title>6</title>\n<polygon fill=\"#eead7f\" stroke=\"#000000\" points=\"7062,-677 6862,-677 6862,-609 7062,-609 7062,-677\"/>\n<text text-anchor=\"middle\" x=\"6962\" y=\"-661.8\" font-family=\"Helvetica,sans-Serif\" font-size=\"14.00\" fill=\"#000000\">pickup_longitude &lt;= &#45;73.722</text>\n<text text-anchor=\"middle\" x=\"6962\" y=\"-646.8\" font-family=\"Helvetica,sans-Serif\" font-size=\"14.00\" fill=\"#000000\">mse = 0.206</text>\n<text text-anchor=\"middle\" x=\"6962\" y=\"-631.8\" font-family=\"Helvetica,sans-Serif\" font-size=\"14.00\" fill=\"#000000\">samples = 11514</text>\n<text text-anchor=\"middle\" x=\"6962\" y=\"-616.8\" font-family=\"Helvetica,sans-Serif\" font-size=\"14.00\" fill=\"#000000\">value = 3.493</text>\n</g>\n<!-- 2&#45;&gt;6 -->\n<g id=\"edge158\" class=\"edge\">\n<title>2&#45;&gt;6</title>\n<path fill=\"none\" stroke=\"#000000\" d=\"M5853.1147,-741.1481C6046.2754,-724.0514 6611.2103,-674.0486 6851.6319,-652.7687\"/>\n<polygon fill=\"#000000\" stroke=\"#000000\" points=\"6852.1365,-656.2379 6861.7889,-651.8697 6851.5193,-649.2651 6852.1365,-656.2379\"/>\n</g>\n<!-- 11 -->\n<g id=\"node127\" class=\"node\">\n<title>11</title>\n<polygon fill=\"#f6d1b7\" stroke=\"#000000\" points=\"5666,-573 5538,-573 5538,-505 5666,-505 5666,-573\"/>\n<text text-anchor=\"middle\" x=\"5602\" y=\"-557.8\" font-family=\"Helvetica,sans-Serif\" font-size=\"14.00\" fill=\"#000000\">year &lt;= 2012.5</text>\n<text text-anchor=\"middle\" x=\"5602\" y=\"-542.8\" font-family=\"Helvetica,sans-Serif\" font-size=\"14.00\" fill=\"#000000\">mse = 0.061</text>\n<text text-anchor=\"middle\" x=\"5602\" y=\"-527.8\" font-family=\"Helvetica,sans-Serif\" font-size=\"14.00\" fill=\"#000000\">samples = 18000</text>\n<text text-anchor=\"middle\" x=\"5602\" y=\"-512.8\" font-family=\"Helvetica,sans-Serif\" font-size=\"14.00\" fill=\"#000000\">value = 2.678</text>\n</g>\n<!-- 5&#45;&gt;11 -->\n<g id=\"edge126\" class=\"edge\">\n<title>5&#45;&gt;11</title>\n<path fill=\"none\" stroke=\"#000000\" d=\"M5726.4241,-608.9465C5708.8555,-599.0701 5689.5357,-588.2093 5671.4679,-578.0522\"/>\n<polygon fill=\"#000000\" stroke=\"#000000\" points=\"5673.1442,-574.9795 5662.712,-573.13 5669.7139,-581.0814 5673.1442,-574.9795\"/>\n</g>\n<!-- 12 -->\n<g id=\"node146\" class=\"node\">\n<title>12</title>\n<polygon fill=\"#f3c5a4\" stroke=\"#000000\" points=\"5989,-573 5869,-573 5869,-505 5989,-505 5989,-573\"/>\n<text text-anchor=\"middle\" x=\"5929\" y=\"-557.8\" font-family=\"Helvetica,sans-Serif\" font-size=\"14.00\" fill=\"#000000\">year &lt;= 2012.5</text>\n<text text-anchor=\"middle\" x=\"5929\" y=\"-542.8\" font-family=\"Helvetica,sans-Serif\" font-size=\"14.00\" fill=\"#000000\">mse = 0.071</text>\n<text text-anchor=\"middle\" x=\"5929\" y=\"-527.8\" font-family=\"Helvetica,sans-Serif\" font-size=\"14.00\" fill=\"#000000\">samples = 8327</text>\n<text text-anchor=\"middle\" x=\"5929\" y=\"-512.8\" font-family=\"Helvetica,sans-Serif\" font-size=\"14.00\" fill=\"#000000\">value = 2.96</text>\n</g>\n<!-- 5&#45;&gt;12 -->\n<g id=\"edge145\" class=\"edge\">\n<title>5&#45;&gt;12</title>\n<path fill=\"none\" stroke=\"#000000\" d=\"M5833.4961,-608.9465C5846.4908,-599.4293 5860.7337,-588.9978 5874.1621,-579.163\"/>\n<polygon fill=\"#000000\" stroke=\"#000000\" points=\"5876.3998,-581.8624 5882.3994,-573.13 5872.2637,-576.2151 5876.3998,-581.8624\"/>\n</g>\n<!-- 23 -->\n<g id=\"node128\" class=\"node\">\n<title>23</title>\n<polygon fill=\"#f6d4bc\" stroke=\"#000000\" points=\"5439.5,-469 5236.5,-469 5236.5,-401 5439.5,-401 5439.5,-469\"/>\n<text text-anchor=\"middle\" x=\"5338\" y=\"-453.8\" font-family=\"Helvetica,sans-Serif\" font-size=\"14.00\" fill=\"#000000\">dropoff_longitude &lt;= &#45;74.022</text>\n<text text-anchor=\"middle\" x=\"5338\" y=\"-438.8\" font-family=\"Helvetica,sans-Serif\" font-size=\"14.00\" fill=\"#000000\">mse = 0.05</text>\n<text text-anchor=\"middle\" x=\"5338\" y=\"-423.8\" font-family=\"Helvetica,sans-Serif\" font-size=\"14.00\" fill=\"#000000\">samples = 11135</text>\n<text text-anchor=\"middle\" x=\"5338\" y=\"-408.8\" font-family=\"Helvetica,sans-Serif\" font-size=\"14.00\" fill=\"#000000\">value = 2.606</text>\n</g>\n<!-- 11&#45;&gt;23 -->\n<g id=\"edge127\" class=\"edge\">\n<title>11&#45;&gt;23</title>\n<path fill=\"none\" stroke=\"#000000\" d=\"M5537.7559,-513.6917C5506.6452,-501.436 5468.6451,-486.4663 5434.1722,-472.886\"/>\n<polygon fill=\"#000000\" stroke=\"#000000\" points=\"5435.1382,-469.5048 5424.5513,-469.096 5432.5725,-476.0177 5435.1382,-469.5048\"/>\n</g>\n<!-- 24 -->\n<g id=\"node139\" class=\"node\">\n<title>24</title>\n<polygon fill=\"#f4ccaf\" stroke=\"#000000\" points=\"5703.5,-469 5500.5,-469 5500.5,-401 5703.5,-401 5703.5,-469\"/>\n<text text-anchor=\"middle\" x=\"5602\" y=\"-453.8\" font-family=\"Helvetica,sans-Serif\" font-size=\"14.00\" fill=\"#000000\">dropoff_longitude &lt;= &#45;74.022</text>\n<text text-anchor=\"middle\" x=\"5602\" y=\"-438.8\" font-family=\"Helvetica,sans-Serif\" font-size=\"14.00\" fill=\"#000000\">mse = 0.056</text>\n<text text-anchor=\"middle\" x=\"5602\" y=\"-423.8\" font-family=\"Helvetica,sans-Serif\" font-size=\"14.00\" fill=\"#000000\">samples = 6865</text>\n<text text-anchor=\"middle\" x=\"5602\" y=\"-408.8\" font-family=\"Helvetica,sans-Serif\" font-size=\"14.00\" fill=\"#000000\">value = 2.796</text>\n</g>\n<!-- 11&#45;&gt;24 -->\n<g id=\"edge138\" class=\"edge\">\n<title>11&#45;&gt;24</title>\n<path fill=\"none\" stroke=\"#000000\" d=\"M5602,-504.9465C5602,-496.776 5602,-487.9318 5602,-479.3697\"/>\n<polygon fill=\"#000000\" stroke=\"#000000\" points=\"5605.5001,-479.13 5602,-469.13 5598.5001,-479.13 5605.5001,-479.13\"/>\n</g>\n<!-- 115 -->\n<g id=\"node129\" class=\"node\">\n<title>115</title>\n<polygon fill=\"#efb083\" stroke=\"#000000\" points=\"5254,-357.5 5150,-357.5 5150,-304.5 5254,-304.5 5254,-357.5\"/>\n<text text-anchor=\"middle\" x=\"5202\" y=\"-342.3\" font-family=\"Helvetica,sans-Serif\" font-size=\"14.00\" fill=\"#000000\">mse = 0.641</text>\n<text text-anchor=\"middle\" x=\"5202\" y=\"-327.3\" font-family=\"Helvetica,sans-Serif\" font-size=\"14.00\" fill=\"#000000\">samples = 16</text>\n<text text-anchor=\"middle\" x=\"5202\" y=\"-312.3\" font-family=\"Helvetica,sans-Serif\" font-size=\"14.00\" fill=\"#000000\">value = 3.433</text>\n</g>\n<!-- 23&#45;&gt;115 -->\n<g id=\"edge128\" class=\"edge\">\n<title>23&#45;&gt;115</title>\n<path fill=\"none\" stroke=\"#000000\" d=\"M5293.4685,-400.9465C5277.9121,-389.0504 5260.4879,-375.726 5245.0541,-363.9237\"/>\n<polygon fill=\"#000000\" stroke=\"#000000\" points=\"5246.7787,-360.8364 5236.709,-357.5422 5242.5265,-366.397 5246.7787,-360.8364\"/>\n</g>\n<!-- 116 -->\n<g id=\"node130\" class=\"node\">\n<title>116</title>\n<polygon fill=\"#f6d4bc\" stroke=\"#000000\" points=\"5404,-365 5272,-365 5272,-297 5404,-297 5404,-365\"/>\n<text text-anchor=\"middle\" x=\"5338\" y=\"-349.8\" font-family=\"Helvetica,sans-Serif\" font-size=\"14.00\" fill=\"#000000\">distance &lt;= 1.747</text>\n<text text-anchor=\"middle\" x=\"5338\" y=\"-334.8\" font-family=\"Helvetica,sans-Serif\" font-size=\"14.00\" fill=\"#000000\">mse = 0.048</text>\n<text text-anchor=\"middle\" x=\"5338\" y=\"-319.8\" font-family=\"Helvetica,sans-Serif\" font-size=\"14.00\" fill=\"#000000\">samples = 11119</text>\n<text text-anchor=\"middle\" x=\"5338\" y=\"-304.8\" font-family=\"Helvetica,sans-Serif\" font-size=\"14.00\" fill=\"#000000\">value = 2.605</text>\n</g>\n<!-- 23&#45;&gt;116 -->\n<g id=\"edge129\" class=\"edge\">\n<title>23&#45;&gt;116</title>\n<path fill=\"none\" stroke=\"#000000\" d=\"M5338,-400.9465C5338,-392.776 5338,-383.9318 5338,-375.3697\"/>\n<polygon fill=\"#000000\" stroke=\"#000000\" points=\"5341.5001,-375.13 5338,-365.13 5334.5001,-375.13 5341.5001,-375.13\"/>\n</g>\n<!-- 117 -->\n<g id=\"node131\" class=\"node\">\n<title>117</title>\n<polygon fill=\"#f7d7c1\" stroke=\"#000000\" points=\"5212,-261 5092,-261 5092,-193 5212,-193 5212,-261\"/>\n<text text-anchor=\"middle\" x=\"5152\" y=\"-245.8\" font-family=\"Helvetica,sans-Serif\" font-size=\"14.00\" fill=\"#000000\">year &lt;= 2011.5</text>\n<text text-anchor=\"middle\" x=\"5152\" y=\"-230.8\" font-family=\"Helvetica,sans-Serif\" font-size=\"14.00\" fill=\"#000000\">mse = 0.043</text>\n<text text-anchor=\"middle\" x=\"5152\" y=\"-215.8\" font-family=\"Helvetica,sans-Serif\" font-size=\"14.00\" fill=\"#000000\">samples = 5937</text>\n<text text-anchor=\"middle\" x=\"5152\" y=\"-200.8\" font-family=\"Helvetica,sans-Serif\" font-size=\"14.00\" fill=\"#000000\">value = 2.539</text>\n</g>\n<!-- 116&#45;&gt;117 -->\n<g id=\"edge130\" class=\"edge\">\n<title>116&#45;&gt;117</title>\n<path fill=\"none\" stroke=\"#000000\" d=\"M5277.0966,-296.9465C5259.16,-286.9174 5239.4077,-275.8731 5221.0016,-265.5815\"/>\n<polygon fill=\"#000000\" stroke=\"#000000\" points=\"5222.5243,-262.423 5212.0879,-260.5975 5219.108,-268.5328 5222.5243,-262.423\"/>\n</g>\n<!-- 118 -->\n<g id=\"node136\" class=\"node\">\n<title>118</title>\n<polygon fill=\"#f6d1b7\" stroke=\"#000000\" points=\"5430.5,-261 5245.5,-261 5245.5,-193 5430.5,-193 5430.5,-261\"/>\n<text text-anchor=\"middle\" x=\"5338\" y=\"-245.8\" font-family=\"Helvetica,sans-Serif\" font-size=\"14.00\" fill=\"#000000\">dropoff_latitude &lt;= 40.758</text>\n<text text-anchor=\"middle\" x=\"5338\" y=\"-230.8\" font-family=\"Helvetica,sans-Serif\" font-size=\"14.00\" fill=\"#000000\">mse = 0.044</text>\n<text text-anchor=\"middle\" x=\"5338\" y=\"-215.8\" font-family=\"Helvetica,sans-Serif\" font-size=\"14.00\" fill=\"#000000\">samples = 5182</text>\n<text text-anchor=\"middle\" x=\"5338\" y=\"-200.8\" font-family=\"Helvetica,sans-Serif\" font-size=\"14.00\" fill=\"#000000\">value = 2.681</text>\n</g>\n<!-- 116&#45;&gt;118 -->\n<g id=\"edge135\" class=\"edge\">\n<title>116&#45;&gt;118</title>\n<path fill=\"none\" stroke=\"#000000\" d=\"M5338,-296.9465C5338,-288.776 5338,-279.9318 5338,-271.3697\"/>\n<polygon fill=\"#000000\" stroke=\"#000000\" points=\"5341.5001,-271.13 5338,-261.13 5334.5001,-271.13 5341.5001,-271.13\"/>\n</g>\n<!-- 173 -->\n<g id=\"node132\" class=\"node\">\n<title>173</title>\n<polygon fill=\"#f7d8c2\" stroke=\"#000000\" points=\"5074,-149.5 4954,-149.5 4954,-96.5 5074,-96.5 5074,-149.5\"/>\n<text text-anchor=\"middle\" x=\"5014\" y=\"-134.3\" font-family=\"Helvetica,sans-Serif\" font-size=\"14.00\" fill=\"#000000\">mse = 0.04</text>\n<text text-anchor=\"middle\" x=\"5014\" y=\"-119.3\" font-family=\"Helvetica,sans-Serif\" font-size=\"14.00\" fill=\"#000000\">samples = 4365</text>\n<text text-anchor=\"middle\" x=\"5014\" y=\"-104.3\" font-family=\"Helvetica,sans-Serif\" font-size=\"14.00\" fill=\"#000000\">value = 2.521</text>\n</g>\n<!-- 117&#45;&gt;173 -->\n<g id=\"edge131\" class=\"edge\">\n<title>117&#45;&gt;173</title>\n<path fill=\"none\" stroke=\"#000000\" d=\"M5106.8136,-192.9465C5090.8823,-180.9403 5073.0204,-167.4791 5057.2527,-155.5962\"/>\n<polygon fill=\"#000000\" stroke=\"#000000\" points=\"5059.312,-152.7656 5049.2194,-149.5422 5055.099,-158.3558 5059.312,-152.7656\"/>\n</g>\n<!-- 174 -->\n<g id=\"node133\" class=\"node\">\n<title>174</title>\n<polygon fill=\"#f6d5bd\" stroke=\"#000000\" points=\"5212,-157 5092,-157 5092,-89 5212,-89 5212,-157\"/>\n<text text-anchor=\"middle\" x=\"5152\" y=\"-141.8\" font-family=\"Helvetica,sans-Serif\" font-size=\"14.00\" fill=\"#000000\">Month &lt;= 8.5</text>\n<text text-anchor=\"middle\" x=\"5152\" y=\"-126.8\" font-family=\"Helvetica,sans-Serif\" font-size=\"14.00\" fill=\"#000000\">mse = 0.047</text>\n<text text-anchor=\"middle\" x=\"5152\" y=\"-111.8\" font-family=\"Helvetica,sans-Serif\" font-size=\"14.00\" fill=\"#000000\">samples = 1572</text>\n<text text-anchor=\"middle\" x=\"5152\" y=\"-96.8\" font-family=\"Helvetica,sans-Serif\" font-size=\"14.00\" fill=\"#000000\">value = 2.589</text>\n</g>\n<!-- 117&#45;&gt;174 -->\n<g id=\"edge132\" class=\"edge\">\n<title>117&#45;&gt;174</title>\n<path fill=\"none\" stroke=\"#000000\" d=\"M5152,-192.9465C5152,-184.776 5152,-175.9318 5152,-167.3697\"/>\n<polygon fill=\"#000000\" stroke=\"#000000\" points=\"5155.5001,-167.13 5152,-157.13 5148.5001,-167.13 5155.5001,-167.13\"/>\n</g>\n<!-- 175 -->\n<g id=\"node134\" class=\"node\">\n<title>175</title>\n<polygon fill=\"#f7d8c1\" stroke=\"#000000\" points=\"5145,-53 5025,-53 5025,0 5145,0 5145,-53\"/>\n<text text-anchor=\"middle\" x=\"5085\" y=\"-37.8\" font-family=\"Helvetica,sans-Serif\" font-size=\"14.00\" fill=\"#000000\">mse = 0.036</text>\n<text text-anchor=\"middle\" x=\"5085\" y=\"-22.8\" font-family=\"Helvetica,sans-Serif\" font-size=\"14.00\" fill=\"#000000\">samples = 1063</text>\n<text text-anchor=\"middle\" x=\"5085\" y=\"-7.8\" font-family=\"Helvetica,sans-Serif\" font-size=\"14.00\" fill=\"#000000\">value = 2.53</text>\n</g>\n<!-- 174&#45;&gt;175 -->\n<g id=\"edge133\" class=\"edge\">\n<title>174&#45;&gt;175</title>\n<path fill=\"none\" stroke=\"#000000\" d=\"M5128.3783,-88.9777C5122.2113,-80.0954 5115.5539,-70.5067 5109.3499,-61.5711\"/>\n<polygon fill=\"#000000\" stroke=\"#000000\" points=\"5112.1497,-59.4666 5103.5715,-53.2485 5106.3997,-63.4589 5112.1497,-59.4666\"/>\n</g>\n<!-- 176 -->\n<g id=\"node135\" class=\"node\">\n<title>176</title>\n<polygon fill=\"#f5d0b5\" stroke=\"#000000\" points=\"5275,-53 5163,-53 5163,0 5275,0 5275,-53\"/>\n<text text-anchor=\"middle\" x=\"5219\" y=\"-37.8\" font-family=\"Helvetica,sans-Serif\" font-size=\"14.00\" fill=\"#000000\">mse = 0.046</text>\n<text text-anchor=\"middle\" x=\"5219\" y=\"-22.8\" font-family=\"Helvetica,sans-Serif\" font-size=\"14.00\" fill=\"#000000\">samples = 509</text>\n<text text-anchor=\"middle\" x=\"5219\" y=\"-7.8\" font-family=\"Helvetica,sans-Serif\" font-size=\"14.00\" fill=\"#000000\">value = 2.713</text>\n</g>\n<!-- 174&#45;&gt;176 -->\n<g id=\"edge134\" class=\"edge\">\n<title>174&#45;&gt;176</title>\n<path fill=\"none\" stroke=\"#000000\" d=\"M5175.6217,-88.9777C5181.7887,-80.0954 5188.4461,-70.5067 5194.6501,-61.5711\"/>\n<polygon fill=\"#000000\" stroke=\"#000000\" points=\"5197.6003,-63.4589 5200.4285,-53.2485 5191.8503,-59.4666 5197.6003,-63.4589\"/>\n</g>\n<!-- 167 -->\n<g id=\"node137\" class=\"node\">\n<title>167</title>\n<polygon fill=\"#f5d0b5\" stroke=\"#000000\" points=\"5350,-149.5 5230,-149.5 5230,-96.5 5350,-96.5 5350,-149.5\"/>\n<text text-anchor=\"middle\" x=\"5290\" y=\"-134.3\" font-family=\"Helvetica,sans-Serif\" font-size=\"14.00\" fill=\"#000000\">mse = 0.044</text>\n<text text-anchor=\"middle\" x=\"5290\" y=\"-119.3\" font-family=\"Helvetica,sans-Serif\" font-size=\"14.00\" fill=\"#000000\">samples = 3033</text>\n<text text-anchor=\"middle\" x=\"5290\" y=\"-104.3\" font-family=\"Helvetica,sans-Serif\" font-size=\"14.00\" fill=\"#000000\">value = 2.709</text>\n</g>\n<!-- 118&#45;&gt;167 -->\n<g id=\"edge136\" class=\"edge\">\n<title>118&#45;&gt;167</title>\n<path fill=\"none\" stroke=\"#000000\" d=\"M5322.283,-192.9465C5317.25,-182.0418 5311.6632,-169.9368 5306.5712,-158.9043\"/>\n<polygon fill=\"#000000\" stroke=\"#000000\" points=\"5309.6187,-157.155 5302.2502,-149.5422 5303.263,-160.0885 5309.6187,-157.155\"/>\n</g>\n<!-- 168 -->\n<g id=\"node138\" class=\"node\">\n<title>168</title>\n<polygon fill=\"#f6d3ba\" stroke=\"#000000\" points=\"5488,-149.5 5368,-149.5 5368,-96.5 5488,-96.5 5488,-149.5\"/>\n<text text-anchor=\"middle\" x=\"5428\" y=\"-134.3\" font-family=\"Helvetica,sans-Serif\" font-size=\"14.00\" fill=\"#000000\">mse = 0.04</text>\n<text text-anchor=\"middle\" x=\"5428\" y=\"-119.3\" font-family=\"Helvetica,sans-Serif\" font-size=\"14.00\" fill=\"#000000\">samples = 2149</text>\n<text text-anchor=\"middle\" x=\"5428\" y=\"-104.3\" font-family=\"Helvetica,sans-Serif\" font-size=\"14.00\" fill=\"#000000\">value = 2.641</text>\n</g>\n<!-- 118&#45;&gt;168 -->\n<g id=\"edge137\" class=\"edge\">\n<title>118&#45;&gt;168</title>\n<path fill=\"none\" stroke=\"#000000\" d=\"M5367.4694,-192.9465C5377.3828,-181.491 5388.4424,-168.711 5398.3682,-157.2412\"/>\n<polygon fill=\"#000000\" stroke=\"#000000\" points=\"5401.1336,-159.3942 5405.0308,-149.5422 5395.8404,-154.8135 5401.1336,-159.3942\"/>\n</g>\n<!-- 65 -->\n<g id=\"node140\" class=\"node\">\n<title>65</title>\n<polygon fill=\"#e99559\" stroke=\"#000000\" points=\"5561,-357.5 5457,-357.5 5457,-304.5 5561,-304.5 5561,-357.5\"/>\n<text text-anchor=\"middle\" x=\"5509\" y=\"-342.3\" font-family=\"Helvetica,sans-Serif\" font-size=\"14.00\" fill=\"#000000\">mse = 0.014</text>\n<text text-anchor=\"middle\" x=\"5509\" y=\"-327.3\" font-family=\"Helvetica,sans-Serif\" font-size=\"14.00\" fill=\"#000000\">samples = 16</text>\n<text text-anchor=\"middle\" x=\"5509\" y=\"-312.3\" font-family=\"Helvetica,sans-Serif\" font-size=\"14.00\" fill=\"#000000\">value = 4.043</text>\n</g>\n<!-- 24&#45;&gt;65 -->\n<g id=\"edge139\" class=\"edge\">\n<title>24&#45;&gt;65</title>\n<path fill=\"none\" stroke=\"#000000\" d=\"M5571.5483,-400.9465C5561.3045,-389.491 5549.8762,-376.711 5539.6195,-365.2412\"/>\n<polygon fill=\"#000000\" stroke=\"#000000\" points=\"5542.0097,-362.6634 5532.7348,-357.5422 5536.7917,-367.3295 5542.0097,-362.6634\"/>\n</g>\n<!-- 66 -->\n<g id=\"node141\" class=\"node\">\n<title>66</title>\n<polygon fill=\"#f5ccaf\" stroke=\"#000000\" points=\"5711,-365 5579,-365 5579,-297 5711,-297 5711,-365\"/>\n<text text-anchor=\"middle\" x=\"5645\" y=\"-349.8\" font-family=\"Helvetica,sans-Serif\" font-size=\"14.00\" fill=\"#000000\">distance &lt;= 1.742</text>\n<text text-anchor=\"middle\" x=\"5645\" y=\"-334.8\" font-family=\"Helvetica,sans-Serif\" font-size=\"14.00\" fill=\"#000000\">mse = 0.053</text>\n<text text-anchor=\"middle\" x=\"5645\" y=\"-319.8\" font-family=\"Helvetica,sans-Serif\" font-size=\"14.00\" fill=\"#000000\">samples = 6849</text>\n<text text-anchor=\"middle\" x=\"5645\" y=\"-304.8\" font-family=\"Helvetica,sans-Serif\" font-size=\"14.00\" fill=\"#000000\">value = 2.793</text>\n</g>\n<!-- 24&#45;&gt;66 -->\n<g id=\"edge140\" class=\"edge\">\n<title>24&#45;&gt;66</title>\n<path fill=\"none\" stroke=\"#000000\" d=\"M5616.0798,-400.9465C5619.5694,-392.5067 5623.3561,-383.3479 5627.0046,-374.5239\"/>\n<polygon fill=\"#000000\" stroke=\"#000000\" points=\"5630.302,-375.7086 5630.8886,-365.13 5623.8332,-373.0339 5630.302,-375.7086\"/>\n</g>\n<!-- 67 -->\n<g id=\"node142\" class=\"node\">\n<title>67</title>\n<polygon fill=\"#f5cfb4\" stroke=\"#000000\" points=\"5575,-253.5 5455,-253.5 5455,-200.5 5575,-200.5 5575,-253.5\"/>\n<text text-anchor=\"middle\" x=\"5515\" y=\"-238.3\" font-family=\"Helvetica,sans-Serif\" font-size=\"14.00\" fill=\"#000000\">mse = 0.047</text>\n<text text-anchor=\"middle\" x=\"5515\" y=\"-223.3\" font-family=\"Helvetica,sans-Serif\" font-size=\"14.00\" fill=\"#000000\">samples = 3642</text>\n<text text-anchor=\"middle\" x=\"5515\" y=\"-208.3\" font-family=\"Helvetica,sans-Serif\" font-size=\"14.00\" fill=\"#000000\">value = 2.72</text>\n</g>\n<!-- 66&#45;&gt;67 -->\n<g id=\"edge141\" class=\"edge\">\n<title>66&#45;&gt;67</title>\n<path fill=\"none\" stroke=\"#000000\" d=\"M5602.4331,-296.9465C5587.563,-285.0504 5570.9075,-271.726 5556.1546,-259.9237\"/>\n<polygon fill=\"#000000\" stroke=\"#000000\" points=\"5558.1729,-257.0561 5548.1777,-253.5422 5553.8,-262.5222 5558.1729,-257.0561\"/>\n</g>\n<!-- 68 -->\n<g id=\"node143\" class=\"node\">\n<title>68</title>\n<polygon fill=\"#f4c9a9\" stroke=\"#000000\" points=\"5778.5,-261 5593.5,-261 5593.5,-193 5778.5,-193 5778.5,-261\"/>\n<text text-anchor=\"middle\" x=\"5686\" y=\"-245.8\" font-family=\"Helvetica,sans-Serif\" font-size=\"14.00\" fill=\"#000000\">dropoff_latitude &lt;= 40.774</text>\n<text text-anchor=\"middle\" x=\"5686\" y=\"-230.8\" font-family=\"Helvetica,sans-Serif\" font-size=\"14.00\" fill=\"#000000\">mse = 0.046</text>\n<text text-anchor=\"middle\" x=\"5686\" y=\"-215.8\" font-family=\"Helvetica,sans-Serif\" font-size=\"14.00\" fill=\"#000000\">samples = 3207</text>\n<text text-anchor=\"middle\" x=\"5686\" y=\"-200.8\" font-family=\"Helvetica,sans-Serif\" font-size=\"14.00\" fill=\"#000000\">value = 2.875</text>\n</g>\n<!-- 66&#45;&gt;68 -->\n<g id=\"edge142\" class=\"edge\">\n<title>66&#45;&gt;68</title>\n<path fill=\"none\" stroke=\"#000000\" d=\"M5658.4249,-296.9465C5661.7522,-288.5067 5665.3628,-279.3479 5668.8416,-270.5239\"/>\n<polygon fill=\"#000000\" stroke=\"#000000\" points=\"5672.1334,-271.7168 5672.5449,-261.13 5665.6211,-269.1495 5672.1334,-271.7168\"/>\n</g>\n<!-- 141 -->\n<g id=\"node144\" class=\"node\">\n<title>141</title>\n<polygon fill=\"#f4c7a8\" stroke=\"#000000\" points=\"5626,-149.5 5506,-149.5 5506,-96.5 5626,-96.5 5626,-149.5\"/>\n<text text-anchor=\"middle\" x=\"5566\" y=\"-134.3\" font-family=\"Helvetica,sans-Serif\" font-size=\"14.00\" fill=\"#000000\">mse = 0.044</text>\n<text text-anchor=\"middle\" x=\"5566\" y=\"-119.3\" font-family=\"Helvetica,sans-Serif\" font-size=\"14.00\" fill=\"#000000\">samples = 2517</text>\n<text text-anchor=\"middle\" x=\"5566\" y=\"-104.3\" font-family=\"Helvetica,sans-Serif\" font-size=\"14.00\" fill=\"#000000\">value = 2.9</text>\n</g>\n<!-- 68&#45;&gt;141 -->\n<g id=\"edge143\" class=\"edge\">\n<title>68&#45;&gt;141</title>\n<path fill=\"none\" stroke=\"#000000\" d=\"M5646.7075,-192.9465C5633.1083,-181.1606 5617.8915,-167.9726 5604.3676,-156.2519\"/>\n<polygon fill=\"#000000\" stroke=\"#000000\" points=\"5606.4748,-153.4466 5596.6256,-149.5422 5601.8902,-158.7364 5606.4748,-153.4466\"/>\n</g>\n<!-- 142 -->\n<g id=\"node145\" class=\"node\">\n<title>142</title>\n<polygon fill=\"#f5ccb0\" stroke=\"#000000\" points=\"5756,-149.5 5644,-149.5 5644,-96.5 5756,-96.5 5756,-149.5\"/>\n<text text-anchor=\"middle\" x=\"5700\" y=\"-134.3\" font-family=\"Helvetica,sans-Serif\" font-size=\"14.00\" fill=\"#000000\">mse = 0.043</text>\n<text text-anchor=\"middle\" x=\"5700\" y=\"-119.3\" font-family=\"Helvetica,sans-Serif\" font-size=\"14.00\" fill=\"#000000\">samples = 690</text>\n<text text-anchor=\"middle\" x=\"5700\" y=\"-104.3\" font-family=\"Helvetica,sans-Serif\" font-size=\"14.00\" fill=\"#000000\">value = 2.785</text>\n</g>\n<!-- 68&#45;&gt;142 -->\n<g id=\"edge144\" class=\"edge\">\n<title>68&#45;&gt;142</title>\n<path fill=\"none\" stroke=\"#000000\" d=\"M5690.5841,-192.9465C5692.0224,-182.2621 5693.6158,-170.4254 5695.0765,-159.5742\"/>\n<polygon fill=\"#000000\" stroke=\"#000000\" points=\"5698.5615,-159.9197 5696.427,-149.5422 5691.6241,-158.9858 5698.5615,-159.9197\"/>\n</g>\n<!-- 35 -->\n<g id=\"node147\" class=\"node\">\n<title>35</title>\n<polygon fill=\"#f4c8a8\" stroke=\"#000000\" points=\"6029,-469 5829,-469 5829,-401 6029,-401 6029,-469\"/>\n<text text-anchor=\"middle\" x=\"5929\" y=\"-453.8\" font-family=\"Helvetica,sans-Serif\" font-size=\"14.00\" fill=\"#000000\">pickup_longitude &lt;= &#45;73.903</text>\n<text text-anchor=\"middle\" x=\"5929\" y=\"-438.8\" font-family=\"Helvetica,sans-Serif\" font-size=\"14.00\" fill=\"#000000\">mse = 0.064</text>\n<text text-anchor=\"middle\" x=\"5929\" y=\"-423.8\" font-family=\"Helvetica,sans-Serif\" font-size=\"14.00\" fill=\"#000000\">samples = 5242</text>\n<text text-anchor=\"middle\" x=\"5929\" y=\"-408.8\" font-family=\"Helvetica,sans-Serif\" font-size=\"14.00\" fill=\"#000000\">value = 2.89</text>\n</g>\n<!-- 12&#45;&gt;35 -->\n<g id=\"edge146\" class=\"edge\">\n<title>12&#45;&gt;35</title>\n<path fill=\"none\" stroke=\"#000000\" d=\"M5929,-504.9465C5929,-496.776 5929,-487.9318 5929,-479.3697\"/>\n<polygon fill=\"#000000\" stroke=\"#000000\" points=\"5932.5001,-479.13 5929,-469.13 5925.5001,-479.13 5932.5001,-479.13\"/>\n</g>\n<!-- 36 -->\n<g id=\"node156\" class=\"node\">\n<title>36</title>\n<polygon fill=\"#f2c09b\" stroke=\"#000000\" points=\"6241,-469 6109,-469 6109,-401 6241,-401 6241,-469\"/>\n<text text-anchor=\"middle\" x=\"6175\" y=\"-453.8\" font-family=\"Helvetica,sans-Serif\" font-size=\"14.00\" fill=\"#000000\">distance &lt;= 2.056</text>\n<text text-anchor=\"middle\" x=\"6175\" y=\"-438.8\" font-family=\"Helvetica,sans-Serif\" font-size=\"14.00\" fill=\"#000000\">mse = 0.062</text>\n<text text-anchor=\"middle\" x=\"6175\" y=\"-423.8\" font-family=\"Helvetica,sans-Serif\" font-size=\"14.00\" fill=\"#000000\">samples = 3085</text>\n<text text-anchor=\"middle\" x=\"6175\" y=\"-408.8\" font-family=\"Helvetica,sans-Serif\" font-size=\"14.00\" fill=\"#000000\">value = 3.078</text>\n</g>\n<!-- 12&#45;&gt;36 -->\n<g id=\"edge155\" class=\"edge\">\n<title>12&#45;&gt;36</title>\n<path fill=\"none\" stroke=\"#000000\" d=\"M5989.1784,-513.5587C6022.4747,-499.4822 6064.1666,-481.8564 6099.6176,-466.869\"/>\n<polygon fill=\"#000000\" stroke=\"#000000\" points=\"6101.1137,-470.0365 6108.9615,-462.9187 6098.3879,-463.589 6101.1137,-470.0365\"/>\n</g>\n<!-- 59 -->\n<g id=\"node148\" class=\"node\">\n<title>59</title>\n<polygon fill=\"#f4c9aa\" stroke=\"#000000\" points=\"5967.5,-365 5764.5,-365 5764.5,-297 5967.5,-297 5967.5,-365\"/>\n<text text-anchor=\"middle\" x=\"5866\" y=\"-349.8\" font-family=\"Helvetica,sans-Serif\" font-size=\"14.00\" fill=\"#000000\">dropoff_longitude &lt;= &#45;73.888</text>\n<text text-anchor=\"middle\" x=\"5866\" y=\"-334.8\" font-family=\"Helvetica,sans-Serif\" font-size=\"14.00\" fill=\"#000000\">mse = 0.056</text>\n<text text-anchor=\"middle\" x=\"5866\" y=\"-319.8\" font-family=\"Helvetica,sans-Serif\" font-size=\"14.00\" fill=\"#000000\">samples = 4928</text>\n<text text-anchor=\"middle\" x=\"5866\" y=\"-304.8\" font-family=\"Helvetica,sans-Serif\" font-size=\"14.00\" fill=\"#000000\">value = 2.871</text>\n</g>\n<!-- 35&#45;&gt;59 -->\n<g id=\"edge147\" class=\"edge\">\n<title>35&#45;&gt;59</title>\n<path fill=\"none\" stroke=\"#000000\" d=\"M5908.3714,-400.9465C5903.1501,-392.3271 5897.4745,-382.9579 5892.0245,-373.9611\"/>\n<polygon fill=\"#000000\" stroke=\"#000000\" points=\"5894.8497,-371.8697 5886.6749,-365.13 5888.8626,-375.4965 5894.8497,-371.8697\"/>\n</g>\n<!-- 60 -->\n<g id=\"node155\" class=\"node\">\n<title>60</title>\n<polygon fill=\"#f1ba93\" stroke=\"#000000\" points=\"6097,-357.5 5985,-357.5 5985,-304.5 6097,-304.5 6097,-357.5\"/>\n<text text-anchor=\"middle\" x=\"6041\" y=\"-342.3\" font-family=\"Helvetica,sans-Serif\" font-size=\"14.00\" fill=\"#000000\">mse = 0.085</text>\n<text text-anchor=\"middle\" x=\"6041\" y=\"-327.3\" font-family=\"Helvetica,sans-Serif\" font-size=\"14.00\" fill=\"#000000\">samples = 314</text>\n<text text-anchor=\"middle\" x=\"6041\" y=\"-312.3\" font-family=\"Helvetica,sans-Serif\" font-size=\"14.00\" fill=\"#000000\">value = 3.198</text>\n</g>\n<!-- 35&#45;&gt;60 -->\n<g id=\"edge154\" class=\"edge\">\n<title>35&#45;&gt;60</title>\n<path fill=\"none\" stroke=\"#000000\" d=\"M5965.673,-400.9465C5978.2469,-389.2707 5992.3026,-376.219 6004.8359,-364.5809\"/>\n<polygon fill=\"#000000\" stroke=\"#000000\" points=\"6007.4698,-366.9115 6012.4161,-357.5422 6002.7066,-361.7819 6007.4698,-366.9115\"/>\n</g>\n<!-- 69 -->\n<g id=\"node149\" class=\"node\">\n<title>69</title>\n<polygon fill=\"#f4c9ab\" stroke=\"#000000\" points=\"5928,-261 5804,-261 5804,-193 5928,-193 5928,-261\"/>\n<text text-anchor=\"middle\" x=\"5866\" y=\"-245.8\" font-family=\"Helvetica,sans-Serif\" font-size=\"14.00\" fill=\"#000000\">distance &lt;= 2.04</text>\n<text text-anchor=\"middle\" x=\"5866\" y=\"-230.8\" font-family=\"Helvetica,sans-Serif\" font-size=\"14.00\" fill=\"#000000\">mse = 0.05</text>\n<text text-anchor=\"middle\" x=\"5866\" y=\"-215.8\" font-family=\"Helvetica,sans-Serif\" font-size=\"14.00\" fill=\"#000000\">samples = 4690</text>\n<text text-anchor=\"middle\" x=\"5866\" y=\"-200.8\" font-family=\"Helvetica,sans-Serif\" font-size=\"14.00\" fill=\"#000000\">value = 2.855</text>\n</g>\n<!-- 59&#45;&gt;69 -->\n<g id=\"edge148\" class=\"edge\">\n<title>59&#45;&gt;69</title>\n<path fill=\"none\" stroke=\"#000000\" d=\"M5866,-296.9465C5866,-288.776 5866,-279.9318 5866,-271.3697\"/>\n<polygon fill=\"#000000\" stroke=\"#000000\" points=\"5869.5001,-271.13 5866,-261.13 5862.5001,-271.13 5869.5001,-271.13\"/>\n</g>\n<!-- 70 -->\n<g id=\"node154\" class=\"node\">\n<title>70</title>\n<polygon fill=\"#f1bb94\" stroke=\"#000000\" points=\"6058,-253.5 5946,-253.5 5946,-200.5 6058,-200.5 6058,-253.5\"/>\n<text text-anchor=\"middle\" x=\"6002\" y=\"-238.3\" font-family=\"Helvetica,sans-Serif\" font-size=\"14.00\" fill=\"#000000\">mse = 0.059</text>\n<text text-anchor=\"middle\" x=\"6002\" y=\"-223.3\" font-family=\"Helvetica,sans-Serif\" font-size=\"14.00\" fill=\"#000000\">samples = 238</text>\n<text text-anchor=\"middle\" x=\"6002\" y=\"-208.3\" font-family=\"Helvetica,sans-Serif\" font-size=\"14.00\" fill=\"#000000\">value = 3.183</text>\n</g>\n<!-- 59&#45;&gt;70 -->\n<g id=\"edge153\" class=\"edge\">\n<title>59&#45;&gt;70</title>\n<path fill=\"none\" stroke=\"#000000\" d=\"M5910.5315,-296.9465C5926.0879,-285.0504 5943.5121,-271.726 5958.9459,-259.9237\"/>\n<polygon fill=\"#000000\" stroke=\"#000000\" points=\"5961.4735,-262.397 5967.291,-253.5422 5957.2213,-256.8364 5961.4735,-262.397\"/>\n</g>\n<!-- 99 -->\n<g id=\"node150\" class=\"node\">\n<title>99</title>\n<polygon fill=\"#f4ccaf\" stroke=\"#000000\" points=\"5959.5,-157 5774.5,-157 5774.5,-89 5959.5,-89 5959.5,-157\"/>\n<text text-anchor=\"middle\" x=\"5867\" y=\"-141.8\" font-family=\"Helvetica,sans-Serif\" font-size=\"14.00\" fill=\"#000000\">dropoff_latitude &lt;= 40.767</text>\n<text text-anchor=\"middle\" x=\"5867\" y=\"-126.8\" font-family=\"Helvetica,sans-Serif\" font-size=\"14.00\" fill=\"#000000\">mse = 0.047</text>\n<text text-anchor=\"middle\" x=\"5867\" y=\"-111.8\" font-family=\"Helvetica,sans-Serif\" font-size=\"14.00\" fill=\"#000000\">samples = 2141</text>\n<text text-anchor=\"middle\" x=\"5867\" y=\"-96.8\" font-family=\"Helvetica,sans-Serif\" font-size=\"14.00\" fill=\"#000000\">value = 2.796</text>\n</g>\n<!-- 69&#45;&gt;99 -->\n<g id=\"edge149\" class=\"edge\">\n<title>69&#45;&gt;99</title>\n<path fill=\"none\" stroke=\"#000000\" d=\"M5866.3274,-192.9465C5866.406,-184.776 5866.491,-175.9318 5866.5734,-167.3697\"/>\n<polygon fill=\"#000000\" stroke=\"#000000\" points=\"5870.0754,-167.1632 5866.6718,-157.13 5863.0757,-167.0958 5870.0754,-167.1632\"/>\n</g>\n<!-- 100 -->\n<g id=\"node153\" class=\"node\">\n<title>100</title>\n<polygon fill=\"#f3c7a7\" stroke=\"#000000\" points=\"6097,-149.5 5977,-149.5 5977,-96.5 6097,-96.5 6097,-149.5\"/>\n<text text-anchor=\"middle\" x=\"6037\" y=\"-134.3\" font-family=\"Helvetica,sans-Serif\" font-size=\"14.00\" fill=\"#000000\">mse = 0.048</text>\n<text text-anchor=\"middle\" x=\"6037\" y=\"-119.3\" font-family=\"Helvetica,sans-Serif\" font-size=\"14.00\" fill=\"#000000\">samples = 2549</text>\n<text text-anchor=\"middle\" x=\"6037\" y=\"-104.3\" font-family=\"Helvetica,sans-Serif\" font-size=\"14.00\" fill=\"#000000\">value = 2.904</text>\n</g>\n<!-- 69&#45;&gt;100 -->\n<g id=\"edge152\" class=\"edge\">\n<title>69&#45;&gt;100</title>\n<path fill=\"none\" stroke=\"#000000\" d=\"M5921.9918,-192.9465C5942.1856,-180.6649 5964.8826,-166.8609 5984.7445,-154.7811\"/>\n<polygon fill=\"#000000\" stroke=\"#000000\" points=\"5986.6333,-157.7289 5993.3586,-149.5422 5982.9959,-151.7481 5986.6333,-157.7289\"/>\n</g>\n<!-- 191 -->\n<g id=\"node151\" class=\"node\">\n<title>191</title>\n<polygon fill=\"#f4cbad\" stroke=\"#000000\" points=\"5818,-53 5698,-53 5698,0 5818,0 5818,-53\"/>\n<text text-anchor=\"middle\" x=\"5758\" y=\"-37.8\" font-family=\"Helvetica,sans-Serif\" font-size=\"14.00\" fill=\"#000000\">mse = 0.048</text>\n<text text-anchor=\"middle\" x=\"5758\" y=\"-22.8\" font-family=\"Helvetica,sans-Serif\" font-size=\"14.00\" fill=\"#000000\">samples = 1465</text>\n<text text-anchor=\"middle\" x=\"5758\" y=\"-7.8\" font-family=\"Helvetica,sans-Serif\" font-size=\"14.00\" fill=\"#000000\">value = 2.829</text>\n</g>\n<!-- 99&#45;&gt;191 -->\n<g id=\"edge150\" class=\"edge\">\n<title>99&#45;&gt;191</title>\n<path fill=\"none\" stroke=\"#000000\" d=\"M5828.5707,-88.9777C5817.9173,-79.546 5806.3641,-69.3178 5795.7499,-59.9208\"/>\n<polygon fill=\"#000000\" stroke=\"#000000\" points=\"5798.0207,-57.2566 5788.2133,-53.2485 5793.3806,-62.4978 5798.0207,-57.2566\"/>\n</g>\n<!-- 192 -->\n<g id=\"node152\" class=\"node\">\n<title>192</title>\n<polygon fill=\"#f5cfb4\" stroke=\"#000000\" points=\"5948,-53 5836,-53 5836,0 5948,0 5948,-53\"/>\n<text text-anchor=\"middle\" x=\"5892\" y=\"-37.8\" font-family=\"Helvetica,sans-Serif\" font-size=\"14.00\" fill=\"#000000\">mse = 0.036</text>\n<text text-anchor=\"middle\" x=\"5892\" y=\"-22.8\" font-family=\"Helvetica,sans-Serif\" font-size=\"14.00\" fill=\"#000000\">samples = 676</text>\n<text text-anchor=\"middle\" x=\"5892\" y=\"-7.8\" font-family=\"Helvetica,sans-Serif\" font-size=\"14.00\" fill=\"#000000\">value = 2.726</text>\n</g>\n<!-- 99&#45;&gt;192 -->\n<g id=\"edge151\" class=\"edge\">\n<title>99&#45;&gt;192</title>\n<path fill=\"none\" stroke=\"#000000\" d=\"M5875.8141,-88.9777C5877.9966,-80.5533 5880.3437,-71.4934 5882.5549,-62.9579\"/>\n<polygon fill=\"#000000\" stroke=\"#000000\" points=\"5885.9505,-63.8067 5885.0703,-53.2485 5879.1742,-62.0511 5885.9505,-63.8067\"/>\n</g>\n<!-- 77 -->\n<g id=\"node157\" class=\"node\">\n<title>77</title>\n<polygon fill=\"#f3c3a1\" stroke=\"#000000\" points=\"6235,-357.5 6115,-357.5 6115,-304.5 6235,-304.5 6235,-357.5\"/>\n<text text-anchor=\"middle\" x=\"6175\" y=\"-342.3\" font-family=\"Helvetica,sans-Serif\" font-size=\"14.00\" fill=\"#000000\">mse = 0.053</text>\n<text text-anchor=\"middle\" x=\"6175\" y=\"-327.3\" font-family=\"Helvetica,sans-Serif\" font-size=\"14.00\" fill=\"#000000\">samples = 1564</text>\n<text text-anchor=\"middle\" x=\"6175\" y=\"-312.3\" font-family=\"Helvetica,sans-Serif\" font-size=\"14.00\" fill=\"#000000\">value = 2.998</text>\n</g>\n<!-- 36&#45;&gt;77 -->\n<g id=\"edge156\" class=\"edge\">\n<title>36&#45;&gt;77</title>\n<path fill=\"none\" stroke=\"#000000\" d=\"M6175,-400.9465C6175,-390.2621 6175,-378.4254 6175,-367.5742\"/>\n<polygon fill=\"#000000\" stroke=\"#000000\" points=\"6178.5001,-367.5421 6175,-357.5422 6171.5001,-367.5422 6178.5001,-367.5421\"/>\n</g>\n<!-- 78 -->\n<g id=\"node158\" class=\"node\">\n<title>78</title>\n<polygon fill=\"#f1bc96\" stroke=\"#000000\" points=\"6373,-357.5 6253,-357.5 6253,-304.5 6373,-304.5 6373,-357.5\"/>\n<text text-anchor=\"middle\" x=\"6313\" y=\"-342.3\" font-family=\"Helvetica,sans-Serif\" font-size=\"14.00\" fill=\"#000000\">mse = 0.058</text>\n<text text-anchor=\"middle\" x=\"6313\" y=\"-327.3\" font-family=\"Helvetica,sans-Serif\" font-size=\"14.00\" fill=\"#000000\">samples = 1521</text>\n<text text-anchor=\"middle\" x=\"6313\" y=\"-312.3\" font-family=\"Helvetica,sans-Serif\" font-size=\"14.00\" fill=\"#000000\">value = 3.161</text>\n</g>\n<!-- 36&#45;&gt;78 -->\n<g id=\"edge157\" class=\"edge\">\n<title>36&#45;&gt;78</title>\n<path fill=\"none\" stroke=\"#000000\" d=\"M6220.1864,-400.9465C6236.1177,-388.9403 6253.9796,-375.4791 6269.7473,-363.5962\"/>\n<polygon fill=\"#000000\" stroke=\"#000000\" points=\"6271.901,-366.3558 6277.7806,-357.5422 6267.688,-360.7656 6271.901,-366.3558\"/>\n</g>\n<!-- 13 -->\n<g id=\"node160\" class=\"node\">\n<title>13</title>\n<polygon fill=\"#eead7e\" stroke=\"#000000\" points=\"7028,-573 6896,-573 6896,-505 7028,-505 7028,-573\"/>\n<text text-anchor=\"middle\" x=\"6962\" y=\"-557.8\" font-family=\"Helvetica,sans-Serif\" font-size=\"14.00\" fill=\"#000000\">distance &lt;= 2.731</text>\n<text text-anchor=\"middle\" x=\"6962\" y=\"-542.8\" font-family=\"Helvetica,sans-Serif\" font-size=\"14.00\" fill=\"#000000\">mse = 0.184</text>\n<text text-anchor=\"middle\" x=\"6962\" y=\"-527.8\" font-family=\"Helvetica,sans-Serif\" font-size=\"14.00\" fill=\"#000000\">samples = 11304</text>\n<text text-anchor=\"middle\" x=\"6962\" y=\"-512.8\" font-family=\"Helvetica,sans-Serif\" font-size=\"14.00\" fill=\"#000000\">value = 3.511</text>\n</g>\n<!-- 6&#45;&gt;13 -->\n<g id=\"edge159\" class=\"edge\">\n<title>6&#45;&gt;13</title>\n<path fill=\"none\" stroke=\"#000000\" d=\"M6962,-608.9465C6962,-600.776 6962,-591.9318 6962,-583.3697\"/>\n<polygon fill=\"#000000\" stroke=\"#000000\" points=\"6965.5001,-583.13 6962,-573.13 6958.5001,-583.13 6965.5001,-583.13\"/>\n</g>\n<!-- 14 -->\n<g id=\"node193\" class=\"node\">\n<title>14</title>\n<polygon fill=\"#f7d6bf\" stroke=\"#000000\" points=\"7723.5,-573 7520.5,-573 7520.5,-505 7723.5,-505 7723.5,-573\"/>\n<text text-anchor=\"middle\" x=\"7622\" y=\"-557.8\" font-family=\"Helvetica,sans-Serif\" font-size=\"14.00\" fill=\"#000000\">dropoff_longitude &lt;= &#45;73.933</text>\n<text text-anchor=\"middle\" x=\"7622\" y=\"-542.8\" font-family=\"Helvetica,sans-Serif\" font-size=\"14.00\" fill=\"#000000\">mse = 0.522</text>\n<text text-anchor=\"middle\" x=\"7622\" y=\"-527.8\" font-family=\"Helvetica,sans-Serif\" font-size=\"14.00\" fill=\"#000000\">samples = 210</text>\n<text text-anchor=\"middle\" x=\"7622\" y=\"-512.8\" font-family=\"Helvetica,sans-Serif\" font-size=\"14.00\" fill=\"#000000\">value = 2.56</text>\n</g>\n<!-- 6&#45;&gt;14 -->\n<g id=\"edge192\" class=\"edge\">\n<title>6&#45;&gt;14</title>\n<path fill=\"none\" stroke=\"#000000\" d=\"M7062.2398,-627.2046C7182.8436,-608.2004 7384.7279,-576.3883 7510.247,-556.6096\"/>\n<polygon fill=\"#000000\" stroke=\"#000000\" points=\"7510.9402,-560.0436 7520.2735,-555.0296 7509.8506,-553.1289 7510.9402,-560.0436\"/>\n</g>\n<!-- 15 -->\n<g id=\"node161\" class=\"node\">\n<title>15</title>\n<polygon fill=\"#efb489\" stroke=\"#000000\" points=\"6836,-469 6716,-469 6716,-401 6836,-401 6836,-469\"/>\n<text text-anchor=\"middle\" x=\"6776\" y=\"-453.8\" font-family=\"Helvetica,sans-Serif\" font-size=\"14.00\" fill=\"#000000\">year &lt;= 2012.5</text>\n<text text-anchor=\"middle\" x=\"6776\" y=\"-438.8\" font-family=\"Helvetica,sans-Serif\" font-size=\"14.00\" fill=\"#000000\">mse = 0.092</text>\n<text text-anchor=\"middle\" x=\"6776\" y=\"-423.8\" font-family=\"Helvetica,sans-Serif\" font-size=\"14.00\" fill=\"#000000\">samples = 7413</text>\n<text text-anchor=\"middle\" x=\"6776\" y=\"-408.8\" font-family=\"Helvetica,sans-Serif\" font-size=\"14.00\" fill=\"#000000\">value = 3.352</text>\n</g>\n<!-- 13&#45;&gt;15 -->\n<g id=\"edge160\" class=\"edge\">\n<title>13&#45;&gt;15</title>\n<path fill=\"none\" stroke=\"#000000\" d=\"M6901.0966,-504.9465C6883.16,-494.9174 6863.4077,-483.8731 6845.0016,-473.5815\"/>\n<polygon fill=\"#000000\" stroke=\"#000000\" points=\"6846.5243,-470.423 6836.0879,-468.5975 6843.108,-476.5328 6846.5243,-470.423\"/>\n</g>\n<!-- 16 -->\n<g id=\"node180\" class=\"node\">\n<title>16</title>\n<polygon fill=\"#eb9f69\" stroke=\"#000000\" points=\"7250.5,-469 7047.5,-469 7047.5,-401 7250.5,-401 7250.5,-469\"/>\n<text text-anchor=\"middle\" x=\"7149\" y=\"-453.8\" font-family=\"Helvetica,sans-Serif\" font-size=\"14.00\" fill=\"#000000\">dropoff_longitude &lt;= &#45;73.188</text>\n<text text-anchor=\"middle\" x=\"7149\" y=\"-438.8\" font-family=\"Helvetica,sans-Serif\" font-size=\"14.00\" fill=\"#000000\">mse = 0.219</text>\n<text text-anchor=\"middle\" x=\"7149\" y=\"-423.8\" font-family=\"Helvetica,sans-Serif\" font-size=\"14.00\" fill=\"#000000\">samples = 3891</text>\n<text text-anchor=\"middle\" x=\"7149\" y=\"-408.8\" font-family=\"Helvetica,sans-Serif\" font-size=\"14.00\" fill=\"#000000\">value = 3.813</text>\n</g>\n<!-- 13&#45;&gt;16 -->\n<g id=\"edge179\" class=\"edge\">\n<title>13&#45;&gt;16</title>\n<path fill=\"none\" stroke=\"#000000\" d=\"M7023.2308,-504.9465C7040.9893,-495.0701 7060.518,-484.2093 7078.7811,-474.0522\"/>\n<polygon fill=\"#000000\" stroke=\"#000000\" points=\"7080.5934,-477.0492 7087.6316,-469.13 7077.1911,-470.9317 7080.5934,-477.0492\"/>\n</g>\n<!-- 33 -->\n<g id=\"node162\" class=\"node\">\n<title>33</title>\n<polygon fill=\"#f0b78e\" stroke=\"#000000\" points=\"6591,-365 6391,-365 6391,-297 6591,-297 6591,-365\"/>\n<text text-anchor=\"middle\" x=\"6491\" y=\"-349.8\" font-family=\"Helvetica,sans-Serif\" font-size=\"14.00\" fill=\"#000000\">pickup_longitude &lt;= &#45;73.885</text>\n<text text-anchor=\"middle\" x=\"6491\" y=\"-334.8\" font-family=\"Helvetica,sans-Serif\" font-size=\"14.00\" fill=\"#000000\">mse = 0.087</text>\n<text text-anchor=\"middle\" x=\"6491\" y=\"-319.8\" font-family=\"Helvetica,sans-Serif\" font-size=\"14.00\" fill=\"#000000\">samples = 4469</text>\n<text text-anchor=\"middle\" x=\"6491\" y=\"-304.8\" font-family=\"Helvetica,sans-Serif\" font-size=\"14.00\" fill=\"#000000\">value = 3.271</text>\n</g>\n<!-- 15&#45;&gt;33 -->\n<g id=\"edge161\" class=\"edge\">\n<title>15&#45;&gt;33</title>\n<path fill=\"none\" stroke=\"#000000\" d=\"M6715.9071,-413.0714C6680.5294,-400.1616 6634.8272,-383.4843 6593.87,-368.5385\"/>\n<polygon fill=\"#000000\" stroke=\"#000000\" points=\"6594.9864,-365.2202 6584.3925,-365.0801 6592.5867,-371.7961 6594.9864,-365.2202\"/>\n</g>\n<!-- 34 -->\n<g id=\"node169\" class=\"node\">\n<title>34</title>\n<polygon fill=\"#eeae80\" stroke=\"#000000\" points=\"6842,-365 6710,-365 6710,-297 6842,-297 6842,-365\"/>\n<text text-anchor=\"middle\" x=\"6776\" y=\"-349.8\" font-family=\"Helvetica,sans-Serif\" font-size=\"14.00\" fill=\"#000000\">distance &lt;= 2.336</text>\n<text text-anchor=\"middle\" x=\"6776\" y=\"-334.8\" font-family=\"Helvetica,sans-Serif\" font-size=\"14.00\" fill=\"#000000\">mse = 0.074</text>\n<text text-anchor=\"middle\" x=\"6776\" y=\"-319.8\" font-family=\"Helvetica,sans-Serif\" font-size=\"14.00\" fill=\"#000000\">samples = 2944</text>\n<text text-anchor=\"middle\" x=\"6776\" y=\"-304.8\" font-family=\"Helvetica,sans-Serif\" font-size=\"14.00\" fill=\"#000000\">value = 3.474</text>\n</g>\n<!-- 15&#45;&gt;34 -->\n<g id=\"edge168\" class=\"edge\">\n<title>15&#45;&gt;34</title>\n<path fill=\"none\" stroke=\"#000000\" d=\"M6776,-400.9465C6776,-392.776 6776,-383.9318 6776,-375.3697\"/>\n<polygon fill=\"#000000\" stroke=\"#000000\" points=\"6779.5001,-375.13 6776,-365.13 6772.5001,-375.13 6779.5001,-375.13\"/>\n</g>\n<!-- 53 -->\n<g id=\"node163\" class=\"node\">\n<title>53</title>\n<polygon fill=\"#f1ba92\" stroke=\"#000000\" points=\"6412.5,-261 6209.5,-261 6209.5,-193 6412.5,-193 6412.5,-261\"/>\n<text text-anchor=\"middle\" x=\"6311\" y=\"-245.8\" font-family=\"Helvetica,sans-Serif\" font-size=\"14.00\" fill=\"#000000\">dropoff_longitude &lt;= &#45;73.886</text>\n<text text-anchor=\"middle\" x=\"6311\" y=\"-230.8\" font-family=\"Helvetica,sans-Serif\" font-size=\"14.00\" fill=\"#000000\">mse = 0.086</text>\n<text text-anchor=\"middle\" x=\"6311\" y=\"-215.8\" font-family=\"Helvetica,sans-Serif\" font-size=\"14.00\" fill=\"#000000\">samples = 3133</text>\n<text text-anchor=\"middle\" x=\"6311\" y=\"-200.8\" font-family=\"Helvetica,sans-Serif\" font-size=\"14.00\" fill=\"#000000\">value = 3.215</text>\n</g>\n<!-- 33&#45;&gt;53 -->\n<g id=\"edge162\" class=\"edge\">\n<title>33&#45;&gt;53</title>\n<path fill=\"none\" stroke=\"#000000\" d=\"M6432.0613,-296.9465C6415.1229,-287.1599 6396.5115,-276.4066 6379.0701,-266.3294\"/>\n<polygon fill=\"#000000\" stroke=\"#000000\" points=\"6380.4808,-263.1023 6370.0711,-261.13 6376.9788,-269.1634 6380.4808,-263.1023\"/>\n</g>\n<!-- 54 -->\n<g id=\"node168\" class=\"node\">\n<title>54</title>\n<polygon fill=\"#efb185\" stroke=\"#000000\" points=\"6550,-253.5 6430,-253.5 6430,-200.5 6550,-200.5 6550,-253.5\"/>\n<text text-anchor=\"middle\" x=\"6490\" y=\"-238.3\" font-family=\"Helvetica,sans-Serif\" font-size=\"14.00\" fill=\"#000000\">mse = 0.065</text>\n<text text-anchor=\"middle\" x=\"6490\" y=\"-223.3\" font-family=\"Helvetica,sans-Serif\" font-size=\"14.00\" fill=\"#000000\">samples = 1336</text>\n<text text-anchor=\"middle\" x=\"6490\" y=\"-208.3\" font-family=\"Helvetica,sans-Serif\" font-size=\"14.00\" fill=\"#000000\">value = 3.402</text>\n</g>\n<!-- 33&#45;&gt;54 -->\n<g id=\"edge167\" class=\"edge\">\n<title>33&#45;&gt;54</title>\n<path fill=\"none\" stroke=\"#000000\" d=\"M6490.6726,-296.9465C6490.5698,-286.2621 6490.456,-274.4254 6490.3517,-263.5742\"/>\n<polygon fill=\"#000000\" stroke=\"#000000\" points=\"6493.8513,-263.508 6490.2552,-253.5422 6486.8516,-263.5754 6493.8513,-263.508\"/>\n</g>\n<!-- 55 -->\n<g id=\"node164\" class=\"node\">\n<title>55</title>\n<polygon fill=\"#f2be99\" stroke=\"#000000\" points=\"6251,-157 6119,-157 6119,-89 6251,-89 6251,-157\"/>\n<text text-anchor=\"middle\" x=\"6185\" y=\"-141.8\" font-family=\"Helvetica,sans-Serif\" font-size=\"14.00\" fill=\"#000000\">distance &lt;= 2.519</text>\n<text text-anchor=\"middle\" x=\"6185\" y=\"-126.8\" font-family=\"Helvetica,sans-Serif\" font-size=\"14.00\" fill=\"#000000\">mse = 0.077</text>\n<text text-anchor=\"middle\" x=\"6185\" y=\"-111.8\" font-family=\"Helvetica,sans-Serif\" font-size=\"14.00\" fill=\"#000000\">samples = 1937</text>\n<text text-anchor=\"middle\" x=\"6185\" y=\"-96.8\" font-family=\"Helvetica,sans-Serif\" font-size=\"14.00\" fill=\"#000000\">value = 3.11</text>\n</g>\n<!-- 53&#45;&gt;55 -->\n<g id=\"edge163\" class=\"edge\">\n<title>53&#45;&gt;55</title>\n<path fill=\"none\" stroke=\"#000000\" d=\"M6269.7429,-192.9465C6258.4299,-183.6088 6246.0508,-173.3911 6234.3342,-163.7203\"/>\n<polygon fill=\"#000000\" stroke=\"#000000\" points=\"6236.29,-160.7964 6226.3498,-157.13 6231.8341,-166.195 6236.29,-160.7964\"/>\n</g>\n<!-- 56 -->\n<g id=\"node167\" class=\"node\">\n<title>56</title>\n<polygon fill=\"#efb286\" stroke=\"#000000\" points=\"6389,-149.5 6269,-149.5 6269,-96.5 6389,-96.5 6389,-149.5\"/>\n<text text-anchor=\"middle\" x=\"6329\" y=\"-134.3\" font-family=\"Helvetica,sans-Serif\" font-size=\"14.00\" fill=\"#000000\">mse = 0.054</text>\n<text text-anchor=\"middle\" x=\"6329\" y=\"-119.3\" font-family=\"Helvetica,sans-Serif\" font-size=\"14.00\" fill=\"#000000\">samples = 1196</text>\n<text text-anchor=\"middle\" x=\"6329\" y=\"-104.3\" font-family=\"Helvetica,sans-Serif\" font-size=\"14.00\" fill=\"#000000\">value = 3.386</text>\n</g>\n<!-- 53&#45;&gt;56 -->\n<g id=\"edge166\" class=\"edge\">\n<title>53&#45;&gt;56</title>\n<path fill=\"none\" stroke=\"#000000\" d=\"M6316.8939,-192.9465C6318.7431,-182.2621 6320.7918,-170.4254 6322.6698,-159.5742\"/>\n<polygon fill=\"#000000\" stroke=\"#000000\" points=\"6326.1494,-159.9926 6324.4062,-149.5422 6319.2519,-158.7987 6326.1494,-159.9926\"/>\n</g>\n<!-- 101 -->\n<g id=\"node165\" class=\"node\">\n<title>101</title>\n<polygon fill=\"#f2c09c\" stroke=\"#000000\" points=\"6139,-53 6019,-53 6019,0 6139,0 6139,-53\"/>\n<text text-anchor=\"middle\" x=\"6079\" y=\"-37.8\" font-family=\"Helvetica,sans-Serif\" font-size=\"14.00\" fill=\"#000000\">mse = 0.068</text>\n<text text-anchor=\"middle\" x=\"6079\" y=\"-22.8\" font-family=\"Helvetica,sans-Serif\" font-size=\"14.00\" fill=\"#000000\">samples = 1588</text>\n<text text-anchor=\"middle\" x=\"6079\" y=\"-7.8\" font-family=\"Helvetica,sans-Serif\" font-size=\"14.00\" fill=\"#000000\">value = 3.07</text>\n</g>\n<!-- 55&#45;&gt;101 -->\n<g id=\"edge164\" class=\"edge\">\n<title>55&#45;&gt;101</title>\n<path fill=\"none\" stroke=\"#000000\" d=\"M6147.6284,-88.9777C6137.3688,-79.6376 6126.2511,-69.5163 6116.0118,-60.1947\"/>\n<polygon fill=\"#000000\" stroke=\"#000000\" points=\"6118.1326,-57.3923 6108.3817,-53.2485 6113.4202,-62.5686 6118.1326,-57.3923\"/>\n</g>\n<!-- 102 -->\n<g id=\"node166\" class=\"node\">\n<title>102</title>\n<polygon fill=\"#f0b68d\" stroke=\"#000000\" points=\"6269,-53 6157,-53 6157,0 6269,0 6269,-53\"/>\n<text text-anchor=\"middle\" x=\"6213\" y=\"-37.8\" font-family=\"Helvetica,sans-Serif\" font-size=\"14.00\" fill=\"#000000\">mse = 0.082</text>\n<text text-anchor=\"middle\" x=\"6213\" y=\"-22.8\" font-family=\"Helvetica,sans-Serif\" font-size=\"14.00\" fill=\"#000000\">samples = 349</text>\n<text text-anchor=\"middle\" x=\"6213\" y=\"-7.8\" font-family=\"Helvetica,sans-Serif\" font-size=\"14.00\" fill=\"#000000\">value = 3.288</text>\n</g>\n<!-- 55&#45;&gt;102 -->\n<g id=\"edge165\" class=\"edge\">\n<title>55&#45;&gt;102</title>\n<path fill=\"none\" stroke=\"#000000\" d=\"M6194.8718,-88.9777C6197.3161,-80.5533 6199.9449,-71.4934 6202.4215,-62.9579\"/>\n<polygon fill=\"#000000\" stroke=\"#000000\" points=\"6205.8135,-63.8277 6205.2388,-53.2485 6199.0907,-61.877 6205.8135,-63.8277\"/>\n</g>\n<!-- 71 -->\n<g id=\"node170\" class=\"node\">\n<title>71</title>\n<polygon fill=\"#efb489\" stroke=\"#000000\" points=\"6768,-261 6568,-261 6568,-193 6768,-193 6768,-261\"/>\n<text text-anchor=\"middle\" x=\"6668\" y=\"-245.8\" font-family=\"Helvetica,sans-Serif\" font-size=\"14.00\" fill=\"#000000\">pickup_longitude &lt;= &#45;73.889</text>\n<text text-anchor=\"middle\" x=\"6668\" y=\"-230.8\" font-family=\"Helvetica,sans-Serif\" font-size=\"14.00\" fill=\"#000000\">mse = 0.068</text>\n<text text-anchor=\"middle\" x=\"6668\" y=\"-215.8\" font-family=\"Helvetica,sans-Serif\" font-size=\"14.00\" fill=\"#000000\">samples = 979</text>\n<text text-anchor=\"middle\" x=\"6668\" y=\"-200.8\" font-family=\"Helvetica,sans-Serif\" font-size=\"14.00\" fill=\"#000000\">value = 3.35</text>\n</g>\n<!-- 34&#45;&gt;71 -->\n<g id=\"edge169\" class=\"edge\">\n<title>34&#45;&gt;71</title>\n<path fill=\"none\" stroke=\"#000000\" d=\"M6740.6368,-296.9465C6731.1264,-287.7884 6720.737,-277.7838 6710.8665,-268.2788\"/>\n<polygon fill=\"#000000\" stroke=\"#000000\" points=\"6713.0737,-265.5453 6703.4427,-261.13 6708.2182,-270.5876 6713.0737,-265.5453\"/>\n</g>\n<!-- 72 -->\n<g id=\"node175\" class=\"node\">\n<title>72</title>\n<polygon fill=\"#eeab7c\" stroke=\"#000000\" points=\"6971.5,-261 6786.5,-261 6786.5,-193 6971.5,-193 6971.5,-261\"/>\n<text text-anchor=\"middle\" x=\"6879\" y=\"-245.8\" font-family=\"Helvetica,sans-Serif\" font-size=\"14.00\" fill=\"#000000\">dropoff_latitude &lt;= 40.784</text>\n<text text-anchor=\"middle\" x=\"6879\" y=\"-230.8\" font-family=\"Helvetica,sans-Serif\" font-size=\"14.00\" fill=\"#000000\">mse = 0.065</text>\n<text text-anchor=\"middle\" x=\"6879\" y=\"-215.8\" font-family=\"Helvetica,sans-Serif\" font-size=\"14.00\" fill=\"#000000\">samples = 1965</text>\n<text text-anchor=\"middle\" x=\"6879\" y=\"-200.8\" font-family=\"Helvetica,sans-Serif\" font-size=\"14.00\" fill=\"#000000\">value = 3.537</text>\n</g>\n<!-- 34&#45;&gt;72 -->\n<g id=\"edge174\" class=\"edge\">\n<title>34&#45;&gt;72</title>\n<path fill=\"none\" stroke=\"#000000\" d=\"M6809.7261,-296.9465C6818.7961,-287.7884 6828.7045,-277.7838 6838.1181,-268.2788\"/>\n<polygon fill=\"#000000\" stroke=\"#000000\" points=\"6840.6481,-270.6981 6845.1982,-261.13 6835.6745,-265.7723 6840.6481,-270.6981\"/>\n</g>\n<!-- 113 -->\n<g id=\"node171\" class=\"node\">\n<title>113</title>\n<polygon fill=\"#f0b68d\" stroke=\"#000000\" points=\"6594.5,-157 6409.5,-157 6409.5,-89 6594.5,-89 6594.5,-157\"/>\n<text text-anchor=\"middle\" x=\"6502\" y=\"-141.8\" font-family=\"Helvetica,sans-Serif\" font-size=\"14.00\" fill=\"#000000\">dropoff_latitude &lt;= 40.775</text>\n<text text-anchor=\"middle\" x=\"6502\" y=\"-126.8\" font-family=\"Helvetica,sans-Serif\" font-size=\"14.00\" fill=\"#000000\">mse = 0.06</text>\n<text text-anchor=\"middle\" x=\"6502\" y=\"-111.8\" font-family=\"Helvetica,sans-Serif\" font-size=\"14.00\" fill=\"#000000\">samples = 759</text>\n<text text-anchor=\"middle\" x=\"6502\" y=\"-96.8\" font-family=\"Helvetica,sans-Serif\" font-size=\"14.00\" fill=\"#000000\">value = 3.292</text>\n</g>\n<!-- 71&#45;&gt;113 -->\n<g id=\"edge170\" class=\"edge\">\n<title>71&#45;&gt;113</title>\n<path fill=\"none\" stroke=\"#000000\" d=\"M6613.6454,-192.9465C6598.1678,-183.2497 6581.1754,-172.6039 6565.2188,-162.6069\"/>\n<polygon fill=\"#000000\" stroke=\"#000000\" points=\"6566.8092,-159.4732 6556.4767,-157.13 6563.0928,-165.4052 6566.8092,-159.4732\"/>\n</g>\n<!-- 114 -->\n<g id=\"node174\" class=\"node\">\n<title>114</title>\n<polygon fill=\"#eeab7b\" stroke=\"#000000\" points=\"6724,-149.5 6612,-149.5 6612,-96.5 6724,-96.5 6724,-149.5\"/>\n<text text-anchor=\"middle\" x=\"6668\" y=\"-134.3\" font-family=\"Helvetica,sans-Serif\" font-size=\"14.00\" fill=\"#000000\">mse = 0.043</text>\n<text text-anchor=\"middle\" x=\"6668\" y=\"-119.3\" font-family=\"Helvetica,sans-Serif\" font-size=\"14.00\" fill=\"#000000\">samples = 220</text>\n<text text-anchor=\"middle\" x=\"6668\" y=\"-104.3\" font-family=\"Helvetica,sans-Serif\" font-size=\"14.00\" fill=\"#000000\">value = 3.549</text>\n</g>\n<!-- 71&#45;&gt;114 -->\n<g id=\"edge173\" class=\"edge\">\n<title>71&#45;&gt;114</title>\n<path fill=\"none\" stroke=\"#000000\" d=\"M6668,-192.9465C6668,-182.2621 6668,-170.4254 6668,-159.5742\"/>\n<polygon fill=\"#000000\" stroke=\"#000000\" points=\"6671.5001,-159.5421 6668,-149.5422 6664.5001,-159.5422 6671.5001,-159.5421\"/>\n</g>\n<!-- 149 -->\n<g id=\"node172\" class=\"node\">\n<title>149</title>\n<polygon fill=\"#efb489\" stroke=\"#000000\" points=\"6464,-53 6352,-53 6352,0 6464,0 6464,-53\"/>\n<text text-anchor=\"middle\" x=\"6408\" y=\"-37.8\" font-family=\"Helvetica,sans-Serif\" font-size=\"14.00\" fill=\"#000000\">mse = 0.048</text>\n<text text-anchor=\"middle\" x=\"6408\" y=\"-22.8\" font-family=\"Helvetica,sans-Serif\" font-size=\"14.00\" fill=\"#000000\">samples = 555</text>\n<text text-anchor=\"middle\" x=\"6408\" y=\"-7.8\" font-family=\"Helvetica,sans-Serif\" font-size=\"14.00\" fill=\"#000000\">value = 3.349</text>\n</g>\n<!-- 113&#45;&gt;149 -->\n<g id=\"edge171\" class=\"edge\">\n<title>113&#45;&gt;149</title>\n<path fill=\"none\" stroke=\"#000000\" d=\"M6468.8591,-88.9777C6459.8502,-79.7292 6450.0952,-69.7147 6441.0891,-60.4691\"/>\n<polygon fill=\"#000000\" stroke=\"#000000\" points=\"6443.5404,-57.9696 6434.0555,-53.2485 6438.5261,-62.8539 6443.5404,-57.9696\"/>\n</g>\n<!-- 150 -->\n<g id=\"node173\" class=\"node\">\n<title>150</title>\n<polygon fill=\"#f1bd97\" stroke=\"#000000\" points=\"6594,-53 6482,-53 6482,0 6594,0 6594,-53\"/>\n<text text-anchor=\"middle\" x=\"6538\" y=\"-37.8\" font-family=\"Helvetica,sans-Serif\" font-size=\"14.00\" fill=\"#000000\">mse = 0.061</text>\n<text text-anchor=\"middle\" x=\"6538\" y=\"-22.8\" font-family=\"Helvetica,sans-Serif\" font-size=\"14.00\" fill=\"#000000\">samples = 204</text>\n<text text-anchor=\"middle\" x=\"6538\" y=\"-7.8\" font-family=\"Helvetica,sans-Serif\" font-size=\"14.00\" fill=\"#000000\">value = 3.136</text>\n</g>\n<!-- 113&#45;&gt;150 -->\n<g id=\"edge172\" class=\"edge\">\n<title>113&#45;&gt;150</title>\n<path fill=\"none\" stroke=\"#000000\" d=\"M6514.6923,-88.9777C6517.8692,-80.4617 6521.2884,-71.2963 6524.5029,-62.6798\"/>\n<polygon fill=\"#000000\" stroke=\"#000000\" points=\"6527.8052,-63.8411 6528.0213,-53.2485 6521.2467,-61.3944 6527.8052,-63.8411\"/>\n</g>\n<!-- 109 -->\n<g id=\"node176\" class=\"node\">\n<title>109</title>\n<polygon fill=\"#edaa79\" stroke=\"#000000\" points=\"6927.5,-157 6742.5,-157 6742.5,-89 6927.5,-89 6927.5,-157\"/>\n<text text-anchor=\"middle\" x=\"6835\" y=\"-141.8\" font-family=\"Helvetica,sans-Serif\" font-size=\"14.00\" fill=\"#000000\">dropoff_latitude &lt;= 40.751</text>\n<text text-anchor=\"middle\" x=\"6835\" y=\"-126.8\" font-family=\"Helvetica,sans-Serif\" font-size=\"14.00\" fill=\"#000000\">mse = 0.059</text>\n<text text-anchor=\"middle\" x=\"6835\" y=\"-111.8\" font-family=\"Helvetica,sans-Serif\" font-size=\"14.00\" fill=\"#000000\">samples = 1602</text>\n<text text-anchor=\"middle\" x=\"6835\" y=\"-96.8\" font-family=\"Helvetica,sans-Serif\" font-size=\"14.00\" fill=\"#000000\">value = 3.574</text>\n</g>\n<!-- 72&#45;&gt;109 -->\n<g id=\"edge175\" class=\"edge\">\n<title>72&#45;&gt;109</title>\n<path fill=\"none\" stroke=\"#000000\" d=\"M6864.5928,-192.9465C6861.0221,-184.5067 6857.1472,-175.3479 6853.4139,-166.5239\"/>\n<polygon fill=\"#000000\" stroke=\"#000000\" points=\"6856.5595,-164.9759 6849.4396,-157.13 6850.1127,-167.7034 6856.5595,-164.9759\"/>\n</g>\n<!-- 110 -->\n<g id=\"node179\" class=\"node\">\n<title>110</title>\n<polygon fill=\"#efb387\" stroke=\"#000000\" points=\"7057,-149.5 6945,-149.5 6945,-96.5 7057,-96.5 7057,-149.5\"/>\n<text text-anchor=\"middle\" x=\"7001\" y=\"-134.3\" font-family=\"Helvetica,sans-Serif\" font-size=\"14.00\" fill=\"#000000\">mse = 0.058</text>\n<text text-anchor=\"middle\" x=\"7001\" y=\"-119.3\" font-family=\"Helvetica,sans-Serif\" font-size=\"14.00\" fill=\"#000000\">samples = 363</text>\n<text text-anchor=\"middle\" x=\"7001\" y=\"-104.3\" font-family=\"Helvetica,sans-Serif\" font-size=\"14.00\" fill=\"#000000\">value = 3.373</text>\n</g>\n<!-- 72&#45;&gt;110 -->\n<g id=\"edge178\" class=\"edge\">\n<title>72&#45;&gt;110</title>\n<path fill=\"none\" stroke=\"#000000\" d=\"M6918.9474,-192.9465C6932.7732,-181.1606 6948.2436,-167.9726 6961.9929,-156.2519\"/>\n<polygon fill=\"#000000\" stroke=\"#000000\" points=\"6964.5244,-158.6931 6969.864,-149.5422 6959.9832,-153.366 6964.5244,-158.6931\"/>\n</g>\n<!-- 193 -->\n<g id=\"node177\" class=\"node\">\n<title>193</title>\n<polygon fill=\"#eeac7d\" stroke=\"#000000\" points=\"6797,-53 6685,-53 6685,0 6797,0 6797,-53\"/>\n<text text-anchor=\"middle\" x=\"6741\" y=\"-37.8\" font-family=\"Helvetica,sans-Serif\" font-size=\"14.00\" fill=\"#000000\">mse = 0.068</text>\n<text text-anchor=\"middle\" x=\"6741\" y=\"-22.8\" font-family=\"Helvetica,sans-Serif\" font-size=\"14.00\" fill=\"#000000\">samples = 861</text>\n<text text-anchor=\"middle\" x=\"6741\" y=\"-7.8\" font-family=\"Helvetica,sans-Serif\" font-size=\"14.00\" fill=\"#000000\">value = 3.523</text>\n</g>\n<!-- 109&#45;&gt;193 -->\n<g id=\"edge176\" class=\"edge\">\n<title>109&#45;&gt;193</title>\n<path fill=\"none\" stroke=\"#000000\" d=\"M6801.8591,-88.9777C6792.8502,-79.7292 6783.0952,-69.7147 6774.0891,-60.4691\"/>\n<polygon fill=\"#000000\" stroke=\"#000000\" points=\"6776.5404,-57.9696 6767.0555,-53.2485 6771.5261,-62.8539 6776.5404,-57.9696\"/>\n</g>\n<!-- 194 -->\n<g id=\"node178\" class=\"node\">\n<title>194</title>\n<polygon fill=\"#eda775\" stroke=\"#000000\" points=\"6927,-53 6815,-53 6815,0 6927,0 6927,-53\"/>\n<text text-anchor=\"middle\" x=\"6871\" y=\"-37.8\" font-family=\"Helvetica,sans-Serif\" font-size=\"14.00\" fill=\"#000000\">mse = 0.043</text>\n<text text-anchor=\"middle\" x=\"6871\" y=\"-22.8\" font-family=\"Helvetica,sans-Serif\" font-size=\"14.00\" fill=\"#000000\">samples = 741</text>\n<text text-anchor=\"middle\" x=\"6871\" y=\"-7.8\" font-family=\"Helvetica,sans-Serif\" font-size=\"14.00\" fill=\"#000000\">value = 3.633</text>\n</g>\n<!-- 109&#45;&gt;194 -->\n<g id=\"edge177\" class=\"edge\">\n<title>109&#45;&gt;194</title>\n<path fill=\"none\" stroke=\"#000000\" d=\"M6847.6923,-88.9777C6850.8692,-80.4617 6854.2884,-71.2963 6857.5029,-62.6798\"/>\n<polygon fill=\"#000000\" stroke=\"#000000\" points=\"6860.8052,-63.8411 6861.0213,-53.2485 6854.2467,-61.3944 6860.8052,-63.8411\"/>\n</g>\n<!-- 17 -->\n<g id=\"node181\" class=\"node\">\n<title>17</title>\n<polygon fill=\"#eb9d65\" stroke=\"#000000\" points=\"7215,-365 7083,-365 7083,-297 7215,-297 7215,-365\"/>\n<text text-anchor=\"middle\" x=\"7149\" y=\"-349.8\" font-family=\"Helvetica,sans-Serif\" font-size=\"14.00\" fill=\"#000000\">distance &lt;= 4.809</text>\n<text text-anchor=\"middle\" x=\"7149\" y=\"-334.8\" font-family=\"Helvetica,sans-Serif\" font-size=\"14.00\" fill=\"#000000\">mse = 0.123</text>\n<text text-anchor=\"middle\" x=\"7149\" y=\"-319.8\" font-family=\"Helvetica,sans-Serif\" font-size=\"14.00\" fill=\"#000000\">samples = 3744</text>\n<text text-anchor=\"middle\" x=\"7149\" y=\"-304.8\" font-family=\"Helvetica,sans-Serif\" font-size=\"14.00\" fill=\"#000000\">value = 3.867</text>\n</g>\n<!-- 16&#45;&gt;17 -->\n<g id=\"edge180\" class=\"edge\">\n<title>16&#45;&gt;17</title>\n<path fill=\"none\" stroke=\"#000000\" d=\"M7149,-400.9465C7149,-392.776 7149,-383.9318 7149,-375.3697\"/>\n<polygon fill=\"#000000\" stroke=\"#000000\" points=\"7152.5001,-375.13 7149,-365.13 7145.5001,-375.13 7152.5001,-375.13\"/>\n</g>\n<!-- 18 -->\n<g id=\"node190\" class=\"node\">\n<title>18</title>\n<polygon fill=\"#f8dbc6\" stroke=\"#000000\" points=\"7470,-365 7270,-365 7270,-297 7470,-297 7470,-365\"/>\n<text text-anchor=\"middle\" x=\"7370\" y=\"-349.8\" font-family=\"Helvetica,sans-Serif\" font-size=\"14.00\" fill=\"#000000\">pickup_longitude &lt;= &#45;74.004</text>\n<text text-anchor=\"middle\" x=\"7370\" y=\"-334.8\" font-family=\"Helvetica,sans-Serif\" font-size=\"14.00\" fill=\"#000000\">mse = 0.731</text>\n<text text-anchor=\"middle\" x=\"7370\" y=\"-319.8\" font-family=\"Helvetica,sans-Serif\" font-size=\"14.00\" fill=\"#000000\">samples = 147</text>\n<text text-anchor=\"middle\" x=\"7370\" y=\"-304.8\" font-family=\"Helvetica,sans-Serif\" font-size=\"14.00\" fill=\"#000000\">value = 2.455</text>\n</g>\n<!-- 16&#45;&gt;18 -->\n<g id=\"edge189\" class=\"edge\">\n<title>16&#45;&gt;18</title>\n<path fill=\"none\" stroke=\"#000000\" d=\"M7221.3637,-400.9465C7242.7326,-390.8906 7266.2703,-379.814 7288.1898,-369.4989\"/>\n<polygon fill=\"#000000\" stroke=\"#000000\" points=\"7289.9159,-372.5549 7297.4738,-365.13 7286.9353,-366.2212 7289.9159,-372.5549\"/>\n</g>\n<!-- 39 -->\n<g id=\"node182\" class=\"node\">\n<title>39</title>\n<polygon fill=\"#eb9d64\" stroke=\"#000000\" points=\"7178,-261 7046,-261 7046,-193 7178,-193 7178,-261\"/>\n<text text-anchor=\"middle\" x=\"7112\" y=\"-245.8\" font-family=\"Helvetica,sans-Serif\" font-size=\"14.00\" fill=\"#000000\">distance &lt;= 2.919</text>\n<text text-anchor=\"middle\" x=\"7112\" y=\"-230.8\" font-family=\"Helvetica,sans-Serif\" font-size=\"14.00\" fill=\"#000000\">mse = 0.107</text>\n<text text-anchor=\"middle\" x=\"7112\" y=\"-215.8\" font-family=\"Helvetica,sans-Serif\" font-size=\"14.00\" fill=\"#000000\">samples = 3713</text>\n<text text-anchor=\"middle\" x=\"7112\" y=\"-200.8\" font-family=\"Helvetica,sans-Serif\" font-size=\"14.00\" fill=\"#000000\">value = 3.878</text>\n</g>\n<!-- 17&#45;&gt;39 -->\n<g id=\"edge181\" class=\"edge\">\n<title>17&#45;&gt;39</title>\n<path fill=\"none\" stroke=\"#000000\" d=\"M7136.8848,-296.9465C7133.9141,-288.5965 7130.6931,-279.5427 7127.5847,-270.8056\"/>\n<polygon fill=\"#000000\" stroke=\"#000000\" points=\"7130.7919,-269.3783 7124.1424,-261.13 7124.1968,-271.7247 7130.7919,-269.3783\"/>\n</g>\n<!-- 40 -->\n<g id=\"node189\" class=\"node\">\n<title>40</title>\n<polygon fill=\"#f7d9c3\" stroke=\"#000000\" points=\"7300,-253.5 7196,-253.5 7196,-200.5 7300,-200.5 7300,-253.5\"/>\n<text text-anchor=\"middle\" x=\"7248\" y=\"-238.3\" font-family=\"Helvetica,sans-Serif\" font-size=\"14.00\" fill=\"#000000\">mse = 0.252</text>\n<text text-anchor=\"middle\" x=\"7248\" y=\"-223.3\" font-family=\"Helvetica,sans-Serif\" font-size=\"14.00\" fill=\"#000000\">samples = 31</text>\n<text text-anchor=\"middle\" x=\"7248\" y=\"-208.3\" font-family=\"Helvetica,sans-Serif\" font-size=\"14.00\" fill=\"#000000\">value = 2.505</text>\n</g>\n<!-- 17&#45;&gt;40 -->\n<g id=\"edge188\" class=\"edge\">\n<title>17&#45;&gt;40</title>\n<path fill=\"none\" stroke=\"#000000\" d=\"M7181.4163,-296.9465C7192.4259,-285.3809 7204.7207,-272.4652 7215.7196,-260.9107\"/>\n<polygon fill=\"#000000\" stroke=\"#000000\" points=\"7218.3741,-263.1984 7222.7339,-253.5422 7213.304,-258.372 7218.3741,-263.1984\"/>\n</g>\n<!-- 45 -->\n<g id=\"node183\" class=\"node\">\n<title>45</title>\n<polygon fill=\"#eda572\" stroke=\"#000000\" points=\"7260.5,-157 7075.5,-157 7075.5,-89 7260.5,-89 7260.5,-157\"/>\n<text text-anchor=\"middle\" x=\"7168\" y=\"-141.8\" font-family=\"Helvetica,sans-Serif\" font-size=\"14.00\" fill=\"#000000\">dropoff_latitude &lt;= 40.756</text>\n<text text-anchor=\"middle\" x=\"7168\" y=\"-126.8\" font-family=\"Helvetica,sans-Serif\" font-size=\"14.00\" fill=\"#000000\">mse = 0.11</text>\n<text text-anchor=\"middle\" x=\"7168\" y=\"-111.8\" font-family=\"Helvetica,sans-Serif\" font-size=\"14.00\" fill=\"#000000\">samples = 955</text>\n<text text-anchor=\"middle\" x=\"7168\" y=\"-96.8\" font-family=\"Helvetica,sans-Serif\" font-size=\"14.00\" fill=\"#000000\">value = 3.673</text>\n</g>\n<!-- 39&#45;&gt;45 -->\n<g id=\"edge182\" class=\"edge\">\n<title>39&#45;&gt;45</title>\n<path fill=\"none\" stroke=\"#000000\" d=\"M7130.3365,-192.9465C7134.9777,-184.3271 7140.0227,-174.9579 7144.8671,-165.9611\"/>\n<polygon fill=\"#000000\" stroke=\"#000000\" points=\"7147.9629,-167.5941 7149.6223,-157.13 7141.7996,-164.2754 7147.9629,-167.5941\"/>\n</g>\n<!-- 46 -->\n<g id=\"node186\" class=\"node\">\n<title>46</title>\n<polygon fill=\"#ea995f\" stroke=\"#000000\" points=\"7398,-157 7278,-157 7278,-89 7398,-89 7398,-157\"/>\n<text text-anchor=\"middle\" x=\"7338\" y=\"-141.8\" font-family=\"Helvetica,sans-Serif\" font-size=\"14.00\" fill=\"#000000\">year &lt;= 2012.5</text>\n<text text-anchor=\"middle\" x=\"7338\" y=\"-126.8\" font-family=\"Helvetica,sans-Serif\" font-size=\"14.00\" fill=\"#000000\">mse = 0.086</text>\n<text text-anchor=\"middle\" x=\"7338\" y=\"-111.8\" font-family=\"Helvetica,sans-Serif\" font-size=\"14.00\" fill=\"#000000\">samples = 2758</text>\n<text text-anchor=\"middle\" x=\"7338\" y=\"-96.8\" font-family=\"Helvetica,sans-Serif\" font-size=\"14.00\" fill=\"#000000\">value = 3.949</text>\n</g>\n<!-- 39&#45;&gt;46 -->\n<g id=\"edge185\" class=\"edge\">\n<title>39&#45;&gt;46</title>\n<path fill=\"none\" stroke=\"#000000\" d=\"M7178.2341,-196.9222C7181.1952,-195.5938 7184.1277,-194.2815 7187,-193 7220.6506,-177.9865 7231.3496,-174.316 7268.416,-157.2117\"/>\n<polygon fill=\"#000000\" stroke=\"#000000\" points=\"7270.2675,-160.2111 7277.8646,-152.8263 7267.3204,-153.8617 7270.2675,-160.2111\"/>\n</g>\n<!-- 127 -->\n<g id=\"node184\" class=\"node\">\n<title>127</title>\n<polygon fill=\"#eca36e\" stroke=\"#000000\" points=\"7103,-53 6991,-53 6991,0 7103,0 7103,-53\"/>\n<text text-anchor=\"middle\" x=\"7047\" y=\"-37.8\" font-family=\"Helvetica,sans-Serif\" font-size=\"14.00\" fill=\"#000000\">mse = 0.11</text>\n<text text-anchor=\"middle\" x=\"7047\" y=\"-22.8\" font-family=\"Helvetica,sans-Serif\" font-size=\"14.00\" fill=\"#000000\">samples = 673</text>\n<text text-anchor=\"middle\" x=\"7047\" y=\"-7.8\" font-family=\"Helvetica,sans-Serif\" font-size=\"14.00\" fill=\"#000000\">value = 3.734</text>\n</g>\n<!-- 45&#45;&gt;127 -->\n<g id=\"edge183\" class=\"edge\">\n<title>45&#45;&gt;127</title>\n<path fill=\"none\" stroke=\"#000000\" d=\"M7125.3399,-88.9777C7113.3989,-79.4545 7100.4395,-69.1191 7088.563,-59.6473\"/>\n<polygon fill=\"#000000\" stroke=\"#000000\" points=\"7090.54,-56.7473 7080.5395,-53.2485 7086.1754,-62.22 7090.54,-56.7473\"/>\n</g>\n<!-- 128 -->\n<g id=\"node185\" class=\"node\">\n<title>128</title>\n<polygon fill=\"#eeac7c\" stroke=\"#000000\" points=\"7233,-53 7121,-53 7121,0 7233,0 7233,-53\"/>\n<text text-anchor=\"middle\" x=\"7177\" y=\"-37.8\" font-family=\"Helvetica,sans-Serif\" font-size=\"14.00\" fill=\"#000000\">mse = 0.082</text>\n<text text-anchor=\"middle\" x=\"7177\" y=\"-22.8\" font-family=\"Helvetica,sans-Serif\" font-size=\"14.00\" fill=\"#000000\">samples = 282</text>\n<text text-anchor=\"middle\" x=\"7177\" y=\"-7.8\" font-family=\"Helvetica,sans-Serif\" font-size=\"14.00\" fill=\"#000000\">value = 3.529</text>\n</g>\n<!-- 45&#45;&gt;128 -->\n<g id=\"edge184\" class=\"edge\">\n<title>45&#45;&gt;128</title>\n<path fill=\"none\" stroke=\"#000000\" d=\"M7171.1731,-88.9777C7171.9502,-80.6449 7172.7854,-71.6903 7173.5738,-63.2364\"/>\n<polygon fill=\"#000000\" stroke=\"#000000\" points=\"7177.0615,-63.5303 7174.5053,-53.2485 7170.0917,-62.8802 7177.0615,-63.5303\"/>\n</g>\n<!-- 73 -->\n<g id=\"node187\" class=\"node\">\n<title>73</title>\n<polygon fill=\"#eb9d65\" stroke=\"#000000\" points=\"7389,-53 7269,-53 7269,0 7389,0 7389,-53\"/>\n<text text-anchor=\"middle\" x=\"7329\" y=\"-37.8\" font-family=\"Helvetica,sans-Serif\" font-size=\"14.00\" fill=\"#000000\">mse = 0.099</text>\n<text text-anchor=\"middle\" x=\"7329\" y=\"-22.8\" font-family=\"Helvetica,sans-Serif\" font-size=\"14.00\" fill=\"#000000\">samples = 1535</text>\n<text text-anchor=\"middle\" x=\"7329\" y=\"-7.8\" font-family=\"Helvetica,sans-Serif\" font-size=\"14.00\" fill=\"#000000\">value = 3.868</text>\n</g>\n<!-- 46&#45;&gt;73 -->\n<g id=\"edge186\" class=\"edge\">\n<title>46&#45;&gt;73</title>\n<path fill=\"none\" stroke=\"#000000\" d=\"M7334.8269,-88.9777C7334.0498,-80.6449 7333.2146,-71.6903 7332.4262,-63.2364\"/>\n<polygon fill=\"#000000\" stroke=\"#000000\" points=\"7335.9083,-62.8802 7331.4947,-53.2485 7328.9385,-63.5303 7335.9083,-62.8802\"/>\n</g>\n<!-- 74 -->\n<g id=\"node188\" class=\"node\">\n<title>74</title>\n<polygon fill=\"#e99558\" stroke=\"#000000\" points=\"7527,-53 7407,-53 7407,0 7527,0 7527,-53\"/>\n<text text-anchor=\"middle\" x=\"7467\" y=\"-37.8\" font-family=\"Helvetica,sans-Serif\" font-size=\"14.00\" fill=\"#000000\">mse = 0.052</text>\n<text text-anchor=\"middle\" x=\"7467\" y=\"-22.8\" font-family=\"Helvetica,sans-Serif\" font-size=\"14.00\" fill=\"#000000\">samples = 1223</text>\n<text text-anchor=\"middle\" x=\"7467\" y=\"-7.8\" font-family=\"Helvetica,sans-Serif\" font-size=\"14.00\" fill=\"#000000\">value = 4.05</text>\n</g>\n<!-- 46&#45;&gt;74 -->\n<g id=\"edge187\" class=\"edge\">\n<title>46&#45;&gt;74</title>\n<path fill=\"none\" stroke=\"#000000\" d=\"M7383.4806,-88.9777C7396.3335,-79.3629 7410.2931,-68.9203 7423.054,-59.3743\"/>\n<polygon fill=\"#000000\" stroke=\"#000000\" points=\"7425.332,-62.0412 7431.243,-53.2485 7421.139,-56.436 7425.332,-62.0412\"/>\n</g>\n<!-- 103 -->\n<g id=\"node191\" class=\"node\">\n<title>103</title>\n<polygon fill=\"#eead7f\" stroke=\"#000000\" points=\"7422,-253.5 7318,-253.5 7318,-200.5 7422,-200.5 7422,-253.5\"/>\n<text text-anchor=\"middle\" x=\"7370\" y=\"-238.3\" font-family=\"Helvetica,sans-Serif\" font-size=\"14.00\" fill=\"#000000\">mse = 0.407</text>\n<text text-anchor=\"middle\" x=\"7370\" y=\"-223.3\" font-family=\"Helvetica,sans-Serif\" font-size=\"14.00\" fill=\"#000000\">samples = 11</text>\n<text text-anchor=\"middle\" x=\"7370\" y=\"-208.3\" font-family=\"Helvetica,sans-Serif\" font-size=\"14.00\" fill=\"#000000\">value = 3.495</text>\n</g>\n<!-- 18&#45;&gt;103 -->\n<g id=\"edge190\" class=\"edge\">\n<title>18&#45;&gt;103</title>\n<path fill=\"none\" stroke=\"#000000\" d=\"M7370,-296.9465C7370,-286.2621 7370,-274.4254 7370,-263.5742\"/>\n<polygon fill=\"#000000\" stroke=\"#000000\" points=\"7373.5001,-263.5421 7370,-253.5422 7366.5001,-263.5422 7373.5001,-263.5421\"/>\n</g>\n<!-- 104 -->\n<g id=\"node192\" class=\"node\">\n<title>104</title>\n<polygon fill=\"#f8dfcc\" stroke=\"#000000\" points=\"7552,-253.5 7440,-253.5 7440,-200.5 7552,-200.5 7552,-253.5\"/>\n<text text-anchor=\"middle\" x=\"7496\" y=\"-238.3\" font-family=\"Helvetica,sans-Serif\" font-size=\"14.00\" fill=\"#000000\">mse = 0.663</text>\n<text text-anchor=\"middle\" x=\"7496\" y=\"-223.3\" font-family=\"Helvetica,sans-Serif\" font-size=\"14.00\" fill=\"#000000\">samples = 136</text>\n<text text-anchor=\"middle\" x=\"7496\" y=\"-208.3\" font-family=\"Helvetica,sans-Serif\" font-size=\"14.00\" fill=\"#000000\">value = 2.371</text>\n</g>\n<!-- 18&#45;&gt;104 -->\n<g id=\"edge191\" class=\"edge\">\n<title>18&#45;&gt;104</title>\n<path fill=\"none\" stroke=\"#000000\" d=\"M7411.2571,-296.9465C7425.6697,-285.0504 7441.8127,-271.726 7456.1117,-259.9237\"/>\n<polygon fill=\"#000000\" stroke=\"#000000\" points=\"7458.3589,-262.6071 7463.8431,-253.5422 7453.9029,-257.2086 7458.3589,-262.6071\"/>\n</g>\n<!-- 79 -->\n<g id=\"node194\" class=\"node\">\n<title>79</title>\n<polygon fill=\"#f8ddc9\" stroke=\"#000000\" points=\"7714.5,-469 7529.5,-469 7529.5,-401 7714.5,-401 7714.5,-469\"/>\n<text text-anchor=\"middle\" x=\"7622\" y=\"-453.8\" font-family=\"Helvetica,sans-Serif\" font-size=\"14.00\" fill=\"#000000\">dropoff_latitude &lt;= 40.714</text>\n<text text-anchor=\"middle\" x=\"7622\" y=\"-438.8\" font-family=\"Helvetica,sans-Serif\" font-size=\"14.00\" fill=\"#000000\">mse = 0.408</text>\n<text text-anchor=\"middle\" x=\"7622\" y=\"-423.8\" font-family=\"Helvetica,sans-Serif\" font-size=\"14.00\" fill=\"#000000\">samples = 170</text>\n<text text-anchor=\"middle\" x=\"7622\" y=\"-408.8\" font-family=\"Helvetica,sans-Serif\" font-size=\"14.00\" fill=\"#000000\">value = 2.417</text>\n</g>\n<!-- 14&#45;&gt;79 -->\n<g id=\"edge193\" class=\"edge\">\n<title>14&#45;&gt;79</title>\n<path fill=\"none\" stroke=\"#000000\" d=\"M7622,-504.9465C7622,-496.776 7622,-487.9318 7622,-479.3697\"/>\n<polygon fill=\"#000000\" stroke=\"#000000\" points=\"7625.5001,-479.13 7622,-469.13 7618.5001,-479.13 7625.5001,-479.13\"/>\n</g>\n<!-- 80 -->\n<g id=\"node199\" class=\"node\">\n<title>80</title>\n<polygon fill=\"#f1bc95\" stroke=\"#000000\" points=\"7837,-461.5 7733,-461.5 7733,-408.5 7837,-408.5 7837,-461.5\"/>\n<text text-anchor=\"middle\" x=\"7785\" y=\"-446.3\" font-family=\"Helvetica,sans-Serif\" font-size=\"14.00\" fill=\"#000000\">mse = 0.553</text>\n<text text-anchor=\"middle\" x=\"7785\" y=\"-431.3\" font-family=\"Helvetica,sans-Serif\" font-size=\"14.00\" fill=\"#000000\">samples = 40</text>\n<text text-anchor=\"middle\" x=\"7785\" y=\"-416.3\" font-family=\"Helvetica,sans-Serif\" font-size=\"14.00\" fill=\"#000000\">value = 3.166</text>\n</g>\n<!-- 14&#45;&gt;80 -->\n<g id=\"edge198\" class=\"edge\">\n<title>14&#45;&gt;80</title>\n<path fill=\"none\" stroke=\"#000000\" d=\"M7675.3723,-504.9465C7694.5351,-492.72 7716.0625,-478.9847 7734.9343,-466.9437\"/>\n<polygon fill=\"#000000\" stroke=\"#000000\" points=\"7736.8526,-469.8716 7743.4003,-461.5422 7733.0874,-463.9704 7736.8526,-469.8716\"/>\n</g>\n<!-- 81 -->\n<g id=\"node195\" class=\"node\">\n<title>81</title>\n<polygon fill=\"#f0b48a\" stroke=\"#000000\" points=\"7719,-365 7525,-365 7525,-297 7719,-297 7719,-365\"/>\n<text text-anchor=\"middle\" x=\"7622\" y=\"-349.8\" font-family=\"Helvetica,sans-Serif\" font-size=\"14.00\" fill=\"#000000\">dropoff_longitude &lt;= &#45;73.96</text>\n<text text-anchor=\"middle\" x=\"7622\" y=\"-334.8\" font-family=\"Helvetica,sans-Serif\" font-size=\"14.00\" fill=\"#000000\">mse = 0.444</text>\n<text text-anchor=\"middle\" x=\"7622\" y=\"-319.8\" font-family=\"Helvetica,sans-Serif\" font-size=\"14.00\" fill=\"#000000\">samples = 18</text>\n<text text-anchor=\"middle\" x=\"7622\" y=\"-304.8\" font-family=\"Helvetica,sans-Serif\" font-size=\"14.00\" fill=\"#000000\">value = 3.332</text>\n</g>\n<!-- 79&#45;&gt;81 -->\n<g id=\"edge194\" class=\"edge\">\n<title>79&#45;&gt;81</title>\n<path fill=\"none\" stroke=\"#000000\" d=\"M7622,-400.9465C7622,-392.776 7622,-383.9318 7622,-375.3697\"/>\n<polygon fill=\"#000000\" stroke=\"#000000\" points=\"7625.5001,-375.13 7622,-365.13 7618.5001,-375.13 7625.5001,-375.13\"/>\n</g>\n<!-- 82 -->\n<g id=\"node198\" class=\"node\">\n<title>82</title>\n<polygon fill=\"#f9e1d0\" stroke=\"#000000\" points=\"7849,-357.5 7737,-357.5 7737,-304.5 7849,-304.5 7849,-357.5\"/>\n<text text-anchor=\"middle\" x=\"7793\" y=\"-342.3\" font-family=\"Helvetica,sans-Serif\" font-size=\"14.00\" fill=\"#000000\">mse = 0.293</text>\n<text text-anchor=\"middle\" x=\"7793\" y=\"-327.3\" font-family=\"Helvetica,sans-Serif\" font-size=\"14.00\" fill=\"#000000\">samples = 152</text>\n<text text-anchor=\"middle\" x=\"7793\" y=\"-312.3\" font-family=\"Helvetica,sans-Serif\" font-size=\"14.00\" fill=\"#000000\">value = 2.309</text>\n</g>\n<!-- 79&#45;&gt;82 -->\n<g id=\"edge197\" class=\"edge\">\n<title>79&#45;&gt;82</title>\n<path fill=\"none\" stroke=\"#000000\" d=\"M7677.9918,-400.9465C7698.1856,-388.6649 7720.8826,-374.8609 7740.7445,-362.7811\"/>\n<polygon fill=\"#000000\" stroke=\"#000000\" points=\"7742.6333,-365.7289 7749.3586,-357.5422 7738.9959,-359.7481 7742.6333,-365.7289\"/>\n</g>\n<!-- 197 -->\n<g id=\"node196\" class=\"node\">\n<title>197</title>\n<polygon fill=\"#eda674\" stroke=\"#000000\" points=\"7674,-253.5 7570,-253.5 7570,-200.5 7674,-200.5 7674,-253.5\"/>\n<text text-anchor=\"middle\" x=\"7622\" y=\"-238.3\" font-family=\"Helvetica,sans-Serif\" font-size=\"14.00\" fill=\"#000000\">mse = 0.135</text>\n<text text-anchor=\"middle\" x=\"7622\" y=\"-223.3\" font-family=\"Helvetica,sans-Serif\" font-size=\"14.00\" fill=\"#000000\">samples = 13</text>\n<text text-anchor=\"middle\" x=\"7622\" y=\"-208.3\" font-family=\"Helvetica,sans-Serif\" font-size=\"14.00\" fill=\"#000000\">value = 3.653</text>\n</g>\n<!-- 81&#45;&gt;197 -->\n<g id=\"edge195\" class=\"edge\">\n<title>81&#45;&gt;197</title>\n<path fill=\"none\" stroke=\"#000000\" d=\"M7622,-296.9465C7622,-286.2621 7622,-274.4254 7622,-263.5742\"/>\n<polygon fill=\"#000000\" stroke=\"#000000\" points=\"7625.5001,-263.5421 7622,-253.5422 7618.5001,-263.5422 7625.5001,-263.5421\"/>\n</g>\n<!-- 198 -->\n<g id=\"node197\" class=\"node\">\n<title>198</title>\n<polygon fill=\"#f7d9c3\" stroke=\"#000000\" points=\"7796,-253.5 7692,-253.5 7692,-200.5 7796,-200.5 7796,-253.5\"/>\n<text text-anchor=\"middle\" x=\"7744\" y=\"-238.3\" font-family=\"Helvetica,sans-Serif\" font-size=\"14.00\" fill=\"#000000\">mse = 0.283</text>\n<text text-anchor=\"middle\" x=\"7744\" y=\"-223.3\" font-family=\"Helvetica,sans-Serif\" font-size=\"14.00\" fill=\"#000000\">samples = 5</text>\n<text text-anchor=\"middle\" x=\"7744\" y=\"-208.3\" font-family=\"Helvetica,sans-Serif\" font-size=\"14.00\" fill=\"#000000\">value = 2.498</text>\n</g>\n<!-- 81&#45;&gt;198 -->\n<g id=\"edge196\" class=\"edge\">\n<title>81&#45;&gt;198</title>\n<path fill=\"none\" stroke=\"#000000\" d=\"M7661.9474,-296.9465C7675.7732,-285.1606 7691.2436,-271.9726 7704.9929,-260.2519\"/>\n<polygon fill=\"#000000\" stroke=\"#000000\" points=\"7707.5244,-262.6931 7712.864,-253.5422 7702.9832,-257.366 7707.5244,-262.6931\"/>\n</g>\n</g>\n</svg>\n"
          },
          "metadata": {},
          "execution_count": 99
        }
      ]
    },
    {
      "cell_type": "markdown",
      "source": [
        "### **Random Forest**\n",
        "\n",
        "Random Forest is a technique that uses ensemble learning, that combines many weak classifiers to provide solutions to complex problems.\n",
        "\n",
        "As the name suggests random forest consists of many decision trees. Rather than depending on one tree it takes the prediction from each tree and based on the majority votes of predictions, predicts the final output.\n",
        "\n",
        "Random forests use the bagging method. It creates a subset of the original dataset, and the final output is based on majority ranking and hence the problem of overfitting is taken care of."
      ],
      "metadata": {
        "id": "C7NQNhcqT8dJ"
      }
    },
    {
      "cell_type": "code",
      "source": [
        "# Create an instance of the RandomForestRegressor.\n",
        "rf_model = RandomForestRegressor(n_estimators = 10, max_depth = 10)\n",
        "\n",
        "# fitting the train data in model.\n",
        "rf_model.fit(X_train, y_train)"
      ],
      "metadata": {
        "colab": {
          "base_uri": "https://localhost:8080/"
        },
        "id": "I5Ym3rUUT7rY",
        "outputId": "917a4896-8e48-4b8c-c5a4-0629ce2af89c"
      },
      "execution_count": null,
      "outputs": [
        {
          "output_type": "execute_result",
          "data": {
            "text/plain": [
              "RandomForestRegressor(max_depth=10, n_estimators=10)"
            ]
          },
          "metadata": {},
          "execution_count": 100
        }
      ]
    },
    {
      "cell_type": "code",
      "source": [
        "# predict for train data.\n",
        "y_pred_train_r = rf_model.predict(X_train)\n",
        "\n",
        "# predict for test data.\n",
        "y_pred_test_r = rf_model.predict(X_test)\n"
      ],
      "metadata": {
        "id": "lgCMeg2ZT-nq"
      },
      "execution_count": null,
      "outputs": []
    },
    {
      "cell_type": "code",
      "source": [
        "# calculating model score.\n",
        "print(\"Model Score:\",rf_model.score(X_train,y_train))\n",
        "\n",
        "# calculating MSE\n",
        "MSE_rf= mean_squared_error(y_train, y_pred_train_r)\n",
        "print(\"MSE :\",MSE_rf)\n",
        "\n",
        "# calculating RMSE\n",
        "RMSE_rf=np.sqrt(MSE_rf)\n",
        "print(\"RMSE :\",RMSE_rf)\n",
        "\n",
        "\n",
        "# calculating MAE\n",
        "MAE_rf= mean_absolute_error(y_train, y_pred_train_r)\n",
        "print(\"MAE :\",MAE_rf)\n",
        "\n",
        "\n",
        "# calculating r2 and adjusted r2\n",
        "r2_rf= r2_score(y_train, y_pred_train_r)\n",
        "print(\"R2 :\",r2_rf)\n",
        "Adjusted_R2_rf=(1-(1-r2_score(y_train, y_pred_train_r))*((X_test.shape[0]-1)/(X_test.shape[0]-X_test.shape[1]-1)) )\n",
        "print(\"Adjusted R2 :\",Adjusted_R2_rf )\n"
      ],
      "metadata": {
        "colab": {
          "base_uri": "https://localhost:8080/"
        },
        "id": "ux1e5mXsT_md",
        "outputId": "ecbd10bd-be81-4959-80dc-6c482803a93a"
      },
      "execution_count": null,
      "outputs": [
        {
          "output_type": "stream",
          "name": "stdout",
          "text": [
            "Model Score: 0.8476822472467825\n",
            "MSE : 0.045221670079284806\n",
            "RMSE : 0.21265387388732143\n",
            "MAE : 0.1454184412121208\n",
            "R2 : 0.8476822472467825\n",
            "Adjusted R2 : 0.8476476281451608\n"
          ]
        }
      ]
    },
    {
      "cell_type": "code",
      "source": [
        "# storing the train set metrics value into the train evaluation dataframe\n",
        "dict1={'Model':'Random forest regression ',\n",
        "       'MAE':round((MAE_rf),3),\n",
        "       'MSE':round((MSE_rf),3),\n",
        "       'RMSE':round((RMSE_rf),3),\n",
        "       'R2_score':round((r2_rf),3),\n",
        "       'Adjusted R2':round((Adjusted_R2_rf ),2)}\n",
        "training_df=training_df.append(dict1,ignore_index=True)"
      ],
      "metadata": {
        "id": "M8-h5XKuUA5e"
      },
      "execution_count": null,
      "outputs": []
    },
    {
      "cell_type": "code",
      "source": [
        "# calculating MSE\n",
        "MSE_rf= mean_squared_error(y_test, y_pred_test_r)\n",
        "print(\"MSE :\",MSE_rf)\n",
        "\n",
        "# calculating RMSE\n",
        "RMSE_rf=np.sqrt(MSE_rf)\n",
        "print(\"RMSE :\",RMSE_rf)\n",
        "\n",
        "\n",
        "# calculating MAE\n",
        "MAE_rf= mean_absolute_error(y_test, y_pred_test_r)\n",
        "print(\"MAE :\",MAE_rf)\n",
        "\n",
        "\n",
        "# calculating r2\n",
        "r2_rf= r2_score((y_test), (y_pred_test_r))\n",
        "print(\"R2 :\",r2_rf)\n",
        "\n",
        "# Calculating adjusted r2\n",
        "Adjusted_R2_rf=(1-(1-r2_score((y_test), (y_pred_test_r)))*((X_test.shape[0]-1)/(X_test.shape[0]-X_test.shape[1]-1)) )\n",
        "print(\"Adjusted R2 :\", Adjusted_R2_rf )\n"
      ],
      "metadata": {
        "colab": {
          "base_uri": "https://localhost:8080/"
        },
        "id": "yz0PHcBEUGst",
        "outputId": "2d2c1769-2966-4bd5-b0ff-c3e9de3cf1fe"
      },
      "execution_count": null,
      "outputs": [
        {
          "output_type": "stream",
          "name": "stdout",
          "text": [
            "MSE : 0.05184364365367238\n",
            "RMSE : 0.22769199295028444\n",
            "MAE : 0.15157308153545368\n",
            "R2 : 0.8270521926406924\n",
            "Adjusted R2 : 0.8270128846965428\n"
          ]
        }
      ]
    },
    {
      "cell_type": "code",
      "source": [
        "# storing the test set metrics value in the test evaluation dataframe.\n",
        "dict2={'Model':'Random forest regression ',\n",
        "       'MAE':round((MAE_rf),3),\n",
        "       'MSE':round((MSE_rf),3),\n",
        "       'RMSE':round((RMSE_rf),3),\n",
        "       'R2_score':round((r2_rf),3),\n",
        "       'Adjusted R2':round((Adjusted_R2_rf ),2)}\n",
        "test_df=test_df.append(dict2,ignore_index=True)"
      ],
      "metadata": {
        "id": "RE-BTgdaUH8v"
      },
      "execution_count": null,
      "outputs": []
    },
    {
      "cell_type": "code",
      "source": [
        "# feature importances for random forest model\n",
        "rf_model.feature_importances_"
      ],
      "metadata": {
        "colab": {
          "base_uri": "https://localhost:8080/"
        },
        "id": "PP2yV4y7UOOL",
        "outputId": "1294cf3d-20cf-40bb-cfa7-d0606c7f3127"
      },
      "execution_count": null,
      "outputs": [
        {
          "output_type": "execute_result",
          "data": {
            "text/plain": [
              "array([8.41865686e-03, 3.97067249e-03, 1.24375891e-02, 1.07129380e-02,\n",
              "       6.41123266e-04, 2.36425474e-02, 2.26250298e-03, 1.51496437e-03,\n",
              "       1.62059345e-03, 7.52748216e-03, 9.27250930e-01])"
            ]
          },
          "metadata": {},
          "execution_count": 106
        }
      ]
    },
    {
      "cell_type": "code",
      "source": [
        "# storing feature importances in a dataframe.\n",
        "importances = rf_model.feature_importances_\n",
        "importance_dict = {'Feature' : list(X_train.columns),\n",
        "                   'Feature Importance' : importances}\n",
        "importance_df = pd.DataFrame(importance_dict)"
      ],
      "metadata": {
        "id": "mekt4Y_RU27X"
      },
      "execution_count": null,
      "outputs": []
    },
    {
      "cell_type": "code",
      "source": [
        "# rounding off the values.\n",
        "importance_df['Feature Importance'] = round(importance_df['Feature Importance'],2)"
      ],
      "metadata": {
        "id": "o3OEMmO1U4BP"
      },
      "execution_count": null,
      "outputs": []
    },
    {
      "cell_type": "code",
      "source": [
        "# sort features according to their importance.\n",
        "importance_df.sort_values(by=['Feature Importance'],ascending=False)"
      ],
      "metadata": {
        "colab": {
          "base_uri": "https://localhost:8080/",
          "height": 394
        },
        "id": "j4EFrH7FU5_s",
        "outputId": "601bfe4e-6160-4da4-b0e1-701e6e750c03"
      },
      "execution_count": null,
      "outputs": [
        {
          "output_type": "execute_result",
          "data": {
            "text/plain": [
              "              Feature  Feature Importance\n",
              "10           distance                0.93\n",
              "5                year                0.02\n",
              "0    pickup_longitude                0.01\n",
              "2   dropoff_longitude                0.01\n",
              "3    dropoff_latitude                0.01\n",
              "9                Hour                0.01\n",
              "1     pickup_latitude                0.00\n",
              "4     passenger_count                0.00\n",
              "6               Month                0.00\n",
              "7                Date                0.00\n",
              "8                 Day                0.00"
            ],
            "text/html": [
              "\n",
              "  <div id=\"df-1287b87c-199e-401c-a7f1-5925fe8904c2\">\n",
              "    <div class=\"colab-df-container\">\n",
              "      <div>\n",
              "<style scoped>\n",
              "    .dataframe tbody tr th:only-of-type {\n",
              "        vertical-align: middle;\n",
              "    }\n",
              "\n",
              "    .dataframe tbody tr th {\n",
              "        vertical-align: top;\n",
              "    }\n",
              "\n",
              "    .dataframe thead th {\n",
              "        text-align: right;\n",
              "    }\n",
              "</style>\n",
              "<table border=\"1\" class=\"dataframe\">\n",
              "  <thead>\n",
              "    <tr style=\"text-align: right;\">\n",
              "      <th></th>\n",
              "      <th>Feature</th>\n",
              "      <th>Feature Importance</th>\n",
              "    </tr>\n",
              "  </thead>\n",
              "  <tbody>\n",
              "    <tr>\n",
              "      <th>10</th>\n",
              "      <td>distance</td>\n",
              "      <td>0.93</td>\n",
              "    </tr>\n",
              "    <tr>\n",
              "      <th>5</th>\n",
              "      <td>year</td>\n",
              "      <td>0.02</td>\n",
              "    </tr>\n",
              "    <tr>\n",
              "      <th>0</th>\n",
              "      <td>pickup_longitude</td>\n",
              "      <td>0.01</td>\n",
              "    </tr>\n",
              "    <tr>\n",
              "      <th>2</th>\n",
              "      <td>dropoff_longitude</td>\n",
              "      <td>0.01</td>\n",
              "    </tr>\n",
              "    <tr>\n",
              "      <th>3</th>\n",
              "      <td>dropoff_latitude</td>\n",
              "      <td>0.01</td>\n",
              "    </tr>\n",
              "    <tr>\n",
              "      <th>9</th>\n",
              "      <td>Hour</td>\n",
              "      <td>0.01</td>\n",
              "    </tr>\n",
              "    <tr>\n",
              "      <th>1</th>\n",
              "      <td>pickup_latitude</td>\n",
              "      <td>0.00</td>\n",
              "    </tr>\n",
              "    <tr>\n",
              "      <th>4</th>\n",
              "      <td>passenger_count</td>\n",
              "      <td>0.00</td>\n",
              "    </tr>\n",
              "    <tr>\n",
              "      <th>6</th>\n",
              "      <td>Month</td>\n",
              "      <td>0.00</td>\n",
              "    </tr>\n",
              "    <tr>\n",
              "      <th>7</th>\n",
              "      <td>Date</td>\n",
              "      <td>0.00</td>\n",
              "    </tr>\n",
              "    <tr>\n",
              "      <th>8</th>\n",
              "      <td>Day</td>\n",
              "      <td>0.00</td>\n",
              "    </tr>\n",
              "  </tbody>\n",
              "</table>\n",
              "</div>\n",
              "      <button class=\"colab-df-convert\" onclick=\"convertToInteractive('df-1287b87c-199e-401c-a7f1-5925fe8904c2')\"\n",
              "              title=\"Convert this dataframe to an interactive table.\"\n",
              "              style=\"display:none;\">\n",
              "        \n",
              "  <svg xmlns=\"http://www.w3.org/2000/svg\" height=\"24px\"viewBox=\"0 0 24 24\"\n",
              "       width=\"24px\">\n",
              "    <path d=\"M0 0h24v24H0V0z\" fill=\"none\"/>\n",
              "    <path d=\"M18.56 5.44l.94 2.06.94-2.06 2.06-.94-2.06-.94-.94-2.06-.94 2.06-2.06.94zm-11 1L8.5 8.5l.94-2.06 2.06-.94-2.06-.94L8.5 2.5l-.94 2.06-2.06.94zm10 10l.94 2.06.94-2.06 2.06-.94-2.06-.94-.94-2.06-.94 2.06-2.06.94z\"/><path d=\"M17.41 7.96l-1.37-1.37c-.4-.4-.92-.59-1.43-.59-.52 0-1.04.2-1.43.59L10.3 9.45l-7.72 7.72c-.78.78-.78 2.05 0 2.83L4 21.41c.39.39.9.59 1.41.59.51 0 1.02-.2 1.41-.59l7.78-7.78 2.81-2.81c.8-.78.8-2.07 0-2.86zM5.41 20L4 18.59l7.72-7.72 1.47 1.35L5.41 20z\"/>\n",
              "  </svg>\n",
              "      </button>\n",
              "      \n",
              "  <style>\n",
              "    .colab-df-container {\n",
              "      display:flex;\n",
              "      flex-wrap:wrap;\n",
              "      gap: 12px;\n",
              "    }\n",
              "\n",
              "    .colab-df-convert {\n",
              "      background-color: #E8F0FE;\n",
              "      border: none;\n",
              "      border-radius: 50%;\n",
              "      cursor: pointer;\n",
              "      display: none;\n",
              "      fill: #1967D2;\n",
              "      height: 32px;\n",
              "      padding: 0 0 0 0;\n",
              "      width: 32px;\n",
              "    }\n",
              "\n",
              "    .colab-df-convert:hover {\n",
              "      background-color: #E2EBFA;\n",
              "      box-shadow: 0px 1px 2px rgba(60, 64, 67, 0.3), 0px 1px 3px 1px rgba(60, 64, 67, 0.15);\n",
              "      fill: #174EA6;\n",
              "    }\n",
              "\n",
              "    [theme=dark] .colab-df-convert {\n",
              "      background-color: #3B4455;\n",
              "      fill: #D2E3FC;\n",
              "    }\n",
              "\n",
              "    [theme=dark] .colab-df-convert:hover {\n",
              "      background-color: #434B5C;\n",
              "      box-shadow: 0px 1px 3px 1px rgba(0, 0, 0, 0.15);\n",
              "      filter: drop-shadow(0px 1px 2px rgba(0, 0, 0, 0.3));\n",
              "      fill: #FFFFFF;\n",
              "    }\n",
              "  </style>\n",
              "\n",
              "      <script>\n",
              "        const buttonEl =\n",
              "          document.querySelector('#df-1287b87c-199e-401c-a7f1-5925fe8904c2 button.colab-df-convert');\n",
              "        buttonEl.style.display =\n",
              "          google.colab.kernel.accessAllowed ? 'block' : 'none';\n",
              "\n",
              "        async function convertToInteractive(key) {\n",
              "          const element = document.querySelector('#df-1287b87c-199e-401c-a7f1-5925fe8904c2');\n",
              "          const dataTable =\n",
              "            await google.colab.kernel.invokeFunction('convertToInteractive',\n",
              "                                                     [key], {});\n",
              "          if (!dataTable) return;\n",
              "\n",
              "          const docLinkHtml = 'Like what you see? Visit the ' +\n",
              "            '<a target=\"_blank\" href=https://colab.research.google.com/notebooks/data_table.ipynb>data table notebook</a>'\n",
              "            + ' to learn more about interactive tables.';\n",
              "          element.innerHTML = '';\n",
              "          dataTable['output_type'] = 'display_data';\n",
              "          await google.colab.output.renderOutput(dataTable, element);\n",
              "          const docLink = document.createElement('div');\n",
              "          docLink.innerHTML = docLinkHtml;\n",
              "          element.appendChild(docLink);\n",
              "        }\n",
              "      </script>\n",
              "    </div>\n",
              "  </div>\n",
              "  "
            ]
          },
          "metadata": {},
          "execution_count": 109
        }
      ]
    },
    {
      "cell_type": "code",
      "source": [
        "training_df"
      ],
      "metadata": {
        "colab": {
          "base_uri": "https://localhost:8080/",
          "height": 237
        },
        "id": "OSMo1H3Ag_6V",
        "outputId": "4055d524-32ae-4443-baa8-39e284bfa77c"
      },
      "execution_count": null,
      "outputs": [
        {
          "output_type": "execute_result",
          "data": {
            "text/plain": [
              "                       Model    MAE    MSE   RMSE  R2_score  Adjusted R2\n",
              "0         Linear regression   0.184  0.088  0.297     0.702         0.70\n",
              "1          Lasso regression   0.191  0.090  0.299     0.698         0.70\n",
              "2          Ridge regression   0.184  0.088  0.297     0.702         0.70\n",
              "3    Elastic net regression   0.251  0.128  0.357     0.570         0.57\n",
              "4  Decision tree regression   0.160  0.054  0.233     0.817         0.82\n",
              "5  Random forest regression   0.145  0.045  0.213     0.848         0.85"
            ],
            "text/html": [
              "\n",
              "  <div id=\"df-5119c6e1-e685-40e4-8997-e658b65a1144\">\n",
              "    <div class=\"colab-df-container\">\n",
              "      <div>\n",
              "<style scoped>\n",
              "    .dataframe tbody tr th:only-of-type {\n",
              "        vertical-align: middle;\n",
              "    }\n",
              "\n",
              "    .dataframe tbody tr th {\n",
              "        vertical-align: top;\n",
              "    }\n",
              "\n",
              "    .dataframe thead th {\n",
              "        text-align: right;\n",
              "    }\n",
              "</style>\n",
              "<table border=\"1\" class=\"dataframe\">\n",
              "  <thead>\n",
              "    <tr style=\"text-align: right;\">\n",
              "      <th></th>\n",
              "      <th>Model</th>\n",
              "      <th>MAE</th>\n",
              "      <th>MSE</th>\n",
              "      <th>RMSE</th>\n",
              "      <th>R2_score</th>\n",
              "      <th>Adjusted R2</th>\n",
              "    </tr>\n",
              "  </thead>\n",
              "  <tbody>\n",
              "    <tr>\n",
              "      <th>0</th>\n",
              "      <td>Linear regression</td>\n",
              "      <td>0.184</td>\n",
              "      <td>0.088</td>\n",
              "      <td>0.297</td>\n",
              "      <td>0.702</td>\n",
              "      <td>0.70</td>\n",
              "    </tr>\n",
              "    <tr>\n",
              "      <th>1</th>\n",
              "      <td>Lasso regression</td>\n",
              "      <td>0.191</td>\n",
              "      <td>0.090</td>\n",
              "      <td>0.299</td>\n",
              "      <td>0.698</td>\n",
              "      <td>0.70</td>\n",
              "    </tr>\n",
              "    <tr>\n",
              "      <th>2</th>\n",
              "      <td>Ridge regression</td>\n",
              "      <td>0.184</td>\n",
              "      <td>0.088</td>\n",
              "      <td>0.297</td>\n",
              "      <td>0.702</td>\n",
              "      <td>0.70</td>\n",
              "    </tr>\n",
              "    <tr>\n",
              "      <th>3</th>\n",
              "      <td>Elastic net regression</td>\n",
              "      <td>0.251</td>\n",
              "      <td>0.128</td>\n",
              "      <td>0.357</td>\n",
              "      <td>0.570</td>\n",
              "      <td>0.57</td>\n",
              "    </tr>\n",
              "    <tr>\n",
              "      <th>4</th>\n",
              "      <td>Decision tree regression</td>\n",
              "      <td>0.160</td>\n",
              "      <td>0.054</td>\n",
              "      <td>0.233</td>\n",
              "      <td>0.817</td>\n",
              "      <td>0.82</td>\n",
              "    </tr>\n",
              "    <tr>\n",
              "      <th>5</th>\n",
              "      <td>Random forest regression</td>\n",
              "      <td>0.145</td>\n",
              "      <td>0.045</td>\n",
              "      <td>0.213</td>\n",
              "      <td>0.848</td>\n",
              "      <td>0.85</td>\n",
              "    </tr>\n",
              "  </tbody>\n",
              "</table>\n",
              "</div>\n",
              "      <button class=\"colab-df-convert\" onclick=\"convertToInteractive('df-5119c6e1-e685-40e4-8997-e658b65a1144')\"\n",
              "              title=\"Convert this dataframe to an interactive table.\"\n",
              "              style=\"display:none;\">\n",
              "        \n",
              "  <svg xmlns=\"http://www.w3.org/2000/svg\" height=\"24px\"viewBox=\"0 0 24 24\"\n",
              "       width=\"24px\">\n",
              "    <path d=\"M0 0h24v24H0V0z\" fill=\"none\"/>\n",
              "    <path d=\"M18.56 5.44l.94 2.06.94-2.06 2.06-.94-2.06-.94-.94-2.06-.94 2.06-2.06.94zm-11 1L8.5 8.5l.94-2.06 2.06-.94-2.06-.94L8.5 2.5l-.94 2.06-2.06.94zm10 10l.94 2.06.94-2.06 2.06-.94-2.06-.94-.94-2.06-.94 2.06-2.06.94z\"/><path d=\"M17.41 7.96l-1.37-1.37c-.4-.4-.92-.59-1.43-.59-.52 0-1.04.2-1.43.59L10.3 9.45l-7.72 7.72c-.78.78-.78 2.05 0 2.83L4 21.41c.39.39.9.59 1.41.59.51 0 1.02-.2 1.41-.59l7.78-7.78 2.81-2.81c.8-.78.8-2.07 0-2.86zM5.41 20L4 18.59l7.72-7.72 1.47 1.35L5.41 20z\"/>\n",
              "  </svg>\n",
              "      </button>\n",
              "      \n",
              "  <style>\n",
              "    .colab-df-container {\n",
              "      display:flex;\n",
              "      flex-wrap:wrap;\n",
              "      gap: 12px;\n",
              "    }\n",
              "\n",
              "    .colab-df-convert {\n",
              "      background-color: #E8F0FE;\n",
              "      border: none;\n",
              "      border-radius: 50%;\n",
              "      cursor: pointer;\n",
              "      display: none;\n",
              "      fill: #1967D2;\n",
              "      height: 32px;\n",
              "      padding: 0 0 0 0;\n",
              "      width: 32px;\n",
              "    }\n",
              "\n",
              "    .colab-df-convert:hover {\n",
              "      background-color: #E2EBFA;\n",
              "      box-shadow: 0px 1px 2px rgba(60, 64, 67, 0.3), 0px 1px 3px 1px rgba(60, 64, 67, 0.15);\n",
              "      fill: #174EA6;\n",
              "    }\n",
              "\n",
              "    [theme=dark] .colab-df-convert {\n",
              "      background-color: #3B4455;\n",
              "      fill: #D2E3FC;\n",
              "    }\n",
              "\n",
              "    [theme=dark] .colab-df-convert:hover {\n",
              "      background-color: #434B5C;\n",
              "      box-shadow: 0px 1px 3px 1px rgba(0, 0, 0, 0.15);\n",
              "      filter: drop-shadow(0px 1px 2px rgba(0, 0, 0, 0.3));\n",
              "      fill: #FFFFFF;\n",
              "    }\n",
              "  </style>\n",
              "\n",
              "      <script>\n",
              "        const buttonEl =\n",
              "          document.querySelector('#df-5119c6e1-e685-40e4-8997-e658b65a1144 button.colab-df-convert');\n",
              "        buttonEl.style.display =\n",
              "          google.colab.kernel.accessAllowed ? 'block' : 'none';\n",
              "\n",
              "        async function convertToInteractive(key) {\n",
              "          const element = document.querySelector('#df-5119c6e1-e685-40e4-8997-e658b65a1144');\n",
              "          const dataTable =\n",
              "            await google.colab.kernel.invokeFunction('convertToInteractive',\n",
              "                                                     [key], {});\n",
              "          if (!dataTable) return;\n",
              "\n",
              "          const docLinkHtml = 'Like what you see? Visit the ' +\n",
              "            '<a target=\"_blank\" href=https://colab.research.google.com/notebooks/data_table.ipynb>data table notebook</a>'\n",
              "            + ' to learn more about interactive tables.';\n",
              "          element.innerHTML = '';\n",
              "          dataTable['output_type'] = 'display_data';\n",
              "          await google.colab.output.renderOutput(dataTable, element);\n",
              "          const docLink = document.createElement('div');\n",
              "          docLink.innerHTML = docLinkHtml;\n",
              "          element.appendChild(docLink);\n",
              "        }\n",
              "      </script>\n",
              "    </div>\n",
              "  </div>\n",
              "  "
            ]
          },
          "metadata": {},
          "execution_count": 110
        }
      ]
    },
    {
      "cell_type": "code",
      "source": [
        "# display test evaluation dataframe.\n",
        "test_df"
      ],
      "metadata": {
        "colab": {
          "base_uri": "https://localhost:8080/",
          "height": 237
        },
        "id": "Z4wFhvBSU662",
        "outputId": "9e4b11e0-5e72-4cb1-89b6-1dbf630470ee"
      },
      "execution_count": null,
      "outputs": [
        {
          "output_type": "execute_result",
          "data": {
            "text/plain": [
              "                         Model    MAE    MSE   RMSE  R2_score  Adjusted R2\n",
              "0           Linear regression   0.185  0.092  0.302     0.695         0.69\n",
              "1            Lasso regression   0.192  0.092  0.303     0.693         0.69\n",
              "2            Ridge regression   0.185  0.092  0.302     0.695         0.69\n",
              "3  Elastic net regression Test  0.251  0.128  0.357     0.574         0.57\n",
              "4    Decision tree regression   0.162  0.058  0.240     0.808         0.81\n",
              "5    Random forest regression   0.152  0.052  0.228     0.827         0.83"
            ],
            "text/html": [
              "\n",
              "  <div id=\"df-8608f3c9-fa5c-4bfe-9b1b-42d2c73d662e\">\n",
              "    <div class=\"colab-df-container\">\n",
              "      <div>\n",
              "<style scoped>\n",
              "    .dataframe tbody tr th:only-of-type {\n",
              "        vertical-align: middle;\n",
              "    }\n",
              "\n",
              "    .dataframe tbody tr th {\n",
              "        vertical-align: top;\n",
              "    }\n",
              "\n",
              "    .dataframe thead th {\n",
              "        text-align: right;\n",
              "    }\n",
              "</style>\n",
              "<table border=\"1\" class=\"dataframe\">\n",
              "  <thead>\n",
              "    <tr style=\"text-align: right;\">\n",
              "      <th></th>\n",
              "      <th>Model</th>\n",
              "      <th>MAE</th>\n",
              "      <th>MSE</th>\n",
              "      <th>RMSE</th>\n",
              "      <th>R2_score</th>\n",
              "      <th>Adjusted R2</th>\n",
              "    </tr>\n",
              "  </thead>\n",
              "  <tbody>\n",
              "    <tr>\n",
              "      <th>0</th>\n",
              "      <td>Linear regression</td>\n",
              "      <td>0.185</td>\n",
              "      <td>0.092</td>\n",
              "      <td>0.302</td>\n",
              "      <td>0.695</td>\n",
              "      <td>0.69</td>\n",
              "    </tr>\n",
              "    <tr>\n",
              "      <th>1</th>\n",
              "      <td>Lasso regression</td>\n",
              "      <td>0.192</td>\n",
              "      <td>0.092</td>\n",
              "      <td>0.303</td>\n",
              "      <td>0.693</td>\n",
              "      <td>0.69</td>\n",
              "    </tr>\n",
              "    <tr>\n",
              "      <th>2</th>\n",
              "      <td>Ridge regression</td>\n",
              "      <td>0.185</td>\n",
              "      <td>0.092</td>\n",
              "      <td>0.302</td>\n",
              "      <td>0.695</td>\n",
              "      <td>0.69</td>\n",
              "    </tr>\n",
              "    <tr>\n",
              "      <th>3</th>\n",
              "      <td>Elastic net regression Test</td>\n",
              "      <td>0.251</td>\n",
              "      <td>0.128</td>\n",
              "      <td>0.357</td>\n",
              "      <td>0.574</td>\n",
              "      <td>0.57</td>\n",
              "    </tr>\n",
              "    <tr>\n",
              "      <th>4</th>\n",
              "      <td>Decision tree regression</td>\n",
              "      <td>0.162</td>\n",
              "      <td>0.058</td>\n",
              "      <td>0.240</td>\n",
              "      <td>0.808</td>\n",
              "      <td>0.81</td>\n",
              "    </tr>\n",
              "    <tr>\n",
              "      <th>5</th>\n",
              "      <td>Random forest regression</td>\n",
              "      <td>0.152</td>\n",
              "      <td>0.052</td>\n",
              "      <td>0.228</td>\n",
              "      <td>0.827</td>\n",
              "      <td>0.83</td>\n",
              "    </tr>\n",
              "  </tbody>\n",
              "</table>\n",
              "</div>\n",
              "      <button class=\"colab-df-convert\" onclick=\"convertToInteractive('df-8608f3c9-fa5c-4bfe-9b1b-42d2c73d662e')\"\n",
              "              title=\"Convert this dataframe to an interactive table.\"\n",
              "              style=\"display:none;\">\n",
              "        \n",
              "  <svg xmlns=\"http://www.w3.org/2000/svg\" height=\"24px\"viewBox=\"0 0 24 24\"\n",
              "       width=\"24px\">\n",
              "    <path d=\"M0 0h24v24H0V0z\" fill=\"none\"/>\n",
              "    <path d=\"M18.56 5.44l.94 2.06.94-2.06 2.06-.94-2.06-.94-.94-2.06-.94 2.06-2.06.94zm-11 1L8.5 8.5l.94-2.06 2.06-.94-2.06-.94L8.5 2.5l-.94 2.06-2.06.94zm10 10l.94 2.06.94-2.06 2.06-.94-2.06-.94-.94-2.06-.94 2.06-2.06.94z\"/><path d=\"M17.41 7.96l-1.37-1.37c-.4-.4-.92-.59-1.43-.59-.52 0-1.04.2-1.43.59L10.3 9.45l-7.72 7.72c-.78.78-.78 2.05 0 2.83L4 21.41c.39.39.9.59 1.41.59.51 0 1.02-.2 1.41-.59l7.78-7.78 2.81-2.81c.8-.78.8-2.07 0-2.86zM5.41 20L4 18.59l7.72-7.72 1.47 1.35L5.41 20z\"/>\n",
              "  </svg>\n",
              "      </button>\n",
              "      \n",
              "  <style>\n",
              "    .colab-df-container {\n",
              "      display:flex;\n",
              "      flex-wrap:wrap;\n",
              "      gap: 12px;\n",
              "    }\n",
              "\n",
              "    .colab-df-convert {\n",
              "      background-color: #E8F0FE;\n",
              "      border: none;\n",
              "      border-radius: 50%;\n",
              "      cursor: pointer;\n",
              "      display: none;\n",
              "      fill: #1967D2;\n",
              "      height: 32px;\n",
              "      padding: 0 0 0 0;\n",
              "      width: 32px;\n",
              "    }\n",
              "\n",
              "    .colab-df-convert:hover {\n",
              "      background-color: #E2EBFA;\n",
              "      box-shadow: 0px 1px 2px rgba(60, 64, 67, 0.3), 0px 1px 3px 1px rgba(60, 64, 67, 0.15);\n",
              "      fill: #174EA6;\n",
              "    }\n",
              "\n",
              "    [theme=dark] .colab-df-convert {\n",
              "      background-color: #3B4455;\n",
              "      fill: #D2E3FC;\n",
              "    }\n",
              "\n",
              "    [theme=dark] .colab-df-convert:hover {\n",
              "      background-color: #434B5C;\n",
              "      box-shadow: 0px 1px 3px 1px rgba(0, 0, 0, 0.15);\n",
              "      filter: drop-shadow(0px 1px 2px rgba(0, 0, 0, 0.3));\n",
              "      fill: #FFFFFF;\n",
              "    }\n",
              "  </style>\n",
              "\n",
              "      <script>\n",
              "        const buttonEl =\n",
              "          document.querySelector('#df-8608f3c9-fa5c-4bfe-9b1b-42d2c73d662e button.colab-df-convert');\n",
              "        buttonEl.style.display =\n",
              "          google.colab.kernel.accessAllowed ? 'block' : 'none';\n",
              "\n",
              "        async function convertToInteractive(key) {\n",
              "          const element = document.querySelector('#df-8608f3c9-fa5c-4bfe-9b1b-42d2c73d662e');\n",
              "          const dataTable =\n",
              "            await google.colab.kernel.invokeFunction('convertToInteractive',\n",
              "                                                     [key], {});\n",
              "          if (!dataTable) return;\n",
              "\n",
              "          const docLinkHtml = 'Like what you see? Visit the ' +\n",
              "            '<a target=\"_blank\" href=https://colab.research.google.com/notebooks/data_table.ipynb>data table notebook</a>'\n",
              "            + ' to learn more about interactive tables.';\n",
              "          element.innerHTML = '';\n",
              "          dataTable['output_type'] = 'display_data';\n",
              "          await google.colab.output.renderOutput(dataTable, element);\n",
              "          const docLink = document.createElement('div');\n",
              "          docLink.innerHTML = docLinkHtml;\n",
              "          element.appendChild(docLink);\n",
              "        }\n",
              "      </script>\n",
              "    </div>\n",
              "  </div>\n",
              "  "
            ]
          },
          "metadata": {},
          "execution_count": 111
        }
      ]
    },
    {
      "cell_type": "markdown",
      "source": [
        "###**XGB Regressor**\n",
        "\n",
        "XGBoost is a powerful approach for building supervised regression models. The validity of this statement can be inferred by knowing about its (XGBoost) objective function and base learners. The objective function contains loss function and a regularization term. It tells about the difference between actual values and predicted values, i.e how far the model results are from the real values. The most common loss functions in XGBoost for regression problems is reg:linear, and that for binary classification is reg:logistics. Ensemble learning involves training and combining individual models (known as base learners) to get a single prediction, and XGBoost is one of the ensemble learning methods. XGBoost expects to have the base learners which are uniformly bad at the remainder so that when all the predictions are combined, bad predictions cancels out and better one sums up to form final good predictions."
      ],
      "metadata": {
        "id": "ARl00yB2VIm_"
      }
    },
    {
      "cell_type": "code",
      "source": [
        "# making a model object of XGB regressor.\n",
        "model = XGBRegressor()\n",
        "\n",
        "# fitting train data in XGB model. \n",
        "model.fit(X_train, y_train)"
      ],
      "metadata": {
        "colab": {
          "base_uri": "https://localhost:8080/"
        },
        "id": "PdlB0m-gVFJj",
        "outputId": "07dfec76-5d40-4395-8a3a-34cfee14077a"
      },
      "execution_count": null,
      "outputs": [
        {
          "output_type": "stream",
          "name": "stdout",
          "text": [
            "[17:15:54] WARNING: /workspace/src/objective/regression_obj.cu:152: reg:linear is now deprecated in favor of reg:squarederror.\n"
          ]
        },
        {
          "output_type": "execute_result",
          "data": {
            "text/plain": [
              "XGBRegressor()"
            ]
          },
          "metadata": {},
          "execution_count": 112
        }
      ]
    },
    {
      "cell_type": "code",
      "source": [
        "# predict on train data.\n",
        "y_pred_train_xgb = model.predict(X_train)\n",
        "\n",
        "# predict on test data.\n",
        "y_pred_test_xgb = model.predict(X_test)"
      ],
      "metadata": {
        "id": "UYLdXjHpVKjA"
      },
      "execution_count": null,
      "outputs": []
    },
    {
      "cell_type": "code",
      "source": [
        "# calculating model score on train data.\n",
        "print(\"Model Score:\", model.score(X_train,y_train))\n",
        "\n",
        "# calculating MSE\n",
        "MSE_d= mean_squared_error(y_train, y_pred_train_xgb)\n",
        "print(\"MSE :\", MSE_d)\n",
        "\n",
        "# calculating RMSE\n",
        "RMSE_d=np.sqrt(MSE_d)\n",
        "print(\"RMSE :\", RMSE_d)\n",
        "\n",
        "\n",
        "# calculating MAE\n",
        "MAE_d= mean_absolute_error(y_train, y_pred_train_xgb)\n",
        "print(\"MAE :\", MAE_d)\n",
        "\n",
        "# calculating r2\n",
        "r2_d= r2_score(y_train, y_pred_train_xgb)\n",
        "print(\"R2 :\", r2_d)\n",
        "\n",
        "# calculating adjusted r2\n",
        "Adjusted_R2_d=(1-(1-r2_score(y_train, y_pred_train_xgb))*((X_test.shape[0]-1)/(X_test.shape[0] - X_test.shape[1]-1)) )\n",
        "print(\"Adjusted R2 :\", Adjusted_R2_d )\n"
      ],
      "metadata": {
        "colab": {
          "base_uri": "https://localhost:8080/"
        },
        "id": "WZ82i3v6VL3h",
        "outputId": "36eb628b-2426-4e91-90ce-64452ac351fd"
      },
      "execution_count": null,
      "outputs": [
        {
          "output_type": "stream",
          "name": "stdout",
          "text": [
            "Model Score: 0.8337408290344033\n",
            "MSE : 0.04936074253434521\n",
            "RMSE : 0.22217277631236734\n",
            "MAE : 0.14968067134374866\n",
            "R2 : 0.8337408290344033\n",
            "Adjusted R2 : 0.8337030412977071\n"
          ]
        }
      ]
    },
    {
      "cell_type": "code",
      "source": [
        "# storing the train matrics in the train evaluation dataframe\n",
        "dict1={'Model':'XGBoost Regression ',\n",
        "       'MAE':round((MAE_d),3),\n",
        "       'MSE':round((MSE_d),3),\n",
        "       'RMSE':round((RMSE_d),3),\n",
        "       'R2_score':round((r2_d),3),\n",
        "       'Adjusted R2':round((Adjusted_R2_d),2)\n",
        "      }\n",
        "training_df=training_df.append(dict1,ignore_index=True)"
      ],
      "metadata": {
        "id": "MYIJZfJOVM7C"
      },
      "execution_count": null,
      "outputs": []
    },
    {
      "cell_type": "code",
      "source": [
        "# calculating MSE\n",
        "MSE_d= mean_squared_error(y_test, y_pred_test_xgb)\n",
        "print(\"MSE :\",MSE_d)\n",
        "\n",
        "# calculating RMSE\n",
        "RMSE_d=np.sqrt(MSE_d)\n",
        "print(\"RMSE :\",RMSE_d)\n",
        "\n",
        "\n",
        "# calculating MAE\n",
        "MAE_d= mean_absolute_error(y_test, y_pred_test_xgb)\n",
        "print(\"MAE :\",MAE_d)\n",
        "\n",
        "# calculating r2\n",
        "r2_d= r2_score((y_test), (y_pred_test_xgb))\n",
        "print(\"R2 :\",r2_d)\n",
        "\n",
        "# calculating adjusted r2\n",
        "Adjusted_R2_d=(1-(1-r2_score((y_test), (y_pred_test_xgb)))*((X_test.shape[0]-1)/(X_test.shape[0]-X_test.shape[1]-1)) )\n",
        "print(\"Adjusted R2 :\", Adjusted_R2_d )"
      ],
      "metadata": {
        "colab": {
          "base_uri": "https://localhost:8080/"
        },
        "id": "ba1vod6bVPj6",
        "outputId": "2c7077e7-0040-4ea2-bfe5-13c84325184f"
      },
      "execution_count": null,
      "outputs": [
        {
          "output_type": "stream",
          "name": "stdout",
          "text": [
            "MSE : 0.0507704434526587\n",
            "RMSE : 0.2253229758649985\n",
            "MAE : 0.15090163892911962\n",
            "R2 : 0.8306323349405429\n",
            "Adjusted R2 : 0.8305938406987219\n"
          ]
        }
      ]
    },
    {
      "cell_type": "code",
      "source": [
        "# storing the test matrics in the test evaluation dataframe\n",
        "dict2={'Model':'XGBoost regression ',\n",
        "       'MAE':round((MAE_d),3),\n",
        "       'MSE':round((MSE_d),3),\n",
        "       'RMSE':round((RMSE_d),3),\n",
        "       'R2_score':round((r2_d),3),\n",
        "       'Adjusted R2':round((Adjusted_R2_d),2)\n",
        "      }\n",
        "test_df=test_df.append(dict2,ignore_index=True)"
      ],
      "metadata": {
        "id": "BkXG5vjFVQi4"
      },
      "execution_count": null,
      "outputs": []
    },
    {
      "cell_type": "code",
      "source": [
        "training_df"
      ],
      "metadata": {
        "colab": {
          "base_uri": "https://localhost:8080/",
          "height": 269
        },
        "id": "wBgsxifxhEZP",
        "outputId": "33c9ac11-e1cc-4711-ca43-3856e0854436"
      },
      "execution_count": null,
      "outputs": [
        {
          "output_type": "execute_result",
          "data": {
            "text/plain": [
              "                       Model    MAE    MSE   RMSE  R2_score  Adjusted R2\n",
              "0         Linear regression   0.184  0.088  0.297     0.702         0.70\n",
              "1          Lasso regression   0.191  0.090  0.299     0.698         0.70\n",
              "2          Ridge regression   0.184  0.088  0.297     0.702         0.70\n",
              "3    Elastic net regression   0.251  0.128  0.357     0.570         0.57\n",
              "4  Decision tree regression   0.160  0.054  0.233     0.817         0.82\n",
              "5  Random forest regression   0.145  0.045  0.213     0.848         0.85\n",
              "6        XGBoost Regression   0.150  0.049  0.222     0.834         0.83"
            ],
            "text/html": [
              "\n",
              "  <div id=\"df-0cf45400-4f06-4404-ab92-6604118004b0\">\n",
              "    <div class=\"colab-df-container\">\n",
              "      <div>\n",
              "<style scoped>\n",
              "    .dataframe tbody tr th:only-of-type {\n",
              "        vertical-align: middle;\n",
              "    }\n",
              "\n",
              "    .dataframe tbody tr th {\n",
              "        vertical-align: top;\n",
              "    }\n",
              "\n",
              "    .dataframe thead th {\n",
              "        text-align: right;\n",
              "    }\n",
              "</style>\n",
              "<table border=\"1\" class=\"dataframe\">\n",
              "  <thead>\n",
              "    <tr style=\"text-align: right;\">\n",
              "      <th></th>\n",
              "      <th>Model</th>\n",
              "      <th>MAE</th>\n",
              "      <th>MSE</th>\n",
              "      <th>RMSE</th>\n",
              "      <th>R2_score</th>\n",
              "      <th>Adjusted R2</th>\n",
              "    </tr>\n",
              "  </thead>\n",
              "  <tbody>\n",
              "    <tr>\n",
              "      <th>0</th>\n",
              "      <td>Linear regression</td>\n",
              "      <td>0.184</td>\n",
              "      <td>0.088</td>\n",
              "      <td>0.297</td>\n",
              "      <td>0.702</td>\n",
              "      <td>0.70</td>\n",
              "    </tr>\n",
              "    <tr>\n",
              "      <th>1</th>\n",
              "      <td>Lasso regression</td>\n",
              "      <td>0.191</td>\n",
              "      <td>0.090</td>\n",
              "      <td>0.299</td>\n",
              "      <td>0.698</td>\n",
              "      <td>0.70</td>\n",
              "    </tr>\n",
              "    <tr>\n",
              "      <th>2</th>\n",
              "      <td>Ridge regression</td>\n",
              "      <td>0.184</td>\n",
              "      <td>0.088</td>\n",
              "      <td>0.297</td>\n",
              "      <td>0.702</td>\n",
              "      <td>0.70</td>\n",
              "    </tr>\n",
              "    <tr>\n",
              "      <th>3</th>\n",
              "      <td>Elastic net regression</td>\n",
              "      <td>0.251</td>\n",
              "      <td>0.128</td>\n",
              "      <td>0.357</td>\n",
              "      <td>0.570</td>\n",
              "      <td>0.57</td>\n",
              "    </tr>\n",
              "    <tr>\n",
              "      <th>4</th>\n",
              "      <td>Decision tree regression</td>\n",
              "      <td>0.160</td>\n",
              "      <td>0.054</td>\n",
              "      <td>0.233</td>\n",
              "      <td>0.817</td>\n",
              "      <td>0.82</td>\n",
              "    </tr>\n",
              "    <tr>\n",
              "      <th>5</th>\n",
              "      <td>Random forest regression</td>\n",
              "      <td>0.145</td>\n",
              "      <td>0.045</td>\n",
              "      <td>0.213</td>\n",
              "      <td>0.848</td>\n",
              "      <td>0.85</td>\n",
              "    </tr>\n",
              "    <tr>\n",
              "      <th>6</th>\n",
              "      <td>XGBoost Regression</td>\n",
              "      <td>0.150</td>\n",
              "      <td>0.049</td>\n",
              "      <td>0.222</td>\n",
              "      <td>0.834</td>\n",
              "      <td>0.83</td>\n",
              "    </tr>\n",
              "  </tbody>\n",
              "</table>\n",
              "</div>\n",
              "      <button class=\"colab-df-convert\" onclick=\"convertToInteractive('df-0cf45400-4f06-4404-ab92-6604118004b0')\"\n",
              "              title=\"Convert this dataframe to an interactive table.\"\n",
              "              style=\"display:none;\">\n",
              "        \n",
              "  <svg xmlns=\"http://www.w3.org/2000/svg\" height=\"24px\"viewBox=\"0 0 24 24\"\n",
              "       width=\"24px\">\n",
              "    <path d=\"M0 0h24v24H0V0z\" fill=\"none\"/>\n",
              "    <path d=\"M18.56 5.44l.94 2.06.94-2.06 2.06-.94-2.06-.94-.94-2.06-.94 2.06-2.06.94zm-11 1L8.5 8.5l.94-2.06 2.06-.94-2.06-.94L8.5 2.5l-.94 2.06-2.06.94zm10 10l.94 2.06.94-2.06 2.06-.94-2.06-.94-.94-2.06-.94 2.06-2.06.94z\"/><path d=\"M17.41 7.96l-1.37-1.37c-.4-.4-.92-.59-1.43-.59-.52 0-1.04.2-1.43.59L10.3 9.45l-7.72 7.72c-.78.78-.78 2.05 0 2.83L4 21.41c.39.39.9.59 1.41.59.51 0 1.02-.2 1.41-.59l7.78-7.78 2.81-2.81c.8-.78.8-2.07 0-2.86zM5.41 20L4 18.59l7.72-7.72 1.47 1.35L5.41 20z\"/>\n",
              "  </svg>\n",
              "      </button>\n",
              "      \n",
              "  <style>\n",
              "    .colab-df-container {\n",
              "      display:flex;\n",
              "      flex-wrap:wrap;\n",
              "      gap: 12px;\n",
              "    }\n",
              "\n",
              "    .colab-df-convert {\n",
              "      background-color: #E8F0FE;\n",
              "      border: none;\n",
              "      border-radius: 50%;\n",
              "      cursor: pointer;\n",
              "      display: none;\n",
              "      fill: #1967D2;\n",
              "      height: 32px;\n",
              "      padding: 0 0 0 0;\n",
              "      width: 32px;\n",
              "    }\n",
              "\n",
              "    .colab-df-convert:hover {\n",
              "      background-color: #E2EBFA;\n",
              "      box-shadow: 0px 1px 2px rgba(60, 64, 67, 0.3), 0px 1px 3px 1px rgba(60, 64, 67, 0.15);\n",
              "      fill: #174EA6;\n",
              "    }\n",
              "\n",
              "    [theme=dark] .colab-df-convert {\n",
              "      background-color: #3B4455;\n",
              "      fill: #D2E3FC;\n",
              "    }\n",
              "\n",
              "    [theme=dark] .colab-df-convert:hover {\n",
              "      background-color: #434B5C;\n",
              "      box-shadow: 0px 1px 3px 1px rgba(0, 0, 0, 0.15);\n",
              "      filter: drop-shadow(0px 1px 2px rgba(0, 0, 0, 0.3));\n",
              "      fill: #FFFFFF;\n",
              "    }\n",
              "  </style>\n",
              "\n",
              "      <script>\n",
              "        const buttonEl =\n",
              "          document.querySelector('#df-0cf45400-4f06-4404-ab92-6604118004b0 button.colab-df-convert');\n",
              "        buttonEl.style.display =\n",
              "          google.colab.kernel.accessAllowed ? 'block' : 'none';\n",
              "\n",
              "        async function convertToInteractive(key) {\n",
              "          const element = document.querySelector('#df-0cf45400-4f06-4404-ab92-6604118004b0');\n",
              "          const dataTable =\n",
              "            await google.colab.kernel.invokeFunction('convertToInteractive',\n",
              "                                                     [key], {});\n",
              "          if (!dataTable) return;\n",
              "\n",
              "          const docLinkHtml = 'Like what you see? Visit the ' +\n",
              "            '<a target=\"_blank\" href=https://colab.research.google.com/notebooks/data_table.ipynb>data table notebook</a>'\n",
              "            + ' to learn more about interactive tables.';\n",
              "          element.innerHTML = '';\n",
              "          dataTable['output_type'] = 'display_data';\n",
              "          await google.colab.output.renderOutput(dataTable, element);\n",
              "          const docLink = document.createElement('div');\n",
              "          docLink.innerHTML = docLinkHtml;\n",
              "          element.appendChild(docLink);\n",
              "        }\n",
              "      </script>\n",
              "    </div>\n",
              "  </div>\n",
              "  "
            ]
          },
          "metadata": {},
          "execution_count": 118
        }
      ]
    },
    {
      "cell_type": "code",
      "source": [
        "# display test evaluation dataframe.\n",
        "test_df"
      ],
      "metadata": {
        "colab": {
          "base_uri": "https://localhost:8080/",
          "height": 269
        },
        "id": "A65-N1TSVSq7",
        "outputId": "afbc87be-297c-49fe-9ddd-270f62aeec43"
      },
      "execution_count": null,
      "outputs": [
        {
          "output_type": "execute_result",
          "data": {
            "text/plain": [
              "                         Model    MAE    MSE   RMSE  R2_score  Adjusted R2\n",
              "0           Linear regression   0.185  0.092  0.302     0.695         0.69\n",
              "1            Lasso regression   0.192  0.092  0.303     0.693         0.69\n",
              "2            Ridge regression   0.185  0.092  0.302     0.695         0.69\n",
              "3  Elastic net regression Test  0.251  0.128  0.357     0.574         0.57\n",
              "4    Decision tree regression   0.162  0.058  0.240     0.808         0.81\n",
              "5    Random forest regression   0.152  0.052  0.228     0.827         0.83\n",
              "6          XGBoost regression   0.151  0.051  0.225     0.831         0.83"
            ],
            "text/html": [
              "\n",
              "  <div id=\"df-5fbc0458-41bd-4f23-ac2b-0c49947e2723\">\n",
              "    <div class=\"colab-df-container\">\n",
              "      <div>\n",
              "<style scoped>\n",
              "    .dataframe tbody tr th:only-of-type {\n",
              "        vertical-align: middle;\n",
              "    }\n",
              "\n",
              "    .dataframe tbody tr th {\n",
              "        vertical-align: top;\n",
              "    }\n",
              "\n",
              "    .dataframe thead th {\n",
              "        text-align: right;\n",
              "    }\n",
              "</style>\n",
              "<table border=\"1\" class=\"dataframe\">\n",
              "  <thead>\n",
              "    <tr style=\"text-align: right;\">\n",
              "      <th></th>\n",
              "      <th>Model</th>\n",
              "      <th>MAE</th>\n",
              "      <th>MSE</th>\n",
              "      <th>RMSE</th>\n",
              "      <th>R2_score</th>\n",
              "      <th>Adjusted R2</th>\n",
              "    </tr>\n",
              "  </thead>\n",
              "  <tbody>\n",
              "    <tr>\n",
              "      <th>0</th>\n",
              "      <td>Linear regression</td>\n",
              "      <td>0.185</td>\n",
              "      <td>0.092</td>\n",
              "      <td>0.302</td>\n",
              "      <td>0.695</td>\n",
              "      <td>0.69</td>\n",
              "    </tr>\n",
              "    <tr>\n",
              "      <th>1</th>\n",
              "      <td>Lasso regression</td>\n",
              "      <td>0.192</td>\n",
              "      <td>0.092</td>\n",
              "      <td>0.303</td>\n",
              "      <td>0.693</td>\n",
              "      <td>0.69</td>\n",
              "    </tr>\n",
              "    <tr>\n",
              "      <th>2</th>\n",
              "      <td>Ridge regression</td>\n",
              "      <td>0.185</td>\n",
              "      <td>0.092</td>\n",
              "      <td>0.302</td>\n",
              "      <td>0.695</td>\n",
              "      <td>0.69</td>\n",
              "    </tr>\n",
              "    <tr>\n",
              "      <th>3</th>\n",
              "      <td>Elastic net regression Test</td>\n",
              "      <td>0.251</td>\n",
              "      <td>0.128</td>\n",
              "      <td>0.357</td>\n",
              "      <td>0.574</td>\n",
              "      <td>0.57</td>\n",
              "    </tr>\n",
              "    <tr>\n",
              "      <th>4</th>\n",
              "      <td>Decision tree regression</td>\n",
              "      <td>0.162</td>\n",
              "      <td>0.058</td>\n",
              "      <td>0.240</td>\n",
              "      <td>0.808</td>\n",
              "      <td>0.81</td>\n",
              "    </tr>\n",
              "    <tr>\n",
              "      <th>5</th>\n",
              "      <td>Random forest regression</td>\n",
              "      <td>0.152</td>\n",
              "      <td>0.052</td>\n",
              "      <td>0.228</td>\n",
              "      <td>0.827</td>\n",
              "      <td>0.83</td>\n",
              "    </tr>\n",
              "    <tr>\n",
              "      <th>6</th>\n",
              "      <td>XGBoost regression</td>\n",
              "      <td>0.151</td>\n",
              "      <td>0.051</td>\n",
              "      <td>0.225</td>\n",
              "      <td>0.831</td>\n",
              "      <td>0.83</td>\n",
              "    </tr>\n",
              "  </tbody>\n",
              "</table>\n",
              "</div>\n",
              "      <button class=\"colab-df-convert\" onclick=\"convertToInteractive('df-5fbc0458-41bd-4f23-ac2b-0c49947e2723')\"\n",
              "              title=\"Convert this dataframe to an interactive table.\"\n",
              "              style=\"display:none;\">\n",
              "        \n",
              "  <svg xmlns=\"http://www.w3.org/2000/svg\" height=\"24px\"viewBox=\"0 0 24 24\"\n",
              "       width=\"24px\">\n",
              "    <path d=\"M0 0h24v24H0V0z\" fill=\"none\"/>\n",
              "    <path d=\"M18.56 5.44l.94 2.06.94-2.06 2.06-.94-2.06-.94-.94-2.06-.94 2.06-2.06.94zm-11 1L8.5 8.5l.94-2.06 2.06-.94-2.06-.94L8.5 2.5l-.94 2.06-2.06.94zm10 10l.94 2.06.94-2.06 2.06-.94-2.06-.94-.94-2.06-.94 2.06-2.06.94z\"/><path d=\"M17.41 7.96l-1.37-1.37c-.4-.4-.92-.59-1.43-.59-.52 0-1.04.2-1.43.59L10.3 9.45l-7.72 7.72c-.78.78-.78 2.05 0 2.83L4 21.41c.39.39.9.59 1.41.59.51 0 1.02-.2 1.41-.59l7.78-7.78 2.81-2.81c.8-.78.8-2.07 0-2.86zM5.41 20L4 18.59l7.72-7.72 1.47 1.35L5.41 20z\"/>\n",
              "  </svg>\n",
              "      </button>\n",
              "      \n",
              "  <style>\n",
              "    .colab-df-container {\n",
              "      display:flex;\n",
              "      flex-wrap:wrap;\n",
              "      gap: 12px;\n",
              "    }\n",
              "\n",
              "    .colab-df-convert {\n",
              "      background-color: #E8F0FE;\n",
              "      border: none;\n",
              "      border-radius: 50%;\n",
              "      cursor: pointer;\n",
              "      display: none;\n",
              "      fill: #1967D2;\n",
              "      height: 32px;\n",
              "      padding: 0 0 0 0;\n",
              "      width: 32px;\n",
              "    }\n",
              "\n",
              "    .colab-df-convert:hover {\n",
              "      background-color: #E2EBFA;\n",
              "      box-shadow: 0px 1px 2px rgba(60, 64, 67, 0.3), 0px 1px 3px 1px rgba(60, 64, 67, 0.15);\n",
              "      fill: #174EA6;\n",
              "    }\n",
              "\n",
              "    [theme=dark] .colab-df-convert {\n",
              "      background-color: #3B4455;\n",
              "      fill: #D2E3FC;\n",
              "    }\n",
              "\n",
              "    [theme=dark] .colab-df-convert:hover {\n",
              "      background-color: #434B5C;\n",
              "      box-shadow: 0px 1px 3px 1px rgba(0, 0, 0, 0.15);\n",
              "      filter: drop-shadow(0px 1px 2px rgba(0, 0, 0, 0.3));\n",
              "      fill: #FFFFFF;\n",
              "    }\n",
              "  </style>\n",
              "\n",
              "      <script>\n",
              "        const buttonEl =\n",
              "          document.querySelector('#df-5fbc0458-41bd-4f23-ac2b-0c49947e2723 button.colab-df-convert');\n",
              "        buttonEl.style.display =\n",
              "          google.colab.kernel.accessAllowed ? 'block' : 'none';\n",
              "\n",
              "        async function convertToInteractive(key) {\n",
              "          const element = document.querySelector('#df-5fbc0458-41bd-4f23-ac2b-0c49947e2723');\n",
              "          const dataTable =\n",
              "            await google.colab.kernel.invokeFunction('convertToInteractive',\n",
              "                                                     [key], {});\n",
              "          if (!dataTable) return;\n",
              "\n",
              "          const docLinkHtml = 'Like what you see? Visit the ' +\n",
              "            '<a target=\"_blank\" href=https://colab.research.google.com/notebooks/data_table.ipynb>data table notebook</a>'\n",
              "            + ' to learn more about interactive tables.';\n",
              "          element.innerHTML = '';\n",
              "          dataTable['output_type'] = 'display_data';\n",
              "          await google.colab.output.renderOutput(dataTable, element);\n",
              "          const docLink = document.createElement('div');\n",
              "          docLink.innerHTML = docLinkHtml;\n",
              "          element.appendChild(docLink);\n",
              "        }\n",
              "      </script>\n",
              "    </div>\n",
              "  </div>\n",
              "  "
            ]
          },
          "metadata": {},
          "execution_count": 119
        }
      ]
    },
    {
      "cell_type": "markdown",
      "source": [
        "## **Conclusion**"
      ],
      "metadata": {
        "id": "SkEsSaY33eU6"
      }
    },
    {
      "cell_type": "markdown",
      "source": [
        "We observed that our most significant feature was 'distnace' which we derived during Feature Engineering. It did wonders for the model accuracy as it's the one which has the maximum correlation with the target variable fare_amount.\n",
        "\n",
        "We were able to see that the linear algorithms were  performing optimally, and the tree-based algorithms performed significantly better. \n",
        "\n",
        "Out of the tree-based algorithms, the Random Forest Regressor was providing an optimal solution towards achieving our Objective. We were able to achieve an R2 score of 0.85 in the train split, and 0.83 in the test split. We also noticed that even in the case of Decision tree, we were able to achieve an R2 score of 0.81 in the test split. Also the XGBoost Regression was delivering the R2 score for train and test split as  0.834 and 0.830 respectively.\n"
      ],
      "metadata": {
        "id": "TC7bwxWr3ZCG"
      }
    },
    {
      "cell_type": "code",
      "source": [],
      "metadata": {
        "id": "WZp00n2a3Zy0"
      },
      "execution_count": null,
      "outputs": []
    }
  ]
}